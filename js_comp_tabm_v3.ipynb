{
 "cells": [
  {
   "cell_type": "code",
   "execution_count": 1,
   "metadata": {},
   "outputs": [
    {
     "name": "stderr",
     "output_type": "stream",
     "text": [
      "/home/mt/miniconda3/envs/tabm/lib/python3.10/site-packages/wandb/analytics/sentry.py:90: SentryHubDeprecationWarning: `sentry_sdk.Hub` is deprecated and will be removed in a future major release. Please consult our 1.x to 2.x migration guide for details on how to migrate `Hub` usage to the new API: https://docs.sentry.io/platforms/python/migration/1.x-to-2.x\n",
      "  self.hub = sentry_sdk.Hub(client)\n"
     ]
    }
   ],
   "source": [
    "import math\n",
    "import random\n",
    "import warnings\n",
    "from typing import Literal, NamedTuple\n",
    "import os\n",
    "import numpy as np\n",
    "import rtdl_num_embeddings  # https://github.com/yandex-research/rtdl-num-embeddings\n",
    "import scipy.special\n",
    "import sklearn.metrics\n",
    "import sklearn.model_selection\n",
    "import sklearn.preprocessing\n",
    "import torch\n",
    "import torch.nn as nn\n",
    "import torch.nn.functional as F\n",
    "import torch.optim\n",
    "from torch import Tensor\n",
    "from tqdm import tqdm\n",
    "\n",
    "warnings.simplefilter('ignore')\n",
    "from tabm_reference import Model, make_parameter_groups\n",
    "import polars as pl\n",
    "import pandas as pd \n",
    "import gc\n",
    "from sklearn.metrics import mean_squared_error, r2_score\n",
    "import joblib\n",
    "import torch\n",
    "import matplotlib.pyplot as plt\n",
    "import seaborn as sns \n",
    "import time\n",
    "import wandb"
   ]
  },
  {
   "cell_type": "code",
   "execution_count": 2,
   "metadata": {},
   "outputs": [],
   "source": [
    "def set_seed(seed):\n",
    "    random.seed(seed)\n",
    "    \n",
    "    np.random.seed(seed)\n",
    "    \n",
    "    torch.manual_seed(seed)\n",
    "    \n",
    "    if torch.cuda.is_available():\n",
    "        torch.cuda.manual_seed(seed)\n",
    "        torch.cuda.manual_seed_all(seed)\n",
    "\n",
    "set_seed(42) "
   ]
  },
  {
   "cell_type": "code",
   "execution_count": 4,
   "metadata": {},
   "outputs": [],
   "source": [
    "def plot_losses(res_dict):\n",
    "    plt.figure(figsize=(12, 7))\n",
    "\n",
    "    plt.plot(res_dict['train_r2'], label='Train R2', marker='s')\n",
    "    for i, val in enumerate(res_dict['train_r2']):\n",
    "        plt.annotate(f'{val:.4f}', (i, val), xytext=(5, 5), textcoords='offset points')\n",
    "\n",
    "    plt.plot(res_dict['test_r2'], label='Test R2', marker='^')\n",
    "    for i, val in enumerate(res_dict['test_r2']):\n",
    "        plt.annotate(f'{val:.4f}', (i, val), xytext=(5, 5), textcoords='offset points')\n",
    "\n",
    "    plt.title(f'{res_dict[\"details\"]}')\n",
    "    plt.xlabel('Iteration/Epoch')\n",
    "    plt.ylabel('Metric Value')\n",
    "    plt.legend()\n",
    "    plt.grid(True)\n",
    "    plt.tight_layout()\n",
    "    plt.show()\n",
    "    \n",
    "\n",
    "def create_daily_stats(train_df, target_col):\n",
    "    daily_avg = (\n",
    "        train_df\n",
    "        .group_by([\"symbol_id\", \"date_id\"], maintain_order=True)\n",
    "        .agg([pl.col(target_col).mean().alias(\"daily_avg\"), \n",
    "            pl.col(target_col).std().alias(\"daily_std\"),\n",
    "            pl.col(target_col).min().alias(\"daily_min\"),\n",
    "            pl.col(target_col).max().alias(\"daily_max\"),\n",
    "            pl.col(target_col).median().alias(\"daily_median\"),\n",
    "            pl.col(target_col).skew().alias(\"daily_skew\"),\n",
    "            pl.col(target_col).kurtosis().alias(\"daily_kurtosis\"),\n",
    "            pl.col(target_col).last().alias(\"last_value\"),\n",
    "            pl.col(target_col).first().alias(\"first_value\"),\n",
    "            (pl.col(target_col).max() - pl.col(target_col).min()).alias(\"daily_range\"),\n",
    "            pl.col(target_col).sum().alias(\"target_sum\"),\n",
    "            pl.col(target_col).count().alias(\"daily_count\")\n",
    "            ]\n",
    "            )\n",
    "    )\n",
    "    daily_avg = daily_avg.sort([\"date_id\", \"symbol_id\"])\n",
    "\n",
    "    columns_to_shift = [\"daily_avg\", \"daily_std\", \"daily_min\", \"daily_max\", \"daily_median\", \"daily_skew\", \"daily_kurtosis\", \"last_value\", \"first_value\",\n",
    "    \"daily_range\", \"target_sum\", \"daily_count\"]\n",
    "\n",
    "    daily_avg = daily_avg.with_columns([\n",
    "        pl.col(col_name)\n",
    "        .shift(1)\n",
    "        .over(\"symbol_id\")\n",
    "        .alias(f\"lag_1_{col_name}_{target_col}\")\n",
    "        for col_name in columns_to_shift\n",
    "    ])\n",
    "\n",
    "    s1 = [f\"lag_1_{col_name}_{target_col}\" for col_name in columns_to_shift if col_name != \"date_id\"]\n",
    "\n",
    "    selected_cols = [\"symbol_id\",\"date_id\"] + s1\n",
    "    daily_avg = daily_avg.select(selected_cols)\n",
    "\n",
    "    train_df = train_df.join(daily_avg,\n",
    "              on=[\"symbol_id\", \"date_id\"],\n",
    "              how=\"left\")\n",
    "\n",
    "    return train_df\n"
   ]
  },
  {
   "cell_type": "code",
   "execution_count": 5,
   "metadata": {},
   "outputs": [],
   "source": [
    "def create_daily_stats2(train_df, target_col):\n",
    "    daily_avg = (\n",
    "        train_df\n",
    "        .group_by([\"symbol_id\", \"date_id\"], maintain_order = True)\n",
    "        .agg([pl.col(target_col).mean().alias(\"daily_avg\"), \n",
    "            pl.col(target_col).std().alias(\"daily_std\"),\n",
    "            pl.col(target_col).min().alias(\"daily_min\"),\n",
    "            pl.col(target_col).max().alias(\"daily_max\"),\n",
    "            pl.col(target_col).median().alias(\"daily_median\"),\n",
    "            pl.col(target_col).last().alias(\"last_value\"),\n",
    "            (pl.col(target_col).max() - pl.col(target_col).min()).alias(\"daily_range\"),\n",
    "            pl.col(target_col).sum().alias(\"target_sum\"),\n",
    "            ]\n",
    "            )\n",
    "    )\n",
    "    daily_avg = daily_avg.sort([\"symbol_id\", \"date_id\"])\n",
    "\n",
    "    columns_to_shift = [\"daily_avg\", \"daily_std\", \"daily_min\", \"daily_max\", \"daily_median\", \"last_value\",\"daily_range\", \"target_sum\"]\n",
    "\n",
    "    daily_avg = daily_avg.with_columns([\n",
    "        pl.col(col_name)\n",
    "        .shift(1)\n",
    "        .over(\"symbol_id\")\n",
    "        .alias(f\"lag_1_{col_name}_{target_col}\")\n",
    "        for col_name in columns_to_shift\n",
    "    ])\n",
    "\n",
    "\n",
    "    s1 = [f\"lag_1_{col_name}_{target_col}\" for col_name in columns_to_shift if col_name != \"date_id\"]\n",
    "\n",
    "    selected_cols = [\"symbol_id\",\"date_id\"] + s1\n",
    "    daily_avg = daily_avg.select(selected_cols)\n",
    "\n",
    "    train_df = train_df.join(daily_avg,\n",
    "              on=[\"symbol_id\", \"date_id\"],\n",
    "              how=\"left\")\n",
    "              \n",
    "    return train_df"
   ]
  },
  {
   "cell_type": "code",
   "execution_count": 6,
   "metadata": {},
   "outputs": [
    {
     "name": "stdout",
     "output_type": "stream",
     "text": [
      "CPU times: user 1min 54s, sys: 24.4 s, total: 2min 18s\n",
      "Wall time: 9.88 s\n"
     ]
    }
   ],
   "source": [
    "%%time\n",
    "df_list = []\n",
    "for part_in in [\"6\",\"7\",\"8\",\"9\"]:\n",
    "    part_id = part_in\n",
    "    data_dir = f\"train.parquet/partition_id={part_id}/part-0.parquet\"\n",
    "    df_list.append(pl.read_parquet(data_dir))\n",
    "    gc.collect()\n",
    "\n",
    "train_df = pl.concat(df_list)\n",
    "del df_list\n",
    "gc.collect()\n",
    "\n",
    "train_df = train_df.sort([\"symbol_id\", \"date_id\", \"time_id\"])\n",
    "responder_cols = [col for col in train_df.columns if col.startswith('responder')]"
   ]
  },
  {
   "cell_type": "code",
   "execution_count": 9,
   "metadata": {},
   "outputs": [
    {
     "name": "stdout",
     "output_type": "stream",
     "text": [
      "CPU times: user 6.72 s, sys: 2.55 s, total: 9.27 s\n",
      "Wall time: 639 ms\n"
     ]
    },
    {
     "data": {
      "text/plain": [
       "0"
      ]
     },
     "execution_count": 9,
     "metadata": {},
     "output_type": "execute_result"
    }
   ],
   "source": [
    "%%time\n",
    "for col_name in [\"responder_6\"]:\n",
    "    train_df = create_daily_stats(train_df, col_name)\n",
    "gc.collect()"
   ]
  },
  {
   "cell_type": "code",
   "execution_count": 10,
   "metadata": {},
   "outputs": [
    {
     "name": "stdout",
     "output_type": "stream",
     "text": [
      "CPU times: user 2min 21s, sys: 1min 55s, total: 4min 17s\n",
      "Wall time: 16.9 s\n"
     ]
    },
    {
     "data": {
      "text/plain": [
       "0"
      ]
     },
     "execution_count": 10,
     "metadata": {},
     "output_type": "execute_result"
    }
   ],
   "source": [
    "%%time\n",
    "for col_name in [\"responder_0\",\"responder_1\",\"responder_2\",\"responder_3\",\"responder_4\",\"responder_5\",\"responder_7\",\"responder_8\"]:\n",
    "    train_df = create_daily_stats2(train_df, col_name)\n",
    "gc.collect()"
   ]
  },
  {
   "cell_type": "code",
   "execution_count": 11,
   "metadata": {},
   "outputs": [],
   "source": [
    "default_features = [f\"feature_{idx:02d}\" for idx in range(79)]\n",
    "train_df = train_df.with_columns(null_count = pl.sum_horizontal([pl.col(col).is_null() for col in default_features]))"
   ]
  },
  {
   "cell_type": "code",
   "execution_count": 12,
   "metadata": {},
   "outputs": [],
   "source": [
    "train_df = train_df.fill_null(0)\n",
    "train_df = train_df.fill_nan(0)"
   ]
  },
  {
   "cell_type": "code",
   "execution_count": 13,
   "metadata": {},
   "outputs": [
    {
     "data": {
      "text/plain": [
       "0"
      ]
     },
     "execution_count": 13,
     "metadata": {},
     "output_type": "execute_result"
    }
   ],
   "source": [
    "train_df = train_df.with_columns([\n",
    "    (2 * np.pi * pl.col(\"time_id\") / 967).sin().alias(\"sin_time_id\").cast(pl.Float32),\n",
    "    (2 * np.pi * pl.col(\"time_id\") / 967).cos().alias(\"cos_time_id\").cast(pl.Float32),\n",
    "])\n",
    "gc.collect()"
   ]
  },
  {
   "cell_type": "code",
   "execution_count": 15,
   "metadata": {},
   "outputs": [
    {
     "data": {
      "text/plain": [
       "115"
      ]
     },
     "execution_count": 15,
     "metadata": {},
     "output_type": "execute_result"
    }
   ],
   "source": [
    "feature_cols = joblib.load(\"model_cols/cb_v18_model_cols.pkl\")\n",
    "len(feature_cols)"
   ]
  },
  {
   "cell_type": "code",
   "execution_count": 16,
   "metadata": {},
   "outputs": [],
   "source": [
    "feature_cols = list(set(feature_cols + default_features))"
   ]
  },
  {
   "cell_type": "code",
   "execution_count": 17,
   "metadata": {},
   "outputs": [
    {
     "data": {
      "text/plain": [
       "120"
      ]
     },
     "execution_count": 17,
     "metadata": {},
     "output_type": "execute_result"
    }
   ],
   "source": [
    "len(feature_cols)"
   ]
  },
  {
   "cell_type": "code",
   "execution_count": 18,
   "metadata": {},
   "outputs": [],
   "source": [
    "cat_cols = [\"symbol_id\", \"feature_10\"]"
   ]
  },
  {
   "cell_type": "code",
   "execution_count": 19,
   "metadata": {},
   "outputs": [],
   "source": [
    "def prepare_data_for_tabm(df, feature_cols, cat_cols, add_noise = False, noise_scale = 0.001):\n",
    "    numeric_cols = [x for x in feature_cols if not x in cat_cols]\n",
    "    cat_cardinalities = [42, 15]\n",
    "\n",
    "    y_train_np = df.filter(pl.col(\"date_id\") < 1550).select(\"responder_6\").to_numpy().astype(np.float32)\n",
    "    y_test_np = df.filter(pl.col(\"date_id\") >= 1550).select(\"responder_6\").to_numpy().astype(np.float32)\n",
    "\n",
    "\n",
    "    X_cont_train = df.filter(pl.col(\"date_id\") < 1550).select(numeric_cols).to_numpy().astype(np.float32)\n",
    "    X_cont_test = df.filter(pl.col(\"date_id\") >= 1550).select(numeric_cols).to_numpy().astype(np.float32)\n",
    "    X_cat_train = df.filter(pl.col(\"date_id\") < 1550).select(cat_cols).to_numpy().astype(np.int64)\n",
    "    X_cat_test = df.filter(pl.col(\"date_id\") >= 1550).select(cat_cols).to_numpy().astype(np.int64)\n",
    "    \n",
    "    train_weights = df.filter(pl.col(\"date_id\") < 1550).select(\"weight\").to_numpy().astype(np.float32)\n",
    "    test_weights = df.filter(pl.col(\"date_id\") >= 1550).select(\"weight\").to_numpy().astype(np.float32)\n",
    "\n",
    "    data_numpy = {\n",
    "        'train': {\n",
    "            'x_cont': X_cont_train,\n",
    "            'x_cat': X_cat_train,\n",
    "            'y': y_train_np.astype(np.float32),\n",
    "            'weights' : train_weights,\n",
    "        },\n",
    "        'test': {\n",
    "            'x_cont': X_cont_test,\n",
    "            'x_cat': X_cat_test,\n",
    "            'y': y_test_np.astype(np.float32),\n",
    "            'weights': test_weights,\n",
    "        },\n",
    "        }\n",
    "\n",
    "    if add_noise:\n",
    "        noise = (\n",
    "            np.random.default_rng(0)\n",
    "            .normal(0.0, noise_scale, X_cont_train.shape)\n",
    "            .astype(X_cont_train.dtype)\n",
    "        )\n",
    "        preprocessing = sklearn.preprocessing.StandardScaler().fit(data_numpy['train']['x_cont'] + noise)\n",
    "    else:\n",
    "        preprocessing = sklearn.preprocessing.StandardScaler().fit(data_numpy['train']['x_cont'])\n",
    "    \n",
    "    for part in data_numpy:\n",
    "        data_numpy[part]['x_cont'] = preprocessing.transform(data_numpy[part]['x_cont']).astype(np.float32)\n",
    "    \n",
    "    return data_numpy, cat_cardinalities, preprocessing"
   ]
  },
  {
   "cell_type": "code",
   "execution_count": 20,
   "metadata": {},
   "outputs": [],
   "source": [
    "def prepare_data_for_inference(df, feature_cols, cat_cols):\n",
    "    numeric_cols = [x for x in feature_cols if not x in cat_cols]\n",
    "    cat_cardinalities = [42, 15]\n",
    "    y_train = df.select(\"responder_6\")\n",
    "    y_train_np = y_train.to_numpy()\n",
    "\n",
    "    X_cont_train = df.select(numeric_cols).to_numpy().astype(np.float32)\n",
    "    X_cat_train = df.select(cat_cols).to_numpy().astype(np.int64)\n",
    "    weights = df.select(\"weight\").to_numpy().astype(np.float32)\n",
    "    data_numpy = {\n",
    "        'train': {\n",
    "            'x_cont': X_cont_train,\n",
    "            'x_cat': X_cat_train,\n",
    "            'y': y_train_np.astype(np.float32),\n",
    "            'weights': weights\n",
    "        }\n",
    "        }\n",
    "    preprocessing = sklearn.preprocessing.StandardScaler().fit(\n",
    "    data_numpy['train']['x_cont'])\n",
    "    for part in data_numpy:\n",
    "        data_numpy[part]['x_cont'] = preprocessing.transform(data_numpy[part]['x_cont']).astype(np.float32)\n",
    "    return data_numpy, cat_cardinalities, preprocessing"
   ]
  },
  {
   "cell_type": "code",
   "execution_count": 21,
   "metadata": {},
   "outputs": [
    {
     "name": "stdout",
     "output_type": "stream",
     "text": [
      "CPU times: user 25.3 s, sys: 1min, total: 1min 25s\n",
      "Wall time: 16.3 s\n"
     ]
    }
   ],
   "source": [
    "%%time\n",
    "data_numpy, cat_cardinalities, scaler = prepare_data_for_tabm(train_df, feature_cols, cat_cols, add_noise = False)"
   ]
  },
  {
   "cell_type": "code",
   "execution_count": 22,
   "metadata": {},
   "outputs": [
    {
     "data": {
      "text/plain": [
       "RegressionLabelStats(mean=-0.0014552467036992311, std=0.8571650385856628)"
      ]
     },
     "execution_count": 22,
     "metadata": {},
     "output_type": "execute_result"
    }
   ],
   "source": [
    "task_type = 'regression'\n",
    "n_classes = None\n",
    "class RegressionLabelStats(NamedTuple):\n",
    "    mean: float\n",
    "    std: float\n",
    "\n",
    "Y_train = data_numpy['train']['y'].copy()\n",
    "if task_type == 'regression':\n",
    "    # For regression tasks, it is highly recommended to standardize the training labels.\n",
    "    regression_label_stats = RegressionLabelStats(\n",
    "        Y_train.mean().item(), Y_train.std().item()\n",
    "    )\n",
    "    Y_train = (Y_train - regression_label_stats.mean) / regression_label_stats.std\n",
    "else:\n",
    "    regression_label_stats = None\n",
    "\n",
    "regression_label_stats"
   ]
  },
  {
   "cell_type": "code",
   "execution_count": 23,
   "metadata": {},
   "outputs": [],
   "source": [
    "device = torch.device('cuda:0' if torch.cuda.is_available() else 'cpu')\n",
    "\n",
    "data = {\n",
    "    part: {k: torch.as_tensor(v, device=device) for k, v in data_numpy[part].items()}\n",
    "    for part in data_numpy\n",
    "}\n",
    "Y_train = torch.as_tensor(Y_train, device=device)\n",
    "if task_type == 'regression':\n",
    "    for part in data:\n",
    "        data[part]['y'] = data[part]['y'].float()\n",
    "    Y_train = Y_train.float()"
   ]
  },
  {
   "cell_type": "code",
   "execution_count": 24,
   "metadata": {},
   "outputs": [
    {
     "name": "stdout",
     "output_type": "stream",
     "text": [
      "Device:        CUDA\n",
      "AMP:           True (dtype: torch.bfloat16)\n",
      "torch.compile: False\n"
     ]
    }
   ],
   "source": [
    "device = torch.device('cuda:0' if torch.cuda.is_available() else 'cpu')\n",
    "amp_dtype = (\n",
    "    torch.bfloat16\n",
    "    if torch.cuda.is_available() and torch.cuda.is_bf16_supported()\n",
    "    else torch.float16\n",
    "    if torch.cuda.is_available()\n",
    "    else None\n",
    ")\n",
    "amp_enabled = True and amp_dtype is not None\n",
    "grad_scaler = torch.cuda.amp.GradScaler() if amp_dtype is torch.float16 else None  # type: ignore\n",
    "\n",
    "compile_model = False\n",
    "\n",
    "print(\n",
    "    f'Device:        {device.type.upper()}'\n",
    "    f'\\nAMP:           {amp_enabled} (dtype: {amp_dtype})'\n",
    "    f'\\ntorch.compile: {compile_model}'\n",
    ")"
   ]
  },
  {
   "cell_type": "code",
   "execution_count": 26,
   "metadata": {},
   "outputs": [],
   "source": [
    "if compile_model:\n",
    "    model = torch.compile(model)\n",
    "    evaluation_mode = torch.no_grad\n",
    "else:\n",
    "    evaluation_mode = torch.inference_mode"
   ]
  },
  {
   "cell_type": "code",
   "execution_count": 28,
   "metadata": {},
   "outputs": [],
   "source": [
    "device = torch.device('cuda:0' if torch.cuda.is_available() else 'cpu')\n",
    "@torch.autocast(device.type, enabled=amp_enabled, dtype=amp_dtype)  # type: ignore[code]\n",
    "def apply_model(part: str, idx: Tensor, inp_model) -> Tensor:\n",
    "    return (\n",
    "        inp_model(\n",
    "            data[part]['x_cont'][idx],\n",
    "            data[part]['x_cat'][idx] if 'x_cat' in data[part] else None,\n",
    "        )\n",
    "        .squeeze(-1)\n",
    "        .float()\n",
    "    )\n",
    "    \n",
    "base_loss_fn2 = torch.nn.MSELoss(reduction='none').to(device)\n",
    "\n",
    "def loss_fn2(y_pred: Tensor, y_true: Tensor, weight) -> Tensor:\n",
    "    k = y_pred.shape[-1 if task_type == 'regression' else -2]\n",
    "    sample_losses = base_loss_fn2(y_pred.flatten(0, 1), y_true.repeat_interleave(k))\n",
    "    return (sample_losses * weight).mean()\n"
   ]
  },
  {
   "cell_type": "code",
   "execution_count": 30,
   "metadata": {},
   "outputs": [],
   "source": [
    "def train_step(model, optimizer, loss_fn, batch_size, device):\n",
    "    model.train()\n",
    "    total_loss = 0.0\n",
    "    total_r2 = 0.0\n",
    "    total_rmse = 0.0\n",
    "    total_samples = len(data['train']['y'])\n",
    "    step_count = 0 \n",
    "    y_preds_list = []\n",
    "    y_true_list = []\n",
    "    weights_list = []\n",
    "    with tqdm(torch.randperm(total_samples, device=device).split(batch_size),\n",
    "        desc=\"Training\",\n",
    "        total=math.ceil(total_samples / batch_size),\n",
    "        leave=True) as pbar:\n",
    "            for batch_idx in pbar:\n",
    "                step_count += 1\n",
    "                optimizer.zero_grad()\n",
    "                y_pred = apply_model('train', batch_idx, model)\n",
    "                y_true = Y_train[batch_idx]\n",
    "                s_weights = data[\"train\"][\"weights\"][batch_idx]\n",
    "                loss = loss_fn2(y_pred, y_true, s_weights)\n",
    "\n",
    "                loss.backward()\n",
    "                optimizer.step()\n",
    "\n",
    "                total_loss += loss.item()\n",
    "\n",
    "                y_preds_cpu = y_pred.detach().cpu().numpy()\n",
    "                y_preds_cpu = y_preds_cpu * regression_label_stats.std + regression_label_stats.mean\n",
    "                y_preds_cpu = y_preds_cpu.mean(axis = 1)\n",
    "                y_preds_cpu = np.clip(y_preds_cpu, -5, 5)\n",
    "                y_true_cpu = data_numpy[\"train\"][\"y\"][batch_idx.cpu().numpy()]\n",
    "\n",
    "                y_true_list.append(y_true_cpu)\n",
    "                y_preds_list.append(y_preds_cpu)\n",
    "                weights_list.append(s_weights.cpu().numpy())\n",
    "\n",
    "                rmse = mean_squared_error(y_true_cpu, y_preds_cpu, squared = False, sample_weight=s_weights.cpu().numpy())\n",
    "                total_rmse += rmse\n",
    "\n",
    "\n",
    "                running_loss = total_loss / (step_count)\n",
    "                running_rmse = total_rmse / (step_count)\n",
    "\n",
    "                if step_count % 400 == 0:\n",
    "                    running_r2 = r2_score(np.concatenate(y_true_list), np.concatenate(y_preds_list), sample_weight=np.concatenate(weights_list))\n",
    "                    pbar.set_postfix({\"Loss\": running_loss,\"rmse\": running_rmse ,\"R²\": running_r2})\n",
    "\n",
    "    avg_loss = total_loss / step_count\n",
    "    \n",
    "    y_preds_list = np.concatenate(y_preds_list)\n",
    "    y_true_list = np.concatenate(y_true_list)\n",
    "    avg_r2 = r2_score(y_true_list, y_preds_list, sample_weight=np.concatenate(weights_list))\n",
    "    avg_rmse = mean_squared_error(y_true_list, y_preds_list, squared = False, sample_weight=np.concatenate(weights_list))\n",
    "    return avg_loss, avg_r2, avg_rmse\n",
    "\n",
    "def test_step(model, batch_size, device):\n",
    "    model.eval()\n",
    "    total_loss = 0.0\n",
    "    total_r2 = 0.0\n",
    "    y_preds_list = []\n",
    "    y_true_list = []\n",
    "    total_samples = len(data['test']['y'])\n",
    "    step_count = 0\n",
    "    weights_list = []\n",
    "    with torch.no_grad():\n",
    "        with tqdm(\n",
    "            torch.arange(total_samples, device=device).split(batch_size),\n",
    "            desc=\"Testing\",\n",
    "            total=math.ceil(total_samples / batch_size),\n",
    "            leave=True,\n",
    "        ) as pbar:\n",
    "\n",
    "            for batch_idx in pbar:  \n",
    "                step_count += 1\n",
    "                y_pred = apply_model('test', batch_idx, model)\n",
    "                y_true = data_numpy['test']['y'][batch_idx.cpu().numpy()]\n",
    "                s_weights = data_numpy['test'][\"weights\"][batch_idx.cpu().numpy()]\n",
    "\n",
    "                y_preds_cpu = y_pred.detach().cpu().numpy()\n",
    "                y_preds_cpu = y_preds_cpu * regression_label_stats.std + regression_label_stats.mean\n",
    "                y_preds_cpu = y_preds_cpu.mean(axis = 1)\n",
    "                y_preds_cpu = np.clip(y_preds_cpu, -5, 5)\n",
    "                \n",
    "                loss = mean_squared_error(y_true, y_preds_cpu, squared = False, sample_weight=s_weights)\n",
    "\n",
    "                total_loss += loss \n",
    "                y_true_list.append(y_true)\n",
    "                y_preds_list.append(y_preds_cpu)\n",
    "\n",
    "                running_loss = total_loss / (step_count)\n",
    "                weights_list.append(s_weights)\n",
    "                if step_count % 150 == 0:\n",
    "                    running_r2 = r2_score(np.concatenate(y_true_list), np.concatenate(y_preds_list), sample_weight=np.concatenate(weights_list))\n",
    "                    pbar.set_postfix({\"Loss\": running_loss, \"R²\": running_r2})\n",
    "\n",
    "\n",
    "    y_preds_list = np.concatenate(y_preds_list)\n",
    "    y_true_list = np.concatenate(y_true_list)\n",
    "\n",
    "    final_r2 = r2_score(y_true_list, y_preds_list, sample_weight=np.concatenate(weights_list))\n",
    "    avg_loss = mean_squared_error(y_true_list, y_preds_list, squared = False, sample_weight=np.concatenate(weights_list))\n",
    "\n",
    "    return avg_loss, final_r2"
   ]
  },
  {
   "cell_type": "markdown",
   "metadata": {},
   "source": [
    "# Training Experiments"
   ]
  },
  {
   "cell_type": "code",
   "execution_count": 30,
   "metadata": {},
   "outputs": [
    {
     "name": "stderr",
     "output_type": "stream",
     "text": [
      "Failed to detect the name of this notebook, you can set it manually with the WANDB_NOTEBOOK_NAME environment variable to enable code saving.\n",
      "\u001b[34m\u001b[1mwandb\u001b[0m: Currently logged in as: \u001b[33mturkenm\u001b[0m. Use \u001b[1m`wandb login --relogin`\u001b[0m to force relogin\n",
      "/home/mt/miniconda3/envs/tabm/lib/python3.10/site-packages/wandb/sdk/lib/ipython.py:77: DeprecationWarning: Importing display from IPython.core.display is deprecated since IPython 7.14, please import from IPython display\n",
      "  from IPython.core.display import HTML, display  # type: ignore\n"
     ]
    },
    {
     "data": {
      "text/html": [
       "wandb version 0.19.2 is available!  To upgrade, please run:\n",
       " $ pip install wandb --upgrade"
      ],
      "text/plain": [
       "<IPython.core.display.HTML object>"
      ]
     },
     "metadata": {},
     "output_type": "display_data"
    },
    {
     "data": {
      "text/html": [
       "Tracking run with wandb version 0.16.6"
      ],
      "text/plain": [
       "<IPython.core.display.HTML object>"
      ]
     },
     "metadata": {},
     "output_type": "display_data"
    },
    {
     "data": {
      "text/html": [
       "Run data is saved locally in <code>/home/mt/Desktop/JaneStreet-Comp/wandb/run-20250112_151817-03zi9fzq</code>"
      ],
      "text/plain": [
       "<IPython.core.display.HTML object>"
      ]
     },
     "metadata": {},
     "output_type": "display_data"
    },
    {
     "data": {
      "text/html": [
       "Syncing run <strong><a href='https://wandb.ai/turkenm/js_tabm/runs/03zi9fzq' target=\"_blank\">exp_tabm-mini_dblocks_128_nblocks_3_LR_2e-04_BS_1024_DR_0.1_k_32_id_84296</a></strong> to <a href='https://wandb.ai/turkenm/js_tabm' target=\"_blank\">Weights & Biases</a> (<a href='https://wandb.me/run' target=\"_blank\">docs</a>)<br/>"
      ],
      "text/plain": [
       "<IPython.core.display.HTML object>"
      ]
     },
     "metadata": {},
     "output_type": "display_data"
    },
    {
     "data": {
      "text/html": [
       " View project at <a href='https://wandb.ai/turkenm/js_tabm' target=\"_blank\">https://wandb.ai/turkenm/js_tabm</a>"
      ],
      "text/plain": [
       "<IPython.core.display.HTML object>"
      ]
     },
     "metadata": {},
     "output_type": "display_data"
    },
    {
     "data": {
      "text/html": [
       " View run at <a href='https://wandb.ai/turkenm/js_tabm/runs/03zi9fzq' target=\"_blank\">https://wandb.ai/turkenm/js_tabm/runs/03zi9fzq</a>"
      ],
      "text/plain": [
       "<IPython.core.display.HTML object>"
      ]
     },
     "metadata": {},
     "output_type": "display_data"
    },
    {
     "name": "stdout",
     "output_type": "stream",
     "text": [
      "EXPERIMENT exp_tabm-mini_dblocks_128_nblocks_3_LR_2e-04_BS_1024_DR_0.1_k_32_id_84296\n",
      "\n",
      "\n",
      "Epoch 1:\n"
     ]
    },
    {
     "name": "stderr",
     "output_type": "stream",
     "text": [
      "Training: 100%|██████████| 18964/18964 [00:55<00:00, 342.43it/s, Loss=2.11, rmse=0.822, R²=0.0146]\n",
      "Testing: 100%|██████████| 676/676 [00:01<00:00, 374.49it/s, Loss=0.76, R²=0.00789] \n"
     ]
    },
    {
     "name": "stdout",
     "output_type": "stream",
     "text": [
      "Train rmse: 0.82355, Train R2: 0.01459, Train loss: 2.10645\n",
      "Test loss: 0.79891, Test R2: 0.00772\n",
      "Model Saved - Epoch 1 - Test R2: 0.00772\n",
      "\n",
      "\n",
      "Epoch 2:\n"
     ]
    },
    {
     "name": "stderr",
     "output_type": "stream",
     "text": [
      "Training: 100%|██████████| 18964/18964 [00:54<00:00, 345.03it/s, Loss=2.1, rmse=0.82, R²=0.02]  \n",
      "Testing: 100%|██████████| 676/676 [00:01<00:00, 407.72it/s, Loss=0.76, R²=0.00795] \n"
     ]
    },
    {
     "name": "stdout",
     "output_type": "stream",
     "text": [
      "Train rmse: 0.82126, Train R2: 0.02005, Train loss: 2.09768\n",
      "Test loss: 0.79889, Test R2: 0.00777\n",
      "Model Saved - Epoch 2 - Test R2: 0.00777\n",
      "\n",
      "\n",
      "Epoch 3:\n"
     ]
    },
    {
     "name": "stderr",
     "output_type": "stream",
     "text": [
      "Training: 100%|██████████| 18964/18964 [00:55<00:00, 344.12it/s, Loss=2.09, rmse=0.819, R²=0.022] \n",
      "Testing: 100%|██████████| 676/676 [00:01<00:00, 405.41it/s, Loss=0.76, R²=0.0086]  \n"
     ]
    },
    {
     "name": "stdout",
     "output_type": "stream",
     "text": [
      "Train rmse: 0.82044, Train R2: 0.02202, Train loss: 2.09461\n",
      "Test loss: 0.79862, Test R2: 0.00844\n",
      "Model Saved - Epoch 3 - Test R2: 0.00844\n",
      "\n",
      "\n",
      "Epoch 4:\n"
     ]
    },
    {
     "name": "stderr",
     "output_type": "stream",
     "text": [
      "Training: 100%|██████████| 18964/18964 [00:54<00:00, 345.77it/s, Loss=2.09, rmse=0.819, R²=0.0233]\n",
      "Testing: 100%|██████████| 676/676 [00:01<00:00, 402.67it/s, Loss=0.76, R²=0.00885] \n"
     ]
    },
    {
     "name": "stdout",
     "output_type": "stream",
     "text": [
      "Train rmse: 0.81988, Train R2: 0.02335, Train loss: 2.09267\n",
      "Test loss: 0.79853, Test R2: 0.00867\n",
      "Model Saved - Epoch 4 - Test R2: 0.00867\n",
      "\n",
      "\n",
      "Epoch 5:\n"
     ]
    },
    {
     "name": "stderr",
     "output_type": "stream",
     "text": [
      "Training: 100%|██████████| 18964/18964 [00:54<00:00, 349.28it/s, Loss=2.09, rmse=0.818, R²=0.0244]\n",
      "Testing: 100%|██████████| 676/676 [00:01<00:00, 405.78it/s, Loss=0.76, R²=0.00909] \n"
     ]
    },
    {
     "name": "stdout",
     "output_type": "stream",
     "text": [
      "Train rmse: 0.81945, Train R2: 0.02438, Train loss: 2.09124\n",
      "Test loss: 0.79844, Test R2: 0.00889\n",
      "Model Saved - Epoch 5 - Test R2: 0.00889\n",
      "\n",
      "\n",
      "Epoch 6:\n"
     ]
    },
    {
     "name": "stderr",
     "output_type": "stream",
     "text": [
      "Training: 100%|██████████| 18964/18964 [00:54<00:00, 346.57it/s, Loss=2.09, rmse=0.818, R²=0.0252]\n",
      "Testing: 100%|██████████| 676/676 [00:01<00:00, 405.26it/s, Loss=0.759, R²=0.00928]\n"
     ]
    },
    {
     "name": "stdout",
     "output_type": "stream",
     "text": [
      "Train rmse: 0.81907, Train R2: 0.02527, Train loss: 2.08998\n",
      "Test loss: 0.79836, Test R2: 0.00909\n",
      "Model Saved - Epoch 6 - Test R2: 0.00909\n",
      "\n",
      "\n",
      "Epoch 7:\n"
     ]
    },
    {
     "name": "stderr",
     "output_type": "stream",
     "text": [
      "Training: 100%|██████████| 18964/18964 [00:54<00:00, 346.87it/s, Loss=2.09, rmse=0.818, R²=0.0261]\n",
      "Testing: 100%|██████████| 676/676 [00:01<00:00, 405.75it/s, Loss=0.759, R²=0.0092] \n"
     ]
    },
    {
     "name": "stdout",
     "output_type": "stream",
     "text": [
      "Train rmse: 0.81872, Train R2: 0.02612, Train loss: 2.08873\n",
      "Test loss: 0.79838, Test R2: 0.00904\n",
      "\n",
      "Epoch 8:\n"
     ]
    },
    {
     "name": "stderr",
     "output_type": "stream",
     "text": [
      "Training: 100%|██████████| 18964/18964 [00:54<00:00, 345.58it/s, Loss=2.09, rmse=0.817, R²=0.0269]\n",
      "Testing: 100%|██████████| 676/676 [00:01<00:00, 406.25it/s, Loss=0.759, R²=0.00929]\n"
     ]
    },
    {
     "name": "stdout",
     "output_type": "stream",
     "text": [
      "Train rmse: 0.81839, Train R2: 0.02691, Train loss: 2.08765\n",
      "Test loss: 0.79837, Test R2: 0.00908\n",
      "\n",
      "Epoch 9:\n"
     ]
    },
    {
     "name": "stderr",
     "output_type": "stream",
     "text": [
      "Training: 100%|██████████| 18964/18964 [00:54<00:00, 345.70it/s, Loss=2.09, rmse=0.817, R²=0.0277]\n",
      "Testing: 100%|██████████| 676/676 [00:01<00:00, 405.28it/s, Loss=0.759, R²=0.00929]\n"
     ]
    },
    {
     "name": "stdout",
     "output_type": "stream",
     "text": [
      "Train rmse: 0.81805, Train R2: 0.02771, Train loss: 2.08645\n",
      "Test loss: 0.79836, Test R2: 0.00908\n",
      "\n",
      "Epoch 10:\n"
     ]
    },
    {
     "name": "stderr",
     "output_type": "stream",
     "text": [
      "Training: 100%|██████████| 18964/18964 [00:55<00:00, 343.16it/s, Loss=2.08, rmse=0.817, R²=0.0287]\n",
      "Testing: 100%|██████████| 676/676 [00:01<00:00, 405.47it/s, Loss=0.759, R²=0.00949]\n"
     ]
    },
    {
     "name": "stdout",
     "output_type": "stream",
     "text": [
      "Train rmse: 0.81765, Train R2: 0.02866, Train loss: 2.08500\n",
      "Test loss: 0.79828, Test R2: 0.00929\n",
      "Model Saved - Epoch 10 - Test R2: 0.00929\n",
      "\n",
      "\n",
      "Epoch 11:\n"
     ]
    },
    {
     "name": "stderr",
     "output_type": "stream",
     "text": [
      "Training: 100%|██████████| 18964/18964 [00:55<00:00, 342.36it/s, Loss=2.08, rmse=0.816, R²=0.0297]\n",
      "Testing: 100%|██████████| 676/676 [00:01<00:00, 402.92it/s, Loss=0.759, R²=0.00974]\n"
     ]
    },
    {
     "name": "stdout",
     "output_type": "stream",
     "text": [
      "Train rmse: 0.81723, Train R2: 0.02965, Train loss: 2.08351\n",
      "Test loss: 0.79818, Test R2: 0.00953\n",
      "Model Saved - Epoch 11 - Test R2: 0.00953\n",
      "\n",
      "\n",
      "Epoch 12:\n"
     ]
    },
    {
     "name": "stderr",
     "output_type": "stream",
     "text": [
      "Training: 100%|██████████| 18964/18964 [00:55<00:00, 342.34it/s, Loss=2.08, rmse=0.816, R²=0.0306]\n",
      "Testing: 100%|██████████| 676/676 [00:01<00:00, 404.08it/s, Loss=0.759, R²=0.00976]\n"
     ]
    },
    {
     "name": "stdout",
     "output_type": "stream",
     "text": [
      "Train rmse: 0.81682, Train R2: 0.03062, Train loss: 2.08195\n",
      "Test loss: 0.79818, Test R2: 0.00954\n",
      "Model Saved - Epoch 12 - Test R2: 0.00954\n",
      "\n",
      "\n",
      "Epoch 13:\n"
     ]
    },
    {
     "name": "stderr",
     "output_type": "stream",
     "text": [
      "Training: 100%|██████████| 18964/18964 [00:55<00:00, 342.99it/s, Loss=2.08, rmse=0.815, R²=0.0316]\n",
      "Testing: 100%|██████████| 676/676 [00:01<00:00, 404.77it/s, Loss=0.759, R²=0.0098]\n"
     ]
    },
    {
     "name": "stdout",
     "output_type": "stream",
     "text": [
      "Train rmse: 0.81640, Train R2: 0.03162, Train loss: 2.08022\n",
      "Test loss: 0.79816, Test R2: 0.00959\n",
      "Model Saved - Epoch 13 - Test R2: 0.00959\n",
      "\n",
      "\n",
      "Epoch 14:\n"
     ]
    },
    {
     "name": "stderr",
     "output_type": "stream",
     "text": [
      "Training: 100%|██████████| 18964/18964 [00:55<00:00, 343.46it/s, Loss=2.08, rmse=0.815, R²=0.0326]\n",
      "Testing: 100%|██████████| 676/676 [00:01<00:00, 406.46it/s, Loss=0.759, R²=0.00974]\n"
     ]
    },
    {
     "name": "stdout",
     "output_type": "stream",
     "text": [
      "Train rmse: 0.81597, Train R2: 0.03265, Train loss: 2.07863\n",
      "Test loss: 0.79817, Test R2: 0.00955\n",
      "\n",
      "Epoch 15:\n"
     ]
    },
    {
     "name": "stderr",
     "output_type": "stream",
     "text": [
      "Training: 100%|██████████| 18964/18964 [00:54<00:00, 347.77it/s, Loss=2.08, rmse=0.814, R²=0.034] \n",
      "Testing: 100%|██████████| 676/676 [00:01<00:00, 412.70it/s, Loss=0.759, R²=0.00966]\n"
     ]
    },
    {
     "name": "stdout",
     "output_type": "stream",
     "text": [
      "Train rmse: 0.81542, Train R2: 0.03395, Train loss: 2.07677\n",
      "Test loss: 0.79821, Test R2: 0.00948\n",
      "\n",
      "Best Epoch: 13, Best Test R2: 0.00959\n"
     ]
    },
    {
     "name": "stderr",
     "output_type": "stream",
     "text": [
      "/home/mt/miniconda3/envs/tabm/lib/python3.10/site-packages/wandb/sdk/lib/ipython.py:89: DeprecationWarning: Importing display from IPython.core.display is deprecated since IPython 7.14, please import from IPython display\n",
      "  from IPython.core.display import display\n"
     ]
    },
    {
     "data": {
      "application/vnd.jupyter.widget-view+json": {
       "model_id": "6524920e0a5343fb8754762c9a2f846c",
       "version_major": 2,
       "version_minor": 0
      },
      "text/plain": [
       "VBox(children=(Label(value='0.004 MB of 0.004 MB uploaded\\r'), FloatProgress(value=1.0, max=1.0)))"
      ]
     },
     "metadata": {},
     "output_type": "display_data"
    },
    {
     "name": "stderr",
     "output_type": "stream",
     "text": [
      "/home/mt/miniconda3/envs/tabm/lib/python3.10/site-packages/wandb/sdk/lib/ipython.py:77: DeprecationWarning: Importing display from IPython.core.display is deprecated since IPython 7.14, please import from IPython display\n",
      "  from IPython.core.display import HTML, display  # type: ignore\n"
     ]
    },
    {
     "data": {
      "text/html": [
       "<style>\n",
       "    table.wandb td:nth-child(1) { padding: 0 10px; text-align: left ; width: auto;} td:nth-child(2) {text-align: left ; width: 100%}\n",
       "    .wandb-row { display: flex; flex-direction: row; flex-wrap: wrap; justify-content: flex-start; width: 100% }\n",
       "    .wandb-col { display: flex; flex-direction: column; flex-basis: 100%; flex: 1; padding: 10px; }\n",
       "    </style>\n",
       "<div class=\"wandb-row\"><div class=\"wandb-col\"><h3>Run history:</h3><br/><table class=\"wandb\"><tr><td>epoch</td><td>▁▁▂▃▃▃▄▅▅▅▆▇▇▇█</td></tr><tr><td>test_loss</td><td>██▅▄▄▃▃▃▃▂▁▁▁▁▁</td></tr><tr><td>test_r2</td><td>▁▁▄▅▅▆▆▆▆▇█████</td></tr><tr><td>train_loss</td><td>█▆▅▅▄▄▄▄▃▃▃▂▂▁▁</td></tr><tr><td>train_r2</td><td>▁▃▄▄▅▅▅▅▆▆▆▇▇██</td></tr><tr><td>train_rmse</td><td>█▆▅▅▄▄▄▄▃▃▃▂▂▁▁</td></tr></table><br/></div><div class=\"wandb-col\"><h3>Run summary:</h3><br/><table class=\"wandb\"><tr><td>best_test_r2</td><td>0.00959</td></tr><tr><td>best_train_r2</td><td>0.03395</td></tr><tr><td>epoch</td><td>15</td></tr><tr><td>test_loss</td><td>0.79821</td></tr><tr><td>test_r2</td><td>0.00948</td></tr><tr><td>train_loss</td><td>2.07677</td></tr><tr><td>train_r2</td><td>0.03395</td></tr><tr><td>train_rmse</td><td>0.81542</td></tr></table><br/></div></div>"
      ],
      "text/plain": [
       "<IPython.core.display.HTML object>"
      ]
     },
     "metadata": {},
     "output_type": "display_data"
    },
    {
     "data": {
      "text/html": [
       " View run <strong style=\"color:#cdcd00\">exp_tabm-mini_dblocks_128_nblocks_3_LR_2e-04_BS_1024_DR_0.1_k_32_id_84296</strong> at: <a href='https://wandb.ai/turkenm/js_tabm/runs/03zi9fzq' target=\"_blank\">https://wandb.ai/turkenm/js_tabm/runs/03zi9fzq</a><br/> View project at: <a href='https://wandb.ai/turkenm/js_tabm' target=\"_blank\">https://wandb.ai/turkenm/js_tabm</a><br/>Synced 6 W&B file(s), 0 media file(s), 0 artifact file(s) and 0 other file(s)"
      ],
      "text/plain": [
       "<IPython.core.display.HTML object>"
      ]
     },
     "metadata": {},
     "output_type": "display_data"
    },
    {
     "data": {
      "text/html": [
       "Find logs at: <code>./wandb/run-20250112_151817-03zi9fzq/logs</code>"
      ],
      "text/plain": [
       "<IPython.core.display.HTML object>"
      ]
     },
     "metadata": {},
     "output_type": "display_data"
    },
    {
     "name": "stdout",
     "output_type": "stream",
     "text": [
      "CPU times: user 14min 5s, sys: 13.8 s, total: 14min 19s\n",
      "Wall time: 14min 23s\n"
     ]
    }
   ],
   "source": [
    "%%time\n",
    "####### Inputs ########\n",
    "SAVE_EXP = False\n",
    "short_id = int(time.time()) % 100000\n",
    "BATCH_SIZE = 1024\n",
    "drop_rate = 0.1\n",
    "model_arch = \"tabm-mini\"\n",
    "LR = 2e-4\n",
    "w_decay = 1e-4\n",
    "d_block = 128\n",
    "n_block = 3\n",
    "n_k = 32\n",
    "exp_name = f\"exp_{model_arch}_dblocks_{d_block}_nblocks_{n_block}_LR_{format(LR, '.0e')}_BS_{BATCH_SIZE}_DR_{drop_rate}_k_{n_k}_id_{short_id}\"\n",
    "details = exp_name \n",
    "note = \"final model training\"\n",
    "wandb.init(\n",
    "    project=\"js_tabm\",\n",
    "    name=exp_name,  \n",
    "    tags = [\"train\"],\n",
    "    config={ \n",
    "        \"batch_size\": BATCH_SIZE,\n",
    "        \"learning_rate\": LR,\n",
    "        \"drop_out\": drop_rate,\n",
    "        \"model_arch\": model_arch,\n",
    "        \"n_block\": n_block,\n",
    "        \"d_block\": d_block,\n",
    "        \"feature_cols\": feature_cols,\n",
    "        \"model_k\": n_k,\n",
    "        \"weight_decay\": w_decay,\n",
    "    },\n",
    ")\n",
    "wandb.run.notes = note\n",
    "#################################################################\n",
    "result_dict = { \"details\": str,\n",
    "    'epoch': [],\n",
    "    'train_loss': [],\n",
    "    'train_r2': [],\n",
    "    'test_loss': [],\n",
    "    'test_r2': [],\n",
    "    'learning_rate': [],\n",
    "    'train_rmse' : [],\n",
    "    'batch_size' : int,\n",
    "    'drop_out' : float,\n",
    "    'model_arch' : str,\n",
    "    'n_block' : int,\n",
    "    'd_block' : int,\n",
    "    'feature_cols' : list,\n",
    "    'model_k' : int,\n",
    "    'weight_decay' : float,\n",
    "}\n",
    "\n",
    "\n",
    "result_dict[\"batch_size\"] = BATCH_SIZE\n",
    "result_dict[\"learning_rate\"] = LR\n",
    "result_dict[\"drop_out\"] = drop_rate\n",
    "result_dict[\"model_arch\"] = model_arch\n",
    "result_dict[\"details\"] = details\n",
    "result_dict[\"n_block\"] = n_block\n",
    "result_dict[\"d_block\"] = d_block\n",
    "result_dict[\"feature_cols\"] = feature_cols\n",
    "result_dict[\"model_k\"] = n_k\n",
    "result_dict[\"weight_decay\"] = w_decay\n",
    "\n",
    "\n",
    "\n",
    "arch_type = model_arch\n",
    "#bins = rtdl_num_embeddings.compute_bins(data['train']['x_cont'])\n",
    "bins = None\n",
    "\n",
    "model = Model(\n",
    "    n_num_features=n_cont_features,\n",
    "    cat_cardinalities=cat_cardinalities,\n",
    "    n_classes=n_classes,\n",
    "    backbone={\n",
    "        'type': 'MLP',\n",
    "        'n_blocks': n_block,\n",
    "        'd_block': d_block,\n",
    "        'dropout': drop_rate,\n",
    "    },\n",
    "    bins=bins,\n",
    "    num_embeddings=(\n",
    "        None\n",
    "        if bins is None\n",
    "        else {\n",
    "            'type': 'PiecewiseLinearEmbeddings',\n",
    "            'd_embedding': 16,\n",
    "            'activation': False,\n",
    "        }\n",
    "    ),\n",
    "    arch_type=arch_type,\n",
    "    k=n_k,\n",
    ").to(device)\n",
    "\n",
    "optimizer = torch.optim.AdamW(make_parameter_groups(model), lr=LR, weight_decay = w_decay)\n",
    "\n",
    "best = {\n",
    "    'epoch': -1,\n",
    "    'test_r2': -math.inf,\n",
    "    'model_state_dict': None,\n",
    "    'train_r2' : -math.inf,\n",
    "}\n",
    "print(f\"EXPERIMENT {exp_name}\\n\")\n",
    "\n",
    "for epoch in range(15):\n",
    "    print(f\"\\nEpoch {epoch + 1}:\")\n",
    "\n",
    "    train_loss, train_r2, train_rmse = train_step(model = model, optimizer = optimizer, loss_fn = loss_fn2, batch_size = BATCH_SIZE, device = device)\n",
    "    test_loss, test_r2 = test_step(model = model, batch_size = 8192, device = device)\n",
    "    print(f\"Train rmse: {train_rmse:.5f}, Train R2: {train_r2:.5f}, Train loss: {train_loss:.5f}\")\n",
    "    print(f\"Test loss: {test_loss:.5f}, Test R2: {test_r2:.5f}\")\n",
    "\n",
    "    result_dict[\"epoch\"].append(epoch + 1)\n",
    "    result_dict[\"train_loss\"].append(train_loss)\n",
    "    result_dict[\"train_r2\"].append(train_r2)\n",
    "    result_dict[\"train_rmse\"].append(train_rmse)\n",
    "    result_dict[\"test_loss\"].append(test_loss)\n",
    "    result_dict[\"test_r2\"].append(test_r2)\n",
    "\n",
    "    wandb.log({\n",
    "        \"epoch\": epoch + 1,\n",
    "        \"train_loss\": train_loss,\n",
    "        \"train_r2\": train_r2,\n",
    "        \"train_rmse\": train_rmse,\n",
    "        \"test_loss\": test_loss,\n",
    "        \"test_r2\": test_r2,\n",
    "    })\n",
    "\n",
    "    if train_r2 > best[\"train_r2\"]:\n",
    "        best[\"train_r2\"] = train_r2\n",
    "\n",
    "    if test_r2 > best[\"test_r2\"]:\n",
    "        print(f\"Model Saved - Epoch {epoch+1} - Test R2: {test_r2:.5f}\\n\")\n",
    "        best['epoch'] = epoch\n",
    "        best[\"test_r2\"] = test_r2\n",
    "        best[\"model_state_dict\"] = model.state_dict()\n",
    "\n",
    "torch.save(model.state_dict(), f\"tabm_experiment_models/tabm_{short_id}_last.pt\")\n",
    "torch.save(best[\"model_state_dict\"], f\"tabm_experiment_models/tabm_{short_id}_best.pt\")\n",
    "\n",
    "print(f\"\\nBest Epoch: {best['epoch'] + 1}, Best Test R2: {best['test_r2']:.5f}\")\n",
    "wandb.run.summary[\"best_test_r2\"] = best[\"test_r2\"]\n",
    "wandb.run.summary[\"best_train_r2\"] = best[\"train_r2\"]\n",
    "wandb.finish()\n",
    "\n",
    "if SAVE_EXP:\n",
    "    joblib.dump(result_dict, f\"tabm_experiment_logs/{exp_name}_log.pkl\")\n",
    "\n",
    "del model, optimizer\n",
    "gc.collect()\n",
    "torch.cuda.empty_cache()"
   ]
  },
  {
   "cell_type": "markdown",
   "metadata": {},
   "source": [
    "## Wandb Sweeps"
   ]
  },
  {
   "cell_type": "code",
   "execution_count": 49,
   "metadata": {},
   "outputs": [],
   "source": [
    "def train():\n",
    "    wandb.init()\n",
    "    config = wandb.config\n",
    "\n",
    "    ####### Inputs ########\n",
    "    SAVE_EXP = False\n",
    "    short_id = int(time.time()) % 100000\n",
    "    BATCH_SIZE = 1024\n",
    "    exp_name = f\"exp_{config.model_arch}_dblocks_{config.d_block}_nblocks_{config.n_block}_LR_{format(config.learning_rate, '.0e')}_BS_{BATCH_SIZE}_DR_{config.drop_out}_k_{config.n_k}_id_{short_id}\"\n",
    "    details = exp_name\n",
    "    note = \"tabm_v15 - final model - deneme\"\n",
    "    wandb.run.notes = note\n",
    "\n",
    "    # Model and optimizer setup\n",
    "    arch_type = config.model_arch\n",
    "    bins = None\n",
    "    model = Model(\n",
    "            n_num_features=n_cont_features,\n",
    "            cat_cardinalities=cat_cardinalities,\n",
    "            n_classes=n_classes,\n",
    "            backbone={\n",
    "                'type': 'MLP',\n",
    "                'n_blocks': config.n_block,\n",
    "                'd_block': config.d_block,\n",
    "                'dropout': config.drop_out,\n",
    "            },\n",
    "            bins=bins,\n",
    "            num_embeddings=(\n",
    "                None\n",
    "                if bins is None\n",
    "                else {\n",
    "                    'type': 'PiecewiseLinearEmbeddings',\n",
    "                    'd_embedding': 16,\n",
    "                    'activation': False,\n",
    "                    'version': 'B',\n",
    "                }\n",
    "            ),\n",
    "            arch_type=arch_type,\n",
    "            k=config.n_k,\n",
    "        ).to(device)\n",
    "    \n",
    "    n_k = config.n_k\n",
    "\n",
    "    optimizer = torch.optim.AdamW(make_parameter_groups(model), lr=config.learning_rate, weight_decay=config.weight_decay)\n",
    "\n",
    "    best = {\n",
    "        'epoch': -1,\n",
    "        'test_r2': -math.inf,\n",
    "        'model_state_dict': None,\n",
    "        'train_r2': -math.inf,\n",
    "    }\n",
    "    print(f\"EXPERIMENT {exp_name}\\n\")\n",
    "\n",
    "    for epoch in range(15):\n",
    "        print(f\"\\nEpoch {epoch + 1}:\")\n",
    "\n",
    "        train_loss, train_r2, train_rmse = train_step(model = model, optimizer = optimizer, loss_fn = loss_fn2, batch_size = BATCH_SIZE, device = device)\n",
    "        test_loss, test_r2 = test_step(model = model, batch_size = 8192, device = device)\n",
    "        print(f\"Train rmse: {train_rmse:.5f}, Train R2: {train_r2:.5f}, Train loss: {train_loss:.5f}\")\n",
    "        print(f\"Test loss: {test_loss:.5f}, Test R2: {test_r2:.5f}\")\n",
    "\n",
    "        wandb.log({\n",
    "            \"epoch\": epoch + 1,\n",
    "            \"train_loss\": train_loss,\n",
    "            \"train_r2\": train_r2,\n",
    "            \"train_rmse\": train_rmse,\n",
    "            \"test_loss\": test_loss,\n",
    "            \"test_r2\": test_r2,\n",
    "        })\n",
    "\n",
    "        if train_r2 > best[\"train_r2\"]:\n",
    "            best[\"train_r2\"] = train_r2\n",
    "\n",
    "        if test_r2 > best[\"test_r2\"]:\n",
    "            print(f\"Model Saved - Epoch {epoch + 1} - Test R2: {test_r2:.5f}\\n\")\n",
    "            best['epoch'] = epoch\n",
    "            best[\"test_r2\"] = test_r2\n",
    "            best[\"model_state_dict\"] = model.state_dict()\n",
    "    print(f\"\\nBest Epoch: {best['epoch'] + 1}, Best Test R2: {best['test_r2']:.5f}\")\n",
    "    wandb.run.summary[\"best_test_r2\"] = best[\"test_r2\"]\n",
    "    wandb.run.summary[\"best_train_r2\"] = best[\"train_r2\"]\n",
    "    wandb.finish()\n",
    "\n",
    "    del model, optimizer\n",
    "    gc.collect()\n",
    "    torch.cuda.empty_cache()\n"
   ]
  },
  {
   "cell_type": "code",
   "execution_count": 47,
   "metadata": {},
   "outputs": [],
   "source": [
    "sweep_config = {\n",
    "    \"method\": \"grid\", \n",
    "    \"metric\": {\n",
    "        \"name\": \"test_r2\", \n",
    "        \"goal\": \"maximize\",  \n",
    "    },\n",
    "    \"parameters\": {\n",
    "        \"model_arch\": {\n",
    "            \"values\": [\"tabm-mini\"],\n",
    "        },\n",
    "        \"learning_rate\": {\n",
    "            \"values\": [1.5e-4, 2e-4, 1e-4],\n",
    "        },\n",
    "        \"drop_out\": {\n",
    "            \"values\": [0.1, 0.15], \n",
    "        },\n",
    "        \"n_block\": {\n",
    "            \"values\": [3], \n",
    "        },\n",
    "        \"d_block\": {\n",
    "            \"values\": [64, 128],\n",
    "        },\n",
    "        \"weight_decay\": {\n",
    "            \"values\": [1e-4, 2e-4],\n",
    "        },\n",
    "        \"n_k\": {\n",
    "            \"values\": [16, 32],\n",
    "        },\n",
    "    },\n",
    "}"
   ]
  },
  {
   "cell_type": "code",
   "execution_count": 48,
   "metadata": {},
   "outputs": [
    {
     "name": "stdout",
     "output_type": "stream",
     "text": [
      "Create sweep with ID: mtpap5fv\n",
      "Sweep URL: https://wandb.ai/turkenm/js_tabm/sweeps/mtpap5fv\n"
     ]
    }
   ],
   "source": [
    "sweep_id = wandb.sweep(sweep_config, project=\"js_tabm\")"
   ]
  },
  {
   "cell_type": "code",
   "execution_count": 50,
   "metadata": {},
   "outputs": [
    {
     "name": "stderr",
     "output_type": "stream",
     "text": [
      "\u001b[34m\u001b[1mwandb\u001b[0m: Agent Starting Run: wgy8rfir with config:\n",
      "\u001b[34m\u001b[1mwandb\u001b[0m: \td_block: 64\n",
      "\u001b[34m\u001b[1mwandb\u001b[0m: \tdrop_out: 0.1\n",
      "\u001b[34m\u001b[1mwandb\u001b[0m: \tlearning_rate: 0.00015\n",
      "\u001b[34m\u001b[1mwandb\u001b[0m: \tmodel_arch: tabm-mini\n",
      "\u001b[34m\u001b[1mwandb\u001b[0m: \tn_block: 3\n",
      "\u001b[34m\u001b[1mwandb\u001b[0m: \tn_k: 16\n",
      "\u001b[34m\u001b[1mwandb\u001b[0m: \tweight_decay: 0.0001\n",
      "Failed to detect the name of this notebook, you can set it manually with the WANDB_NOTEBOOK_NAME environment variable to enable code saving.\n",
      "/home/mt/miniconda3/envs/tabm/lib/python3.10/site-packages/wandb/sdk/wandb_setup.py:254: ResourceWarning: unclosed file <_io.TextIOWrapper name='/home/mt/Desktop/JaneStreet-Comp/wandb/sweep-mtpap5fv/config-wgy8rfir.yaml' mode='r' encoding='UTF-8'>\n",
      "  self._sweep_config = config_util.dict_from_config_file(\n",
      "ResourceWarning: Enable tracemalloc to get the object allocation traceback\n",
      "/home/mt/miniconda3/envs/tabm/lib/python3.10/site-packages/wandb/sdk/lib/ipython.py:77: DeprecationWarning: Importing display from IPython.core.display is deprecated since IPython 7.14, please import from IPython display\n",
      "  from IPython.core.display import HTML, display  # type: ignore\n"
     ]
    },
    {
     "data": {
      "text/html": [
       "wandb version 0.19.2 is available!  To upgrade, please run:\n",
       " $ pip install wandb --upgrade"
      ],
      "text/plain": [
       "<IPython.core.display.HTML object>"
      ]
     },
     "metadata": {},
     "output_type": "display_data"
    },
    {
     "data": {
      "text/html": [
       "Tracking run with wandb version 0.16.6"
      ],
      "text/plain": [
       "<IPython.core.display.HTML object>"
      ]
     },
     "metadata": {},
     "output_type": "display_data"
    },
    {
     "data": {
      "text/html": [
       "Run data is saved locally in <code>/home/mt/Desktop/JaneStreet-Comp/wandb/run-20250112_161339-wgy8rfir</code>"
      ],
      "text/plain": [
       "<IPython.core.display.HTML object>"
      ]
     },
     "metadata": {},
     "output_type": "display_data"
    },
    {
     "data": {
      "text/html": [
       "Syncing run <strong><a href='https://wandb.ai/turkenm/js_tabm/runs/wgy8rfir' target=\"_blank\">ancient-sweep-1</a></strong> to <a href='https://wandb.ai/turkenm/js_tabm' target=\"_blank\">Weights & Biases</a> (<a href='https://wandb.me/run' target=\"_blank\">docs</a>)<br/>Sweep page: <a href='https://wandb.ai/turkenm/js_tabm/sweeps/mtpap5fv' target=\"_blank\">https://wandb.ai/turkenm/js_tabm/sweeps/mtpap5fv</a>"
      ],
      "text/plain": [
       "<IPython.core.display.HTML object>"
      ]
     },
     "metadata": {},
     "output_type": "display_data"
    },
    {
     "data": {
      "text/html": [
       " View project at <a href='https://wandb.ai/turkenm/js_tabm' target=\"_blank\">https://wandb.ai/turkenm/js_tabm</a>"
      ],
      "text/plain": [
       "<IPython.core.display.HTML object>"
      ]
     },
     "metadata": {},
     "output_type": "display_data"
    },
    {
     "data": {
      "text/html": [
       " View sweep at <a href='https://wandb.ai/turkenm/js_tabm/sweeps/mtpap5fv' target=\"_blank\">https://wandb.ai/turkenm/js_tabm/sweeps/mtpap5fv</a>"
      ],
      "text/plain": [
       "<IPython.core.display.HTML object>"
      ]
     },
     "metadata": {},
     "output_type": "display_data"
    },
    {
     "data": {
      "text/html": [
       " View run at <a href='https://wandb.ai/turkenm/js_tabm/runs/wgy8rfir' target=\"_blank\">https://wandb.ai/turkenm/js_tabm/runs/wgy8rfir</a>"
      ],
      "text/plain": [
       "<IPython.core.display.HTML object>"
      ]
     },
     "metadata": {},
     "output_type": "display_data"
    },
    {
     "name": "stdout",
     "output_type": "stream",
     "text": [
      "EXPERIMENT exp_tabm-mini_dblocks_64_nblocks_3_LR_1e-04_BS_1024_DR_0.1_k_16_id_87621\n",
      "\n",
      "\n",
      "Epoch 1:\n"
     ]
    },
    {
     "name": "stderr",
     "output_type": "stream",
     "text": [
      "Training: 100%|██████████| 18964/18964 [00:31<00:00, 599.06it/s, Loss=2.11, rmse=0.823, R²=0.0121] \n",
      "Testing: 100%|██████████| 676/676 [00:00<00:00, 839.37it/s, Loss=0.76, R²=0.00773] \n"
     ]
    },
    {
     "name": "stdout",
     "output_type": "stream",
     "text": [
      "Train rmse: 0.82457, Train R2: 0.01214, Train loss: 2.11075\n",
      "Test loss: 0.79897, Test R2: 0.00758\n",
      "Model Saved - Epoch 1 - Test R2: 0.00758\n",
      "\n",
      "\n",
      "Epoch 2:\n"
     ]
    },
    {
     "name": "stderr",
     "output_type": "stream",
     "text": [
      "Training: 100%|██████████| 18964/18964 [00:31<00:00, 592.72it/s, Loss=2.1, rmse=0.821, R²=0.0174]\n",
      "Testing: 100%|██████████| 676/676 [00:00<00:00, 848.73it/s, Loss=0.76, R²=0.00826] \n"
     ]
    },
    {
     "name": "stdout",
     "output_type": "stream",
     "text": [
      "Train rmse: 0.82237, Train R2: 0.01741, Train loss: 2.10238\n",
      "Test loss: 0.79878, Test R2: 0.00805\n",
      "Model Saved - Epoch 2 - Test R2: 0.00805\n",
      "\n",
      "\n",
      "Epoch 3:\n"
     ]
    },
    {
     "name": "stderr",
     "output_type": "stream",
     "text": [
      "Training: 100%|██████████| 18964/18964 [00:31<00:00, 595.66it/s, Loss=2.1, rmse=0.82, R²=0.0194]\n",
      "Testing: 100%|██████████| 676/676 [00:00<00:00, 854.66it/s, Loss=0.76, R²=0.00842] \n"
     ]
    },
    {
     "name": "stdout",
     "output_type": "stream",
     "text": [
      "Train rmse: 0.82156, Train R2: 0.01934, Train loss: 2.09931\n",
      "Test loss: 0.79872, Test R2: 0.00820\n",
      "Model Saved - Epoch 3 - Test R2: 0.00820\n",
      "\n",
      "\n",
      "Epoch 4:\n"
     ]
    },
    {
     "name": "stderr",
     "output_type": "stream",
     "text": [
      "Training:   3%|▎         | 590/18964 [00:00<00:28, 648.12it/s, Loss=2.1, rmse=0.822, R²=0.0199]/home/mt/miniconda3/envs/tabm/lib/python3.10/site-packages/torch/nn/functional.py:1425: ResourceWarning: unclosed <socket.socket fd=104, family=AddressFamily.AF_INET, type=SocketKind.SOCK_STREAM, proto=0, laddr=('127.0.0.1', 54146), raddr=('127.0.0.1', 57273)>\n",
      "  _VF.dropout_(input, p, training) if inplace else _VF.dropout(input, p, training)\n",
      "ResourceWarning: Enable tracemalloc to get the object allocation traceback\n",
      "Training: 100%|██████████| 18964/18964 [00:31<00:00, 594.71it/s, Loss=2.1, rmse=0.82, R²=0.0204] \n",
      "Testing: 100%|██████████| 676/676 [00:00<00:00, 841.04it/s, Loss=0.76, R²=0.00851] \n"
     ]
    },
    {
     "name": "stdout",
     "output_type": "stream",
     "text": [
      "Train rmse: 0.82110, Train R2: 0.02043, Train loss: 2.09759\n",
      "Test loss: 0.79867, Test R2: 0.00833\n",
      "Model Saved - Epoch 4 - Test R2: 0.00833\n",
      "\n",
      "\n",
      "Epoch 5:\n"
     ]
    },
    {
     "name": "stderr",
     "output_type": "stream",
     "text": [
      "Training: 100%|██████████| 18964/18964 [00:31<00:00, 592.80it/s, Loss=2.1, rmse=0.82, R²=0.0213]  \n",
      "Testing: 100%|██████████| 676/676 [00:00<00:00, 845.90it/s, Loss=0.76, R²=0.00875] \n"
     ]
    },
    {
     "name": "stdout",
     "output_type": "stream",
     "text": [
      "Train rmse: 0.82076, Train R2: 0.02125, Train loss: 2.09624\n",
      "Test loss: 0.79858, Test R2: 0.00855\n",
      "Model Saved - Epoch 5 - Test R2: 0.00855\n",
      "\n",
      "\n",
      "Epoch 6:\n"
     ]
    },
    {
     "name": "stderr",
     "output_type": "stream",
     "text": [
      "Training: 100%|██████████| 18964/18964 [00:31<00:00, 597.57it/s, Loss=2.1, rmse=0.819, R²=0.0219] \n",
      "Testing: 100%|██████████| 676/676 [00:00<00:00, 843.19it/s, Loss=0.76, R²=0.00852] \n"
     ]
    },
    {
     "name": "stdout",
     "output_type": "stream",
     "text": [
      "Train rmse: 0.82047, Train R2: 0.02194, Train loss: 2.09520\n",
      "Test loss: 0.79867, Test R2: 0.00832\n",
      "\n",
      "Epoch 7:\n"
     ]
    },
    {
     "name": "stderr",
     "output_type": "stream",
     "text": [
      "Training: 100%|██████████| 18964/18964 [00:31<00:00, 600.53it/s, Loss=2.09, rmse=0.819, R²=0.0225]\n",
      "Testing: 100%|██████████| 676/676 [00:00<00:00, 851.95it/s, Loss=0.76, R²=0.00894] \n"
     ]
    },
    {
     "name": "stdout",
     "output_type": "stream",
     "text": [
      "Train rmse: 0.82024, Train R2: 0.02250, Train loss: 2.09436\n",
      "Test loss: 0.79851, Test R2: 0.00872\n",
      "Model Saved - Epoch 7 - Test R2: 0.00872\n",
      "\n",
      "\n",
      "Epoch 8:\n"
     ]
    },
    {
     "name": "stderr",
     "output_type": "stream",
     "text": [
      "Training: 100%|██████████| 18964/18964 [00:31<00:00, 600.10it/s, Loss=2.09, rmse=0.819, R²=0.023] \n",
      "Testing: 100%|██████████| 676/676 [00:00<00:00, 846.75it/s, Loss=0.76, R²=0.00901] \n"
     ]
    },
    {
     "name": "stdout",
     "output_type": "stream",
     "text": [
      "Train rmse: 0.82001, Train R2: 0.02304, Train loss: 2.09348\n",
      "Test loss: 0.79848, Test R2: 0.00879\n",
      "Model Saved - Epoch 8 - Test R2: 0.00879\n",
      "\n",
      "\n",
      "Epoch 9:\n"
     ]
    },
    {
     "name": "stderr",
     "output_type": "stream",
     "text": [
      "Training: 100%|██████████| 18964/18964 [00:31<00:00, 599.72it/s, Loss=2.09, rmse=0.819, R²=0.0235]\n",
      "Testing: 100%|██████████| 676/676 [00:00<00:00, 840.47it/s, Loss=0.759, R²=0.0093] \n"
     ]
    },
    {
     "name": "stdout",
     "output_type": "stream",
     "text": [
      "Train rmse: 0.81982, Train R2: 0.02350, Train loss: 2.09285\n",
      "Test loss: 0.79837, Test R2: 0.00906\n",
      "Model Saved - Epoch 9 - Test R2: 0.00906\n",
      "\n",
      "\n",
      "Epoch 10:\n"
     ]
    },
    {
     "name": "stderr",
     "output_type": "stream",
     "text": [
      "Training: 100%|██████████| 18964/18964 [00:31<00:00, 594.26it/s, Loss=2.09, rmse=0.818, R²=0.024] \n",
      "Testing: 100%|██████████| 676/676 [00:00<00:00, 843.81it/s, Loss=0.759, R²=0.00915]\n"
     ]
    },
    {
     "name": "stdout",
     "output_type": "stream",
     "text": [
      "Train rmse: 0.81961, Train R2: 0.02400, Train loss: 2.09211\n",
      "Test loss: 0.79843, Test R2: 0.00891\n",
      "\n",
      "Epoch 11:\n"
     ]
    },
    {
     "name": "stderr",
     "output_type": "stream",
     "text": [
      "Training: 100%|██████████| 18964/18964 [00:32<00:00, 592.35it/s, Loss=2.09, rmse=0.818, R²=0.0244]\n",
      "Testing: 100%|██████████| 676/676 [00:00<00:00, 847.98it/s, Loss=0.759, R²=0.00926]\n"
     ]
    },
    {
     "name": "stdout",
     "output_type": "stream",
     "text": [
      "Train rmse: 0.81943, Train R2: 0.02442, Train loss: 2.09153\n",
      "Test loss: 0.79840, Test R2: 0.00900\n",
      "\n",
      "Epoch 12:\n"
     ]
    },
    {
     "name": "stderr",
     "output_type": "stream",
     "text": [
      "Training: 100%|██████████| 18964/18964 [00:31<00:00, 600.65it/s, Loss=2.09, rmse=0.818, R²=0.0249]\n",
      "Testing: 100%|██████████| 676/676 [00:00<00:00, 846.52it/s, Loss=0.759, R²=0.00925]\n"
     ]
    },
    {
     "name": "stdout",
     "output_type": "stream",
     "text": [
      "Train rmse: 0.81921, Train R2: 0.02495, Train loss: 2.09078\n",
      "Test loss: 0.79840, Test R2: 0.00900\n",
      "\n",
      "Epoch 13:\n"
     ]
    },
    {
     "name": "stderr",
     "output_type": "stream",
     "text": [
      "Training: 100%|██████████| 18964/18964 [00:31<00:00, 595.43it/s, Loss=2.09, rmse=0.818, R²=0.0254]\n",
      "Testing: 100%|██████████| 676/676 [00:00<00:00, 837.51it/s, Loss=0.759, R²=0.00937]\n"
     ]
    },
    {
     "name": "stdout",
     "output_type": "stream",
     "text": [
      "Train rmse: 0.81902, Train R2: 0.02539, Train loss: 2.09008\n",
      "Test loss: 0.79836, Test R2: 0.00910\n",
      "Model Saved - Epoch 13 - Test R2: 0.00910\n",
      "\n",
      "\n",
      "Epoch 14:\n"
     ]
    },
    {
     "name": "stderr",
     "output_type": "stream",
     "text": [
      "Training: 100%|██████████| 18964/18964 [00:32<00:00, 586.38it/s, Loss=2.09, rmse=0.818, R²=0.0259]\n",
      "Testing: 100%|██████████| 676/676 [00:00<00:00, 833.97it/s, Loss=0.76, R²=0.00911] \n"
     ]
    },
    {
     "name": "stdout",
     "output_type": "stream",
     "text": [
      "Train rmse: 0.81882, Train R2: 0.02588, Train loss: 2.08941\n",
      "Test loss: 0.79845, Test R2: 0.00886\n",
      "\n",
      "Epoch 15:\n"
     ]
    },
    {
     "name": "stderr",
     "output_type": "stream",
     "text": [
      "Training: 100%|██████████| 18964/18964 [00:32<00:00, 584.01it/s, Loss=2.09, rmse=0.818, R²=0.0264]\n",
      "Testing: 100%|██████████| 676/676 [00:00<00:00, 827.55it/s, Loss=0.759, R²=0.00939]\n"
     ]
    },
    {
     "name": "stdout",
     "output_type": "stream",
     "text": [
      "Train rmse: 0.81860, Train R2: 0.02639, Train loss: 2.08866\n",
      "Test loss: 0.79835, Test R2: 0.00911\n",
      "Model Saved - Epoch 15 - Test R2: 0.00911\n",
      "\n",
      "\n",
      "Best Epoch: 15, Best Test R2: 0.00911\n"
     ]
    },
    {
     "name": "stderr",
     "output_type": "stream",
     "text": [
      "/home/mt/miniconda3/envs/tabm/lib/python3.10/site-packages/wandb/sdk/lib/ipython.py:89: DeprecationWarning: Importing display from IPython.core.display is deprecated since IPython 7.14, please import from IPython display\n",
      "  from IPython.core.display import display\n"
     ]
    },
    {
     "data": {
      "application/vnd.jupyter.widget-view+json": {
       "model_id": "e77d07526e9f4b6c945f191bb4e7c475",
       "version_major": 2,
       "version_minor": 0
      },
      "text/plain": [
       "VBox(children=(Label(value='0.004 MB of 0.004 MB uploaded\\r'), FloatProgress(value=1.0, max=1.0)))"
      ]
     },
     "metadata": {},
     "output_type": "display_data"
    },
    {
     "name": "stderr",
     "output_type": "stream",
     "text": [
      "/home/mt/miniconda3/envs/tabm/lib/python3.10/site-packages/wandb/sdk/lib/ipython.py:77: DeprecationWarning: Importing display from IPython.core.display is deprecated since IPython 7.14, please import from IPython display\n",
      "  from IPython.core.display import HTML, display  # type: ignore\n"
     ]
    },
    {
     "data": {
      "text/html": [
       "<style>\n",
       "    table.wandb td:nth-child(1) { padding: 0 10px; text-align: left ; width: auto;} td:nth-child(2) {text-align: left ; width: 100%}\n",
       "    .wandb-row { display: flex; flex-direction: row; flex-wrap: wrap; justify-content: flex-start; width: 100% }\n",
       "    .wandb-col { display: flex; flex-direction: column; flex-basis: 100%; flex: 1; padding: 10px; }\n",
       "    </style>\n",
       "<div class=\"wandb-row\"><div class=\"wandb-col\"><h3>Run history:</h3><br/><table class=\"wandb\"><tr><td>epoch</td><td>▁▁▂▃▃▃▄▅▅▅▆▇▇▇█</td></tr><tr><td>test_loss</td><td>█▆▅▅▄▅▃▂▁▂▁▁▁▂▁</td></tr><tr><td>test_r2</td><td>▁▃▄▄▅▄▆▇█▇███▇█</td></tr><tr><td>train_loss</td><td>█▅▄▄▃▃▃▃▂▂▂▂▁▁▁</td></tr><tr><td>train_r2</td><td>▁▄▅▅▅▆▆▆▇▇▇▇███</td></tr><tr><td>train_rmse</td><td>█▅▄▄▄▃▃▃▂▂▂▂▁▁▁</td></tr></table><br/></div><div class=\"wandb-col\"><h3>Run summary:</h3><br/><table class=\"wandb\"><tr><td>best_test_r2</td><td>0.00911</td></tr><tr><td>best_train_r2</td><td>0.02639</td></tr><tr><td>epoch</td><td>15</td></tr><tr><td>test_loss</td><td>0.79835</td></tr><tr><td>test_r2</td><td>0.00911</td></tr><tr><td>train_loss</td><td>2.08866</td></tr><tr><td>train_r2</td><td>0.02639</td></tr><tr><td>train_rmse</td><td>0.8186</td></tr></table><br/></div></div>"
      ],
      "text/plain": [
       "<IPython.core.display.HTML object>"
      ]
     },
     "metadata": {},
     "output_type": "display_data"
    },
    {
     "data": {
      "text/html": [
       " View run <strong style=\"color:#cdcd00\">ancient-sweep-1</strong> at: <a href='https://wandb.ai/turkenm/js_tabm/runs/wgy8rfir' target=\"_blank\">https://wandb.ai/turkenm/js_tabm/runs/wgy8rfir</a><br/> View project at: <a href='https://wandb.ai/turkenm/js_tabm' target=\"_blank\">https://wandb.ai/turkenm/js_tabm</a><br/>Synced 6 W&B file(s), 0 media file(s), 0 artifact file(s) and 0 other file(s)"
      ],
      "text/plain": [
       "<IPython.core.display.HTML object>"
      ]
     },
     "metadata": {},
     "output_type": "display_data"
    },
    {
     "data": {
      "text/html": [
       "Find logs at: <code>./wandb/run-20250112_161339-wgy8rfir/logs</code>"
      ],
      "text/plain": [
       "<IPython.core.display.HTML object>"
      ]
     },
     "metadata": {},
     "output_type": "display_data"
    },
    {
     "name": "stderr",
     "output_type": "stream",
     "text": [
      "\u001b[34m\u001b[1mwandb\u001b[0m: Agent Starting Run: lo5p5cqw with config:\n",
      "\u001b[34m\u001b[1mwandb\u001b[0m: \td_block: 64\n",
      "\u001b[34m\u001b[1mwandb\u001b[0m: \tdrop_out: 0.1\n",
      "\u001b[34m\u001b[1mwandb\u001b[0m: \tlearning_rate: 0.00015\n",
      "\u001b[34m\u001b[1mwandb\u001b[0m: \tmodel_arch: tabm-mini\n",
      "\u001b[34m\u001b[1mwandb\u001b[0m: \tn_block: 3\n",
      "\u001b[34m\u001b[1mwandb\u001b[0m: \tn_k: 16\n",
      "\u001b[34m\u001b[1mwandb\u001b[0m: \tweight_decay: 0.0002\n",
      "Failed to detect the name of this notebook, you can set it manually with the WANDB_NOTEBOOK_NAME environment variable to enable code saving.\n",
      "/home/mt/miniconda3/envs/tabm/lib/python3.10/site-packages/wandb/sdk/wandb_setup.py:254: ResourceWarning: unclosed file <_io.TextIOWrapper name='/home/mt/Desktop/JaneStreet-Comp/wandb/sweep-mtpap5fv/config-lo5p5cqw.yaml' mode='r' encoding='UTF-8'>\n",
      "  self._sweep_config = config_util.dict_from_config_file(\n",
      "ResourceWarning: Enable tracemalloc to get the object allocation traceback\n"
     ]
    },
    {
     "data": {
      "text/html": [
       "wandb version 0.19.2 is available!  To upgrade, please run:\n",
       " $ pip install wandb --upgrade"
      ],
      "text/plain": [
       "<IPython.core.display.HTML object>"
      ]
     },
     "metadata": {},
     "output_type": "display_data"
    },
    {
     "data": {
      "text/html": [
       "Tracking run with wandb version 0.16.6"
      ],
      "text/plain": [
       "<IPython.core.display.HTML object>"
      ]
     },
     "metadata": {},
     "output_type": "display_data"
    },
    {
     "data": {
      "text/html": [
       "Run data is saved locally in <code>/home/mt/Desktop/JaneStreet-Comp/wandb/run-20250112_162207-lo5p5cqw</code>"
      ],
      "text/plain": [
       "<IPython.core.display.HTML object>"
      ]
     },
     "metadata": {},
     "output_type": "display_data"
    },
    {
     "data": {
      "text/html": [
       "Syncing run <strong><a href='https://wandb.ai/turkenm/js_tabm/runs/lo5p5cqw' target=\"_blank\">young-sweep-2</a></strong> to <a href='https://wandb.ai/turkenm/js_tabm' target=\"_blank\">Weights & Biases</a> (<a href='https://wandb.me/run' target=\"_blank\">docs</a>)<br/>Sweep page: <a href='https://wandb.ai/turkenm/js_tabm/sweeps/mtpap5fv' target=\"_blank\">https://wandb.ai/turkenm/js_tabm/sweeps/mtpap5fv</a>"
      ],
      "text/plain": [
       "<IPython.core.display.HTML object>"
      ]
     },
     "metadata": {},
     "output_type": "display_data"
    },
    {
     "data": {
      "text/html": [
       " View project at <a href='https://wandb.ai/turkenm/js_tabm' target=\"_blank\">https://wandb.ai/turkenm/js_tabm</a>"
      ],
      "text/plain": [
       "<IPython.core.display.HTML object>"
      ]
     },
     "metadata": {},
     "output_type": "display_data"
    },
    {
     "data": {
      "text/html": [
       " View sweep at <a href='https://wandb.ai/turkenm/js_tabm/sweeps/mtpap5fv' target=\"_blank\">https://wandb.ai/turkenm/js_tabm/sweeps/mtpap5fv</a>"
      ],
      "text/plain": [
       "<IPython.core.display.HTML object>"
      ]
     },
     "metadata": {},
     "output_type": "display_data"
    },
    {
     "data": {
      "text/html": [
       " View run at <a href='https://wandb.ai/turkenm/js_tabm/runs/lo5p5cqw' target=\"_blank\">https://wandb.ai/turkenm/js_tabm/runs/lo5p5cqw</a>"
      ],
      "text/plain": [
       "<IPython.core.display.HTML object>"
      ]
     },
     "metadata": {},
     "output_type": "display_data"
    },
    {
     "name": "stdout",
     "output_type": "stream",
     "text": [
      "EXPERIMENT exp_tabm-mini_dblocks_64_nblocks_3_LR_1e-04_BS_1024_DR_0.1_k_16_id_88130\n",
      "\n",
      "\n",
      "Epoch 1:\n"
     ]
    },
    {
     "name": "stderr",
     "output_type": "stream",
     "text": [
      "Training: 100%|██████████| 18964/18964 [00:32<00:00, 591.31it/s, Loss=2.11, rmse=0.824, R²=0.0119] \n",
      "Testing: 100%|██████████| 676/676 [00:00<00:00, 834.75it/s, Loss=0.76, R²=0.00763] \n"
     ]
    },
    {
     "name": "stdout",
     "output_type": "stream",
     "text": [
      "Train rmse: 0.82465, Train R2: 0.01195, Train loss: 2.11102\n",
      "Test loss: 0.79903, Test R2: 0.00744\n",
      "Model Saved - Epoch 1 - Test R2: 0.00744\n",
      "\n",
      "\n",
      "Epoch 2:\n"
     ]
    },
    {
     "name": "stderr",
     "output_type": "stream",
     "text": [
      "Training: 100%|██████████| 18964/18964 [00:32<00:00, 590.07it/s, Loss=2.1, rmse=0.821, R²=0.0172]\n",
      "Testing: 100%|██████████| 676/676 [00:00<00:00, 838.42it/s, Loss=0.76, R²=0.0082]  \n"
     ]
    },
    {
     "name": "stdout",
     "output_type": "stream",
     "text": [
      "Train rmse: 0.82245, Train R2: 0.01721, Train loss: 2.10252\n",
      "Test loss: 0.79879, Test R2: 0.00803\n",
      "Model Saved - Epoch 2 - Test R2: 0.00803\n",
      "\n",
      "\n",
      "Epoch 3:\n"
     ]
    },
    {
     "name": "stderr",
     "output_type": "stream",
     "text": [
      "Training: 100%|██████████| 18964/18964 [00:32<00:00, 588.69it/s, Loss=2.1, rmse=0.821, R²=0.0191]\n",
      "Testing: 100%|██████████| 676/676 [00:00<00:00, 841.29it/s, Loss=0.76, R²=0.00836] \n"
     ]
    },
    {
     "name": "stdout",
     "output_type": "stream",
     "text": [
      "Train rmse: 0.82167, Train R2: 0.01909, Train loss: 2.09956\n",
      "Test loss: 0.79873, Test R2: 0.00817\n",
      "Model Saved - Epoch 3 - Test R2: 0.00817\n",
      "\n",
      "\n",
      "Epoch 4:\n"
     ]
    },
    {
     "name": "stderr",
     "output_type": "stream",
     "text": [
      "Training:   9%|▉         | 1797/18964 [00:02<00:27, 633.51it/s, Loss=2.1, rmse=0.819, R²=0.0207] /home/mt/miniconda3/envs/tabm/lib/python3.10/site-packages/torch/nn/functional.py:1425: ResourceWarning: unclosed <socket.socket fd=109, family=AddressFamily.AF_INET, type=SocketKind.SOCK_STREAM, proto=0, laddr=('127.0.0.1', 52626), raddr=('127.0.0.1', 56305)>\n",
      "  _VF.dropout_(input, p, training) if inplace else _VF.dropout(input, p, training)\n",
      "ResourceWarning: Enable tracemalloc to get the object allocation traceback\n",
      "Training: 100%|██████████| 18964/18964 [00:32<00:00, 588.51it/s, Loss=2.1, rmse=0.82, R²=0.0202]\n",
      "Testing: 100%|██████████| 676/676 [00:00<00:00, 824.00it/s, Loss=0.76, R²=0.00859] \n"
     ]
    },
    {
     "name": "stdout",
     "output_type": "stream",
     "text": [
      "Train rmse: 0.82119, Train R2: 0.02024, Train loss: 2.09778\n",
      "Test loss: 0.79863, Test R2: 0.00841\n",
      "Model Saved - Epoch 4 - Test R2: 0.00841\n",
      "\n",
      "\n",
      "Epoch 5:\n"
     ]
    },
    {
     "name": "stderr",
     "output_type": "stream",
     "text": [
      "Training: 100%|██████████| 18964/18964 [00:32<00:00, 591.88it/s, Loss=2.1, rmse=0.82, R²=0.021]  \n",
      "Testing: 100%|██████████| 676/676 [00:00<00:00, 842.71it/s, Loss=0.76, R²=0.00838] \n"
     ]
    },
    {
     "name": "stdout",
     "output_type": "stream",
     "text": [
      "Train rmse: 0.82087, Train R2: 0.02099, Train loss: 2.09660\n",
      "Test loss: 0.79871, Test R2: 0.00822\n",
      "\n",
      "Epoch 6:\n"
     ]
    },
    {
     "name": "stderr",
     "output_type": "stream",
     "text": [
      "Training: 100%|██████████| 18964/18964 [00:32<00:00, 590.53it/s, Loss=2.1, rmse=0.819, R²=0.0216] \n",
      "Testing: 100%|██████████| 676/676 [00:00<00:00, 842.66it/s, Loss=0.76, R²=0.00879] \n"
     ]
    },
    {
     "name": "stdout",
     "output_type": "stream",
     "text": [
      "Train rmse: 0.82060, Train R2: 0.02164, Train loss: 2.09563\n",
      "Test loss: 0.79856, Test R2: 0.00860\n",
      "Model Saved - Epoch 6 - Test R2: 0.00860\n",
      "\n",
      "\n",
      "Epoch 7:\n"
     ]
    },
    {
     "name": "stderr",
     "output_type": "stream",
     "text": [
      "Training: 100%|██████████| 18964/18964 [00:32<00:00, 589.79it/s, Loss=2.09, rmse=0.819, R²=0.0222]\n",
      "Testing: 100%|██████████| 676/676 [00:00<00:00, 847.54it/s, Loss=0.76, R²=0.009]   \n"
     ]
    },
    {
     "name": "stdout",
     "output_type": "stream",
     "text": [
      "Train rmse: 0.82037, Train R2: 0.02219, Train loss: 2.09481\n",
      "Test loss: 0.79849, Test R2: 0.00878\n",
      "Model Saved - Epoch 7 - Test R2: 0.00878\n",
      "\n",
      "\n",
      "Epoch 8:\n"
     ]
    },
    {
     "name": "stderr",
     "output_type": "stream",
     "text": [
      "Training: 100%|██████████| 18964/18964 [00:32<00:00, 589.32it/s, Loss=2.09, rmse=0.819, R²=0.0227]\n",
      "Testing: 100%|██████████| 676/676 [00:00<00:00, 843.36it/s, Loss=0.76, R²=0.00869] \n"
     ]
    },
    {
     "name": "stdout",
     "output_type": "stream",
     "text": [
      "Train rmse: 0.82017, Train R2: 0.02265, Train loss: 2.09414\n",
      "Test loss: 0.79860, Test R2: 0.00850\n",
      "\n",
      "Epoch 9:\n"
     ]
    },
    {
     "name": "stderr",
     "output_type": "stream",
     "text": [
      "Training: 100%|██████████| 18964/18964 [00:31<00:00, 593.46it/s, Loss=2.09, rmse=0.819, R²=0.0231]\n",
      "Testing: 100%|██████████| 676/676 [00:00<00:00, 852.51it/s, Loss=0.76, R²=0.00862] \n"
     ]
    },
    {
     "name": "stdout",
     "output_type": "stream",
     "text": [
      "Train rmse: 0.81998, Train R2: 0.02310, Train loss: 2.09350\n",
      "Test loss: 0.79863, Test R2: 0.00842\n",
      "\n",
      "Epoch 10:\n"
     ]
    },
    {
     "name": "stderr",
     "output_type": "stream",
     "text": [
      "Training: 100%|██████████| 18964/18964 [00:31<00:00, 599.56it/s, Loss=2.09, rmse=0.819, R²=0.0235]\n",
      "Testing: 100%|██████████| 676/676 [00:00<00:00, 848.09it/s, Loss=0.76, R²=0.00908] \n"
     ]
    },
    {
     "name": "stdout",
     "output_type": "stream",
     "text": [
      "Train rmse: 0.81983, Train R2: 0.02347, Train loss: 2.09301\n",
      "Test loss: 0.79846, Test R2: 0.00885\n",
      "Model Saved - Epoch 10 - Test R2: 0.00885\n",
      "\n",
      "\n",
      "Epoch 11:\n"
     ]
    },
    {
     "name": "stderr",
     "output_type": "stream",
     "text": [
      "Training: 100%|██████████| 18964/18964 [00:31<00:00, 593.51it/s, Loss=2.09, rmse=0.819, R²=0.0238]\n",
      "Testing: 100%|██████████| 676/676 [00:00<00:00, 844.68it/s, Loss=0.76, R²=0.00918] \n"
     ]
    },
    {
     "name": "stdout",
     "output_type": "stream",
     "text": [
      "Train rmse: 0.81969, Train R2: 0.02381, Train loss: 2.09250\n",
      "Test loss: 0.79842, Test R2: 0.00895\n",
      "Model Saved - Epoch 11 - Test R2: 0.00895\n",
      "\n",
      "\n",
      "Epoch 12:\n"
     ]
    },
    {
     "name": "stderr",
     "output_type": "stream",
     "text": [
      "Training: 100%|██████████| 18964/18964 [00:31<00:00, 595.83it/s, Loss=2.09, rmse=0.818, R²=0.0242]\n",
      "Testing: 100%|██████████| 676/676 [00:00<00:00, 848.17it/s, Loss=0.759, R²=0.00913]\n"
     ]
    },
    {
     "name": "stdout",
     "output_type": "stream",
     "text": [
      "Train rmse: 0.81952, Train R2: 0.02420, Train loss: 2.09198\n",
      "Test loss: 0.79842, Test R2: 0.00894\n",
      "\n",
      "Epoch 13:\n"
     ]
    },
    {
     "name": "stderr",
     "output_type": "stream",
     "text": [
      "Training: 100%|██████████| 18964/18964 [00:31<00:00, 594.04it/s, Loss=2.09, rmse=0.818, R²=0.0246]\n",
      "Testing: 100%|██████████| 676/676 [00:00<00:00, 844.66it/s, Loss=0.759, R²=0.00912]\n"
     ]
    },
    {
     "name": "stdout",
     "output_type": "stream",
     "text": [
      "Train rmse: 0.81937, Train R2: 0.02458, Train loss: 2.09138\n",
      "Test loss: 0.79844, Test R2: 0.00889\n",
      "\n",
      "Epoch 14:\n"
     ]
    },
    {
     "name": "stderr",
     "output_type": "stream",
     "text": [
      "Training: 100%|██████████| 18964/18964 [00:31<00:00, 594.64it/s, Loss=2.09, rmse=0.818, R²=0.0249]\n",
      "Testing: 100%|██████████| 676/676 [00:00<00:00, 845.59it/s, Loss=0.76, R²=0.00903] \n"
     ]
    },
    {
     "name": "stdout",
     "output_type": "stream",
     "text": [
      "Train rmse: 0.81922, Train R2: 0.02493, Train loss: 2.09088\n",
      "Test loss: 0.79848, Test R2: 0.00880\n",
      "\n",
      "Epoch 15:\n"
     ]
    },
    {
     "name": "stderr",
     "output_type": "stream",
     "text": [
      "Training: 100%|██████████| 18964/18964 [00:31<00:00, 595.92it/s, Loss=2.09, rmse=0.818, R²=0.0253]\n",
      "Testing: 100%|██████████| 676/676 [00:00<00:00, 849.24it/s, Loss=0.76, R²=0.00905] \n"
     ]
    },
    {
     "name": "stdout",
     "output_type": "stream",
     "text": [
      "Train rmse: 0.81906, Train R2: 0.02530, Train loss: 2.09029\n",
      "Test loss: 0.79846, Test R2: 0.00884\n",
      "\n",
      "Best Epoch: 11, Best Test R2: 0.00895\n"
     ]
    },
    {
     "name": "stderr",
     "output_type": "stream",
     "text": [
      "/home/mt/miniconda3/envs/tabm/lib/python3.10/site-packages/wandb/sdk/lib/ipython.py:89: DeprecationWarning: Importing display from IPython.core.display is deprecated since IPython 7.14, please import from IPython display\n",
      "  from IPython.core.display import display\n"
     ]
    },
    {
     "data": {
      "application/vnd.jupyter.widget-view+json": {
       "model_id": "b1691014ec414acd90d4e1842c00c11a",
       "version_major": 2,
       "version_minor": 0
      },
      "text/plain": [
       "VBox(children=(Label(value='0.004 MB of 0.004 MB uploaded\\r'), FloatProgress(value=1.0, max=1.0)))"
      ]
     },
     "metadata": {},
     "output_type": "display_data"
    },
    {
     "name": "stderr",
     "output_type": "stream",
     "text": [
      "/home/mt/miniconda3/envs/tabm/lib/python3.10/site-packages/wandb/sdk/lib/ipython.py:77: DeprecationWarning: Importing display from IPython.core.display is deprecated since IPython 7.14, please import from IPython display\n",
      "  from IPython.core.display import HTML, display  # type: ignore\n"
     ]
    },
    {
     "data": {
      "text/html": [
       "<style>\n",
       "    table.wandb td:nth-child(1) { padding: 0 10px; text-align: left ; width: auto;} td:nth-child(2) {text-align: left ; width: 100%}\n",
       "    .wandb-row { display: flex; flex-direction: row; flex-wrap: wrap; justify-content: flex-start; width: 100% }\n",
       "    .wandb-col { display: flex; flex-direction: column; flex-basis: 100%; flex: 1; padding: 10px; }\n",
       "    </style>\n",
       "<div class=\"wandb-row\"><div class=\"wandb-col\"><h3>Run history:</h3><br/><table class=\"wandb\"><tr><td>epoch</td><td>▁▁▂▃▃▃▄▅▅▅▆▇▇▇█</td></tr><tr><td>test_loss</td><td>█▅▅▃▄▃▂▃▃▁▁▁▁▂▂</td></tr><tr><td>test_r2</td><td>▁▄▄▆▅▆▇▆▆████▇▇</td></tr><tr><td>train_loss</td><td>█▅▄▄▃▃▃▂▂▂▂▂▁▁▁</td></tr><tr><td>train_r2</td><td>▁▄▅▅▆▆▆▇▇▇▇▇███</td></tr><tr><td>train_rmse</td><td>█▅▄▄▃▃▃▂▂▂▂▂▁▁▁</td></tr></table><br/></div><div class=\"wandb-col\"><h3>Run summary:</h3><br/><table class=\"wandb\"><tr><td>best_test_r2</td><td>0.00895</td></tr><tr><td>best_train_r2</td><td>0.0253</td></tr><tr><td>epoch</td><td>15</td></tr><tr><td>test_loss</td><td>0.79846</td></tr><tr><td>test_r2</td><td>0.00884</td></tr><tr><td>train_loss</td><td>2.09029</td></tr><tr><td>train_r2</td><td>0.0253</td></tr><tr><td>train_rmse</td><td>0.81906</td></tr></table><br/></div></div>"
      ],
      "text/plain": [
       "<IPython.core.display.HTML object>"
      ]
     },
     "metadata": {},
     "output_type": "display_data"
    },
    {
     "data": {
      "text/html": [
       " View run <strong style=\"color:#cdcd00\">young-sweep-2</strong> at: <a href='https://wandb.ai/turkenm/js_tabm/runs/lo5p5cqw' target=\"_blank\">https://wandb.ai/turkenm/js_tabm/runs/lo5p5cqw</a><br/> View project at: <a href='https://wandb.ai/turkenm/js_tabm' target=\"_blank\">https://wandb.ai/turkenm/js_tabm</a><br/>Synced 6 W&B file(s), 0 media file(s), 0 artifact file(s) and 0 other file(s)"
      ],
      "text/plain": [
       "<IPython.core.display.HTML object>"
      ]
     },
     "metadata": {},
     "output_type": "display_data"
    },
    {
     "data": {
      "text/html": [
       "Find logs at: <code>./wandb/run-20250112_162207-lo5p5cqw/logs</code>"
      ],
      "text/plain": [
       "<IPython.core.display.HTML object>"
      ]
     },
     "metadata": {},
     "output_type": "display_data"
    },
    {
     "name": "stderr",
     "output_type": "stream",
     "text": [
      "\u001b[34m\u001b[1mwandb\u001b[0m: Agent Starting Run: i8li5dc4 with config:\n",
      "\u001b[34m\u001b[1mwandb\u001b[0m: \td_block: 64\n",
      "\u001b[34m\u001b[1mwandb\u001b[0m: \tdrop_out: 0.1\n",
      "\u001b[34m\u001b[1mwandb\u001b[0m: \tlearning_rate: 0.00015\n",
      "\u001b[34m\u001b[1mwandb\u001b[0m: \tmodel_arch: tabm-mini\n",
      "\u001b[34m\u001b[1mwandb\u001b[0m: \tn_block: 3\n",
      "\u001b[34m\u001b[1mwandb\u001b[0m: \tn_k: 32\n",
      "\u001b[34m\u001b[1mwandb\u001b[0m: \tweight_decay: 0.0001\n",
      "Failed to detect the name of this notebook, you can set it manually with the WANDB_NOTEBOOK_NAME environment variable to enable code saving.\n",
      "/home/mt/miniconda3/envs/tabm/lib/python3.10/site-packages/wandb/sdk/wandb_setup.py:254: ResourceWarning: unclosed file <_io.TextIOWrapper name='/home/mt/Desktop/JaneStreet-Comp/wandb/sweep-mtpap5fv/config-i8li5dc4.yaml' mode='r' encoding='UTF-8'>\n",
      "  self._sweep_config = config_util.dict_from_config_file(\n",
      "ResourceWarning: Enable tracemalloc to get the object allocation traceback\n"
     ]
    },
    {
     "data": {
      "text/html": [
       "wandb version 0.19.2 is available!  To upgrade, please run:\n",
       " $ pip install wandb --upgrade"
      ],
      "text/plain": [
       "<IPython.core.display.HTML object>"
      ]
     },
     "metadata": {},
     "output_type": "display_data"
    },
    {
     "data": {
      "text/html": [
       "Tracking run with wandb version 0.16.6"
      ],
      "text/plain": [
       "<IPython.core.display.HTML object>"
      ]
     },
     "metadata": {},
     "output_type": "display_data"
    },
    {
     "data": {
      "text/html": [
       "Run data is saved locally in <code>/home/mt/Desktop/JaneStreet-Comp/wandb/run-20250112_163035-i8li5dc4</code>"
      ],
      "text/plain": [
       "<IPython.core.display.HTML object>"
      ]
     },
     "metadata": {},
     "output_type": "display_data"
    },
    {
     "data": {
      "text/html": [
       "Syncing run <strong><a href='https://wandb.ai/turkenm/js_tabm/runs/i8li5dc4' target=\"_blank\">proud-sweep-3</a></strong> to <a href='https://wandb.ai/turkenm/js_tabm' target=\"_blank\">Weights & Biases</a> (<a href='https://wandb.me/run' target=\"_blank\">docs</a>)<br/>Sweep page: <a href='https://wandb.ai/turkenm/js_tabm/sweeps/mtpap5fv' target=\"_blank\">https://wandb.ai/turkenm/js_tabm/sweeps/mtpap5fv</a>"
      ],
      "text/plain": [
       "<IPython.core.display.HTML object>"
      ]
     },
     "metadata": {},
     "output_type": "display_data"
    },
    {
     "data": {
      "text/html": [
       " View project at <a href='https://wandb.ai/turkenm/js_tabm' target=\"_blank\">https://wandb.ai/turkenm/js_tabm</a>"
      ],
      "text/plain": [
       "<IPython.core.display.HTML object>"
      ]
     },
     "metadata": {},
     "output_type": "display_data"
    },
    {
     "data": {
      "text/html": [
       " View sweep at <a href='https://wandb.ai/turkenm/js_tabm/sweeps/mtpap5fv' target=\"_blank\">https://wandb.ai/turkenm/js_tabm/sweeps/mtpap5fv</a>"
      ],
      "text/plain": [
       "<IPython.core.display.HTML object>"
      ]
     },
     "metadata": {},
     "output_type": "display_data"
    },
    {
     "data": {
      "text/html": [
       " View run at <a href='https://wandb.ai/turkenm/js_tabm/runs/i8li5dc4' target=\"_blank\">https://wandb.ai/turkenm/js_tabm/runs/i8li5dc4</a>"
      ],
      "text/plain": [
       "<IPython.core.display.HTML object>"
      ]
     },
     "metadata": {},
     "output_type": "display_data"
    },
    {
     "name": "stdout",
     "output_type": "stream",
     "text": [
      "EXPERIMENT exp_tabm-mini_dblocks_64_nblocks_3_LR_1e-04_BS_1024_DR_0.1_k_32_id_88637\n",
      "\n",
      "\n",
      "Epoch 1:\n"
     ]
    },
    {
     "name": "stderr",
     "output_type": "stream",
     "text": [
      "Training: 100%|██████████| 18964/18964 [00:45<00:00, 419.70it/s, Loss=2.11, rmse=0.824, R²=0.0105] \n",
      "Testing: 100%|██████████| 676/676 [00:01<00:00, 537.10it/s, Loss=0.76, R²=0.00684] \n"
     ]
    },
    {
     "name": "stdout",
     "output_type": "stream",
     "text": [
      "Train rmse: 0.82524, Train R2: 0.01053, Train loss: 2.11347\n",
      "Test loss: 0.79931, Test R2: 0.00672\n",
      "Model Saved - Epoch 1 - Test R2: 0.00672\n",
      "\n",
      "\n",
      "Epoch 2:\n"
     ]
    },
    {
     "name": "stderr",
     "output_type": "stream",
     "text": [
      "Training: 100%|██████████| 18964/18964 [00:45<00:00, 421.22it/s, Loss=2.11, rmse=0.822, R²=0.0151]\n",
      "Testing: 100%|██████████| 676/676 [00:01<00:00, 539.69it/s, Loss=0.76, R²=0.00769] \n"
     ]
    },
    {
     "name": "stdout",
     "output_type": "stream",
     "text": [
      "Train rmse: 0.82331, Train R2: 0.01517, Train loss: 2.10604\n",
      "Test loss: 0.79899, Test R2: 0.00754\n",
      "Model Saved - Epoch 2 - Test R2: 0.00754\n",
      "\n",
      "\n",
      "Epoch 3:\n"
     ]
    },
    {
     "name": "stderr",
     "output_type": "stream",
     "text": [
      "Training: 100%|██████████| 18964/18964 [00:45<00:00, 419.58it/s, Loss=2.1, rmse=0.821, R²=0.017] \n",
      "Testing: 100%|██████████| 676/676 [00:01<00:00, 536.82it/s, Loss=0.76, R²=0.00791] \n"
     ]
    },
    {
     "name": "stdout",
     "output_type": "stream",
     "text": [
      "Train rmse: 0.82253, Train R2: 0.01704, Train loss: 2.10306\n",
      "Test loss: 0.79890, Test R2: 0.00775\n",
      "Model Saved - Epoch 3 - Test R2: 0.00775\n",
      "\n",
      "\n",
      "Epoch 4:\n"
     ]
    },
    {
     "name": "stderr",
     "output_type": "stream",
     "text": [
      "Training:   3%|▎         | 581/18964 [00:01<00:41, 439.55it/s, Loss=2.1, rmse=0.822, R²=0.017]/home/mt/miniconda3/envs/tabm/lib/python3.10/site-packages/torch/nn/functional.py:1425: ResourceWarning: unclosed <socket.socket fd=105, family=AddressFamily.AF_INET, type=SocketKind.SOCK_STREAM, proto=0, laddr=('127.0.0.1', 56358), raddr=('127.0.0.1', 58823)>\n",
      "  _VF.dropout_(input, p, training) if inplace else _VF.dropout(input, p, training)\n",
      "ResourceWarning: Enable tracemalloc to get the object allocation traceback\n",
      "Training: 100%|██████████| 18964/18964 [00:45<00:00, 417.33it/s, Loss=2.1, rmse=0.821, R²=0.0182]\n",
      "Testing: 100%|██████████| 676/676 [00:01<00:00, 537.24it/s, Loss=0.76, R²=0.00796] \n"
     ]
    },
    {
     "name": "stdout",
     "output_type": "stream",
     "text": [
      "Train rmse: 0.82203, Train R2: 0.01823, Train loss: 2.10102\n",
      "Test loss: 0.79887, Test R2: 0.00782\n",
      "Model Saved - Epoch 4 - Test R2: 0.00782\n",
      "\n",
      "\n",
      "Epoch 5:\n"
     ]
    },
    {
     "name": "stderr",
     "output_type": "stream",
     "text": [
      "Training: 100%|██████████| 18964/18964 [00:45<00:00, 419.47it/s, Loss=2.1, rmse=0.821, R²=0.0191]\n",
      "Testing: 100%|██████████| 676/676 [00:01<00:00, 538.74it/s, Loss=0.76, R²=0.0085]  \n"
     ]
    },
    {
     "name": "stdout",
     "output_type": "stream",
     "text": [
      "Train rmse: 0.82164, Train R2: 0.01914, Train loss: 2.09944\n",
      "Test loss: 0.79866, Test R2: 0.00833\n",
      "Model Saved - Epoch 5 - Test R2: 0.00833\n",
      "\n",
      "\n",
      "Epoch 6:\n"
     ]
    },
    {
     "name": "stderr",
     "output_type": "stream",
     "text": [
      "Training: 100%|██████████| 18964/18964 [00:44<00:00, 421.64it/s, Loss=2.1, rmse=0.82, R²=0.02]   \n",
      "Testing: 100%|██████████| 676/676 [00:01<00:00, 536.58it/s, Loss=0.76, R²=0.00837] \n"
     ]
    },
    {
     "name": "stdout",
     "output_type": "stream",
     "text": [
      "Train rmse: 0.82130, Train R2: 0.01996, Train loss: 2.09821\n",
      "Test loss: 0.79871, Test R2: 0.00823\n",
      "\n",
      "Epoch 7:\n"
     ]
    },
    {
     "name": "stderr",
     "output_type": "stream",
     "text": [
      "Training: 100%|██████████| 18964/18964 [00:45<00:00, 421.25it/s, Loss=2.1, rmse=0.82, R²=0.0207] \n",
      "Testing: 100%|██████████| 676/676 [00:01<00:00, 544.55it/s, Loss=0.76, R²=0.0089]  \n"
     ]
    },
    {
     "name": "stdout",
     "output_type": "stream",
     "text": [
      "Train rmse: 0.82101, Train R2: 0.02066, Train loss: 2.09709\n",
      "Test loss: 0.79850, Test R2: 0.00874\n",
      "Model Saved - Epoch 7 - Test R2: 0.00874\n",
      "\n",
      "\n",
      "Epoch 8:\n"
     ]
    },
    {
     "name": "stderr",
     "output_type": "stream",
     "text": [
      "Training: 100%|██████████| 18964/18964 [00:44<00:00, 422.61it/s, Loss=2.1, rmse=0.82, R²=0.0214]  \n",
      "Testing: 100%|██████████| 676/676 [00:01<00:00, 544.05it/s, Loss=0.76, R²=0.0087]  \n"
     ]
    },
    {
     "name": "stdout",
     "output_type": "stream",
     "text": [
      "Train rmse: 0.82070, Train R2: 0.02139, Train loss: 2.09601\n",
      "Test loss: 0.79858, Test R2: 0.00855\n",
      "\n",
      "Epoch 9:\n"
     ]
    },
    {
     "name": "stderr",
     "output_type": "stream",
     "text": [
      "Training: 100%|██████████| 18964/18964 [00:44<00:00, 423.69it/s, Loss=2.09, rmse=0.819, R²=0.0221]\n",
      "Testing: 100%|██████████| 676/676 [00:01<00:00, 545.60it/s, Loss=0.76, R²=0.00884] \n"
     ]
    },
    {
     "name": "stdout",
     "output_type": "stream",
     "text": [
      "Train rmse: 0.82041, Train R2: 0.02209, Train loss: 2.09488\n",
      "Test loss: 0.79852, Test R2: 0.00870\n",
      "\n",
      "Epoch 10:\n"
     ]
    },
    {
     "name": "stderr",
     "output_type": "stream",
     "text": [
      "Training: 100%|██████████| 18964/18964 [00:44<00:00, 423.74it/s, Loss=2.09, rmse=0.819, R²=0.0228]\n",
      "Testing: 100%|██████████| 676/676 [00:01<00:00, 542.95it/s, Loss=0.759, R²=0.00921]\n"
     ]
    },
    {
     "name": "stdout",
     "output_type": "stream",
     "text": [
      "Train rmse: 0.82012, Train R2: 0.02277, Train loss: 2.09390\n",
      "Test loss: 0.79837, Test R2: 0.00907\n",
      "Model Saved - Epoch 10 - Test R2: 0.00907\n",
      "\n",
      "\n",
      "Epoch 11:\n"
     ]
    },
    {
     "name": "stderr",
     "output_type": "stream",
     "text": [
      "Training: 100%|██████████| 18964/18964 [00:44<00:00, 421.86it/s, Loss=2.09, rmse=0.819, R²=0.0235]\n",
      "Testing: 100%|██████████| 676/676 [00:01<00:00, 542.68it/s, Loss=0.76, R²=0.00888] \n"
     ]
    },
    {
     "name": "stdout",
     "output_type": "stream",
     "text": [
      "Train rmse: 0.81981, Train R2: 0.02353, Train loss: 2.09273\n",
      "Test loss: 0.79851, Test R2: 0.00872\n",
      "\n",
      "Epoch 12:\n"
     ]
    },
    {
     "name": "stderr",
     "output_type": "stream",
     "text": [
      "Training: 100%|██████████| 18964/18964 [00:44<00:00, 422.65it/s, Loss=2.09, rmse=0.818, R²=0.0244]\n",
      "Testing: 100%|██████████| 676/676 [00:01<00:00, 544.49it/s, Loss=0.76, R²=0.00909] \n"
     ]
    },
    {
     "name": "stdout",
     "output_type": "stream",
     "text": [
      "Train rmse: 0.81946, Train R2: 0.02436, Train loss: 2.09135\n",
      "Test loss: 0.79842, Test R2: 0.00895\n",
      "\n",
      "Epoch 13:\n"
     ]
    },
    {
     "name": "stderr",
     "output_type": "stream",
     "text": [
      "Training: 100%|██████████| 18964/18964 [00:44<00:00, 423.48it/s, Loss=2.09, rmse=0.818, R²=0.0254]\n",
      "Testing: 100%|██████████| 676/676 [00:01<00:00, 543.44it/s, Loss=0.76, R²=0.00916] \n"
     ]
    },
    {
     "name": "stdout",
     "output_type": "stream",
     "text": [
      "Train rmse: 0.81901, Train R2: 0.02543, Train loss: 2.08962\n",
      "Test loss: 0.79839, Test R2: 0.00901\n",
      "\n",
      "Epoch 14:\n"
     ]
    },
    {
     "name": "stderr",
     "output_type": "stream",
     "text": [
      "Training: 100%|██████████| 18964/18964 [00:44<00:00, 423.01it/s, Loss=2.09, rmse=0.817, R²=0.0266]\n",
      "Testing: 100%|██████████| 676/676 [00:01<00:00, 545.08it/s, Loss=0.76, R²=0.00928] \n"
     ]
    },
    {
     "name": "stdout",
     "output_type": "stream",
     "text": [
      "Train rmse: 0.81851, Train R2: 0.02662, Train loss: 2.08771\n",
      "Test loss: 0.79836, Test R2: 0.00910\n",
      "Model Saved - Epoch 14 - Test R2: 0.00910\n",
      "\n",
      "\n",
      "Epoch 15:\n"
     ]
    },
    {
     "name": "stderr",
     "output_type": "stream",
     "text": [
      "Training: 100%|██████████| 18964/18964 [00:44<00:00, 423.88it/s, Loss=2.09, rmse=0.817, R²=0.0278]\n",
      "Testing: 100%|██████████| 676/676 [00:01<00:00, 544.85it/s, Loss=0.76, R²=0.00884] \n"
     ]
    },
    {
     "name": "stdout",
     "output_type": "stream",
     "text": [
      "Train rmse: 0.81802, Train R2: 0.02777, Train loss: 2.08581\n",
      "Test loss: 0.79852, Test R2: 0.00871\n",
      "\n",
      "Best Epoch: 14, Best Test R2: 0.00910\n"
     ]
    },
    {
     "name": "stderr",
     "output_type": "stream",
     "text": [
      "/home/mt/miniconda3/envs/tabm/lib/python3.10/site-packages/wandb/sdk/lib/ipython.py:89: DeprecationWarning: Importing display from IPython.core.display is deprecated since IPython 7.14, please import from IPython display\n",
      "  from IPython.core.display import display\n"
     ]
    },
    {
     "data": {
      "application/vnd.jupyter.widget-view+json": {
       "model_id": "de875202c7924581b21d807c74c88795",
       "version_major": 2,
       "version_minor": 0
      },
      "text/plain": [
       "VBox(children=(Label(value='0.004 MB of 0.004 MB uploaded\\r'), FloatProgress(value=1.0, max=1.0)))"
      ]
     },
     "metadata": {},
     "output_type": "display_data"
    },
    {
     "name": "stderr",
     "output_type": "stream",
     "text": [
      "/home/mt/miniconda3/envs/tabm/lib/python3.10/site-packages/wandb/sdk/lib/ipython.py:77: DeprecationWarning: Importing display from IPython.core.display is deprecated since IPython 7.14, please import from IPython display\n",
      "  from IPython.core.display import HTML, display  # type: ignore\n"
     ]
    },
    {
     "data": {
      "text/html": [
       "<style>\n",
       "    table.wandb td:nth-child(1) { padding: 0 10px; text-align: left ; width: auto;} td:nth-child(2) {text-align: left ; width: 100%}\n",
       "    .wandb-row { display: flex; flex-direction: row; flex-wrap: wrap; justify-content: flex-start; width: 100% }\n",
       "    .wandb-col { display: flex; flex-direction: column; flex-basis: 100%; flex: 1; padding: 10px; }\n",
       "    </style>\n",
       "<div class=\"wandb-row\"><div class=\"wandb-col\"><h3>Run history:</h3><br/><table class=\"wandb\"><tr><td>epoch</td><td>▁▁▂▃▃▃▄▅▅▅▆▇▇▇█</td></tr><tr><td>test_loss</td><td>█▆▅▅▃▄▂▃▂▁▂▁▁▁▂</td></tr><tr><td>test_r2</td><td>▁▃▄▄▆▅▇▆▇█▇███▇</td></tr><tr><td>train_loss</td><td>█▆▅▅▄▄▄▄▃▃▃▂▂▁▁</td></tr><tr><td>train_r2</td><td>▁▃▄▄▄▅▅▅▆▆▆▇▇██</td></tr><tr><td>train_rmse</td><td>█▆▅▅▅▄▄▄▃▃▃▂▂▁▁</td></tr></table><br/></div><div class=\"wandb-col\"><h3>Run summary:</h3><br/><table class=\"wandb\"><tr><td>best_test_r2</td><td>0.0091</td></tr><tr><td>best_train_r2</td><td>0.02777</td></tr><tr><td>epoch</td><td>15</td></tr><tr><td>test_loss</td><td>0.79852</td></tr><tr><td>test_r2</td><td>0.00871</td></tr><tr><td>train_loss</td><td>2.08581</td></tr><tr><td>train_r2</td><td>0.02777</td></tr><tr><td>train_rmse</td><td>0.81802</td></tr></table><br/></div></div>"
      ],
      "text/plain": [
       "<IPython.core.display.HTML object>"
      ]
     },
     "metadata": {},
     "output_type": "display_data"
    },
    {
     "data": {
      "text/html": [
       " View run <strong style=\"color:#cdcd00\">proud-sweep-3</strong> at: <a href='https://wandb.ai/turkenm/js_tabm/runs/i8li5dc4' target=\"_blank\">https://wandb.ai/turkenm/js_tabm/runs/i8li5dc4</a><br/> View project at: <a href='https://wandb.ai/turkenm/js_tabm' target=\"_blank\">https://wandb.ai/turkenm/js_tabm</a><br/>Synced 6 W&B file(s), 0 media file(s), 0 artifact file(s) and 0 other file(s)"
      ],
      "text/plain": [
       "<IPython.core.display.HTML object>"
      ]
     },
     "metadata": {},
     "output_type": "display_data"
    },
    {
     "data": {
      "text/html": [
       "Find logs at: <code>./wandb/run-20250112_163035-i8li5dc4/logs</code>"
      ],
      "text/plain": [
       "<IPython.core.display.HTML object>"
      ]
     },
     "metadata": {},
     "output_type": "display_data"
    },
    {
     "name": "stderr",
     "output_type": "stream",
     "text": [
      "\u001b[34m\u001b[1mwandb\u001b[0m: Agent Starting Run: 1c2c1pvc with config:\n",
      "\u001b[34m\u001b[1mwandb\u001b[0m: \td_block: 64\n",
      "\u001b[34m\u001b[1mwandb\u001b[0m: \tdrop_out: 0.1\n",
      "\u001b[34m\u001b[1mwandb\u001b[0m: \tlearning_rate: 0.00015\n",
      "\u001b[34m\u001b[1mwandb\u001b[0m: \tmodel_arch: tabm-mini\n",
      "\u001b[34m\u001b[1mwandb\u001b[0m: \tn_block: 3\n",
      "\u001b[34m\u001b[1mwandb\u001b[0m: \tn_k: 32\n",
      "\u001b[34m\u001b[1mwandb\u001b[0m: \tweight_decay: 0.0002\n",
      "Failed to detect the name of this notebook, you can set it manually with the WANDB_NOTEBOOK_NAME environment variable to enable code saving.\n",
      "/home/mt/miniconda3/envs/tabm/lib/python3.10/site-packages/wandb/sdk/wandb_setup.py:254: ResourceWarning: unclosed file <_io.TextIOWrapper name='/home/mt/Desktop/JaneStreet-Comp/wandb/sweep-mtpap5fv/config-1c2c1pvc.yaml' mode='r' encoding='UTF-8'>\n",
      "  self._sweep_config = config_util.dict_from_config_file(\n",
      "ResourceWarning: Enable tracemalloc to get the object allocation traceback\n"
     ]
    },
    {
     "data": {
      "text/html": [
       "wandb version 0.19.2 is available!  To upgrade, please run:\n",
       " $ pip install wandb --upgrade"
      ],
      "text/plain": [
       "<IPython.core.display.HTML object>"
      ]
     },
     "metadata": {},
     "output_type": "display_data"
    },
    {
     "data": {
      "text/html": [
       "Tracking run with wandb version 0.16.6"
      ],
      "text/plain": [
       "<IPython.core.display.HTML object>"
      ]
     },
     "metadata": {},
     "output_type": "display_data"
    },
    {
     "data": {
      "text/html": [
       "Run data is saved locally in <code>/home/mt/Desktop/JaneStreet-Comp/wandb/run-20250112_164222-1c2c1pvc</code>"
      ],
      "text/plain": [
       "<IPython.core.display.HTML object>"
      ]
     },
     "metadata": {},
     "output_type": "display_data"
    },
    {
     "data": {
      "text/html": [
       "Syncing run <strong><a href='https://wandb.ai/turkenm/js_tabm/runs/1c2c1pvc' target=\"_blank\">absurd-sweep-4</a></strong> to <a href='https://wandb.ai/turkenm/js_tabm' target=\"_blank\">Weights & Biases</a> (<a href='https://wandb.me/run' target=\"_blank\">docs</a>)<br/>Sweep page: <a href='https://wandb.ai/turkenm/js_tabm/sweeps/mtpap5fv' target=\"_blank\">https://wandb.ai/turkenm/js_tabm/sweeps/mtpap5fv</a>"
      ],
      "text/plain": [
       "<IPython.core.display.HTML object>"
      ]
     },
     "metadata": {},
     "output_type": "display_data"
    },
    {
     "data": {
      "text/html": [
       " View project at <a href='https://wandb.ai/turkenm/js_tabm' target=\"_blank\">https://wandb.ai/turkenm/js_tabm</a>"
      ],
      "text/plain": [
       "<IPython.core.display.HTML object>"
      ]
     },
     "metadata": {},
     "output_type": "display_data"
    },
    {
     "data": {
      "text/html": [
       " View sweep at <a href='https://wandb.ai/turkenm/js_tabm/sweeps/mtpap5fv' target=\"_blank\">https://wandb.ai/turkenm/js_tabm/sweeps/mtpap5fv</a>"
      ],
      "text/plain": [
       "<IPython.core.display.HTML object>"
      ]
     },
     "metadata": {},
     "output_type": "display_data"
    },
    {
     "data": {
      "text/html": [
       " View run at <a href='https://wandb.ai/turkenm/js_tabm/runs/1c2c1pvc' target=\"_blank\">https://wandb.ai/turkenm/js_tabm/runs/1c2c1pvc</a>"
      ],
      "text/plain": [
       "<IPython.core.display.HTML object>"
      ]
     },
     "metadata": {},
     "output_type": "display_data"
    },
    {
     "name": "stdout",
     "output_type": "stream",
     "text": [
      "EXPERIMENT exp_tabm-mini_dblocks_64_nblocks_3_LR_1e-04_BS_1024_DR_0.1_k_32_id_89345\n",
      "\n",
      "\n",
      "Epoch 1:\n"
     ]
    },
    {
     "name": "stderr",
     "output_type": "stream",
     "text": [
      "Training: 100%|██████████| 18964/18964 [00:44<00:00, 424.40it/s, Loss=2.11, rmse=0.824, R²=0.0103] \n",
      "Testing: 100%|██████████| 676/676 [00:01<00:00, 544.34it/s, Loss=0.76, R²=0.00688] \n"
     ]
    },
    {
     "name": "stdout",
     "output_type": "stream",
     "text": [
      "Train rmse: 0.82533, Train R2: 0.01033, Train loss: 2.11393\n",
      "Test loss: 0.79931, Test R2: 0.00673\n",
      "Model Saved - Epoch 1 - Test R2: 0.00673\n",
      "\n",
      "\n",
      "Epoch 2:\n"
     ]
    },
    {
     "name": "stderr",
     "output_type": "stream",
     "text": [
      "Training: 100%|██████████| 18964/18964 [00:44<00:00, 425.01it/s, Loss=2.11, rmse=0.822, R²=0.0151]\n",
      "Testing: 100%|██████████| 676/676 [00:01<00:00, 544.93it/s, Loss=0.76, R²=0.00777] \n"
     ]
    },
    {
     "name": "stdout",
     "output_type": "stream",
     "text": [
      "Train rmse: 0.82332, Train R2: 0.01515, Train loss: 2.10617\n",
      "Test loss: 0.79896, Test R2: 0.00760\n",
      "Model Saved - Epoch 2 - Test R2: 0.00760\n",
      "\n",
      "\n",
      "Epoch 3:\n"
     ]
    },
    {
     "name": "stderr",
     "output_type": "stream",
     "text": [
      "Training: 100%|██████████| 18964/18964 [00:44<00:00, 422.41it/s, Loss=2.1, rmse=0.821, R²=0.0172]\n",
      "Testing: 100%|██████████| 676/676 [00:01<00:00, 544.01it/s, Loss=0.76, R²=0.00795] \n"
     ]
    },
    {
     "name": "stdout",
     "output_type": "stream",
     "text": [
      "Train rmse: 0.82247, Train R2: 0.01717, Train loss: 2.10305\n",
      "Test loss: 0.79889, Test R2: 0.00778\n",
      "Model Saved - Epoch 3 - Test R2: 0.00778\n",
      "\n",
      "\n",
      "Epoch 4:\n"
     ]
    },
    {
     "name": "stderr",
     "output_type": "stream",
     "text": [
      "Training:   3%|▎         | 585/18964 [00:01<00:41, 443.15it/s, Loss=2.09, rmse=0.818, R²=0.0165]/home/mt/miniconda3/envs/tabm/lib/python3.10/site-packages/torch/nn/functional.py:1425: ResourceWarning: unclosed <socket.socket fd=109, family=AddressFamily.AF_INET, type=SocketKind.SOCK_STREAM, proto=0, laddr=('127.0.0.1', 32930), raddr=('127.0.0.1', 54931)>\n",
      "  _VF.dropout_(input, p, training) if inplace else _VF.dropout(input, p, training)\n",
      "ResourceWarning: Enable tracemalloc to get the object allocation traceback\n",
      "Training: 100%|██████████| 18964/18964 [00:44<00:00, 421.72it/s, Loss=2.1, rmse=0.821, R²=0.0183]\n",
      "Testing: 100%|██████████| 676/676 [00:01<00:00, 543.62it/s, Loss=0.76, R²=0.00796] \n"
     ]
    },
    {
     "name": "stdout",
     "output_type": "stream",
     "text": [
      "Train rmse: 0.82198, Train R2: 0.01834, Train loss: 2.10104\n",
      "Test loss: 0.79888, Test R2: 0.00780\n",
      "Model Saved - Epoch 4 - Test R2: 0.00780\n",
      "\n",
      "\n",
      "Epoch 5:\n"
     ]
    },
    {
     "name": "stderr",
     "output_type": "stream",
     "text": [
      "Training: 100%|██████████| 18964/18964 [00:44<00:00, 424.75it/s, Loss=2.1, rmse=0.821, R²=0.0191]\n",
      "Testing: 100%|██████████| 676/676 [00:01<00:00, 545.30it/s, Loss=0.76, R²=0.00851] \n"
     ]
    },
    {
     "name": "stdout",
     "output_type": "stream",
     "text": [
      "Train rmse: 0.82163, Train R2: 0.01917, Train loss: 2.09965\n",
      "Test loss: 0.79867, Test R2: 0.00831\n",
      "Model Saved - Epoch 5 - Test R2: 0.00831\n",
      "\n",
      "\n",
      "Epoch 6:\n"
     ]
    },
    {
     "name": "stderr",
     "output_type": "stream",
     "text": [
      "Training: 100%|██████████| 18964/18964 [00:44<00:00, 424.05it/s, Loss=2.1, rmse=0.82, R²=0.0199] \n",
      "Testing: 100%|██████████| 676/676 [00:01<00:00, 545.35it/s, Loss=0.76, R²=0.00844] \n"
     ]
    },
    {
     "name": "stdout",
     "output_type": "stream",
     "text": [
      "Train rmse: 0.82131, Train R2: 0.01993, Train loss: 2.09838\n",
      "Test loss: 0.79870, Test R2: 0.00825\n",
      "\n",
      "Epoch 7:\n"
     ]
    },
    {
     "name": "stderr",
     "output_type": "stream",
     "text": [
      "Training: 100%|██████████| 18964/18964 [00:44<00:00, 423.02it/s, Loss=2.1, rmse=0.82, R²=0.0206]  \n",
      "Testing: 100%|██████████| 676/676 [00:01<00:00, 546.48it/s, Loss=0.76, R²=0.00866] \n"
     ]
    },
    {
     "name": "stdout",
     "output_type": "stream",
     "text": [
      "Train rmse: 0.82100, Train R2: 0.02067, Train loss: 2.09718\n",
      "Test loss: 0.79860, Test R2: 0.00848\n",
      "Model Saved - Epoch 7 - Test R2: 0.00848\n",
      "\n",
      "\n",
      "Epoch 8:\n"
     ]
    },
    {
     "name": "stderr",
     "output_type": "stream",
     "text": [
      "Training: 100%|██████████| 18964/18964 [00:44<00:00, 424.65it/s, Loss=2.1, rmse=0.82, R²=0.0214]  \n",
      "Testing: 100%|██████████| 676/676 [00:01<00:00, 545.58it/s, Loss=0.759, R²=0.00935]\n"
     ]
    },
    {
     "name": "stdout",
     "output_type": "stream",
     "text": [
      "Train rmse: 0.82071, Train R2: 0.02138, Train loss: 2.09604\n",
      "Test loss: 0.79835, Test R2: 0.00912\n",
      "Model Saved - Epoch 8 - Test R2: 0.00912\n",
      "\n",
      "\n",
      "Epoch 9:\n"
     ]
    },
    {
     "name": "stderr",
     "output_type": "stream",
     "text": [
      "Training: 100%|██████████| 18964/18964 [00:44<00:00, 424.32it/s, Loss=2.09, rmse=0.819, R²=0.0221]\n",
      "Testing: 100%|██████████| 676/676 [00:01<00:00, 545.85it/s, Loss=0.759, R²=0.00949]\n"
     ]
    },
    {
     "name": "stdout",
     "output_type": "stream",
     "text": [
      "Train rmse: 0.82041, Train R2: 0.02209, Train loss: 2.09490\n",
      "Test loss: 0.79830, Test R2: 0.00924\n",
      "Model Saved - Epoch 9 - Test R2: 0.00924\n",
      "\n",
      "\n",
      "Epoch 10:\n"
     ]
    },
    {
     "name": "stderr",
     "output_type": "stream",
     "text": [
      "Training: 100%|██████████| 18964/18964 [00:44<00:00, 425.16it/s, Loss=2.09, rmse=0.819, R²=0.0231]\n",
      "Testing: 100%|██████████| 676/676 [00:01<00:00, 544.42it/s, Loss=0.759, R²=0.00919]\n"
     ]
    },
    {
     "name": "stdout",
     "output_type": "stream",
     "text": [
      "Train rmse: 0.82000, Train R2: 0.02306, Train loss: 2.09340\n",
      "Test loss: 0.79841, Test R2: 0.00898\n",
      "\n",
      "Epoch 11:\n"
     ]
    },
    {
     "name": "stderr",
     "output_type": "stream",
     "text": [
      "Training: 100%|██████████| 18964/18964 [00:44<00:00, 423.28it/s, Loss=2.09, rmse=0.819, R²=0.024] \n",
      "Testing: 100%|██████████| 676/676 [00:01<00:00, 546.23it/s, Loss=0.759, R²=0.00961]\n"
     ]
    },
    {
     "name": "stdout",
     "output_type": "stream",
     "text": [
      "Train rmse: 0.81958, Train R2: 0.02405, Train loss: 2.09175\n",
      "Test loss: 0.79823, Test R2: 0.00942\n",
      "Model Saved - Epoch 11 - Test R2: 0.00942\n",
      "\n",
      "\n",
      "Epoch 12:\n"
     ]
    },
    {
     "name": "stderr",
     "output_type": "stream",
     "text": [
      "Training: 100%|██████████| 18964/18964 [00:44<00:00, 422.55it/s, Loss=2.09, rmse=0.818, R²=0.025] \n",
      "Testing: 100%|██████████| 676/676 [00:01<00:00, 544.21it/s, Loss=0.759, R²=0.00959]\n"
     ]
    },
    {
     "name": "stdout",
     "output_type": "stream",
     "text": [
      "Train rmse: 0.81920, Train R2: 0.02497, Train loss: 2.09019\n",
      "Test loss: 0.79824, Test R2: 0.00938\n",
      "\n",
      "Epoch 13:\n"
     ]
    },
    {
     "name": "stderr",
     "output_type": "stream",
     "text": [
      "Training: 100%|██████████| 18964/18964 [00:44<00:00, 423.62it/s, Loss=2.09, rmse=0.818, R²=0.0259]\n",
      "Testing: 100%|██████████| 676/676 [00:01<00:00, 546.06it/s, Loss=0.759, R²=0.00951]\n"
     ]
    },
    {
     "name": "stdout",
     "output_type": "stream",
     "text": [
      "Train rmse: 0.81881, Train R2: 0.02591, Train loss: 2.08874\n",
      "Test loss: 0.79828, Test R2: 0.00928\n",
      "\n",
      "Epoch 14:\n"
     ]
    },
    {
     "name": "stderr",
     "output_type": "stream",
     "text": [
      "Training: 100%|██████████| 18964/18964 [00:44<00:00, 424.88it/s, Loss=2.09, rmse=0.817, R²=0.0268]\n",
      "Testing: 100%|██████████| 676/676 [00:01<00:00, 546.32it/s, Loss=0.759, R²=0.00946]\n"
     ]
    },
    {
     "name": "stdout",
     "output_type": "stream",
     "text": [
      "Train rmse: 0.81842, Train R2: 0.02683, Train loss: 2.08718\n",
      "Test loss: 0.79829, Test R2: 0.00927\n",
      "\n",
      "Epoch 15:\n"
     ]
    },
    {
     "name": "stderr",
     "output_type": "stream",
     "text": [
      "Training: 100%|██████████| 18964/18964 [00:44<00:00, 421.59it/s, Loss=2.09, rmse=0.817, R²=0.0278]\n",
      "Testing: 100%|██████████| 676/676 [00:01<00:00, 542.86it/s, Loss=0.759, R²=0.00962]\n"
     ]
    },
    {
     "name": "stdout",
     "output_type": "stream",
     "text": [
      "Train rmse: 0.81800, Train R2: 0.02783, Train loss: 2.08534\n",
      "Test loss: 0.79824, Test R2: 0.00938\n",
      "\n",
      "Best Epoch: 11, Best Test R2: 0.00942\n"
     ]
    },
    {
     "name": "stderr",
     "output_type": "stream",
     "text": [
      "/home/mt/miniconda3/envs/tabm/lib/python3.10/site-packages/wandb/sdk/lib/ipython.py:89: DeprecationWarning: Importing display from IPython.core.display is deprecated since IPython 7.14, please import from IPython display\n",
      "  from IPython.core.display import display\n"
     ]
    },
    {
     "data": {
      "application/vnd.jupyter.widget-view+json": {
       "model_id": "ae28f9c0d9164a929f226b0e0692c41c",
       "version_major": 2,
       "version_minor": 0
      },
      "text/plain": [
       "VBox(children=(Label(value='0.004 MB of 0.004 MB uploaded\\r'), FloatProgress(value=1.0, max=1.0)))"
      ]
     },
     "metadata": {},
     "output_type": "display_data"
    },
    {
     "name": "stderr",
     "output_type": "stream",
     "text": [
      "/home/mt/miniconda3/envs/tabm/lib/python3.10/site-packages/wandb/sdk/lib/ipython.py:77: DeprecationWarning: Importing display from IPython.core.display is deprecated since IPython 7.14, please import from IPython display\n",
      "  from IPython.core.display import HTML, display  # type: ignore\n"
     ]
    },
    {
     "data": {
      "text/html": [
       "<style>\n",
       "    table.wandb td:nth-child(1) { padding: 0 10px; text-align: left ; width: auto;} td:nth-child(2) {text-align: left ; width: 100%}\n",
       "    .wandb-row { display: flex; flex-direction: row; flex-wrap: wrap; justify-content: flex-start; width: 100% }\n",
       "    .wandb-col { display: flex; flex-direction: column; flex-basis: 100%; flex: 1; padding: 10px; }\n",
       "    </style>\n",
       "<div class=\"wandb-row\"><div class=\"wandb-col\"><h3>Run history:</h3><br/><table class=\"wandb\"><tr><td>epoch</td><td>▁▁▂▃▃▃▄▅▅▅▆▇▇▇█</td></tr><tr><td>test_loss</td><td>█▆▅▅▄▄▃▂▁▂▁▁▁▁▁</td></tr><tr><td>test_r2</td><td>▁▃▄▄▅▅▆▇█▇█████</td></tr><tr><td>train_loss</td><td>█▆▅▅▅▄▄▄▃▃▃▂▂▁▁</td></tr><tr><td>train_r2</td><td>▁▃▄▄▅▅▅▅▆▆▆▇▇██</td></tr><tr><td>train_rmse</td><td>█▆▅▅▄▄▄▄▃▃▃▂▂▁▁</td></tr></table><br/></div><div class=\"wandb-col\"><h3>Run summary:</h3><br/><table class=\"wandb\"><tr><td>best_test_r2</td><td>0.00942</td></tr><tr><td>best_train_r2</td><td>0.02783</td></tr><tr><td>epoch</td><td>15</td></tr><tr><td>test_loss</td><td>0.79824</td></tr><tr><td>test_r2</td><td>0.00938</td></tr><tr><td>train_loss</td><td>2.08534</td></tr><tr><td>train_r2</td><td>0.02783</td></tr><tr><td>train_rmse</td><td>0.818</td></tr></table><br/></div></div>"
      ],
      "text/plain": [
       "<IPython.core.display.HTML object>"
      ]
     },
     "metadata": {},
     "output_type": "display_data"
    },
    {
     "data": {
      "text/html": [
       " View run <strong style=\"color:#cdcd00\">absurd-sweep-4</strong> at: <a href='https://wandb.ai/turkenm/js_tabm/runs/1c2c1pvc' target=\"_blank\">https://wandb.ai/turkenm/js_tabm/runs/1c2c1pvc</a><br/> View project at: <a href='https://wandb.ai/turkenm/js_tabm' target=\"_blank\">https://wandb.ai/turkenm/js_tabm</a><br/>Synced 6 W&B file(s), 0 media file(s), 0 artifact file(s) and 0 other file(s)"
      ],
      "text/plain": [
       "<IPython.core.display.HTML object>"
      ]
     },
     "metadata": {},
     "output_type": "display_data"
    },
    {
     "data": {
      "text/html": [
       "Find logs at: <code>./wandb/run-20250112_164222-1c2c1pvc/logs</code>"
      ],
      "text/plain": [
       "<IPython.core.display.HTML object>"
      ]
     },
     "metadata": {},
     "output_type": "display_data"
    },
    {
     "name": "stderr",
     "output_type": "stream",
     "text": [
      "\u001b[34m\u001b[1mwandb\u001b[0m: Agent Starting Run: kcxrgodu with config:\n",
      "\u001b[34m\u001b[1mwandb\u001b[0m: \td_block: 64\n",
      "\u001b[34m\u001b[1mwandb\u001b[0m: \tdrop_out: 0.1\n",
      "\u001b[34m\u001b[1mwandb\u001b[0m: \tlearning_rate: 0.0002\n",
      "\u001b[34m\u001b[1mwandb\u001b[0m: \tmodel_arch: tabm-mini\n",
      "\u001b[34m\u001b[1mwandb\u001b[0m: \tn_block: 3\n",
      "\u001b[34m\u001b[1mwandb\u001b[0m: \tn_k: 16\n",
      "\u001b[34m\u001b[1mwandb\u001b[0m: \tweight_decay: 0.0001\n",
      "Failed to detect the name of this notebook, you can set it manually with the WANDB_NOTEBOOK_NAME environment variable to enable code saving.\n",
      "/home/mt/miniconda3/envs/tabm/lib/python3.10/site-packages/wandb/sdk/wandb_setup.py:254: ResourceWarning: unclosed file <_io.TextIOWrapper name='/home/mt/Desktop/JaneStreet-Comp/wandb/sweep-mtpap5fv/config-kcxrgodu.yaml' mode='r' encoding='UTF-8'>\n",
      "  self._sweep_config = config_util.dict_from_config_file(\n",
      "ResourceWarning: Enable tracemalloc to get the object allocation traceback\n"
     ]
    },
    {
     "data": {
      "text/html": [
       "wandb version 0.19.2 is available!  To upgrade, please run:\n",
       " $ pip install wandb --upgrade"
      ],
      "text/plain": [
       "<IPython.core.display.HTML object>"
      ]
     },
     "metadata": {},
     "output_type": "display_data"
    },
    {
     "data": {
      "text/html": [
       "Tracking run with wandb version 0.16.6"
      ],
      "text/plain": [
       "<IPython.core.display.HTML object>"
      ]
     },
     "metadata": {},
     "output_type": "display_data"
    },
    {
     "data": {
      "text/html": [
       "Run data is saved locally in <code>/home/mt/Desktop/JaneStreet-Comp/wandb/run-20250112_165410-kcxrgodu</code>"
      ],
      "text/plain": [
       "<IPython.core.display.HTML object>"
      ]
     },
     "metadata": {},
     "output_type": "display_data"
    },
    {
     "data": {
      "text/html": [
       "Syncing run <strong><a href='https://wandb.ai/turkenm/js_tabm/runs/kcxrgodu' target=\"_blank\">playful-sweep-5</a></strong> to <a href='https://wandb.ai/turkenm/js_tabm' target=\"_blank\">Weights & Biases</a> (<a href='https://wandb.me/run' target=\"_blank\">docs</a>)<br/>Sweep page: <a href='https://wandb.ai/turkenm/js_tabm/sweeps/mtpap5fv' target=\"_blank\">https://wandb.ai/turkenm/js_tabm/sweeps/mtpap5fv</a>"
      ],
      "text/plain": [
       "<IPython.core.display.HTML object>"
      ]
     },
     "metadata": {},
     "output_type": "display_data"
    },
    {
     "data": {
      "text/html": [
       " View project at <a href='https://wandb.ai/turkenm/js_tabm' target=\"_blank\">https://wandb.ai/turkenm/js_tabm</a>"
      ],
      "text/plain": [
       "<IPython.core.display.HTML object>"
      ]
     },
     "metadata": {},
     "output_type": "display_data"
    },
    {
     "data": {
      "text/html": [
       " View sweep at <a href='https://wandb.ai/turkenm/js_tabm/sweeps/mtpap5fv' target=\"_blank\">https://wandb.ai/turkenm/js_tabm/sweeps/mtpap5fv</a>"
      ],
      "text/plain": [
       "<IPython.core.display.HTML object>"
      ]
     },
     "metadata": {},
     "output_type": "display_data"
    },
    {
     "data": {
      "text/html": [
       " View run at <a href='https://wandb.ai/turkenm/js_tabm/runs/kcxrgodu' target=\"_blank\">https://wandb.ai/turkenm/js_tabm/runs/kcxrgodu</a>"
      ],
      "text/plain": [
       "<IPython.core.display.HTML object>"
      ]
     },
     "metadata": {},
     "output_type": "display_data"
    },
    {
     "name": "stdout",
     "output_type": "stream",
     "text": [
      "EXPERIMENT exp_tabm-mini_dblocks_64_nblocks_3_LR_2e-04_BS_1024_DR_0.1_k_16_id_90053\n",
      "\n",
      "\n",
      "Epoch 1:\n"
     ]
    },
    {
     "name": "stderr",
     "output_type": "stream",
     "text": [
      "Training: 100%|██████████| 18964/18964 [00:31<00:00, 597.29it/s, Loss=2.11, rmse=0.823, R²=0.013] \n",
      "Testing: 100%|██████████| 676/676 [00:00<00:00, 855.26it/s, Loss=0.76, R²=0.0082]  \n"
     ]
    },
    {
     "name": "stdout",
     "output_type": "stream",
     "text": [
      "Train rmse: 0.82418, Train R2: 0.01308, Train loss: 2.10905\n",
      "Test loss: 0.79880, Test R2: 0.00800\n",
      "Model Saved - Epoch 1 - Test R2: 0.00800\n",
      "\n",
      "\n",
      "Epoch 2:\n"
     ]
    },
    {
     "name": "stderr",
     "output_type": "stream",
     "text": [
      "Training: 100%|██████████| 18964/18964 [00:31<00:00, 598.20it/s, Loss=2.1, rmse=0.821, R²=0.0183]\n",
      "Testing: 100%|██████████| 676/676 [00:00<00:00, 856.47it/s, Loss=0.76, R²=0.00756] \n"
     ]
    },
    {
     "name": "stdout",
     "output_type": "stream",
     "text": [
      "Train rmse: 0.82198, Train R2: 0.01834, Train loss: 2.10049\n",
      "Test loss: 0.79902, Test R2: 0.00745\n",
      "\n",
      "Epoch 3:\n"
     ]
    },
    {
     "name": "stderr",
     "output_type": "stream",
     "text": [
      "Training: 100%|██████████| 18964/18964 [00:31<00:00, 596.55it/s, Loss=2.1, rmse=0.82, R²=0.0201] \n",
      "Testing: 100%|██████████| 676/676 [00:00<00:00, 857.59it/s, Loss=0.76, R²=0.00796] \n"
     ]
    },
    {
     "name": "stdout",
     "output_type": "stream",
     "text": [
      "Train rmse: 0.82126, Train R2: 0.02007, Train loss: 2.09770\n",
      "Test loss: 0.79888, Test R2: 0.00780\n",
      "\n",
      "Epoch 4:\n"
     ]
    },
    {
     "name": "stderr",
     "output_type": "stream",
     "text": [
      "Training:   7%|▋         | 1235/18964 [00:01<00:27, 636.41it/s, Loss=2.1, rmse=0.821, R²=0.0207]/home/mt/miniconda3/envs/tabm/lib/python3.10/site-packages/torch/nn/functional.py:1425: ResourceWarning: unclosed <socket.socket fd=105, family=AddressFamily.AF_INET, type=SocketKind.SOCK_STREAM, proto=0, laddr=('127.0.0.1', 44360), raddr=('127.0.0.1', 55373)>\n",
      "  _VF.dropout_(input, p, training) if inplace else _VF.dropout(input, p, training)\n",
      "ResourceWarning: Enable tracemalloc to get the object allocation traceback\n",
      "Training: 100%|██████████| 18964/18964 [00:31<00:00, 595.87it/s, Loss=2.1, rmse=0.82, R²=0.0212] \n",
      "Testing: 100%|██████████| 676/676 [00:00<00:00, 855.32it/s, Loss=0.76, R²=0.00797] \n"
     ]
    },
    {
     "name": "stdout",
     "output_type": "stream",
     "text": [
      "Train rmse: 0.82079, Train R2: 0.02118, Train loss: 2.09605\n",
      "Test loss: 0.79887, Test R2: 0.00783\n",
      "\n",
      "Epoch 5:\n"
     ]
    },
    {
     "name": "stderr",
     "output_type": "stream",
     "text": [
      "Training: 100%|██████████| 18964/18964 [00:31<00:00, 597.54it/s, Loss=2.09, rmse=0.819, R²=0.0221]\n",
      "Testing: 100%|██████████| 676/676 [00:00<00:00, 854.13it/s, Loss=0.76, R²=0.00813] \n"
     ]
    },
    {
     "name": "stdout",
     "output_type": "stream",
     "text": [
      "Train rmse: 0.82041, Train R2: 0.02210, Train loss: 2.09462\n",
      "Test loss: 0.79880, Test R2: 0.00799\n",
      "\n",
      "Epoch 6:\n"
     ]
    },
    {
     "name": "stderr",
     "output_type": "stream",
     "text": [
      "Training: 100%|██████████| 18964/18964 [00:31<00:00, 600.02it/s, Loss=2.09, rmse=0.819, R²=0.023] \n",
      "Testing: 100%|██████████| 676/676 [00:00<00:00, 855.11it/s, Loss=0.76, R²=0.00861] \n"
     ]
    },
    {
     "name": "stdout",
     "output_type": "stream",
     "text": [
      "Train rmse: 0.82003, Train R2: 0.02300, Train loss: 2.09330\n",
      "Test loss: 0.79863, Test R2: 0.00843\n",
      "Model Saved - Epoch 6 - Test R2: 0.00843\n",
      "\n",
      "\n",
      "Epoch 7:\n"
     ]
    },
    {
     "name": "stderr",
     "output_type": "stream",
     "text": [
      "Training: 100%|██████████| 18964/18964 [00:31<00:00, 604.06it/s, Loss=2.09, rmse=0.819, R²=0.0237]\n",
      "Testing: 100%|██████████| 676/676 [00:00<00:00, 857.59it/s, Loss=0.76, R²=0.00786] \n"
     ]
    },
    {
     "name": "stdout",
     "output_type": "stream",
     "text": [
      "Train rmse: 0.81971, Train R2: 0.02377, Train loss: 2.09211\n",
      "Test loss: 0.79892, Test R2: 0.00771\n",
      "\n",
      "Epoch 8:\n"
     ]
    },
    {
     "name": "stderr",
     "output_type": "stream",
     "text": [
      "Training: 100%|██████████| 18964/18964 [00:31<00:00, 603.29it/s, Loss=2.09, rmse=0.818, R²=0.0246]\n",
      "Testing: 100%|██████████| 676/676 [00:00<00:00, 856.83it/s, Loss=0.76, R²=0.00856] \n"
     ]
    },
    {
     "name": "stdout",
     "output_type": "stream",
     "text": [
      "Train rmse: 0.81936, Train R2: 0.02458, Train loss: 2.09090\n",
      "Test loss: 0.79866, Test R2: 0.00835\n",
      "\n",
      "Epoch 9:\n"
     ]
    },
    {
     "name": "stderr",
     "output_type": "stream",
     "text": [
      "Training: 100%|██████████| 18964/18964 [00:31<00:00, 598.19it/s, Loss=2.09, rmse=0.818, R²=0.0254]\n",
      "Testing: 100%|██████████| 676/676 [00:00<00:00, 855.00it/s, Loss=0.76, R²=0.00851] \n"
     ]
    },
    {
     "name": "stdout",
     "output_type": "stream",
     "text": [
      "Train rmse: 0.81900, Train R2: 0.02544, Train loss: 2.08958\n",
      "Test loss: 0.79868, Test R2: 0.00830\n",
      "\n",
      "Epoch 10:\n"
     ]
    },
    {
     "name": "stderr",
     "output_type": "stream",
     "text": [
      "Training: 100%|██████████| 18964/18964 [00:31<00:00, 602.27it/s, Loss=2.09, rmse=0.817, R²=0.0264]\n",
      "Testing: 100%|██████████| 676/676 [00:00<00:00, 853.40it/s, Loss=0.76, R²=0.00851] \n"
     ]
    },
    {
     "name": "stdout",
     "output_type": "stream",
     "text": [
      "Train rmse: 0.81859, Train R2: 0.02643, Train loss: 2.08795\n",
      "Test loss: 0.79868, Test R2: 0.00831\n",
      "\n",
      "Epoch 11:\n"
     ]
    },
    {
     "name": "stderr",
     "output_type": "stream",
     "text": [
      "Training: 100%|██████████| 18964/18964 [00:31<00:00, 597.44it/s, Loss=2.09, rmse=0.817, R²=0.0275]\n",
      "Testing: 100%|██████████| 676/676 [00:00<00:00, 854.53it/s, Loss=0.76, R²=0.00847] \n"
     ]
    },
    {
     "name": "stdout",
     "output_type": "stream",
     "text": [
      "Train rmse: 0.81815, Train R2: 0.02747, Train loss: 2.08630\n",
      "Test loss: 0.79871, Test R2: 0.00822\n",
      "\n",
      "Epoch 12:\n"
     ]
    },
    {
     "name": "stderr",
     "output_type": "stream",
     "text": [
      "Training: 100%|██████████| 18964/18964 [00:31<00:00, 600.53it/s, Loss=2.08, rmse=0.817, R²=0.0285]\n",
      "Testing: 100%|██████████| 676/676 [00:00<00:00, 859.44it/s, Loss=0.76, R²=0.00825] \n"
     ]
    },
    {
     "name": "stdout",
     "output_type": "stream",
     "text": [
      "Train rmse: 0.81773, Train R2: 0.02847, Train loss: 2.08475\n",
      "Test loss: 0.79878, Test R2: 0.00806\n",
      "\n",
      "Epoch 13:\n"
     ]
    },
    {
     "name": "stderr",
     "output_type": "stream",
     "text": [
      "Training: 100%|██████████| 18964/18964 [00:31<00:00, 599.59it/s, Loss=2.08, rmse=0.816, R²=0.0297]\n",
      "Testing: 100%|██████████| 676/676 [00:00<00:00, 855.79it/s, Loss=0.76, R²=0.00802] \n"
     ]
    },
    {
     "name": "stdout",
     "output_type": "stream",
     "text": [
      "Train rmse: 0.81720, Train R2: 0.02972, Train loss: 2.08286\n",
      "Test loss: 0.79887, Test R2: 0.00784\n",
      "\n",
      "Epoch 14:\n"
     ]
    },
    {
     "name": "stderr",
     "output_type": "stream",
     "text": [
      "Training: 100%|██████████| 18964/18964 [00:31<00:00, 598.93it/s, Loss=2.08, rmse=0.816, R²=0.0311]\n",
      "Testing: 100%|██████████| 676/676 [00:00<00:00, 855.31it/s, Loss=0.76, R²=0.00764]  \n"
     ]
    },
    {
     "name": "stdout",
     "output_type": "stream",
     "text": [
      "Train rmse: 0.81663, Train R2: 0.03108, Train loss: 2.08086\n",
      "Test loss: 0.79903, Test R2: 0.00743\n",
      "\n",
      "Epoch 15:\n"
     ]
    },
    {
     "name": "stderr",
     "output_type": "stream",
     "text": [
      "Training: 100%|██████████| 18964/18964 [00:31<00:00, 598.80it/s, Loss=2.08, rmse=0.815, R²=0.0326]\n",
      "Testing: 100%|██████████| 676/676 [00:00<00:00, 858.58it/s, Loss=0.76, R²=0.00773] \n"
     ]
    },
    {
     "name": "stdout",
     "output_type": "stream",
     "text": [
      "Train rmse: 0.81600, Train R2: 0.03258, Train loss: 2.07879\n",
      "Test loss: 0.79901, Test R2: 0.00748\n",
      "\n",
      "Best Epoch: 6, Best Test R2: 0.00843\n"
     ]
    },
    {
     "name": "stderr",
     "output_type": "stream",
     "text": [
      "/home/mt/miniconda3/envs/tabm/lib/python3.10/site-packages/wandb/sdk/lib/ipython.py:89: DeprecationWarning: Importing display from IPython.core.display is deprecated since IPython 7.14, please import from IPython display\n",
      "  from IPython.core.display import display\n"
     ]
    },
    {
     "data": {
      "application/vnd.jupyter.widget-view+json": {
       "model_id": "546dbce096484ff2b5ccdd7d1e551248",
       "version_major": 2,
       "version_minor": 0
      },
      "text/plain": [
       "VBox(children=(Label(value='0.004 MB of 0.004 MB uploaded\\r'), FloatProgress(value=1.0, max=1.0)))"
      ]
     },
     "metadata": {},
     "output_type": "display_data"
    },
    {
     "name": "stderr",
     "output_type": "stream",
     "text": [
      "/home/mt/miniconda3/envs/tabm/lib/python3.10/site-packages/wandb/sdk/lib/ipython.py:77: DeprecationWarning: Importing display from IPython.core.display is deprecated since IPython 7.14, please import from IPython display\n",
      "  from IPython.core.display import HTML, display  # type: ignore\n"
     ]
    },
    {
     "data": {
      "text/html": [
       "<style>\n",
       "    table.wandb td:nth-child(1) { padding: 0 10px; text-align: left ; width: auto;} td:nth-child(2) {text-align: left ; width: 100%}\n",
       "    .wandb-row { display: flex; flex-direction: row; flex-wrap: wrap; justify-content: flex-start; width: 100% }\n",
       "    .wandb-col { display: flex; flex-direction: column; flex-basis: 100%; flex: 1; padding: 10px; }\n",
       "    </style>\n",
       "<div class=\"wandb-row\"><div class=\"wandb-col\"><h3>Run history:</h3><br/><table class=\"wandb\"><tr><td>epoch</td><td>▁▁▂▃▃▃▄▅▅▅▆▇▇▇█</td></tr><tr><td>test_loss</td><td>▄█▅▅▄▁▆▂▂▂▂▄▅██</td></tr><tr><td>test_r2</td><td>▅▁▄▄▅█▃▇▇▇▇▅▄▁▁</td></tr><tr><td>train_loss</td><td>█▆▅▅▅▄▄▄▃▃▃▂▂▁▁</td></tr><tr><td>train_r2</td><td>▁▃▄▄▄▅▅▅▅▆▆▇▇▇█</td></tr><tr><td>train_rmse</td><td>█▆▅▅▅▄▄▄▄▃▃▂▂▂▁</td></tr></table><br/></div><div class=\"wandb-col\"><h3>Run summary:</h3><br/><table class=\"wandb\"><tr><td>best_test_r2</td><td>0.00843</td></tr><tr><td>best_train_r2</td><td>0.03258</td></tr><tr><td>epoch</td><td>15</td></tr><tr><td>test_loss</td><td>0.79901</td></tr><tr><td>test_r2</td><td>0.00748</td></tr><tr><td>train_loss</td><td>2.07879</td></tr><tr><td>train_r2</td><td>0.03258</td></tr><tr><td>train_rmse</td><td>0.816</td></tr></table><br/></div></div>"
      ],
      "text/plain": [
       "<IPython.core.display.HTML object>"
      ]
     },
     "metadata": {},
     "output_type": "display_data"
    },
    {
     "data": {
      "text/html": [
       " View run <strong style=\"color:#cdcd00\">playful-sweep-5</strong> at: <a href='https://wandb.ai/turkenm/js_tabm/runs/kcxrgodu' target=\"_blank\">https://wandb.ai/turkenm/js_tabm/runs/kcxrgodu</a><br/> View project at: <a href='https://wandb.ai/turkenm/js_tabm' target=\"_blank\">https://wandb.ai/turkenm/js_tabm</a><br/>Synced 6 W&B file(s), 0 media file(s), 0 artifact file(s) and 0 other file(s)"
      ],
      "text/plain": [
       "<IPython.core.display.HTML object>"
      ]
     },
     "metadata": {},
     "output_type": "display_data"
    },
    {
     "data": {
      "text/html": [
       "Find logs at: <code>./wandb/run-20250112_165410-kcxrgodu/logs</code>"
      ],
      "text/plain": [
       "<IPython.core.display.HTML object>"
      ]
     },
     "metadata": {},
     "output_type": "display_data"
    },
    {
     "name": "stderr",
     "output_type": "stream",
     "text": [
      "\u001b[34m\u001b[1mwandb\u001b[0m: Agent Starting Run: og8r5t17 with config:\n",
      "\u001b[34m\u001b[1mwandb\u001b[0m: \td_block: 64\n",
      "\u001b[34m\u001b[1mwandb\u001b[0m: \tdrop_out: 0.1\n",
      "\u001b[34m\u001b[1mwandb\u001b[0m: \tlearning_rate: 0.0002\n",
      "\u001b[34m\u001b[1mwandb\u001b[0m: \tmodel_arch: tabm-mini\n",
      "\u001b[34m\u001b[1mwandb\u001b[0m: \tn_block: 3\n",
      "\u001b[34m\u001b[1mwandb\u001b[0m: \tn_k: 16\n",
      "\u001b[34m\u001b[1mwandb\u001b[0m: \tweight_decay: 0.0002\n",
      "Failed to detect the name of this notebook, you can set it manually with the WANDB_NOTEBOOK_NAME environment variable to enable code saving.\n",
      "/home/mt/miniconda3/envs/tabm/lib/python3.10/site-packages/wandb/sdk/wandb_setup.py:254: ResourceWarning: unclosed file <_io.TextIOWrapper name='/home/mt/Desktop/JaneStreet-Comp/wandb/sweep-mtpap5fv/config-og8r5t17.yaml' mode='r' encoding='UTF-8'>\n",
      "  self._sweep_config = config_util.dict_from_config_file(\n",
      "ResourceWarning: Enable tracemalloc to get the object allocation traceback\n"
     ]
    },
    {
     "data": {
      "text/html": [
       "wandb version 0.19.2 is available!  To upgrade, please run:\n",
       " $ pip install wandb --upgrade"
      ],
      "text/plain": [
       "<IPython.core.display.HTML object>"
      ]
     },
     "metadata": {},
     "output_type": "display_data"
    },
    {
     "data": {
      "text/html": [
       "Tracking run with wandb version 0.16.6"
      ],
      "text/plain": [
       "<IPython.core.display.HTML object>"
      ]
     },
     "metadata": {},
     "output_type": "display_data"
    },
    {
     "data": {
      "text/html": [
       "Run data is saved locally in <code>/home/mt/Desktop/JaneStreet-Comp/wandb/run-20250112_170233-og8r5t17</code>"
      ],
      "text/plain": [
       "<IPython.core.display.HTML object>"
      ]
     },
     "metadata": {},
     "output_type": "display_data"
    },
    {
     "data": {
      "text/html": [
       "Syncing run <strong><a href='https://wandb.ai/turkenm/js_tabm/runs/og8r5t17' target=\"_blank\">colorful-sweep-6</a></strong> to <a href='https://wandb.ai/turkenm/js_tabm' target=\"_blank\">Weights & Biases</a> (<a href='https://wandb.me/run' target=\"_blank\">docs</a>)<br/>Sweep page: <a href='https://wandb.ai/turkenm/js_tabm/sweeps/mtpap5fv' target=\"_blank\">https://wandb.ai/turkenm/js_tabm/sweeps/mtpap5fv</a>"
      ],
      "text/plain": [
       "<IPython.core.display.HTML object>"
      ]
     },
     "metadata": {},
     "output_type": "display_data"
    },
    {
     "data": {
      "text/html": [
       " View project at <a href='https://wandb.ai/turkenm/js_tabm' target=\"_blank\">https://wandb.ai/turkenm/js_tabm</a>"
      ],
      "text/plain": [
       "<IPython.core.display.HTML object>"
      ]
     },
     "metadata": {},
     "output_type": "display_data"
    },
    {
     "data": {
      "text/html": [
       " View sweep at <a href='https://wandb.ai/turkenm/js_tabm/sweeps/mtpap5fv' target=\"_blank\">https://wandb.ai/turkenm/js_tabm/sweeps/mtpap5fv</a>"
      ],
      "text/plain": [
       "<IPython.core.display.HTML object>"
      ]
     },
     "metadata": {},
     "output_type": "display_data"
    },
    {
     "data": {
      "text/html": [
       " View run at <a href='https://wandb.ai/turkenm/js_tabm/runs/og8r5t17' target=\"_blank\">https://wandb.ai/turkenm/js_tabm/runs/og8r5t17</a>"
      ],
      "text/plain": [
       "<IPython.core.display.HTML object>"
      ]
     },
     "metadata": {},
     "output_type": "display_data"
    },
    {
     "name": "stdout",
     "output_type": "stream",
     "text": [
      "EXPERIMENT exp_tabm-mini_dblocks_64_nblocks_3_LR_2e-04_BS_1024_DR_0.1_k_16_id_90556\n",
      "\n",
      "\n",
      "Epoch 1:\n"
     ]
    },
    {
     "name": "stderr",
     "output_type": "stream",
     "text": [
      "Training: 100%|██████████| 18964/18964 [00:31<00:00, 602.61it/s, Loss=2.11, rmse=0.823, R²=0.0131]\n",
      "Testing: 100%|██████████| 676/676 [00:00<00:00, 856.72it/s, Loss=0.76, R²=0.00803] \n"
     ]
    },
    {
     "name": "stdout",
     "output_type": "stream",
     "text": [
      "Train rmse: 0.82418, Train R2: 0.01309, Train loss: 2.10923\n",
      "Test loss: 0.79887, Test R2: 0.00782\n",
      "Model Saved - Epoch 1 - Test R2: 0.00782\n",
      "\n",
      "\n",
      "Epoch 2:\n"
     ]
    },
    {
     "name": "stderr",
     "output_type": "stream",
     "text": [
      "Training: 100%|██████████| 18964/18964 [00:31<00:00, 605.60it/s, Loss=2.1, rmse=0.821, R²=0.0181]\n",
      "Testing: 100%|██████████| 676/676 [00:00<00:00, 860.00it/s, Loss=0.76, R²=0.00841] \n"
     ]
    },
    {
     "name": "stdout",
     "output_type": "stream",
     "text": [
      "Train rmse: 0.82207, Train R2: 0.01812, Train loss: 2.10122\n",
      "Test loss: 0.79871, Test R2: 0.00821\n",
      "Model Saved - Epoch 2 - Test R2: 0.00821\n",
      "\n",
      "\n",
      "Epoch 3:\n"
     ]
    },
    {
     "name": "stderr",
     "output_type": "stream",
     "text": [
      "Training: 100%|██████████| 18964/18964 [00:31<00:00, 604.48it/s, Loss=2.1, rmse=0.82, R²=0.0198] \n",
      "Testing: 100%|██████████| 676/676 [00:00<00:00, 856.27it/s, Loss=0.76, R²=0.00829] \n"
     ]
    },
    {
     "name": "stdout",
     "output_type": "stream",
     "text": [
      "Train rmse: 0.82136, Train R2: 0.01981, Train loss: 2.09842\n",
      "Test loss: 0.79875, Test R2: 0.00812\n",
      "\n",
      "Epoch 4:\n"
     ]
    },
    {
     "name": "stderr",
     "output_type": "stream",
     "text": [
      "Training:   7%|▋         | 1254/18964 [00:01<00:27, 645.69it/s, Loss=2.1, rmse=0.82, R²=0.0204] /home/mt/miniconda3/envs/tabm/lib/python3.10/site-packages/torch/nn/functional.py:1425: ResourceWarning: unclosed <socket.socket fd=110, family=AddressFamily.AF_INET, type=SocketKind.SOCK_STREAM, proto=0, laddr=('127.0.0.1', 58114), raddr=('127.0.0.1', 36375)>\n",
      "  _VF.dropout_(input, p, training) if inplace else _VF.dropout(input, p, training)\n",
      "ResourceWarning: Enable tracemalloc to get the object allocation traceback\n",
      "Training: 100%|██████████| 18964/18964 [00:31<00:00, 603.03it/s, Loss=2.1, rmse=0.82, R²=0.0209]\n",
      "Testing: 100%|██████████| 676/676 [00:00<00:00, 855.79it/s, Loss=0.76, R²=0.00848] \n"
     ]
    },
    {
     "name": "stdout",
     "output_type": "stream",
     "text": [
      "Train rmse: 0.82092, Train R2: 0.02088, Train loss: 2.09680\n",
      "Test loss: 0.79869, Test R2: 0.00828\n",
      "Model Saved - Epoch 4 - Test R2: 0.00828\n",
      "\n",
      "\n",
      "Epoch 5:\n"
     ]
    },
    {
     "name": "stderr",
     "output_type": "stream",
     "text": [
      "Training: 100%|██████████| 18964/18964 [00:31<00:00, 597.88it/s, Loss=2.1, rmse=0.819, R²=0.0217] \n",
      "Testing: 100%|██████████| 676/676 [00:00<00:00, 856.19it/s, Loss=0.76, R²=0.00863] \n"
     ]
    },
    {
     "name": "stdout",
     "output_type": "stream",
     "text": [
      "Train rmse: 0.82058, Train R2: 0.02169, Train loss: 2.09564\n",
      "Test loss: 0.79863, Test R2: 0.00841\n",
      "Model Saved - Epoch 5 - Test R2: 0.00841\n",
      "\n",
      "\n",
      "Epoch 6:\n"
     ]
    },
    {
     "name": "stderr",
     "output_type": "stream",
     "text": [
      "Training: 100%|██████████| 18964/18964 [00:31<00:00, 598.28it/s, Loss=2.09, rmse=0.819, R²=0.0224]\n",
      "Testing: 100%|██████████| 676/676 [00:00<00:00, 853.01it/s, Loss=0.759, R²=0.00913]\n"
     ]
    },
    {
     "name": "stdout",
     "output_type": "stream",
     "text": [
      "Train rmse: 0.82028, Train R2: 0.02240, Train loss: 2.09458\n",
      "Test loss: 0.79844, Test R2: 0.00889\n",
      "Model Saved - Epoch 6 - Test R2: 0.00889\n",
      "\n",
      "\n",
      "Epoch 7:\n"
     ]
    },
    {
     "name": "stderr",
     "output_type": "stream",
     "text": [
      "Training: 100%|██████████| 18964/18964 [00:31<00:00, 600.35it/s, Loss=2.09, rmse=0.819, R²=0.023] \n",
      "Testing: 100%|██████████| 676/676 [00:00<00:00, 860.04it/s, Loss=0.759, R²=0.00916]\n"
     ]
    },
    {
     "name": "stdout",
     "output_type": "stream",
     "text": [
      "Train rmse: 0.82004, Train R2: 0.02297, Train loss: 2.09381\n",
      "Test loss: 0.79843, Test R2: 0.00891\n",
      "Model Saved - Epoch 7 - Test R2: 0.00891\n",
      "\n",
      "\n",
      "Epoch 8:\n"
     ]
    },
    {
     "name": "stderr",
     "output_type": "stream",
     "text": [
      "Training: 100%|██████████| 18964/18964 [00:31<00:00, 599.63it/s, Loss=2.09, rmse=0.819, R²=0.0235]\n",
      "Testing: 100%|██████████| 676/676 [00:00<00:00, 854.39it/s, Loss=0.76, R²=0.00899] \n"
     ]
    },
    {
     "name": "stdout",
     "output_type": "stream",
     "text": [
      "Train rmse: 0.81981, Train R2: 0.02353, Train loss: 2.09296\n",
      "Test loss: 0.79850, Test R2: 0.00874\n",
      "\n",
      "Epoch 9:\n"
     ]
    },
    {
     "name": "stderr",
     "output_type": "stream",
     "text": [
      "Training: 100%|██████████| 18964/18964 [00:31<00:00, 597.39it/s, Loss=2.09, rmse=0.819, R²=0.024] \n",
      "Testing: 100%|██████████| 676/676 [00:00<00:00, 857.52it/s, Loss=0.759, R²=0.00919]\n"
     ]
    },
    {
     "name": "stdout",
     "output_type": "stream",
     "text": [
      "Train rmse: 0.81960, Train R2: 0.02402, Train loss: 2.09215\n",
      "Test loss: 0.79843, Test R2: 0.00892\n",
      "Model Saved - Epoch 9 - Test R2: 0.00892\n",
      "\n",
      "\n",
      "Epoch 10:\n"
     ]
    },
    {
     "name": "stderr",
     "output_type": "stream",
     "text": [
      "Training: 100%|██████████| 18964/18964 [00:31<00:00, 599.46it/s, Loss=2.09, rmse=0.818, R²=0.0246]\n",
      "Testing: 100%|██████████| 676/676 [00:00<00:00, 854.61it/s, Loss=0.759, R²=0.00919]\n"
     ]
    },
    {
     "name": "stdout",
     "output_type": "stream",
     "text": [
      "Train rmse: 0.81937, Train R2: 0.02456, Train loss: 2.09143\n",
      "Test loss: 0.79842, Test R2: 0.00894\n",
      "Model Saved - Epoch 10 - Test R2: 0.00894\n",
      "\n",
      "\n",
      "Epoch 11:\n"
     ]
    },
    {
     "name": "stderr",
     "output_type": "stream",
     "text": [
      "Training: 100%|██████████| 18964/18964 [00:31<00:00, 596.62it/s, Loss=2.09, rmse=0.818, R²=0.0251]\n",
      "Testing: 100%|██████████| 676/676 [00:00<00:00, 856.41it/s, Loss=0.759, R²=0.00919]\n"
     ]
    },
    {
     "name": "stdout",
     "output_type": "stream",
     "text": [
      "Train rmse: 0.81917, Train R2: 0.02504, Train loss: 2.09070\n",
      "Test loss: 0.79843, Test R2: 0.00891\n",
      "\n",
      "Epoch 12:\n"
     ]
    },
    {
     "name": "stderr",
     "output_type": "stream",
     "text": [
      "Training: 100%|██████████| 18964/18964 [00:31<00:00, 598.55it/s, Loss=2.09, rmse=0.818, R²=0.0255]\n",
      "Testing: 100%|██████████| 676/676 [00:00<00:00, 854.36it/s, Loss=0.759, R²=0.00941]\n"
     ]
    },
    {
     "name": "stdout",
     "output_type": "stream",
     "text": [
      "Train rmse: 0.81900, Train R2: 0.02546, Train loss: 2.09006\n",
      "Test loss: 0.79834, Test R2: 0.00914\n",
      "Model Saved - Epoch 12 - Test R2: 0.00914\n",
      "\n",
      "\n",
      "Epoch 13:\n"
     ]
    },
    {
     "name": "stderr",
     "output_type": "stream",
     "text": [
      "Training: 100%|██████████| 18964/18964 [00:31<00:00, 599.12it/s, Loss=2.09, rmse=0.818, R²=0.0259]\n",
      "Testing: 100%|██████████| 676/676 [00:00<00:00, 858.49it/s, Loss=0.759, R²=0.00941]\n"
     ]
    },
    {
     "name": "stdout",
     "output_type": "stream",
     "text": [
      "Train rmse: 0.81880, Train R2: 0.02593, Train loss: 2.08937\n",
      "Test loss: 0.79834, Test R2: 0.00915\n",
      "Model Saved - Epoch 13 - Test R2: 0.00915\n",
      "\n",
      "\n",
      "Epoch 14:\n"
     ]
    },
    {
     "name": "stderr",
     "output_type": "stream",
     "text": [
      "Training: 100%|██████████| 18964/18964 [00:31<00:00, 601.49it/s, Loss=2.09, rmse=0.818, R²=0.0264]\n",
      "Testing: 100%|██████████| 676/676 [00:00<00:00, 856.74it/s, Loss=0.759, R²=0.0095] \n"
     ]
    },
    {
     "name": "stdout",
     "output_type": "stream",
     "text": [
      "Train rmse: 0.81859, Train R2: 0.02643, Train loss: 2.08864\n",
      "Test loss: 0.79831, Test R2: 0.00921\n",
      "Model Saved - Epoch 14 - Test R2: 0.00921\n",
      "\n",
      "\n",
      "Epoch 15:\n"
     ]
    },
    {
     "name": "stderr",
     "output_type": "stream",
     "text": [
      "Training: 100%|██████████| 18964/18964 [00:31<00:00, 601.59it/s, Loss=2.09, rmse=0.817, R²=0.0269]\n",
      "Testing: 100%|██████████| 676/676 [00:00<00:00, 857.18it/s, Loss=0.759, R²=0.00934]\n"
     ]
    },
    {
     "name": "stdout",
     "output_type": "stream",
     "text": [
      "Train rmse: 0.81841, Train R2: 0.02686, Train loss: 2.08794\n",
      "Test loss: 0.79836, Test R2: 0.00908\n",
      "\n",
      "Best Epoch: 14, Best Test R2: 0.00921\n"
     ]
    },
    {
     "name": "stderr",
     "output_type": "stream",
     "text": [
      "/home/mt/miniconda3/envs/tabm/lib/python3.10/site-packages/wandb/sdk/lib/ipython.py:89: DeprecationWarning: Importing display from IPython.core.display is deprecated since IPython 7.14, please import from IPython display\n",
      "  from IPython.core.display import display\n"
     ]
    },
    {
     "data": {
      "application/vnd.jupyter.widget-view+json": {
       "model_id": "bd72b16ce27044a4ac71ec37ea7c1698",
       "version_major": 2,
       "version_minor": 0
      },
      "text/plain": [
       "VBox(children=(Label(value='0.004 MB of 0.004 MB uploaded\\r'), FloatProgress(value=1.0, max=1.0)))"
      ]
     },
     "metadata": {},
     "output_type": "display_data"
    },
    {
     "name": "stderr",
     "output_type": "stream",
     "text": [
      "/home/mt/miniconda3/envs/tabm/lib/python3.10/site-packages/wandb/sdk/lib/ipython.py:77: DeprecationWarning: Importing display from IPython.core.display is deprecated since IPython 7.14, please import from IPython display\n",
      "  from IPython.core.display import HTML, display  # type: ignore\n"
     ]
    },
    {
     "data": {
      "text/html": [
       "<style>\n",
       "    table.wandb td:nth-child(1) { padding: 0 10px; text-align: left ; width: auto;} td:nth-child(2) {text-align: left ; width: 100%}\n",
       "    .wandb-row { display: flex; flex-direction: row; flex-wrap: wrap; justify-content: flex-start; width: 100% }\n",
       "    .wandb-col { display: flex; flex-direction: column; flex-basis: 100%; flex: 1; padding: 10px; }\n",
       "    </style>\n",
       "<div class=\"wandb-row\"><div class=\"wandb-col\"><h3>Run history:</h3><br/><table class=\"wandb\"><tr><td>epoch</td><td>▁▁▂▃▃▃▄▅▅▅▆▇▇▇█</td></tr><tr><td>test_loss</td><td>█▆▇▆▅▃▃▃▂▂▃▁▁▁▂</td></tr><tr><td>test_r2</td><td>▁▃▂▃▄▆▆▆▇▇▆███▇</td></tr><tr><td>train_loss</td><td>█▅▄▄▄▃▃▃▂▂▂▂▁▁▁</td></tr><tr><td>train_r2</td><td>▁▄▄▅▅▆▆▆▇▇▇▇███</td></tr><tr><td>train_rmse</td><td>█▅▅▄▄▃▃▃▂▂▂▂▁▁▁</td></tr></table><br/></div><div class=\"wandb-col\"><h3>Run summary:</h3><br/><table class=\"wandb\"><tr><td>best_test_r2</td><td>0.00921</td></tr><tr><td>best_train_r2</td><td>0.02686</td></tr><tr><td>epoch</td><td>15</td></tr><tr><td>test_loss</td><td>0.79836</td></tr><tr><td>test_r2</td><td>0.00908</td></tr><tr><td>train_loss</td><td>2.08794</td></tr><tr><td>train_r2</td><td>0.02686</td></tr><tr><td>train_rmse</td><td>0.81841</td></tr></table><br/></div></div>"
      ],
      "text/plain": [
       "<IPython.core.display.HTML object>"
      ]
     },
     "metadata": {},
     "output_type": "display_data"
    },
    {
     "data": {
      "text/html": [
       " View run <strong style=\"color:#cdcd00\">colorful-sweep-6</strong> at: <a href='https://wandb.ai/turkenm/js_tabm/runs/og8r5t17' target=\"_blank\">https://wandb.ai/turkenm/js_tabm/runs/og8r5t17</a><br/> View project at: <a href='https://wandb.ai/turkenm/js_tabm' target=\"_blank\">https://wandb.ai/turkenm/js_tabm</a><br/>Synced 6 W&B file(s), 0 media file(s), 0 artifact file(s) and 0 other file(s)"
      ],
      "text/plain": [
       "<IPython.core.display.HTML object>"
      ]
     },
     "metadata": {},
     "output_type": "display_data"
    },
    {
     "data": {
      "text/html": [
       "Find logs at: <code>./wandb/run-20250112_170233-og8r5t17/logs</code>"
      ],
      "text/plain": [
       "<IPython.core.display.HTML object>"
      ]
     },
     "metadata": {},
     "output_type": "display_data"
    },
    {
     "name": "stderr",
     "output_type": "stream",
     "text": [
      "\u001b[34m\u001b[1mwandb\u001b[0m: Agent Starting Run: nxtgifj3 with config:\n",
      "\u001b[34m\u001b[1mwandb\u001b[0m: \td_block: 64\n",
      "\u001b[34m\u001b[1mwandb\u001b[0m: \tdrop_out: 0.1\n",
      "\u001b[34m\u001b[1mwandb\u001b[0m: \tlearning_rate: 0.0002\n",
      "\u001b[34m\u001b[1mwandb\u001b[0m: \tmodel_arch: tabm-mini\n",
      "\u001b[34m\u001b[1mwandb\u001b[0m: \tn_block: 3\n",
      "\u001b[34m\u001b[1mwandb\u001b[0m: \tn_k: 32\n",
      "\u001b[34m\u001b[1mwandb\u001b[0m: \tweight_decay: 0.0001\n",
      "Failed to detect the name of this notebook, you can set it manually with the WANDB_NOTEBOOK_NAME environment variable to enable code saving.\n",
      "/home/mt/miniconda3/envs/tabm/lib/python3.10/site-packages/wandb/sdk/wandb_setup.py:254: ResourceWarning: unclosed file <_io.TextIOWrapper name='/home/mt/Desktop/JaneStreet-Comp/wandb/sweep-mtpap5fv/config-nxtgifj3.yaml' mode='r' encoding='UTF-8'>\n",
      "  self._sweep_config = config_util.dict_from_config_file(\n",
      "ResourceWarning: Enable tracemalloc to get the object allocation traceback\n"
     ]
    },
    {
     "data": {
      "text/html": [
       "wandb version 0.19.2 is available!  To upgrade, please run:\n",
       " $ pip install wandb --upgrade"
      ],
      "text/plain": [
       "<IPython.core.display.HTML object>"
      ]
     },
     "metadata": {},
     "output_type": "display_data"
    },
    {
     "data": {
      "text/html": [
       "Tracking run with wandb version 0.16.6"
      ],
      "text/plain": [
       "<IPython.core.display.HTML object>"
      ]
     },
     "metadata": {},
     "output_type": "display_data"
    },
    {
     "data": {
      "text/html": [
       "Run data is saved locally in <code>/home/mt/Desktop/JaneStreet-Comp/wandb/run-20250112_171056-nxtgifj3</code>"
      ],
      "text/plain": [
       "<IPython.core.display.HTML object>"
      ]
     },
     "metadata": {},
     "output_type": "display_data"
    },
    {
     "data": {
      "text/html": [
       "Syncing run <strong><a href='https://wandb.ai/turkenm/js_tabm/runs/nxtgifj3' target=\"_blank\">curious-sweep-7</a></strong> to <a href='https://wandb.ai/turkenm/js_tabm' target=\"_blank\">Weights & Biases</a> (<a href='https://wandb.me/run' target=\"_blank\">docs</a>)<br/>Sweep page: <a href='https://wandb.ai/turkenm/js_tabm/sweeps/mtpap5fv' target=\"_blank\">https://wandb.ai/turkenm/js_tabm/sweeps/mtpap5fv</a>"
      ],
      "text/plain": [
       "<IPython.core.display.HTML object>"
      ]
     },
     "metadata": {},
     "output_type": "display_data"
    },
    {
     "data": {
      "text/html": [
       " View project at <a href='https://wandb.ai/turkenm/js_tabm' target=\"_blank\">https://wandb.ai/turkenm/js_tabm</a>"
      ],
      "text/plain": [
       "<IPython.core.display.HTML object>"
      ]
     },
     "metadata": {},
     "output_type": "display_data"
    },
    {
     "data": {
      "text/html": [
       " View sweep at <a href='https://wandb.ai/turkenm/js_tabm/sweeps/mtpap5fv' target=\"_blank\">https://wandb.ai/turkenm/js_tabm/sweeps/mtpap5fv</a>"
      ],
      "text/plain": [
       "<IPython.core.display.HTML object>"
      ]
     },
     "metadata": {},
     "output_type": "display_data"
    },
    {
     "data": {
      "text/html": [
       " View run at <a href='https://wandb.ai/turkenm/js_tabm/runs/nxtgifj3' target=\"_blank\">https://wandb.ai/turkenm/js_tabm/runs/nxtgifj3</a>"
      ],
      "text/plain": [
       "<IPython.core.display.HTML object>"
      ]
     },
     "metadata": {},
     "output_type": "display_data"
    },
    {
     "name": "stdout",
     "output_type": "stream",
     "text": [
      "EXPERIMENT exp_tabm-mini_dblocks_64_nblocks_3_LR_2e-04_BS_1024_DR_0.1_k_32_id_91058\n",
      "\n",
      "\n",
      "Epoch 1:\n"
     ]
    },
    {
     "name": "stderr",
     "output_type": "stream",
     "text": [
      "Training: 100%|██████████| 18964/18964 [00:44<00:00, 422.24it/s, Loss=2.11, rmse=0.824, R²=0.0114] \n",
      "Testing: 100%|██████████| 676/676 [00:01<00:00, 542.38it/s, Loss=0.76, R²=0.00717] \n"
     ]
    },
    {
     "name": "stdout",
     "output_type": "stream",
     "text": [
      "Train rmse: 0.82486, Train R2: 0.01145, Train loss: 2.11205\n",
      "Test loss: 0.79919, Test R2: 0.00704\n",
      "Model Saved - Epoch 1 - Test R2: 0.00704\n",
      "\n",
      "\n",
      "Epoch 2:\n"
     ]
    },
    {
     "name": "stderr",
     "output_type": "stream",
     "text": [
      "Training: 100%|██████████| 18964/18964 [00:44<00:00, 422.93it/s, Loss=2.1, rmse=0.822, R²=0.016]  \n",
      "Testing: 100%|██████████| 676/676 [00:01<00:00, 543.33it/s, Loss=0.76, R²=0.00808] \n"
     ]
    },
    {
     "name": "stdout",
     "output_type": "stream",
     "text": [
      "Train rmse: 0.82294, Train R2: 0.01606, Train loss: 2.10472\n",
      "Test loss: 0.79884, Test R2: 0.00789\n",
      "Model Saved - Epoch 2 - Test R2: 0.00789\n",
      "\n",
      "\n",
      "Epoch 3:\n"
     ]
    },
    {
     "name": "stderr",
     "output_type": "stream",
     "text": [
      "Training: 100%|██████████| 18964/18964 [00:44<00:00, 424.91it/s, Loss=2.1, rmse=0.821, R²=0.0179]\n",
      "Testing: 100%|██████████| 676/676 [00:01<00:00, 545.59it/s, Loss=0.76, R²=0.008]   \n"
     ]
    },
    {
     "name": "stdout",
     "output_type": "stream",
     "text": [
      "Train rmse: 0.82218, Train R2: 0.01787, Train loss: 2.10185\n",
      "Test loss: 0.79885, Test R2: 0.00787\n",
      "\n",
      "Epoch 4:\n"
     ]
    },
    {
     "name": "stderr",
     "output_type": "stream",
     "text": [
      "Training:   3%|▎         | 592/18964 [00:01<00:40, 449.32it/s, Loss=2.1, rmse=0.821, R²=0.0183]/home/mt/miniconda3/envs/tabm/lib/python3.10/site-packages/torch/nn/functional.py:1425: ResourceWarning: unclosed <socket.socket fd=106, family=AddressFamily.AF_INET, type=SocketKind.SOCK_STREAM, proto=0, laddr=('127.0.0.1', 36308), raddr=('127.0.0.1', 49425)>\n",
      "  _VF.dropout_(input, p, training) if inplace else _VF.dropout(input, p, training)\n",
      "ResourceWarning: Enable tracemalloc to get the object allocation traceback\n",
      "Training: 100%|██████████| 18964/18964 [00:44<00:00, 424.16it/s, Loss=2.1, rmse=0.821, R²=0.0191]\n",
      "Testing: 100%|██████████| 676/676 [00:01<00:00, 545.27it/s, Loss=0.76, R²=0.00811] \n"
     ]
    },
    {
     "name": "stdout",
     "output_type": "stream",
     "text": [
      "Train rmse: 0.82168, Train R2: 0.01907, Train loss: 2.09981\n",
      "Test loss: 0.79881, Test R2: 0.00797\n",
      "Model Saved - Epoch 4 - Test R2: 0.00797\n",
      "\n",
      "\n",
      "Epoch 5:\n"
     ]
    },
    {
     "name": "stderr",
     "output_type": "stream",
     "text": [
      "Training: 100%|██████████| 18964/18964 [00:44<00:00, 424.63it/s, Loss=2.1, rmse=0.82, R²=0.02]   \n",
      "Testing: 100%|██████████| 676/676 [00:01<00:00, 544.51it/s, Loss=0.76, R²=0.00841] \n"
     ]
    },
    {
     "name": "stdout",
     "output_type": "stream",
     "text": [
      "Train rmse: 0.82129, Train R2: 0.02000, Train loss: 2.09834\n",
      "Test loss: 0.79869, Test R2: 0.00826\n",
      "Model Saved - Epoch 5 - Test R2: 0.00826\n",
      "\n",
      "\n",
      "Epoch 6:\n"
     ]
    },
    {
     "name": "stderr",
     "output_type": "stream",
     "text": [
      "Training: 100%|██████████| 18964/18964 [00:44<00:00, 422.67it/s, Loss=2.1, rmse=0.82, R²=0.0208] \n",
      "Testing: 100%|██████████| 676/676 [00:01<00:00, 544.35it/s, Loss=0.76, R²=0.00845] \n"
     ]
    },
    {
     "name": "stdout",
     "output_type": "stream",
     "text": [
      "Train rmse: 0.82093, Train R2: 0.02085, Train loss: 2.09694\n",
      "Test loss: 0.79868, Test R2: 0.00831\n",
      "Model Saved - Epoch 6 - Test R2: 0.00831\n",
      "\n",
      "\n",
      "Epoch 7:\n"
     ]
    },
    {
     "name": "stderr",
     "output_type": "stream",
     "text": [
      "Training: 100%|██████████| 18964/18964 [00:44<00:00, 424.46it/s, Loss=2.1, rmse=0.819, R²=0.0217] \n",
      "Testing: 100%|██████████| 676/676 [00:01<00:00, 543.14it/s, Loss=0.76, R²=0.00873] \n"
     ]
    },
    {
     "name": "stdout",
     "output_type": "stream",
     "text": [
      "Train rmse: 0.82056, Train R2: 0.02172, Train loss: 2.09569\n",
      "Test loss: 0.79856, Test R2: 0.00859\n",
      "Model Saved - Epoch 7 - Test R2: 0.00859\n",
      "\n",
      "\n",
      "Epoch 8:\n"
     ]
    },
    {
     "name": "stderr",
     "output_type": "stream",
     "text": [
      "Training: 100%|██████████| 18964/18964 [00:44<00:00, 425.18it/s, Loss=2.09, rmse=0.819, R²=0.0225]\n",
      "Testing: 100%|██████████| 676/676 [00:01<00:00, 546.17it/s, Loss=0.76, R²=0.00901] \n"
     ]
    },
    {
     "name": "stdout",
     "output_type": "stream",
     "text": [
      "Train rmse: 0.82024, Train R2: 0.02250, Train loss: 2.09438\n",
      "Test loss: 0.79845, Test R2: 0.00886\n",
      "Model Saved - Epoch 8 - Test R2: 0.00886\n",
      "\n",
      "\n",
      "Epoch 9:\n"
     ]
    },
    {
     "name": "stderr",
     "output_type": "stream",
     "text": [
      "Training: 100%|██████████| 18964/18964 [00:44<00:00, 422.33it/s, Loss=2.09, rmse=0.819, R²=0.0235]\n",
      "Testing: 100%|██████████| 676/676 [00:01<00:00, 544.78it/s, Loss=0.76, R²=0.00869] \n"
     ]
    },
    {
     "name": "stdout",
     "output_type": "stream",
     "text": [
      "Train rmse: 0.81983, Train R2: 0.02348, Train loss: 2.09282\n",
      "Test loss: 0.79857, Test R2: 0.00856\n",
      "\n",
      "Epoch 10:\n"
     ]
    },
    {
     "name": "stderr",
     "output_type": "stream",
     "text": [
      "Training: 100%|██████████| 18964/18964 [00:44<00:00, 422.80it/s, Loss=2.09, rmse=0.818, R²=0.0245]\n",
      "Testing: 100%|██████████| 676/676 [00:01<00:00, 542.33it/s, Loss=0.76, R²=0.00916] \n"
     ]
    },
    {
     "name": "stdout",
     "output_type": "stream",
     "text": [
      "Train rmse: 0.81943, Train R2: 0.02442, Train loss: 2.09127\n",
      "Test loss: 0.79841, Test R2: 0.00897\n",
      "Model Saved - Epoch 10 - Test R2: 0.00897\n",
      "\n",
      "\n",
      "Epoch 11:\n"
     ]
    },
    {
     "name": "stderr",
     "output_type": "stream",
     "text": [
      "Training: 100%|██████████| 18964/18964 [00:44<00:00, 421.81it/s, Loss=2.09, rmse=0.818, R²=0.0253]\n",
      "Testing: 100%|██████████| 676/676 [00:01<00:00, 545.09it/s, Loss=0.76, R²=0.00914] \n"
     ]
    },
    {
     "name": "stdout",
     "output_type": "stream",
     "text": [
      "Train rmse: 0.81907, Train R2: 0.02527, Train loss: 2.08992\n",
      "Test loss: 0.79841, Test R2: 0.00898\n",
      "Model Saved - Epoch 11 - Test R2: 0.00898\n",
      "\n",
      "\n",
      "Epoch 12:\n"
     ]
    },
    {
     "name": "stderr",
     "output_type": "stream",
     "text": [
      "Training: 100%|██████████| 18964/18964 [00:44<00:00, 423.00it/s, Loss=2.09, rmse=0.818, R²=0.0261]\n",
      "Testing: 100%|██████████| 676/676 [00:01<00:00, 544.13it/s, Loss=0.759, R²=0.00938]\n"
     ]
    },
    {
     "name": "stdout",
     "output_type": "stream",
     "text": [
      "Train rmse: 0.81872, Train R2: 0.02611, Train loss: 2.08856\n",
      "Test loss: 0.79832, Test R2: 0.00919\n",
      "Model Saved - Epoch 12 - Test R2: 0.00919\n",
      "\n",
      "\n",
      "Epoch 13:\n"
     ]
    },
    {
     "name": "stderr",
     "output_type": "stream",
     "text": [
      "Training: 100%|██████████| 18964/18964 [00:44<00:00, 422.50it/s, Loss=2.09, rmse=0.817, R²=0.0269]\n",
      "Testing: 100%|██████████| 676/676 [00:01<00:00, 543.30it/s, Loss=0.759, R²=0.00951]\n"
     ]
    },
    {
     "name": "stdout",
     "output_type": "stream",
     "text": [
      "Train rmse: 0.81837, Train R2: 0.02695, Train loss: 2.08724\n",
      "Test loss: 0.79826, Test R2: 0.00933\n",
      "Model Saved - Epoch 13 - Test R2: 0.00933\n",
      "\n",
      "\n",
      "Epoch 14:\n"
     ]
    },
    {
     "name": "stderr",
     "output_type": "stream",
     "text": [
      "Training: 100%|██████████| 18964/18964 [00:44<00:00, 422.57it/s, Loss=2.09, rmse=0.817, R²=0.0279]\n",
      "Testing: 100%|██████████| 676/676 [00:01<00:00, 545.69it/s, Loss=0.759, R²=0.0093] \n"
     ]
    },
    {
     "name": "stdout",
     "output_type": "stream",
     "text": [
      "Train rmse: 0.81796, Train R2: 0.02792, Train loss: 2.08573\n",
      "Test loss: 0.79836, Test R2: 0.00910\n",
      "\n",
      "Epoch 15:\n"
     ]
    },
    {
     "name": "stderr",
     "output_type": "stream",
     "text": [
      "Training: 100%|██████████| 18964/18964 [00:45<00:00, 421.40it/s, Loss=2.08, rmse=0.816, R²=0.0289]\n",
      "Testing: 100%|██████████| 676/676 [00:01<00:00, 544.09it/s, Loss=0.759, R²=0.00955]\n"
     ]
    },
    {
     "name": "stdout",
     "output_type": "stream",
     "text": [
      "Train rmse: 0.81755, Train R2: 0.02889, Train loss: 2.08413\n",
      "Test loss: 0.79827, Test R2: 0.00931\n",
      "\n",
      "Best Epoch: 13, Best Test R2: 0.00933\n"
     ]
    },
    {
     "name": "stderr",
     "output_type": "stream",
     "text": [
      "/home/mt/miniconda3/envs/tabm/lib/python3.10/site-packages/wandb/sdk/lib/ipython.py:89: DeprecationWarning: Importing display from IPython.core.display is deprecated since IPython 7.14, please import from IPython display\n",
      "  from IPython.core.display import display\n"
     ]
    },
    {
     "data": {
      "application/vnd.jupyter.widget-view+json": {
       "model_id": "78bb406c202d4a9eb81998990a0e5dbd",
       "version_major": 2,
       "version_minor": 0
      },
      "text/plain": [
       "VBox(children=(Label(value='0.004 MB of 0.004 MB uploaded\\r'), FloatProgress(value=1.0, max=1.0)))"
      ]
     },
     "metadata": {},
     "output_type": "display_data"
    },
    {
     "name": "stderr",
     "output_type": "stream",
     "text": [
      "/home/mt/miniconda3/envs/tabm/lib/python3.10/site-packages/wandb/sdk/lib/ipython.py:77: DeprecationWarning: Importing display from IPython.core.display is deprecated since IPython 7.14, please import from IPython display\n",
      "  from IPython.core.display import HTML, display  # type: ignore\n"
     ]
    },
    {
     "data": {
      "text/html": [
       "<style>\n",
       "    table.wandb td:nth-child(1) { padding: 0 10px; text-align: left ; width: auto;} td:nth-child(2) {text-align: left ; width: 100%}\n",
       "    .wandb-row { display: flex; flex-direction: row; flex-wrap: wrap; justify-content: flex-start; width: 100% }\n",
       "    .wandb-col { display: flex; flex-direction: column; flex-basis: 100%; flex: 1; padding: 10px; }\n",
       "    </style>\n",
       "<div class=\"wandb-row\"><div class=\"wandb-col\"><h3>Run history:</h3><br/><table class=\"wandb\"><tr><td>epoch</td><td>▁▁▂▃▃▃▄▅▅▅▆▇▇▇█</td></tr><tr><td>test_loss</td><td>█▅▅▅▄▄▃▂▃▂▂▁▁▂▁</td></tr><tr><td>test_r2</td><td>▁▄▄▄▅▅▆▇▆▇▇██▇█</td></tr><tr><td>train_loss</td><td>█▆▅▅▅▄▄▄▃▃▂▂▂▁▁</td></tr><tr><td>train_r2</td><td>▁▃▄▄▄▅▅▅▆▆▇▇▇██</td></tr><tr><td>train_rmse</td><td>█▆▅▅▅▄▄▄▃▃▂▂▂▁▁</td></tr></table><br/></div><div class=\"wandb-col\"><h3>Run summary:</h3><br/><table class=\"wandb\"><tr><td>best_test_r2</td><td>0.00933</td></tr><tr><td>best_train_r2</td><td>0.02889</td></tr><tr><td>epoch</td><td>15</td></tr><tr><td>test_loss</td><td>0.79827</td></tr><tr><td>test_r2</td><td>0.00931</td></tr><tr><td>train_loss</td><td>2.08413</td></tr><tr><td>train_r2</td><td>0.02889</td></tr><tr><td>train_rmse</td><td>0.81755</td></tr></table><br/></div></div>"
      ],
      "text/plain": [
       "<IPython.core.display.HTML object>"
      ]
     },
     "metadata": {},
     "output_type": "display_data"
    },
    {
     "data": {
      "text/html": [
       " View run <strong style=\"color:#cdcd00\">curious-sweep-7</strong> at: <a href='https://wandb.ai/turkenm/js_tabm/runs/nxtgifj3' target=\"_blank\">https://wandb.ai/turkenm/js_tabm/runs/nxtgifj3</a><br/> View project at: <a href='https://wandb.ai/turkenm/js_tabm' target=\"_blank\">https://wandb.ai/turkenm/js_tabm</a><br/>Synced 6 W&B file(s), 0 media file(s), 0 artifact file(s) and 0 other file(s)"
      ],
      "text/plain": [
       "<IPython.core.display.HTML object>"
      ]
     },
     "metadata": {},
     "output_type": "display_data"
    },
    {
     "data": {
      "text/html": [
       "Find logs at: <code>./wandb/run-20250112_171056-nxtgifj3/logs</code>"
      ],
      "text/plain": [
       "<IPython.core.display.HTML object>"
      ]
     },
     "metadata": {},
     "output_type": "display_data"
    },
    {
     "name": "stderr",
     "output_type": "stream",
     "text": [
      "\u001b[34m\u001b[1mwandb\u001b[0m: Sweep Agent: Waiting for job.\n",
      "\u001b[34m\u001b[1mwandb\u001b[0m: Job received.\n",
      "\u001b[34m\u001b[1mwandb\u001b[0m: Agent Starting Run: 3jblxhzd with config:\n",
      "\u001b[34m\u001b[1mwandb\u001b[0m: \td_block: 64\n",
      "\u001b[34m\u001b[1mwandb\u001b[0m: \tdrop_out: 0.1\n",
      "\u001b[34m\u001b[1mwandb\u001b[0m: \tlearning_rate: 0.0002\n",
      "\u001b[34m\u001b[1mwandb\u001b[0m: \tmodel_arch: tabm-mini\n",
      "\u001b[34m\u001b[1mwandb\u001b[0m: \tn_block: 3\n",
      "\u001b[34m\u001b[1mwandb\u001b[0m: \tn_k: 32\n",
      "\u001b[34m\u001b[1mwandb\u001b[0m: \tweight_decay: 0.0002\n",
      "Failed to detect the name of this notebook, you can set it manually with the WANDB_NOTEBOOK_NAME environment variable to enable code saving.\n",
      "/home/mt/miniconda3/envs/tabm/lib/python3.10/site-packages/wandb/sdk/wandb_setup.py:254: ResourceWarning: unclosed file <_io.TextIOWrapper name='/home/mt/Desktop/JaneStreet-Comp/wandb/sweep-mtpap5fv/config-3jblxhzd.yaml' mode='r' encoding='UTF-8'>\n",
      "  self._sweep_config = config_util.dict_from_config_file(\n",
      "ResourceWarning: Enable tracemalloc to get the object allocation traceback\n"
     ]
    },
    {
     "data": {
      "text/html": [
       "wandb version 0.19.2 is available!  To upgrade, please run:\n",
       " $ pip install wandb --upgrade"
      ],
      "text/plain": [
       "<IPython.core.display.HTML object>"
      ]
     },
     "metadata": {},
     "output_type": "display_data"
    },
    {
     "data": {
      "text/html": [
       "Tracking run with wandb version 0.16.6"
      ],
      "text/plain": [
       "<IPython.core.display.HTML object>"
      ]
     },
     "metadata": {},
     "output_type": "display_data"
    },
    {
     "data": {
      "text/html": [
       "Run data is saved locally in <code>/home/mt/Desktop/JaneStreet-Comp/wandb/run-20250112_172250-3jblxhzd</code>"
      ],
      "text/plain": [
       "<IPython.core.display.HTML object>"
      ]
     },
     "metadata": {},
     "output_type": "display_data"
    },
    {
     "data": {
      "text/html": [
       "Syncing run <strong><a href='https://wandb.ai/turkenm/js_tabm/runs/3jblxhzd' target=\"_blank\">decent-sweep-8</a></strong> to <a href='https://wandb.ai/turkenm/js_tabm' target=\"_blank\">Weights & Biases</a> (<a href='https://wandb.me/run' target=\"_blank\">docs</a>)<br/>Sweep page: <a href='https://wandb.ai/turkenm/js_tabm/sweeps/mtpap5fv' target=\"_blank\">https://wandb.ai/turkenm/js_tabm/sweeps/mtpap5fv</a>"
      ],
      "text/plain": [
       "<IPython.core.display.HTML object>"
      ]
     },
     "metadata": {},
     "output_type": "display_data"
    },
    {
     "data": {
      "text/html": [
       " View project at <a href='https://wandb.ai/turkenm/js_tabm' target=\"_blank\">https://wandb.ai/turkenm/js_tabm</a>"
      ],
      "text/plain": [
       "<IPython.core.display.HTML object>"
      ]
     },
     "metadata": {},
     "output_type": "display_data"
    },
    {
     "data": {
      "text/html": [
       " View sweep at <a href='https://wandb.ai/turkenm/js_tabm/sweeps/mtpap5fv' target=\"_blank\">https://wandb.ai/turkenm/js_tabm/sweeps/mtpap5fv</a>"
      ],
      "text/plain": [
       "<IPython.core.display.HTML object>"
      ]
     },
     "metadata": {},
     "output_type": "display_data"
    },
    {
     "data": {
      "text/html": [
       " View run at <a href='https://wandb.ai/turkenm/js_tabm/runs/3jblxhzd' target=\"_blank\">https://wandb.ai/turkenm/js_tabm/runs/3jblxhzd</a>"
      ],
      "text/plain": [
       "<IPython.core.display.HTML object>"
      ]
     },
     "metadata": {},
     "output_type": "display_data"
    },
    {
     "name": "stdout",
     "output_type": "stream",
     "text": [
      "EXPERIMENT exp_tabm-mini_dblocks_64_nblocks_3_LR_2e-04_BS_1024_DR_0.1_k_32_id_91773\n",
      "\n",
      "\n",
      "Epoch 1:\n"
     ]
    },
    {
     "name": "stderr",
     "output_type": "stream",
     "text": [
      "Training: 100%|██████████| 18964/18964 [00:44<00:00, 422.12it/s, Loss=2.11, rmse=0.824, R²=0.0114] \n",
      "Testing: 100%|██████████| 676/676 [00:01<00:00, 543.46it/s, Loss=0.76, R²=0.00713] \n"
     ]
    },
    {
     "name": "stdout",
     "output_type": "stream",
     "text": [
      "Train rmse: 0.82486, Train R2: 0.01144, Train loss: 2.11203\n",
      "Test loss: 0.79920, Test R2: 0.00700\n",
      "Model Saved - Epoch 1 - Test R2: 0.00700\n",
      "\n",
      "\n",
      "Epoch 2:\n"
     ]
    },
    {
     "name": "stderr",
     "output_type": "stream",
     "text": [
      "Training: 100%|██████████| 18964/18964 [00:44<00:00, 422.66it/s, Loss=2.1, rmse=0.822, R²=0.0161]\n",
      "Testing: 100%|██████████| 676/676 [00:01<00:00, 544.45it/s, Loss=0.76, R²=0.00767] \n"
     ]
    },
    {
     "name": "stdout",
     "output_type": "stream",
     "text": [
      "Train rmse: 0.82291, Train R2: 0.01611, Train loss: 2.10463\n",
      "Test loss: 0.79901, Test R2: 0.00749\n",
      "Model Saved - Epoch 2 - Test R2: 0.00749\n",
      "\n",
      "\n",
      "Epoch 3:\n"
     ]
    },
    {
     "name": "stderr",
     "output_type": "stream",
     "text": [
      "Training: 100%|██████████| 18964/18964 [00:44<00:00, 422.67it/s, Loss=2.1, rmse=0.821, R²=0.0178]\n",
      "Testing: 100%|██████████| 676/676 [00:01<00:00, 545.26it/s, Loss=0.76, R²=0.00743] \n"
     ]
    },
    {
     "name": "stdout",
     "output_type": "stream",
     "text": [
      "Train rmse: 0.82218, Train R2: 0.01786, Train loss: 2.10177\n",
      "Test loss: 0.79907, Test R2: 0.00734\n",
      "\n",
      "Epoch 4:\n"
     ]
    },
    {
     "name": "stderr",
     "output_type": "stream",
     "text": [
      "Training:   3%|▎         | 585/18964 [00:01<00:41, 445.98it/s, Loss=2.11, rmse=0.822, R²=0.0188]/home/mt/miniconda3/envs/tabm/lib/python3.10/site-packages/torch/nn/functional.py:1425: ResourceWarning: unclosed <socket.socket fd=110, family=AddressFamily.AF_INET, type=SocketKind.SOCK_STREAM, proto=0, laddr=('127.0.0.1', 35830), raddr=('127.0.0.1', 35233)>\n",
      "  _VF.dropout_(input, p, training) if inplace else _VF.dropout(input, p, training)\n",
      "ResourceWarning: Enable tracemalloc to get the object allocation traceback\n",
      "Training: 100%|██████████| 18964/18964 [00:44<00:00, 421.52it/s, Loss=2.1, rmse=0.821, R²=0.019] \n",
      "Testing: 100%|██████████| 676/676 [00:01<00:00, 544.35it/s, Loss=0.76, R²=0.00736] \n"
     ]
    },
    {
     "name": "stdout",
     "output_type": "stream",
     "text": [
      "Train rmse: 0.82169, Train R2: 0.01902, Train loss: 2.09990\n",
      "Test loss: 0.79911, Test R2: 0.00723\n",
      "\n",
      "Epoch 5:\n"
     ]
    },
    {
     "name": "stderr",
     "output_type": "stream",
     "text": [
      "Training: 100%|██████████| 18964/18964 [00:44<00:00, 422.47it/s, Loss=2.1, rmse=0.82, R²=0.02]   \n",
      "Testing: 100%|██████████| 676/676 [00:01<00:00, 545.02it/s, Loss=0.76, R²=0.00805] \n"
     ]
    },
    {
     "name": "stdout",
     "output_type": "stream",
     "text": [
      "Train rmse: 0.82129, Train R2: 0.01999, Train loss: 2.09832\n",
      "Test loss: 0.79884, Test R2: 0.00791\n",
      "Model Saved - Epoch 5 - Test R2: 0.00791\n",
      "\n",
      "\n",
      "Epoch 6:\n"
     ]
    },
    {
     "name": "stderr",
     "output_type": "stream",
     "text": [
      "Training: 100%|██████████| 18964/18964 [00:44<00:00, 422.65it/s, Loss=2.1, rmse=0.82, R²=0.0209] \n",
      "Testing: 100%|██████████| 676/676 [00:01<00:00, 544.37it/s, Loss=0.76, R²=0.00821] \n"
     ]
    },
    {
     "name": "stdout",
     "output_type": "stream",
     "text": [
      "Train rmse: 0.82090, Train R2: 0.02092, Train loss: 2.09689\n",
      "Test loss: 0.79878, Test R2: 0.00805\n",
      "Model Saved - Epoch 6 - Test R2: 0.00805\n",
      "\n",
      "\n",
      "Epoch 7:\n"
     ]
    },
    {
     "name": "stderr",
     "output_type": "stream",
     "text": [
      "Training: 100%|██████████| 18964/18964 [00:44<00:00, 422.87it/s, Loss=2.1, rmse=0.819, R²=0.0219] \n",
      "Testing: 100%|██████████| 676/676 [00:01<00:00, 546.68it/s, Loss=0.76, R²=0.00842] \n"
     ]
    },
    {
     "name": "stdout",
     "output_type": "stream",
     "text": [
      "Train rmse: 0.82050, Train R2: 0.02187, Train loss: 2.09551\n",
      "Test loss: 0.79870, Test R2: 0.00825\n",
      "Model Saved - Epoch 7 - Test R2: 0.00825\n",
      "\n",
      "\n",
      "Epoch 8:\n"
     ]
    },
    {
     "name": "stderr",
     "output_type": "stream",
     "text": [
      "Training: 100%|██████████| 18964/18964 [00:44<00:00, 422.82it/s, Loss=2.09, rmse=0.819, R²=0.0228]\n",
      "Testing: 100%|██████████| 676/676 [00:01<00:00, 543.97it/s, Loss=0.76, R²=0.00869] \n"
     ]
    },
    {
     "name": "stdout",
     "output_type": "stream",
     "text": [
      "Train rmse: 0.82009, Train R2: 0.02285, Train loss: 2.09393\n",
      "Test loss: 0.79861, Test R2: 0.00848\n",
      "Model Saved - Epoch 8 - Test R2: 0.00848\n",
      "\n",
      "\n",
      "Epoch 9:\n"
     ]
    },
    {
     "name": "stderr",
     "output_type": "stream",
     "text": [
      "Training: 100%|██████████| 18964/18964 [00:44<00:00, 423.43it/s, Loss=2.09, rmse=0.819, R²=0.0239]\n",
      "Testing: 100%|██████████| 676/676 [00:01<00:00, 546.62it/s, Loss=0.76, R²=0.00885] \n"
     ]
    },
    {
     "name": "stdout",
     "output_type": "stream",
     "text": [
      "Train rmse: 0.81965, Train R2: 0.02389, Train loss: 2.09235\n",
      "Test loss: 0.79853, Test R2: 0.00866\n",
      "Model Saved - Epoch 9 - Test R2: 0.00866\n",
      "\n",
      "\n",
      "Epoch 10:\n"
     ]
    },
    {
     "name": "stderr",
     "output_type": "stream",
     "text": [
      "Training: 100%|██████████| 18964/18964 [00:44<00:00, 425.35it/s, Loss=2.09, rmse=0.818, R²=0.0252]\n",
      "Testing: 100%|██████████| 676/676 [00:01<00:00, 546.71it/s, Loss=0.76, R²=0.00866] \n"
     ]
    },
    {
     "name": "stdout",
     "output_type": "stream",
     "text": [
      "Train rmse: 0.81910, Train R2: 0.02521, Train loss: 2.09031\n",
      "Test loss: 0.79864, Test R2: 0.00841\n",
      "\n",
      "Epoch 11:\n"
     ]
    },
    {
     "name": "stderr",
     "output_type": "stream",
     "text": [
      "Training: 100%|██████████| 18964/18964 [00:44<00:00, 423.78it/s, Loss=2.09, rmse=0.817, R²=0.0264]\n",
      "Testing: 100%|██████████| 676/676 [00:01<00:00, 545.47it/s, Loss=0.76, R²=0.00839] \n"
     ]
    },
    {
     "name": "stdout",
     "output_type": "stream",
     "text": [
      "Train rmse: 0.81858, Train R2: 0.02645, Train loss: 2.08845\n",
      "Test loss: 0.79873, Test R2: 0.00817\n",
      "\n",
      "Epoch 12:\n"
     ]
    },
    {
     "name": "stderr",
     "output_type": "stream",
     "text": [
      "Training: 100%|██████████| 18964/18964 [00:44<00:00, 423.73it/s, Loss=2.09, rmse=0.817, R²=0.0275]\n",
      "Testing: 100%|██████████| 676/676 [00:01<00:00, 544.38it/s, Loss=0.76, R²=0.00861] \n"
     ]
    },
    {
     "name": "stdout",
     "output_type": "stream",
     "text": [
      "Train rmse: 0.81811, Train R2: 0.02756, Train loss: 2.08686\n",
      "Test loss: 0.79866, Test R2: 0.00835\n",
      "\n",
      "Epoch 13:\n"
     ]
    },
    {
     "name": "stderr",
     "output_type": "stream",
     "text": [
      "Training: 100%|██████████| 18964/18964 [00:44<00:00, 422.27it/s, Loss=2.09, rmse=0.817, R²=0.0286]\n",
      "Testing: 100%|██████████| 676/676 [00:01<00:00, 543.76it/s, Loss=0.76, R²=0.00843] \n"
     ]
    },
    {
     "name": "stdout",
     "output_type": "stream",
     "text": [
      "Train rmse: 0.81766, Train R2: 0.02864, Train loss: 2.08515\n",
      "Test loss: 0.79872, Test R2: 0.00819\n",
      "\n",
      "Epoch 14:\n"
     ]
    },
    {
     "name": "stderr",
     "output_type": "stream",
     "text": [
      "Training: 100%|██████████| 18964/18964 [00:44<00:00, 424.96it/s, Loss=2.08, rmse=0.816, R²=0.0298]\n",
      "Testing: 100%|██████████| 676/676 [00:01<00:00, 541.69it/s, Loss=0.76, R²=0.00813] \n"
     ]
    },
    {
     "name": "stdout",
     "output_type": "stream",
     "text": [
      "Train rmse: 0.81718, Train R2: 0.02976, Train loss: 2.08335\n",
      "Test loss: 0.79887, Test R2: 0.00783\n",
      "\n",
      "Epoch 15:\n"
     ]
    },
    {
     "name": "stderr",
     "output_type": "stream",
     "text": [
      "Training: 100%|██████████| 18964/18964 [00:44<00:00, 422.53it/s, Loss=2.08, rmse=0.816, R²=0.0309]\n",
      "Testing: 100%|██████████| 676/676 [00:01<00:00, 544.51it/s, Loss=0.76, R²=0.0082]  \n"
     ]
    },
    {
     "name": "stdout",
     "output_type": "stream",
     "text": [
      "Train rmse: 0.81668, Train R2: 0.03095, Train loss: 2.08157\n",
      "Test loss: 0.79882, Test R2: 0.00796\n",
      "\n",
      "Best Epoch: 9, Best Test R2: 0.00866\n"
     ]
    },
    {
     "name": "stderr",
     "output_type": "stream",
     "text": [
      "/home/mt/miniconda3/envs/tabm/lib/python3.10/site-packages/wandb/sdk/lib/ipython.py:89: DeprecationWarning: Importing display from IPython.core.display is deprecated since IPython 7.14, please import from IPython display\n",
      "  from IPython.core.display import display\n"
     ]
    },
    {
     "data": {
      "application/vnd.jupyter.widget-view+json": {
       "model_id": "6200d186a36e442ca3017070d98dbb2d",
       "version_major": 2,
       "version_minor": 0
      },
      "text/plain": [
       "VBox(children=(Label(value='0.004 MB of 0.004 MB uploaded\\r'), FloatProgress(value=1.0, max=1.0)))"
      ]
     },
     "metadata": {},
     "output_type": "display_data"
    },
    {
     "name": "stderr",
     "output_type": "stream",
     "text": [
      "/home/mt/miniconda3/envs/tabm/lib/python3.10/site-packages/wandb/sdk/lib/ipython.py:77: DeprecationWarning: Importing display from IPython.core.display is deprecated since IPython 7.14, please import from IPython display\n",
      "  from IPython.core.display import HTML, display  # type: ignore\n"
     ]
    },
    {
     "data": {
      "text/html": [
       "<style>\n",
       "    table.wandb td:nth-child(1) { padding: 0 10px; text-align: left ; width: auto;} td:nth-child(2) {text-align: left ; width: 100%}\n",
       "    .wandb-row { display: flex; flex-direction: row; flex-wrap: wrap; justify-content: flex-start; width: 100% }\n",
       "    .wandb-col { display: flex; flex-direction: column; flex-basis: 100%; flex: 1; padding: 10px; }\n",
       "    </style>\n",
       "<div class=\"wandb-row\"><div class=\"wandb-col\"><h3>Run history:</h3><br/><table class=\"wandb\"><tr><td>epoch</td><td>▁▁▂▃▃▃▄▅▅▅▆▇▇▇█</td></tr><tr><td>test_loss</td><td>█▆▇▇▄▄▃▂▁▂▃▂▃▅▄</td></tr><tr><td>test_r2</td><td>▁▃▂▂▅▅▆▇█▇▆▇▆▄▅</td></tr><tr><td>train_loss</td><td>█▆▆▅▅▅▄▄▃▃▃▂▂▁▁</td></tr><tr><td>train_r2</td><td>▁▃▃▄▄▄▅▅▅▆▆▇▇██</td></tr><tr><td>train_rmse</td><td>█▆▆▅▅▅▄▄▄▃▃▂▂▁▁</td></tr></table><br/></div><div class=\"wandb-col\"><h3>Run summary:</h3><br/><table class=\"wandb\"><tr><td>best_test_r2</td><td>0.00866</td></tr><tr><td>best_train_r2</td><td>0.03095</td></tr><tr><td>epoch</td><td>15</td></tr><tr><td>test_loss</td><td>0.79882</td></tr><tr><td>test_r2</td><td>0.00796</td></tr><tr><td>train_loss</td><td>2.08157</td></tr><tr><td>train_r2</td><td>0.03095</td></tr><tr><td>train_rmse</td><td>0.81668</td></tr></table><br/></div></div>"
      ],
      "text/plain": [
       "<IPython.core.display.HTML object>"
      ]
     },
     "metadata": {},
     "output_type": "display_data"
    },
    {
     "data": {
      "text/html": [
       " View run <strong style=\"color:#cdcd00\">decent-sweep-8</strong> at: <a href='https://wandb.ai/turkenm/js_tabm/runs/3jblxhzd' target=\"_blank\">https://wandb.ai/turkenm/js_tabm/runs/3jblxhzd</a><br/> View project at: <a href='https://wandb.ai/turkenm/js_tabm' target=\"_blank\">https://wandb.ai/turkenm/js_tabm</a><br/>Synced 6 W&B file(s), 0 media file(s), 0 artifact file(s) and 0 other file(s)"
      ],
      "text/plain": [
       "<IPython.core.display.HTML object>"
      ]
     },
     "metadata": {},
     "output_type": "display_data"
    },
    {
     "data": {
      "text/html": [
       "Find logs at: <code>./wandb/run-20250112_172250-3jblxhzd/logs</code>"
      ],
      "text/plain": [
       "<IPython.core.display.HTML object>"
      ]
     },
     "metadata": {},
     "output_type": "display_data"
    },
    {
     "name": "stderr",
     "output_type": "stream",
     "text": [
      "\u001b[34m\u001b[1mwandb\u001b[0m: Agent Starting Run: bbj7uoxa with config:\n",
      "\u001b[34m\u001b[1mwandb\u001b[0m: \td_block: 64\n",
      "\u001b[34m\u001b[1mwandb\u001b[0m: \tdrop_out: 0.1\n",
      "\u001b[34m\u001b[1mwandb\u001b[0m: \tlearning_rate: 0.0001\n",
      "\u001b[34m\u001b[1mwandb\u001b[0m: \tmodel_arch: tabm-mini\n",
      "\u001b[34m\u001b[1mwandb\u001b[0m: \tn_block: 3\n",
      "\u001b[34m\u001b[1mwandb\u001b[0m: \tn_k: 16\n",
      "\u001b[34m\u001b[1mwandb\u001b[0m: \tweight_decay: 0.0001\n",
      "Failed to detect the name of this notebook, you can set it manually with the WANDB_NOTEBOOK_NAME environment variable to enable code saving.\n",
      "/home/mt/miniconda3/envs/tabm/lib/python3.10/site-packages/wandb/sdk/wandb_setup.py:254: ResourceWarning: unclosed file <_io.TextIOWrapper name='/home/mt/Desktop/JaneStreet-Comp/wandb/sweep-mtpap5fv/config-bbj7uoxa.yaml' mode='r' encoding='UTF-8'>\n",
      "  self._sweep_config = config_util.dict_from_config_file(\n",
      "ResourceWarning: Enable tracemalloc to get the object allocation traceback\n"
     ]
    },
    {
     "data": {
      "text/html": [
       "wandb version 0.19.2 is available!  To upgrade, please run:\n",
       " $ pip install wandb --upgrade"
      ],
      "text/plain": [
       "<IPython.core.display.HTML object>"
      ]
     },
     "metadata": {},
     "output_type": "display_data"
    },
    {
     "data": {
      "text/html": [
       "Tracking run with wandb version 0.16.6"
      ],
      "text/plain": [
       "<IPython.core.display.HTML object>"
      ]
     },
     "metadata": {},
     "output_type": "display_data"
    },
    {
     "data": {
      "text/html": [
       "Run data is saved locally in <code>/home/mt/Desktop/JaneStreet-Comp/wandb/run-20250112_173437-bbj7uoxa</code>"
      ],
      "text/plain": [
       "<IPython.core.display.HTML object>"
      ]
     },
     "metadata": {},
     "output_type": "display_data"
    },
    {
     "data": {
      "text/html": [
       "Syncing run <strong><a href='https://wandb.ai/turkenm/js_tabm/runs/bbj7uoxa' target=\"_blank\">dulcet-sweep-9</a></strong> to <a href='https://wandb.ai/turkenm/js_tabm' target=\"_blank\">Weights & Biases</a> (<a href='https://wandb.me/run' target=\"_blank\">docs</a>)<br/>Sweep page: <a href='https://wandb.ai/turkenm/js_tabm/sweeps/mtpap5fv' target=\"_blank\">https://wandb.ai/turkenm/js_tabm/sweeps/mtpap5fv</a>"
      ],
      "text/plain": [
       "<IPython.core.display.HTML object>"
      ]
     },
     "metadata": {},
     "output_type": "display_data"
    },
    {
     "data": {
      "text/html": [
       " View project at <a href='https://wandb.ai/turkenm/js_tabm' target=\"_blank\">https://wandb.ai/turkenm/js_tabm</a>"
      ],
      "text/plain": [
       "<IPython.core.display.HTML object>"
      ]
     },
     "metadata": {},
     "output_type": "display_data"
    },
    {
     "data": {
      "text/html": [
       " View sweep at <a href='https://wandb.ai/turkenm/js_tabm/sweeps/mtpap5fv' target=\"_blank\">https://wandb.ai/turkenm/js_tabm/sweeps/mtpap5fv</a>"
      ],
      "text/plain": [
       "<IPython.core.display.HTML object>"
      ]
     },
     "metadata": {},
     "output_type": "display_data"
    },
    {
     "data": {
      "text/html": [
       " View run at <a href='https://wandb.ai/turkenm/js_tabm/runs/bbj7uoxa' target=\"_blank\">https://wandb.ai/turkenm/js_tabm/runs/bbj7uoxa</a>"
      ],
      "text/plain": [
       "<IPython.core.display.HTML object>"
      ]
     },
     "metadata": {},
     "output_type": "display_data"
    },
    {
     "name": "stdout",
     "output_type": "stream",
     "text": [
      "EXPERIMENT exp_tabm-mini_dblocks_64_nblocks_3_LR_1e-04_BS_1024_DR_0.1_k_16_id_92480\n",
      "\n",
      "\n",
      "Epoch 1:\n"
     ]
    },
    {
     "name": "stderr",
     "output_type": "stream",
     "text": [
      "Training: 100%|██████████| 18964/18964 [00:31<00:00, 596.20it/s, Loss=2.11, rmse=0.824, R²=0.0105] \n",
      "Testing: 100%|██████████| 676/676 [00:00<00:00, 857.68it/s, Loss=0.76, R²=0.00723] \n"
     ]
    },
    {
     "name": "stdout",
     "output_type": "stream",
     "text": [
      "Train rmse: 0.82524, Train R2: 0.01053, Train loss: 2.11345\n",
      "Test loss: 0.79917, Test R2: 0.00708\n",
      "Model Saved - Epoch 1 - Test R2: 0.00708\n",
      "\n",
      "\n",
      "Epoch 2:\n"
     ]
    },
    {
     "name": "stderr",
     "output_type": "stream",
     "text": [
      "Training: 100%|██████████| 18964/18964 [00:31<00:00, 602.78it/s, Loss=2.1, rmse=0.822, R²=0.0157] \n",
      "Testing: 100%|██████████| 676/676 [00:00<00:00, 854.17it/s, Loss=0.76, R²=0.00796] \n"
     ]
    },
    {
     "name": "stdout",
     "output_type": "stream",
     "text": [
      "Train rmse: 0.82307, Train R2: 0.01573, Train loss: 2.10486\n",
      "Test loss: 0.79889, Test R2: 0.00778\n",
      "Model Saved - Epoch 2 - Test R2: 0.00778\n",
      "\n",
      "\n",
      "Epoch 3:\n"
     ]
    },
    {
     "name": "stderr",
     "output_type": "stream",
     "text": [
      "Training: 100%|██████████| 18964/18964 [00:31<00:00, 602.58it/s, Loss=2.1, rmse=0.821, R²=0.0178]\n",
      "Testing: 100%|██████████| 676/676 [00:00<00:00, 856.63it/s, Loss=0.76, R²=0.00841] \n"
     ]
    },
    {
     "name": "stdout",
     "output_type": "stream",
     "text": [
      "Train rmse: 0.82221, Train R2: 0.01779, Train loss: 2.10172\n",
      "Test loss: 0.79872, Test R2: 0.00821\n",
      "Model Saved - Epoch 3 - Test R2: 0.00821\n",
      "\n",
      "\n",
      "Epoch 4:\n"
     ]
    },
    {
     "name": "stderr",
     "output_type": "stream",
     "text": [
      "Training:   7%|▋         | 1254/18964 [00:01<00:27, 645.13it/s, Loss=2.1, rmse=0.821, R²=0.0188]/home/mt/miniconda3/envs/tabm/lib/python3.10/site-packages/torch/nn/functional.py:1425: ResourceWarning: unclosed <socket.socket fd=107, family=AddressFamily.AF_INET, type=SocketKind.SOCK_STREAM, proto=0, laddr=('127.0.0.1', 52844), raddr=('127.0.0.1', 53893)>\n",
      "  _VF.dropout_(input, p, training) if inplace else _VF.dropout(input, p, training)\n",
      "ResourceWarning: Enable tracemalloc to get the object allocation traceback\n",
      "Training: 100%|██████████| 18964/18964 [00:31<00:00, 599.90it/s, Loss=2.1, rmse=0.821, R²=0.019] \n",
      "Testing: 100%|██████████| 676/676 [00:00<00:00, 852.61it/s, Loss=0.76, R²=0.00856] \n"
     ]
    },
    {
     "name": "stdout",
     "output_type": "stream",
     "text": [
      "Train rmse: 0.82170, Train R2: 0.01900, Train loss: 2.09971\n",
      "Test loss: 0.79866, Test R2: 0.00836\n",
      "Model Saved - Epoch 4 - Test R2: 0.00836\n",
      "\n",
      "\n",
      "Epoch 5:\n"
     ]
    },
    {
     "name": "stderr",
     "output_type": "stream",
     "text": [
      "Training: 100%|██████████| 18964/18964 [00:31<00:00, 597.19it/s, Loss=2.1, rmse=0.82, R²=0.0198] \n",
      "Testing: 100%|██████████| 676/676 [00:00<00:00, 851.21it/s, Loss=0.76, R²=0.00852] \n"
     ]
    },
    {
     "name": "stdout",
     "output_type": "stream",
     "text": [
      "Train rmse: 0.82136, Train R2: 0.01982, Train loss: 2.09847\n",
      "Test loss: 0.79867, Test R2: 0.00833\n",
      "\n",
      "Epoch 6:\n"
     ]
    },
    {
     "name": "stderr",
     "output_type": "stream",
     "text": [
      "Training: 100%|██████████| 18964/18964 [00:31<00:00, 597.62it/s, Loss=2.1, rmse=0.82, R²=0.0205]\n",
      "Testing: 100%|██████████| 676/676 [00:00<00:00, 852.77it/s, Loss=0.76, R²=0.00864] \n"
     ]
    },
    {
     "name": "stdout",
     "output_type": "stream",
     "text": [
      "Train rmse: 0.82108, Train R2: 0.02048, Train loss: 2.09744\n",
      "Test loss: 0.79862, Test R2: 0.00844\n",
      "Model Saved - Epoch 6 - Test R2: 0.00844\n",
      "\n",
      "\n",
      "Epoch 7:\n"
     ]
    },
    {
     "name": "stderr",
     "output_type": "stream",
     "text": [
      "Training: 100%|██████████| 18964/18964 [00:31<00:00, 596.85it/s, Loss=2.1, rmse=0.82, R²=0.021] \n",
      "Testing: 100%|██████████| 676/676 [00:00<00:00, 854.74it/s, Loss=0.76, R²=0.00886] \n"
     ]
    },
    {
     "name": "stdout",
     "output_type": "stream",
     "text": [
      "Train rmse: 0.82088, Train R2: 0.02097, Train loss: 2.09665\n",
      "Test loss: 0.79854, Test R2: 0.00865\n",
      "Model Saved - Epoch 7 - Test R2: 0.00865\n",
      "\n",
      "\n",
      "Epoch 8:\n"
     ]
    },
    {
     "name": "stderr",
     "output_type": "stream",
     "text": [
      "Training: 100%|██████████| 18964/18964 [00:31<00:00, 603.84it/s, Loss=2.1, rmse=0.819, R²=0.0215]\n",
      "Testing: 100%|██████████| 676/676 [00:00<00:00, 853.65it/s, Loss=0.76, R²=0.0088]  \n"
     ]
    },
    {
     "name": "stdout",
     "output_type": "stream",
     "text": [
      "Train rmse: 0.82067, Train R2: 0.02147, Train loss: 2.09593\n",
      "Test loss: 0.79856, Test R2: 0.00859\n",
      "\n",
      "Epoch 9:\n"
     ]
    },
    {
     "name": "stderr",
     "output_type": "stream",
     "text": [
      "Training: 100%|██████████| 18964/18964 [00:31<00:00, 603.12it/s, Loss=2.1, rmse=0.819, R²=0.0218] \n",
      "Testing: 100%|██████████| 676/676 [00:00<00:00, 856.11it/s, Loss=0.76, R²=0.00888] \n"
     ]
    },
    {
     "name": "stdout",
     "output_type": "stream",
     "text": [
      "Train rmse: 0.82050, Train R2: 0.02187, Train loss: 2.09533\n",
      "Test loss: 0.79853, Test R2: 0.00868\n",
      "Model Saved - Epoch 9 - Test R2: 0.00868\n",
      "\n",
      "\n",
      "Epoch 10:\n"
     ]
    },
    {
     "name": "stderr",
     "output_type": "stream",
     "text": [
      "Training: 100%|██████████| 18964/18964 [00:31<00:00, 604.01it/s, Loss=2.09, rmse=0.819, R²=0.0222]\n",
      "Testing: 100%|██████████| 676/676 [00:00<00:00, 855.72it/s, Loss=0.76, R²=0.00858] \n"
     ]
    },
    {
     "name": "stdout",
     "output_type": "stream",
     "text": [
      "Train rmse: 0.82037, Train R2: 0.02219, Train loss: 2.09487\n",
      "Test loss: 0.79865, Test R2: 0.00837\n",
      "\n",
      "Epoch 11:\n"
     ]
    },
    {
     "name": "stderr",
     "output_type": "stream",
     "text": [
      "Training: 100%|██████████| 18964/18964 [00:31<00:00, 600.33it/s, Loss=2.09, rmse=0.819, R²=0.0226]\n",
      "Testing: 100%|██████████| 676/676 [00:00<00:00, 852.63it/s, Loss=0.76, R²=0.00866] \n"
     ]
    },
    {
     "name": "stdout",
     "output_type": "stream",
     "text": [
      "Train rmse: 0.82021, Train R2: 0.02256, Train loss: 2.09433\n",
      "Test loss: 0.79860, Test R2: 0.00849\n",
      "\n",
      "Epoch 12:\n"
     ]
    },
    {
     "name": "stderr",
     "output_type": "stream",
     "text": [
      "Training: 100%|██████████| 18964/18964 [00:31<00:00, 597.71it/s, Loss=2.09, rmse=0.819, R²=0.0229]\n",
      "Testing: 100%|██████████| 676/676 [00:00<00:00, 854.67it/s, Loss=0.76, R²=0.00879] \n"
     ]
    },
    {
     "name": "stdout",
     "output_type": "stream",
     "text": [
      "Train rmse: 0.82007, Train R2: 0.02290, Train loss: 2.09380\n",
      "Test loss: 0.79857, Test R2: 0.00858\n",
      "\n",
      "Epoch 13:\n"
     ]
    },
    {
     "name": "stderr",
     "output_type": "stream",
     "text": [
      "Training: 100%|██████████| 18964/18964 [00:31<00:00, 598.57it/s, Loss=2.09, rmse=0.819, R²=0.0232]\n",
      "Testing: 100%|██████████| 676/676 [00:00<00:00, 853.00it/s, Loss=0.76, R²=0.00892] \n"
     ]
    },
    {
     "name": "stdout",
     "output_type": "stream",
     "text": [
      "Train rmse: 0.81996, Train R2: 0.02316, Train loss: 2.09341\n",
      "Test loss: 0.79852, Test R2: 0.00870\n",
      "Model Saved - Epoch 13 - Test R2: 0.00870\n",
      "\n",
      "\n",
      "Epoch 14:\n"
     ]
    },
    {
     "name": "stderr",
     "output_type": "stream",
     "text": [
      "Training: 100%|██████████| 18964/18964 [00:31<00:00, 598.01it/s, Loss=2.09, rmse=0.819, R²=0.0234]\n",
      "Testing: 100%|██████████| 676/676 [00:00<00:00, 848.98it/s, Loss=0.759, R²=0.00905]\n"
     ]
    },
    {
     "name": "stdout",
     "output_type": "stream",
     "text": [
      "Train rmse: 0.81985, Train R2: 0.02342, Train loss: 2.09312\n",
      "Test loss: 0.79845, Test R2: 0.00886\n",
      "Model Saved - Epoch 14 - Test R2: 0.00886\n",
      "\n",
      "\n",
      "Epoch 15:\n"
     ]
    },
    {
     "name": "stderr",
     "output_type": "stream",
     "text": [
      "Training: 100%|██████████| 18964/18964 [00:31<00:00, 596.32it/s, Loss=2.09, rmse=0.819, R²=0.0237]\n",
      "Testing: 100%|██████████| 676/676 [00:00<00:00, 853.22it/s, Loss=0.76, R²=0.00886] \n"
     ]
    },
    {
     "name": "stdout",
     "output_type": "stream",
     "text": [
      "Train rmse: 0.81974, Train R2: 0.02368, Train loss: 2.09269\n",
      "Test loss: 0.79852, Test R2: 0.00868\n",
      "\n",
      "Best Epoch: 14, Best Test R2: 0.00886\n"
     ]
    },
    {
     "name": "stderr",
     "output_type": "stream",
     "text": [
      "/home/mt/miniconda3/envs/tabm/lib/python3.10/site-packages/wandb/sdk/lib/ipython.py:89: DeprecationWarning: Importing display from IPython.core.display is deprecated since IPython 7.14, please import from IPython display\n",
      "  from IPython.core.display import display\n"
     ]
    },
    {
     "data": {
      "application/vnd.jupyter.widget-view+json": {
       "model_id": "304b1277b7ad438a8a907fe99c47cc97",
       "version_major": 2,
       "version_minor": 0
      },
      "text/plain": [
       "VBox(children=(Label(value='0.004 MB of 0.004 MB uploaded\\r'), FloatProgress(value=1.0, max=1.0)))"
      ]
     },
     "metadata": {},
     "output_type": "display_data"
    },
    {
     "name": "stderr",
     "output_type": "stream",
     "text": [
      "/home/mt/miniconda3/envs/tabm/lib/python3.10/site-packages/wandb/sdk/lib/ipython.py:77: DeprecationWarning: Importing display from IPython.core.display is deprecated since IPython 7.14, please import from IPython display\n",
      "  from IPython.core.display import HTML, display  # type: ignore\n"
     ]
    },
    {
     "data": {
      "text/html": [
       "<style>\n",
       "    table.wandb td:nth-child(1) { padding: 0 10px; text-align: left ; width: auto;} td:nth-child(2) {text-align: left ; width: 100%}\n",
       "    .wandb-row { display: flex; flex-direction: row; flex-wrap: wrap; justify-content: flex-start; width: 100% }\n",
       "    .wandb-col { display: flex; flex-direction: column; flex-basis: 100%; flex: 1; padding: 10px; }\n",
       "    </style>\n",
       "<div class=\"wandb-row\"><div class=\"wandb-col\"><h3>Run history:</h3><br/><table class=\"wandb\"><tr><td>epoch</td><td>▁▁▂▃▃▃▄▅▅▅▆▇▇▇█</td></tr><tr><td>test_loss</td><td>█▅▄▃▃▃▂▂▂▃▂▂▂▁▂</td></tr><tr><td>test_r2</td><td>▁▄▅▆▆▆▇▇▇▆▇▇▇█▇</td></tr><tr><td>train_loss</td><td>█▅▄▃▃▃▂▂▂▂▂▁▁▁▁</td></tr><tr><td>train_r2</td><td>▁▄▅▆▆▆▇▇▇▇▇████</td></tr><tr><td>train_rmse</td><td>█▅▄▃▃▃▂▂▂▂▂▁▁▁▁</td></tr></table><br/></div><div class=\"wandb-col\"><h3>Run summary:</h3><br/><table class=\"wandb\"><tr><td>best_test_r2</td><td>0.00886</td></tr><tr><td>best_train_r2</td><td>0.02368</td></tr><tr><td>epoch</td><td>15</td></tr><tr><td>test_loss</td><td>0.79852</td></tr><tr><td>test_r2</td><td>0.00868</td></tr><tr><td>train_loss</td><td>2.09269</td></tr><tr><td>train_r2</td><td>0.02368</td></tr><tr><td>train_rmse</td><td>0.81974</td></tr></table><br/></div></div>"
      ],
      "text/plain": [
       "<IPython.core.display.HTML object>"
      ]
     },
     "metadata": {},
     "output_type": "display_data"
    },
    {
     "data": {
      "text/html": [
       " View run <strong style=\"color:#cdcd00\">dulcet-sweep-9</strong> at: <a href='https://wandb.ai/turkenm/js_tabm/runs/bbj7uoxa' target=\"_blank\">https://wandb.ai/turkenm/js_tabm/runs/bbj7uoxa</a><br/> View project at: <a href='https://wandb.ai/turkenm/js_tabm' target=\"_blank\">https://wandb.ai/turkenm/js_tabm</a><br/>Synced 6 W&B file(s), 0 media file(s), 0 artifact file(s) and 0 other file(s)"
      ],
      "text/plain": [
       "<IPython.core.display.HTML object>"
      ]
     },
     "metadata": {},
     "output_type": "display_data"
    },
    {
     "data": {
      "text/html": [
       "Find logs at: <code>./wandb/run-20250112_173437-bbj7uoxa/logs</code>"
      ],
      "text/plain": [
       "<IPython.core.display.HTML object>"
      ]
     },
     "metadata": {},
     "output_type": "display_data"
    },
    {
     "name": "stderr",
     "output_type": "stream",
     "text": [
      "\u001b[34m\u001b[1mwandb\u001b[0m: Agent Starting Run: qbzrawqm with config:\n",
      "\u001b[34m\u001b[1mwandb\u001b[0m: \td_block: 64\n",
      "\u001b[34m\u001b[1mwandb\u001b[0m: \tdrop_out: 0.1\n",
      "\u001b[34m\u001b[1mwandb\u001b[0m: \tlearning_rate: 0.0001\n",
      "\u001b[34m\u001b[1mwandb\u001b[0m: \tmodel_arch: tabm-mini\n",
      "\u001b[34m\u001b[1mwandb\u001b[0m: \tn_block: 3\n",
      "\u001b[34m\u001b[1mwandb\u001b[0m: \tn_k: 16\n",
      "\u001b[34m\u001b[1mwandb\u001b[0m: \tweight_decay: 0.0002\n",
      "Failed to detect the name of this notebook, you can set it manually with the WANDB_NOTEBOOK_NAME environment variable to enable code saving.\n",
      "/home/mt/miniconda3/envs/tabm/lib/python3.10/site-packages/wandb/sdk/wandb_setup.py:254: ResourceWarning: unclosed file <_io.TextIOWrapper name='/home/mt/Desktop/JaneStreet-Comp/wandb/sweep-mtpap5fv/config-qbzrawqm.yaml' mode='r' encoding='UTF-8'>\n",
      "  self._sweep_config = config_util.dict_from_config_file(\n",
      "ResourceWarning: Enable tracemalloc to get the object allocation traceback\n"
     ]
    },
    {
     "data": {
      "text/html": [
       "wandb version 0.19.2 is available!  To upgrade, please run:\n",
       " $ pip install wandb --upgrade"
      ],
      "text/plain": [
       "<IPython.core.display.HTML object>"
      ]
     },
     "metadata": {},
     "output_type": "display_data"
    },
    {
     "data": {
      "text/html": [
       "Tracking run with wandb version 0.16.6"
      ],
      "text/plain": [
       "<IPython.core.display.HTML object>"
      ]
     },
     "metadata": {},
     "output_type": "display_data"
    },
    {
     "data": {
      "text/html": [
       "Run data is saved locally in <code>/home/mt/Desktop/JaneStreet-Comp/wandb/run-20250112_174300-qbzrawqm</code>"
      ],
      "text/plain": [
       "<IPython.core.display.HTML object>"
      ]
     },
     "metadata": {},
     "output_type": "display_data"
    },
    {
     "data": {
      "text/html": [
       "Syncing run <strong><a href='https://wandb.ai/turkenm/js_tabm/runs/qbzrawqm' target=\"_blank\">bumbling-sweep-10</a></strong> to <a href='https://wandb.ai/turkenm/js_tabm' target=\"_blank\">Weights & Biases</a> (<a href='https://wandb.me/run' target=\"_blank\">docs</a>)<br/>Sweep page: <a href='https://wandb.ai/turkenm/js_tabm/sweeps/mtpap5fv' target=\"_blank\">https://wandb.ai/turkenm/js_tabm/sweeps/mtpap5fv</a>"
      ],
      "text/plain": [
       "<IPython.core.display.HTML object>"
      ]
     },
     "metadata": {},
     "output_type": "display_data"
    },
    {
     "data": {
      "text/html": [
       " View project at <a href='https://wandb.ai/turkenm/js_tabm' target=\"_blank\">https://wandb.ai/turkenm/js_tabm</a>"
      ],
      "text/plain": [
       "<IPython.core.display.HTML object>"
      ]
     },
     "metadata": {},
     "output_type": "display_data"
    },
    {
     "data": {
      "text/html": [
       " View sweep at <a href='https://wandb.ai/turkenm/js_tabm/sweeps/mtpap5fv' target=\"_blank\">https://wandb.ai/turkenm/js_tabm/sweeps/mtpap5fv</a>"
      ],
      "text/plain": [
       "<IPython.core.display.HTML object>"
      ]
     },
     "metadata": {},
     "output_type": "display_data"
    },
    {
     "data": {
      "text/html": [
       " View run at <a href='https://wandb.ai/turkenm/js_tabm/runs/qbzrawqm' target=\"_blank\">https://wandb.ai/turkenm/js_tabm/runs/qbzrawqm</a>"
      ],
      "text/plain": [
       "<IPython.core.display.HTML object>"
      ]
     },
     "metadata": {},
     "output_type": "display_data"
    },
    {
     "name": "stdout",
     "output_type": "stream",
     "text": [
      "EXPERIMENT exp_tabm-mini_dblocks_64_nblocks_3_LR_1e-04_BS_1024_DR_0.1_k_16_id_92983\n",
      "\n",
      "\n",
      "Epoch 1:\n"
     ]
    },
    {
     "name": "stderr",
     "output_type": "stream",
     "text": [
      "Training: 100%|██████████| 18964/18964 [00:31<00:00, 603.17it/s, Loss=2.11, rmse=0.824, R²=0.0104] \n",
      "Testing: 100%|██████████| 676/676 [00:00<00:00, 856.34it/s, Loss=0.76, R²=0.00693] \n"
     ]
    },
    {
     "name": "stdout",
     "output_type": "stream",
     "text": [
      "Train rmse: 0.82528, Train R2: 0.01044, Train loss: 2.11351\n",
      "Test loss: 0.79928, Test R2: 0.00680\n",
      "Model Saved - Epoch 1 - Test R2: 0.00680\n",
      "\n",
      "\n",
      "Epoch 2:\n"
     ]
    },
    {
     "name": "stderr",
     "output_type": "stream",
     "text": [
      "Training: 100%|██████████| 18964/18964 [00:31<00:00, 605.38it/s, Loss=2.1, rmse=0.822, R²=0.0158]\n",
      "Testing: 100%|██████████| 676/676 [00:00<00:00, 856.25it/s, Loss=0.76, R²=0.0079]  \n"
     ]
    },
    {
     "name": "stdout",
     "output_type": "stream",
     "text": [
      "Train rmse: 0.82304, Train R2: 0.01581, Train loss: 2.10465\n",
      "Test loss: 0.79891, Test R2: 0.00773\n",
      "Model Saved - Epoch 2 - Test R2: 0.00773\n",
      "\n",
      "\n",
      "Epoch 3:\n"
     ]
    },
    {
     "name": "stderr",
     "output_type": "stream",
     "text": [
      "Training: 100%|██████████| 18964/18964 [00:31<00:00, 603.79it/s, Loss=2.1, rmse=0.821, R²=0.0178]\n",
      "Testing: 100%|██████████| 676/676 [00:00<00:00, 854.35it/s, Loss=0.76, R²=0.00822] \n"
     ]
    },
    {
     "name": "stdout",
     "output_type": "stream",
     "text": [
      "Train rmse: 0.82221, Train R2: 0.01780, Train loss: 2.10156\n",
      "Test loss: 0.79879, Test R2: 0.00803\n",
      "Model Saved - Epoch 3 - Test R2: 0.00803\n",
      "\n",
      "\n",
      "Epoch 4:\n"
     ]
    },
    {
     "name": "stderr",
     "output_type": "stream",
     "text": [
      "Training:   3%|▎         | 594/18964 [00:00<00:28, 655.85it/s, Loss=2.12, rmse=0.825, R²=0.0181]/home/mt/miniconda3/envs/tabm/lib/python3.10/site-packages/torch/nn/functional.py:1425: ResourceWarning: unclosed <socket.socket fd=110, family=AddressFamily.AF_INET, type=SocketKind.SOCK_STREAM, proto=0, laddr=('127.0.0.1', 45080), raddr=('127.0.0.1', 46117)>\n",
      "  _VF.dropout_(input, p, training) if inplace else _VF.dropout(input, p, training)\n",
      "ResourceWarning: Enable tracemalloc to get the object allocation traceback\n",
      "Training: 100%|██████████| 18964/18964 [00:31<00:00, 596.56it/s, Loss=2.1, rmse=0.821, R²=0.019] \n",
      "Testing: 100%|██████████| 676/676 [00:00<00:00, 852.62it/s, Loss=0.76, R²=0.00831] \n"
     ]
    },
    {
     "name": "stdout",
     "output_type": "stream",
     "text": [
      "Train rmse: 0.82169, Train R2: 0.01904, Train loss: 2.09961\n",
      "Test loss: 0.79875, Test R2: 0.00811\n",
      "Model Saved - Epoch 4 - Test R2: 0.00811\n",
      "\n",
      "\n",
      "Epoch 5:\n"
     ]
    },
    {
     "name": "stderr",
     "output_type": "stream",
     "text": [
      "Training: 100%|██████████| 18964/18964 [00:31<00:00, 597.05it/s, Loss=2.1, rmse=0.82, R²=0.0199]\n",
      "Testing: 100%|██████████| 676/676 [00:00<00:00, 853.55it/s, Loss=0.76, R²=0.008]   \n"
     ]
    },
    {
     "name": "stdout",
     "output_type": "stream",
     "text": [
      "Train rmse: 0.82133, Train R2: 0.01988, Train loss: 2.09831\n",
      "Test loss: 0.79887, Test R2: 0.00784\n",
      "\n",
      "Epoch 6:\n"
     ]
    },
    {
     "name": "stderr",
     "output_type": "stream",
     "text": [
      "Training: 100%|██████████| 18964/18964 [00:31<00:00, 599.49it/s, Loss=2.1, rmse=0.82, R²=0.0205] \n",
      "Testing: 100%|██████████| 676/676 [00:00<00:00, 854.96it/s, Loss=0.76, R²=0.00825] \n"
     ]
    },
    {
     "name": "stdout",
     "output_type": "stream",
     "text": [
      "Train rmse: 0.82106, Train R2: 0.02053, Train loss: 2.09726\n",
      "Test loss: 0.79877, Test R2: 0.00808\n",
      "\n",
      "Epoch 7:\n"
     ]
    },
    {
     "name": "stderr",
     "output_type": "stream",
     "text": [
      "Training: 100%|██████████| 18964/18964 [00:31<00:00, 598.63it/s, Loss=2.1, rmse=0.82, R²=0.021] \n",
      "Testing: 100%|██████████| 676/676 [00:00<00:00, 855.19it/s, Loss=0.76, R²=0.00825] \n"
     ]
    },
    {
     "name": "stdout",
     "output_type": "stream",
     "text": [
      "Train rmse: 0.82085, Train R2: 0.02104, Train loss: 2.09648\n",
      "Test loss: 0.79876, Test R2: 0.00810\n",
      "\n",
      "Epoch 8:\n"
     ]
    },
    {
     "name": "stderr",
     "output_type": "stream",
     "text": [
      "Training: 100%|██████████| 18964/18964 [00:31<00:00, 599.40it/s, Loss=2.1, rmse=0.819, R²=0.0216] \n",
      "Testing: 100%|██████████| 676/676 [00:00<00:00, 855.17it/s, Loss=0.76, R²=0.00825] \n"
     ]
    },
    {
     "name": "stdout",
     "output_type": "stream",
     "text": [
      "Train rmse: 0.82063, Train R2: 0.02156, Train loss: 2.09576\n",
      "Test loss: 0.79877, Test R2: 0.00807\n",
      "\n",
      "Epoch 9:\n"
     ]
    },
    {
     "name": "stderr",
     "output_type": "stream",
     "text": [
      "Training: 100%|██████████| 18964/18964 [00:31<00:00, 603.01it/s, Loss=2.1, rmse=0.819, R²=0.0219] \n",
      "Testing: 100%|██████████| 676/676 [00:00<00:00, 853.54it/s, Loss=0.76, R²=0.00826] \n"
     ]
    },
    {
     "name": "stdout",
     "output_type": "stream",
     "text": [
      "Train rmse: 0.82046, Train R2: 0.02196, Train loss: 2.09513\n",
      "Test loss: 0.79876, Test R2: 0.00809\n",
      "\n",
      "Epoch 10:\n"
     ]
    },
    {
     "name": "stderr",
     "output_type": "stream",
     "text": [
      "Training: 100%|██████████| 18964/18964 [00:31<00:00, 606.78it/s, Loss=2.09, rmse=0.819, R²=0.0224]\n",
      "Testing: 100%|██████████| 676/676 [00:00<00:00, 856.81it/s, Loss=0.76, R²=0.00867] \n"
     ]
    },
    {
     "name": "stdout",
     "output_type": "stream",
     "text": [
      "Train rmse: 0.82027, Train R2: 0.02241, Train loss: 2.09449\n",
      "Test loss: 0.79862, Test R2: 0.00846\n",
      "Model Saved - Epoch 10 - Test R2: 0.00846\n",
      "\n",
      "\n",
      "Epoch 11:\n"
     ]
    },
    {
     "name": "stderr",
     "output_type": "stream",
     "text": [
      "Training: 100%|██████████| 18964/18964 [00:31<00:00, 599.10it/s, Loss=2.09, rmse=0.819, R²=0.0228]\n",
      "Testing: 100%|██████████| 676/676 [00:00<00:00, 855.80it/s, Loss=0.76, R²=0.00845] \n"
     ]
    },
    {
     "name": "stdout",
     "output_type": "stream",
     "text": [
      "Train rmse: 0.82013, Train R2: 0.02275, Train loss: 2.09400\n",
      "Test loss: 0.79870, Test R2: 0.00826\n",
      "\n",
      "Epoch 12:\n"
     ]
    },
    {
     "name": "stderr",
     "output_type": "stream",
     "text": [
      "Training: 100%|██████████| 18964/18964 [00:31<00:00, 602.60it/s, Loss=2.09, rmse=0.819, R²=0.0232]\n",
      "Testing: 100%|██████████| 676/676 [00:00<00:00, 856.51it/s, Loss=0.76, R²=0.00839] \n"
     ]
    },
    {
     "name": "stdout",
     "output_type": "stream",
     "text": [
      "Train rmse: 0.81995, Train R2: 0.02317, Train loss: 2.09343\n",
      "Test loss: 0.79871, Test R2: 0.00822\n",
      "\n",
      "Epoch 13:\n"
     ]
    },
    {
     "name": "stderr",
     "output_type": "stream",
     "text": [
      "Training: 100%|██████████| 18964/18964 [00:31<00:00, 605.70it/s, Loss=2.09, rmse=0.819, R²=0.0235]\n",
      "Testing: 100%|██████████| 676/676 [00:00<00:00, 854.66it/s, Loss=0.76, R²=0.00875] \n"
     ]
    },
    {
     "name": "stdout",
     "output_type": "stream",
     "text": [
      "Train rmse: 0.81980, Train R2: 0.02353, Train loss: 2.09294\n",
      "Test loss: 0.79858, Test R2: 0.00853\n",
      "Model Saved - Epoch 13 - Test R2: 0.00853\n",
      "\n",
      "\n",
      "Epoch 14:\n"
     ]
    },
    {
     "name": "stderr",
     "output_type": "stream",
     "text": [
      "Training: 100%|██████████| 18964/18964 [00:31<00:00, 599.09it/s, Loss=2.09, rmse=0.819, R²=0.0239]\n",
      "Testing: 100%|██████████| 676/676 [00:00<00:00, 847.31it/s, Loss=0.76, R²=0.00871] \n"
     ]
    },
    {
     "name": "stdout",
     "output_type": "stream",
     "text": [
      "Train rmse: 0.81965, Train R2: 0.02389, Train loss: 2.09238\n",
      "Test loss: 0.79860, Test R2: 0.00850\n",
      "\n",
      "Epoch 15:\n"
     ]
    },
    {
     "name": "stderr",
     "output_type": "stream",
     "text": [
      "Training: 100%|██████████| 18964/18964 [00:31<00:00, 596.23it/s, Loss=2.09, rmse=0.818, R²=0.0242]\n",
      "Testing: 100%|██████████| 676/676 [00:00<00:00, 855.21it/s, Loss=0.76, R²=0.00856] \n"
     ]
    },
    {
     "name": "stdout",
     "output_type": "stream",
     "text": [
      "Train rmse: 0.81953, Train R2: 0.02419, Train loss: 2.09197\n",
      "Test loss: 0.79864, Test R2: 0.00839\n",
      "\n",
      "Best Epoch: 13, Best Test R2: 0.00853\n"
     ]
    },
    {
     "name": "stderr",
     "output_type": "stream",
     "text": [
      "/home/mt/miniconda3/envs/tabm/lib/python3.10/site-packages/wandb/sdk/lib/ipython.py:89: DeprecationWarning: Importing display from IPython.core.display is deprecated since IPython 7.14, please import from IPython display\n",
      "  from IPython.core.display import display\n"
     ]
    },
    {
     "data": {
      "application/vnd.jupyter.widget-view+json": {
       "model_id": "550fb18e4dfc4cb1b92081634a2ec23a",
       "version_major": 2,
       "version_minor": 0
      },
      "text/plain": [
       "VBox(children=(Label(value='0.004 MB of 0.004 MB uploaded\\r'), FloatProgress(value=1.0, max=1.0)))"
      ]
     },
     "metadata": {},
     "output_type": "display_data"
    },
    {
     "name": "stderr",
     "output_type": "stream",
     "text": [
      "/home/mt/miniconda3/envs/tabm/lib/python3.10/site-packages/wandb/sdk/lib/ipython.py:77: DeprecationWarning: Importing display from IPython.core.display is deprecated since IPython 7.14, please import from IPython display\n",
      "  from IPython.core.display import HTML, display  # type: ignore\n"
     ]
    },
    {
     "data": {
      "text/html": [
       "<style>\n",
       "    table.wandb td:nth-child(1) { padding: 0 10px; text-align: left ; width: auto;} td:nth-child(2) {text-align: left ; width: 100%}\n",
       "    .wandb-row { display: flex; flex-direction: row; flex-wrap: wrap; justify-content: flex-start; width: 100% }\n",
       "    .wandb-col { display: flex; flex-direction: column; flex-basis: 100%; flex: 1; padding: 10px; }\n",
       "    </style>\n",
       "<div class=\"wandb-row\"><div class=\"wandb-col\"><h3>Run history:</h3><br/><table class=\"wandb\"><tr><td>epoch</td><td>▁▁▂▃▃▃▄▅▅▅▆▇▇▇█</td></tr><tr><td>test_loss</td><td>█▄▃▃▄▃▃▃▃▁▂▂▁▁▂</td></tr><tr><td>test_r2</td><td>▁▅▆▆▅▆▆▆▆█▇▇██▇</td></tr><tr><td>train_loss</td><td>█▅▄▃▃▃▂▂▂▂▂▁▁▁▁</td></tr><tr><td>train_r2</td><td>▁▄▅▅▆▆▆▇▇▇▇▇███</td></tr><tr><td>train_rmse</td><td>█▅▄▄▃▃▃▂▂▂▂▂▁▁▁</td></tr></table><br/></div><div class=\"wandb-col\"><h3>Run summary:</h3><br/><table class=\"wandb\"><tr><td>best_test_r2</td><td>0.00853</td></tr><tr><td>best_train_r2</td><td>0.02419</td></tr><tr><td>epoch</td><td>15</td></tr><tr><td>test_loss</td><td>0.79864</td></tr><tr><td>test_r2</td><td>0.00839</td></tr><tr><td>train_loss</td><td>2.09197</td></tr><tr><td>train_r2</td><td>0.02419</td></tr><tr><td>train_rmse</td><td>0.81953</td></tr></table><br/></div></div>"
      ],
      "text/plain": [
       "<IPython.core.display.HTML object>"
      ]
     },
     "metadata": {},
     "output_type": "display_data"
    },
    {
     "data": {
      "text/html": [
       " View run <strong style=\"color:#cdcd00\">bumbling-sweep-10</strong> at: <a href='https://wandb.ai/turkenm/js_tabm/runs/qbzrawqm' target=\"_blank\">https://wandb.ai/turkenm/js_tabm/runs/qbzrawqm</a><br/> View project at: <a href='https://wandb.ai/turkenm/js_tabm' target=\"_blank\">https://wandb.ai/turkenm/js_tabm</a><br/>Synced 6 W&B file(s), 0 media file(s), 0 artifact file(s) and 0 other file(s)"
      ],
      "text/plain": [
       "<IPython.core.display.HTML object>"
      ]
     },
     "metadata": {},
     "output_type": "display_data"
    },
    {
     "data": {
      "text/html": [
       "Find logs at: <code>./wandb/run-20250112_174300-qbzrawqm/logs</code>"
      ],
      "text/plain": [
       "<IPython.core.display.HTML object>"
      ]
     },
     "metadata": {},
     "output_type": "display_data"
    },
    {
     "name": "stderr",
     "output_type": "stream",
     "text": [
      "\u001b[34m\u001b[1mwandb\u001b[0m: Agent Starting Run: q7y2ccdp with config:\n",
      "\u001b[34m\u001b[1mwandb\u001b[0m: \td_block: 64\n",
      "\u001b[34m\u001b[1mwandb\u001b[0m: \tdrop_out: 0.1\n",
      "\u001b[34m\u001b[1mwandb\u001b[0m: \tlearning_rate: 0.0001\n",
      "\u001b[34m\u001b[1mwandb\u001b[0m: \tmodel_arch: tabm-mini\n",
      "\u001b[34m\u001b[1mwandb\u001b[0m: \tn_block: 3\n",
      "\u001b[34m\u001b[1mwandb\u001b[0m: \tn_k: 32\n",
      "\u001b[34m\u001b[1mwandb\u001b[0m: \tweight_decay: 0.0001\n",
      "Failed to detect the name of this notebook, you can set it manually with the WANDB_NOTEBOOK_NAME environment variable to enable code saving.\n",
      "/home/mt/miniconda3/envs/tabm/lib/python3.10/site-packages/wandb/sdk/wandb_setup.py:254: ResourceWarning: unclosed file <_io.TextIOWrapper name='/home/mt/Desktop/JaneStreet-Comp/wandb/sweep-mtpap5fv/config-q7y2ccdp.yaml' mode='r' encoding='UTF-8'>\n",
      "  self._sweep_config = config_util.dict_from_config_file(\n",
      "ResourceWarning: Enable tracemalloc to get the object allocation traceback\n"
     ]
    },
    {
     "data": {
      "text/html": [
       "wandb version 0.19.2 is available!  To upgrade, please run:\n",
       " $ pip install wandb --upgrade"
      ],
      "text/plain": [
       "<IPython.core.display.HTML object>"
      ]
     },
     "metadata": {},
     "output_type": "display_data"
    },
    {
     "data": {
      "text/html": [
       "Tracking run with wandb version 0.16.6"
      ],
      "text/plain": [
       "<IPython.core.display.HTML object>"
      ]
     },
     "metadata": {},
     "output_type": "display_data"
    },
    {
     "data": {
      "text/html": [
       "Run data is saved locally in <code>/home/mt/Desktop/JaneStreet-Comp/wandb/run-20250112_175122-q7y2ccdp</code>"
      ],
      "text/plain": [
       "<IPython.core.display.HTML object>"
      ]
     },
     "metadata": {},
     "output_type": "display_data"
    },
    {
     "data": {
      "text/html": [
       "Syncing run <strong><a href='https://wandb.ai/turkenm/js_tabm/runs/q7y2ccdp' target=\"_blank\">dashing-sweep-11</a></strong> to <a href='https://wandb.ai/turkenm/js_tabm' target=\"_blank\">Weights & Biases</a> (<a href='https://wandb.me/run' target=\"_blank\">docs</a>)<br/>Sweep page: <a href='https://wandb.ai/turkenm/js_tabm/sweeps/mtpap5fv' target=\"_blank\">https://wandb.ai/turkenm/js_tabm/sweeps/mtpap5fv</a>"
      ],
      "text/plain": [
       "<IPython.core.display.HTML object>"
      ]
     },
     "metadata": {},
     "output_type": "display_data"
    },
    {
     "data": {
      "text/html": [
       " View project at <a href='https://wandb.ai/turkenm/js_tabm' target=\"_blank\">https://wandb.ai/turkenm/js_tabm</a>"
      ],
      "text/plain": [
       "<IPython.core.display.HTML object>"
      ]
     },
     "metadata": {},
     "output_type": "display_data"
    },
    {
     "data": {
      "text/html": [
       " View sweep at <a href='https://wandb.ai/turkenm/js_tabm/sweeps/mtpap5fv' target=\"_blank\">https://wandb.ai/turkenm/js_tabm/sweeps/mtpap5fv</a>"
      ],
      "text/plain": [
       "<IPython.core.display.HTML object>"
      ]
     },
     "metadata": {},
     "output_type": "display_data"
    },
    {
     "data": {
      "text/html": [
       " View run at <a href='https://wandb.ai/turkenm/js_tabm/runs/q7y2ccdp' target=\"_blank\">https://wandb.ai/turkenm/js_tabm/runs/q7y2ccdp</a>"
      ],
      "text/plain": [
       "<IPython.core.display.HTML object>"
      ]
     },
     "metadata": {},
     "output_type": "display_data"
    },
    {
     "name": "stdout",
     "output_type": "stream",
     "text": [
      "EXPERIMENT exp_tabm-mini_dblocks_64_nblocks_3_LR_1e-04_BS_1024_DR_0.1_k_32_id_93484\n",
      "\n",
      "\n",
      "Epoch 1:\n"
     ]
    },
    {
     "name": "stderr",
     "output_type": "stream",
     "text": [
      "Training: 100%|██████████| 18964/18964 [00:44<00:00, 425.25it/s, Loss=2.12, rmse=0.825, R²=0.00906]\n",
      "Testing: 100%|██████████| 676/676 [00:01<00:00, 545.92it/s, Loss=0.76, R²=0.00612] \n"
     ]
    },
    {
     "name": "stdout",
     "output_type": "stream",
     "text": [
      "Train rmse: 0.82584, Train R2: 0.00911, Train loss: 2.11591\n",
      "Test loss: 0.79960, Test R2: 0.00602\n",
      "Model Saved - Epoch 1 - Test R2: 0.00602\n",
      "\n",
      "\n",
      "Epoch 2:\n"
     ]
    },
    {
     "name": "stderr",
     "output_type": "stream",
     "text": [
      "Training: 100%|██████████| 18964/18964 [00:44<00:00, 425.43it/s, Loss=2.11, rmse=0.823, R²=0.0137]\n",
      "Testing: 100%|██████████| 676/676 [00:01<00:00, 545.16it/s, Loss=0.76, R²=0.00737] \n"
     ]
    },
    {
     "name": "stdout",
     "output_type": "stream",
     "text": [
      "Train rmse: 0.82392, Train R2: 0.01370, Train loss: 2.10825\n",
      "Test loss: 0.79912, Test R2: 0.00721\n",
      "Model Saved - Epoch 2 - Test R2: 0.00721\n",
      "\n",
      "\n",
      "Epoch 3:\n"
     ]
    },
    {
     "name": "stderr",
     "output_type": "stream",
     "text": [
      "Training: 100%|██████████| 18964/18964 [00:44<00:00, 422.77it/s, Loss=2.11, rmse=0.822, R²=0.0155]\n",
      "Testing: 100%|██████████| 676/676 [00:01<00:00, 544.89it/s, Loss=0.76, R²=0.00762] \n"
     ]
    },
    {
     "name": "stdout",
     "output_type": "stream",
     "text": [
      "Train rmse: 0.82318, Train R2: 0.01548, Train loss: 2.10558\n",
      "Test loss: 0.79901, Test R2: 0.00747\n",
      "Model Saved - Epoch 3 - Test R2: 0.00747\n",
      "\n",
      "\n",
      "Epoch 4:\n"
     ]
    },
    {
     "name": "stderr",
     "output_type": "stream",
     "text": [
      "Training:   6%|▋         | 1215/18964 [00:02<00:40, 440.02it/s, Loss=2.1, rmse=0.82, R²=0.0168]  /home/mt/miniconda3/envs/tabm/lib/python3.10/site-packages/torch/nn/functional.py:1425: ResourceWarning: unclosed <socket.socket fd=107, family=AddressFamily.AF_INET, type=SocketKind.SOCK_STREAM, proto=0, laddr=('127.0.0.1', 58144), raddr=('127.0.0.1', 36423)>\n",
      "  _VF.dropout_(input, p, training) if inplace else _VF.dropout(input, p, training)\n",
      "ResourceWarning: Enable tracemalloc to get the object allocation traceback\n",
      "Training: 100%|██████████| 18964/18964 [00:44<00:00, 422.30it/s, Loss=2.1, rmse=0.822, R²=0.0166]\n",
      "Testing: 100%|██████████| 676/676 [00:01<00:00, 544.92it/s, Loss=0.76, R²=0.00768] \n"
     ]
    },
    {
     "name": "stdout",
     "output_type": "stream",
     "text": [
      "Train rmse: 0.82268, Train R2: 0.01666, Train loss: 2.10372\n",
      "Test loss: 0.79898, Test R2: 0.00755\n",
      "Model Saved - Epoch 4 - Test R2: 0.00755\n",
      "\n",
      "\n",
      "Epoch 5:\n"
     ]
    },
    {
     "name": "stderr",
     "output_type": "stream",
     "text": [
      "Training: 100%|██████████| 18964/18964 [00:44<00:00, 423.23it/s, Loss=2.1, rmse=0.821, R²=0.0175]\n",
      "Testing: 100%|██████████| 676/676 [00:01<00:00, 533.77it/s, Loss=0.76, R²=0.00776] \n"
     ]
    },
    {
     "name": "stdout",
     "output_type": "stream",
     "text": [
      "Train rmse: 0.82235, Train R2: 0.01747, Train loss: 2.10230\n",
      "Test loss: 0.79895, Test R2: 0.00763\n",
      "Model Saved - Epoch 5 - Test R2: 0.00763\n",
      "\n",
      "\n",
      "Epoch 6:\n"
     ]
    },
    {
     "name": "stderr",
     "output_type": "stream",
     "text": [
      "Training: 100%|██████████| 18964/18964 [00:45<00:00, 416.76it/s, Loss=2.1, rmse=0.821, R²=0.0181]\n",
      "Testing: 100%|██████████| 676/676 [00:01<00:00, 538.84it/s, Loss=0.76, R²=0.008]   \n"
     ]
    },
    {
     "name": "stdout",
     "output_type": "stream",
     "text": [
      "Train rmse: 0.82207, Train R2: 0.01812, Train loss: 2.10123\n",
      "Test loss: 0.79887, Test R2: 0.00784\n",
      "Model Saved - Epoch 6 - Test R2: 0.00784\n",
      "\n",
      "\n",
      "Epoch 7:\n"
     ]
    },
    {
     "name": "stderr",
     "output_type": "stream",
     "text": [
      "Training: 100%|██████████| 18964/18964 [00:45<00:00, 416.07it/s, Loss=2.1, rmse=0.821, R²=0.0187]\n",
      "Testing: 100%|██████████| 676/676 [00:01<00:00, 533.33it/s, Loss=0.76, R²=0.00799] \n"
     ]
    },
    {
     "name": "stdout",
     "output_type": "stream",
     "text": [
      "Train rmse: 0.82182, Train R2: 0.01871, Train loss: 2.10027\n",
      "Test loss: 0.79887, Test R2: 0.00783\n",
      "\n",
      "Epoch 8:\n"
     ]
    },
    {
     "name": "stderr",
     "output_type": "stream",
     "text": [
      "Training: 100%|██████████| 18964/18964 [00:45<00:00, 415.18it/s, Loss=2.1, rmse=0.82, R²=0.0192] \n",
      "Testing: 100%|██████████| 676/676 [00:01<00:00, 536.14it/s, Loss=0.76, R²=0.00821] \n"
     ]
    },
    {
     "name": "stdout",
     "output_type": "stream",
     "text": [
      "Train rmse: 0.82162, Train R2: 0.01920, Train loss: 2.09944\n",
      "Test loss: 0.79877, Test R2: 0.00806\n",
      "Model Saved - Epoch 8 - Test R2: 0.00806\n",
      "\n",
      "\n",
      "Epoch 9:\n"
     ]
    },
    {
     "name": "stderr",
     "output_type": "stream",
     "text": [
      "Training: 100%|██████████| 18964/18964 [00:45<00:00, 412.86it/s, Loss=2.1, rmse=0.82, R²=0.0197]\n",
      "Testing: 100%|██████████| 676/676 [00:01<00:00, 530.08it/s, Loss=0.76, R²=0.00836] \n"
     ]
    },
    {
     "name": "stdout",
     "output_type": "stream",
     "text": [
      "Train rmse: 0.82143, Train R2: 0.01966, Train loss: 2.09874\n",
      "Test loss: 0.79872, Test R2: 0.00819\n",
      "Model Saved - Epoch 9 - Test R2: 0.00819\n",
      "\n",
      "\n",
      "Epoch 10:\n"
     ]
    },
    {
     "name": "stderr",
     "output_type": "stream",
     "text": [
      "Training: 100%|██████████| 18964/18964 [00:45<00:00, 416.97it/s, Loss=2.1, rmse=0.82, R²=0.0201] \n",
      "Testing: 100%|██████████| 676/676 [00:01<00:00, 535.49it/s, Loss=0.76, R²=0.00835] \n"
     ]
    },
    {
     "name": "stdout",
     "output_type": "stream",
     "text": [
      "Train rmse: 0.82124, Train R2: 0.02010, Train loss: 2.09804\n",
      "Test loss: 0.79872, Test R2: 0.00821\n",
      "Model Saved - Epoch 10 - Test R2: 0.00821\n",
      "\n",
      "\n",
      "Epoch 11:\n"
     ]
    },
    {
     "name": "stderr",
     "output_type": "stream",
     "text": [
      "Training: 100%|██████████| 18964/18964 [00:45<00:00, 415.69it/s, Loss=2.1, rmse=0.82, R²=0.0205]\n",
      "Testing: 100%|██████████| 676/676 [00:01<00:00, 536.51it/s, Loss=0.76, R²=0.00849] \n"
     ]
    },
    {
     "name": "stdout",
     "output_type": "stream",
     "text": [
      "Train rmse: 0.82109, Train R2: 0.02046, Train loss: 2.09748\n",
      "Test loss: 0.79867, Test R2: 0.00832\n",
      "Model Saved - Epoch 11 - Test R2: 0.00832\n",
      "\n",
      "\n",
      "Epoch 12:\n"
     ]
    },
    {
     "name": "stderr",
     "output_type": "stream",
     "text": [
      "Training: 100%|██████████| 18964/18964 [00:45<00:00, 418.29it/s, Loss=2.1, rmse=0.82, R²=0.0209] \n",
      "Testing: 100%|██████████| 676/676 [00:01<00:00, 532.89it/s, Loss=0.76, R²=0.00874] \n"
     ]
    },
    {
     "name": "stdout",
     "output_type": "stream",
     "text": [
      "Train rmse: 0.82092, Train R2: 0.02087, Train loss: 2.09681\n",
      "Test loss: 0.79858, Test R2: 0.00855\n",
      "Model Saved - Epoch 12 - Test R2: 0.00855\n",
      "\n",
      "\n",
      "Epoch 13:\n"
     ]
    },
    {
     "name": "stderr",
     "output_type": "stream",
     "text": [
      "Training: 100%|██████████| 18964/18964 [00:45<00:00, 417.02it/s, Loss=2.1, rmse=0.82, R²=0.0213] \n",
      "Testing: 100%|██████████| 676/676 [00:01<00:00, 539.03it/s, Loss=0.759, R²=0.00898]\n"
     ]
    },
    {
     "name": "stdout",
     "output_type": "stream",
     "text": [
      "Train rmse: 0.82076, Train R2: 0.02124, Train loss: 2.09626\n",
      "Test loss: 0.79848, Test R2: 0.00878\n",
      "Model Saved - Epoch 13 - Test R2: 0.00878\n",
      "\n",
      "\n",
      "Epoch 14:\n"
     ]
    },
    {
     "name": "stderr",
     "output_type": "stream",
     "text": [
      "Training: 100%|██████████| 18964/18964 [00:45<00:00, 418.07it/s, Loss=2.1, rmse=0.819, R²=0.0216]\n",
      "Testing: 100%|██████████| 676/676 [00:01<00:00, 538.45it/s, Loss=0.76, R²=0.00875] \n"
     ]
    },
    {
     "name": "stdout",
     "output_type": "stream",
     "text": [
      "Train rmse: 0.82060, Train R2: 0.02163, Train loss: 2.09570\n",
      "Test loss: 0.79856, Test R2: 0.00859\n",
      "\n",
      "Epoch 15:\n"
     ]
    },
    {
     "name": "stderr",
     "output_type": "stream",
     "text": [
      "Training: 100%|██████████| 18964/18964 [00:45<00:00, 419.43it/s, Loss=2.1, rmse=0.819, R²=0.022]  \n",
      "Testing: 100%|██████████| 676/676 [00:01<00:00, 539.03it/s, Loss=0.76, R²=0.00887] \n"
     ]
    },
    {
     "name": "stdout",
     "output_type": "stream",
     "text": [
      "Train rmse: 0.82045, Train R2: 0.02199, Train loss: 2.09517\n",
      "Test loss: 0.79851, Test R2: 0.00872\n",
      "\n",
      "Best Epoch: 13, Best Test R2: 0.00878\n"
     ]
    },
    {
     "name": "stderr",
     "output_type": "stream",
     "text": [
      "/home/mt/miniconda3/envs/tabm/lib/python3.10/site-packages/wandb/sdk/lib/ipython.py:89: DeprecationWarning: Importing display from IPython.core.display is deprecated since IPython 7.14, please import from IPython display\n",
      "  from IPython.core.display import display\n"
     ]
    },
    {
     "data": {
      "application/vnd.jupyter.widget-view+json": {
       "model_id": "38f6defd690a4c4db78c57d75979d740",
       "version_major": 2,
       "version_minor": 0
      },
      "text/plain": [
       "VBox(children=(Label(value='0.004 MB of 0.004 MB uploaded\\r'), FloatProgress(value=1.0, max=1.0)))"
      ]
     },
     "metadata": {},
     "output_type": "display_data"
    },
    {
     "name": "stderr",
     "output_type": "stream",
     "text": [
      "/home/mt/miniconda3/envs/tabm/lib/python3.10/site-packages/wandb/sdk/lib/ipython.py:77: DeprecationWarning: Importing display from IPython.core.display is deprecated since IPython 7.14, please import from IPython display\n",
      "  from IPython.core.display import HTML, display  # type: ignore\n"
     ]
    },
    {
     "data": {
      "text/html": [
       "<style>\n",
       "    table.wandb td:nth-child(1) { padding: 0 10px; text-align: left ; width: auto;} td:nth-child(2) {text-align: left ; width: 100%}\n",
       "    .wandb-row { display: flex; flex-direction: row; flex-wrap: wrap; justify-content: flex-start; width: 100% }\n",
       "    .wandb-col { display: flex; flex-direction: column; flex-basis: 100%; flex: 1; padding: 10px; }\n",
       "    </style>\n",
       "<div class=\"wandb-row\"><div class=\"wandb-col\"><h3>Run history:</h3><br/><table class=\"wandb\"><tr><td>epoch</td><td>▁▁▂▃▃▃▄▅▅▅▆▇▇▇█</td></tr><tr><td>test_loss</td><td>█▅▄▄▄▃▃▃▃▂▂▂▁▁▁</td></tr><tr><td>test_r2</td><td>▁▄▅▅▅▆▆▆▆▇▇▇███</td></tr><tr><td>train_loss</td><td>█▅▅▄▃▃▃▂▂▂▂▂▁▁▁</td></tr><tr><td>train_r2</td><td>▁▃▄▅▆▆▆▆▇▇▇▇███</td></tr><tr><td>train_rmse</td><td>█▆▅▄▃▃▃▃▂▂▂▂▁▁▁</td></tr></table><br/></div><div class=\"wandb-col\"><h3>Run summary:</h3><br/><table class=\"wandb\"><tr><td>best_test_r2</td><td>0.00878</td></tr><tr><td>best_train_r2</td><td>0.02199</td></tr><tr><td>epoch</td><td>15</td></tr><tr><td>test_loss</td><td>0.79851</td></tr><tr><td>test_r2</td><td>0.00872</td></tr><tr><td>train_loss</td><td>2.09517</td></tr><tr><td>train_r2</td><td>0.02199</td></tr><tr><td>train_rmse</td><td>0.82045</td></tr></table><br/></div></div>"
      ],
      "text/plain": [
       "<IPython.core.display.HTML object>"
      ]
     },
     "metadata": {},
     "output_type": "display_data"
    },
    {
     "data": {
      "text/html": [
       " View run <strong style=\"color:#cdcd00\">dashing-sweep-11</strong> at: <a href='https://wandb.ai/turkenm/js_tabm/runs/q7y2ccdp' target=\"_blank\">https://wandb.ai/turkenm/js_tabm/runs/q7y2ccdp</a><br/> View project at: <a href='https://wandb.ai/turkenm/js_tabm' target=\"_blank\">https://wandb.ai/turkenm/js_tabm</a><br/>Synced 6 W&B file(s), 0 media file(s), 0 artifact file(s) and 0 other file(s)"
      ],
      "text/plain": [
       "<IPython.core.display.HTML object>"
      ]
     },
     "metadata": {},
     "output_type": "display_data"
    },
    {
     "data": {
      "text/html": [
       "Find logs at: <code>./wandb/run-20250112_175122-q7y2ccdp/logs</code>"
      ],
      "text/plain": [
       "<IPython.core.display.HTML object>"
      ]
     },
     "metadata": {},
     "output_type": "display_data"
    },
    {
     "name": "stderr",
     "output_type": "stream",
     "text": [
      "\u001b[34m\u001b[1mwandb\u001b[0m: Agent Starting Run: l9ynem1x with config:\n",
      "\u001b[34m\u001b[1mwandb\u001b[0m: \td_block: 64\n",
      "\u001b[34m\u001b[1mwandb\u001b[0m: \tdrop_out: 0.1\n",
      "\u001b[34m\u001b[1mwandb\u001b[0m: \tlearning_rate: 0.0001\n",
      "\u001b[34m\u001b[1mwandb\u001b[0m: \tmodel_arch: tabm-mini\n",
      "\u001b[34m\u001b[1mwandb\u001b[0m: \tn_block: 3\n",
      "\u001b[34m\u001b[1mwandb\u001b[0m: \tn_k: 32\n",
      "\u001b[34m\u001b[1mwandb\u001b[0m: \tweight_decay: 0.0002\n",
      "Failed to detect the name of this notebook, you can set it manually with the WANDB_NOTEBOOK_NAME environment variable to enable code saving.\n",
      "/home/mt/miniconda3/envs/tabm/lib/python3.10/site-packages/wandb/sdk/wandb_setup.py:254: ResourceWarning: unclosed file <_io.TextIOWrapper name='/home/mt/Desktop/JaneStreet-Comp/wandb/sweep-mtpap5fv/config-l9ynem1x.yaml' mode='r' encoding='UTF-8'>\n",
      "  self._sweep_config = config_util.dict_from_config_file(\n",
      "ResourceWarning: Enable tracemalloc to get the object allocation traceback\n"
     ]
    },
    {
     "data": {
      "text/html": [
       "wandb version 0.19.2 is available!  To upgrade, please run:\n",
       " $ pip install wandb --upgrade"
      ],
      "text/plain": [
       "<IPython.core.display.HTML object>"
      ]
     },
     "metadata": {},
     "output_type": "display_data"
    },
    {
     "data": {
      "text/html": [
       "Tracking run with wandb version 0.16.6"
      ],
      "text/plain": [
       "<IPython.core.display.HTML object>"
      ]
     },
     "metadata": {},
     "output_type": "display_data"
    },
    {
     "data": {
      "text/html": [
       "Run data is saved locally in <code>/home/mt/Desktop/JaneStreet-Comp/wandb/run-20250112_180318-l9ynem1x</code>"
      ],
      "text/plain": [
       "<IPython.core.display.HTML object>"
      ]
     },
     "metadata": {},
     "output_type": "display_data"
    },
    {
     "data": {
      "text/html": [
       "Syncing run <strong><a href='https://wandb.ai/turkenm/js_tabm/runs/l9ynem1x' target=\"_blank\">devout-sweep-12</a></strong> to <a href='https://wandb.ai/turkenm/js_tabm' target=\"_blank\">Weights & Biases</a> (<a href='https://wandb.me/run' target=\"_blank\">docs</a>)<br/>Sweep page: <a href='https://wandb.ai/turkenm/js_tabm/sweeps/mtpap5fv' target=\"_blank\">https://wandb.ai/turkenm/js_tabm/sweeps/mtpap5fv</a>"
      ],
      "text/plain": [
       "<IPython.core.display.HTML object>"
      ]
     },
     "metadata": {},
     "output_type": "display_data"
    },
    {
     "data": {
      "text/html": [
       " View project at <a href='https://wandb.ai/turkenm/js_tabm' target=\"_blank\">https://wandb.ai/turkenm/js_tabm</a>"
      ],
      "text/plain": [
       "<IPython.core.display.HTML object>"
      ]
     },
     "metadata": {},
     "output_type": "display_data"
    },
    {
     "data": {
      "text/html": [
       " View sweep at <a href='https://wandb.ai/turkenm/js_tabm/sweeps/mtpap5fv' target=\"_blank\">https://wandb.ai/turkenm/js_tabm/sweeps/mtpap5fv</a>"
      ],
      "text/plain": [
       "<IPython.core.display.HTML object>"
      ]
     },
     "metadata": {},
     "output_type": "display_data"
    },
    {
     "data": {
      "text/html": [
       " View run at <a href='https://wandb.ai/turkenm/js_tabm/runs/l9ynem1x' target=\"_blank\">https://wandb.ai/turkenm/js_tabm/runs/l9ynem1x</a>"
      ],
      "text/plain": [
       "<IPython.core.display.HTML object>"
      ]
     },
     "metadata": {},
     "output_type": "display_data"
    },
    {
     "name": "stdout",
     "output_type": "stream",
     "text": [
      "EXPERIMENT exp_tabm-mini_dblocks_64_nblocks_3_LR_1e-04_BS_1024_DR_0.1_k_32_id_94200\n",
      "\n",
      "\n",
      "Epoch 1:\n"
     ]
    },
    {
     "name": "stderr",
     "output_type": "stream",
     "text": [
      "Training: 100%|██████████| 18964/18964 [00:45<00:00, 420.71it/s, Loss=2.12, rmse=0.825, R²=0.00892]\n",
      "Testing: 100%|██████████| 676/676 [00:01<00:00, 535.41it/s, Loss=0.76, R²=0.0061]  \n"
     ]
    },
    {
     "name": "stdout",
     "output_type": "stream",
     "text": [
      "Train rmse: 0.82591, Train R2: 0.00894, Train loss: 2.11613\n",
      "Test loss: 0.79961, Test R2: 0.00599\n",
      "Model Saved - Epoch 1 - Test R2: 0.00599\n",
      "\n",
      "\n",
      "Epoch 2:\n"
     ]
    },
    {
     "name": "stderr",
     "output_type": "stream",
     "text": [
      "Training: 100%|██████████| 18964/18964 [00:45<00:00, 420.04it/s, Loss=2.11, rmse=0.823, R²=0.0137]\n",
      "Testing: 100%|██████████| 676/676 [00:01<00:00, 541.50it/s, Loss=0.76, R²=0.00721] \n"
     ]
    },
    {
     "name": "stdout",
     "output_type": "stream",
     "text": [
      "Train rmse: 0.82393, Train R2: 0.01368, Train loss: 2.10832\n",
      "Test loss: 0.79918, Test R2: 0.00706\n",
      "Model Saved - Epoch 2 - Test R2: 0.00706\n",
      "\n",
      "\n",
      "Epoch 3:\n"
     ]
    },
    {
     "name": "stderr",
     "output_type": "stream",
     "text": [
      "Training: 100%|██████████| 18964/18964 [00:45<00:00, 420.77it/s, Loss=2.11, rmse=0.822, R²=0.0157]\n",
      "Testing: 100%|██████████| 676/676 [00:01<00:00, 536.39it/s, Loss=0.76, R²=0.0073]  \n"
     ]
    },
    {
     "name": "stdout",
     "output_type": "stream",
     "text": [
      "Train rmse: 0.82309, Train R2: 0.01568, Train loss: 2.10530\n",
      "Test loss: 0.79913, Test R2: 0.00717\n",
      "Model Saved - Epoch 3 - Test R2: 0.00717\n",
      "\n",
      "\n",
      "Epoch 4:\n"
     ]
    },
    {
     "name": "stderr",
     "output_type": "stream",
     "text": [
      "Training:   3%|▎         | 584/18964 [00:01<00:41, 441.03it/s, Loss=2.1, rmse=0.821, R²=0.0167]/home/mt/miniconda3/envs/tabm/lib/python3.10/site-packages/torch/nn/functional.py:1425: ResourceWarning: unclosed <socket.socket fd=106, family=AddressFamily.AF_INET, type=SocketKind.SOCK_STREAM, proto=0, laddr=('127.0.0.1', 39874), raddr=('127.0.0.1', 40335)>\n",
      "  _VF.dropout_(input, p, training) if inplace else _VF.dropout(input, p, training)\n",
      "ResourceWarning: Enable tracemalloc to get the object allocation traceback\n",
      "Training: 100%|██████████| 18964/18964 [00:45<00:00, 418.01it/s, Loss=2.1, rmse=0.821, R²=0.017] \n",
      "Testing: 100%|██████████| 676/676 [00:01<00:00, 540.19it/s, Loss=0.76, R²=0.0077]  \n"
     ]
    },
    {
     "name": "stdout",
     "output_type": "stream",
     "text": [
      "Train rmse: 0.82253, Train R2: 0.01703, Train loss: 2.10312\n",
      "Test loss: 0.79898, Test R2: 0.00756\n",
      "Model Saved - Epoch 4 - Test R2: 0.00756\n",
      "\n",
      "\n",
      "Epoch 5:\n"
     ]
    },
    {
     "name": "stderr",
     "output_type": "stream",
     "text": [
      "Training: 100%|██████████| 18964/18964 [00:45<00:00, 417.38it/s, Loss=2.1, rmse=0.821, R²=0.018] \n",
      "Testing: 100%|██████████| 676/676 [00:01<00:00, 537.45it/s, Loss=0.76, R²=0.00791] \n"
     ]
    },
    {
     "name": "stdout",
     "output_type": "stream",
     "text": [
      "Train rmse: 0.82213, Train R2: 0.01799, Train loss: 2.10142\n",
      "Test loss: 0.79891, Test R2: 0.00773\n",
      "Model Saved - Epoch 5 - Test R2: 0.00773\n",
      "\n",
      "\n",
      "Epoch 6:\n"
     ]
    },
    {
     "name": "stderr",
     "output_type": "stream",
     "text": [
      "Training: 100%|██████████| 18964/18964 [00:45<00:00, 418.68it/s, Loss=2.1, rmse=0.821, R²=0.0188]\n",
      "Testing: 100%|██████████| 676/676 [00:01<00:00, 535.07it/s, Loss=0.76, R²=0.00784] \n"
     ]
    },
    {
     "name": "stdout",
     "output_type": "stream",
     "text": [
      "Train rmse: 0.82178, Train R2: 0.01882, Train loss: 2.10009\n",
      "Test loss: 0.79893, Test R2: 0.00769\n",
      "\n",
      "Epoch 7:\n"
     ]
    },
    {
     "name": "stderr",
     "output_type": "stream",
     "text": [
      "Training: 100%|██████████| 18964/18964 [00:45<00:00, 419.56it/s, Loss=2.1, rmse=0.82, R²=0.0195]\n",
      "Testing: 100%|██████████| 676/676 [00:01<00:00, 538.69it/s, Loss=0.76, R²=0.00813] \n"
     ]
    },
    {
     "name": "stdout",
     "output_type": "stream",
     "text": [
      "Train rmse: 0.82151, Train R2: 0.01947, Train loss: 2.09902\n",
      "Test loss: 0.79882, Test R2: 0.00795\n",
      "Model Saved - Epoch 7 - Test R2: 0.00795\n",
      "\n",
      "\n",
      "Epoch 8:\n"
     ]
    },
    {
     "name": "stderr",
     "output_type": "stream",
     "text": [
      "Training: 100%|██████████| 18964/18964 [00:45<00:00, 420.51it/s, Loss=2.1, rmse=0.82, R²=0.0201] \n",
      "Testing: 100%|██████████| 676/676 [00:01<00:00, 540.19it/s, Loss=0.76, R²=0.00803] \n"
     ]
    },
    {
     "name": "stdout",
     "output_type": "stream",
     "text": [
      "Train rmse: 0.82126, Train R2: 0.02006, Train loss: 2.09803\n",
      "Test loss: 0.79884, Test R2: 0.00789\n",
      "\n",
      "Epoch 9:\n"
     ]
    },
    {
     "name": "stderr",
     "output_type": "stream",
     "text": [
      "Training: 100%|██████████| 18964/18964 [00:45<00:00, 420.38it/s, Loss=2.1, rmse=0.82, R²=0.0207] \n",
      "Testing: 100%|██████████| 676/676 [00:01<00:00, 539.23it/s, Loss=0.76, R²=0.0085]  \n"
     ]
    },
    {
     "name": "stdout",
     "output_type": "stream",
     "text": [
      "Train rmse: 0.82100, Train R2: 0.02067, Train loss: 2.09706\n",
      "Test loss: 0.79868, Test R2: 0.00829\n",
      "Model Saved - Epoch 9 - Test R2: 0.00829\n",
      "\n",
      "\n",
      "Epoch 10:\n"
     ]
    },
    {
     "name": "stderr",
     "output_type": "stream",
     "text": [
      "Training: 100%|██████████| 18964/18964 [00:45<00:00, 420.52it/s, Loss=2.1, rmse=0.82, R²=0.0213] \n",
      "Testing: 100%|██████████| 676/676 [00:01<00:00, 537.76it/s, Loss=0.76, R²=0.00857] \n"
     ]
    },
    {
     "name": "stdout",
     "output_type": "stream",
     "text": [
      "Train rmse: 0.82076, Train R2: 0.02125, Train loss: 2.09607\n",
      "Test loss: 0.79864, Test R2: 0.00840\n",
      "Model Saved - Epoch 10 - Test R2: 0.00840\n",
      "\n",
      "\n",
      "Epoch 11:\n"
     ]
    },
    {
     "name": "stderr",
     "output_type": "stream",
     "text": [
      "Training: 100%|██████████| 18964/18964 [00:44<00:00, 426.72it/s, Loss=2.1, rmse=0.819, R²=0.0218] \n",
      "Testing: 100%|██████████| 676/676 [00:01<00:00, 549.02it/s, Loss=0.76, R²=0.00851] \n"
     ]
    },
    {
     "name": "stdout",
     "output_type": "stream",
     "text": [
      "Train rmse: 0.82053, Train R2: 0.02180, Train loss: 2.09524\n",
      "Test loss: 0.79866, Test R2: 0.00834\n",
      "\n",
      "Epoch 12:\n"
     ]
    },
    {
     "name": "stderr",
     "output_type": "stream",
     "text": [
      "Training: 100%|██████████| 18964/18964 [00:44<00:00, 425.52it/s, Loss=2.09, rmse=0.819, R²=0.0224]\n",
      "Testing: 100%|██████████| 676/676 [00:01<00:00, 545.79it/s, Loss=0.76, R²=0.00881] \n"
     ]
    },
    {
     "name": "stdout",
     "output_type": "stream",
     "text": [
      "Train rmse: 0.82029, Train R2: 0.02237, Train loss: 2.09436\n",
      "Test loss: 0.79855, Test R2: 0.00862\n",
      "Model Saved - Epoch 12 - Test R2: 0.00862\n",
      "\n",
      "\n",
      "Epoch 13:\n"
     ]
    },
    {
     "name": "stderr",
     "output_type": "stream",
     "text": [
      "Training: 100%|██████████| 18964/18964 [00:44<00:00, 422.73it/s, Loss=2.09, rmse=0.819, R²=0.0229]\n",
      "Testing: 100%|██████████| 676/676 [00:01<00:00, 546.92it/s, Loss=0.76, R²=0.00881] \n"
     ]
    },
    {
     "name": "stdout",
     "output_type": "stream",
     "text": [
      "Train rmse: 0.82005, Train R2: 0.02294, Train loss: 2.09346\n",
      "Test loss: 0.79854, Test R2: 0.00863\n",
      "Model Saved - Epoch 13 - Test R2: 0.00863\n",
      "\n",
      "\n",
      "Epoch 14:\n"
     ]
    },
    {
     "name": "stderr",
     "output_type": "stream",
     "text": [
      "Training: 100%|██████████| 18964/18964 [00:44<00:00, 424.92it/s, Loss=2.09, rmse=0.819, R²=0.0235]\n",
      "Testing: 100%|██████████| 676/676 [00:01<00:00, 546.52it/s, Loss=0.76, R²=0.00888] \n"
     ]
    },
    {
     "name": "stdout",
     "output_type": "stream",
     "text": [
      "Train rmse: 0.81983, Train R2: 0.02347, Train loss: 2.09268\n",
      "Test loss: 0.79853, Test R2: 0.00868\n",
      "Model Saved - Epoch 14 - Test R2: 0.00868\n",
      "\n",
      "\n",
      "Epoch 15:\n"
     ]
    },
    {
     "name": "stderr",
     "output_type": "stream",
     "text": [
      "Training: 100%|██████████| 18964/18964 [00:44<00:00, 423.59it/s, Loss=2.09, rmse=0.818, R²=0.024] \n",
      "Testing: 100%|██████████| 676/676 [00:01<00:00, 545.76it/s, Loss=0.76, R²=0.00889] \n"
     ]
    },
    {
     "name": "stdout",
     "output_type": "stream",
     "text": [
      "Train rmse: 0.81959, Train R2: 0.02403, Train loss: 2.09180\n",
      "Test loss: 0.79852, Test R2: 0.00869\n",
      "Model Saved - Epoch 15 - Test R2: 0.00869\n",
      "\n",
      "\n",
      "Best Epoch: 15, Best Test R2: 0.00869\n"
     ]
    },
    {
     "name": "stderr",
     "output_type": "stream",
     "text": [
      "/home/mt/miniconda3/envs/tabm/lib/python3.10/site-packages/wandb/sdk/lib/ipython.py:89: DeprecationWarning: Importing display from IPython.core.display is deprecated since IPython 7.14, please import from IPython display\n",
      "  from IPython.core.display import display\n"
     ]
    },
    {
     "data": {
      "application/vnd.jupyter.widget-view+json": {
       "model_id": "191bff5edf87426c83118186404ab9cc",
       "version_major": 2,
       "version_minor": 0
      },
      "text/plain": [
       "VBox(children=(Label(value='0.004 MB of 0.004 MB uploaded\\r'), FloatProgress(value=1.0, max=1.0)))"
      ]
     },
     "metadata": {},
     "output_type": "display_data"
    },
    {
     "name": "stderr",
     "output_type": "stream",
     "text": [
      "/home/mt/miniconda3/envs/tabm/lib/python3.10/site-packages/wandb/sdk/lib/ipython.py:77: DeprecationWarning: Importing display from IPython.core.display is deprecated since IPython 7.14, please import from IPython display\n",
      "  from IPython.core.display import HTML, display  # type: ignore\n"
     ]
    },
    {
     "data": {
      "text/html": [
       "<style>\n",
       "    table.wandb td:nth-child(1) { padding: 0 10px; text-align: left ; width: auto;} td:nth-child(2) {text-align: left ; width: 100%}\n",
       "    .wandb-row { display: flex; flex-direction: row; flex-wrap: wrap; justify-content: flex-start; width: 100% }\n",
       "    .wandb-col { display: flex; flex-direction: column; flex-basis: 100%; flex: 1; padding: 10px; }\n",
       "    </style>\n",
       "<div class=\"wandb-row\"><div class=\"wandb-col\"><h3>Run history:</h3><br/><table class=\"wandb\"><tr><td>epoch</td><td>▁▁▂▃▃▃▄▅▅▅▆▇▇▇█</td></tr><tr><td>test_loss</td><td>█▅▅▄▃▄▃▃▂▂▂▁▁▁▁</td></tr><tr><td>test_r2</td><td>▁▄▄▅▆▅▆▆▇▇▇████</td></tr><tr><td>train_loss</td><td>█▆▅▄▄▃▃▃▃▂▂▂▁▁▁</td></tr><tr><td>train_r2</td><td>▁▃▄▅▅▆▆▆▆▇▇▇▇██</td></tr><tr><td>train_rmse</td><td>█▆▅▄▄▃▃▃▃▂▂▂▂▁▁</td></tr></table><br/></div><div class=\"wandb-col\"><h3>Run summary:</h3><br/><table class=\"wandb\"><tr><td>best_test_r2</td><td>0.00869</td></tr><tr><td>best_train_r2</td><td>0.02403</td></tr><tr><td>epoch</td><td>15</td></tr><tr><td>test_loss</td><td>0.79852</td></tr><tr><td>test_r2</td><td>0.00869</td></tr><tr><td>train_loss</td><td>2.0918</td></tr><tr><td>train_r2</td><td>0.02403</td></tr><tr><td>train_rmse</td><td>0.81959</td></tr></table><br/></div></div>"
      ],
      "text/plain": [
       "<IPython.core.display.HTML object>"
      ]
     },
     "metadata": {},
     "output_type": "display_data"
    },
    {
     "data": {
      "text/html": [
       " View run <strong style=\"color:#cdcd00\">devout-sweep-12</strong> at: <a href='https://wandb.ai/turkenm/js_tabm/runs/l9ynem1x' target=\"_blank\">https://wandb.ai/turkenm/js_tabm/runs/l9ynem1x</a><br/> View project at: <a href='https://wandb.ai/turkenm/js_tabm' target=\"_blank\">https://wandb.ai/turkenm/js_tabm</a><br/>Synced 6 W&B file(s), 0 media file(s), 0 artifact file(s) and 0 other file(s)"
      ],
      "text/plain": [
       "<IPython.core.display.HTML object>"
      ]
     },
     "metadata": {},
     "output_type": "display_data"
    },
    {
     "data": {
      "text/html": [
       "Find logs at: <code>./wandb/run-20250112_180318-l9ynem1x/logs</code>"
      ],
      "text/plain": [
       "<IPython.core.display.HTML object>"
      ]
     },
     "metadata": {},
     "output_type": "display_data"
    },
    {
     "name": "stderr",
     "output_type": "stream",
     "text": [
      "\u001b[34m\u001b[1mwandb\u001b[0m: Sweep Agent: Waiting for job.\n",
      "\u001b[34m\u001b[1mwandb\u001b[0m: Job received.\n",
      "\u001b[34m\u001b[1mwandb\u001b[0m: Agent Starting Run: o075olgw with config:\n",
      "\u001b[34m\u001b[1mwandb\u001b[0m: \td_block: 64\n",
      "\u001b[34m\u001b[1mwandb\u001b[0m: \tdrop_out: 0.15\n",
      "\u001b[34m\u001b[1mwandb\u001b[0m: \tlearning_rate: 0.00015\n",
      "\u001b[34m\u001b[1mwandb\u001b[0m: \tmodel_arch: tabm-mini\n",
      "\u001b[34m\u001b[1mwandb\u001b[0m: \tn_block: 3\n",
      "\u001b[34m\u001b[1mwandb\u001b[0m: \tn_k: 16\n",
      "\u001b[34m\u001b[1mwandb\u001b[0m: \tweight_decay: 0.0001\n",
      "Failed to detect the name of this notebook, you can set it manually with the WANDB_NOTEBOOK_NAME environment variable to enable code saving.\n",
      "/home/mt/miniconda3/envs/tabm/lib/python3.10/site-packages/wandb/sdk/wandb_setup.py:254: ResourceWarning: unclosed file <_io.TextIOWrapper name='/home/mt/Desktop/JaneStreet-Comp/wandb/sweep-mtpap5fv/config-o075olgw.yaml' mode='r' encoding='UTF-8'>\n",
      "  self._sweep_config = config_util.dict_from_config_file(\n",
      "ResourceWarning: Enable tracemalloc to get the object allocation traceback\n"
     ]
    },
    {
     "data": {
      "text/html": [
       "wandb version 0.19.2 is available!  To upgrade, please run:\n",
       " $ pip install wandb --upgrade"
      ],
      "text/plain": [
       "<IPython.core.display.HTML object>"
      ]
     },
     "metadata": {},
     "output_type": "display_data"
    },
    {
     "data": {
      "text/html": [
       "Tracking run with wandb version 0.16.6"
      ],
      "text/plain": [
       "<IPython.core.display.HTML object>"
      ]
     },
     "metadata": {},
     "output_type": "display_data"
    },
    {
     "data": {
      "text/html": [
       "Run data is saved locally in <code>/home/mt/Desktop/JaneStreet-Comp/wandb/run-20250112_181516-o075olgw</code>"
      ],
      "text/plain": [
       "<IPython.core.display.HTML object>"
      ]
     },
     "metadata": {},
     "output_type": "display_data"
    },
    {
     "data": {
      "text/html": [
       "Syncing run <strong><a href='https://wandb.ai/turkenm/js_tabm/runs/o075olgw' target=\"_blank\">upbeat-sweep-13</a></strong> to <a href='https://wandb.ai/turkenm/js_tabm' target=\"_blank\">Weights & Biases</a> (<a href='https://wandb.me/run' target=\"_blank\">docs</a>)<br/>Sweep page: <a href='https://wandb.ai/turkenm/js_tabm/sweeps/mtpap5fv' target=\"_blank\">https://wandb.ai/turkenm/js_tabm/sweeps/mtpap5fv</a>"
      ],
      "text/plain": [
       "<IPython.core.display.HTML object>"
      ]
     },
     "metadata": {},
     "output_type": "display_data"
    },
    {
     "data": {
      "text/html": [
       " View project at <a href='https://wandb.ai/turkenm/js_tabm' target=\"_blank\">https://wandb.ai/turkenm/js_tabm</a>"
      ],
      "text/plain": [
       "<IPython.core.display.HTML object>"
      ]
     },
     "metadata": {},
     "output_type": "display_data"
    },
    {
     "data": {
      "text/html": [
       " View sweep at <a href='https://wandb.ai/turkenm/js_tabm/sweeps/mtpap5fv' target=\"_blank\">https://wandb.ai/turkenm/js_tabm/sweeps/mtpap5fv</a>"
      ],
      "text/plain": [
       "<IPython.core.display.HTML object>"
      ]
     },
     "metadata": {},
     "output_type": "display_data"
    },
    {
     "data": {
      "text/html": [
       " View run at <a href='https://wandb.ai/turkenm/js_tabm/runs/o075olgw' target=\"_blank\">https://wandb.ai/turkenm/js_tabm/runs/o075olgw</a>"
      ],
      "text/plain": [
       "<IPython.core.display.HTML object>"
      ]
     },
     "metadata": {},
     "output_type": "display_data"
    },
    {
     "name": "stdout",
     "output_type": "stream",
     "text": [
      "EXPERIMENT exp_tabm-mini_dblocks_64_nblocks_3_LR_1e-04_BS_1024_DR_0.15_k_16_id_94919\n",
      "\n",
      "\n",
      "Epoch 1:\n"
     ]
    },
    {
     "name": "stderr",
     "output_type": "stream",
     "text": [
      "Training: 100%|██████████| 18964/18964 [00:31<00:00, 601.92it/s, Loss=2.11, rmse=0.824, R²=0.0108] \n",
      "Testing: 100%|██████████| 676/676 [00:00<00:00, 859.28it/s, Loss=0.76, R²=0.00732] \n"
     ]
    },
    {
     "name": "stdout",
     "output_type": "stream",
     "text": [
      "Train rmse: 0.82511, Train R2: 0.01086, Train loss: 2.11314\n",
      "Test loss: 0.79914, Test R2: 0.00715\n",
      "Model Saved - Epoch 1 - Test R2: 0.00715\n",
      "\n",
      "\n",
      "Epoch 2:\n"
     ]
    },
    {
     "name": "stderr",
     "output_type": "stream",
     "text": [
      "Training: 100%|██████████| 18964/18964 [00:31<00:00, 604.61it/s, Loss=2.11, rmse=0.822, R²=0.0158]\n",
      "Testing: 100%|██████████| 676/676 [00:00<00:00, 861.46it/s, Loss=0.76, R²=0.00796] \n"
     ]
    },
    {
     "name": "stdout",
     "output_type": "stream",
     "text": [
      "Train rmse: 0.82304, Train R2: 0.01582, Train loss: 2.10529\n",
      "Test loss: 0.79890, Test R2: 0.00776\n",
      "Model Saved - Epoch 2 - Test R2: 0.00776\n",
      "\n",
      "\n",
      "Epoch 3:\n"
     ]
    },
    {
     "name": "stderr",
     "output_type": "stream",
     "text": [
      "Training: 100%|██████████| 18964/18964 [00:31<00:00, 603.96it/s, Loss=2.1, rmse=0.821, R²=0.0176]\n",
      "Testing: 100%|██████████| 676/676 [00:00<00:00, 863.75it/s, Loss=0.76, R²=0.00807] \n"
     ]
    },
    {
     "name": "stdout",
     "output_type": "stream",
     "text": [
      "Train rmse: 0.82227, Train R2: 0.01766, Train loss: 2.10240\n",
      "Test loss: 0.79885, Test R2: 0.00788\n",
      "Model Saved - Epoch 3 - Test R2: 0.00788\n",
      "\n",
      "\n",
      "Epoch 4:\n"
     ]
    },
    {
     "name": "stderr",
     "output_type": "stream",
     "text": [
      "Training:   3%|▎         | 593/18964 [00:00<00:28, 651.97it/s, Loss=2.09, rmse=0.818, R²=0.0188]/home/mt/miniconda3/envs/tabm/lib/python3.10/site-packages/torch/nn/functional.py:1425: ResourceWarning: unclosed <socket.socket fd=108, family=AddressFamily.AF_INET, type=SocketKind.SOCK_STREAM, proto=0, laddr=('127.0.0.1', 45580), raddr=('127.0.0.1', 39419)>\n",
      "  _VF.dropout_(input, p, training) if inplace else _VF.dropout(input, p, training)\n",
      "ResourceWarning: Enable tracemalloc to get the object allocation traceback\n",
      "Training: 100%|██████████| 18964/18964 [00:31<00:00, 598.76it/s, Loss=2.1, rmse=0.821, R²=0.0187]\n",
      "Testing: 100%|██████████| 676/676 [00:00<00:00, 857.07it/s, Loss=0.76, R²=0.00836] \n"
     ]
    },
    {
     "name": "stdout",
     "output_type": "stream",
     "text": [
      "Train rmse: 0.82181, Train R2: 0.01874, Train loss: 2.10076\n",
      "Test loss: 0.79873, Test R2: 0.00818\n",
      "Model Saved - Epoch 4 - Test R2: 0.00818\n",
      "\n",
      "\n",
      "Epoch 5:\n"
     ]
    },
    {
     "name": "stderr",
     "output_type": "stream",
     "text": [
      "Training: 100%|██████████| 18964/18964 [00:31<00:00, 598.15it/s, Loss=2.1, rmse=0.82, R²=0.0194] \n",
      "Testing: 100%|██████████| 676/676 [00:00<00:00, 858.89it/s, Loss=0.76, R²=0.00808] \n"
     ]
    },
    {
     "name": "stdout",
     "output_type": "stream",
     "text": [
      "Train rmse: 0.82151, Train R2: 0.01945, Train loss: 2.09953\n",
      "Test loss: 0.79883, Test R2: 0.00792\n",
      "\n",
      "Epoch 6:\n"
     ]
    },
    {
     "name": "stderr",
     "output_type": "stream",
     "text": [
      "Training: 100%|██████████| 18964/18964 [00:31<00:00, 598.64it/s, Loss=2.1, rmse=0.82, R²=0.02]   \n",
      "Testing: 100%|██████████| 676/676 [00:00<00:00, 859.18it/s, Loss=0.76, R²=0.00826] \n"
     ]
    },
    {
     "name": "stdout",
     "output_type": "stream",
     "text": [
      "Train rmse: 0.82128, Train R2: 0.02002, Train loss: 2.09865\n",
      "Test loss: 0.79877, Test R2: 0.00808\n",
      "\n",
      "Epoch 7:\n"
     ]
    },
    {
     "name": "stderr",
     "output_type": "stream",
     "text": [
      "Training: 100%|██████████| 18964/18964 [00:31<00:00, 599.31it/s, Loss=2.1, rmse=0.82, R²=0.0205] \n",
      "Testing: 100%|██████████| 676/676 [00:00<00:00, 858.50it/s, Loss=0.76, R²=0.00812] \n"
     ]
    },
    {
     "name": "stdout",
     "output_type": "stream",
     "text": [
      "Train rmse: 0.82107, Train R2: 0.02052, Train loss: 2.09787\n",
      "Test loss: 0.79881, Test R2: 0.00797\n",
      "\n",
      "Epoch 8:\n"
     ]
    },
    {
     "name": "stderr",
     "output_type": "stream",
     "text": [
      "Training: 100%|██████████| 18964/18964 [00:31<00:00, 601.03it/s, Loss=2.1, rmse=0.82, R²=0.0209] \n",
      "Testing: 100%|██████████| 676/676 [00:00<00:00, 858.15it/s, Loss=0.76, R²=0.00803] \n"
     ]
    },
    {
     "name": "stdout",
     "output_type": "stream",
     "text": [
      "Train rmse: 0.82089, Train R2: 0.02094, Train loss: 2.09721\n",
      "Test loss: 0.79885, Test R2: 0.00787\n",
      "\n",
      "Epoch 9:\n"
     ]
    },
    {
     "name": "stderr",
     "output_type": "stream",
     "text": [
      "Training: 100%|██████████| 18964/18964 [00:31<00:00, 602.38it/s, Loss=2.1, rmse=0.82, R²=0.0213] \n",
      "Testing: 100%|██████████| 676/676 [00:00<00:00, 858.93it/s, Loss=0.76, R²=0.00858] \n"
     ]
    },
    {
     "name": "stdout",
     "output_type": "stream",
     "text": [
      "Train rmse: 0.82073, Train R2: 0.02132, Train loss: 2.09666\n",
      "Test loss: 0.79865, Test R2: 0.00837\n",
      "Model Saved - Epoch 9 - Test R2: 0.00837\n",
      "\n",
      "\n",
      "Epoch 10:\n"
     ]
    },
    {
     "name": "stderr",
     "output_type": "stream",
     "text": [
      "Training: 100%|██████████| 18964/18964 [00:31<00:00, 605.10it/s, Loss=2.1, rmse=0.819, R²=0.0217]\n",
      "Testing: 100%|██████████| 676/676 [00:00<00:00, 859.67it/s, Loss=0.76, R²=0.00879] \n"
     ]
    },
    {
     "name": "stdout",
     "output_type": "stream",
     "text": [
      "Train rmse: 0.82056, Train R2: 0.02172, Train loss: 2.09607\n",
      "Test loss: 0.79856, Test R2: 0.00860\n",
      "Model Saved - Epoch 10 - Test R2: 0.00860\n",
      "\n",
      "\n",
      "Epoch 11:\n"
     ]
    },
    {
     "name": "stderr",
     "output_type": "stream",
     "text": [
      "Training: 100%|██████████| 18964/18964 [00:31<00:00, 602.20it/s, Loss=2.1, rmse=0.819, R²=0.022] \n",
      "Testing: 100%|██████████| 676/676 [00:00<00:00, 860.91it/s, Loss=0.76, R²=0.00886] \n"
     ]
    },
    {
     "name": "stdout",
     "output_type": "stream",
     "text": [
      "Train rmse: 0.82043, Train R2: 0.02203, Train loss: 2.09556\n",
      "Test loss: 0.79853, Test R2: 0.00867\n",
      "Model Saved - Epoch 11 - Test R2: 0.00867\n",
      "\n",
      "\n",
      "Epoch 12:\n"
     ]
    },
    {
     "name": "stderr",
     "output_type": "stream",
     "text": [
      "Training: 100%|██████████| 18964/18964 [00:31<00:00, 604.82it/s, Loss=2.1, rmse=0.819, R²=0.0224] \n",
      "Testing: 100%|██████████| 676/676 [00:00<00:00, 861.90it/s, Loss=0.76, R²=0.00886] \n"
     ]
    },
    {
     "name": "stdout",
     "output_type": "stream",
     "text": [
      "Train rmse: 0.82028, Train R2: 0.02239, Train loss: 2.09500\n",
      "Test loss: 0.79853, Test R2: 0.00867\n",
      "\n",
      "Epoch 13:\n"
     ]
    },
    {
     "name": "stderr",
     "output_type": "stream",
     "text": [
      "Training: 100%|██████████| 18964/18964 [00:31<00:00, 604.23it/s, Loss=2.09, rmse=0.819, R²=0.0227]\n",
      "Testing: 100%|██████████| 676/676 [00:00<00:00, 862.78it/s, Loss=0.76, R²=0.00897] \n"
     ]
    },
    {
     "name": "stdout",
     "output_type": "stream",
     "text": [
      "Train rmse: 0.82014, Train R2: 0.02273, Train loss: 2.09444\n",
      "Test loss: 0.79849, Test R2: 0.00877\n",
      "Model Saved - Epoch 13 - Test R2: 0.00877\n",
      "\n",
      "\n",
      "Epoch 14:\n"
     ]
    },
    {
     "name": "stderr",
     "output_type": "stream",
     "text": [
      "Training: 100%|██████████| 18964/18964 [00:31<00:00, 604.15it/s, Loss=2.09, rmse=0.819, R²=0.0231]\n",
      "Testing: 100%|██████████| 676/676 [00:00<00:00, 856.07it/s, Loss=0.76, R²=0.00882] \n"
     ]
    },
    {
     "name": "stdout",
     "output_type": "stream",
     "text": [
      "Train rmse: 0.82001, Train R2: 0.02305, Train loss: 2.09394\n",
      "Test loss: 0.79854, Test R2: 0.00864\n",
      "\n",
      "Epoch 15:\n"
     ]
    },
    {
     "name": "stderr",
     "output_type": "stream",
     "text": [
      "Training: 100%|██████████| 18964/18964 [00:31<00:00, 602.52it/s, Loss=2.09, rmse=0.819, R²=0.0233]\n",
      "Testing: 100%|██████████| 676/676 [00:00<00:00, 862.15it/s, Loss=0.76, R²=0.00888] \n"
     ]
    },
    {
     "name": "stdout",
     "output_type": "stream",
     "text": [
      "Train rmse: 0.81988, Train R2: 0.02336, Train loss: 2.09350\n",
      "Test loss: 0.79852, Test R2: 0.00869\n",
      "\n",
      "Best Epoch: 13, Best Test R2: 0.00877\n"
     ]
    },
    {
     "name": "stderr",
     "output_type": "stream",
     "text": [
      "/home/mt/miniconda3/envs/tabm/lib/python3.10/site-packages/wandb/sdk/lib/ipython.py:89: DeprecationWarning: Importing display from IPython.core.display is deprecated since IPython 7.14, please import from IPython display\n",
      "  from IPython.core.display import display\n"
     ]
    },
    {
     "data": {
      "application/vnd.jupyter.widget-view+json": {
       "model_id": "e10026635314475eb5308c98ec49e1de",
       "version_major": 2,
       "version_minor": 0
      },
      "text/plain": [
       "VBox(children=(Label(value='0.004 MB of 0.004 MB uploaded\\r'), FloatProgress(value=1.0, max=1.0)))"
      ]
     },
     "metadata": {},
     "output_type": "display_data"
    },
    {
     "name": "stderr",
     "output_type": "stream",
     "text": [
      "/home/mt/miniconda3/envs/tabm/lib/python3.10/site-packages/wandb/sdk/lib/ipython.py:77: DeprecationWarning: Importing display from IPython.core.display is deprecated since IPython 7.14, please import from IPython display\n",
      "  from IPython.core.display import HTML, display  # type: ignore\n"
     ]
    },
    {
     "data": {
      "text/html": [
       "<style>\n",
       "    table.wandb td:nth-child(1) { padding: 0 10px; text-align: left ; width: auto;} td:nth-child(2) {text-align: left ; width: 100%}\n",
       "    .wandb-row { display: flex; flex-direction: row; flex-wrap: wrap; justify-content: flex-start; width: 100% }\n",
       "    .wandb-col { display: flex; flex-direction: column; flex-basis: 100%; flex: 1; padding: 10px; }\n",
       "    </style>\n",
       "<div class=\"wandb-row\"><div class=\"wandb-col\"><h3>Run history:</h3><br/><table class=\"wandb\"><tr><td>epoch</td><td>▁▁▂▃▃▃▄▅▅▅▆▇▇▇█</td></tr><tr><td>test_loss</td><td>█▅▅▄▅▄▄▅▃▂▁▁▁▂▁</td></tr><tr><td>test_r2</td><td>▁▄▄▅▄▅▅▄▆▇███▇█</td></tr><tr><td>train_loss</td><td>█▅▄▄▃▃▃▂▂▂▂▂▁▁▁</td></tr><tr><td>train_r2</td><td>▁▄▅▅▆▆▆▇▇▇▇▇███</td></tr><tr><td>train_rmse</td><td>█▅▄▄▃▃▃▂▂▂▂▂▁▁▁</td></tr></table><br/></div><div class=\"wandb-col\"><h3>Run summary:</h3><br/><table class=\"wandb\"><tr><td>best_test_r2</td><td>0.00877</td></tr><tr><td>best_train_r2</td><td>0.02336</td></tr><tr><td>epoch</td><td>15</td></tr><tr><td>test_loss</td><td>0.79852</td></tr><tr><td>test_r2</td><td>0.00869</td></tr><tr><td>train_loss</td><td>2.0935</td></tr><tr><td>train_r2</td><td>0.02336</td></tr><tr><td>train_rmse</td><td>0.81988</td></tr></table><br/></div></div>"
      ],
      "text/plain": [
       "<IPython.core.display.HTML object>"
      ]
     },
     "metadata": {},
     "output_type": "display_data"
    },
    {
     "data": {
      "text/html": [
       " View run <strong style=\"color:#cdcd00\">upbeat-sweep-13</strong> at: <a href='https://wandb.ai/turkenm/js_tabm/runs/o075olgw' target=\"_blank\">https://wandb.ai/turkenm/js_tabm/runs/o075olgw</a><br/> View project at: <a href='https://wandb.ai/turkenm/js_tabm' target=\"_blank\">https://wandb.ai/turkenm/js_tabm</a><br/>Synced 6 W&B file(s), 0 media file(s), 0 artifact file(s) and 0 other file(s)"
      ],
      "text/plain": [
       "<IPython.core.display.HTML object>"
      ]
     },
     "metadata": {},
     "output_type": "display_data"
    },
    {
     "data": {
      "text/html": [
       "Find logs at: <code>./wandb/run-20250112_181516-o075olgw/logs</code>"
      ],
      "text/plain": [
       "<IPython.core.display.HTML object>"
      ]
     },
     "metadata": {},
     "output_type": "display_data"
    },
    {
     "name": "stderr",
     "output_type": "stream",
     "text": [
      "\u001b[34m\u001b[1mwandb\u001b[0m: Sweep Agent: Waiting for job.\n",
      "\u001b[34m\u001b[1mwandb\u001b[0m: Job received.\n",
      "\u001b[34m\u001b[1mwandb\u001b[0m: Agent Starting Run: jfr7u7vq with config:\n",
      "\u001b[34m\u001b[1mwandb\u001b[0m: \td_block: 64\n",
      "\u001b[34m\u001b[1mwandb\u001b[0m: \tdrop_out: 0.15\n",
      "\u001b[34m\u001b[1mwandb\u001b[0m: \tlearning_rate: 0.00015\n",
      "\u001b[34m\u001b[1mwandb\u001b[0m: \tmodel_arch: tabm-mini\n",
      "\u001b[34m\u001b[1mwandb\u001b[0m: \tn_block: 3\n",
      "\u001b[34m\u001b[1mwandb\u001b[0m: \tn_k: 16\n",
      "\u001b[34m\u001b[1mwandb\u001b[0m: \tweight_decay: 0.0002\n",
      "Failed to detect the name of this notebook, you can set it manually with the WANDB_NOTEBOOK_NAME environment variable to enable code saving.\n",
      "/home/mt/miniconda3/envs/tabm/lib/python3.10/site-packages/wandb/sdk/wandb_setup.py:254: ResourceWarning: unclosed file <_io.TextIOWrapper name='/home/mt/Desktop/JaneStreet-Comp/wandb/sweep-mtpap5fv/config-jfr7u7vq.yaml' mode='r' encoding='UTF-8'>\n",
      "  self._sweep_config = config_util.dict_from_config_file(\n",
      "ResourceWarning: Enable tracemalloc to get the object allocation traceback\n"
     ]
    },
    {
     "data": {
      "text/html": [
       "wandb version 0.19.2 is available!  To upgrade, please run:\n",
       " $ pip install wandb --upgrade"
      ],
      "text/plain": [
       "<IPython.core.display.HTML object>"
      ]
     },
     "metadata": {},
     "output_type": "display_data"
    },
    {
     "data": {
      "text/html": [
       "Tracking run with wandb version 0.16.6"
      ],
      "text/plain": [
       "<IPython.core.display.HTML object>"
      ]
     },
     "metadata": {},
     "output_type": "display_data"
    },
    {
     "data": {
      "text/html": [
       "Run data is saved locally in <code>/home/mt/Desktop/JaneStreet-Comp/wandb/run-20250112_182344-jfr7u7vq</code>"
      ],
      "text/plain": [
       "<IPython.core.display.HTML object>"
      ]
     },
     "metadata": {},
     "output_type": "display_data"
    },
    {
     "data": {
      "text/html": [
       "Syncing run <strong><a href='https://wandb.ai/turkenm/js_tabm/runs/jfr7u7vq' target=\"_blank\">stellar-sweep-14</a></strong> to <a href='https://wandb.ai/turkenm/js_tabm' target=\"_blank\">Weights & Biases</a> (<a href='https://wandb.me/run' target=\"_blank\">docs</a>)<br/>Sweep page: <a href='https://wandb.ai/turkenm/js_tabm/sweeps/mtpap5fv' target=\"_blank\">https://wandb.ai/turkenm/js_tabm/sweeps/mtpap5fv</a>"
      ],
      "text/plain": [
       "<IPython.core.display.HTML object>"
      ]
     },
     "metadata": {},
     "output_type": "display_data"
    },
    {
     "data": {
      "text/html": [
       " View project at <a href='https://wandb.ai/turkenm/js_tabm' target=\"_blank\">https://wandb.ai/turkenm/js_tabm</a>"
      ],
      "text/plain": [
       "<IPython.core.display.HTML object>"
      ]
     },
     "metadata": {},
     "output_type": "display_data"
    },
    {
     "data": {
      "text/html": [
       " View sweep at <a href='https://wandb.ai/turkenm/js_tabm/sweeps/mtpap5fv' target=\"_blank\">https://wandb.ai/turkenm/js_tabm/sweeps/mtpap5fv</a>"
      ],
      "text/plain": [
       "<IPython.core.display.HTML object>"
      ]
     },
     "metadata": {},
     "output_type": "display_data"
    },
    {
     "data": {
      "text/html": [
       " View run at <a href='https://wandb.ai/turkenm/js_tabm/runs/jfr7u7vq' target=\"_blank\">https://wandb.ai/turkenm/js_tabm/runs/jfr7u7vq</a>"
      ],
      "text/plain": [
       "<IPython.core.display.HTML object>"
      ]
     },
     "metadata": {},
     "output_type": "display_data"
    },
    {
     "name": "stdout",
     "output_type": "stream",
     "text": [
      "EXPERIMENT exp_tabm-mini_dblocks_64_nblocks_3_LR_1e-04_BS_1024_DR_0.15_k_16_id_95427\n",
      "\n",
      "\n",
      "Epoch 1:\n"
     ]
    },
    {
     "name": "stderr",
     "output_type": "stream",
     "text": [
      "Training: 100%|██████████| 18964/18964 [00:31<00:00, 600.39it/s, Loss=2.11, rmse=0.824, R²=0.0111] \n",
      "Testing: 100%|██████████| 676/676 [00:00<00:00, 856.29it/s, Loss=0.76, R²=0.00718] \n"
     ]
    },
    {
     "name": "stdout",
     "output_type": "stream",
     "text": [
      "Train rmse: 0.82502, Train R2: 0.01108, Train loss: 2.11291\n",
      "Test loss: 0.79919, Test R2: 0.00703\n",
      "Model Saved - Epoch 1 - Test R2: 0.00703\n",
      "\n",
      "\n",
      "Epoch 2:\n"
     ]
    },
    {
     "name": "stderr",
     "output_type": "stream",
     "text": [
      "Training: 100%|██████████| 18964/18964 [00:31<00:00, 600.92it/s, Loss=2.1, rmse=0.822, R²=0.0163] \n",
      "Testing: 100%|██████████| 676/676 [00:00<00:00, 859.92it/s, Loss=0.76, R²=0.0082]  \n"
     ]
    },
    {
     "name": "stdout",
     "output_type": "stream",
     "text": [
      "Train rmse: 0.82285, Train R2: 0.01625, Train loss: 2.10467\n",
      "Test loss: 0.79880, Test R2: 0.00800\n",
      "Model Saved - Epoch 2 - Test R2: 0.00800\n",
      "\n",
      "\n",
      "Epoch 3:\n"
     ]
    },
    {
     "name": "stderr",
     "output_type": "stream",
     "text": [
      "Training: 100%|██████████| 18964/18964 [00:31<00:00, 603.99it/s, Loss=2.1, rmse=0.821, R²=0.0181]\n",
      "Testing: 100%|██████████| 676/676 [00:00<00:00, 859.76it/s, Loss=0.76, R²=0.00799] \n"
     ]
    },
    {
     "name": "stdout",
     "output_type": "stream",
     "text": [
      "Train rmse: 0.82209, Train R2: 0.01807, Train loss: 2.10183\n",
      "Test loss: 0.79888, Test R2: 0.00780\n",
      "\n",
      "Epoch 4:\n"
     ]
    },
    {
     "name": "stderr",
     "output_type": "stream",
     "text": [
      "Training:   7%|▋         | 1252/18964 [00:01<00:27, 639.10it/s, Loss=2.1, rmse=0.82, R²=0.0185] /home/mt/miniconda3/envs/tabm/lib/python3.10/site-packages/torch/nn/functional.py:1425: ResourceWarning: unclosed <socket.socket fd=107, family=AddressFamily.AF_INET, type=SocketKind.SOCK_STREAM, proto=0, laddr=('127.0.0.1', 35526), raddr=('127.0.0.1', 57801)>\n",
      "  _VF.dropout_(input, p, training) if inplace else _VF.dropout(input, p, training)\n",
      "ResourceWarning: Enable tracemalloc to get the object allocation traceback\n",
      "Training: 100%|██████████| 18964/18964 [00:31<00:00, 603.91it/s, Loss=2.1, rmse=0.821, R²=0.0191]\n",
      "Testing: 100%|██████████| 676/676 [00:00<00:00, 861.95it/s, Loss=0.76, R²=0.00828] \n"
     ]
    },
    {
     "name": "stdout",
     "output_type": "stream",
     "text": [
      "Train rmse: 0.82166, Train R2: 0.01911, Train loss: 2.10010\n",
      "Test loss: 0.79876, Test R2: 0.00810\n",
      "Model Saved - Epoch 4 - Test R2: 0.00810\n",
      "\n",
      "\n",
      "Epoch 5:\n"
     ]
    },
    {
     "name": "stderr",
     "output_type": "stream",
     "text": [
      "Training:  33%|███▎      | 6173/18964 [00:09<00:20, 615.38it/s, Loss=2.1, rmse=0.82, R²=0.0196] wandb: ERROR Error while calling W&B API: context deadline exceeded (<Response [500]>)\n",
      "Training: 100%|██████████| 18964/18964 [00:31<00:00, 597.84it/s, Loss=2.1, rmse=0.82, R²=0.0199]\n",
      "Testing: 100%|██████████| 676/676 [00:00<00:00, 857.24it/s, Loss=0.76, R²=0.00836] \n"
     ]
    },
    {
     "name": "stdout",
     "output_type": "stream",
     "text": [
      "Train rmse: 0.82130, Train R2: 0.01996, Train loss: 2.09880\n",
      "Test loss: 0.79874, Test R2: 0.00816\n",
      "Model Saved - Epoch 5 - Test R2: 0.00816\n",
      "\n",
      "\n",
      "Epoch 6:\n"
     ]
    },
    {
     "name": "stderr",
     "output_type": "stream",
     "text": [
      "Training: 100%|██████████| 18964/18964 [00:31<00:00, 605.02it/s, Loss=2.1, rmse=0.82, R²=0.0205]\n",
      "Testing: 100%|██████████| 676/676 [00:00<00:00, 860.51it/s, Loss=0.76, R²=0.00834] \n"
     ]
    },
    {
     "name": "stdout",
     "output_type": "stream",
     "text": [
      "Train rmse: 0.82106, Train R2: 0.02055, Train loss: 2.09780\n",
      "Test loss: 0.79873, Test R2: 0.00817\n",
      "Model Saved - Epoch 6 - Test R2: 0.00817\n",
      "\n",
      "\n",
      "Epoch 7:\n"
     ]
    },
    {
     "name": "stderr",
     "output_type": "stream",
     "text": [
      "Training: 100%|██████████| 18964/18964 [00:31<00:00, 598.36it/s, Loss=2.1, rmse=0.82, R²=0.0212] \n",
      "Testing: 100%|██████████| 676/676 [00:00<00:00, 856.03it/s, Loss=0.76, R²=0.00849] \n"
     ]
    },
    {
     "name": "stdout",
     "output_type": "stream",
     "text": [
      "Train rmse: 0.82080, Train R2: 0.02117, Train loss: 2.09686\n",
      "Test loss: 0.79868, Test R2: 0.00829\n",
      "Model Saved - Epoch 7 - Test R2: 0.00829\n",
      "\n",
      "\n",
      "Epoch 8:\n"
     ]
    },
    {
     "name": "stderr",
     "output_type": "stream",
     "text": [
      "Training: 100%|██████████| 18964/18964 [00:31<00:00, 601.81it/s, Loss=2.1, rmse=0.819, R²=0.0217]\n",
      "Testing: 100%|██████████| 676/676 [00:00<00:00, 861.70it/s, Loss=0.76, R²=0.00847] \n"
     ]
    },
    {
     "name": "stdout",
     "output_type": "stream",
     "text": [
      "Train rmse: 0.82057, Train R2: 0.02170, Train loss: 2.09608\n",
      "Test loss: 0.79869, Test R2: 0.00827\n",
      "\n",
      "Epoch 9:\n"
     ]
    },
    {
     "name": "stderr",
     "output_type": "stream",
     "text": [
      "Training: 100%|██████████| 18964/18964 [00:31<00:00, 597.90it/s, Loss=2.09, rmse=0.819, R²=0.0222]\n",
      "Testing: 100%|██████████| 676/676 [00:00<00:00, 856.50it/s, Loss=0.76, R²=0.00847] \n"
     ]
    },
    {
     "name": "stdout",
     "output_type": "stream",
     "text": [
      "Train rmse: 0.82035, Train R2: 0.02224, Train loss: 2.09520\n",
      "Test loss: 0.79869, Test R2: 0.00828\n",
      "\n",
      "Epoch 10:\n"
     ]
    },
    {
     "name": "stderr",
     "output_type": "stream",
     "text": [
      "Training: 100%|██████████| 18964/18964 [00:31<00:00, 599.11it/s, Loss=2.09, rmse=0.819, R²=0.0227]\n",
      "Testing: 100%|██████████| 676/676 [00:00<00:00, 857.34it/s, Loss=0.76, R²=0.00861] \n"
     ]
    },
    {
     "name": "stdout",
     "output_type": "stream",
     "text": [
      "Train rmse: 0.82014, Train R2: 0.02272, Train loss: 2.09440\n",
      "Test loss: 0.79863, Test R2: 0.00842\n",
      "Model Saved - Epoch 10 - Test R2: 0.00842\n",
      "\n",
      "\n",
      "Epoch 11:\n"
     ]
    },
    {
     "name": "stderr",
     "output_type": "stream",
     "text": [
      "Training: 100%|██████████| 18964/18964 [00:31<00:00, 598.66it/s, Loss=2.09, rmse=0.819, R²=0.0233]\n",
      "Testing: 100%|██████████| 676/676 [00:00<00:00, 859.03it/s, Loss=0.76, R²=0.00861] \n"
     ]
    },
    {
     "name": "stdout",
     "output_type": "stream",
     "text": [
      "Train rmse: 0.81990, Train R2: 0.02330, Train loss: 2.09355\n",
      "Test loss: 0.79863, Test R2: 0.00841\n",
      "\n",
      "Epoch 12:\n"
     ]
    },
    {
     "name": "stderr",
     "output_type": "stream",
     "text": [
      "Training: 100%|██████████| 18964/18964 [00:31<00:00, 599.66it/s, Loss=2.09, rmse=0.819, R²=0.024] \n",
      "Testing: 100%|██████████| 676/676 [00:00<00:00, 857.24it/s, Loss=0.76, R²=0.00835] \n"
     ]
    },
    {
     "name": "stdout",
     "output_type": "stream",
     "text": [
      "Train rmse: 0.81961, Train R2: 0.02399, Train loss: 2.09237\n",
      "Test loss: 0.79873, Test R2: 0.00817\n",
      "\n",
      "Epoch 13:\n"
     ]
    },
    {
     "name": "stderr",
     "output_type": "stream",
     "text": [
      "Training: 100%|██████████| 18964/18964 [00:31<00:00, 602.88it/s, Loss=2.09, rmse=0.818, R²=0.0248]\n",
      "Testing: 100%|██████████| 676/676 [00:00<00:00, 859.85it/s, Loss=0.76, R²=0.00848] \n"
     ]
    },
    {
     "name": "stdout",
     "output_type": "stream",
     "text": [
      "Train rmse: 0.81928, Train R2: 0.02478, Train loss: 2.09111\n",
      "Test loss: 0.79869, Test R2: 0.00828\n",
      "\n",
      "Epoch 14:\n"
     ]
    },
    {
     "name": "stderr",
     "output_type": "stream",
     "text": [
      "Training: 100%|██████████| 18964/18964 [00:31<00:00, 606.06it/s, Loss=2.09, rmse=0.818, R²=0.0254]\n",
      "Testing: 100%|██████████| 676/676 [00:00<00:00, 859.41it/s, Loss=0.76, R²=0.00859] \n"
     ]
    },
    {
     "name": "stdout",
     "output_type": "stream",
     "text": [
      "Train rmse: 0.81901, Train R2: 0.02542, Train loss: 2.09014\n",
      "Test loss: 0.79863, Test R2: 0.00842\n",
      "\n",
      "Epoch 15:\n"
     ]
    },
    {
     "name": "stderr",
     "output_type": "stream",
     "text": [
      "Training: 100%|██████████| 18964/18964 [00:31<00:00, 595.91it/s, Loss=2.09, rmse=0.818, R²=0.026] \n",
      "Testing: 100%|██████████| 676/676 [00:00<00:00, 858.18it/s, Loss=0.76, R²=0.00817] \n"
     ]
    },
    {
     "name": "stdout",
     "output_type": "stream",
     "text": [
      "Train rmse: 0.81875, Train R2: 0.02603, Train loss: 2.08910\n",
      "Test loss: 0.79880, Test R2: 0.00801\n",
      "\n",
      "Best Epoch: 10, Best Test R2: 0.00842\n"
     ]
    },
    {
     "name": "stderr",
     "output_type": "stream",
     "text": [
      "/home/mt/miniconda3/envs/tabm/lib/python3.10/site-packages/wandb/sdk/lib/ipython.py:89: DeprecationWarning: Importing display from IPython.core.display is deprecated since IPython 7.14, please import from IPython display\n",
      "  from IPython.core.display import display\n"
     ]
    },
    {
     "data": {
      "application/vnd.jupyter.widget-view+json": {
       "model_id": "702fb4aae0a64f979e37f9e724cf3ec0",
       "version_major": 2,
       "version_minor": 0
      },
      "text/plain": [
       "VBox(children=(Label(value='0.004 MB of 0.004 MB uploaded\\r'), FloatProgress(value=1.0, max=1.0)))"
      ]
     },
     "metadata": {},
     "output_type": "display_data"
    },
    {
     "name": "stderr",
     "output_type": "stream",
     "text": [
      "/home/mt/miniconda3/envs/tabm/lib/python3.10/site-packages/wandb/sdk/lib/ipython.py:77: DeprecationWarning: Importing display from IPython.core.display is deprecated since IPython 7.14, please import from IPython display\n",
      "  from IPython.core.display import HTML, display  # type: ignore\n"
     ]
    },
    {
     "data": {
      "text/html": [
       "<style>\n",
       "    table.wandb td:nth-child(1) { padding: 0 10px; text-align: left ; width: auto;} td:nth-child(2) {text-align: left ; width: 100%}\n",
       "    .wandb-row { display: flex; flex-direction: row; flex-wrap: wrap; justify-content: flex-start; width: 100% }\n",
       "    .wandb-col { display: flex; flex-direction: column; flex-basis: 100%; flex: 1; padding: 10px; }\n",
       "    </style>\n",
       "<div class=\"wandb-row\"><div class=\"wandb-col\"><h3>Run history:</h3><br/><table class=\"wandb\"><tr><td>epoch</td><td>▁▁▂▃▃▃▄▅▅▅▆▇▇▇█</td></tr><tr><td>test_loss</td><td>█▃▄▃▂▂▂▂▂▁▁▂▂▁▃</td></tr><tr><td>test_r2</td><td>▁▆▅▆▇▇▇▇▇██▇▇█▆</td></tr><tr><td>train_loss</td><td>█▆▅▄▄▄▃▃▃▃▂▂▂▁▁</td></tr><tr><td>train_r2</td><td>▁▃▄▅▅▅▆▆▆▆▇▇▇██</td></tr><tr><td>train_rmse</td><td>█▆▅▄▄▄▃▃▃▃▂▂▂▁▁</td></tr></table><br/></div><div class=\"wandb-col\"><h3>Run summary:</h3><br/><table class=\"wandb\"><tr><td>best_test_r2</td><td>0.00842</td></tr><tr><td>best_train_r2</td><td>0.02603</td></tr><tr><td>epoch</td><td>15</td></tr><tr><td>test_loss</td><td>0.7988</td></tr><tr><td>test_r2</td><td>0.00801</td></tr><tr><td>train_loss</td><td>2.0891</td></tr><tr><td>train_r2</td><td>0.02603</td></tr><tr><td>train_rmse</td><td>0.81875</td></tr></table><br/></div></div>"
      ],
      "text/plain": [
       "<IPython.core.display.HTML object>"
      ]
     },
     "metadata": {},
     "output_type": "display_data"
    },
    {
     "data": {
      "text/html": [
       " View run <strong style=\"color:#cdcd00\">stellar-sweep-14</strong> at: <a href='https://wandb.ai/turkenm/js_tabm/runs/jfr7u7vq' target=\"_blank\">https://wandb.ai/turkenm/js_tabm/runs/jfr7u7vq</a><br/> View project at: <a href='https://wandb.ai/turkenm/js_tabm' target=\"_blank\">https://wandb.ai/turkenm/js_tabm</a><br/>Synced 6 W&B file(s), 0 media file(s), 0 artifact file(s) and 0 other file(s)"
      ],
      "text/plain": [
       "<IPython.core.display.HTML object>"
      ]
     },
     "metadata": {},
     "output_type": "display_data"
    },
    {
     "data": {
      "text/html": [
       "Find logs at: <code>./wandb/run-20250112_182344-jfr7u7vq/logs</code>"
      ],
      "text/plain": [
       "<IPython.core.display.HTML object>"
      ]
     },
     "metadata": {},
     "output_type": "display_data"
    },
    {
     "name": "stderr",
     "output_type": "stream",
     "text": [
      "\u001b[34m\u001b[1mwandb\u001b[0m: Agent Starting Run: bxtyhcix with config:\n",
      "\u001b[34m\u001b[1mwandb\u001b[0m: \td_block: 64\n",
      "\u001b[34m\u001b[1mwandb\u001b[0m: \tdrop_out: 0.15\n",
      "\u001b[34m\u001b[1mwandb\u001b[0m: \tlearning_rate: 0.00015\n",
      "\u001b[34m\u001b[1mwandb\u001b[0m: \tmodel_arch: tabm-mini\n",
      "\u001b[34m\u001b[1mwandb\u001b[0m: \tn_block: 3\n",
      "\u001b[34m\u001b[1mwandb\u001b[0m: \tn_k: 32\n",
      "\u001b[34m\u001b[1mwandb\u001b[0m: \tweight_decay: 0.0001\n",
      "Failed to detect the name of this notebook, you can set it manually with the WANDB_NOTEBOOK_NAME environment variable to enable code saving.\n",
      "/home/mt/miniconda3/envs/tabm/lib/python3.10/site-packages/wandb/sdk/wandb_setup.py:254: ResourceWarning: unclosed file <_io.TextIOWrapper name='/home/mt/Desktop/JaneStreet-Comp/wandb/sweep-mtpap5fv/config-bxtyhcix.yaml' mode='r' encoding='UTF-8'>\n",
      "  self._sweep_config = config_util.dict_from_config_file(\n",
      "ResourceWarning: Enable tracemalloc to get the object allocation traceback\n"
     ]
    },
    {
     "data": {
      "text/html": [
       "wandb version 0.19.2 is available!  To upgrade, please run:\n",
       " $ pip install wandb --upgrade"
      ],
      "text/plain": [
       "<IPython.core.display.HTML object>"
      ]
     },
     "metadata": {},
     "output_type": "display_data"
    },
    {
     "data": {
      "text/html": [
       "Tracking run with wandb version 0.16.6"
      ],
      "text/plain": [
       "<IPython.core.display.HTML object>"
      ]
     },
     "metadata": {},
     "output_type": "display_data"
    },
    {
     "data": {
      "text/html": [
       "Run data is saved locally in <code>/home/mt/Desktop/JaneStreet-Comp/wandb/run-20250112_183205-bxtyhcix</code>"
      ],
      "text/plain": [
       "<IPython.core.display.HTML object>"
      ]
     },
     "metadata": {},
     "output_type": "display_data"
    },
    {
     "data": {
      "text/html": [
       "Syncing run <strong><a href='https://wandb.ai/turkenm/js_tabm/runs/bxtyhcix' target=\"_blank\">ethereal-sweep-15</a></strong> to <a href='https://wandb.ai/turkenm/js_tabm' target=\"_blank\">Weights & Biases</a> (<a href='https://wandb.me/run' target=\"_blank\">docs</a>)<br/>Sweep page: <a href='https://wandb.ai/turkenm/js_tabm/sweeps/mtpap5fv' target=\"_blank\">https://wandb.ai/turkenm/js_tabm/sweeps/mtpap5fv</a>"
      ],
      "text/plain": [
       "<IPython.core.display.HTML object>"
      ]
     },
     "metadata": {},
     "output_type": "display_data"
    },
    {
     "data": {
      "text/html": [
       " View project at <a href='https://wandb.ai/turkenm/js_tabm' target=\"_blank\">https://wandb.ai/turkenm/js_tabm</a>"
      ],
      "text/plain": [
       "<IPython.core.display.HTML object>"
      ]
     },
     "metadata": {},
     "output_type": "display_data"
    },
    {
     "data": {
      "text/html": [
       " View sweep at <a href='https://wandb.ai/turkenm/js_tabm/sweeps/mtpap5fv' target=\"_blank\">https://wandb.ai/turkenm/js_tabm/sweeps/mtpap5fv</a>"
      ],
      "text/plain": [
       "<IPython.core.display.HTML object>"
      ]
     },
     "metadata": {},
     "output_type": "display_data"
    },
    {
     "data": {
      "text/html": [
       " View run at <a href='https://wandb.ai/turkenm/js_tabm/runs/bxtyhcix' target=\"_blank\">https://wandb.ai/turkenm/js_tabm/runs/bxtyhcix</a>"
      ],
      "text/plain": [
       "<IPython.core.display.HTML object>"
      ]
     },
     "metadata": {},
     "output_type": "display_data"
    },
    {
     "name": "stdout",
     "output_type": "stream",
     "text": [
      "EXPERIMENT exp_tabm-mini_dblocks_64_nblocks_3_LR_1e-04_BS_1024_DR_0.15_k_32_id_95928\n",
      "\n",
      "\n",
      "Epoch 1:\n"
     ]
    },
    {
     "name": "stderr",
     "output_type": "stream",
     "text": [
      "Training: 100%|██████████| 18964/18964 [00:44<00:00, 424.52it/s, Loss=2.12, rmse=0.825, R²=0.00949]\n",
      "Testing: 100%|██████████| 676/676 [00:01<00:00, 545.15it/s, Loss=0.76, R²=0.00636] \n"
     ]
    },
    {
     "name": "stdout",
     "output_type": "stream",
     "text": [
      "Train rmse: 0.82567, Train R2: 0.00952, Train loss: 2.11561\n",
      "Test loss: 0.79951, Test R2: 0.00624\n",
      "Model Saved - Epoch 1 - Test R2: 0.00624\n",
      "\n",
      "\n",
      "Epoch 2:\n"
     ]
    },
    {
     "name": "stderr",
     "output_type": "stream",
     "text": [
      "Training: 100%|██████████| 18964/18964 [00:44<00:00, 425.67it/s, Loss=2.11, rmse=0.823, R²=0.014] \n",
      "Testing: 100%|██████████| 676/676 [00:01<00:00, 547.75it/s, Loss=0.76, R²=0.00698] \n"
     ]
    },
    {
     "name": "stdout",
     "output_type": "stream",
     "text": [
      "Train rmse: 0.82378, Train R2: 0.01403, Train loss: 2.10827\n",
      "Test loss: 0.79927, Test R2: 0.00684\n",
      "Model Saved - Epoch 2 - Test R2: 0.00684\n",
      "\n",
      "\n",
      "Epoch 3:\n"
     ]
    },
    {
     "name": "stderr",
     "output_type": "stream",
     "text": [
      "Training: 100%|██████████| 18964/18964 [00:44<00:00, 425.02it/s, Loss=2.11, rmse=0.822, R²=0.0158]\n",
      "Testing: 100%|██████████| 676/676 [00:01<00:00, 546.53it/s, Loss=0.76, R²=0.00736] \n"
     ]
    },
    {
     "name": "stdout",
     "output_type": "stream",
     "text": [
      "Train rmse: 0.82303, Train R2: 0.01584, Train loss: 2.10546\n",
      "Test loss: 0.79912, Test R2: 0.00722\n",
      "Model Saved - Epoch 3 - Test R2: 0.00722\n",
      "\n",
      "\n",
      "Epoch 4:\n"
     ]
    },
    {
     "name": "stderr",
     "output_type": "stream",
     "text": [
      "Training:   3%|▎         | 586/18964 [00:01<00:41, 447.75it/s, Loss=2.1, rmse=0.822, R²=0.0149]/home/mt/miniconda3/envs/tabm/lib/python3.10/site-packages/torch/nn/functional.py:1425: ResourceWarning: unclosed <socket.socket fd=108, family=AddressFamily.AF_INET, type=SocketKind.SOCK_STREAM, proto=0, laddr=('127.0.0.1', 41042), raddr=('127.0.0.1', 45703)>\n",
      "  _VF.dropout_(input, p, training) if inplace else _VF.dropout(input, p, training)\n",
      "ResourceWarning: Enable tracemalloc to get the object allocation traceback\n",
      "Training: 100%|██████████| 18964/18964 [00:44<00:00, 424.37it/s, Loss=2.1, rmse=0.821, R²=0.017] \n",
      "Testing: 100%|██████████| 676/676 [00:01<00:00, 545.82it/s, Loss=0.76, R²=0.00758] \n"
     ]
    },
    {
     "name": "stdout",
     "output_type": "stream",
     "text": [
      "Train rmse: 0.82255, Train R2: 0.01697, Train loss: 2.10352\n",
      "Test loss: 0.79904, Test R2: 0.00741\n",
      "Model Saved - Epoch 4 - Test R2: 0.00741\n",
      "\n",
      "\n",
      "Epoch 5:\n"
     ]
    },
    {
     "name": "stderr",
     "output_type": "stream",
     "text": [
      "Training: 100%|██████████| 18964/18964 [00:44<00:00, 424.57it/s, Loss=2.1, rmse=0.821, R²=0.0178]\n",
      "Testing: 100%|██████████| 676/676 [00:01<00:00, 545.88it/s, Loss=0.76, R²=0.00784] \n"
     ]
    },
    {
     "name": "stdout",
     "output_type": "stream",
     "text": [
      "Train rmse: 0.82218, Train R2: 0.01786, Train loss: 2.10206\n",
      "Test loss: 0.79892, Test R2: 0.00769\n",
      "Model Saved - Epoch 5 - Test R2: 0.00769\n",
      "\n",
      "\n",
      "Epoch 6:\n"
     ]
    },
    {
     "name": "stderr",
     "output_type": "stream",
     "text": [
      "Training: 100%|██████████| 18964/18964 [00:44<00:00, 425.55it/s, Loss=2.1, rmse=0.821, R²=0.0186]\n",
      "Testing: 100%|██████████| 676/676 [00:01<00:00, 546.33it/s, Loss=0.76, R²=0.00828] \n"
     ]
    },
    {
     "name": "stdout",
     "output_type": "stream",
     "text": [
      "Train rmse: 0.82187, Train R2: 0.01862, Train loss: 2.10087\n",
      "Test loss: 0.79876, Test R2: 0.00810\n",
      "Model Saved - Epoch 6 - Test R2: 0.00810\n",
      "\n",
      "\n",
      "Epoch 7:\n"
     ]
    },
    {
     "name": "stderr",
     "output_type": "stream",
     "text": [
      "Training: 100%|██████████| 18964/18964 [00:44<00:00, 424.16it/s, Loss=2.1, rmse=0.82, R²=0.0193] \n",
      "Testing: 100%|██████████| 676/676 [00:01<00:00, 546.56it/s, Loss=0.76, R²=0.00834] \n"
     ]
    },
    {
     "name": "stdout",
     "output_type": "stream",
     "text": [
      "Train rmse: 0.82158, Train R2: 0.01930, Train loss: 2.09969\n",
      "Test loss: 0.79873, Test R2: 0.00817\n",
      "Model Saved - Epoch 7 - Test R2: 0.00817\n",
      "\n",
      "\n",
      "Epoch 8:\n"
     ]
    },
    {
     "name": "stderr",
     "output_type": "stream",
     "text": [
      "Training: 100%|██████████| 18964/18964 [00:44<00:00, 424.85it/s, Loss=2.1, rmse=0.82, R²=0.0199] \n",
      "Testing: 100%|██████████| 676/676 [00:01<00:00, 544.46it/s, Loss=0.76, R²=0.00854] \n"
     ]
    },
    {
     "name": "stdout",
     "output_type": "stream",
     "text": [
      "Train rmse: 0.82131, Train R2: 0.01993, Train loss: 2.09870\n",
      "Test loss: 0.79866, Test R2: 0.00835\n",
      "Model Saved - Epoch 8 - Test R2: 0.00835\n",
      "\n",
      "\n",
      "Epoch 9:\n"
     ]
    },
    {
     "name": "stderr",
     "output_type": "stream",
     "text": [
      "Training: 100%|██████████| 18964/18964 [00:44<00:00, 424.30it/s, Loss=2.1, rmse=0.82, R²=0.0206] \n",
      "Testing: 100%|██████████| 676/676 [00:01<00:00, 546.17it/s, Loss=0.759, R²=0.00907]\n"
     ]
    },
    {
     "name": "stdout",
     "output_type": "stream",
     "text": [
      "Train rmse: 0.82103, Train R2: 0.02061, Train loss: 2.09765\n",
      "Test loss: 0.79847, Test R2: 0.00883\n",
      "Model Saved - Epoch 9 - Test R2: 0.00883\n",
      "\n",
      "\n",
      "Epoch 10:\n"
     ]
    },
    {
     "name": "stderr",
     "output_type": "stream",
     "text": [
      "Training: 100%|██████████| 18964/18964 [00:44<00:00, 425.56it/s, Loss=2.1, rmse=0.82, R²=0.0213] \n",
      "Testing: 100%|██████████| 676/676 [00:01<00:00, 546.73it/s, Loss=0.76, R²=0.0086]  \n"
     ]
    },
    {
     "name": "stdout",
     "output_type": "stream",
     "text": [
      "Train rmse: 0.82072, Train R2: 0.02134, Train loss: 2.09651\n",
      "Test loss: 0.79863, Test R2: 0.00843\n",
      "\n",
      "Epoch 11:\n"
     ]
    },
    {
     "name": "stderr",
     "output_type": "stream",
     "text": [
      "Training: 100%|██████████| 18964/18964 [00:44<00:00, 423.55it/s, Loss=2.1, rmse=0.819, R²=0.0222] \n",
      "Testing: 100%|██████████| 676/676 [00:01<00:00, 544.40it/s, Loss=0.76, R²=0.00869] \n"
     ]
    },
    {
     "name": "stdout",
     "output_type": "stream",
     "text": [
      "Train rmse: 0.82036, Train R2: 0.02221, Train loss: 2.09511\n",
      "Test loss: 0.79859, Test R2: 0.00851\n",
      "\n",
      "Epoch 12:\n"
     ]
    },
    {
     "name": "stderr",
     "output_type": "stream",
     "text": [
      "Training: 100%|██████████| 18964/18964 [00:44<00:00, 424.04it/s, Loss=2.09, rmse=0.819, R²=0.0231]\n",
      "Testing: 100%|██████████| 676/676 [00:01<00:00, 546.72it/s, Loss=0.759, R²=0.00904]\n"
     ]
    },
    {
     "name": "stdout",
     "output_type": "stream",
     "text": [
      "Train rmse: 0.81999, Train R2: 0.02308, Train loss: 2.09365\n",
      "Test loss: 0.79846, Test R2: 0.00884\n",
      "Model Saved - Epoch 12 - Test R2: 0.00884\n",
      "\n",
      "\n",
      "Epoch 13:\n"
     ]
    },
    {
     "name": "stderr",
     "output_type": "stream",
     "text": [
      "Training: 100%|██████████| 18964/18964 [00:44<00:00, 424.90it/s, Loss=2.09, rmse=0.819, R²=0.0237]\n",
      "Testing: 100%|██████████| 676/676 [00:01<00:00, 547.43it/s, Loss=0.759, R²=0.00892]\n"
     ]
    },
    {
     "name": "stdout",
     "output_type": "stream",
     "text": [
      "Train rmse: 0.81972, Train R2: 0.02373, Train loss: 2.09246\n",
      "Test loss: 0.79851, Test R2: 0.00872\n",
      "\n",
      "Epoch 14:\n"
     ]
    },
    {
     "name": "stderr",
     "output_type": "stream",
     "text": [
      "Training: 100%|██████████| 18964/18964 [00:44<00:00, 425.30it/s, Loss=2.09, rmse=0.818, R²=0.0244]\n",
      "Testing: 100%|██████████| 676/676 [00:01<00:00, 545.83it/s, Loss=0.76, R²=0.0087]  \n"
     ]
    },
    {
     "name": "stdout",
     "output_type": "stream",
     "text": [
      "Train rmse: 0.81945, Train R2: 0.02439, Train loss: 2.09145\n",
      "Test loss: 0.79860, Test R2: 0.00850\n",
      "\n",
      "Epoch 15:\n"
     ]
    },
    {
     "name": "stderr",
     "output_type": "stream",
     "text": [
      "Training: 100%|██████████| 18964/18964 [00:44<00:00, 423.84it/s, Loss=2.09, rmse=0.818, R²=0.025] \n",
      "Testing: 100%|██████████| 676/676 [00:01<00:00, 544.90it/s, Loss=0.76, R²=0.0088]  \n"
     ]
    },
    {
     "name": "stdout",
     "output_type": "stream",
     "text": [
      "Train rmse: 0.81918, Train R2: 0.02503, Train loss: 2.09044\n",
      "Test loss: 0.79856, Test R2: 0.00860\n",
      "\n",
      "Best Epoch: 12, Best Test R2: 0.00884\n"
     ]
    },
    {
     "name": "stderr",
     "output_type": "stream",
     "text": [
      "/home/mt/miniconda3/envs/tabm/lib/python3.10/site-packages/wandb/sdk/lib/ipython.py:89: DeprecationWarning: Importing display from IPython.core.display is deprecated since IPython 7.14, please import from IPython display\n",
      "  from IPython.core.display import display\n"
     ]
    },
    {
     "data": {
      "application/vnd.jupyter.widget-view+json": {
       "model_id": "66c0a2e329464b8f9489b75701a0500a",
       "version_major": 2,
       "version_minor": 0
      },
      "text/plain": [
       "VBox(children=(Label(value='0.004 MB of 0.004 MB uploaded\\r'), FloatProgress(value=1.0, max=1.0)))"
      ]
     },
     "metadata": {},
     "output_type": "display_data"
    },
    {
     "name": "stderr",
     "output_type": "stream",
     "text": [
      "/home/mt/miniconda3/envs/tabm/lib/python3.10/site-packages/wandb/sdk/lib/ipython.py:77: DeprecationWarning: Importing display from IPython.core.display is deprecated since IPython 7.14, please import from IPython display\n",
      "  from IPython.core.display import HTML, display  # type: ignore\n"
     ]
    },
    {
     "data": {
      "text/html": [
       "<style>\n",
       "    table.wandb td:nth-child(1) { padding: 0 10px; text-align: left ; width: auto;} td:nth-child(2) {text-align: left ; width: 100%}\n",
       "    .wandb-row { display: flex; flex-direction: row; flex-wrap: wrap; justify-content: flex-start; width: 100% }\n",
       "    .wandb-col { display: flex; flex-direction: column; flex-basis: 100%; flex: 1; padding: 10px; }\n",
       "    </style>\n",
       "<div class=\"wandb-row\"><div class=\"wandb-col\"><h3>Run history:</h3><br/><table class=\"wandb\"><tr><td>epoch</td><td>▁▁▂▃▃▃▄▅▅▅▆▇▇▇█</td></tr><tr><td>test_loss</td><td>█▆▅▅▄▃▃▂▁▂▂▁▁▂▂</td></tr><tr><td>test_r2</td><td>▁▃▄▄▅▆▆▇█▇▇██▇▇</td></tr><tr><td>train_loss</td><td>█▆▅▅▄▄▄▃▃▃▂▂▂▁▁</td></tr><tr><td>train_r2</td><td>▁▃▄▄▅▅▅▆▆▆▇▇▇██</td></tr><tr><td>train_rmse</td><td>█▆▅▅▄▄▄▃▃▃▂▂▂▁▁</td></tr></table><br/></div><div class=\"wandb-col\"><h3>Run summary:</h3><br/><table class=\"wandb\"><tr><td>best_test_r2</td><td>0.00884</td></tr><tr><td>best_train_r2</td><td>0.02503</td></tr><tr><td>epoch</td><td>15</td></tr><tr><td>test_loss</td><td>0.79856</td></tr><tr><td>test_r2</td><td>0.0086</td></tr><tr><td>train_loss</td><td>2.09044</td></tr><tr><td>train_r2</td><td>0.02503</td></tr><tr><td>train_rmse</td><td>0.81918</td></tr></table><br/></div></div>"
      ],
      "text/plain": [
       "<IPython.core.display.HTML object>"
      ]
     },
     "metadata": {},
     "output_type": "display_data"
    },
    {
     "data": {
      "text/html": [
       " View run <strong style=\"color:#cdcd00\">ethereal-sweep-15</strong> at: <a href='https://wandb.ai/turkenm/js_tabm/runs/bxtyhcix' target=\"_blank\">https://wandb.ai/turkenm/js_tabm/runs/bxtyhcix</a><br/> View project at: <a href='https://wandb.ai/turkenm/js_tabm' target=\"_blank\">https://wandb.ai/turkenm/js_tabm</a><br/>Synced 6 W&B file(s), 0 media file(s), 0 artifact file(s) and 0 other file(s)"
      ],
      "text/plain": [
       "<IPython.core.display.HTML object>"
      ]
     },
     "metadata": {},
     "output_type": "display_data"
    },
    {
     "data": {
      "text/html": [
       "Find logs at: <code>./wandb/run-20250112_183205-bxtyhcix/logs</code>"
      ],
      "text/plain": [
       "<IPython.core.display.HTML object>"
      ]
     },
     "metadata": {},
     "output_type": "display_data"
    },
    {
     "name": "stderr",
     "output_type": "stream",
     "text": [
      "\u001b[34m\u001b[1mwandb\u001b[0m: Agent Starting Run: oabexwg5 with config:\n",
      "\u001b[34m\u001b[1mwandb\u001b[0m: \td_block: 64\n",
      "\u001b[34m\u001b[1mwandb\u001b[0m: \tdrop_out: 0.15\n",
      "\u001b[34m\u001b[1mwandb\u001b[0m: \tlearning_rate: 0.00015\n",
      "\u001b[34m\u001b[1mwandb\u001b[0m: \tmodel_arch: tabm-mini\n",
      "\u001b[34m\u001b[1mwandb\u001b[0m: \tn_block: 3\n",
      "\u001b[34m\u001b[1mwandb\u001b[0m: \tn_k: 32\n",
      "\u001b[34m\u001b[1mwandb\u001b[0m: \tweight_decay: 0.0002\n",
      "Failed to detect the name of this notebook, you can set it manually with the WANDB_NOTEBOOK_NAME environment variable to enable code saving.\n",
      "/home/mt/miniconda3/envs/tabm/lib/python3.10/site-packages/wandb/sdk/wandb_setup.py:254: ResourceWarning: unclosed file <_io.TextIOWrapper name='/home/mt/Desktop/JaneStreet-Comp/wandb/sweep-mtpap5fv/config-oabexwg5.yaml' mode='r' encoding='UTF-8'>\n",
      "  self._sweep_config = config_util.dict_from_config_file(\n",
      "ResourceWarning: Enable tracemalloc to get the object allocation traceback\n"
     ]
    },
    {
     "data": {
      "text/html": [
       "wandb version 0.19.2 is available!  To upgrade, please run:\n",
       " $ pip install wandb --upgrade"
      ],
      "text/plain": [
       "<IPython.core.display.HTML object>"
      ]
     },
     "metadata": {},
     "output_type": "display_data"
    },
    {
     "data": {
      "text/html": [
       "Tracking run with wandb version 0.16.6"
      ],
      "text/plain": [
       "<IPython.core.display.HTML object>"
      ]
     },
     "metadata": {},
     "output_type": "display_data"
    },
    {
     "data": {
      "text/html": [
       "Run data is saved locally in <code>/home/mt/Desktop/JaneStreet-Comp/wandb/run-20250112_184348-oabexwg5</code>"
      ],
      "text/plain": [
       "<IPython.core.display.HTML object>"
      ]
     },
     "metadata": {},
     "output_type": "display_data"
    },
    {
     "data": {
      "text/html": [
       "Syncing run <strong><a href='https://wandb.ai/turkenm/js_tabm/runs/oabexwg5' target=\"_blank\">major-sweep-16</a></strong> to <a href='https://wandb.ai/turkenm/js_tabm' target=\"_blank\">Weights & Biases</a> (<a href='https://wandb.me/run' target=\"_blank\">docs</a>)<br/>Sweep page: <a href='https://wandb.ai/turkenm/js_tabm/sweeps/mtpap5fv' target=\"_blank\">https://wandb.ai/turkenm/js_tabm/sweeps/mtpap5fv</a>"
      ],
      "text/plain": [
       "<IPython.core.display.HTML object>"
      ]
     },
     "metadata": {},
     "output_type": "display_data"
    },
    {
     "data": {
      "text/html": [
       " View project at <a href='https://wandb.ai/turkenm/js_tabm' target=\"_blank\">https://wandb.ai/turkenm/js_tabm</a>"
      ],
      "text/plain": [
       "<IPython.core.display.HTML object>"
      ]
     },
     "metadata": {},
     "output_type": "display_data"
    },
    {
     "data": {
      "text/html": [
       " View sweep at <a href='https://wandb.ai/turkenm/js_tabm/sweeps/mtpap5fv' target=\"_blank\">https://wandb.ai/turkenm/js_tabm/sweeps/mtpap5fv</a>"
      ],
      "text/plain": [
       "<IPython.core.display.HTML object>"
      ]
     },
     "metadata": {},
     "output_type": "display_data"
    },
    {
     "data": {
      "text/html": [
       " View run at <a href='https://wandb.ai/turkenm/js_tabm/runs/oabexwg5' target=\"_blank\">https://wandb.ai/turkenm/js_tabm/runs/oabexwg5</a>"
      ],
      "text/plain": [
       "<IPython.core.display.HTML object>"
      ]
     },
     "metadata": {},
     "output_type": "display_data"
    },
    {
     "name": "stdout",
     "output_type": "stream",
     "text": [
      "EXPERIMENT exp_tabm-mini_dblocks_64_nblocks_3_LR_1e-04_BS_1024_DR_0.15_k_32_id_96631\n",
      "\n",
      "\n",
      "Epoch 1:\n"
     ]
    },
    {
     "name": "stderr",
     "output_type": "stream",
     "text": [
      "Training: 100%|██████████| 18964/18964 [00:44<00:00, 424.76it/s, Loss=2.12, rmse=0.824, R²=0.00975]\n",
      "Testing: 100%|██████████| 676/676 [00:01<00:00, 546.02it/s, Loss=0.76, R²=0.00683] \n"
     ]
    },
    {
     "name": "stdout",
     "output_type": "stream",
     "text": [
      "Train rmse: 0.82556, Train R2: 0.00978, Train loss: 2.11507\n",
      "Test loss: 0.79934, Test R2: 0.00666\n",
      "Model Saved - Epoch 1 - Test R2: 0.00666\n",
      "\n",
      "\n",
      "Epoch 2:\n"
     ]
    },
    {
     "name": "stderr",
     "output_type": "stream",
     "text": [
      "Training: 100%|██████████| 18964/18964 [00:44<00:00, 425.32it/s, Loss=2.11, rmse=0.823, R²=0.0143]\n",
      "Testing: 100%|██████████| 676/676 [00:01<00:00, 547.27it/s, Loss=0.76, R²=0.00743] \n"
     ]
    },
    {
     "name": "stdout",
     "output_type": "stream",
     "text": [
      "Train rmse: 0.82365, Train R2: 0.01435, Train loss: 2.10785\n",
      "Test loss: 0.79909, Test R2: 0.00727\n",
      "Model Saved - Epoch 2 - Test R2: 0.00727\n",
      "\n",
      "\n",
      "Epoch 3:\n"
     ]
    },
    {
     "name": "stderr",
     "output_type": "stream",
     "text": [
      "Training: 100%|██████████| 18964/18964 [00:44<00:00, 424.88it/s, Loss=2.1, rmse=0.822, R²=0.0164] \n",
      "Testing: 100%|██████████| 676/676 [00:01<00:00, 546.86it/s, Loss=0.76, R²=0.00746] \n"
     ]
    },
    {
     "name": "stdout",
     "output_type": "stream",
     "text": [
      "Train rmse: 0.82281, Train R2: 0.01635, Train loss: 2.10472\n",
      "Test loss: 0.79906, Test R2: 0.00735\n",
      "Model Saved - Epoch 3 - Test R2: 0.00735\n",
      "\n",
      "\n",
      "Epoch 4:\n"
     ]
    },
    {
     "name": "stderr",
     "output_type": "stream",
     "text": [
      "Training:   3%|▎         | 594/18964 [00:01<00:40, 449.65it/s, Loss=2.1, rmse=0.823, R²=0.0163]/home/mt/miniconda3/envs/tabm/lib/python3.10/site-packages/torch/nn/functional.py:1425: ResourceWarning: unclosed <socket.socket fd=109, family=AddressFamily.AF_INET, type=SocketKind.SOCK_STREAM, proto=0, laddr=('127.0.0.1', 41462), raddr=('127.0.0.1', 58087)>\n",
      "  _VF.dropout_(input, p, training) if inplace else _VF.dropout(input, p, training)\n",
      "ResourceWarning: Enable tracemalloc to get the object allocation traceback\n",
      "Training: 100%|██████████| 18964/18964 [00:44<00:00, 422.72it/s, Loss=2.1, rmse=0.821, R²=0.0177]\n",
      "Testing: 100%|██████████| 676/676 [00:01<00:00, 545.16it/s, Loss=0.76, R²=0.00795] \n"
     ]
    },
    {
     "name": "stdout",
     "output_type": "stream",
     "text": [
      "Train rmse: 0.82226, Train R2: 0.01768, Train loss: 2.10239\n",
      "Test loss: 0.79888, Test R2: 0.00780\n",
      "Model Saved - Epoch 4 - Test R2: 0.00780\n",
      "\n",
      "\n",
      "Epoch 5:\n"
     ]
    },
    {
     "name": "stderr",
     "output_type": "stream",
     "text": [
      "Training: 100%|██████████| 18964/18964 [00:44<00:00, 422.74it/s, Loss=2.1, rmse=0.821, R²=0.0188]\n",
      "Testing: 100%|██████████| 676/676 [00:01<00:00, 545.23it/s, Loss=0.76, R²=0.00838] \n"
     ]
    },
    {
     "name": "stdout",
     "output_type": "stream",
     "text": [
      "Train rmse: 0.82179, Train R2: 0.01879, Train loss: 2.10054\n",
      "Test loss: 0.79870, Test R2: 0.00824\n",
      "Model Saved - Epoch 5 - Test R2: 0.00824\n",
      "\n",
      "\n",
      "Epoch 6:\n"
     ]
    },
    {
     "name": "stderr",
     "output_type": "stream",
     "text": [
      "Training: 100%|██████████| 18964/18964 [00:44<00:00, 423.30it/s, Loss=2.1, rmse=0.82, R²=0.0198]\n",
      "Testing: 100%|██████████| 676/676 [00:01<00:00, 544.11it/s, Loss=0.76, R²=0.00831] \n"
     ]
    },
    {
     "name": "stdout",
     "output_type": "stream",
     "text": [
      "Train rmse: 0.82137, Train R2: 0.01979, Train loss: 2.09877\n",
      "Test loss: 0.79873, Test R2: 0.00818\n",
      "\n",
      "Epoch 7:\n"
     ]
    },
    {
     "name": "stderr",
     "output_type": "stream",
     "text": [
      "Training: 100%|██████████| 18964/18964 [00:44<00:00, 422.74it/s, Loss=2.1, rmse=0.82, R²=0.0207]\n",
      "Testing: 100%|██████████| 676/676 [00:01<00:00, 545.04it/s, Loss=0.759, R²=0.00886]\n"
     ]
    },
    {
     "name": "stdout",
     "output_type": "stream",
     "text": [
      "Train rmse: 0.82097, Train R2: 0.02076, Train loss: 2.09732\n",
      "Test loss: 0.79852, Test R2: 0.00869\n",
      "Model Saved - Epoch 7 - Test R2: 0.00869\n",
      "\n",
      "\n",
      "Epoch 8:\n"
     ]
    },
    {
     "name": "stderr",
     "output_type": "stream",
     "text": [
      "Training: 100%|██████████| 18964/18964 [00:44<00:00, 423.11it/s, Loss=2.1, rmse=0.819, R²=0.0217] \n",
      "Testing: 100%|██████████| 676/676 [00:01<00:00, 545.41it/s, Loss=0.759, R²=0.00884]\n"
     ]
    },
    {
     "name": "stdout",
     "output_type": "stream",
     "text": [
      "Train rmse: 0.82056, Train R2: 0.02172, Train loss: 2.09574\n",
      "Test loss: 0.79852, Test R2: 0.00869\n",
      "Model Saved - Epoch 8 - Test R2: 0.00869\n",
      "\n",
      "\n",
      "Epoch 9:\n"
     ]
    },
    {
     "name": "stderr",
     "output_type": "stream",
     "text": [
      "Training: 100%|██████████| 18964/18964 [00:44<00:00, 422.84it/s, Loss=2.09, rmse=0.819, R²=0.0228]\n",
      "Testing: 100%|██████████| 676/676 [00:01<00:00, 545.11it/s, Loss=0.759, R²=0.00922]\n"
     ]
    },
    {
     "name": "stdout",
     "output_type": "stream",
     "text": [
      "Train rmse: 0.82012, Train R2: 0.02277, Train loss: 2.09409\n",
      "Test loss: 0.79838, Test R2: 0.00904\n",
      "Model Saved - Epoch 9 - Test R2: 0.00904\n",
      "\n",
      "\n",
      "Epoch 10:\n"
     ]
    },
    {
     "name": "stderr",
     "output_type": "stream",
     "text": [
      "Training: 100%|██████████| 18964/18964 [00:44<00:00, 424.69it/s, Loss=2.09, rmse=0.819, R²=0.024] \n",
      "Testing: 100%|██████████| 676/676 [00:01<00:00, 543.59it/s, Loss=0.759, R²=0.00913]\n"
     ]
    },
    {
     "name": "stdout",
     "output_type": "stream",
     "text": [
      "Train rmse: 0.81963, Train R2: 0.02394, Train loss: 2.09226\n",
      "Test loss: 0.79843, Test R2: 0.00893\n",
      "\n",
      "Epoch 11:\n"
     ]
    },
    {
     "name": "stderr",
     "output_type": "stream",
     "text": [
      "Training: 100%|██████████| 18964/18964 [00:44<00:00, 424.33it/s, Loss=2.09, rmse=0.818, R²=0.0253]\n",
      "Testing: 100%|██████████| 676/676 [00:01<00:00, 546.99it/s, Loss=0.759, R²=0.00917]\n"
     ]
    },
    {
     "name": "stdout",
     "output_type": "stream",
     "text": [
      "Train rmse: 0.81908, Train R2: 0.02527, Train loss: 2.09019\n",
      "Test loss: 0.79841, Test R2: 0.00898\n",
      "\n",
      "Epoch 12:\n"
     ]
    },
    {
     "name": "stderr",
     "output_type": "stream",
     "text": [
      "Training: 100%|██████████| 18964/18964 [00:44<00:00, 425.29it/s, Loss=2.09, rmse=0.817, R²=0.0267]\n",
      "Testing: 100%|██████████| 676/676 [00:01<00:00, 547.13it/s, Loss=0.759, R²=0.00909]\n"
     ]
    },
    {
     "name": "stdout",
     "output_type": "stream",
     "text": [
      "Train rmse: 0.81849, Train R2: 0.02666, Train loss: 2.08801\n",
      "Test loss: 0.79844, Test R2: 0.00889\n",
      "\n",
      "Epoch 13:\n"
     ]
    },
    {
     "name": "stderr",
     "output_type": "stream",
     "text": [
      "Training: 100%|██████████| 18964/18964 [00:44<00:00, 424.89it/s, Loss=2.09, rmse=0.817, R²=0.028] \n",
      "Testing: 100%|██████████| 676/676 [00:01<00:00, 546.80it/s, Loss=0.759, R²=0.009]  \n"
     ]
    },
    {
     "name": "stdout",
     "output_type": "stream",
     "text": [
      "Train rmse: 0.81792, Train R2: 0.02801, Train loss: 2.08578\n",
      "Test loss: 0.79848, Test R2: 0.00880\n",
      "\n",
      "Epoch 14:\n"
     ]
    },
    {
     "name": "stderr",
     "output_type": "stream",
     "text": [
      "Training: 100%|██████████| 18964/18964 [00:44<00:00, 425.02it/s, Loss=2.08, rmse=0.816, R²=0.0293]\n",
      "Testing: 100%|██████████| 676/676 [00:01<00:00, 546.97it/s, Loss=0.759, R²=0.0092] \n"
     ]
    },
    {
     "name": "stdout",
     "output_type": "stream",
     "text": [
      "Train rmse: 0.81737, Train R2: 0.02931, Train loss: 2.08367\n",
      "Test loss: 0.79841, Test R2: 0.00896\n",
      "\n",
      "Epoch 15:\n"
     ]
    },
    {
     "name": "stderr",
     "output_type": "stream",
     "text": [
      "Training: 100%|██████████| 18964/18964 [00:44<00:00, 423.37it/s, Loss=2.08, rmse=0.816, R²=0.0306]\n",
      "Testing: 100%|██████████| 676/676 [00:01<00:00, 545.11it/s, Loss=0.76, R²=0.00874] \n"
     ]
    },
    {
     "name": "stdout",
     "output_type": "stream",
     "text": [
      "Train rmse: 0.81683, Train R2: 0.03060, Train loss: 2.08144\n",
      "Test loss: 0.79859, Test R2: 0.00852\n",
      "\n",
      "Best Epoch: 9, Best Test R2: 0.00904\n"
     ]
    },
    {
     "name": "stderr",
     "output_type": "stream",
     "text": [
      "/home/mt/miniconda3/envs/tabm/lib/python3.10/site-packages/wandb/sdk/lib/ipython.py:89: DeprecationWarning: Importing display from IPython.core.display is deprecated since IPython 7.14, please import from IPython display\n",
      "  from IPython.core.display import display\n"
     ]
    },
    {
     "data": {
      "application/vnd.jupyter.widget-view+json": {
       "model_id": "58bbd90c020f40ea82f8ec8964b60c6c",
       "version_major": 2,
       "version_minor": 0
      },
      "text/plain": [
       "VBox(children=(Label(value='0.004 MB of 0.029 MB uploaded\\r'), FloatProgress(value=0.14250428138585167, max=1.…"
      ]
     },
     "metadata": {},
     "output_type": "display_data"
    },
    {
     "name": "stderr",
     "output_type": "stream",
     "text": [
      "/home/mt/miniconda3/envs/tabm/lib/python3.10/site-packages/wandb/sdk/lib/ipython.py:77: DeprecationWarning: Importing display from IPython.core.display is deprecated since IPython 7.14, please import from IPython display\n",
      "  from IPython.core.display import HTML, display  # type: ignore\n"
     ]
    },
    {
     "data": {
      "text/html": [
       "<style>\n",
       "    table.wandb td:nth-child(1) { padding: 0 10px; text-align: left ; width: auto;} td:nth-child(2) {text-align: left ; width: 100%}\n",
       "    .wandb-row { display: flex; flex-direction: row; flex-wrap: wrap; justify-content: flex-start; width: 100% }\n",
       "    .wandb-col { display: flex; flex-direction: column; flex-basis: 100%; flex: 1; padding: 10px; }\n",
       "    </style>\n",
       "<div class=\"wandb-row\"><div class=\"wandb-col\"><h3>Run history:</h3><br/><table class=\"wandb\"><tr><td>epoch</td><td>▁▁▂▃▃▃▄▅▅▅▆▇▇▇█</td></tr><tr><td>test_loss</td><td>█▆▆▅▃▄▂▂▁▁▁▁▂▁▃</td></tr><tr><td>test_r2</td><td>▁▃▃▄▆▅▇▇████▇█▆</td></tr><tr><td>train_loss</td><td>█▆▆▅▅▅▄▄▄▃▃▂▂▁▁</td></tr><tr><td>train_r2</td><td>▁▃▃▄▄▄▅▅▅▆▆▇▇██</td></tr><tr><td>train_rmse</td><td>█▆▆▅▅▅▄▄▄▃▃▂▂▁▁</td></tr></table><br/></div><div class=\"wandb-col\"><h3>Run summary:</h3><br/><table class=\"wandb\"><tr><td>best_test_r2</td><td>0.00904</td></tr><tr><td>best_train_r2</td><td>0.0306</td></tr><tr><td>epoch</td><td>15</td></tr><tr><td>test_loss</td><td>0.79859</td></tr><tr><td>test_r2</td><td>0.00852</td></tr><tr><td>train_loss</td><td>2.08144</td></tr><tr><td>train_r2</td><td>0.0306</td></tr><tr><td>train_rmse</td><td>0.81683</td></tr></table><br/></div></div>"
      ],
      "text/plain": [
       "<IPython.core.display.HTML object>"
      ]
     },
     "metadata": {},
     "output_type": "display_data"
    },
    {
     "data": {
      "text/html": [
       " View run <strong style=\"color:#cdcd00\">major-sweep-16</strong> at: <a href='https://wandb.ai/turkenm/js_tabm/runs/oabexwg5' target=\"_blank\">https://wandb.ai/turkenm/js_tabm/runs/oabexwg5</a><br/> View project at: <a href='https://wandb.ai/turkenm/js_tabm' target=\"_blank\">https://wandb.ai/turkenm/js_tabm</a><br/>Synced 6 W&B file(s), 0 media file(s), 0 artifact file(s) and 0 other file(s)"
      ],
      "text/plain": [
       "<IPython.core.display.HTML object>"
      ]
     },
     "metadata": {},
     "output_type": "display_data"
    },
    {
     "data": {
      "text/html": [
       "Find logs at: <code>./wandb/run-20250112_184348-oabexwg5/logs</code>"
      ],
      "text/plain": [
       "<IPython.core.display.HTML object>"
      ]
     },
     "metadata": {},
     "output_type": "display_data"
    },
    {
     "name": "stderr",
     "output_type": "stream",
     "text": [
      "\u001b[34m\u001b[1mwandb\u001b[0m: Agent Starting Run: unk88knr with config:\n",
      "\u001b[34m\u001b[1mwandb\u001b[0m: \td_block: 64\n",
      "\u001b[34m\u001b[1mwandb\u001b[0m: \tdrop_out: 0.15\n",
      "\u001b[34m\u001b[1mwandb\u001b[0m: \tlearning_rate: 0.0002\n",
      "\u001b[34m\u001b[1mwandb\u001b[0m: \tmodel_arch: tabm-mini\n",
      "\u001b[34m\u001b[1mwandb\u001b[0m: \tn_block: 3\n",
      "\u001b[34m\u001b[1mwandb\u001b[0m: \tn_k: 16\n",
      "\u001b[34m\u001b[1mwandb\u001b[0m: \tweight_decay: 0.0001\n",
      "Failed to detect the name of this notebook, you can set it manually with the WANDB_NOTEBOOK_NAME environment variable to enable code saving.\n",
      "/home/mt/miniconda3/envs/tabm/lib/python3.10/site-packages/wandb/sdk/wandb_setup.py:254: ResourceWarning: unclosed file <_io.TextIOWrapper name='/home/mt/Desktop/JaneStreet-Comp/wandb/sweep-mtpap5fv/config-unk88knr.yaml' mode='r' encoding='UTF-8'>\n",
      "  self._sweep_config = config_util.dict_from_config_file(\n",
      "ResourceWarning: Enable tracemalloc to get the object allocation traceback\n"
     ]
    },
    {
     "data": {
      "text/html": [
       "wandb version 0.19.2 is available!  To upgrade, please run:\n",
       " $ pip install wandb --upgrade"
      ],
      "text/plain": [
       "<IPython.core.display.HTML object>"
      ]
     },
     "metadata": {},
     "output_type": "display_data"
    },
    {
     "data": {
      "text/html": [
       "Tracking run with wandb version 0.16.6"
      ],
      "text/plain": [
       "<IPython.core.display.HTML object>"
      ]
     },
     "metadata": {},
     "output_type": "display_data"
    },
    {
     "data": {
      "text/html": [
       "Run data is saved locally in <code>/home/mt/Desktop/JaneStreet-Comp/wandb/run-20250112_185532-unk88knr</code>"
      ],
      "text/plain": [
       "<IPython.core.display.HTML object>"
      ]
     },
     "metadata": {},
     "output_type": "display_data"
    },
    {
     "data": {
      "text/html": [
       "Syncing run <strong><a href='https://wandb.ai/turkenm/js_tabm/runs/unk88knr' target=\"_blank\">decent-sweep-17</a></strong> to <a href='https://wandb.ai/turkenm/js_tabm' target=\"_blank\">Weights & Biases</a> (<a href='https://wandb.me/run' target=\"_blank\">docs</a>)<br/>Sweep page: <a href='https://wandb.ai/turkenm/js_tabm/sweeps/mtpap5fv' target=\"_blank\">https://wandb.ai/turkenm/js_tabm/sweeps/mtpap5fv</a>"
      ],
      "text/plain": [
       "<IPython.core.display.HTML object>"
      ]
     },
     "metadata": {},
     "output_type": "display_data"
    },
    {
     "data": {
      "text/html": [
       " View project at <a href='https://wandb.ai/turkenm/js_tabm' target=\"_blank\">https://wandb.ai/turkenm/js_tabm</a>"
      ],
      "text/plain": [
       "<IPython.core.display.HTML object>"
      ]
     },
     "metadata": {},
     "output_type": "display_data"
    },
    {
     "data": {
      "text/html": [
       " View sweep at <a href='https://wandb.ai/turkenm/js_tabm/sweeps/mtpap5fv' target=\"_blank\">https://wandb.ai/turkenm/js_tabm/sweeps/mtpap5fv</a>"
      ],
      "text/plain": [
       "<IPython.core.display.HTML object>"
      ]
     },
     "metadata": {},
     "output_type": "display_data"
    },
    {
     "data": {
      "text/html": [
       " View run at <a href='https://wandb.ai/turkenm/js_tabm/runs/unk88knr' target=\"_blank\">https://wandb.ai/turkenm/js_tabm/runs/unk88knr</a>"
      ],
      "text/plain": [
       "<IPython.core.display.HTML object>"
      ]
     },
     "metadata": {},
     "output_type": "display_data"
    },
    {
     "name": "stdout",
     "output_type": "stream",
     "text": [
      "EXPERIMENT exp_tabm-mini_dblocks_64_nblocks_3_LR_2e-04_BS_1024_DR_0.15_k_16_id_97335\n",
      "\n",
      "\n",
      "Epoch 1:\n"
     ]
    },
    {
     "name": "stderr",
     "output_type": "stream",
     "text": [
      "Training: 100%|██████████| 18964/18964 [00:31<00:00, 604.06it/s, Loss=2.11, rmse=0.824, R²=0.0118] \n",
      "Testing: 100%|██████████| 676/676 [00:00<00:00, 858.99it/s, Loss=0.76, R²=0.0077]  \n"
     ]
    },
    {
     "name": "stdout",
     "output_type": "stream",
     "text": [
      "Train rmse: 0.82469, Train R2: 0.01187, Train loss: 2.11159\n",
      "Test loss: 0.79901, Test R2: 0.00748\n",
      "Model Saved - Epoch 1 - Test R2: 0.00748\n",
      "\n",
      "\n",
      "Epoch 2:\n"
     ]
    },
    {
     "name": "stderr",
     "output_type": "stream",
     "text": [
      "Training: 100%|██████████| 18964/18964 [00:31<00:00, 604.76it/s, Loss=2.1, rmse=0.821, R²=0.0168]\n",
      "Testing: 100%|██████████| 676/676 [00:00<00:00, 861.39it/s, Loss=0.76, R²=0.0075]  \n"
     ]
    },
    {
     "name": "stdout",
     "output_type": "stream",
     "text": [
      "Train rmse: 0.82262, Train R2: 0.01681, Train loss: 2.10374\n",
      "Test loss: 0.79906, Test R2: 0.00735\n",
      "\n",
      "Epoch 3:\n"
     ]
    },
    {
     "name": "stderr",
     "output_type": "stream",
     "text": [
      "Training: 100%|██████████| 18964/18964 [00:31<00:00, 604.48it/s, Loss=2.1, rmse=0.821, R²=0.0185]\n",
      "Testing: 100%|██████████| 676/676 [00:00<00:00, 853.93it/s, Loss=0.76, R²=0.00731] \n"
     ]
    },
    {
     "name": "stdout",
     "output_type": "stream",
     "text": [
      "Train rmse: 0.82193, Train R2: 0.01847, Train loss: 2.10108\n",
      "Test loss: 0.79912, Test R2: 0.00721\n",
      "\n",
      "Epoch 4:\n"
     ]
    },
    {
     "name": "stderr",
     "output_type": "stream",
     "text": [
      "Training:   3%|▎         | 594/18964 [00:00<00:28, 653.07it/s, Loss=2.1, rmse=0.821, R²=0.0186]/home/mt/miniconda3/envs/tabm/lib/python3.10/site-packages/torch/nn/functional.py:1425: ResourceWarning: unclosed <socket.socket fd=110, family=AddressFamily.AF_INET, type=SocketKind.SOCK_STREAM, proto=0, laddr=('127.0.0.1', 60106), raddr=('127.0.0.1', 55025)>\n",
      "  _VF.dropout_(input, p, training) if inplace else _VF.dropout(input, p, training)\n",
      "ResourceWarning: Enable tracemalloc to get the object allocation traceback\n",
      "Training: 100%|██████████| 18964/18964 [00:31<00:00, 599.19it/s, Loss=2.1, rmse=0.82, R²=0.0194] \n",
      "Testing: 100%|██████████| 676/676 [00:00<00:00, 852.39it/s, Loss=0.76, R²=0.00809] \n"
     ]
    },
    {
     "name": "stdout",
     "output_type": "stream",
     "text": [
      "Train rmse: 0.82152, Train R2: 0.01945, Train loss: 2.09960\n",
      "Test loss: 0.79883, Test R2: 0.00794\n",
      "Model Saved - Epoch 4 - Test R2: 0.00794\n",
      "\n",
      "\n",
      "Epoch 5:\n"
     ]
    },
    {
     "name": "stderr",
     "output_type": "stream",
     "text": [
      "Training: 100%|██████████| 18964/18964 [00:31<00:00, 599.44it/s, Loss=2.1, rmse=0.82, R²=0.0202] \n",
      "Testing: 100%|██████████| 676/676 [00:00<00:00, 860.13it/s, Loss=0.76, R²=0.00819] \n"
     ]
    },
    {
     "name": "stdout",
     "output_type": "stream",
     "text": [
      "Train rmse: 0.82119, Train R2: 0.02023, Train loss: 2.09834\n",
      "Test loss: 0.79879, Test R2: 0.00803\n",
      "Model Saved - Epoch 5 - Test R2: 0.00803\n",
      "\n",
      "\n",
      "Epoch 6:\n"
     ]
    },
    {
     "name": "stderr",
     "output_type": "stream",
     "text": [
      "Training: 100%|██████████| 18964/18964 [00:31<00:00, 598.75it/s, Loss=2.1, rmse=0.82, R²=0.0209] \n",
      "Testing: 100%|██████████| 676/676 [00:00<00:00, 858.50it/s, Loss=0.76, R²=0.0086]  \n"
     ]
    },
    {
     "name": "stdout",
     "output_type": "stream",
     "text": [
      "Train rmse: 0.82092, Train R2: 0.02088, Train loss: 2.09735\n",
      "Test loss: 0.79863, Test R2: 0.00842\n",
      "Model Saved - Epoch 6 - Test R2: 0.00842\n",
      "\n",
      "\n",
      "Epoch 7:\n"
     ]
    },
    {
     "name": "stderr",
     "output_type": "stream",
     "text": [
      "Training: 100%|██████████| 18964/18964 [00:31<00:00, 601.68it/s, Loss=2.1, rmse=0.82, R²=0.0215] \n",
      "Testing: 100%|██████████| 676/676 [00:00<00:00, 859.46it/s, Loss=0.76, R²=0.00863] \n"
     ]
    },
    {
     "name": "stdout",
     "output_type": "stream",
     "text": [
      "Train rmse: 0.82068, Train R2: 0.02144, Train loss: 2.09657\n",
      "Test loss: 0.79863, Test R2: 0.00843\n",
      "Model Saved - Epoch 7 - Test R2: 0.00843\n",
      "\n",
      "\n",
      "Epoch 8:\n"
     ]
    },
    {
     "name": "stderr",
     "output_type": "stream",
     "text": [
      "Training: 100%|██████████| 18964/18964 [00:31<00:00, 596.95it/s, Loss=2.1, rmse=0.819, R²=0.022] \n",
      "Testing: 100%|██████████| 676/676 [00:00<00:00, 857.14it/s, Loss=0.76, R²=0.00877] \n"
     ]
    },
    {
     "name": "stdout",
     "output_type": "stream",
     "text": [
      "Train rmse: 0.82047, Train R2: 0.02194, Train loss: 2.09584\n",
      "Test loss: 0.79857, Test R2: 0.00858\n",
      "Model Saved - Epoch 8 - Test R2: 0.00858\n",
      "\n",
      "\n",
      "Epoch 9:\n"
     ]
    },
    {
     "name": "stderr",
     "output_type": "stream",
     "text": [
      "Training: 100%|██████████| 18964/18964 [00:31<00:00, 603.87it/s, Loss=2.1, rmse=0.819, R²=0.0224] \n",
      "Testing: 100%|██████████| 676/676 [00:00<00:00, 860.08it/s, Loss=0.76, R²=0.0089]  \n"
     ]
    },
    {
     "name": "stdout",
     "output_type": "stream",
     "text": [
      "Train rmse: 0.82026, Train R2: 0.02245, Train loss: 2.09508\n",
      "Test loss: 0.79852, Test R2: 0.00870\n",
      "Model Saved - Epoch 9 - Test R2: 0.00870\n",
      "\n",
      "\n",
      "Epoch 10:\n"
     ]
    },
    {
     "name": "stderr",
     "output_type": "stream",
     "text": [
      "Training: 100%|██████████| 18964/18964 [00:31<00:00, 604.05it/s, Loss=2.09, rmse=0.819, R²=0.0229]\n",
      "Testing: 100%|██████████| 676/676 [00:00<00:00, 860.90it/s, Loss=0.759, R²=0.009]  \n"
     ]
    },
    {
     "name": "stdout",
     "output_type": "stream",
     "text": [
      "Train rmse: 0.82008, Train R2: 0.02287, Train loss: 2.09445\n",
      "Test loss: 0.79848, Test R2: 0.00879\n",
      "Model Saved - Epoch 10 - Test R2: 0.00879\n",
      "\n",
      "\n",
      "Epoch 11:\n"
     ]
    },
    {
     "name": "stderr",
     "output_type": "stream",
     "text": [
      "Training: 100%|██████████| 18964/18964 [00:31<00:00, 598.79it/s, Loss=2.09, rmse=0.819, R²=0.0233]\n",
      "Testing: 100%|██████████| 676/676 [00:00<00:00, 853.93it/s, Loss=0.759, R²=0.00917]\n"
     ]
    },
    {
     "name": "stdout",
     "output_type": "stream",
     "text": [
      "Train rmse: 0.81989, Train R2: 0.02332, Train loss: 2.09386\n",
      "Test loss: 0.79842, Test R2: 0.00895\n",
      "Model Saved - Epoch 11 - Test R2: 0.00895\n",
      "\n",
      "\n",
      "Epoch 12:\n"
     ]
    },
    {
     "name": "stderr",
     "output_type": "stream",
     "text": [
      "Training: 100%|██████████| 18964/18964 [00:31<00:00, 602.09it/s, Loss=2.09, rmse=0.819, R²=0.0238]\n",
      "Testing: 100%|██████████| 676/676 [00:00<00:00, 857.22it/s, Loss=0.759, R²=0.0091] \n"
     ]
    },
    {
     "name": "stdout",
     "output_type": "stream",
     "text": [
      "Train rmse: 0.81969, Train R2: 0.02380, Train loss: 2.09327\n",
      "Test loss: 0.79844, Test R2: 0.00889\n",
      "\n",
      "Epoch 13:\n"
     ]
    },
    {
     "name": "stderr",
     "output_type": "stream",
     "text": [
      "Training: 100%|██████████| 18964/18964 [00:31<00:00, 602.19it/s, Loss=2.09, rmse=0.818, R²=0.0243]\n",
      "Testing: 100%|██████████| 676/676 [00:00<00:00, 862.46it/s, Loss=0.76, R²=0.00897] \n"
     ]
    },
    {
     "name": "stdout",
     "output_type": "stream",
     "text": [
      "Train rmse: 0.81948, Train R2: 0.02431, Train loss: 2.09241\n",
      "Test loss: 0.79850, Test R2: 0.00874\n",
      "\n",
      "Epoch 14:\n"
     ]
    },
    {
     "name": "stderr",
     "output_type": "stream",
     "text": [
      "Training: 100%|██████████| 18964/18964 [00:31<00:00, 606.33it/s, Loss=2.09, rmse=0.818, R²=0.0248]\n",
      "Testing: 100%|██████████| 676/676 [00:00<00:00, 862.06it/s, Loss=0.76, R²=0.00906] \n"
     ]
    },
    {
     "name": "stdout",
     "output_type": "stream",
     "text": [
      "Train rmse: 0.81928, Train R2: 0.02478, Train loss: 2.09184\n",
      "Test loss: 0.79847, Test R2: 0.00883\n",
      "\n",
      "Epoch 15:\n"
     ]
    },
    {
     "name": "stderr",
     "output_type": "stream",
     "text": [
      "Training: 100%|██████████| 18964/18964 [00:31<00:00, 603.18it/s, Loss=2.09, rmse=0.818, R²=0.0252]\n",
      "Testing: 100%|██████████| 676/676 [00:00<00:00, 860.96it/s, Loss=0.76, R²=0.00894] \n"
     ]
    },
    {
     "name": "stdout",
     "output_type": "stream",
     "text": [
      "Train rmse: 0.81909, Train R2: 0.02523, Train loss: 2.09112\n",
      "Test loss: 0.79852, Test R2: 0.00870\n",
      "\n",
      "Best Epoch: 11, Best Test R2: 0.00895\n"
     ]
    },
    {
     "name": "stderr",
     "output_type": "stream",
     "text": [
      "/home/mt/miniconda3/envs/tabm/lib/python3.10/site-packages/wandb/sdk/lib/ipython.py:89: DeprecationWarning: Importing display from IPython.core.display is deprecated since IPython 7.14, please import from IPython display\n",
      "  from IPython.core.display import display\n"
     ]
    },
    {
     "data": {
      "application/vnd.jupyter.widget-view+json": {
       "model_id": "b998d6a9e9b1459992536584418d1d23",
       "version_major": 2,
       "version_minor": 0
      },
      "text/plain": [
       "VBox(children=(Label(value='0.004 MB of 0.004 MB uploaded\\r'), FloatProgress(value=1.0, max=1.0)))"
      ]
     },
     "metadata": {},
     "output_type": "display_data"
    },
    {
     "name": "stderr",
     "output_type": "stream",
     "text": [
      "/home/mt/miniconda3/envs/tabm/lib/python3.10/site-packages/wandb/sdk/lib/ipython.py:77: DeprecationWarning: Importing display from IPython.core.display is deprecated since IPython 7.14, please import from IPython display\n",
      "  from IPython.core.display import HTML, display  # type: ignore\n"
     ]
    },
    {
     "data": {
      "text/html": [
       "<style>\n",
       "    table.wandb td:nth-child(1) { padding: 0 10px; text-align: left ; width: auto;} td:nth-child(2) {text-align: left ; width: 100%}\n",
       "    .wandb-row { display: flex; flex-direction: row; flex-wrap: wrap; justify-content: flex-start; width: 100% }\n",
       "    .wandb-col { display: flex; flex-direction: column; flex-basis: 100%; flex: 1; padding: 10px; }\n",
       "    </style>\n",
       "<div class=\"wandb-row\"><div class=\"wandb-col\"><h3>Run history:</h3><br/><table class=\"wandb\"><tr><td>epoch</td><td>▁▁▂▃▃▃▄▅▅▅▆▇▇▇█</td></tr><tr><td>test_loss</td><td>▇▇█▅▅▃▃▃▂▂▁▁▂▂▂</td></tr><tr><td>test_r2</td><td>▂▂▁▄▄▆▆▆▇▇██▇▇▇</td></tr><tr><td>train_loss</td><td>█▅▄▄▃▃▃▃▂▂▂▂▁▁▁</td></tr><tr><td>train_r2</td><td>▁▄▄▅▅▆▆▆▇▇▇▇███</td></tr><tr><td>train_rmse</td><td>█▅▅▄▄▃▃▃▂▂▂▂▁▁▁</td></tr></table><br/></div><div class=\"wandb-col\"><h3>Run summary:</h3><br/><table class=\"wandb\"><tr><td>best_test_r2</td><td>0.00895</td></tr><tr><td>best_train_r2</td><td>0.02523</td></tr><tr><td>epoch</td><td>15</td></tr><tr><td>test_loss</td><td>0.79852</td></tr><tr><td>test_r2</td><td>0.0087</td></tr><tr><td>train_loss</td><td>2.09112</td></tr><tr><td>train_r2</td><td>0.02523</td></tr><tr><td>train_rmse</td><td>0.81909</td></tr></table><br/></div></div>"
      ],
      "text/plain": [
       "<IPython.core.display.HTML object>"
      ]
     },
     "metadata": {},
     "output_type": "display_data"
    },
    {
     "data": {
      "text/html": [
       " View run <strong style=\"color:#cdcd00\">decent-sweep-17</strong> at: <a href='https://wandb.ai/turkenm/js_tabm/runs/unk88knr' target=\"_blank\">https://wandb.ai/turkenm/js_tabm/runs/unk88knr</a><br/> View project at: <a href='https://wandb.ai/turkenm/js_tabm' target=\"_blank\">https://wandb.ai/turkenm/js_tabm</a><br/>Synced 6 W&B file(s), 0 media file(s), 0 artifact file(s) and 0 other file(s)"
      ],
      "text/plain": [
       "<IPython.core.display.HTML object>"
      ]
     },
     "metadata": {},
     "output_type": "display_data"
    },
    {
     "data": {
      "text/html": [
       "Find logs at: <code>./wandb/run-20250112_185532-unk88knr/logs</code>"
      ],
      "text/plain": [
       "<IPython.core.display.HTML object>"
      ]
     },
     "metadata": {},
     "output_type": "display_data"
    },
    {
     "name": "stderr",
     "output_type": "stream",
     "text": [
      "\u001b[34m\u001b[1mwandb\u001b[0m: Agent Starting Run: rx19nlmg with config:\n",
      "\u001b[34m\u001b[1mwandb\u001b[0m: \td_block: 64\n",
      "\u001b[34m\u001b[1mwandb\u001b[0m: \tdrop_out: 0.15\n",
      "\u001b[34m\u001b[1mwandb\u001b[0m: \tlearning_rate: 0.0002\n",
      "\u001b[34m\u001b[1mwandb\u001b[0m: \tmodel_arch: tabm-mini\n",
      "\u001b[34m\u001b[1mwandb\u001b[0m: \tn_block: 3\n",
      "\u001b[34m\u001b[1mwandb\u001b[0m: \tn_k: 16\n",
      "\u001b[34m\u001b[1mwandb\u001b[0m: \tweight_decay: 0.0002\n",
      "Failed to detect the name of this notebook, you can set it manually with the WANDB_NOTEBOOK_NAME environment variable to enable code saving.\n",
      "/home/mt/miniconda3/envs/tabm/lib/python3.10/site-packages/wandb/sdk/wandb_setup.py:254: ResourceWarning: unclosed file <_io.TextIOWrapper name='/home/mt/Desktop/JaneStreet-Comp/wandb/sweep-mtpap5fv/config-rx19nlmg.yaml' mode='r' encoding='UTF-8'>\n",
      "  self._sweep_config = config_util.dict_from_config_file(\n",
      "ResourceWarning: Enable tracemalloc to get the object allocation traceback\n"
     ]
    },
    {
     "data": {
      "text/html": [
       "wandb version 0.19.2 is available!  To upgrade, please run:\n",
       " $ pip install wandb --upgrade"
      ],
      "text/plain": [
       "<IPython.core.display.HTML object>"
      ]
     },
     "metadata": {},
     "output_type": "display_data"
    },
    {
     "data": {
      "text/html": [
       "Tracking run with wandb version 0.16.6"
      ],
      "text/plain": [
       "<IPython.core.display.HTML object>"
      ]
     },
     "metadata": {},
     "output_type": "display_data"
    },
    {
     "data": {
      "text/html": [
       "Run data is saved locally in <code>/home/mt/Desktop/JaneStreet-Comp/wandb/run-20250112_190351-rx19nlmg</code>"
      ],
      "text/plain": [
       "<IPython.core.display.HTML object>"
      ]
     },
     "metadata": {},
     "output_type": "display_data"
    },
    {
     "data": {
      "text/html": [
       "Syncing run <strong><a href='https://wandb.ai/turkenm/js_tabm/runs/rx19nlmg' target=\"_blank\">sweet-sweep-18</a></strong> to <a href='https://wandb.ai/turkenm/js_tabm' target=\"_blank\">Weights & Biases</a> (<a href='https://wandb.me/run' target=\"_blank\">docs</a>)<br/>Sweep page: <a href='https://wandb.ai/turkenm/js_tabm/sweeps/mtpap5fv' target=\"_blank\">https://wandb.ai/turkenm/js_tabm/sweeps/mtpap5fv</a>"
      ],
      "text/plain": [
       "<IPython.core.display.HTML object>"
      ]
     },
     "metadata": {},
     "output_type": "display_data"
    },
    {
     "data": {
      "text/html": [
       " View project at <a href='https://wandb.ai/turkenm/js_tabm' target=\"_blank\">https://wandb.ai/turkenm/js_tabm</a>"
      ],
      "text/plain": [
       "<IPython.core.display.HTML object>"
      ]
     },
     "metadata": {},
     "output_type": "display_data"
    },
    {
     "data": {
      "text/html": [
       " View sweep at <a href='https://wandb.ai/turkenm/js_tabm/sweeps/mtpap5fv' target=\"_blank\">https://wandb.ai/turkenm/js_tabm/sweeps/mtpap5fv</a>"
      ],
      "text/plain": [
       "<IPython.core.display.HTML object>"
      ]
     },
     "metadata": {},
     "output_type": "display_data"
    },
    {
     "data": {
      "text/html": [
       " View run at <a href='https://wandb.ai/turkenm/js_tabm/runs/rx19nlmg' target=\"_blank\">https://wandb.ai/turkenm/js_tabm/runs/rx19nlmg</a>"
      ],
      "text/plain": [
       "<IPython.core.display.HTML object>"
      ]
     },
     "metadata": {},
     "output_type": "display_data"
    },
    {
     "name": "stdout",
     "output_type": "stream",
     "text": [
      "EXPERIMENT exp_tabm-mini_dblocks_64_nblocks_3_LR_2e-04_BS_1024_DR_0.15_k_16_id_97834\n",
      "\n",
      "\n",
      "Epoch 1:\n"
     ]
    },
    {
     "name": "stderr",
     "output_type": "stream",
     "text": [
      "Training: 100%|██████████| 18964/18964 [00:31<00:00, 604.76it/s, Loss=2.11, rmse=0.824, R²=0.0119] \n",
      "Testing: 100%|██████████| 676/676 [00:00<00:00, 860.96it/s, Loss=0.76, R²=0.00791] \n"
     ]
    },
    {
     "name": "stdout",
     "output_type": "stream",
     "text": [
      "Train rmse: 0.82464, Train R2: 0.01197, Train loss: 2.11152\n",
      "Test loss: 0.79893, Test R2: 0.00769\n",
      "Model Saved - Epoch 1 - Test R2: 0.00769\n",
      "\n",
      "\n",
      "Epoch 2:\n"
     ]
    },
    {
     "name": "stderr",
     "output_type": "stream",
     "text": [
      "Training: 100%|██████████| 18964/18964 [00:31<00:00, 604.41it/s, Loss=2.1, rmse=0.821, R²=0.0169]\n",
      "Testing: 100%|██████████| 676/676 [00:00<00:00, 861.56it/s, Loss=0.76, R²=0.00821] \n"
     ]
    },
    {
     "name": "stdout",
     "output_type": "stream",
     "text": [
      "Train rmse: 0.82258, Train R2: 0.01691, Train loss: 2.10366\n",
      "Test loss: 0.79880, Test R2: 0.00800\n",
      "Model Saved - Epoch 2 - Test R2: 0.00800\n",
      "\n",
      "\n",
      "Epoch 3:\n"
     ]
    },
    {
     "name": "stderr",
     "output_type": "stream",
     "text": [
      "Training: 100%|██████████| 18964/18964 [00:31<00:00, 604.65it/s, Loss=2.1, rmse=0.821, R²=0.0186]\n",
      "Testing: 100%|██████████| 676/676 [00:00<00:00, 861.13it/s, Loss=0.76, R²=0.00794] \n"
     ]
    },
    {
     "name": "stdout",
     "output_type": "stream",
     "text": [
      "Train rmse: 0.82188, Train R2: 0.01857, Train loss: 2.10096\n",
      "Test loss: 0.79889, Test R2: 0.00777\n",
      "\n",
      "Epoch 4:\n"
     ]
    },
    {
     "name": "stderr",
     "output_type": "stream",
     "text": [
      "Training:   3%|▎         | 594/18964 [00:00<00:28, 654.26it/s, Loss=2.1, rmse=0.82, R²=0.0191]/home/mt/miniconda3/envs/tabm/lib/python3.10/site-packages/torch/nn/functional.py:1425: ResourceWarning: unclosed <socket.socket fd=108, family=AddressFamily.AF_INET, type=SocketKind.SOCK_STREAM, proto=0, laddr=('127.0.0.1', 47358), raddr=('127.0.0.1', 55727)>\n",
      "  _VF.dropout_(input, p, training) if inplace else _VF.dropout(input, p, training)\n",
      "ResourceWarning: Enable tracemalloc to get the object allocation traceback\n",
      "Training: 100%|██████████| 18964/18964 [00:31<00:00, 604.59it/s, Loss=2.1, rmse=0.82, R²=0.0197] \n",
      "Testing: 100%|██████████| 676/676 [00:00<00:00, 861.30it/s, Loss=0.76, R²=0.00863] \n"
     ]
    },
    {
     "name": "stdout",
     "output_type": "stream",
     "text": [
      "Train rmse: 0.82142, Train R2: 0.01967, Train loss: 2.09921\n",
      "Test loss: 0.79863, Test R2: 0.00842\n",
      "Model Saved - Epoch 4 - Test R2: 0.00842\n",
      "\n",
      "\n",
      "Epoch 5:\n"
     ]
    },
    {
     "name": "stderr",
     "output_type": "stream",
     "text": [
      "Training: 100%|██████████| 18964/18964 [00:31<00:00, 604.32it/s, Loss=2.1, rmse=0.82, R²=0.0205] \n",
      "Testing: 100%|██████████| 676/676 [00:00<00:00, 862.26it/s, Loss=0.76, R²=0.00873] \n"
     ]
    },
    {
     "name": "stdout",
     "output_type": "stream",
     "text": [
      "Train rmse: 0.82107, Train R2: 0.02052, Train loss: 2.09790\n",
      "Test loss: 0.79859, Test R2: 0.00853\n",
      "Model Saved - Epoch 5 - Test R2: 0.00853\n",
      "\n",
      "\n",
      "Epoch 6:\n"
     ]
    },
    {
     "name": "stderr",
     "output_type": "stream",
     "text": [
      "Training: 100%|██████████| 18964/18964 [00:31<00:00, 605.49it/s, Loss=2.1, rmse=0.82, R²=0.0213] \n",
      "Testing: 100%|██████████| 676/676 [00:00<00:00, 860.36it/s, Loss=0.76, R²=0.00877] \n"
     ]
    },
    {
     "name": "stdout",
     "output_type": "stream",
     "text": [
      "Train rmse: 0.82075, Train R2: 0.02128, Train loss: 2.09682\n",
      "Test loss: 0.79857, Test R2: 0.00858\n",
      "Model Saved - Epoch 6 - Test R2: 0.00858\n",
      "\n",
      "\n",
      "Epoch 7:\n"
     ]
    },
    {
     "name": "stderr",
     "output_type": "stream",
     "text": [
      "Training: 100%|██████████| 18964/18964 [00:31<00:00, 606.24it/s, Loss=2.1, rmse=0.819, R²=0.0219]\n",
      "Testing: 100%|██████████| 676/676 [00:00<00:00, 862.46it/s, Loss=0.76, R²=0.00882] \n"
     ]
    },
    {
     "name": "stdout",
     "output_type": "stream",
     "text": [
      "Train rmse: 0.82048, Train R2: 0.02192, Train loss: 2.09586\n",
      "Test loss: 0.79855, Test R2: 0.00863\n",
      "Model Saved - Epoch 7 - Test R2: 0.00863\n",
      "\n",
      "\n",
      "Epoch 8:\n"
     ]
    },
    {
     "name": "stderr",
     "output_type": "stream",
     "text": [
      "Training: 100%|██████████| 18964/18964 [00:31<00:00, 604.87it/s, Loss=2.1, rmse=0.819, R²=0.0225] \n",
      "Testing: 100%|██████████| 676/676 [00:00<00:00, 855.18it/s, Loss=0.759, R²=0.00909]\n"
     ]
    },
    {
     "name": "stdout",
     "output_type": "stream",
     "text": [
      "Train rmse: 0.82024, Train R2: 0.02250, Train loss: 2.09492\n",
      "Test loss: 0.79845, Test R2: 0.00887\n",
      "Model Saved - Epoch 8 - Test R2: 0.00887\n",
      "\n",
      "\n",
      "Epoch 9:\n"
     ]
    },
    {
     "name": "stderr",
     "output_type": "stream",
     "text": [
      "Training: 100%|██████████| 18964/18964 [00:31<00:00, 600.63it/s, Loss=2.09, rmse=0.819, R²=0.023] \n",
      "Testing: 100%|██████████| 676/676 [00:00<00:00, 860.70it/s, Loss=0.759, R²=0.00927]\n"
     ]
    },
    {
     "name": "stdout",
     "output_type": "stream",
     "text": [
      "Train rmse: 0.82002, Train R2: 0.02302, Train loss: 2.09412\n",
      "Test loss: 0.79839, Test R2: 0.00903\n",
      "Model Saved - Epoch 9 - Test R2: 0.00903\n",
      "\n",
      "\n",
      "Epoch 10:\n"
     ]
    },
    {
     "name": "stderr",
     "output_type": "stream",
     "text": [
      "Training: 100%|██████████| 18964/18964 [00:31<00:00, 605.43it/s, Loss=2.09, rmse=0.819, R²=0.0236]\n",
      "Testing: 100%|██████████| 676/676 [00:00<00:00, 859.13it/s, Loss=0.759, R²=0.00943]\n"
     ]
    },
    {
     "name": "stdout",
     "output_type": "stream",
     "text": [
      "Train rmse: 0.81979, Train R2: 0.02358, Train loss: 2.09336\n",
      "Test loss: 0.79832, Test R2: 0.00920\n",
      "Model Saved - Epoch 10 - Test R2: 0.00920\n",
      "\n",
      "\n",
      "Epoch 11:\n"
     ]
    },
    {
     "name": "stderr",
     "output_type": "stream",
     "text": [
      "Training: 100%|██████████| 18964/18964 [00:31<00:00, 602.03it/s, Loss=2.09, rmse=0.819, R²=0.0241]\n",
      "Testing: 100%|██████████| 676/676 [00:00<00:00, 860.53it/s, Loss=0.759, R²=0.00963]\n"
     ]
    },
    {
     "name": "stdout",
     "output_type": "stream",
     "text": [
      "Train rmse: 0.81958, Train R2: 0.02407, Train loss: 2.09260\n",
      "Test loss: 0.79825, Test R2: 0.00937\n",
      "Model Saved - Epoch 11 - Test R2: 0.00937\n",
      "\n",
      "\n",
      "Epoch 12:\n"
     ]
    },
    {
     "name": "stderr",
     "output_type": "stream",
     "text": [
      "Training: 100%|██████████| 18964/18964 [00:31<00:00, 600.02it/s, Loss=2.09, rmse=0.818, R²=0.0245]\n",
      "Testing: 100%|██████████| 676/676 [00:00<00:00, 857.00it/s, Loss=0.759, R²=0.00946]\n"
     ]
    },
    {
     "name": "stdout",
     "output_type": "stream",
     "text": [
      "Train rmse: 0.81939, Train R2: 0.02451, Train loss: 2.09191\n",
      "Test loss: 0.79832, Test R2: 0.00919\n",
      "\n",
      "Epoch 13:\n"
     ]
    },
    {
     "name": "stderr",
     "output_type": "stream",
     "text": [
      "Training: 100%|██████████| 18964/18964 [00:31<00:00, 600.40it/s, Loss=2.09, rmse=0.818, R²=0.025] \n",
      "Testing: 100%|██████████| 676/676 [00:00<00:00, 856.27it/s, Loss=0.759, R²=0.00965]\n"
     ]
    },
    {
     "name": "stdout",
     "output_type": "stream",
     "text": [
      "Train rmse: 0.81918, Train R2: 0.02503, Train loss: 2.09119\n",
      "Test loss: 0.79823, Test R2: 0.00942\n",
      "Model Saved - Epoch 13 - Test R2: 0.00942\n",
      "\n",
      "\n",
      "Epoch 14:\n"
     ]
    },
    {
     "name": "stderr",
     "output_type": "stream",
     "text": [
      "Training: 100%|██████████| 18964/18964 [00:31<00:00, 600.76it/s, Loss=2.09, rmse=0.818, R²=0.0255]\n",
      "Testing: 100%|██████████| 676/676 [00:00<00:00, 859.51it/s, Loss=0.759, R²=0.00965]\n"
     ]
    },
    {
     "name": "stdout",
     "output_type": "stream",
     "text": [
      "Train rmse: 0.81896, Train R2: 0.02555, Train loss: 2.09031\n",
      "Test loss: 0.79823, Test R2: 0.00940\n",
      "\n",
      "Epoch 15:\n"
     ]
    },
    {
     "name": "stderr",
     "output_type": "stream",
     "text": [
      "Training: 100%|██████████| 18964/18964 [00:31<00:00, 603.10it/s, Loss=2.09, rmse=0.818, R²=0.0261]\n",
      "Testing: 100%|██████████| 676/676 [00:00<00:00, 860.42it/s, Loss=0.759, R²=0.00939]\n"
     ]
    },
    {
     "name": "stdout",
     "output_type": "stream",
     "text": [
      "Train rmse: 0.81872, Train R2: 0.02612, Train loss: 2.08949\n",
      "Test loss: 0.79833, Test R2: 0.00917\n",
      "\n",
      "Best Epoch: 13, Best Test R2: 0.00942\n"
     ]
    },
    {
     "name": "stderr",
     "output_type": "stream",
     "text": [
      "/home/mt/miniconda3/envs/tabm/lib/python3.10/site-packages/wandb/sdk/lib/ipython.py:89: DeprecationWarning: Importing display from IPython.core.display is deprecated since IPython 7.14, please import from IPython display\n",
      "  from IPython.core.display import display\n"
     ]
    },
    {
     "data": {
      "application/vnd.jupyter.widget-view+json": {
       "model_id": "2d1a73dbdbc6415783aa2bbcc12194f2",
       "version_major": 2,
       "version_minor": 0
      },
      "text/plain": [
       "VBox(children=(Label(value='0.004 MB of 0.004 MB uploaded\\r'), FloatProgress(value=1.0, max=1.0)))"
      ]
     },
     "metadata": {},
     "output_type": "display_data"
    },
    {
     "name": "stderr",
     "output_type": "stream",
     "text": [
      "/home/mt/miniconda3/envs/tabm/lib/python3.10/site-packages/wandb/sdk/lib/ipython.py:77: DeprecationWarning: Importing display from IPython.core.display is deprecated since IPython 7.14, please import from IPython display\n",
      "  from IPython.core.display import HTML, display  # type: ignore\n"
     ]
    },
    {
     "data": {
      "text/html": [
       "<style>\n",
       "    table.wandb td:nth-child(1) { padding: 0 10px; text-align: left ; width: auto;} td:nth-child(2) {text-align: left ; width: 100%}\n",
       "    .wandb-row { display: flex; flex-direction: row; flex-wrap: wrap; justify-content: flex-start; width: 100% }\n",
       "    .wandb-col { display: flex; flex-direction: column; flex-basis: 100%; flex: 1; padding: 10px; }\n",
       "    </style>\n",
       "<div class=\"wandb-row\"><div class=\"wandb-col\"><h3>Run history:</h3><br/><table class=\"wandb\"><tr><td>epoch</td><td>▁▁▂▃▃▃▄▅▅▅▆▇▇▇█</td></tr><tr><td>test_loss</td><td>█▇█▅▅▄▄▃▃▂▁▂▁▁▂</td></tr><tr><td>test_r2</td><td>▁▂▁▄▄▅▅▆▆▇█▇██▇</td></tr><tr><td>train_loss</td><td>█▆▅▄▄▃▃▃▂▂▂▂▂▁▁</td></tr><tr><td>train_r2</td><td>▁▃▄▅▅▆▆▆▆▇▇▇▇██</td></tr><tr><td>train_rmse</td><td>█▆▅▄▄▃▃▃▃▂▂▂▂▁▁</td></tr></table><br/></div><div class=\"wandb-col\"><h3>Run summary:</h3><br/><table class=\"wandb\"><tr><td>best_test_r2</td><td>0.00942</td></tr><tr><td>best_train_r2</td><td>0.02612</td></tr><tr><td>epoch</td><td>15</td></tr><tr><td>test_loss</td><td>0.79833</td></tr><tr><td>test_r2</td><td>0.00917</td></tr><tr><td>train_loss</td><td>2.08949</td></tr><tr><td>train_r2</td><td>0.02612</td></tr><tr><td>train_rmse</td><td>0.81872</td></tr></table><br/></div></div>"
      ],
      "text/plain": [
       "<IPython.core.display.HTML object>"
      ]
     },
     "metadata": {},
     "output_type": "display_data"
    },
    {
     "data": {
      "text/html": [
       " View run <strong style=\"color:#cdcd00\">sweet-sweep-18</strong> at: <a href='https://wandb.ai/turkenm/js_tabm/runs/rx19nlmg' target=\"_blank\">https://wandb.ai/turkenm/js_tabm/runs/rx19nlmg</a><br/> View project at: <a href='https://wandb.ai/turkenm/js_tabm' target=\"_blank\">https://wandb.ai/turkenm/js_tabm</a><br/>Synced 6 W&B file(s), 0 media file(s), 0 artifact file(s) and 0 other file(s)"
      ],
      "text/plain": [
       "<IPython.core.display.HTML object>"
      ]
     },
     "metadata": {},
     "output_type": "display_data"
    },
    {
     "data": {
      "text/html": [
       "Find logs at: <code>./wandb/run-20250112_190351-rx19nlmg/logs</code>"
      ],
      "text/plain": [
       "<IPython.core.display.HTML object>"
      ]
     },
     "metadata": {},
     "output_type": "display_data"
    },
    {
     "name": "stderr",
     "output_type": "stream",
     "text": [
      "\u001b[34m\u001b[1mwandb\u001b[0m: Agent Starting Run: yln6z52h with config:\n",
      "\u001b[34m\u001b[1mwandb\u001b[0m: \td_block: 64\n",
      "\u001b[34m\u001b[1mwandb\u001b[0m: \tdrop_out: 0.15\n",
      "\u001b[34m\u001b[1mwandb\u001b[0m: \tlearning_rate: 0.0002\n",
      "\u001b[34m\u001b[1mwandb\u001b[0m: \tmodel_arch: tabm-mini\n",
      "\u001b[34m\u001b[1mwandb\u001b[0m: \tn_block: 3\n",
      "\u001b[34m\u001b[1mwandb\u001b[0m: \tn_k: 32\n",
      "\u001b[34m\u001b[1mwandb\u001b[0m: \tweight_decay: 0.0001\n",
      "Failed to detect the name of this notebook, you can set it manually with the WANDB_NOTEBOOK_NAME environment variable to enable code saving.\n",
      "/home/mt/miniconda3/envs/tabm/lib/python3.10/site-packages/wandb/sdk/wandb_setup.py:254: ResourceWarning: unclosed file <_io.TextIOWrapper name='/home/mt/Desktop/JaneStreet-Comp/wandb/sweep-mtpap5fv/config-yln6z52h.yaml' mode='r' encoding='UTF-8'>\n",
      "  self._sweep_config = config_util.dict_from_config_file(\n",
      "ResourceWarning: Enable tracemalloc to get the object allocation traceback\n"
     ]
    },
    {
     "data": {
      "text/html": [
       "wandb version 0.19.2 is available!  To upgrade, please run:\n",
       " $ pip install wandb --upgrade"
      ],
      "text/plain": [
       "<IPython.core.display.HTML object>"
      ]
     },
     "metadata": {},
     "output_type": "display_data"
    },
    {
     "data": {
      "text/html": [
       "Tracking run with wandb version 0.16.6"
      ],
      "text/plain": [
       "<IPython.core.display.HTML object>"
      ]
     },
     "metadata": {},
     "output_type": "display_data"
    },
    {
     "data": {
      "text/html": [
       "Run data is saved locally in <code>/home/mt/Desktop/JaneStreet-Comp/wandb/run-20250112_191210-yln6z52h</code>"
      ],
      "text/plain": [
       "<IPython.core.display.HTML object>"
      ]
     },
     "metadata": {},
     "output_type": "display_data"
    },
    {
     "data": {
      "text/html": [
       "Syncing run <strong><a href='https://wandb.ai/turkenm/js_tabm/runs/yln6z52h' target=\"_blank\">mild-sweep-19</a></strong> to <a href='https://wandb.ai/turkenm/js_tabm' target=\"_blank\">Weights & Biases</a> (<a href='https://wandb.me/run' target=\"_blank\">docs</a>)<br/>Sweep page: <a href='https://wandb.ai/turkenm/js_tabm/sweeps/mtpap5fv' target=\"_blank\">https://wandb.ai/turkenm/js_tabm/sweeps/mtpap5fv</a>"
      ],
      "text/plain": [
       "<IPython.core.display.HTML object>"
      ]
     },
     "metadata": {},
     "output_type": "display_data"
    },
    {
     "data": {
      "text/html": [
       " View project at <a href='https://wandb.ai/turkenm/js_tabm' target=\"_blank\">https://wandb.ai/turkenm/js_tabm</a>"
      ],
      "text/plain": [
       "<IPython.core.display.HTML object>"
      ]
     },
     "metadata": {},
     "output_type": "display_data"
    },
    {
     "data": {
      "text/html": [
       " View sweep at <a href='https://wandb.ai/turkenm/js_tabm/sweeps/mtpap5fv' target=\"_blank\">https://wandb.ai/turkenm/js_tabm/sweeps/mtpap5fv</a>"
      ],
      "text/plain": [
       "<IPython.core.display.HTML object>"
      ]
     },
     "metadata": {},
     "output_type": "display_data"
    },
    {
     "data": {
      "text/html": [
       " View run at <a href='https://wandb.ai/turkenm/js_tabm/runs/yln6z52h' target=\"_blank\">https://wandb.ai/turkenm/js_tabm/runs/yln6z52h</a>"
      ],
      "text/plain": [
       "<IPython.core.display.HTML object>"
      ]
     },
     "metadata": {},
     "output_type": "display_data"
    },
    {
     "name": "stdout",
     "output_type": "stream",
     "text": [
      "EXPERIMENT exp_tabm-mini_dblocks_64_nblocks_3_LR_2e-04_BS_1024_DR_0.15_k_32_id_98333\n",
      "\n",
      "\n",
      "Epoch 1:\n"
     ]
    },
    {
     "name": "stderr",
     "output_type": "stream",
     "text": [
      "Training: 100%|██████████| 18964/18964 [00:44<00:00, 422.96it/s, Loss=2.11, rmse=0.824, R²=0.0105] \n",
      "Testing: 100%|██████████| 676/676 [00:01<00:00, 542.98it/s, Loss=0.76, R²=0.00689] \n"
     ]
    },
    {
     "name": "stdout",
     "output_type": "stream",
     "text": [
      "Train rmse: 0.82526, Train R2: 0.01050, Train loss: 2.11390\n",
      "Test loss: 0.79931, Test R2: 0.00674\n",
      "Model Saved - Epoch 1 - Test R2: 0.00674\n",
      "\n",
      "\n",
      "Epoch 2:\n"
     ]
    },
    {
     "name": "stderr",
     "output_type": "stream",
     "text": [
      "Training: 100%|██████████| 18964/18964 [00:44<00:00, 424.26it/s, Loss=2.11, rmse=0.822, R²=0.0151]\n",
      "Testing: 100%|██████████| 676/676 [00:01<00:00, 545.51it/s, Loss=0.76, R²=0.00743] \n"
     ]
    },
    {
     "name": "stdout",
     "output_type": "stream",
     "text": [
      "Train rmse: 0.82336, Train R2: 0.01505, Train loss: 2.10666\n",
      "Test loss: 0.79909, Test R2: 0.00727\n",
      "Model Saved - Epoch 2 - Test R2: 0.00727\n",
      "\n",
      "\n",
      "Epoch 3:\n"
     ]
    },
    {
     "name": "stderr",
     "output_type": "stream",
     "text": [
      "Training: 100%|██████████| 18964/18964 [00:44<00:00, 423.03it/s, Loss=2.1, rmse=0.821, R²=0.0169]\n",
      "Testing: 100%|██████████| 676/676 [00:01<00:00, 544.68it/s, Loss=0.76, R²=0.00794] \n"
     ]
    },
    {
     "name": "stdout",
     "output_type": "stream",
     "text": [
      "Train rmse: 0.82260, Train R2: 0.01687, Train loss: 2.10369\n",
      "Test loss: 0.79888, Test R2: 0.00779\n",
      "Model Saved - Epoch 3 - Test R2: 0.00779\n",
      "\n",
      "\n",
      "Epoch 4:\n"
     ]
    },
    {
     "name": "stderr",
     "output_type": "stream",
     "text": [
      "Training:   6%|▋         | 1214/18964 [00:02<00:40, 439.59it/s, Loss=2.09, rmse=0.82, R²=0.0177]/home/mt/miniconda3/envs/tabm/lib/python3.10/site-packages/torch/nn/functional.py:1425: ResourceWarning: unclosed <socket.socket fd=111, family=AddressFamily.AF_INET, type=SocketKind.SOCK_STREAM, proto=0, laddr=('127.0.0.1', 59878), raddr=('127.0.0.1', 47811)>\n",
      "  _VF.dropout_(input, p, training) if inplace else _VF.dropout(input, p, training)\n",
      "ResourceWarning: Enable tracemalloc to get the object allocation traceback\n",
      "Training: 100%|██████████| 18964/18964 [00:44<00:00, 421.80it/s, Loss=2.1, rmse=0.821, R²=0.018] \n",
      "Testing: 100%|██████████| 676/676 [00:01<00:00, 544.39it/s, Loss=0.76, R²=0.00755] \n"
     ]
    },
    {
     "name": "stdout",
     "output_type": "stream",
     "text": [
      "Train rmse: 0.82211, Train R2: 0.01802, Train loss: 2.10176\n",
      "Test loss: 0.79902, Test R2: 0.00745\n",
      "\n",
      "Epoch 5:\n"
     ]
    },
    {
     "name": "stderr",
     "output_type": "stream",
     "text": [
      "Training: 100%|██████████| 18964/18964 [00:44<00:00, 422.55it/s, Loss=2.1, rmse=0.821, R²=0.019] \n",
      "Testing: 100%|██████████| 676/676 [00:01<00:00, 545.47it/s, Loss=0.76, R²=0.00806] \n"
     ]
    },
    {
     "name": "stdout",
     "output_type": "stream",
     "text": [
      "Train rmse: 0.82171, Train R2: 0.01897, Train loss: 2.10017\n",
      "Test loss: 0.79884, Test R2: 0.00791\n",
      "Model Saved - Epoch 5 - Test R2: 0.00791\n",
      "\n",
      "\n",
      "Epoch 6:\n"
     ]
    },
    {
     "name": "stderr",
     "output_type": "stream",
     "text": [
      "Training: 100%|██████████| 18964/18964 [00:44<00:00, 423.18it/s, Loss=2.1, rmse=0.82, R²=0.0199] \n",
      "Testing: 100%|██████████| 676/676 [00:01<00:00, 543.65it/s, Loss=0.76, R²=0.00794] \n"
     ]
    },
    {
     "name": "stdout",
     "output_type": "stream",
     "text": [
      "Train rmse: 0.82135, Train R2: 0.01986, Train loss: 2.09878\n",
      "Test loss: 0.79888, Test R2: 0.00781\n",
      "\n",
      "Epoch 7:\n"
     ]
    },
    {
     "name": "stderr",
     "output_type": "stream",
     "text": [
      "Training: 100%|██████████| 18964/18964 [00:44<00:00, 422.75it/s, Loss=2.1, rmse=0.82, R²=0.0207]\n",
      "Testing: 100%|██████████| 676/676 [00:01<00:00, 547.22it/s, Loss=0.76, R²=0.00843] \n"
     ]
    },
    {
     "name": "stdout",
     "output_type": "stream",
     "text": [
      "Train rmse: 0.82099, Train R2: 0.02072, Train loss: 2.09740\n",
      "Test loss: 0.79869, Test R2: 0.00828\n",
      "Model Saved - Epoch 7 - Test R2: 0.00828\n",
      "\n",
      "\n",
      "Epoch 8:\n"
     ]
    },
    {
     "name": "stderr",
     "output_type": "stream",
     "text": [
      "Training: 100%|██████████| 18964/18964 [00:44<00:00, 422.38it/s, Loss=2.1, rmse=0.819, R²=0.0216]\n",
      "Testing: 100%|██████████| 676/676 [00:01<00:00, 545.31it/s, Loss=0.76, R²=0.00863] \n"
     ]
    },
    {
     "name": "stdout",
     "output_type": "stream",
     "text": [
      "Train rmse: 0.82063, Train R2: 0.02155, Train loss: 2.09610\n",
      "Test loss: 0.79861, Test R2: 0.00847\n",
      "Model Saved - Epoch 8 - Test R2: 0.00847\n",
      "\n",
      "\n",
      "Epoch 9:\n"
     ]
    },
    {
     "name": "stderr",
     "output_type": "stream",
     "text": [
      "Training: 100%|██████████| 18964/18964 [00:44<00:00, 423.49it/s, Loss=2.09, rmse=0.819, R²=0.0226]\n",
      "Testing: 100%|██████████| 676/676 [00:01<00:00, 547.23it/s, Loss=0.76, R²=0.00836] \n"
     ]
    },
    {
     "name": "stdout",
     "output_type": "stream",
     "text": [
      "Train rmse: 0.82020, Train R2: 0.02259, Train loss: 2.09448\n",
      "Test loss: 0.79871, Test R2: 0.00823\n",
      "\n",
      "Epoch 10:\n"
     ]
    },
    {
     "name": "stderr",
     "output_type": "stream",
     "text": [
      "Training: 100%|██████████| 18964/18964 [00:44<00:00, 425.56it/s, Loss=2.09, rmse=0.819, R²=0.0238]\n",
      "Testing: 100%|██████████| 676/676 [00:01<00:00, 546.31it/s, Loss=0.76, R²=0.00896] \n"
     ]
    },
    {
     "name": "stdout",
     "output_type": "stream",
     "text": [
      "Train rmse: 0.81968, Train R2: 0.02382, Train loss: 2.09247\n",
      "Test loss: 0.79850, Test R2: 0.00874\n",
      "Model Saved - Epoch 10 - Test R2: 0.00874\n",
      "\n",
      "\n",
      "Epoch 11:\n"
     ]
    },
    {
     "name": "stderr",
     "output_type": "stream",
     "text": [
      "Training: 100%|██████████| 18964/18964 [00:44<00:00, 424.91it/s, Loss=2.09, rmse=0.818, R²=0.025] \n",
      "Testing: 100%|██████████| 676/676 [00:01<00:00, 545.06it/s, Loss=0.76, R²=0.00906] \n"
     ]
    },
    {
     "name": "stdout",
     "output_type": "stream",
     "text": [
      "Train rmse: 0.81920, Train R2: 0.02498, Train loss: 2.09068\n",
      "Test loss: 0.79846, Test R2: 0.00885\n",
      "Model Saved - Epoch 11 - Test R2: 0.00885\n",
      "\n",
      "\n",
      "Epoch 12:\n"
     ]
    },
    {
     "name": "stderr",
     "output_type": "stream",
     "text": [
      "Training: 100%|██████████| 18964/18964 [00:44<00:00, 423.32it/s, Loss=2.09, rmse=0.818, R²=0.0261]\n",
      "Testing: 100%|██████████| 676/676 [00:01<00:00, 545.41it/s, Loss=0.759, R²=0.00947]\n"
     ]
    },
    {
     "name": "stdout",
     "output_type": "stream",
     "text": [
      "Train rmse: 0.81876, Train R2: 0.02603, Train loss: 2.08908\n",
      "Test loss: 0.79830, Test R2: 0.00925\n",
      "Model Saved - Epoch 12 - Test R2: 0.00925\n",
      "\n",
      "\n",
      "Epoch 13:\n"
     ]
    },
    {
     "name": "stderr",
     "output_type": "stream",
     "text": [
      "Training: 100%|██████████| 18964/18964 [00:44<00:00, 423.24it/s, Loss=2.09, rmse=0.817, R²=0.0271]\n",
      "Testing: 100%|██████████| 676/676 [00:01<00:00, 546.97it/s, Loss=0.759, R²=0.00924]\n"
     ]
    },
    {
     "name": "stdout",
     "output_type": "stream",
     "text": [
      "Train rmse: 0.81832, Train R2: 0.02706, Train loss: 2.08739\n",
      "Test loss: 0.79840, Test R2: 0.00900\n",
      "\n",
      "Epoch 14:\n"
     ]
    },
    {
     "name": "stderr",
     "output_type": "stream",
     "text": [
      "Training: 100%|██████████| 18964/18964 [00:44<00:00, 425.06it/s, Loss=2.09, rmse=0.817, R²=0.0282]\n",
      "Testing: 100%|██████████| 676/676 [00:01<00:00, 544.56it/s, Loss=0.759, R²=0.00928]\n"
     ]
    },
    {
     "name": "stdout",
     "output_type": "stream",
     "text": [
      "Train rmse: 0.81785, Train R2: 0.02817, Train loss: 2.08550\n",
      "Test loss: 0.79839, Test R2: 0.00901\n",
      "\n",
      "Epoch 15:\n"
     ]
    },
    {
     "name": "stderr",
     "output_type": "stream",
     "text": [
      "Training: 100%|██████████| 18964/18964 [00:44<00:00, 423.78it/s, Loss=2.08, rmse=0.816, R²=0.0294]\n",
      "Testing: 100%|██████████| 676/676 [00:01<00:00, 546.75it/s, Loss=0.759, R²=0.0093] \n"
     ]
    },
    {
     "name": "stdout",
     "output_type": "stream",
     "text": [
      "Train rmse: 0.81733, Train R2: 0.02941, Train loss: 2.08339\n",
      "Test loss: 0.79836, Test R2: 0.00910\n",
      "\n",
      "Best Epoch: 12, Best Test R2: 0.00925\n"
     ]
    },
    {
     "name": "stderr",
     "output_type": "stream",
     "text": [
      "/home/mt/miniconda3/envs/tabm/lib/python3.10/site-packages/wandb/sdk/lib/ipython.py:89: DeprecationWarning: Importing display from IPython.core.display is deprecated since IPython 7.14, please import from IPython display\n",
      "  from IPython.core.display import display\n"
     ]
    },
    {
     "data": {
      "application/vnd.jupyter.widget-view+json": {
       "model_id": "3344d4a8005a416d87185843efd17154",
       "version_major": 2,
       "version_minor": 0
      },
      "text/plain": [
       "VBox(children=(Label(value='0.004 MB of 0.004 MB uploaded\\r'), FloatProgress(value=1.0, max=1.0)))"
      ]
     },
     "metadata": {},
     "output_type": "display_data"
    },
    {
     "name": "stderr",
     "output_type": "stream",
     "text": [
      "/home/mt/miniconda3/envs/tabm/lib/python3.10/site-packages/wandb/sdk/lib/ipython.py:77: DeprecationWarning: Importing display from IPython.core.display is deprecated since IPython 7.14, please import from IPython display\n",
      "  from IPython.core.display import HTML, display  # type: ignore\n"
     ]
    },
    {
     "data": {
      "text/html": [
       "<style>\n",
       "    table.wandb td:nth-child(1) { padding: 0 10px; text-align: left ; width: auto;} td:nth-child(2) {text-align: left ; width: 100%}\n",
       "    .wandb-row { display: flex; flex-direction: row; flex-wrap: wrap; justify-content: flex-start; width: 100% }\n",
       "    .wandb-col { display: flex; flex-direction: column; flex-basis: 100%; flex: 1; padding: 10px; }\n",
       "    </style>\n",
       "<div class=\"wandb-row\"><div class=\"wandb-col\"><h3>Run history:</h3><br/><table class=\"wandb\"><tr><td>epoch</td><td>▁▁▂▃▃▃▄▅▅▅▆▇▇▇█</td></tr><tr><td>test_loss</td><td>█▇▅▆▅▅▄▃▄▂▂▁▂▂▁</td></tr><tr><td>test_r2</td><td>▁▂▄▃▄▄▅▆▅▇▇█▇▇█</td></tr><tr><td>train_loss</td><td>█▆▆▅▅▅▄▄▄▃▃▂▂▁▁</td></tr><tr><td>train_r2</td><td>▁▃▃▄▄▄▅▅▅▆▆▇▇██</td></tr><tr><td>train_rmse</td><td>█▆▆▅▅▅▄▄▄▃▃▂▂▁▁</td></tr></table><br/></div><div class=\"wandb-col\"><h3>Run summary:</h3><br/><table class=\"wandb\"><tr><td>best_test_r2</td><td>0.00925</td></tr><tr><td>best_train_r2</td><td>0.02941</td></tr><tr><td>epoch</td><td>15</td></tr><tr><td>test_loss</td><td>0.79836</td></tr><tr><td>test_r2</td><td>0.0091</td></tr><tr><td>train_loss</td><td>2.08339</td></tr><tr><td>train_r2</td><td>0.02941</td></tr><tr><td>train_rmse</td><td>0.81733</td></tr></table><br/></div></div>"
      ],
      "text/plain": [
       "<IPython.core.display.HTML object>"
      ]
     },
     "metadata": {},
     "output_type": "display_data"
    },
    {
     "data": {
      "text/html": [
       " View run <strong style=\"color:#cdcd00\">mild-sweep-19</strong> at: <a href='https://wandb.ai/turkenm/js_tabm/runs/yln6z52h' target=\"_blank\">https://wandb.ai/turkenm/js_tabm/runs/yln6z52h</a><br/> View project at: <a href='https://wandb.ai/turkenm/js_tabm' target=\"_blank\">https://wandb.ai/turkenm/js_tabm</a><br/>Synced 6 W&B file(s), 0 media file(s), 0 artifact file(s) and 0 other file(s)"
      ],
      "text/plain": [
       "<IPython.core.display.HTML object>"
      ]
     },
     "metadata": {},
     "output_type": "display_data"
    },
    {
     "data": {
      "text/html": [
       "Find logs at: <code>./wandb/run-20250112_191210-yln6z52h/logs</code>"
      ],
      "text/plain": [
       "<IPython.core.display.HTML object>"
      ]
     },
     "metadata": {},
     "output_type": "display_data"
    },
    {
     "name": "stderr",
     "output_type": "stream",
     "text": [
      "\u001b[34m\u001b[1mwandb\u001b[0m: Agent Starting Run: do9wj65i with config:\n",
      "\u001b[34m\u001b[1mwandb\u001b[0m: \td_block: 64\n",
      "\u001b[34m\u001b[1mwandb\u001b[0m: \tdrop_out: 0.15\n",
      "\u001b[34m\u001b[1mwandb\u001b[0m: \tlearning_rate: 0.0002\n",
      "\u001b[34m\u001b[1mwandb\u001b[0m: \tmodel_arch: tabm-mini\n",
      "\u001b[34m\u001b[1mwandb\u001b[0m: \tn_block: 3\n",
      "\u001b[34m\u001b[1mwandb\u001b[0m: \tn_k: 32\n",
      "\u001b[34m\u001b[1mwandb\u001b[0m: \tweight_decay: 0.0002\n",
      "Failed to detect the name of this notebook, you can set it manually with the WANDB_NOTEBOOK_NAME environment variable to enable code saving.\n",
      "/home/mt/miniconda3/envs/tabm/lib/python3.10/site-packages/wandb/sdk/wandb_setup.py:254: ResourceWarning: unclosed file <_io.TextIOWrapper name='/home/mt/Desktop/JaneStreet-Comp/wandb/sweep-mtpap5fv/config-do9wj65i.yaml' mode='r' encoding='UTF-8'>\n",
      "  self._sweep_config = config_util.dict_from_config_file(\n",
      "ResourceWarning: Enable tracemalloc to get the object allocation traceback\n"
     ]
    },
    {
     "data": {
      "text/html": [
       "wandb version 0.19.2 is available!  To upgrade, please run:\n",
       " $ pip install wandb --upgrade"
      ],
      "text/plain": [
       "<IPython.core.display.HTML object>"
      ]
     },
     "metadata": {},
     "output_type": "display_data"
    },
    {
     "data": {
      "text/html": [
       "Tracking run with wandb version 0.16.6"
      ],
      "text/plain": [
       "<IPython.core.display.HTML object>"
      ]
     },
     "metadata": {},
     "output_type": "display_data"
    },
    {
     "data": {
      "text/html": [
       "Run data is saved locally in <code>/home/mt/Desktop/JaneStreet-Comp/wandb/run-20250112_192356-do9wj65i</code>"
      ],
      "text/plain": [
       "<IPython.core.display.HTML object>"
      ]
     },
     "metadata": {},
     "output_type": "display_data"
    },
    {
     "data": {
      "text/html": [
       "Syncing run <strong><a href='https://wandb.ai/turkenm/js_tabm/runs/do9wj65i' target=\"_blank\">sage-sweep-20</a></strong> to <a href='https://wandb.ai/turkenm/js_tabm' target=\"_blank\">Weights & Biases</a> (<a href='https://wandb.me/run' target=\"_blank\">docs</a>)<br/>Sweep page: <a href='https://wandb.ai/turkenm/js_tabm/sweeps/mtpap5fv' target=\"_blank\">https://wandb.ai/turkenm/js_tabm/sweeps/mtpap5fv</a>"
      ],
      "text/plain": [
       "<IPython.core.display.HTML object>"
      ]
     },
     "metadata": {},
     "output_type": "display_data"
    },
    {
     "data": {
      "text/html": [
       " View project at <a href='https://wandb.ai/turkenm/js_tabm' target=\"_blank\">https://wandb.ai/turkenm/js_tabm</a>"
      ],
      "text/plain": [
       "<IPython.core.display.HTML object>"
      ]
     },
     "metadata": {},
     "output_type": "display_data"
    },
    {
     "data": {
      "text/html": [
       " View sweep at <a href='https://wandb.ai/turkenm/js_tabm/sweeps/mtpap5fv' target=\"_blank\">https://wandb.ai/turkenm/js_tabm/sweeps/mtpap5fv</a>"
      ],
      "text/plain": [
       "<IPython.core.display.HTML object>"
      ]
     },
     "metadata": {},
     "output_type": "display_data"
    },
    {
     "data": {
      "text/html": [
       " View run at <a href='https://wandb.ai/turkenm/js_tabm/runs/do9wj65i' target=\"_blank\">https://wandb.ai/turkenm/js_tabm/runs/do9wj65i</a>"
      ],
      "text/plain": [
       "<IPython.core.display.HTML object>"
      ]
     },
     "metadata": {},
     "output_type": "display_data"
    },
    {
     "name": "stdout",
     "output_type": "stream",
     "text": [
      "EXPERIMENT exp_tabm-mini_dblocks_64_nblocks_3_LR_2e-04_BS_1024_DR_0.15_k_32_id_99039\n",
      "\n",
      "\n",
      "Epoch 1:\n"
     ]
    },
    {
     "name": "stderr",
     "output_type": "stream",
     "text": [
      "Training: 100%|██████████| 18964/18964 [00:44<00:00, 423.41it/s, Loss=2.11, rmse=0.824, R²=0.0106] \n",
      "Testing: 100%|██████████| 676/676 [00:01<00:00, 544.00it/s, Loss=0.76, R²=0.00683] \n"
     ]
    },
    {
     "name": "stdout",
     "output_type": "stream",
     "text": [
      "Train rmse: 0.82519, Train R2: 0.01065, Train loss: 2.11373\n",
      "Test loss: 0.79933, Test R2: 0.00667\n",
      "Model Saved - Epoch 1 - Test R2: 0.00667\n",
      "\n",
      "\n",
      "Epoch 2:\n"
     ]
    },
    {
     "name": "stderr",
     "output_type": "stream",
     "text": [
      "Training: 100%|██████████| 18964/18964 [00:44<00:00, 423.32it/s, Loss=2.11, rmse=0.822, R²=0.0152]\n",
      "Testing: 100%|██████████| 676/676 [00:01<00:00, 546.63it/s, Loss=0.76, R²=0.00737] \n"
     ]
    },
    {
     "name": "stdout",
     "output_type": "stream",
     "text": [
      "Train rmse: 0.82328, Train R2: 0.01523, Train loss: 2.10650\n",
      "Test loss: 0.79910, Test R2: 0.00726\n",
      "Model Saved - Epoch 2 - Test R2: 0.00726\n",
      "\n",
      "\n",
      "Epoch 3:\n"
     ]
    },
    {
     "name": "stderr",
     "output_type": "stream",
     "text": [
      "Training: 100%|██████████| 18964/18964 [00:44<00:00, 423.26it/s, Loss=2.1, rmse=0.821, R²=0.0171] \n",
      "Testing: 100%|██████████| 676/676 [00:01<00:00, 545.42it/s, Loss=0.76, R²=0.00778] \n"
     ]
    },
    {
     "name": "stdout",
     "output_type": "stream",
     "text": [
      "Train rmse: 0.82250, Train R2: 0.01710, Train loss: 2.10336\n",
      "Test loss: 0.79895, Test R2: 0.00763\n",
      "Model Saved - Epoch 3 - Test R2: 0.00763\n",
      "\n",
      "\n",
      "Epoch 4:\n"
     ]
    },
    {
     "name": "stderr",
     "output_type": "stream",
     "text": [
      "Training:   6%|▌         | 1080/18964 [00:02<00:40, 445.71it/s, Loss=2.1, rmse=0.82, R²=0.0186]/home/mt/miniconda3/envs/tabm/lib/python3.10/site-packages/torch/nn/functional.py:1425: ResourceWarning: unclosed <socket.socket fd=108, family=AddressFamily.AF_INET, type=SocketKind.SOCK_STREAM, proto=0, laddr=('127.0.0.1', 60420), raddr=('127.0.0.1', 50877)>\n",
      "  _VF.dropout_(input, p, training) if inplace else _VF.dropout(input, p, training)\n",
      "ResourceWarning: Enable tracemalloc to get the object allocation traceback\n",
      "Training: 100%|██████████| 18964/18964 [00:44<00:00, 422.43it/s, Loss=2.1, rmse=0.821, R²=0.0183]\n",
      "Testing: 100%|██████████| 676/676 [00:01<00:00, 545.28it/s, Loss=0.76, R²=0.0077]  \n"
     ]
    },
    {
     "name": "stdout",
     "output_type": "stream",
     "text": [
      "Train rmse: 0.82199, Train R2: 0.01832, Train loss: 2.10124\n",
      "Test loss: 0.79897, Test R2: 0.00759\n",
      "\n",
      "Epoch 5:\n"
     ]
    },
    {
     "name": "stderr",
     "output_type": "stream",
     "text": [
      "Training: 100%|██████████| 18964/18964 [00:44<00:00, 422.97it/s, Loss=2.1, rmse=0.82, R²=0.0194]\n",
      "Testing: 100%|██████████| 676/676 [00:01<00:00, 544.91it/s, Loss=0.76, R²=0.0083]  \n"
     ]
    },
    {
     "name": "stdout",
     "output_type": "stream",
     "text": [
      "Train rmse: 0.82156, Train R2: 0.01934, Train loss: 2.09960\n",
      "Test loss: 0.79874, Test R2: 0.00814\n",
      "Model Saved - Epoch 5 - Test R2: 0.00814\n",
      "\n",
      "\n",
      "Epoch 6:\n"
     ]
    },
    {
     "name": "stderr",
     "output_type": "stream",
     "text": [
      "Training: 100%|██████████| 18964/18964 [00:44<00:00, 425.05it/s, Loss=2.1, rmse=0.82, R²=0.0203] \n",
      "Testing: 100%|██████████| 676/676 [00:01<00:00, 546.01it/s, Loss=0.76, R²=0.0084]  \n"
     ]
    },
    {
     "name": "stdout",
     "output_type": "stream",
     "text": [
      "Train rmse: 0.82114, Train R2: 0.02034, Train loss: 2.09798\n",
      "Test loss: 0.79871, Test R2: 0.00823\n",
      "Model Saved - Epoch 6 - Test R2: 0.00823\n",
      "\n",
      "\n",
      "Epoch 7:\n"
     ]
    },
    {
     "name": "stderr",
     "output_type": "stream",
     "text": [
      "Training: 100%|██████████| 18964/18964 [00:44<00:00, 423.32it/s, Loss=2.1, rmse=0.82, R²=0.0213] \n",
      "Testing: 100%|██████████| 676/676 [00:01<00:00, 544.96it/s, Loss=0.76, R²=0.00863] \n"
     ]
    },
    {
     "name": "stdout",
     "output_type": "stream",
     "text": [
      "Train rmse: 0.82072, Train R2: 0.02134, Train loss: 2.09653\n",
      "Test loss: 0.79861, Test R2: 0.00846\n",
      "Model Saved - Epoch 7 - Test R2: 0.00846\n",
      "\n",
      "\n",
      "Epoch 8:\n"
     ]
    },
    {
     "name": "stderr",
     "output_type": "stream",
     "text": [
      "Training: 100%|██████████| 18964/18964 [00:44<00:00, 423.34it/s, Loss=2.09, rmse=0.819, R²=0.0223]\n",
      "Testing: 100%|██████████| 676/676 [00:01<00:00, 545.65it/s, Loss=0.76, R²=0.0087]  \n"
     ]
    },
    {
     "name": "stdout",
     "output_type": "stream",
     "text": [
      "Train rmse: 0.82032, Train R2: 0.02229, Train loss: 2.09501\n",
      "Test loss: 0.79859, Test R2: 0.00851\n",
      "Model Saved - Epoch 8 - Test R2: 0.00851\n",
      "\n",
      "\n",
      "Epoch 9:\n"
     ]
    },
    {
     "name": "stderr",
     "output_type": "stream",
     "text": [
      "Training: 100%|██████████| 18964/18964 [00:45<00:00, 416.96it/s, Loss=2.09, rmse=0.819, R²=0.0233]\n",
      "Testing: 100%|██████████| 676/676 [00:01<00:00, 535.36it/s, Loss=0.76, R²=0.00866] \n"
     ]
    },
    {
     "name": "stdout",
     "output_type": "stream",
     "text": [
      "Train rmse: 0.81992, Train R2: 0.02326, Train loss: 2.09357\n",
      "Test loss: 0.79861, Test R2: 0.00846\n",
      "\n",
      "Epoch 10:\n"
     ]
    },
    {
     "name": "stderr",
     "output_type": "stream",
     "text": [
      "Training: 100%|██████████| 18964/18964 [00:45<00:00, 417.65it/s, Loss=2.09, rmse=0.818, R²=0.0242]\n",
      "Testing: 100%|██████████| 676/676 [00:01<00:00, 527.12it/s, Loss=0.76, R²=0.00864] \n"
     ]
    },
    {
     "name": "stdout",
     "output_type": "stream",
     "text": [
      "Train rmse: 0.81954, Train R2: 0.02416, Train loss: 2.09225\n",
      "Test loss: 0.79862, Test R2: 0.00844\n",
      "\n",
      "Epoch 11:\n"
     ]
    },
    {
     "name": "stderr",
     "output_type": "stream",
     "text": [
      "Training: 100%|██████████| 18964/18964 [00:46<00:00, 411.38it/s, Loss=2.09, rmse=0.818, R²=0.0251]\n",
      "Testing: 100%|██████████| 676/676 [00:01<00:00, 530.79it/s, Loss=0.76, R²=0.00879] \n"
     ]
    },
    {
     "name": "stdout",
     "output_type": "stream",
     "text": [
      "Train rmse: 0.81914, Train R2: 0.02510, Train loss: 2.09078\n",
      "Test loss: 0.79856, Test R2: 0.00859\n",
      "Model Saved - Epoch 11 - Test R2: 0.00859\n",
      "\n",
      "\n",
      "Epoch 12:\n"
     ]
    },
    {
     "name": "stderr",
     "output_type": "stream",
     "text": [
      "Training: 100%|██████████| 18964/18964 [00:45<00:00, 414.67it/s, Loss=2.09, rmse=0.818, R²=0.0259]\n",
      "Testing: 100%|██████████| 676/676 [00:01<00:00, 531.27it/s, Loss=0.76, R²=0.00871] \n"
     ]
    },
    {
     "name": "stdout",
     "output_type": "stream",
     "text": [
      "Train rmse: 0.81880, Train R2: 0.02593, Train loss: 2.08945\n",
      "Test loss: 0.79860, Test R2: 0.00851\n",
      "\n",
      "Epoch 13:\n"
     ]
    },
    {
     "name": "stderr",
     "output_type": "stream",
     "text": [
      "Training: 100%|██████████| 18964/18964 [00:45<00:00, 415.92it/s, Loss=2.09, rmse=0.817, R²=0.0268]\n",
      "Testing: 100%|██████████| 676/676 [00:01<00:00, 529.94it/s, Loss=0.759, R²=0.00919]\n"
     ]
    },
    {
     "name": "stdout",
     "output_type": "stream",
     "text": [
      "Train rmse: 0.81842, Train R2: 0.02682, Train loss: 2.08814\n",
      "Test loss: 0.79842, Test R2: 0.00893\n",
      "Model Saved - Epoch 13 - Test R2: 0.00893\n",
      "\n",
      "\n",
      "Epoch 14:\n"
     ]
    },
    {
     "name": "stderr",
     "output_type": "stream",
     "text": [
      "Training: 100%|██████████| 18964/18964 [00:45<00:00, 414.96it/s, Loss=2.09, rmse=0.817, R²=0.0277]\n",
      "Testing: 100%|██████████| 676/676 [00:01<00:00, 528.70it/s, Loss=0.76, R²=0.00891] \n"
     ]
    },
    {
     "name": "stdout",
     "output_type": "stream",
     "text": [
      "Train rmse: 0.81806, Train R2: 0.02769, Train loss: 2.08679\n",
      "Test loss: 0.79853, Test R2: 0.00866\n",
      "\n",
      "Epoch 15:\n"
     ]
    },
    {
     "name": "stderr",
     "output_type": "stream",
     "text": [
      "Training: 100%|██████████| 18964/18964 [00:45<00:00, 413.09it/s, Loss=2.09, rmse=0.817, R²=0.0285]\n",
      "Testing: 100%|██████████| 676/676 [00:01<00:00, 528.27it/s, Loss=0.76, R²=0.00876] \n"
     ]
    },
    {
     "name": "stdout",
     "output_type": "stream",
     "text": [
      "Train rmse: 0.81770, Train R2: 0.02854, Train loss: 2.08550\n",
      "Test loss: 0.79860, Test R2: 0.00849\n",
      "\n",
      "Best Epoch: 13, Best Test R2: 0.00893\n"
     ]
    },
    {
     "name": "stderr",
     "output_type": "stream",
     "text": [
      "/home/mt/miniconda3/envs/tabm/lib/python3.10/site-packages/wandb/sdk/lib/ipython.py:89: DeprecationWarning: Importing display from IPython.core.display is deprecated since IPython 7.14, please import from IPython display\n",
      "  from IPython.core.display import display\n"
     ]
    },
    {
     "data": {
      "application/vnd.jupyter.widget-view+json": {
       "model_id": "da661a1a73b44e93b7d9f48443b6868a",
       "version_major": 2,
       "version_minor": 0
      },
      "text/plain": [
       "VBox(children=(Label(value='0.004 MB of 0.004 MB uploaded\\r'), FloatProgress(value=1.0, max=1.0)))"
      ]
     },
     "metadata": {},
     "output_type": "display_data"
    },
    {
     "name": "stderr",
     "output_type": "stream",
     "text": [
      "/home/mt/miniconda3/envs/tabm/lib/python3.10/site-packages/wandb/sdk/lib/ipython.py:77: DeprecationWarning: Importing display from IPython.core.display is deprecated since IPython 7.14, please import from IPython display\n",
      "  from IPython.core.display import HTML, display  # type: ignore\n"
     ]
    },
    {
     "data": {
      "text/html": [
       "<style>\n",
       "    table.wandb td:nth-child(1) { padding: 0 10px; text-align: left ; width: auto;} td:nth-child(2) {text-align: left ; width: 100%}\n",
       "    .wandb-row { display: flex; flex-direction: row; flex-wrap: wrap; justify-content: flex-start; width: 100% }\n",
       "    .wandb-col { display: flex; flex-direction: column; flex-basis: 100%; flex: 1; padding: 10px; }\n",
       "    </style>\n",
       "<div class=\"wandb-row\"><div class=\"wandb-col\"><h3>Run history:</h3><br/><table class=\"wandb\"><tr><td>epoch</td><td>▁▁▂▃▃▃▄▅▅▅▆▇▇▇█</td></tr><tr><td>test_loss</td><td>█▆▅▅▃▃▂▂▂▃▂▂▁▂▂</td></tr><tr><td>test_r2</td><td>▁▃▄▄▆▆▇▇▇▆▇▇█▇▇</td></tr><tr><td>train_loss</td><td>█▆▅▅▄▄▄▃▃▃▂▂▂▁▁</td></tr><tr><td>train_r2</td><td>▁▃▄▄▄▅▅▆▆▆▇▇▇██</td></tr><tr><td>train_rmse</td><td>█▆▅▅▅▄▄▃▃▃▂▂▂▁▁</td></tr></table><br/></div><div class=\"wandb-col\"><h3>Run summary:</h3><br/><table class=\"wandb\"><tr><td>best_test_r2</td><td>0.00893</td></tr><tr><td>best_train_r2</td><td>0.02854</td></tr><tr><td>epoch</td><td>15</td></tr><tr><td>test_loss</td><td>0.7986</td></tr><tr><td>test_r2</td><td>0.00849</td></tr><tr><td>train_loss</td><td>2.0855</td></tr><tr><td>train_r2</td><td>0.02854</td></tr><tr><td>train_rmse</td><td>0.8177</td></tr></table><br/></div></div>"
      ],
      "text/plain": [
       "<IPython.core.display.HTML object>"
      ]
     },
     "metadata": {},
     "output_type": "display_data"
    },
    {
     "data": {
      "text/html": [
       " View run <strong style=\"color:#cdcd00\">sage-sweep-20</strong> at: <a href='https://wandb.ai/turkenm/js_tabm/runs/do9wj65i' target=\"_blank\">https://wandb.ai/turkenm/js_tabm/runs/do9wj65i</a><br/> View project at: <a href='https://wandb.ai/turkenm/js_tabm' target=\"_blank\">https://wandb.ai/turkenm/js_tabm</a><br/>Synced 6 W&B file(s), 0 media file(s), 0 artifact file(s) and 0 other file(s)"
      ],
      "text/plain": [
       "<IPython.core.display.HTML object>"
      ]
     },
     "metadata": {},
     "output_type": "display_data"
    },
    {
     "data": {
      "text/html": [
       "Find logs at: <code>./wandb/run-20250112_192356-do9wj65i/logs</code>"
      ],
      "text/plain": [
       "<IPython.core.display.HTML object>"
      ]
     },
     "metadata": {},
     "output_type": "display_data"
    },
    {
     "name": "stderr",
     "output_type": "stream",
     "text": [
      "\u001b[34m\u001b[1mwandb\u001b[0m: Agent Starting Run: uqt19t1n with config:\n",
      "\u001b[34m\u001b[1mwandb\u001b[0m: \td_block: 64\n",
      "\u001b[34m\u001b[1mwandb\u001b[0m: \tdrop_out: 0.15\n",
      "\u001b[34m\u001b[1mwandb\u001b[0m: \tlearning_rate: 0.0001\n",
      "\u001b[34m\u001b[1mwandb\u001b[0m: \tmodel_arch: tabm-mini\n",
      "\u001b[34m\u001b[1mwandb\u001b[0m: \tn_block: 3\n",
      "\u001b[34m\u001b[1mwandb\u001b[0m: \tn_k: 16\n",
      "\u001b[34m\u001b[1mwandb\u001b[0m: \tweight_decay: 0.0001\n",
      "Failed to detect the name of this notebook, you can set it manually with the WANDB_NOTEBOOK_NAME environment variable to enable code saving.\n",
      "/home/mt/miniconda3/envs/tabm/lib/python3.10/site-packages/wandb/sdk/wandb_setup.py:254: ResourceWarning: unclosed file <_io.TextIOWrapper name='/home/mt/Desktop/JaneStreet-Comp/wandb/sweep-mtpap5fv/config-uqt19t1n.yaml' mode='r' encoding='UTF-8'>\n",
      "  self._sweep_config = config_util.dict_from_config_file(\n",
      "ResourceWarning: Enable tracemalloc to get the object allocation traceback\n"
     ]
    },
    {
     "data": {
      "text/html": [
       "wandb version 0.19.2 is available!  To upgrade, please run:\n",
       " $ pip install wandb --upgrade"
      ],
      "text/plain": [
       "<IPython.core.display.HTML object>"
      ]
     },
     "metadata": {},
     "output_type": "display_data"
    },
    {
     "data": {
      "text/html": [
       "Tracking run with wandb version 0.16.6"
      ],
      "text/plain": [
       "<IPython.core.display.HTML object>"
      ]
     },
     "metadata": {},
     "output_type": "display_data"
    },
    {
     "data": {
      "text/html": [
       "Run data is saved locally in <code>/home/mt/Desktop/JaneStreet-Comp/wandb/run-20250112_193547-uqt19t1n</code>"
      ],
      "text/plain": [
       "<IPython.core.display.HTML object>"
      ]
     },
     "metadata": {},
     "output_type": "display_data"
    },
    {
     "data": {
      "text/html": [
       "Syncing run <strong><a href='https://wandb.ai/turkenm/js_tabm/runs/uqt19t1n' target=\"_blank\">worldly-sweep-21</a></strong> to <a href='https://wandb.ai/turkenm/js_tabm' target=\"_blank\">Weights & Biases</a> (<a href='https://wandb.me/run' target=\"_blank\">docs</a>)<br/>Sweep page: <a href='https://wandb.ai/turkenm/js_tabm/sweeps/mtpap5fv' target=\"_blank\">https://wandb.ai/turkenm/js_tabm/sweeps/mtpap5fv</a>"
      ],
      "text/plain": [
       "<IPython.core.display.HTML object>"
      ]
     },
     "metadata": {},
     "output_type": "display_data"
    },
    {
     "data": {
      "text/html": [
       " View project at <a href='https://wandb.ai/turkenm/js_tabm' target=\"_blank\">https://wandb.ai/turkenm/js_tabm</a>"
      ],
      "text/plain": [
       "<IPython.core.display.HTML object>"
      ]
     },
     "metadata": {},
     "output_type": "display_data"
    },
    {
     "data": {
      "text/html": [
       " View sweep at <a href='https://wandb.ai/turkenm/js_tabm/sweeps/mtpap5fv' target=\"_blank\">https://wandb.ai/turkenm/js_tabm/sweeps/mtpap5fv</a>"
      ],
      "text/plain": [
       "<IPython.core.display.HTML object>"
      ]
     },
     "metadata": {},
     "output_type": "display_data"
    },
    {
     "data": {
      "text/html": [
       " View run at <a href='https://wandb.ai/turkenm/js_tabm/runs/uqt19t1n' target=\"_blank\">https://wandb.ai/turkenm/js_tabm/runs/uqt19t1n</a>"
      ],
      "text/plain": [
       "<IPython.core.display.HTML object>"
      ]
     },
     "metadata": {},
     "output_type": "display_data"
    },
    {
     "name": "stdout",
     "output_type": "stream",
     "text": [
      "EXPERIMENT exp_tabm-mini_dblocks_64_nblocks_3_LR_1e-04_BS_1024_DR_0.15_k_16_id_99750\n",
      "\n",
      "\n",
      "Epoch 1:\n"
     ]
    },
    {
     "name": "stderr",
     "output_type": "stream",
     "text": [
      "Training: 100%|██████████| 18964/18964 [00:32<00:00, 590.86it/s, Loss=2.12, rmse=0.825, R²=0.00948]\n",
      "Testing: 100%|██████████| 676/676 [00:00<00:00, 841.75it/s, Loss=0.76, R²=0.00671] \n"
     ]
    },
    {
     "name": "stdout",
     "output_type": "stream",
     "text": [
      "Train rmse: 0.82567, Train R2: 0.00952, Train loss: 2.11531\n",
      "Test loss: 0.79938, Test R2: 0.00656\n",
      "Model Saved - Epoch 1 - Test R2: 0.00656\n",
      "\n",
      "\n",
      "Epoch 2:\n"
     ]
    },
    {
     "name": "stderr",
     "output_type": "stream",
     "text": [
      "Training: 100%|██████████| 18964/18964 [00:32<00:00, 590.48it/s, Loss=2.11, rmse=0.822, R²=0.0145]\n",
      "Testing: 100%|██████████| 676/676 [00:00<00:00, 835.19it/s, Loss=0.76, R²=0.00779] \n"
     ]
    },
    {
     "name": "stdout",
     "output_type": "stream",
     "text": [
      "Train rmse: 0.82359, Train R2: 0.01449, Train loss: 2.10723\n",
      "Test loss: 0.79896, Test R2: 0.00759\n",
      "Model Saved - Epoch 2 - Test R2: 0.00759\n",
      "\n",
      "\n",
      "Epoch 3:\n"
     ]
    },
    {
     "name": "stderr",
     "output_type": "stream",
     "text": [
      "Training: 100%|██████████| 18964/18964 [00:32<00:00, 584.01it/s, Loss=2.1, rmse=0.822, R²=0.0165] \n",
      "Testing: 100%|██████████| 676/676 [00:00<00:00, 844.91it/s, Loss=0.76, R²=0.00824] \n"
     ]
    },
    {
     "name": "stdout",
     "output_type": "stream",
     "text": [
      "Train rmse: 0.82276, Train R2: 0.01647, Train loss: 2.10434\n",
      "Test loss: 0.79878, Test R2: 0.00805\n",
      "Model Saved - Epoch 3 - Test R2: 0.00805\n",
      "\n",
      "\n",
      "Epoch 4:\n"
     ]
    },
    {
     "name": "stderr",
     "output_type": "stream",
     "text": [
      "Training:   7%|▋         | 1238/18964 [00:01<00:27, 634.10it/s, Loss=2.1, rmse=0.821, R²=0.0181]/home/mt/miniconda3/envs/tabm/lib/python3.10/site-packages/torch/nn/functional.py:1425: ResourceWarning: unclosed <socket.socket fd=111, family=AddressFamily.AF_INET, type=SocketKind.SOCK_STREAM, proto=0, laddr=('127.0.0.1', 51440), raddr=('127.0.0.1', 60197)>\n",
      "  _VF.dropout_(input, p, training) if inplace else _VF.dropout(input, p, training)\n",
      "ResourceWarning: Enable tracemalloc to get the object allocation traceback\n",
      "Training: 100%|██████████| 18964/18964 [00:31<00:00, 592.72it/s, Loss=2.1, rmse=0.821, R²=0.0178]\n",
      "Testing: 100%|██████████| 676/676 [00:00<00:00, 848.16it/s, Loss=0.76, R²=0.00827] \n"
     ]
    },
    {
     "name": "stdout",
     "output_type": "stream",
     "text": [
      "Train rmse: 0.82223, Train R2: 0.01775, Train loss: 2.10224\n",
      "Test loss: 0.79876, Test R2: 0.00810\n",
      "Model Saved - Epoch 4 - Test R2: 0.00810\n",
      "\n",
      "\n",
      "Epoch 5:\n"
     ]
    },
    {
     "name": "stderr",
     "output_type": "stream",
     "text": [
      "Training: 100%|██████████| 18964/18964 [00:31<00:00, 594.05it/s, Loss=2.1, rmse=0.821, R²=0.0186]\n",
      "Testing: 100%|██████████| 676/676 [00:00<00:00, 842.41it/s, Loss=0.76, R²=0.00851] \n"
     ]
    },
    {
     "name": "stdout",
     "output_type": "stream",
     "text": [
      "Train rmse: 0.82187, Train R2: 0.01861, Train loss: 2.10077\n",
      "Test loss: 0.79866, Test R2: 0.00834\n",
      "Model Saved - Epoch 5 - Test R2: 0.00834\n",
      "\n",
      "\n",
      "Epoch 6:\n"
     ]
    },
    {
     "name": "stderr",
     "output_type": "stream",
     "text": [
      "Training: 100%|██████████| 18964/18964 [00:31<00:00, 594.19it/s, Loss=2.1, rmse=0.82, R²=0.0192] \n",
      "Testing: 100%|██████████| 676/676 [00:00<00:00, 845.98it/s, Loss=0.76, R²=0.00843] \n"
     ]
    },
    {
     "name": "stdout",
     "output_type": "stream",
     "text": [
      "Train rmse: 0.82160, Train R2: 0.01926, Train loss: 2.09974\n",
      "Test loss: 0.79869, Test R2: 0.00827\n",
      "\n",
      "Epoch 7:\n"
     ]
    },
    {
     "name": "stderr",
     "output_type": "stream",
     "text": [
      "Training: 100%|██████████| 18964/18964 [00:31<00:00, 597.72it/s, Loss=2.1, rmse=0.82, R²=0.0198]\n",
      "Testing: 100%|██████████| 676/676 [00:00<00:00, 846.83it/s, Loss=0.76, R²=0.00863] \n"
     ]
    },
    {
     "name": "stdout",
     "output_type": "stream",
     "text": [
      "Train rmse: 0.82137, Train R2: 0.01979, Train loss: 2.09883\n",
      "Test loss: 0.79861, Test R2: 0.00847\n",
      "Model Saved - Epoch 7 - Test R2: 0.00847\n",
      "\n",
      "\n",
      "Epoch 8:\n"
     ]
    },
    {
     "name": "stderr",
     "output_type": "stream",
     "text": [
      "Training: 100%|██████████| 18964/18964 [00:31<00:00, 597.22it/s, Loss=2.1, rmse=0.82, R²=0.0203]\n",
      "Testing: 100%|██████████| 676/676 [00:00<00:00, 849.13it/s, Loss=0.759, R²=0.00901]\n"
     ]
    },
    {
     "name": "stdout",
     "output_type": "stream",
     "text": [
      "Train rmse: 0.82118, Train R2: 0.02025, Train loss: 2.09814\n",
      "Test loss: 0.79848, Test R2: 0.00880\n",
      "Model Saved - Epoch 8 - Test R2: 0.00880\n",
      "\n",
      "\n",
      "Epoch 9:\n"
     ]
    },
    {
     "name": "stderr",
     "output_type": "stream",
     "text": [
      "Training: 100%|██████████| 18964/18964 [00:31<00:00, 596.75it/s, Loss=2.1, rmse=0.82, R²=0.0207] \n",
      "Testing: 100%|██████████| 676/676 [00:00<00:00, 845.34it/s, Loss=0.76, R²=0.0085]  \n"
     ]
    },
    {
     "name": "stdout",
     "output_type": "stream",
     "text": [
      "Train rmse: 0.82098, Train R2: 0.02072, Train loss: 2.09746\n",
      "Test loss: 0.79867, Test R2: 0.00833\n",
      "\n",
      "Epoch 10:\n"
     ]
    },
    {
     "name": "stderr",
     "output_type": "stream",
     "text": [
      "Training: 100%|██████████| 18964/18964 [00:31<00:00, 597.63it/s, Loss=2.1, rmse=0.82, R²=0.0211] \n",
      "Testing: 100%|██████████| 676/676 [00:00<00:00, 850.35it/s, Loss=0.76, R²=0.00881] \n"
     ]
    },
    {
     "name": "stdout",
     "output_type": "stream",
     "text": [
      "Train rmse: 0.82081, Train R2: 0.02113, Train loss: 2.09674\n",
      "Test loss: 0.79854, Test R2: 0.00865\n",
      "\n",
      "Epoch 11:\n"
     ]
    },
    {
     "name": "stderr",
     "output_type": "stream",
     "text": [
      "Training: 100%|██████████| 18964/18964 [00:31<00:00, 596.77it/s, Loss=2.1, rmse=0.82, R²=0.0215] \n",
      "Testing: 100%|██████████| 676/676 [00:00<00:00, 840.11it/s, Loss=0.76, R²=0.00872] \n"
     ]
    },
    {
     "name": "stdout",
     "output_type": "stream",
     "text": [
      "Train rmse: 0.82066, Train R2: 0.02150, Train loss: 2.09618\n",
      "Test loss: 0.79859, Test R2: 0.00853\n",
      "\n",
      "Epoch 12:\n"
     ]
    },
    {
     "name": "stderr",
     "output_type": "stream",
     "text": [
      "Training: 100%|██████████| 18964/18964 [00:31<00:00, 603.09it/s, Loss=2.1, rmse=0.819, R²=0.0219] \n",
      "Testing: 100%|██████████| 676/676 [00:00<00:00, 868.35it/s, Loss=0.759, R²=0.00904]\n"
     ]
    },
    {
     "name": "stdout",
     "output_type": "stream",
     "text": [
      "Train rmse: 0.82049, Train R2: 0.02189, Train loss: 2.09570\n",
      "Test loss: 0.79845, Test R2: 0.00887\n",
      "Model Saved - Epoch 12 - Test R2: 0.00887\n",
      "\n",
      "\n",
      "Epoch 13:\n"
     ]
    },
    {
     "name": "stderr",
     "output_type": "stream",
     "text": [
      "Training: 100%|██████████| 18964/18964 [00:31<00:00, 603.75it/s, Loss=2.09, rmse=0.819, R²=0.0223]\n",
      "Testing: 100%|██████████| 676/676 [00:00<00:00, 865.00it/s, Loss=0.76, R²=0.00889] \n"
     ]
    },
    {
     "name": "stdout",
     "output_type": "stream",
     "text": [
      "Train rmse: 0.82034, Train R2: 0.02226, Train loss: 2.09511\n",
      "Test loss: 0.79851, Test R2: 0.00871\n",
      "\n",
      "Epoch 14:\n"
     ]
    },
    {
     "name": "stderr",
     "output_type": "stream",
     "text": [
      "Training: 100%|██████████| 18964/18964 [00:31<00:00, 597.73it/s, Loss=2.09, rmse=0.819, R²=0.0227]\n",
      "Testing: 100%|██████████| 676/676 [00:00<00:00, 856.51it/s, Loss=0.76, R²=0.00885] \n"
     ]
    },
    {
     "name": "stdout",
     "output_type": "stream",
     "text": [
      "Train rmse: 0.82016, Train R2: 0.02268, Train loss: 2.09448\n",
      "Test loss: 0.79853, Test R2: 0.00868\n",
      "\n",
      "Epoch 15:\n"
     ]
    },
    {
     "name": "stderr",
     "output_type": "stream",
     "text": [
      "Training: 100%|██████████| 18964/18964 [00:31<00:00, 598.46it/s, Loss=2.09, rmse=0.819, R²=0.0231]\n",
      "Testing: 100%|██████████| 676/676 [00:00<00:00, 852.10it/s, Loss=0.76, R²=0.0089]  \n"
     ]
    },
    {
     "name": "stdout",
     "output_type": "stream",
     "text": [
      "Train rmse: 0.82000, Train R2: 0.02306, Train loss: 2.09394\n",
      "Test loss: 0.79851, Test R2: 0.00872\n",
      "\n",
      "Best Epoch: 12, Best Test R2: 0.00887\n"
     ]
    },
    {
     "name": "stderr",
     "output_type": "stream",
     "text": [
      "/home/mt/miniconda3/envs/tabm/lib/python3.10/site-packages/wandb/sdk/lib/ipython.py:89: DeprecationWarning: Importing display from IPython.core.display is deprecated since IPython 7.14, please import from IPython display\n",
      "  from IPython.core.display import display\n"
     ]
    },
    {
     "data": {
      "application/vnd.jupyter.widget-view+json": {
       "model_id": "f9330f66d7b54c69af15203d45bc8762",
       "version_major": 2,
       "version_minor": 0
      },
      "text/plain": [
       "VBox(children=(Label(value='0.004 MB of 0.004 MB uploaded\\r'), FloatProgress(value=1.0, max=1.0)))"
      ]
     },
     "metadata": {},
     "output_type": "display_data"
    },
    {
     "name": "stderr",
     "output_type": "stream",
     "text": [
      "/home/mt/miniconda3/envs/tabm/lib/python3.10/site-packages/wandb/sdk/lib/ipython.py:77: DeprecationWarning: Importing display from IPython.core.display is deprecated since IPython 7.14, please import from IPython display\n",
      "  from IPython.core.display import HTML, display  # type: ignore\n"
     ]
    },
    {
     "data": {
      "text/html": [
       "<style>\n",
       "    table.wandb td:nth-child(1) { padding: 0 10px; text-align: left ; width: auto;} td:nth-child(2) {text-align: left ; width: 100%}\n",
       "    .wandb-row { display: flex; flex-direction: row; flex-wrap: wrap; justify-content: flex-start; width: 100% }\n",
       "    .wandb-col { display: flex; flex-direction: column; flex-basis: 100%; flex: 1; padding: 10px; }\n",
       "    </style>\n",
       "<div class=\"wandb-row\"><div class=\"wandb-col\"><h3>Run history:</h3><br/><table class=\"wandb\"><tr><td>epoch</td><td>▁▁▂▃▃▃▄▅▅▅▆▇▇▇█</td></tr><tr><td>test_loss</td><td>█▅▃▃▃▃▂▁▃▂▂▁▁▂▁</td></tr><tr><td>test_r2</td><td>▁▄▆▆▆▆▇█▆▇▇██▇█</td></tr><tr><td>train_loss</td><td>█▅▄▄▃▃▃▂▂▂▂▂▁▁▁</td></tr><tr><td>train_r2</td><td>▁▄▅▅▆▆▆▇▇▇▇▇███</td></tr><tr><td>train_rmse</td><td>█▅▄▄▃▃▃▂▂▂▂▂▁▁▁</td></tr></table><br/></div><div class=\"wandb-col\"><h3>Run summary:</h3><br/><table class=\"wandb\"><tr><td>best_test_r2</td><td>0.00887</td></tr><tr><td>best_train_r2</td><td>0.02306</td></tr><tr><td>epoch</td><td>15</td></tr><tr><td>test_loss</td><td>0.79851</td></tr><tr><td>test_r2</td><td>0.00872</td></tr><tr><td>train_loss</td><td>2.09394</td></tr><tr><td>train_r2</td><td>0.02306</td></tr><tr><td>train_rmse</td><td>0.82</td></tr></table><br/></div></div>"
      ],
      "text/plain": [
       "<IPython.core.display.HTML object>"
      ]
     },
     "metadata": {},
     "output_type": "display_data"
    },
    {
     "data": {
      "text/html": [
       " View run <strong style=\"color:#cdcd00\">worldly-sweep-21</strong> at: <a href='https://wandb.ai/turkenm/js_tabm/runs/uqt19t1n' target=\"_blank\">https://wandb.ai/turkenm/js_tabm/runs/uqt19t1n</a><br/> View project at: <a href='https://wandb.ai/turkenm/js_tabm' target=\"_blank\">https://wandb.ai/turkenm/js_tabm</a><br/>Synced 6 W&B file(s), 0 media file(s), 0 artifact file(s) and 0 other file(s)"
      ],
      "text/plain": [
       "<IPython.core.display.HTML object>"
      ]
     },
     "metadata": {},
     "output_type": "display_data"
    },
    {
     "data": {
      "text/html": [
       "Find logs at: <code>./wandb/run-20250112_193547-uqt19t1n/logs</code>"
      ],
      "text/plain": [
       "<IPython.core.display.HTML object>"
      ]
     },
     "metadata": {},
     "output_type": "display_data"
    },
    {
     "name": "stderr",
     "output_type": "stream",
     "text": [
      "\u001b[34m\u001b[1mwandb\u001b[0m: Agent Starting Run: rfq40f4v with config:\n",
      "\u001b[34m\u001b[1mwandb\u001b[0m: \td_block: 64\n",
      "\u001b[34m\u001b[1mwandb\u001b[0m: \tdrop_out: 0.15\n",
      "\u001b[34m\u001b[1mwandb\u001b[0m: \tlearning_rate: 0.0001\n",
      "\u001b[34m\u001b[1mwandb\u001b[0m: \tmodel_arch: tabm-mini\n",
      "\u001b[34m\u001b[1mwandb\u001b[0m: \tn_block: 3\n",
      "\u001b[34m\u001b[1mwandb\u001b[0m: \tn_k: 16\n",
      "\u001b[34m\u001b[1mwandb\u001b[0m: \tweight_decay: 0.0002\n",
      "Failed to detect the name of this notebook, you can set it manually with the WANDB_NOTEBOOK_NAME environment variable to enable code saving.\n",
      "/home/mt/miniconda3/envs/tabm/lib/python3.10/site-packages/wandb/sdk/wandb_setup.py:254: ResourceWarning: unclosed file <_io.TextIOWrapper name='/home/mt/Desktop/JaneStreet-Comp/wandb/sweep-mtpap5fv/config-rfq40f4v.yaml' mode='r' encoding='UTF-8'>\n",
      "  self._sweep_config = config_util.dict_from_config_file(\n",
      "ResourceWarning: Enable tracemalloc to get the object allocation traceback\n"
     ]
    },
    {
     "data": {
      "text/html": [
       "wandb version 0.19.2 is available!  To upgrade, please run:\n",
       " $ pip install wandb --upgrade"
      ],
      "text/plain": [
       "<IPython.core.display.HTML object>"
      ]
     },
     "metadata": {},
     "output_type": "display_data"
    },
    {
     "data": {
      "text/html": [
       "Tracking run with wandb version 0.16.6"
      ],
      "text/plain": [
       "<IPython.core.display.HTML object>"
      ]
     },
     "metadata": {},
     "output_type": "display_data"
    },
    {
     "data": {
      "text/html": [
       "Run data is saved locally in <code>/home/mt/Desktop/JaneStreet-Comp/wandb/run-20250112_194413-rfq40f4v</code>"
      ],
      "text/plain": [
       "<IPython.core.display.HTML object>"
      ]
     },
     "metadata": {},
     "output_type": "display_data"
    },
    {
     "data": {
      "text/html": [
       "Syncing run <strong><a href='https://wandb.ai/turkenm/js_tabm/runs/rfq40f4v' target=\"_blank\">chocolate-sweep-22</a></strong> to <a href='https://wandb.ai/turkenm/js_tabm' target=\"_blank\">Weights & Biases</a> (<a href='https://wandb.me/run' target=\"_blank\">docs</a>)<br/>Sweep page: <a href='https://wandb.ai/turkenm/js_tabm/sweeps/mtpap5fv' target=\"_blank\">https://wandb.ai/turkenm/js_tabm/sweeps/mtpap5fv</a>"
      ],
      "text/plain": [
       "<IPython.core.display.HTML object>"
      ]
     },
     "metadata": {},
     "output_type": "display_data"
    },
    {
     "data": {
      "text/html": [
       " View project at <a href='https://wandb.ai/turkenm/js_tabm' target=\"_blank\">https://wandb.ai/turkenm/js_tabm</a>"
      ],
      "text/plain": [
       "<IPython.core.display.HTML object>"
      ]
     },
     "metadata": {},
     "output_type": "display_data"
    },
    {
     "data": {
      "text/html": [
       " View sweep at <a href='https://wandb.ai/turkenm/js_tabm/sweeps/mtpap5fv' target=\"_blank\">https://wandb.ai/turkenm/js_tabm/sweeps/mtpap5fv</a>"
      ],
      "text/plain": [
       "<IPython.core.display.HTML object>"
      ]
     },
     "metadata": {},
     "output_type": "display_data"
    },
    {
     "data": {
      "text/html": [
       " View run at <a href='https://wandb.ai/turkenm/js_tabm/runs/rfq40f4v' target=\"_blank\">https://wandb.ai/turkenm/js_tabm/runs/rfq40f4v</a>"
      ],
      "text/plain": [
       "<IPython.core.display.HTML object>"
      ]
     },
     "metadata": {},
     "output_type": "display_data"
    },
    {
     "name": "stdout",
     "output_type": "stream",
     "text": [
      "EXPERIMENT exp_tabm-mini_dblocks_64_nblocks_3_LR_1e-04_BS_1024_DR_0.15_k_16_id_256\n",
      "\n",
      "\n",
      "Epoch 1:\n"
     ]
    },
    {
     "name": "stderr",
     "output_type": "stream",
     "text": [
      "Training: 100%|██████████| 18964/18964 [00:31<00:00, 596.84it/s, Loss=2.11, rmse=0.824, R²=0.00965]\n",
      "Testing: 100%|██████████| 676/676 [00:00<00:00, 856.94it/s, Loss=0.76, R²=0.00669] \n"
     ]
    },
    {
     "name": "stdout",
     "output_type": "stream",
     "text": [
      "Train rmse: 0.82560, Train R2: 0.00967, Train loss: 2.11519\n",
      "Test loss: 0.79939, Test R2: 0.00654\n",
      "Model Saved - Epoch 1 - Test R2: 0.00654\n",
      "\n",
      "\n",
      "Epoch 2:\n"
     ]
    },
    {
     "name": "stderr",
     "output_type": "stream",
     "text": [
      "Training: 100%|██████████| 18964/18964 [00:31<00:00, 603.06it/s, Loss=2.11, rmse=0.822, R²=0.0146]\n",
      "Testing: 100%|██████████| 676/676 [00:00<00:00, 861.67it/s, Loss=0.76, R²=0.00762] \n"
     ]
    },
    {
     "name": "stdout",
     "output_type": "stream",
     "text": [
      "Train rmse: 0.82354, Train R2: 0.01461, Train loss: 2.10710\n",
      "Test loss: 0.79903, Test R2: 0.00744\n",
      "Model Saved - Epoch 2 - Test R2: 0.00744\n",
      "\n",
      "\n",
      "Epoch 3:\n"
     ]
    },
    {
     "name": "stderr",
     "output_type": "stream",
     "text": [
      "Training: 100%|██████████| 18964/18964 [00:31<00:00, 603.45it/s, Loss=2.1, rmse=0.822, R²=0.0165]\n",
      "Testing: 100%|██████████| 676/676 [00:00<00:00, 858.96it/s, Loss=0.76, R²=0.00811] \n"
     ]
    },
    {
     "name": "stdout",
     "output_type": "stream",
     "text": [
      "Train rmse: 0.82276, Train R2: 0.01648, Train loss: 2.10432\n",
      "Test loss: 0.79884, Test R2: 0.00789\n",
      "Model Saved - Epoch 3 - Test R2: 0.00789\n",
      "\n",
      "\n",
      "Epoch 4:\n"
     ]
    },
    {
     "name": "stderr",
     "output_type": "stream",
     "text": [
      "Training:  10%|█         | 1903/18964 [00:02<00:26, 646.06it/s, Loss=2.1, rmse=0.822, R²=0.0172]/home/mt/miniconda3/envs/tabm/lib/python3.10/site-packages/torch/nn/functional.py:1425: ResourceWarning: unclosed <socket.socket fd=108, family=AddressFamily.AF_INET, type=SocketKind.SOCK_STREAM, proto=0, laddr=('127.0.0.1', 47964), raddr=('127.0.0.1', 33143)>\n",
      "  _VF.dropout_(input, p, training) if inplace else _VF.dropout(input, p, training)\n",
      "ResourceWarning: Enable tracemalloc to get the object allocation traceback\n",
      "Training: 100%|██████████| 18964/18964 [00:31<00:00, 598.08it/s, Loss=2.1, rmse=0.821, R²=0.0177]\n",
      "Testing: 100%|██████████| 676/676 [00:00<00:00, 858.91it/s, Loss=0.76, R²=0.008]   \n"
     ]
    },
    {
     "name": "stdout",
     "output_type": "stream",
     "text": [
      "Train rmse: 0.82225, Train R2: 0.01769, Train loss: 2.10241\n",
      "Test loss: 0.79887, Test R2: 0.00783\n",
      "\n",
      "Epoch 5:\n"
     ]
    },
    {
     "name": "stderr",
     "output_type": "stream",
     "text": [
      "Training: 100%|██████████| 18964/18964 [00:31<00:00, 597.12it/s, Loss=2.1, rmse=0.821, R²=0.0184]\n",
      "Testing: 100%|██████████| 676/676 [00:00<00:00, 856.44it/s, Loss=0.76, R²=0.00814] \n"
     ]
    },
    {
     "name": "stdout",
     "output_type": "stream",
     "text": [
      "Train rmse: 0.82194, Train R2: 0.01844, Train loss: 2.10123\n",
      "Test loss: 0.79881, Test R2: 0.00797\n",
      "Model Saved - Epoch 5 - Test R2: 0.00797\n",
      "\n",
      "\n",
      "Epoch 6:\n"
     ]
    },
    {
     "name": "stderr",
     "output_type": "stream",
     "text": [
      "Training: 100%|██████████| 18964/18964 [00:31<00:00, 603.72it/s, Loss=2.1, rmse=0.821, R²=0.019] \n",
      "Testing: 100%|██████████| 676/676 [00:00<00:00, 861.08it/s, Loss=0.76, R²=0.00814] \n"
     ]
    },
    {
     "name": "stdout",
     "output_type": "stream",
     "text": [
      "Train rmse: 0.82169, Train R2: 0.01902, Train loss: 2.10029\n",
      "Test loss: 0.79881, Test R2: 0.00797\n",
      "Model Saved - Epoch 6 - Test R2: 0.00797\n",
      "\n",
      "\n",
      "Epoch 7:\n"
     ]
    },
    {
     "name": "stderr",
     "output_type": "stream",
     "text": [
      "Training: 100%|██████████| 18964/18964 [00:31<00:00, 600.66it/s, Loss=2.1, rmse=0.82, R²=0.0195] \n",
      "Testing: 100%|██████████| 676/676 [00:00<00:00, 858.48it/s, Loss=0.76, R²=0.00849] \n"
     ]
    },
    {
     "name": "stdout",
     "output_type": "stream",
     "text": [
      "Train rmse: 0.82149, Train R2: 0.01951, Train loss: 2.09958\n",
      "Test loss: 0.79868, Test R2: 0.00829\n",
      "Model Saved - Epoch 7 - Test R2: 0.00829\n",
      "\n",
      "\n",
      "Epoch 8:\n"
     ]
    },
    {
     "name": "stderr",
     "output_type": "stream",
     "text": [
      "Training: 100%|██████████| 18964/18964 [00:31<00:00, 596.36it/s, Loss=2.1, rmse=0.82, R²=0.0199] \n",
      "Testing: 100%|██████████| 676/676 [00:00<00:00, 858.84it/s, Loss=0.76, R²=0.00843] \n"
     ]
    },
    {
     "name": "stdout",
     "output_type": "stream",
     "text": [
      "Train rmse: 0.82132, Train R2: 0.01992, Train loss: 2.09889\n",
      "Test loss: 0.79870, Test R2: 0.00825\n",
      "\n",
      "Epoch 9:\n"
     ]
    },
    {
     "name": "stderr",
     "output_type": "stream",
     "text": [
      "Training: 100%|██████████| 18964/18964 [00:31<00:00, 598.53it/s, Loss=2.1, rmse=0.82, R²=0.0203]\n",
      "Testing: 100%|██████████| 676/676 [00:00<00:00, 857.44it/s, Loss=0.76, R²=0.00859] \n"
     ]
    },
    {
     "name": "stdout",
     "output_type": "stream",
     "text": [
      "Train rmse: 0.82116, Train R2: 0.02029, Train loss: 2.09832\n",
      "Test loss: 0.79864, Test R2: 0.00841\n",
      "Model Saved - Epoch 9 - Test R2: 0.00841\n",
      "\n",
      "\n",
      "Epoch 10:\n"
     ]
    },
    {
     "name": "stderr",
     "output_type": "stream",
     "text": [
      "Training: 100%|██████████| 18964/18964 [00:31<00:00, 598.94it/s, Loss=2.1, rmse=0.82, R²=0.0206] \n",
      "Testing: 100%|██████████| 676/676 [00:00<00:00, 855.78it/s, Loss=0.76, R²=0.0087]  \n"
     ]
    },
    {
     "name": "stdout",
     "output_type": "stream",
     "text": [
      "Train rmse: 0.82102, Train R2: 0.02063, Train loss: 2.09781\n",
      "Test loss: 0.79859, Test R2: 0.00851\n",
      "Model Saved - Epoch 10 - Test R2: 0.00851\n",
      "\n",
      "\n",
      "Epoch 11:\n"
     ]
    },
    {
     "name": "stderr",
     "output_type": "stream",
     "text": [
      "Training: 100%|██████████| 18964/18964 [00:31<00:00, 598.02it/s, Loss=2.1, rmse=0.82, R²=0.021]  \n",
      "Testing: 100%|██████████| 676/676 [00:00<00:00, 854.03it/s, Loss=0.76, R²=0.00862] \n"
     ]
    },
    {
     "name": "stdout",
     "output_type": "stream",
     "text": [
      "Train rmse: 0.82087, Train R2: 0.02099, Train loss: 2.09728\n",
      "Test loss: 0.79862, Test R2: 0.00844\n",
      "\n",
      "Epoch 12:\n"
     ]
    },
    {
     "name": "stderr",
     "output_type": "stream",
     "text": [
      "Training: 100%|██████████| 18964/18964 [00:31<00:00, 599.12it/s, Loss=2.1, rmse=0.82, R²=0.0213] \n",
      "Testing: 100%|██████████| 676/676 [00:00<00:00, 856.53it/s, Loss=0.759, R²=0.00888]\n"
     ]
    },
    {
     "name": "stdout",
     "output_type": "stream",
     "text": [
      "Train rmse: 0.82074, Train R2: 0.02130, Train loss: 2.09687\n",
      "Test loss: 0.79852, Test R2: 0.00869\n",
      "Model Saved - Epoch 12 - Test R2: 0.00869\n",
      "\n",
      "\n",
      "Epoch 13:\n"
     ]
    },
    {
     "name": "stderr",
     "output_type": "stream",
     "text": [
      "Training: 100%|██████████| 18964/18964 [00:31<00:00, 597.91it/s, Loss=2.1, rmse=0.82, R²=0.0216]  \n",
      "Testing: 100%|██████████| 676/676 [00:00<00:00, 855.75it/s, Loss=0.76, R²=0.00878] \n"
     ]
    },
    {
     "name": "stdout",
     "output_type": "stream",
     "text": [
      "Train rmse: 0.82062, Train R2: 0.02158, Train loss: 2.09637\n",
      "Test loss: 0.79856, Test R2: 0.00858\n",
      "\n",
      "Epoch 14:\n"
     ]
    },
    {
     "name": "stderr",
     "output_type": "stream",
     "text": [
      "Training: 100%|██████████| 18964/18964 [00:31<00:00, 599.62it/s, Loss=2.1, rmse=0.819, R²=0.0218]\n",
      "Testing: 100%|██████████| 676/676 [00:00<00:00, 854.94it/s, Loss=0.76, R²=0.00884] \n"
     ]
    },
    {
     "name": "stdout",
     "output_type": "stream",
     "text": [
      "Train rmse: 0.82053, Train R2: 0.02181, Train loss: 2.09604\n",
      "Test loss: 0.79854, Test R2: 0.00864\n",
      "\n",
      "Epoch 15:\n"
     ]
    },
    {
     "name": "stderr",
     "output_type": "stream",
     "text": [
      "Training: 100%|██████████| 18964/18964 [00:31<00:00, 598.05it/s, Loss=2.1, rmse=0.819, R²=0.0221] \n",
      "Testing: 100%|██████████| 676/676 [00:00<00:00, 858.07it/s, Loss=0.759, R²=0.00896]\n"
     ]
    },
    {
     "name": "stdout",
     "output_type": "stream",
     "text": [
      "Train rmse: 0.82039, Train R2: 0.02213, Train loss: 2.09555\n",
      "Test loss: 0.79849, Test R2: 0.00876\n",
      "Model Saved - Epoch 15 - Test R2: 0.00876\n",
      "\n",
      "\n",
      "Best Epoch: 15, Best Test R2: 0.00876\n"
     ]
    },
    {
     "name": "stderr",
     "output_type": "stream",
     "text": [
      "/home/mt/miniconda3/envs/tabm/lib/python3.10/site-packages/wandb/sdk/lib/ipython.py:89: DeprecationWarning: Importing display from IPython.core.display is deprecated since IPython 7.14, please import from IPython display\n",
      "  from IPython.core.display import display\n"
     ]
    },
    {
     "data": {
      "application/vnd.jupyter.widget-view+json": {
       "model_id": "7e8846e3b49349e484fff9c0d08c390d",
       "version_major": 2,
       "version_minor": 0
      },
      "text/plain": [
       "VBox(children=(Label(value='0.004 MB of 0.004 MB uploaded\\r'), FloatProgress(value=1.0, max=1.0)))"
      ]
     },
     "metadata": {},
     "output_type": "display_data"
    },
    {
     "name": "stderr",
     "output_type": "stream",
     "text": [
      "/home/mt/miniconda3/envs/tabm/lib/python3.10/site-packages/wandb/sdk/lib/ipython.py:77: DeprecationWarning: Importing display from IPython.core.display is deprecated since IPython 7.14, please import from IPython display\n",
      "  from IPython.core.display import HTML, display  # type: ignore\n"
     ]
    },
    {
     "data": {
      "text/html": [
       "<style>\n",
       "    table.wandb td:nth-child(1) { padding: 0 10px; text-align: left ; width: auto;} td:nth-child(2) {text-align: left ; width: 100%}\n",
       "    .wandb-row { display: flex; flex-direction: row; flex-wrap: wrap; justify-content: flex-start; width: 100% }\n",
       "    .wandb-col { display: flex; flex-direction: column; flex-basis: 100%; flex: 1; padding: 10px; }\n",
       "    </style>\n",
       "<div class=\"wandb-row\"><div class=\"wandb-col\"><h3>Run history:</h3><br/><table class=\"wandb\"><tr><td>epoch</td><td>▁▁▂▃▃▃▄▅▅▅▆▇▇▇█</td></tr><tr><td>test_loss</td><td>█▅▄▄▄▃▂▃▂▂▂▁▂▁▁</td></tr><tr><td>test_r2</td><td>▁▄▅▅▅▆▇▆▇▇▇█▇██</td></tr><tr><td>train_loss</td><td>█▅▄▃▃▃▂▂▂▂▂▁▁▁▁</td></tr><tr><td>train_r2</td><td>▁▄▅▆▆▆▇▇▇▇▇████</td></tr><tr><td>train_rmse</td><td>█▅▄▄▃▃▂▂▂▂▂▁▁▁▁</td></tr></table><br/></div><div class=\"wandb-col\"><h3>Run summary:</h3><br/><table class=\"wandb\"><tr><td>best_test_r2</td><td>0.00876</td></tr><tr><td>best_train_r2</td><td>0.02213</td></tr><tr><td>epoch</td><td>15</td></tr><tr><td>test_loss</td><td>0.79849</td></tr><tr><td>test_r2</td><td>0.00876</td></tr><tr><td>train_loss</td><td>2.09555</td></tr><tr><td>train_r2</td><td>0.02213</td></tr><tr><td>train_rmse</td><td>0.82039</td></tr></table><br/></div></div>"
      ],
      "text/plain": [
       "<IPython.core.display.HTML object>"
      ]
     },
     "metadata": {},
     "output_type": "display_data"
    },
    {
     "data": {
      "text/html": [
       " View run <strong style=\"color:#cdcd00\">chocolate-sweep-22</strong> at: <a href='https://wandb.ai/turkenm/js_tabm/runs/rfq40f4v' target=\"_blank\">https://wandb.ai/turkenm/js_tabm/runs/rfq40f4v</a><br/> View project at: <a href='https://wandb.ai/turkenm/js_tabm' target=\"_blank\">https://wandb.ai/turkenm/js_tabm</a><br/>Synced 6 W&B file(s), 0 media file(s), 0 artifact file(s) and 0 other file(s)"
      ],
      "text/plain": [
       "<IPython.core.display.HTML object>"
      ]
     },
     "metadata": {},
     "output_type": "display_data"
    },
    {
     "data": {
      "text/html": [
       "Find logs at: <code>./wandb/run-20250112_194413-rfq40f4v/logs</code>"
      ],
      "text/plain": [
       "<IPython.core.display.HTML object>"
      ]
     },
     "metadata": {},
     "output_type": "display_data"
    },
    {
     "name": "stderr",
     "output_type": "stream",
     "text": [
      "\u001b[34m\u001b[1mwandb\u001b[0m: Agent Starting Run: kd0bsolx with config:\n",
      "\u001b[34m\u001b[1mwandb\u001b[0m: \td_block: 64\n",
      "\u001b[34m\u001b[1mwandb\u001b[0m: \tdrop_out: 0.15\n",
      "\u001b[34m\u001b[1mwandb\u001b[0m: \tlearning_rate: 0.0001\n",
      "\u001b[34m\u001b[1mwandb\u001b[0m: \tmodel_arch: tabm-mini\n",
      "\u001b[34m\u001b[1mwandb\u001b[0m: \tn_block: 3\n",
      "\u001b[34m\u001b[1mwandb\u001b[0m: \tn_k: 32\n",
      "\u001b[34m\u001b[1mwandb\u001b[0m: \tweight_decay: 0.0001\n",
      "Failed to detect the name of this notebook, you can set it manually with the WANDB_NOTEBOOK_NAME environment variable to enable code saving.\n",
      "/home/mt/miniconda3/envs/tabm/lib/python3.10/site-packages/wandb/sdk/wandb_setup.py:254: ResourceWarning: unclosed file <_io.TextIOWrapper name='/home/mt/Desktop/JaneStreet-Comp/wandb/sweep-mtpap5fv/config-kd0bsolx.yaml' mode='r' encoding='UTF-8'>\n",
      "  self._sweep_config = config_util.dict_from_config_file(\n",
      "ResourceWarning: Enable tracemalloc to get the object allocation traceback\n"
     ]
    },
    {
     "data": {
      "text/html": [
       "wandb version 0.19.2 is available!  To upgrade, please run:\n",
       " $ pip install wandb --upgrade"
      ],
      "text/plain": [
       "<IPython.core.display.HTML object>"
      ]
     },
     "metadata": {},
     "output_type": "display_data"
    },
    {
     "data": {
      "text/html": [
       "Tracking run with wandb version 0.16.6"
      ],
      "text/plain": [
       "<IPython.core.display.HTML object>"
      ]
     },
     "metadata": {},
     "output_type": "display_data"
    },
    {
     "data": {
      "text/html": [
       "Run data is saved locally in <code>/home/mt/Desktop/JaneStreet-Comp/wandb/run-20250112_195236-kd0bsolx</code>"
      ],
      "text/plain": [
       "<IPython.core.display.HTML object>"
      ]
     },
     "metadata": {},
     "output_type": "display_data"
    },
    {
     "data": {
      "text/html": [
       "Syncing run <strong><a href='https://wandb.ai/turkenm/js_tabm/runs/kd0bsolx' target=\"_blank\">twilight-sweep-23</a></strong> to <a href='https://wandb.ai/turkenm/js_tabm' target=\"_blank\">Weights & Biases</a> (<a href='https://wandb.me/run' target=\"_blank\">docs</a>)<br/>Sweep page: <a href='https://wandb.ai/turkenm/js_tabm/sweeps/mtpap5fv' target=\"_blank\">https://wandb.ai/turkenm/js_tabm/sweeps/mtpap5fv</a>"
      ],
      "text/plain": [
       "<IPython.core.display.HTML object>"
      ]
     },
     "metadata": {},
     "output_type": "display_data"
    },
    {
     "data": {
      "text/html": [
       " View project at <a href='https://wandb.ai/turkenm/js_tabm' target=\"_blank\">https://wandb.ai/turkenm/js_tabm</a>"
      ],
      "text/plain": [
       "<IPython.core.display.HTML object>"
      ]
     },
     "metadata": {},
     "output_type": "display_data"
    },
    {
     "data": {
      "text/html": [
       " View sweep at <a href='https://wandb.ai/turkenm/js_tabm/sweeps/mtpap5fv' target=\"_blank\">https://wandb.ai/turkenm/js_tabm/sweeps/mtpap5fv</a>"
      ],
      "text/plain": [
       "<IPython.core.display.HTML object>"
      ]
     },
     "metadata": {},
     "output_type": "display_data"
    },
    {
     "data": {
      "text/html": [
       " View run at <a href='https://wandb.ai/turkenm/js_tabm/runs/kd0bsolx' target=\"_blank\">https://wandb.ai/turkenm/js_tabm/runs/kd0bsolx</a>"
      ],
      "text/plain": [
       "<IPython.core.display.HTML object>"
      ]
     },
     "metadata": {},
     "output_type": "display_data"
    },
    {
     "name": "stdout",
     "output_type": "stream",
     "text": [
      "EXPERIMENT exp_tabm-mini_dblocks_64_nblocks_3_LR_1e-04_BS_1024_DR_0.15_k_32_id_758\n",
      "\n",
      "\n",
      "Epoch 1:\n"
     ]
    },
    {
     "name": "stderr",
     "output_type": "stream",
     "text": [
      "Training: 100%|██████████| 18964/18964 [00:44<00:00, 424.34it/s, Loss=2.12, rmse=0.825, R²=0.00822]\n",
      "Testing: 100%|██████████| 676/676 [00:01<00:00, 544.61it/s, Loss=0.76, R²=0.00594] \n"
     ]
    },
    {
     "name": "stdout",
     "output_type": "stream",
     "text": [
      "Train rmse: 0.82619, Train R2: 0.00825, Train loss: 2.11768\n",
      "Test loss: 0.79968, Test R2: 0.00582\n",
      "Model Saved - Epoch 1 - Test R2: 0.00582\n",
      "\n",
      "\n",
      "Epoch 2:\n"
     ]
    },
    {
     "name": "stderr",
     "output_type": "stream",
     "text": [
      "Training: 100%|██████████| 18964/18964 [00:44<00:00, 423.82it/s, Loss=2.11, rmse=0.823, R²=0.0128]\n",
      "Testing: 100%|██████████| 676/676 [00:01<00:00, 545.37it/s, Loss=0.76, R²=0.00702] \n"
     ]
    },
    {
     "name": "stdout",
     "output_type": "stream",
     "text": [
      "Train rmse: 0.82430, Train R2: 0.01280, Train loss: 2.11027\n",
      "Test loss: 0.79926, Test R2: 0.00686\n",
      "Model Saved - Epoch 2 - Test R2: 0.00686\n",
      "\n",
      "\n",
      "Epoch 3:\n"
     ]
    },
    {
     "name": "stderr",
     "output_type": "stream",
     "text": [
      "Training: 100%|██████████| 18964/18964 [00:44<00:00, 422.67it/s, Loss=2.11, rmse=0.822, R²=0.0146]\n",
      "Testing: 100%|██████████| 676/676 [00:01<00:00, 544.22it/s, Loss=0.76, R²=0.00754] \n"
     ]
    },
    {
     "name": "stdout",
     "output_type": "stream",
     "text": [
      "Train rmse: 0.82353, Train R2: 0.01464, Train loss: 2.10746\n",
      "Test loss: 0.79906, Test R2: 0.00736\n",
      "Model Saved - Epoch 3 - Test R2: 0.00736\n",
      "\n",
      "\n",
      "Epoch 4:\n"
     ]
    },
    {
     "name": "stderr",
     "output_type": "stream",
     "text": [
      "Training:   3%|▎         | 585/18964 [00:01<00:41, 445.19it/s, Loss=2.11, rmse=0.824, R²=0.0144]/home/mt/miniconda3/envs/tabm/lib/python3.10/site-packages/torch/nn/functional.py:1425: ResourceWarning: unclosed <socket.socket fd=110, family=AddressFamily.AF_INET, type=SocketKind.SOCK_STREAM, proto=0, laddr=('127.0.0.1', 59984), raddr=('127.0.0.1', 46951)>\n",
      "  _VF.dropout_(input, p, training) if inplace else _VF.dropout(input, p, training)\n",
      "ResourceWarning: Enable tracemalloc to get the object allocation traceback\n",
      "Training: 100%|██████████| 18964/18964 [00:44<00:00, 422.37it/s, Loss=2.11, rmse=0.822, R²=0.0158]\n",
      "Testing: 100%|██████████| 676/676 [00:01<00:00, 546.06it/s, Loss=0.76, R²=0.00761] \n"
     ]
    },
    {
     "name": "stdout",
     "output_type": "stream",
     "text": [
      "Train rmse: 0.82302, Train R2: 0.01585, Train loss: 2.10558\n",
      "Test loss: 0.79902, Test R2: 0.00745\n",
      "Model Saved - Epoch 4 - Test R2: 0.00745\n",
      "\n",
      "\n",
      "Epoch 5:\n"
     ]
    },
    {
     "name": "stderr",
     "output_type": "stream",
     "text": [
      "Training: 100%|██████████| 18964/18964 [00:44<00:00, 422.67it/s, Loss=2.1, rmse=0.821, R²=0.0167]\n",
      "Testing: 100%|██████████| 676/676 [00:01<00:00, 544.76it/s, Loss=0.76, R²=0.0076]  \n"
     ]
    },
    {
     "name": "stdout",
     "output_type": "stream",
     "text": [
      "Train rmse: 0.82265, Train R2: 0.01674, Train loss: 2.10409\n",
      "Test loss: 0.79903, Test R2: 0.00744\n",
      "\n",
      "Epoch 6:\n"
     ]
    },
    {
     "name": "stderr",
     "output_type": "stream",
     "text": [
      "Training: 100%|██████████| 18964/18964 [00:44<00:00, 423.34it/s, Loss=2.1, rmse=0.821, R²=0.0175]\n",
      "Testing: 100%|██████████| 676/676 [00:01<00:00, 546.68it/s, Loss=0.76, R²=0.00759] \n"
     ]
    },
    {
     "name": "stdout",
     "output_type": "stream",
     "text": [
      "Train rmse: 0.82234, Train R2: 0.01749, Train loss: 2.10286\n",
      "Test loss: 0.79903, Test R2: 0.00743\n",
      "\n",
      "Epoch 7:\n"
     ]
    },
    {
     "name": "stderr",
     "output_type": "stream",
     "text": [
      "Training: 100%|██████████| 18964/18964 [00:44<00:00, 422.87it/s, Loss=2.1, rmse=0.821, R²=0.0181]\n",
      "Testing: 100%|██████████| 676/676 [00:01<00:00, 545.21it/s, Loss=0.76, R²=0.00797] \n"
     ]
    },
    {
     "name": "stdout",
     "output_type": "stream",
     "text": [
      "Train rmse: 0.82209, Train R2: 0.01809, Train loss: 2.10193\n",
      "Test loss: 0.79887, Test R2: 0.00781\n",
      "Model Saved - Epoch 7 - Test R2: 0.00781\n",
      "\n",
      "\n",
      "Epoch 8:\n"
     ]
    },
    {
     "name": "stderr",
     "output_type": "stream",
     "text": [
      "Training: 100%|██████████| 18964/18964 [00:44<00:00, 423.51it/s, Loss=2.1, rmse=0.821, R²=0.0186]\n",
      "Testing: 100%|██████████| 676/676 [00:01<00:00, 544.89it/s, Loss=0.76, R²=0.00804] \n"
     ]
    },
    {
     "name": "stdout",
     "output_type": "stream",
     "text": [
      "Train rmse: 0.82186, Train R2: 0.01864, Train loss: 2.10104\n",
      "Test loss: 0.79885, Test R2: 0.00788\n",
      "Model Saved - Epoch 8 - Test R2: 0.00788\n",
      "\n",
      "\n",
      "Epoch 9:\n"
     ]
    },
    {
     "name": "stderr",
     "output_type": "stream",
     "text": [
      "Training: 100%|██████████| 18964/18964 [00:44<00:00, 423.58it/s, Loss=2.1, rmse=0.821, R²=0.0192]\n",
      "Testing: 100%|██████████| 676/676 [00:01<00:00, 545.81it/s, Loss=0.76, R²=0.00818] \n"
     ]
    },
    {
     "name": "stdout",
     "output_type": "stream",
     "text": [
      "Train rmse: 0.82164, Train R2: 0.01917, Train loss: 2.10020\n",
      "Test loss: 0.79879, Test R2: 0.00802\n",
      "Model Saved - Epoch 9 - Test R2: 0.00802\n",
      "\n",
      "\n",
      "Epoch 10:\n"
     ]
    },
    {
     "name": "stderr",
     "output_type": "stream",
     "text": [
      "Training: 100%|██████████| 18964/18964 [00:44<00:00, 423.18it/s, Loss=2.1, rmse=0.82, R²=0.0197]\n",
      "Testing: 100%|██████████| 676/676 [00:01<00:00, 546.66it/s, Loss=0.76, R²=0.00812] \n"
     ]
    },
    {
     "name": "stdout",
     "output_type": "stream",
     "text": [
      "Train rmse: 0.82143, Train R2: 0.01966, Train loss: 2.09946\n",
      "Test loss: 0.79882, Test R2: 0.00796\n",
      "\n",
      "Epoch 11:\n"
     ]
    },
    {
     "name": "stderr",
     "output_type": "stream",
     "text": [
      "Training: 100%|██████████| 18964/18964 [00:44<00:00, 423.08it/s, Loss=2.1, rmse=0.82, R²=0.0202] \n",
      "Testing: 100%|██████████| 676/676 [00:01<00:00, 546.06it/s, Loss=0.76, R²=0.0085]  \n"
     ]
    },
    {
     "name": "stdout",
     "output_type": "stream",
     "text": [
      "Train rmse: 0.82123, Train R2: 0.02014, Train loss: 2.09866\n",
      "Test loss: 0.79867, Test R2: 0.00831\n",
      "Model Saved - Epoch 11 - Test R2: 0.00831\n",
      "\n",
      "\n",
      "Epoch 12:\n"
     ]
    },
    {
     "name": "stderr",
     "output_type": "stream",
     "text": [
      "Training: 100%|██████████| 18964/18964 [00:44<00:00, 423.85it/s, Loss=2.1, rmse=0.82, R²=0.0206] \n",
      "Testing: 100%|██████████| 676/676 [00:01<00:00, 546.51it/s, Loss=0.76, R²=0.00839] \n"
     ]
    },
    {
     "name": "stdout",
     "output_type": "stream",
     "text": [
      "Train rmse: 0.82104, Train R2: 0.02058, Train loss: 2.09794\n",
      "Test loss: 0.79871, Test R2: 0.00822\n",
      "\n",
      "Epoch 13:\n"
     ]
    },
    {
     "name": "stderr",
     "output_type": "stream",
     "text": [
      "Training: 100%|██████████| 18964/18964 [00:44<00:00, 424.62it/s, Loss=2.1, rmse=0.82, R²=0.021] \n",
      "Testing: 100%|██████████| 676/676 [00:01<00:00, 546.15it/s, Loss=0.76, R²=0.00861] \n"
     ]
    },
    {
     "name": "stdout",
     "output_type": "stream",
     "text": [
      "Train rmse: 0.82086, Train R2: 0.02101, Train loss: 2.09736\n",
      "Test loss: 0.79863, Test R2: 0.00843\n",
      "Model Saved - Epoch 13 - Test R2: 0.00843\n",
      "\n",
      "\n",
      "Epoch 14:\n"
     ]
    },
    {
     "name": "stderr",
     "output_type": "stream",
     "text": [
      "Training: 100%|██████████| 18964/18964 [00:44<00:00, 424.53it/s, Loss=2.1, rmse=0.82, R²=0.0214] \n",
      "Testing: 100%|██████████| 676/676 [00:01<00:00, 546.21it/s, Loss=0.76, R²=0.00866] \n"
     ]
    },
    {
     "name": "stdout",
     "output_type": "stream",
     "text": [
      "Train rmse: 0.82068, Train R2: 0.02145, Train loss: 2.09664\n",
      "Test loss: 0.79861, Test R2: 0.00848\n",
      "Model Saved - Epoch 14 - Test R2: 0.00848\n",
      "\n",
      "\n",
      "Epoch 15:\n"
     ]
    },
    {
     "name": "stderr",
     "output_type": "stream",
     "text": [
      "Training: 100%|██████████| 18964/18964 [00:44<00:00, 421.74it/s, Loss=2.1, rmse=0.819, R²=0.0219]\n",
      "Testing: 100%|██████████| 676/676 [00:01<00:00, 545.41it/s, Loss=0.76, R²=0.00853] \n"
     ]
    },
    {
     "name": "stdout",
     "output_type": "stream",
     "text": [
      "Train rmse: 0.82049, Train R2: 0.02189, Train loss: 2.09583\n",
      "Test loss: 0.79867, Test R2: 0.00832\n",
      "\n",
      "Best Epoch: 14, Best Test R2: 0.00848\n"
     ]
    },
    {
     "name": "stderr",
     "output_type": "stream",
     "text": [
      "/home/mt/miniconda3/envs/tabm/lib/python3.10/site-packages/wandb/sdk/lib/ipython.py:89: DeprecationWarning: Importing display from IPython.core.display is deprecated since IPython 7.14, please import from IPython display\n",
      "  from IPython.core.display import display\n"
     ]
    },
    {
     "data": {
      "application/vnd.jupyter.widget-view+json": {
       "model_id": "8ac3ddfbe99b4c39822f30a79274daae",
       "version_major": 2,
       "version_minor": 0
      },
      "text/plain": [
       "VBox(children=(Label(value='0.004 MB of 0.004 MB uploaded\\r'), FloatProgress(value=1.0, max=1.0)))"
      ]
     },
     "metadata": {},
     "output_type": "display_data"
    },
    {
     "name": "stderr",
     "output_type": "stream",
     "text": [
      "/home/mt/miniconda3/envs/tabm/lib/python3.10/site-packages/wandb/sdk/lib/ipython.py:77: DeprecationWarning: Importing display from IPython.core.display is deprecated since IPython 7.14, please import from IPython display\n",
      "  from IPython.core.display import HTML, display  # type: ignore\n"
     ]
    },
    {
     "data": {
      "text/html": [
       "<style>\n",
       "    table.wandb td:nth-child(1) { padding: 0 10px; text-align: left ; width: auto;} td:nth-child(2) {text-align: left ; width: 100%}\n",
       "    .wandb-row { display: flex; flex-direction: row; flex-wrap: wrap; justify-content: flex-start; width: 100% }\n",
       "    .wandb-col { display: flex; flex-direction: column; flex-basis: 100%; flex: 1; padding: 10px; }\n",
       "    </style>\n",
       "<div class=\"wandb-row\"><div class=\"wandb-col\"><h3>Run history:</h3><br/><table class=\"wandb\"><tr><td>epoch</td><td>▁▁▂▃▃▃▄▅▅▅▆▇▇▇█</td></tr><tr><td>test_loss</td><td>█▅▄▄▄▄▃▃▂▂▁▂▁▁▁</td></tr><tr><td>test_r2</td><td>▁▄▅▅▅▅▆▆▇▇█▇███</td></tr><tr><td>train_loss</td><td>█▆▅▄▄▃▃▃▂▂▂▂▁▁▁</td></tr><tr><td>train_r2</td><td>▁▃▄▅▅▆▆▆▇▇▇▇███</td></tr><tr><td>train_rmse</td><td>█▆▅▄▄▃▃▃▂▂▂▂▁▁▁</td></tr></table><br/></div><div class=\"wandb-col\"><h3>Run summary:</h3><br/><table class=\"wandb\"><tr><td>best_test_r2</td><td>0.00848</td></tr><tr><td>best_train_r2</td><td>0.02189</td></tr><tr><td>epoch</td><td>15</td></tr><tr><td>test_loss</td><td>0.79867</td></tr><tr><td>test_r2</td><td>0.00832</td></tr><tr><td>train_loss</td><td>2.09583</td></tr><tr><td>train_r2</td><td>0.02189</td></tr><tr><td>train_rmse</td><td>0.82049</td></tr></table><br/></div></div>"
      ],
      "text/plain": [
       "<IPython.core.display.HTML object>"
      ]
     },
     "metadata": {},
     "output_type": "display_data"
    },
    {
     "data": {
      "text/html": [
       " View run <strong style=\"color:#cdcd00\">twilight-sweep-23</strong> at: <a href='https://wandb.ai/turkenm/js_tabm/runs/kd0bsolx' target=\"_blank\">https://wandb.ai/turkenm/js_tabm/runs/kd0bsolx</a><br/> View project at: <a href='https://wandb.ai/turkenm/js_tabm' target=\"_blank\">https://wandb.ai/turkenm/js_tabm</a><br/>Synced 6 W&B file(s), 0 media file(s), 0 artifact file(s) and 0 other file(s)"
      ],
      "text/plain": [
       "<IPython.core.display.HTML object>"
      ]
     },
     "metadata": {},
     "output_type": "display_data"
    },
    {
     "data": {
      "text/html": [
       "Find logs at: <code>./wandb/run-20250112_195236-kd0bsolx/logs</code>"
      ],
      "text/plain": [
       "<IPython.core.display.HTML object>"
      ]
     },
     "metadata": {},
     "output_type": "display_data"
    },
    {
     "name": "stderr",
     "output_type": "stream",
     "text": [
      "\u001b[34m\u001b[1mwandb\u001b[0m: Agent Starting Run: hdhh5ybo with config:\n",
      "\u001b[34m\u001b[1mwandb\u001b[0m: \td_block: 64\n",
      "\u001b[34m\u001b[1mwandb\u001b[0m: \tdrop_out: 0.15\n",
      "\u001b[34m\u001b[1mwandb\u001b[0m: \tlearning_rate: 0.0001\n",
      "\u001b[34m\u001b[1mwandb\u001b[0m: \tmodel_arch: tabm-mini\n",
      "\u001b[34m\u001b[1mwandb\u001b[0m: \tn_block: 3\n",
      "\u001b[34m\u001b[1mwandb\u001b[0m: \tn_k: 32\n",
      "\u001b[34m\u001b[1mwandb\u001b[0m: \tweight_decay: 0.0002\n",
      "Failed to detect the name of this notebook, you can set it manually with the WANDB_NOTEBOOK_NAME environment variable to enable code saving.\n",
      "/home/mt/miniconda3/envs/tabm/lib/python3.10/site-packages/wandb/sdk/wandb_setup.py:254: ResourceWarning: unclosed file <_io.TextIOWrapper name='/home/mt/Desktop/JaneStreet-Comp/wandb/sweep-mtpap5fv/config-hdhh5ybo.yaml' mode='r' encoding='UTF-8'>\n",
      "  self._sweep_config = config_util.dict_from_config_file(\n",
      "ResourceWarning: Enable tracemalloc to get the object allocation traceback\n"
     ]
    },
    {
     "data": {
      "text/html": [
       "wandb version 0.19.2 is available!  To upgrade, please run:\n",
       " $ pip install wandb --upgrade"
      ],
      "text/plain": [
       "<IPython.core.display.HTML object>"
      ]
     },
     "metadata": {},
     "output_type": "display_data"
    },
    {
     "data": {
      "text/html": [
       "Tracking run with wandb version 0.16.6"
      ],
      "text/plain": [
       "<IPython.core.display.HTML object>"
      ]
     },
     "metadata": {},
     "output_type": "display_data"
    },
    {
     "data": {
      "text/html": [
       "Run data is saved locally in <code>/home/mt/Desktop/JaneStreet-Comp/wandb/run-20250112_200423-hdhh5ybo</code>"
      ],
      "text/plain": [
       "<IPython.core.display.HTML object>"
      ]
     },
     "metadata": {},
     "output_type": "display_data"
    },
    {
     "data": {
      "text/html": [
       "Syncing run <strong><a href='https://wandb.ai/turkenm/js_tabm/runs/hdhh5ybo' target=\"_blank\">lyric-sweep-24</a></strong> to <a href='https://wandb.ai/turkenm/js_tabm' target=\"_blank\">Weights & Biases</a> (<a href='https://wandb.me/run' target=\"_blank\">docs</a>)<br/>Sweep page: <a href='https://wandb.ai/turkenm/js_tabm/sweeps/mtpap5fv' target=\"_blank\">https://wandb.ai/turkenm/js_tabm/sweeps/mtpap5fv</a>"
      ],
      "text/plain": [
       "<IPython.core.display.HTML object>"
      ]
     },
     "metadata": {},
     "output_type": "display_data"
    },
    {
     "data": {
      "text/html": [
       " View project at <a href='https://wandb.ai/turkenm/js_tabm' target=\"_blank\">https://wandb.ai/turkenm/js_tabm</a>"
      ],
      "text/plain": [
       "<IPython.core.display.HTML object>"
      ]
     },
     "metadata": {},
     "output_type": "display_data"
    },
    {
     "data": {
      "text/html": [
       " View sweep at <a href='https://wandb.ai/turkenm/js_tabm/sweeps/mtpap5fv' target=\"_blank\">https://wandb.ai/turkenm/js_tabm/sweeps/mtpap5fv</a>"
      ],
      "text/plain": [
       "<IPython.core.display.HTML object>"
      ]
     },
     "metadata": {},
     "output_type": "display_data"
    },
    {
     "data": {
      "text/html": [
       " View run at <a href='https://wandb.ai/turkenm/js_tabm/runs/hdhh5ybo' target=\"_blank\">https://wandb.ai/turkenm/js_tabm/runs/hdhh5ybo</a>"
      ],
      "text/plain": [
       "<IPython.core.display.HTML object>"
      ]
     },
     "metadata": {},
     "output_type": "display_data"
    },
    {
     "name": "stdout",
     "output_type": "stream",
     "text": [
      "EXPERIMENT exp_tabm-mini_dblocks_64_nblocks_3_LR_1e-04_BS_1024_DR_0.15_k_32_id_1466\n",
      "\n",
      "\n",
      "Epoch 1:\n"
     ]
    },
    {
     "name": "stderr",
     "output_type": "stream",
     "text": [
      "Training: 100%|██████████| 18964/18964 [00:44<00:00, 422.30it/s, Loss=2.12, rmse=0.825, R²=0.00821]\n",
      "Testing: 100%|██████████| 676/676 [00:01<00:00, 544.95it/s, Loss=0.76, R²=0.00568] \n"
     ]
    },
    {
     "name": "stdout",
     "output_type": "stream",
     "text": [
      "Train rmse: 0.82620, Train R2: 0.00824, Train loss: 2.11758\n",
      "Test loss: 0.79978, Test R2: 0.00557\n",
      "Model Saved - Epoch 1 - Test R2: 0.00557\n",
      "\n",
      "\n",
      "Epoch 2:\n"
     ]
    },
    {
     "name": "stderr",
     "output_type": "stream",
     "text": [
      "Training: 100%|██████████| 18964/18964 [00:44<00:00, 423.15it/s, Loss=2.11, rmse=0.823, R²=0.0128]\n",
      "Testing: 100%|██████████| 676/676 [00:01<00:00, 545.97it/s, Loss=0.76, R²=0.00676] \n"
     ]
    },
    {
     "name": "stdout",
     "output_type": "stream",
     "text": [
      "Train rmse: 0.82428, Train R2: 0.01284, Train loss: 2.11003\n",
      "Test loss: 0.79936, Test R2: 0.00660\n",
      "Model Saved - Epoch 2 - Test R2: 0.00660\n",
      "\n",
      "\n",
      "Epoch 3:\n"
     ]
    },
    {
     "name": "stderr",
     "output_type": "stream",
     "text": [
      "Training: 100%|██████████| 18964/18964 [00:44<00:00, 423.11it/s, Loss=2.11, rmse=0.822, R²=0.0147]\n",
      "Testing: 100%|██████████| 676/676 [00:01<00:00, 544.36it/s, Loss=0.76, R²=0.00716] \n"
     ]
    },
    {
     "name": "stdout",
     "output_type": "stream",
     "text": [
      "Train rmse: 0.82350, Train R2: 0.01470, Train loss: 2.10716\n",
      "Test loss: 0.79921, Test R2: 0.00698\n",
      "Model Saved - Epoch 3 - Test R2: 0.00698\n",
      "\n",
      "\n",
      "Epoch 4:\n"
     ]
    },
    {
     "name": "stderr",
     "output_type": "stream",
     "text": [
      "Training:   3%|▎         | 584/18964 [00:01<00:41, 446.70it/s, Loss=2.12, rmse=0.825, R²=0.0156]/home/mt/miniconda3/envs/tabm/lib/python3.10/site-packages/torch/nn/functional.py:1425: ResourceWarning: unclosed <socket.socket fd=109, family=AddressFamily.AF_INET, type=SocketKind.SOCK_STREAM, proto=0, laddr=('127.0.0.1', 44550), raddr=('127.0.0.1', 55915)>\n",
      "  _VF.dropout_(input, p, training) if inplace else _VF.dropout(input, p, training)\n",
      "ResourceWarning: Enable tracemalloc to get the object allocation traceback\n",
      "Training: 100%|██████████| 18964/18964 [00:44<00:00, 422.13it/s, Loss=2.11, rmse=0.822, R²=0.0158]\n",
      "Testing: 100%|██████████| 676/676 [00:01<00:00, 543.94it/s, Loss=0.76, R²=0.00737] \n"
     ]
    },
    {
     "name": "stdout",
     "output_type": "stream",
     "text": [
      "Train rmse: 0.82302, Train R2: 0.01585, Train loss: 2.10543\n",
      "Test loss: 0.79912, Test R2: 0.00719\n",
      "Model Saved - Epoch 4 - Test R2: 0.00719\n",
      "\n",
      "\n",
      "Epoch 5:\n"
     ]
    },
    {
     "name": "stderr",
     "output_type": "stream",
     "text": [
      "Training: 100%|██████████| 18964/18964 [00:44<00:00, 422.85it/s, Loss=2.1, rmse=0.822, R²=0.0167] \n",
      "Testing: 100%|██████████| 676/676 [00:01<00:00, 544.61it/s, Loss=0.76, R²=0.00763] \n"
     ]
    },
    {
     "name": "stdout",
     "output_type": "stream",
     "text": [
      "Train rmse: 0.82268, Train R2: 0.01667, Train loss: 2.10409\n",
      "Test loss: 0.79903, Test R2: 0.00744\n",
      "Model Saved - Epoch 5 - Test R2: 0.00744\n",
      "\n",
      "\n",
      "Epoch 6:\n"
     ]
    },
    {
     "name": "stderr",
     "output_type": "stream",
     "text": [
      "Training: 100%|██████████| 18964/18964 [00:44<00:00, 423.29it/s, Loss=2.1, rmse=0.821, R²=0.0174]\n",
      "Testing: 100%|██████████| 676/676 [00:01<00:00, 543.81it/s, Loss=0.76, R²=0.00767] \n"
     ]
    },
    {
     "name": "stdout",
     "output_type": "stream",
     "text": [
      "Train rmse: 0.82240, Train R2: 0.01734, Train loss: 2.10294\n",
      "Test loss: 0.79900, Test R2: 0.00750\n",
      "Model Saved - Epoch 6 - Test R2: 0.00750\n",
      "\n",
      "\n",
      "Epoch 7:\n"
     ]
    },
    {
     "name": "stderr",
     "output_type": "stream",
     "text": [
      "Training: 100%|██████████| 18964/18964 [00:44<00:00, 423.49it/s, Loss=2.1, rmse=0.821, R²=0.0179]\n",
      "Testing: 100%|██████████| 676/676 [00:01<00:00, 545.79it/s, Loss=0.76, R²=0.00788] \n"
     ]
    },
    {
     "name": "stdout",
     "output_type": "stream",
     "text": [
      "Train rmse: 0.82215, Train R2: 0.01793, Train loss: 2.10195\n",
      "Test loss: 0.79892, Test R2: 0.00770\n",
      "Model Saved - Epoch 7 - Test R2: 0.00770\n",
      "\n",
      "\n",
      "Epoch 8:\n"
     ]
    },
    {
     "name": "stderr",
     "output_type": "stream",
     "text": [
      "Training: 100%|██████████| 18964/18964 [00:44<00:00, 423.99it/s, Loss=2.1, rmse=0.821, R²=0.0185]\n",
      "Testing: 100%|██████████| 676/676 [00:01<00:00, 545.57it/s, Loss=0.76, R²=0.00794] \n"
     ]
    },
    {
     "name": "stdout",
     "output_type": "stream",
     "text": [
      "Train rmse: 0.82193, Train R2: 0.01846, Train loss: 2.10108\n",
      "Test loss: 0.79890, Test R2: 0.00776\n",
      "Model Saved - Epoch 8 - Test R2: 0.00776\n",
      "\n",
      "\n",
      "Epoch 9:\n"
     ]
    },
    {
     "name": "stderr",
     "output_type": "stream",
     "text": [
      "Training: 100%|██████████| 18964/18964 [00:44<00:00, 423.10it/s, Loss=2.1, rmse=0.821, R²=0.0189]\n",
      "Testing: 100%|██████████| 676/676 [00:01<00:00, 543.98it/s, Loss=0.76, R²=0.0081]  \n"
     ]
    },
    {
     "name": "stdout",
     "output_type": "stream",
     "text": [
      "Train rmse: 0.82173, Train R2: 0.01895, Train loss: 2.10029\n",
      "Test loss: 0.79884, Test R2: 0.00789\n",
      "Model Saved - Epoch 9 - Test R2: 0.00789\n",
      "\n",
      "\n",
      "Epoch 10:\n"
     ]
    },
    {
     "name": "stderr",
     "output_type": "stream",
     "text": [
      "Training: 100%|██████████| 18964/18964 [00:45<00:00, 420.02it/s, Loss=2.1, rmse=0.82, R²=0.0194] \n",
      "Testing: 100%|██████████| 676/676 [00:01<00:00, 535.93it/s, Loss=0.76, R²=0.00819] \n"
     ]
    },
    {
     "name": "stdout",
     "output_type": "stream",
     "text": [
      "Train rmse: 0.82152, Train R2: 0.01943, Train loss: 2.09954\n",
      "Test loss: 0.79880, Test R2: 0.00800\n",
      "Model Saved - Epoch 10 - Test R2: 0.00800\n",
      "\n",
      "\n",
      "Epoch 11:\n"
     ]
    },
    {
     "name": "stderr",
     "output_type": "stream",
     "text": [
      "Training: 100%|██████████| 18964/18964 [00:45<00:00, 419.71it/s, Loss=2.1, rmse=0.82, R²=0.0199]\n",
      "Testing: 100%|██████████| 676/676 [00:01<00:00, 540.38it/s, Loss=0.76, R²=0.00833] \n"
     ]
    },
    {
     "name": "stdout",
     "output_type": "stream",
     "text": [
      "Train rmse: 0.82131, Train R2: 0.01993, Train loss: 2.09872\n",
      "Test loss: 0.79874, Test R2: 0.00814\n",
      "Model Saved - Epoch 11 - Test R2: 0.00814\n",
      "\n",
      "\n",
      "Epoch 12:\n"
     ]
    },
    {
     "name": "stderr",
     "output_type": "stream",
     "text": [
      "Training: 100%|██████████| 18964/18964 [00:45<00:00, 416.15it/s, Loss=2.1, rmse=0.82, R²=0.0204] \n",
      "Testing: 100%|██████████| 676/676 [00:01<00:00, 538.46it/s, Loss=0.76, R²=0.0087]  \n"
     ]
    },
    {
     "name": "stdout",
     "output_type": "stream",
     "text": [
      "Train rmse: 0.82110, Train R2: 0.02045, Train loss: 2.09791\n",
      "Test loss: 0.79861, Test R2: 0.00847\n",
      "Model Saved - Epoch 12 - Test R2: 0.00847\n",
      "\n",
      "\n",
      "Epoch 13:\n"
     ]
    },
    {
     "name": "stderr",
     "output_type": "stream",
     "text": [
      "Training: 100%|██████████| 18964/18964 [00:45<00:00, 418.65it/s, Loss=2.1, rmse=0.82, R²=0.021]  \n",
      "Testing: 100%|██████████| 676/676 [00:01<00:00, 538.17it/s, Loss=0.76, R²=0.00867] \n"
     ]
    },
    {
     "name": "stdout",
     "output_type": "stream",
     "text": [
      "Train rmse: 0.82086, Train R2: 0.02100, Train loss: 2.09703\n",
      "Test loss: 0.79862, Test R2: 0.00845\n",
      "\n",
      "Epoch 14:\n"
     ]
    },
    {
     "name": "stderr",
     "output_type": "stream",
     "text": [
      "Training: 100%|██████████| 18964/18964 [00:45<00:00, 420.24it/s, Loss=2.1, rmse=0.819, R²=0.0215]\n",
      "Testing: 100%|██████████| 676/676 [00:01<00:00, 539.76it/s, Loss=0.76, R²=0.0086]  \n"
     ]
    },
    {
     "name": "stdout",
     "output_type": "stream",
     "text": [
      "Train rmse: 0.82062, Train R2: 0.02159, Train loss: 2.09607\n",
      "Test loss: 0.79863, Test R2: 0.00841\n",
      "\n",
      "Epoch 15:\n"
     ]
    },
    {
     "name": "stderr",
     "output_type": "stream",
     "text": [
      "Training: 100%|██████████| 18964/18964 [00:45<00:00, 417.75it/s, Loss=2.09, rmse=0.819, R²=0.0222]\n",
      "Testing: 100%|██████████| 676/676 [00:01<00:00, 538.78it/s, Loss=0.759, R²=0.0088] \n"
     ]
    },
    {
     "name": "stdout",
     "output_type": "stream",
     "text": [
      "Train rmse: 0.82036, Train R2: 0.02222, Train loss: 2.09515\n",
      "Test loss: 0.79856, Test R2: 0.00859\n",
      "Model Saved - Epoch 15 - Test R2: 0.00859\n",
      "\n",
      "\n",
      "Best Epoch: 15, Best Test R2: 0.00859\n"
     ]
    },
    {
     "name": "stderr",
     "output_type": "stream",
     "text": [
      "/home/mt/miniconda3/envs/tabm/lib/python3.10/site-packages/wandb/sdk/lib/ipython.py:89: DeprecationWarning: Importing display from IPython.core.display is deprecated since IPython 7.14, please import from IPython display\n",
      "  from IPython.core.display import display\n"
     ]
    },
    {
     "data": {
      "application/vnd.jupyter.widget-view+json": {
       "model_id": "03e24f94b4b64a2c8448b3c972103037",
       "version_major": 2,
       "version_minor": 0
      },
      "text/plain": [
       "VBox(children=(Label(value='0.004 MB of 0.004 MB uploaded\\r'), FloatProgress(value=1.0, max=1.0)))"
      ]
     },
     "metadata": {},
     "output_type": "display_data"
    },
    {
     "name": "stderr",
     "output_type": "stream",
     "text": [
      "/home/mt/miniconda3/envs/tabm/lib/python3.10/site-packages/wandb/sdk/lib/ipython.py:77: DeprecationWarning: Importing display from IPython.core.display is deprecated since IPython 7.14, please import from IPython display\n",
      "  from IPython.core.display import HTML, display  # type: ignore\n"
     ]
    },
    {
     "data": {
      "text/html": [
       "<style>\n",
       "    table.wandb td:nth-child(1) { padding: 0 10px; text-align: left ; width: auto;} td:nth-child(2) {text-align: left ; width: 100%}\n",
       "    .wandb-row { display: flex; flex-direction: row; flex-wrap: wrap; justify-content: flex-start; width: 100% }\n",
       "    .wandb-col { display: flex; flex-direction: column; flex-basis: 100%; flex: 1; padding: 10px; }\n",
       "    </style>\n",
       "<div class=\"wandb-row\"><div class=\"wandb-col\"><h3>Run history:</h3><br/><table class=\"wandb\"><tr><td>epoch</td><td>▁▁▂▃▃▃▄▅▅▅▆▇▇▇█</td></tr><tr><td>test_loss</td><td>█▆▅▄▄▄▃▃▃▂▂▁▁▁▁</td></tr><tr><td>test_r2</td><td>▁▃▄▅▅▅▆▆▆▇▇████</td></tr><tr><td>train_loss</td><td>█▆▅▄▄▃▃▃▃▂▂▂▂▁▁</td></tr><tr><td>train_r2</td><td>▁▃▄▅▅▆▆▆▆▇▇▇▇██</td></tr><tr><td>train_rmse</td><td>█▆▅▄▄▃▃▃▃▂▂▂▂▁▁</td></tr></table><br/></div><div class=\"wandb-col\"><h3>Run summary:</h3><br/><table class=\"wandb\"><tr><td>best_test_r2</td><td>0.00859</td></tr><tr><td>best_train_r2</td><td>0.02222</td></tr><tr><td>epoch</td><td>15</td></tr><tr><td>test_loss</td><td>0.79856</td></tr><tr><td>test_r2</td><td>0.00859</td></tr><tr><td>train_loss</td><td>2.09515</td></tr><tr><td>train_r2</td><td>0.02222</td></tr><tr><td>train_rmse</td><td>0.82036</td></tr></table><br/></div></div>"
      ],
      "text/plain": [
       "<IPython.core.display.HTML object>"
      ]
     },
     "metadata": {},
     "output_type": "display_data"
    },
    {
     "data": {
      "text/html": [
       " View run <strong style=\"color:#cdcd00\">lyric-sweep-24</strong> at: <a href='https://wandb.ai/turkenm/js_tabm/runs/hdhh5ybo' target=\"_blank\">https://wandb.ai/turkenm/js_tabm/runs/hdhh5ybo</a><br/> View project at: <a href='https://wandb.ai/turkenm/js_tabm' target=\"_blank\">https://wandb.ai/turkenm/js_tabm</a><br/>Synced 6 W&B file(s), 0 media file(s), 0 artifact file(s) and 0 other file(s)"
      ],
      "text/plain": [
       "<IPython.core.display.HTML object>"
      ]
     },
     "metadata": {},
     "output_type": "display_data"
    },
    {
     "data": {
      "text/html": [
       "Find logs at: <code>./wandb/run-20250112_200423-hdhh5ybo/logs</code>"
      ],
      "text/plain": [
       "<IPython.core.display.HTML object>"
      ]
     },
     "metadata": {},
     "output_type": "display_data"
    },
    {
     "name": "stderr",
     "output_type": "stream",
     "text": [
      "\u001b[34m\u001b[1mwandb\u001b[0m: Agent Starting Run: uazqetss with config:\n",
      "\u001b[34m\u001b[1mwandb\u001b[0m: \td_block: 128\n",
      "\u001b[34m\u001b[1mwandb\u001b[0m: \tdrop_out: 0.1\n",
      "\u001b[34m\u001b[1mwandb\u001b[0m: \tlearning_rate: 0.00015\n",
      "\u001b[34m\u001b[1mwandb\u001b[0m: \tmodel_arch: tabm-mini\n",
      "\u001b[34m\u001b[1mwandb\u001b[0m: \tn_block: 3\n",
      "\u001b[34m\u001b[1mwandb\u001b[0m: \tn_k: 16\n",
      "\u001b[34m\u001b[1mwandb\u001b[0m: \tweight_decay: 0.0001\n",
      "Failed to detect the name of this notebook, you can set it manually with the WANDB_NOTEBOOK_NAME environment variable to enable code saving.\n",
      "/home/mt/miniconda3/envs/tabm/lib/python3.10/site-packages/wandb/sdk/wandb_setup.py:254: ResourceWarning: unclosed file <_io.TextIOWrapper name='/home/mt/Desktop/JaneStreet-Comp/wandb/sweep-mtpap5fv/config-uazqetss.yaml' mode='r' encoding='UTF-8'>\n",
      "  self._sweep_config = config_util.dict_from_config_file(\n",
      "ResourceWarning: Enable tracemalloc to get the object allocation traceback\n"
     ]
    },
    {
     "data": {
      "text/html": [
       "wandb version 0.19.2 is available!  To upgrade, please run:\n",
       " $ pip install wandb --upgrade"
      ],
      "text/plain": [
       "<IPython.core.display.HTML object>"
      ]
     },
     "metadata": {},
     "output_type": "display_data"
    },
    {
     "data": {
      "text/html": [
       "Tracking run with wandb version 0.16.6"
      ],
      "text/plain": [
       "<IPython.core.display.HTML object>"
      ]
     },
     "metadata": {},
     "output_type": "display_data"
    },
    {
     "data": {
      "text/html": [
       "Run data is saved locally in <code>/home/mt/Desktop/JaneStreet-Comp/wandb/run-20250112_201614-uazqetss</code>"
      ],
      "text/plain": [
       "<IPython.core.display.HTML object>"
      ]
     },
     "metadata": {},
     "output_type": "display_data"
    },
    {
     "data": {
      "text/html": [
       "Syncing run <strong><a href='https://wandb.ai/turkenm/js_tabm/runs/uazqetss' target=\"_blank\">dandy-sweep-25</a></strong> to <a href='https://wandb.ai/turkenm/js_tabm' target=\"_blank\">Weights & Biases</a> (<a href='https://wandb.me/run' target=\"_blank\">docs</a>)<br/>Sweep page: <a href='https://wandb.ai/turkenm/js_tabm/sweeps/mtpap5fv' target=\"_blank\">https://wandb.ai/turkenm/js_tabm/sweeps/mtpap5fv</a>"
      ],
      "text/plain": [
       "<IPython.core.display.HTML object>"
      ]
     },
     "metadata": {},
     "output_type": "display_data"
    },
    {
     "data": {
      "text/html": [
       " View project at <a href='https://wandb.ai/turkenm/js_tabm' target=\"_blank\">https://wandb.ai/turkenm/js_tabm</a>"
      ],
      "text/plain": [
       "<IPython.core.display.HTML object>"
      ]
     },
     "metadata": {},
     "output_type": "display_data"
    },
    {
     "data": {
      "text/html": [
       " View sweep at <a href='https://wandb.ai/turkenm/js_tabm/sweeps/mtpap5fv' target=\"_blank\">https://wandb.ai/turkenm/js_tabm/sweeps/mtpap5fv</a>"
      ],
      "text/plain": [
       "<IPython.core.display.HTML object>"
      ]
     },
     "metadata": {},
     "output_type": "display_data"
    },
    {
     "data": {
      "text/html": [
       " View run at <a href='https://wandb.ai/turkenm/js_tabm/runs/uazqetss' target=\"_blank\">https://wandb.ai/turkenm/js_tabm/runs/uazqetss</a>"
      ],
      "text/plain": [
       "<IPython.core.display.HTML object>"
      ]
     },
     "metadata": {},
     "output_type": "display_data"
    },
    {
     "name": "stdout",
     "output_type": "stream",
     "text": [
      "EXPERIMENT exp_tabm-mini_dblocks_128_nblocks_3_LR_1e-04_BS_1024_DR_0.1_k_16_id_2177\n",
      "\n",
      "\n",
      "Epoch 1:\n"
     ]
    },
    {
     "name": "stderr",
     "output_type": "stream",
     "text": [
      "Training: 100%|██████████| 18964/18964 [00:34<00:00, 548.78it/s, Loss=2.1, rmse=0.822, R²=0.0154] \n",
      "Testing: 100%|██████████| 676/676 [00:01<00:00, 671.90it/s, Loss=0.759, R²=0.00903]\n"
     ]
    },
    {
     "name": "stdout",
     "output_type": "stream",
     "text": [
      "Train rmse: 0.82321, Train R2: 0.01539, Train loss: 2.10466\n",
      "Test loss: 0.79848, Test R2: 0.00880\n",
      "Model Saved - Epoch 1 - Test R2: 0.00880\n",
      "\n",
      "\n",
      "Epoch 2:\n"
     ]
    },
    {
     "name": "stderr",
     "output_type": "stream",
     "text": [
      "Training: 100%|██████████| 18964/18964 [00:34<00:00, 551.31it/s, Loss=2.09, rmse=0.819, R²=0.0218]\n",
      "Testing: 100%|██████████| 676/676 [00:01<00:00, 673.61it/s, Loss=0.76, R²=0.00907] \n"
     ]
    },
    {
     "name": "stdout",
     "output_type": "stream",
     "text": [
      "Train rmse: 0.82052, Train R2: 0.02182, Train loss: 2.09431\n",
      "Test loss: 0.79845, Test R2: 0.00886\n",
      "Model Saved - Epoch 2 - Test R2: 0.00886\n",
      "\n",
      "\n",
      "Epoch 3:\n"
     ]
    },
    {
     "name": "stderr",
     "output_type": "stream",
     "text": [
      "Training: 100%|██████████| 18964/18964 [00:34<00:00, 554.36it/s, Loss=2.09, rmse=0.818, R²=0.0242]\n",
      "Testing: 100%|██████████| 676/676 [00:01<00:00, 669.86it/s, Loss=0.759, R²=0.00938]\n"
     ]
    },
    {
     "name": "stdout",
     "output_type": "stream",
     "text": [
      "Train rmse: 0.81954, Train R2: 0.02416, Train loss: 2.09065\n",
      "Test loss: 0.79835, Test R2: 0.00912\n",
      "Model Saved - Epoch 3 - Test R2: 0.00912\n",
      "\n",
      "\n",
      "Epoch 4:\n"
     ]
    },
    {
     "name": "stderr",
     "output_type": "stream",
     "text": [
      "Training:   7%|▋         | 1254/18964 [00:02<00:30, 582.96it/s, Loss=2.09, rmse=0.818, R²=0.0256]/home/mt/miniconda3/envs/tabm/lib/python3.10/site-packages/torch/nn/functional.py:1425: ResourceWarning: unclosed <socket.socket fd=108, family=AddressFamily.AF_INET, type=SocketKind.SOCK_STREAM, proto=0, laddr=('127.0.0.1', 48308), raddr=('127.0.0.1', 51737)>\n",
      "  _VF.dropout_(input, p, training) if inplace else _VF.dropout(input, p, training)\n",
      "ResourceWarning: Enable tracemalloc to get the object allocation traceback\n",
      "Training: 100%|██████████| 18964/18964 [00:34<00:00, 552.70it/s, Loss=2.09, rmse=0.818, R²=0.0257]\n",
      "Testing: 100%|██████████| 676/676 [00:01<00:00, 673.03it/s, Loss=0.759, R²=0.00945]\n"
     ]
    },
    {
     "name": "stdout",
     "output_type": "stream",
     "text": [
      "Train rmse: 0.81888, Train R2: 0.02572, Train loss: 2.08846\n",
      "Test loss: 0.79830, Test R2: 0.00923\n",
      "Model Saved - Epoch 4 - Test R2: 0.00923\n",
      "\n",
      "\n",
      "Epoch 5:\n"
     ]
    },
    {
     "name": "stderr",
     "output_type": "stream",
     "text": [
      "Training: 100%|██████████| 18964/18964 [00:34<00:00, 554.43it/s, Loss=2.09, rmse=0.817, R²=0.0269]\n",
      "Testing: 100%|██████████| 676/676 [00:01<00:00, 673.64it/s, Loss=0.76, R²=0.00904] \n"
     ]
    },
    {
     "name": "stdout",
     "output_type": "stream",
     "text": [
      "Train rmse: 0.81839, Train R2: 0.02689, Train loss: 2.08690\n",
      "Test loss: 0.79847, Test R2: 0.00882\n",
      "\n",
      "Epoch 6:\n"
     ]
    },
    {
     "name": "stderr",
     "output_type": "stream",
     "text": [
      "Training: 100%|██████████| 18964/18964 [00:34<00:00, 550.63it/s, Loss=2.09, rmse=0.817, R²=0.0278]\n",
      "Testing: 100%|██████████| 676/676 [00:01<00:00, 667.34it/s, Loss=0.76, R²=0.0091]  \n"
     ]
    },
    {
     "name": "stdout",
     "output_type": "stream",
     "text": [
      "Train rmse: 0.81800, Train R2: 0.02783, Train loss: 2.08569\n",
      "Test loss: 0.79845, Test R2: 0.00887\n",
      "\n",
      "Epoch 7:\n"
     ]
    },
    {
     "name": "stderr",
     "output_type": "stream",
     "text": [
      "Training: 100%|██████████| 18964/18964 [00:34<00:00, 551.80it/s, Loss=2.08, rmse=0.817, R²=0.0286]\n",
      "Testing: 100%|██████████| 676/676 [00:01<00:00, 673.78it/s, Loss=0.759, R²=0.0101] \n"
     ]
    },
    {
     "name": "stdout",
     "output_type": "stream",
     "text": [
      "Train rmse: 0.81768, Train R2: 0.02859, Train loss: 2.08465\n",
      "Test loss: 0.79808, Test R2: 0.00978\n",
      "Model Saved - Epoch 7 - Test R2: 0.00978\n",
      "\n",
      "\n",
      "Epoch 8:\n"
     ]
    },
    {
     "name": "stderr",
     "output_type": "stream",
     "text": [
      "Training: 100%|██████████| 18964/18964 [00:34<00:00, 551.84it/s, Loss=2.08, rmse=0.816, R²=0.0293]\n",
      "Testing: 100%|██████████| 676/676 [00:01<00:00, 670.75it/s, Loss=0.759, R²=0.00984]\n"
     ]
    },
    {
     "name": "stdout",
     "output_type": "stream",
     "text": [
      "Train rmse: 0.81739, Train R2: 0.02927, Train loss: 2.08368\n",
      "Test loss: 0.79817, Test R2: 0.00956\n",
      "\n",
      "Epoch 9:\n"
     ]
    },
    {
     "name": "stderr",
     "output_type": "stream",
     "text": [
      "Training: 100%|██████████| 18964/18964 [00:34<00:00, 552.28it/s, Loss=2.08, rmse=0.816, R²=0.0299]\n",
      "Testing: 100%|██████████| 676/676 [00:01<00:00, 669.67it/s, Loss=0.759, R²=0.00982]\n"
     ]
    },
    {
     "name": "stdout",
     "output_type": "stream",
     "text": [
      "Train rmse: 0.81712, Train R2: 0.02991, Train loss: 2.08281\n",
      "Test loss: 0.79816, Test R2: 0.00958\n",
      "\n",
      "Epoch 10:\n"
     ]
    },
    {
     "name": "stderr",
     "output_type": "stream",
     "text": [
      "Training: 100%|██████████| 18964/18964 [00:34<00:00, 549.17it/s, Loss=2.08, rmse=0.816, R²=0.0305]\n",
      "Testing: 100%|██████████| 676/676 [00:01<00:00, 669.43it/s, Loss=0.759, R²=0.00987]\n"
     ]
    },
    {
     "name": "stdout",
     "output_type": "stream",
     "text": [
      "Train rmse: 0.81686, Train R2: 0.03054, Train loss: 2.08196\n",
      "Test loss: 0.79815, Test R2: 0.00961\n",
      "\n",
      "Epoch 11:\n"
     ]
    },
    {
     "name": "stderr",
     "output_type": "stream",
     "text": [
      "Training: 100%|██████████| 18964/18964 [00:34<00:00, 548.21it/s, Loss=2.08, rmse=0.815, R²=0.031] \n",
      "Testing: 100%|██████████| 676/676 [00:01<00:00, 670.71it/s, Loss=0.759, R²=0.00986]\n"
     ]
    },
    {
     "name": "stdout",
     "output_type": "stream",
     "text": [
      "Train rmse: 0.81664, Train R2: 0.03105, Train loss: 2.08129\n",
      "Test loss: 0.79814, Test R2: 0.00963\n",
      "\n",
      "Epoch 12:\n"
     ]
    },
    {
     "name": "stderr",
     "output_type": "stream",
     "text": [
      "Training: 100%|██████████| 18964/18964 [00:34<00:00, 550.81it/s, Loss=2.08, rmse=0.815, R²=0.0316]\n",
      "Testing: 100%|██████████| 676/676 [00:01<00:00, 670.62it/s, Loss=0.759, R²=0.00974]\n"
     ]
    },
    {
     "name": "stdout",
     "output_type": "stream",
     "text": [
      "Train rmse: 0.81641, Train R2: 0.03160, Train loss: 2.08047\n",
      "Test loss: 0.79819, Test R2: 0.00952\n",
      "\n",
      "Epoch 13:\n"
     ]
    },
    {
     "name": "stderr",
     "output_type": "stream",
     "text": [
      "Training: 100%|██████████| 18964/18964 [00:34<00:00, 555.69it/s, Loss=2.08, rmse=0.815, R²=0.0321]\n",
      "Testing: 100%|██████████| 676/676 [00:00<00:00, 685.95it/s, Loss=0.759, R²=0.00962]\n"
     ]
    },
    {
     "name": "stdout",
     "output_type": "stream",
     "text": [
      "Train rmse: 0.81620, Train R2: 0.03211, Train loss: 2.07960\n",
      "Test loss: 0.79824, Test R2: 0.00939\n",
      "\n",
      "Epoch 14:\n"
     ]
    },
    {
     "name": "stderr",
     "output_type": "stream",
     "text": [
      "Training: 100%|██████████| 18964/18964 [00:34<00:00, 555.56it/s, Loss=2.08, rmse=0.815, R²=0.0325]\n",
      "Testing: 100%|██████████| 676/676 [00:00<00:00, 681.29it/s, Loss=0.759, R²=0.00972]\n"
     ]
    },
    {
     "name": "stdout",
     "output_type": "stream",
     "text": [
      "Train rmse: 0.81601, Train R2: 0.03256, Train loss: 2.07890\n",
      "Test loss: 0.79819, Test R2: 0.00950\n",
      "\n",
      "Epoch 15:\n"
     ]
    },
    {
     "name": "stderr",
     "output_type": "stream",
     "text": [
      "Training: 100%|██████████| 18964/18964 [00:34<00:00, 554.51it/s, Loss=2.08, rmse=0.815, R²=0.033] \n",
      "Testing: 100%|██████████| 676/676 [00:00<00:00, 680.82it/s, Loss=0.759, R²=0.00999]\n"
     ]
    },
    {
     "name": "stdout",
     "output_type": "stream",
     "text": [
      "Train rmse: 0.81579, Train R2: 0.03306, Train loss: 2.07816\n",
      "Test loss: 0.79809, Test R2: 0.00975\n",
      "\n",
      "Best Epoch: 7, Best Test R2: 0.00978\n"
     ]
    },
    {
     "name": "stderr",
     "output_type": "stream",
     "text": [
      "/home/mt/miniconda3/envs/tabm/lib/python3.10/site-packages/wandb/sdk/lib/ipython.py:89: DeprecationWarning: Importing display from IPython.core.display is deprecated since IPython 7.14, please import from IPython display\n",
      "  from IPython.core.display import display\n"
     ]
    },
    {
     "data": {
      "application/vnd.jupyter.widget-view+json": {
       "model_id": "4ab527e47c6f4df5a042cbb74e491a85",
       "version_major": 2,
       "version_minor": 0
      },
      "text/plain": [
       "VBox(children=(Label(value='0.004 MB of 0.004 MB uploaded\\r'), FloatProgress(value=1.0, max=1.0)))"
      ]
     },
     "metadata": {},
     "output_type": "display_data"
    },
    {
     "name": "stderr",
     "output_type": "stream",
     "text": [
      "/home/mt/miniconda3/envs/tabm/lib/python3.10/site-packages/wandb/sdk/lib/ipython.py:77: DeprecationWarning: Importing display from IPython.core.display is deprecated since IPython 7.14, please import from IPython display\n",
      "  from IPython.core.display import HTML, display  # type: ignore\n"
     ]
    },
    {
     "data": {
      "text/html": [
       "<style>\n",
       "    table.wandb td:nth-child(1) { padding: 0 10px; text-align: left ; width: auto;} td:nth-child(2) {text-align: left ; width: 100%}\n",
       "    .wandb-row { display: flex; flex-direction: row; flex-wrap: wrap; justify-content: flex-start; width: 100% }\n",
       "    .wandb-col { display: flex; flex-direction: column; flex-basis: 100%; flex: 1; padding: 10px; }\n",
       "    </style>\n",
       "<div class=\"wandb-row\"><div class=\"wandb-col\"><h3>Run history:</h3><br/><table class=\"wandb\"><tr><td>epoch</td><td>▁▁▂▃▃▃▄▅▅▅▆▇▇▇█</td></tr><tr><td>test_loss</td><td>██▆▅█▇▁▃▂▂▂▃▄▃▁</td></tr><tr><td>test_r2</td><td>▁▁▃▄▁▂█▆▇▇▇▆▅▆█</td></tr><tr><td>train_loss</td><td>█▅▄▄▃▃▃▂▂▂▂▂▁▁▁</td></tr><tr><td>train_r2</td><td>▁▄▄▅▆▆▆▆▇▇▇▇███</td></tr><tr><td>train_rmse</td><td>█▅▅▄▃▃▃▃▂▂▂▂▁▁▁</td></tr></table><br/></div><div class=\"wandb-col\"><h3>Run summary:</h3><br/><table class=\"wandb\"><tr><td>best_test_r2</td><td>0.00978</td></tr><tr><td>best_train_r2</td><td>0.03306</td></tr><tr><td>epoch</td><td>15</td></tr><tr><td>test_loss</td><td>0.79809</td></tr><tr><td>test_r2</td><td>0.00975</td></tr><tr><td>train_loss</td><td>2.07816</td></tr><tr><td>train_r2</td><td>0.03306</td></tr><tr><td>train_rmse</td><td>0.81579</td></tr></table><br/></div></div>"
      ],
      "text/plain": [
       "<IPython.core.display.HTML object>"
      ]
     },
     "metadata": {},
     "output_type": "display_data"
    },
    {
     "data": {
      "text/html": [
       " View run <strong style=\"color:#cdcd00\">dandy-sweep-25</strong> at: <a href='https://wandb.ai/turkenm/js_tabm/runs/uazqetss' target=\"_blank\">https://wandb.ai/turkenm/js_tabm/runs/uazqetss</a><br/> View project at: <a href='https://wandb.ai/turkenm/js_tabm' target=\"_blank\">https://wandb.ai/turkenm/js_tabm</a><br/>Synced 6 W&B file(s), 0 media file(s), 0 artifact file(s) and 0 other file(s)"
      ],
      "text/plain": [
       "<IPython.core.display.HTML object>"
      ]
     },
     "metadata": {},
     "output_type": "display_data"
    },
    {
     "data": {
      "text/html": [
       "Find logs at: <code>./wandb/run-20250112_201614-uazqetss/logs</code>"
      ],
      "text/plain": [
       "<IPython.core.display.HTML object>"
      ]
     },
     "metadata": {},
     "output_type": "display_data"
    },
    {
     "name": "stderr",
     "output_type": "stream",
     "text": [
      "\u001b[34m\u001b[1mwandb\u001b[0m: Agent Starting Run: gh3ljb4s with config:\n",
      "\u001b[34m\u001b[1mwandb\u001b[0m: \td_block: 128\n",
      "\u001b[34m\u001b[1mwandb\u001b[0m: \tdrop_out: 0.1\n",
      "\u001b[34m\u001b[1mwandb\u001b[0m: \tlearning_rate: 0.00015\n",
      "\u001b[34m\u001b[1mwandb\u001b[0m: \tmodel_arch: tabm-mini\n",
      "\u001b[34m\u001b[1mwandb\u001b[0m: \tn_block: 3\n",
      "\u001b[34m\u001b[1mwandb\u001b[0m: \tn_k: 16\n",
      "\u001b[34m\u001b[1mwandb\u001b[0m: \tweight_decay: 0.0002\n",
      "Failed to detect the name of this notebook, you can set it manually with the WANDB_NOTEBOOK_NAME environment variable to enable code saving.\n",
      "/home/mt/miniconda3/envs/tabm/lib/python3.10/site-packages/wandb/sdk/wandb_setup.py:254: ResourceWarning: unclosed file <_io.TextIOWrapper name='/home/mt/Desktop/JaneStreet-Comp/wandb/sweep-mtpap5fv/config-gh3ljb4s.yaml' mode='r' encoding='UTF-8'>\n",
      "  self._sweep_config = config_util.dict_from_config_file(\n",
      "ResourceWarning: Enable tracemalloc to get the object allocation traceback\n"
     ]
    },
    {
     "data": {
      "text/html": [
       "wandb version 0.19.2 is available!  To upgrade, please run:\n",
       " $ pip install wandb --upgrade"
      ],
      "text/plain": [
       "<IPython.core.display.HTML object>"
      ]
     },
     "metadata": {},
     "output_type": "display_data"
    },
    {
     "data": {
      "text/html": [
       "Tracking run with wandb version 0.16.6"
      ],
      "text/plain": [
       "<IPython.core.display.HTML object>"
      ]
     },
     "metadata": {},
     "output_type": "display_data"
    },
    {
     "data": {
      "text/html": [
       "Run data is saved locally in <code>/home/mt/Desktop/JaneStreet-Comp/wandb/run-20250112_202519-gh3ljb4s</code>"
      ],
      "text/plain": [
       "<IPython.core.display.HTML object>"
      ]
     },
     "metadata": {},
     "output_type": "display_data"
    },
    {
     "data": {
      "text/html": [
       "Syncing run <strong><a href='https://wandb.ai/turkenm/js_tabm/runs/gh3ljb4s' target=\"_blank\">devout-sweep-26</a></strong> to <a href='https://wandb.ai/turkenm/js_tabm' target=\"_blank\">Weights & Biases</a> (<a href='https://wandb.me/run' target=\"_blank\">docs</a>)<br/>Sweep page: <a href='https://wandb.ai/turkenm/js_tabm/sweeps/mtpap5fv' target=\"_blank\">https://wandb.ai/turkenm/js_tabm/sweeps/mtpap5fv</a>"
      ],
      "text/plain": [
       "<IPython.core.display.HTML object>"
      ]
     },
     "metadata": {},
     "output_type": "display_data"
    },
    {
     "data": {
      "text/html": [
       " View project at <a href='https://wandb.ai/turkenm/js_tabm' target=\"_blank\">https://wandb.ai/turkenm/js_tabm</a>"
      ],
      "text/plain": [
       "<IPython.core.display.HTML object>"
      ]
     },
     "metadata": {},
     "output_type": "display_data"
    },
    {
     "data": {
      "text/html": [
       " View sweep at <a href='https://wandb.ai/turkenm/js_tabm/sweeps/mtpap5fv' target=\"_blank\">https://wandb.ai/turkenm/js_tabm/sweeps/mtpap5fv</a>"
      ],
      "text/plain": [
       "<IPython.core.display.HTML object>"
      ]
     },
     "metadata": {},
     "output_type": "display_data"
    },
    {
     "data": {
      "text/html": [
       " View run at <a href='https://wandb.ai/turkenm/js_tabm/runs/gh3ljb4s' target=\"_blank\">https://wandb.ai/turkenm/js_tabm/runs/gh3ljb4s</a>"
      ],
      "text/plain": [
       "<IPython.core.display.HTML object>"
      ]
     },
     "metadata": {},
     "output_type": "display_data"
    },
    {
     "name": "stdout",
     "output_type": "stream",
     "text": [
      "EXPERIMENT exp_tabm-mini_dblocks_128_nblocks_3_LR_1e-04_BS_1024_DR_0.1_k_16_id_2722\n",
      "\n",
      "\n",
      "Epoch 1:\n"
     ]
    },
    {
     "name": "stderr",
     "output_type": "stream",
     "text": [
      "Training: 100%|██████████| 18964/18964 [00:34<00:00, 552.44it/s, Loss=2.1, rmse=0.822, R²=0.0153] \n",
      "Testing: 100%|██████████| 676/676 [00:00<00:00, 678.21it/s, Loss=0.76, R²=0.00807] \n"
     ]
    },
    {
     "name": "stdout",
     "output_type": "stream",
     "text": [
      "Train rmse: 0.82323, Train R2: 0.01537, Train loss: 2.10467\n",
      "Test loss: 0.79885, Test R2: 0.00789\n",
      "Model Saved - Epoch 1 - Test R2: 0.00789\n",
      "\n",
      "\n",
      "Epoch 2:\n"
     ]
    },
    {
     "name": "stderr",
     "output_type": "stream",
     "text": [
      "Training: 100%|██████████| 18964/18964 [00:34<00:00, 551.94it/s, Loss=2.09, rmse=0.819, R²=0.0219]\n",
      "Testing: 100%|██████████| 676/676 [00:00<00:00, 678.98it/s, Loss=0.76, R²=0.00856] \n"
     ]
    },
    {
     "name": "stdout",
     "output_type": "stream",
     "text": [
      "Train rmse: 0.82048, Train R2: 0.02192, Train loss: 2.09412\n",
      "Test loss: 0.79864, Test R2: 0.00839\n",
      "Model Saved - Epoch 2 - Test R2: 0.00839\n",
      "\n",
      "\n",
      "Epoch 3:\n"
     ]
    },
    {
     "name": "stderr",
     "output_type": "stream",
     "text": [
      "Training: 100%|██████████| 18964/18964 [00:34<00:00, 553.84it/s, Loss=2.09, rmse=0.818, R²=0.0243]\n",
      "Testing: 100%|██████████| 676/676 [00:00<00:00, 680.34it/s, Loss=0.76, R²=0.00853] \n"
     ]
    },
    {
     "name": "stdout",
     "output_type": "stream",
     "text": [
      "Train rmse: 0.81948, Train R2: 0.02430, Train loss: 2.09047\n",
      "Test loss: 0.79869, Test R2: 0.00828\n",
      "\n",
      "Epoch 4:\n"
     ]
    },
    {
     "name": "stderr",
     "output_type": "stream",
     "text": [
      "Training:   3%|▎         | 597/18964 [00:01<00:31, 589.69it/s, Loss=2.08, rmse=0.817, R²=0.0268]/home/mt/miniconda3/envs/tabm/lib/python3.10/site-packages/torch/nn/functional.py:1425: ResourceWarning: unclosed <socket.socket fd=109, family=AddressFamily.AF_INET, type=SocketKind.SOCK_STREAM, proto=0, laddr=('127.0.0.1', 58628), raddr=('127.0.0.1', 50851)>\n",
      "  _VF.dropout_(input, p, training) if inplace else _VF.dropout(input, p, training)\n",
      "ResourceWarning: Enable tracemalloc to get the object allocation traceback\n",
      "Training: 100%|██████████| 18964/18964 [00:34<00:00, 549.84it/s, Loss=2.09, rmse=0.818, R²=0.0258]\n",
      "Testing: 100%|██████████| 676/676 [00:00<00:00, 678.08it/s, Loss=0.76, R²=0.00907] \n"
     ]
    },
    {
     "name": "stdout",
     "output_type": "stream",
     "text": [
      "Train rmse: 0.81884, Train R2: 0.02584, Train loss: 2.08837\n",
      "Test loss: 0.79846, Test R2: 0.00885\n",
      "Model Saved - Epoch 4 - Test R2: 0.00885\n",
      "\n",
      "\n",
      "Epoch 5:\n"
     ]
    },
    {
     "name": "stderr",
     "output_type": "stream",
     "text": [
      "Training: 100%|██████████| 18964/18964 [00:34<00:00, 555.91it/s, Loss=2.09, rmse=0.817, R²=0.0268]\n",
      "Testing: 100%|██████████| 676/676 [00:00<00:00, 683.06it/s, Loss=0.76, R²=0.00859] \n"
     ]
    },
    {
     "name": "stdout",
     "output_type": "stream",
     "text": [
      "Train rmse: 0.81839, Train R2: 0.02689, Train loss: 2.08686\n",
      "Test loss: 0.79863, Test R2: 0.00841\n",
      "\n",
      "Epoch 6:\n"
     ]
    },
    {
     "name": "stderr",
     "output_type": "stream",
     "text": [
      "Training: 100%|██████████| 18964/18964 [00:33<00:00, 558.42it/s, Loss=2.09, rmse=0.817, R²=0.0279]\n",
      "Testing: 100%|██████████| 676/676 [00:00<00:00, 681.03it/s, Loss=0.76, R²=0.00846] \n"
     ]
    },
    {
     "name": "stdout",
     "output_type": "stream",
     "text": [
      "Train rmse: 0.81797, Train R2: 0.02789, Train loss: 2.08560\n",
      "Test loss: 0.79868, Test R2: 0.00829\n",
      "\n",
      "Epoch 7:\n"
     ]
    },
    {
     "name": "stderr",
     "output_type": "stream",
     "text": [
      "Training: 100%|██████████| 18964/18964 [00:34<00:00, 555.66it/s, Loss=2.08, rmse=0.817, R²=0.0286]\n",
      "Testing: 100%|██████████| 676/676 [00:00<00:00, 681.19it/s, Loss=0.76, R²=0.00891] \n"
     ]
    },
    {
     "name": "stdout",
     "output_type": "stream",
     "text": [
      "Train rmse: 0.81768, Train R2: 0.02858, Train loss: 2.08463\n",
      "Test loss: 0.79851, Test R2: 0.00871\n",
      "\n",
      "Epoch 8:\n"
     ]
    },
    {
     "name": "stderr",
     "output_type": "stream",
     "text": [
      "Training: 100%|██████████| 18964/18964 [00:34<00:00, 556.84it/s, Loss=2.08, rmse=0.816, R²=0.0293]\n",
      "Testing: 100%|██████████| 676/676 [00:00<00:00, 678.85it/s, Loss=0.759, R²=0.00922]\n"
     ]
    },
    {
     "name": "stdout",
     "output_type": "stream",
     "text": [
      "Train rmse: 0.81740, Train R2: 0.02926, Train loss: 2.08375\n",
      "Test loss: 0.79840, Test R2: 0.00898\n",
      "Model Saved - Epoch 8 - Test R2: 0.00898\n",
      "\n",
      "\n",
      "Epoch 9:\n"
     ]
    },
    {
     "name": "stderr",
     "output_type": "stream",
     "text": [
      "Training: 100%|██████████| 18964/18964 [00:34<00:00, 551.62it/s, Loss=2.08, rmse=0.816, R²=0.0299]\n",
      "Testing: 100%|██████████| 676/676 [00:00<00:00, 679.78it/s, Loss=0.76, R²=0.00914] \n"
     ]
    },
    {
     "name": "stdout",
     "output_type": "stream",
     "text": [
      "Train rmse: 0.81714, Train R2: 0.02987, Train loss: 2.08299\n",
      "Test loss: 0.79842, Test R2: 0.00894\n",
      "\n",
      "Epoch 10:\n"
     ]
    },
    {
     "name": "stderr",
     "output_type": "stream",
     "text": [
      "Training: 100%|██████████| 18964/18964 [00:34<00:00, 551.46it/s, Loss=2.08, rmse=0.816, R²=0.0305]\n",
      "Testing: 100%|██████████| 676/676 [00:00<00:00, 680.50it/s, Loss=0.76, R²=0.00911] \n"
     ]
    },
    {
     "name": "stdout",
     "output_type": "stream",
     "text": [
      "Train rmse: 0.81688, Train R2: 0.03049, Train loss: 2.08211\n",
      "Test loss: 0.79845, Test R2: 0.00886\n",
      "\n",
      "Epoch 11:\n"
     ]
    },
    {
     "name": "stderr",
     "output_type": "stream",
     "text": [
      "Training: 100%|██████████| 18964/18964 [00:34<00:00, 550.55it/s, Loss=2.08, rmse=0.816, R²=0.0311]\n",
      "Testing: 100%|██████████| 676/676 [00:00<00:00, 678.08it/s, Loss=0.759, R²=0.00929]\n"
     ]
    },
    {
     "name": "stdout",
     "output_type": "stream",
     "text": [
      "Train rmse: 0.81664, Train R2: 0.03106, Train loss: 2.08135\n",
      "Test loss: 0.79839, Test R2: 0.00903\n",
      "Model Saved - Epoch 11 - Test R2: 0.00903\n",
      "\n",
      "\n",
      "Epoch 12:\n"
     ]
    },
    {
     "name": "stderr",
     "output_type": "stream",
     "text": [
      "Training: 100%|██████████| 18964/18964 [00:34<00:00, 552.35it/s, Loss=2.08, rmse=0.815, R²=0.0316]\n",
      "Testing: 100%|██████████| 676/676 [00:00<00:00, 681.79it/s, Loss=0.759, R²=0.00932]\n"
     ]
    },
    {
     "name": "stdout",
     "output_type": "stream",
     "text": [
      "Train rmse: 0.81642, Train R2: 0.03159, Train loss: 2.08050\n",
      "Test loss: 0.79837, Test R2: 0.00908\n",
      "Model Saved - Epoch 12 - Test R2: 0.00908\n",
      "\n",
      "\n",
      "Epoch 13:\n"
     ]
    },
    {
     "name": "stderr",
     "output_type": "stream",
     "text": [
      "Training: 100%|██████████| 18964/18964 [00:34<00:00, 556.78it/s, Loss=2.08, rmse=0.815, R²=0.0322]\n",
      "Testing: 100%|██████████| 676/676 [00:00<00:00, 681.04it/s, Loss=0.76, R²=0.00912] \n"
     ]
    },
    {
     "name": "stdout",
     "output_type": "stream",
     "text": [
      "Train rmse: 0.81617, Train R2: 0.03218, Train loss: 2.07969\n",
      "Test loss: 0.79844, Test R2: 0.00890\n",
      "\n",
      "Epoch 14:\n"
     ]
    },
    {
     "name": "stderr",
     "output_type": "stream",
     "text": [
      "Training: 100%|██████████| 18964/18964 [00:34<00:00, 557.63it/s, Loss=2.08, rmse=0.815, R²=0.0326]\n",
      "Testing: 100%|██████████| 676/676 [00:00<00:00, 680.89it/s, Loss=0.759, R²=0.00909]\n"
     ]
    },
    {
     "name": "stdout",
     "output_type": "stream",
     "text": [
      "Train rmse: 0.81598, Train R2: 0.03262, Train loss: 2.07901\n",
      "Test loss: 0.79844, Test R2: 0.00888\n",
      "\n",
      "Epoch 15:\n"
     ]
    },
    {
     "name": "stderr",
     "output_type": "stream",
     "text": [
      "Training: 100%|██████████| 18964/18964 [00:34<00:00, 555.75it/s, Loss=2.08, rmse=0.815, R²=0.033] \n",
      "Testing: 100%|██████████| 676/676 [00:00<00:00, 680.98it/s, Loss=0.759, R²=0.00944]\n"
     ]
    },
    {
     "name": "stdout",
     "output_type": "stream",
     "text": [
      "Train rmse: 0.81581, Train R2: 0.03302, Train loss: 2.07842\n",
      "Test loss: 0.79833, Test R2: 0.00917\n",
      "Model Saved - Epoch 15 - Test R2: 0.00917\n",
      "\n",
      "\n",
      "Best Epoch: 15, Best Test R2: 0.00917\n"
     ]
    },
    {
     "name": "stderr",
     "output_type": "stream",
     "text": [
      "/home/mt/miniconda3/envs/tabm/lib/python3.10/site-packages/wandb/sdk/lib/ipython.py:89: DeprecationWarning: Importing display from IPython.core.display is deprecated since IPython 7.14, please import from IPython display\n",
      "  from IPython.core.display import display\n"
     ]
    },
    {
     "data": {
      "application/vnd.jupyter.widget-view+json": {
       "model_id": "fbb5675fad8040fa98149349b5733d52",
       "version_major": 2,
       "version_minor": 0
      },
      "text/plain": [
       "VBox(children=(Label(value='0.004 MB of 0.004 MB uploaded\\r'), FloatProgress(value=1.0, max=1.0)))"
      ]
     },
     "metadata": {},
     "output_type": "display_data"
    },
    {
     "name": "stderr",
     "output_type": "stream",
     "text": [
      "/home/mt/miniconda3/envs/tabm/lib/python3.10/site-packages/wandb/sdk/lib/ipython.py:77: DeprecationWarning: Importing display from IPython.core.display is deprecated since IPython 7.14, please import from IPython display\n",
      "  from IPython.core.display import HTML, display  # type: ignore\n"
     ]
    },
    {
     "data": {
      "text/html": [
       "<style>\n",
       "    table.wandb td:nth-child(1) { padding: 0 10px; text-align: left ; width: auto;} td:nth-child(2) {text-align: left ; width: 100%}\n",
       "    .wandb-row { display: flex; flex-direction: row; flex-wrap: wrap; justify-content: flex-start; width: 100% }\n",
       "    .wandb-col { display: flex; flex-direction: column; flex-basis: 100%; flex: 1; padding: 10px; }\n",
       "    </style>\n",
       "<div class=\"wandb-row\"><div class=\"wandb-col\"><h3>Run history:</h3><br/><table class=\"wandb\"><tr><td>epoch</td><td>▁▁▂▃▃▃▄▅▅▅▆▇▇▇█</td></tr><tr><td>test_loss</td><td>█▅▆▃▅▆▄▂▂▃▂▁▂▃▁</td></tr><tr><td>test_r2</td><td>▁▄▃▆▄▃▅▇▇▆▇█▇▆█</td></tr><tr><td>train_loss</td><td>█▅▄▄▃▃▃▂▂▂▂▂▁▁▁</td></tr><tr><td>train_r2</td><td>▁▄▅▅▆▆▆▇▇▇▇▇███</td></tr><tr><td>train_rmse</td><td>█▅▄▄▃▃▃▂▂▂▂▂▁▁▁</td></tr></table><br/></div><div class=\"wandb-col\"><h3>Run summary:</h3><br/><table class=\"wandb\"><tr><td>best_test_r2</td><td>0.00917</td></tr><tr><td>best_train_r2</td><td>0.03302</td></tr><tr><td>epoch</td><td>15</td></tr><tr><td>test_loss</td><td>0.79833</td></tr><tr><td>test_r2</td><td>0.00917</td></tr><tr><td>train_loss</td><td>2.07842</td></tr><tr><td>train_r2</td><td>0.03302</td></tr><tr><td>train_rmse</td><td>0.81581</td></tr></table><br/></div></div>"
      ],
      "text/plain": [
       "<IPython.core.display.HTML object>"
      ]
     },
     "metadata": {},
     "output_type": "display_data"
    },
    {
     "data": {
      "text/html": [
       " View run <strong style=\"color:#cdcd00\">devout-sweep-26</strong> at: <a href='https://wandb.ai/turkenm/js_tabm/runs/gh3ljb4s' target=\"_blank\">https://wandb.ai/turkenm/js_tabm/runs/gh3ljb4s</a><br/> View project at: <a href='https://wandb.ai/turkenm/js_tabm' target=\"_blank\">https://wandb.ai/turkenm/js_tabm</a><br/>Synced 6 W&B file(s), 0 media file(s), 0 artifact file(s) and 0 other file(s)"
      ],
      "text/plain": [
       "<IPython.core.display.HTML object>"
      ]
     },
     "metadata": {},
     "output_type": "display_data"
    },
    {
     "data": {
      "text/html": [
       "Find logs at: <code>./wandb/run-20250112_202519-gh3ljb4s/logs</code>"
      ],
      "text/plain": [
       "<IPython.core.display.HTML object>"
      ]
     },
     "metadata": {},
     "output_type": "display_data"
    },
    {
     "name": "stderr",
     "output_type": "stream",
     "text": [
      "\u001b[34m\u001b[1mwandb\u001b[0m: Agent Starting Run: zohr2dmj with config:\n",
      "\u001b[34m\u001b[1mwandb\u001b[0m: \td_block: 128\n",
      "\u001b[34m\u001b[1mwandb\u001b[0m: \tdrop_out: 0.1\n",
      "\u001b[34m\u001b[1mwandb\u001b[0m: \tlearning_rate: 0.00015\n",
      "\u001b[34m\u001b[1mwandb\u001b[0m: \tmodel_arch: tabm-mini\n",
      "\u001b[34m\u001b[1mwandb\u001b[0m: \tn_block: 3\n",
      "\u001b[34m\u001b[1mwandb\u001b[0m: \tn_k: 32\n",
      "\u001b[34m\u001b[1mwandb\u001b[0m: \tweight_decay: 0.0001\n",
      "Failed to detect the name of this notebook, you can set it manually with the WANDB_NOTEBOOK_NAME environment variable to enable code saving.\n",
      "/home/mt/miniconda3/envs/tabm/lib/python3.10/site-packages/wandb/sdk/wandb_setup.py:254: ResourceWarning: unclosed file <_io.TextIOWrapper name='/home/mt/Desktop/JaneStreet-Comp/wandb/sweep-mtpap5fv/config-zohr2dmj.yaml' mode='r' encoding='UTF-8'>\n",
      "  self._sweep_config = config_util.dict_from_config_file(\n",
      "ResourceWarning: Enable tracemalloc to get the object allocation traceback\n"
     ]
    },
    {
     "data": {
      "text/html": [
       "wandb version 0.19.2 is available!  To upgrade, please run:\n",
       " $ pip install wandb --upgrade"
      ],
      "text/plain": [
       "<IPython.core.display.HTML object>"
      ]
     },
     "metadata": {},
     "output_type": "display_data"
    },
    {
     "data": {
      "text/html": [
       "Tracking run with wandb version 0.16.6"
      ],
      "text/plain": [
       "<IPython.core.display.HTML object>"
      ]
     },
     "metadata": {},
     "output_type": "display_data"
    },
    {
     "data": {
      "text/html": [
       "Run data is saved locally in <code>/home/mt/Desktop/JaneStreet-Comp/wandb/run-20250112_203423-zohr2dmj</code>"
      ],
      "text/plain": [
       "<IPython.core.display.HTML object>"
      ]
     },
     "metadata": {},
     "output_type": "display_data"
    },
    {
     "data": {
      "text/html": [
       "Syncing run <strong><a href='https://wandb.ai/turkenm/js_tabm/runs/zohr2dmj' target=\"_blank\">genial-sweep-27</a></strong> to <a href='https://wandb.ai/turkenm/js_tabm' target=\"_blank\">Weights & Biases</a> (<a href='https://wandb.me/run' target=\"_blank\">docs</a>)<br/>Sweep page: <a href='https://wandb.ai/turkenm/js_tabm/sweeps/mtpap5fv' target=\"_blank\">https://wandb.ai/turkenm/js_tabm/sweeps/mtpap5fv</a>"
      ],
      "text/plain": [
       "<IPython.core.display.HTML object>"
      ]
     },
     "metadata": {},
     "output_type": "display_data"
    },
    {
     "data": {
      "text/html": [
       " View project at <a href='https://wandb.ai/turkenm/js_tabm' target=\"_blank\">https://wandb.ai/turkenm/js_tabm</a>"
      ],
      "text/plain": [
       "<IPython.core.display.HTML object>"
      ]
     },
     "metadata": {},
     "output_type": "display_data"
    },
    {
     "data": {
      "text/html": [
       " View sweep at <a href='https://wandb.ai/turkenm/js_tabm/sweeps/mtpap5fv' target=\"_blank\">https://wandb.ai/turkenm/js_tabm/sweeps/mtpap5fv</a>"
      ],
      "text/plain": [
       "<IPython.core.display.HTML object>"
      ]
     },
     "metadata": {},
     "output_type": "display_data"
    },
    {
     "data": {
      "text/html": [
       " View run at <a href='https://wandb.ai/turkenm/js_tabm/runs/zohr2dmj' target=\"_blank\">https://wandb.ai/turkenm/js_tabm/runs/zohr2dmj</a>"
      ],
      "text/plain": [
       "<IPython.core.display.HTML object>"
      ]
     },
     "metadata": {},
     "output_type": "display_data"
    },
    {
     "name": "stdout",
     "output_type": "stream",
     "text": [
      "EXPERIMENT exp_tabm-mini_dblocks_128_nblocks_3_LR_1e-04_BS_1024_DR_0.1_k_32_id_3266\n",
      "\n",
      "\n",
      "Epoch 1:\n"
     ]
    },
    {
     "name": "stderr",
     "output_type": "stream",
     "text": [
      "Training: 100%|██████████| 18964/18964 [00:52<00:00, 360.24it/s, Loss=2.11, rmse=0.823, R²=0.0133]\n",
      "Testing: 100%|██████████| 676/676 [00:01<00:00, 411.22it/s, Loss=0.76, R²=0.0082]  \n"
     ]
    },
    {
     "name": "stdout",
     "output_type": "stream",
     "text": [
      "Train rmse: 0.82408, Train R2: 0.01333, Train loss: 2.10831\n",
      "Test loss: 0.79880, Test R2: 0.00801\n",
      "Model Saved - Epoch 1 - Test R2: 0.00801\n",
      "\n",
      "\n",
      "Epoch 2:\n"
     ]
    },
    {
     "name": "stderr",
     "output_type": "stream",
     "text": [
      "Training: 100%|██████████| 18964/18964 [00:52<00:00, 360.90it/s, Loss=2.1, rmse=0.821, R²=0.019] \n",
      "Testing: 100%|██████████| 676/676 [00:01<00:00, 411.71it/s, Loss=0.76, R²=0.00823] \n"
     ]
    },
    {
     "name": "stdout",
     "output_type": "stream",
     "text": [
      "Train rmse: 0.82170, Train R2: 0.01901, Train loss: 2.09922\n",
      "Test loss: 0.79878, Test R2: 0.00806\n",
      "Model Saved - Epoch 2 - Test R2: 0.00806\n",
      "\n",
      "\n",
      "Epoch 3:\n"
     ]
    },
    {
     "name": "stderr",
     "output_type": "stream",
     "text": [
      "Training: 100%|██████████| 18964/18964 [00:52<00:00, 360.88it/s, Loss=2.1, rmse=0.82, R²=0.0211]\n",
      "Testing: 100%|██████████| 676/676 [00:01<00:00, 411.04it/s, Loss=0.76, R²=0.00879] \n",
      "/home/mt/miniconda3/envs/tabm/lib/python3.10/site-packages/torch/_tensor.py:981: ResourceWarning: unclosed <socket.socket fd=110, family=AddressFamily.AF_INET, type=SocketKind.SOCK_STREAM, proto=0, laddr=('127.0.0.1', 35200), raddr=('127.0.0.1', 47903)>\n",
      "  return torch._VF.split(self, split_size, dim)  # type: ignore[attr-defined]\n",
      "ResourceWarning: Enable tracemalloc to get the object allocation traceback\n"
     ]
    },
    {
     "name": "stdout",
     "output_type": "stream",
     "text": [
      "Train rmse: 0.82084, Train R2: 0.02107, Train loss: 2.09603\n",
      "Test loss: 0.79857, Test R2: 0.00856\n",
      "Model Saved - Epoch 3 - Test R2: 0.00856\n",
      "\n",
      "\n",
      "Epoch 4:\n"
     ]
    },
    {
     "name": "stderr",
     "output_type": "stream",
     "text": [
      "Training: 100%|██████████| 18964/18964 [00:52<00:00, 359.95it/s, Loss=2.09, rmse=0.819, R²=0.0223]\n",
      "Testing: 100%|██████████| 676/676 [00:01<00:00, 409.71it/s, Loss=0.76, R²=0.00844] \n"
     ]
    },
    {
     "name": "stdout",
     "output_type": "stream",
     "text": [
      "Train rmse: 0.82033, Train R2: 0.02228, Train loss: 2.09414\n",
      "Test loss: 0.79869, Test R2: 0.00828\n",
      "\n",
      "Epoch 5:\n"
     ]
    },
    {
     "name": "stderr",
     "output_type": "stream",
     "text": [
      "Training: 100%|██████████| 18964/18964 [00:52<00:00, 360.39it/s, Loss=2.09, rmse=0.819, R²=0.0233]\n",
      "Testing: 100%|██████████| 676/676 [00:01<00:00, 410.81it/s, Loss=0.76, R²=0.00905] \n"
     ]
    },
    {
     "name": "stdout",
     "output_type": "stream",
     "text": [
      "Train rmse: 0.81992, Train R2: 0.02325, Train loss: 2.09277\n",
      "Test loss: 0.79847, Test R2: 0.00883\n",
      "Model Saved - Epoch 5 - Test R2: 0.00883\n",
      "\n",
      "\n",
      "Epoch 6:\n"
     ]
    },
    {
     "name": "stderr",
     "output_type": "stream",
     "text": [
      "Training: 100%|██████████| 18964/18964 [00:52<00:00, 360.51it/s, Loss=2.09, rmse=0.818, R²=0.0241]\n",
      "Testing: 100%|██████████| 676/676 [00:01<00:00, 411.73it/s, Loss=0.76, R²=0.00895] \n"
     ]
    },
    {
     "name": "stdout",
     "output_type": "stream",
     "text": [
      "Train rmse: 0.81958, Train R2: 0.02405, Train loss: 2.09163\n",
      "Test loss: 0.79850, Test R2: 0.00875\n",
      "\n",
      "Epoch 7:\n"
     ]
    },
    {
     "name": "stderr",
     "output_type": "stream",
     "text": [
      "Training: 100%|██████████| 18964/18964 [00:52<00:00, 360.83it/s, Loss=2.09, rmse=0.818, R²=0.0247]\n",
      "Testing: 100%|██████████| 676/676 [00:01<00:00, 411.32it/s, Loss=0.76, R²=0.00895] \n"
     ]
    },
    {
     "name": "stdout",
     "output_type": "stream",
     "text": [
      "Train rmse: 0.81929, Train R2: 0.02475, Train loss: 2.09063\n",
      "Test loss: 0.79849, Test R2: 0.00877\n",
      "\n",
      "Epoch 8:\n"
     ]
    },
    {
     "name": "stderr",
     "output_type": "stream",
     "text": [
      "Training: 100%|██████████| 18964/18964 [00:52<00:00, 360.10it/s, Loss=2.09, rmse=0.818, R²=0.0254]\n",
      "Testing: 100%|██████████| 676/676 [00:01<00:00, 411.24it/s, Loss=0.759, R²=0.00923]\n"
     ]
    },
    {
     "name": "stdout",
     "output_type": "stream",
     "text": [
      "Train rmse: 0.81903, Train R2: 0.02537, Train loss: 2.08976\n",
      "Test loss: 0.79838, Test R2: 0.00903\n",
      "Model Saved - Epoch 8 - Test R2: 0.00903\n",
      "\n",
      "\n",
      "Epoch 9:\n"
     ]
    },
    {
     "name": "stderr",
     "output_type": "stream",
     "text": [
      "Training: 100%|██████████| 18964/18964 [00:52<00:00, 360.62it/s, Loss=2.09, rmse=0.818, R²=0.026] \n",
      "Testing: 100%|██████████| 676/676 [00:01<00:00, 411.41it/s, Loss=0.759, R²=0.00917]\n"
     ]
    },
    {
     "name": "stdout",
     "output_type": "stream",
     "text": [
      "Train rmse: 0.81877, Train R2: 0.02599, Train loss: 2.08894\n",
      "Test loss: 0.79841, Test R2: 0.00897\n",
      "\n",
      "Epoch 10:\n"
     ]
    },
    {
     "name": "stderr",
     "output_type": "stream",
     "text": [
      "Training: 100%|██████████| 18964/18964 [00:52<00:00, 360.15it/s, Loss=2.09, rmse=0.817, R²=0.0266]\n",
      "Testing: 100%|██████████| 676/676 [00:01<00:00, 409.53it/s, Loss=0.759, R²=0.00931]\n"
     ]
    },
    {
     "name": "stdout",
     "output_type": "stream",
     "text": [
      "Train rmse: 0.81853, Train R2: 0.02656, Train loss: 2.08806\n",
      "Test loss: 0.79835, Test R2: 0.00911\n",
      "Model Saved - Epoch 10 - Test R2: 0.00911\n",
      "\n",
      "\n",
      "Epoch 11:\n"
     ]
    },
    {
     "name": "stderr",
     "output_type": "stream",
     "text": [
      "Training: 100%|██████████| 18964/18964 [00:52<00:00, 358.30it/s, Loss=2.09, rmse=0.817, R²=0.0271]\n",
      "Testing: 100%|██████████| 676/676 [00:01<00:00, 411.25it/s, Loss=0.759, R²=0.00972]\n"
     ]
    },
    {
     "name": "stdout",
     "output_type": "stream",
     "text": [
      "Train rmse: 0.81830, Train R2: 0.02712, Train loss: 2.08725\n",
      "Test loss: 0.79820, Test R2: 0.00949\n",
      "Model Saved - Epoch 11 - Test R2: 0.00949\n",
      "\n",
      "\n",
      "Epoch 12:\n"
     ]
    },
    {
     "name": "stderr",
     "output_type": "stream",
     "text": [
      "Training: 100%|██████████| 18964/18964 [00:52<00:00, 359.53it/s, Loss=2.09, rmse=0.817, R²=0.0277]\n",
      "Testing: 100%|██████████| 676/676 [00:01<00:00, 411.10it/s, Loss=0.759, R²=0.00937]\n"
     ]
    },
    {
     "name": "stdout",
     "output_type": "stream",
     "text": [
      "Train rmse: 0.81803, Train R2: 0.02775, Train loss: 2.08636\n",
      "Test loss: 0.79836, Test R2: 0.00909\n",
      "\n",
      "Epoch 13:\n"
     ]
    },
    {
     "name": "stderr",
     "output_type": "stream",
     "text": [
      "Training: 100%|██████████| 18964/18964 [00:52<00:00, 359.32it/s, Loss=2.09, rmse=0.817, R²=0.0285]\n",
      "Testing: 100%|██████████| 676/676 [00:01<00:00, 409.44it/s, Loss=0.759, R²=0.01]   \n"
     ]
    },
    {
     "name": "stdout",
     "output_type": "stream",
     "text": [
      "Train rmse: 0.81773, Train R2: 0.02847, Train loss: 2.08527\n",
      "Test loss: 0.79810, Test R2: 0.00973\n",
      "Model Saved - Epoch 13 - Test R2: 0.00973\n",
      "\n",
      "\n",
      "Epoch 14:\n"
     ]
    },
    {
     "name": "stderr",
     "output_type": "stream",
     "text": [
      "Training: 100%|██████████| 18964/18964 [00:52<00:00, 359.53it/s, Loss=2.08, rmse=0.816, R²=0.0293]\n",
      "Testing: 100%|██████████| 676/676 [00:01<00:00, 409.90it/s, Loss=0.759, R²=0.00954]\n"
     ]
    },
    {
     "name": "stdout",
     "output_type": "stream",
     "text": [
      "Train rmse: 0.81737, Train R2: 0.02933, Train loss: 2.08398\n",
      "Test loss: 0.79827, Test R2: 0.00931\n",
      "\n",
      "Epoch 15:\n"
     ]
    },
    {
     "name": "stderr",
     "output_type": "stream",
     "text": [
      "Training: 100%|██████████| 18964/18964 [00:52<00:00, 359.75it/s, Loss=2.08, rmse=0.816, R²=0.0303]\n",
      "Testing: 100%|██████████| 676/676 [00:01<00:00, 411.34it/s, Loss=0.759, R²=0.0099] \n"
     ]
    },
    {
     "name": "stdout",
     "output_type": "stream",
     "text": [
      "Train rmse: 0.81696, Train R2: 0.03029, Train loss: 2.08249\n",
      "Test loss: 0.79814, Test R2: 0.00963\n",
      "\n",
      "Best Epoch: 13, Best Test R2: 0.00973\n"
     ]
    },
    {
     "name": "stderr",
     "output_type": "stream",
     "text": [
      "/home/mt/miniconda3/envs/tabm/lib/python3.10/site-packages/wandb/sdk/lib/ipython.py:89: DeprecationWarning: Importing display from IPython.core.display is deprecated since IPython 7.14, please import from IPython display\n",
      "  from IPython.core.display import display\n"
     ]
    },
    {
     "data": {
      "application/vnd.jupyter.widget-view+json": {
       "model_id": "0df00bc9be76434285f30d87490f281f",
       "version_major": 2,
       "version_minor": 0
      },
      "text/plain": [
       "VBox(children=(Label(value='0.004 MB of 0.004 MB uploaded\\r'), FloatProgress(value=1.0, max=1.0)))"
      ]
     },
     "metadata": {},
     "output_type": "display_data"
    },
    {
     "name": "stderr",
     "output_type": "stream",
     "text": [
      "/home/mt/miniconda3/envs/tabm/lib/python3.10/site-packages/wandb/sdk/lib/ipython.py:77: DeprecationWarning: Importing display from IPython.core.display is deprecated since IPython 7.14, please import from IPython display\n",
      "  from IPython.core.display import HTML, display  # type: ignore\n"
     ]
    },
    {
     "data": {
      "text/html": [
       "<style>\n",
       "    table.wandb td:nth-child(1) { padding: 0 10px; text-align: left ; width: auto;} td:nth-child(2) {text-align: left ; width: 100%}\n",
       "    .wandb-row { display: flex; flex-direction: row; flex-wrap: wrap; justify-content: flex-start; width: 100% }\n",
       "    .wandb-col { display: flex; flex-direction: column; flex-basis: 100%; flex: 1; padding: 10px; }\n",
       "    </style>\n",
       "<div class=\"wandb-row\"><div class=\"wandb-col\"><h3>Run history:</h3><br/><table class=\"wandb\"><tr><td>epoch</td><td>▁▁▂▃▃▃▄▅▅▅▆▇▇▇█</td></tr><tr><td>test_loss</td><td>██▆▇▅▅▅▄▄▄▂▄▁▃▁</td></tr><tr><td>test_r2</td><td>▁▁▃▂▄▄▄▅▅▅▇▅█▆█</td></tr><tr><td>train_loss</td><td>█▆▅▄▄▃▃▃▃▃▂▂▂▁▁</td></tr><tr><td>train_r2</td><td>▁▃▄▅▅▅▆▆▆▆▇▇▇██</td></tr><tr><td>train_rmse</td><td>█▆▅▄▄▄▃▃▃▃▂▂▂▁▁</td></tr></table><br/></div><div class=\"wandb-col\"><h3>Run summary:</h3><br/><table class=\"wandb\"><tr><td>best_test_r2</td><td>0.00973</td></tr><tr><td>best_train_r2</td><td>0.03029</td></tr><tr><td>epoch</td><td>15</td></tr><tr><td>test_loss</td><td>0.79814</td></tr><tr><td>test_r2</td><td>0.00963</td></tr><tr><td>train_loss</td><td>2.08249</td></tr><tr><td>train_r2</td><td>0.03029</td></tr><tr><td>train_rmse</td><td>0.81696</td></tr></table><br/></div></div>"
      ],
      "text/plain": [
       "<IPython.core.display.HTML object>"
      ]
     },
     "metadata": {},
     "output_type": "display_data"
    },
    {
     "data": {
      "text/html": [
       " View run <strong style=\"color:#cdcd00\">genial-sweep-27</strong> at: <a href='https://wandb.ai/turkenm/js_tabm/runs/zohr2dmj' target=\"_blank\">https://wandb.ai/turkenm/js_tabm/runs/zohr2dmj</a><br/> View project at: <a href='https://wandb.ai/turkenm/js_tabm' target=\"_blank\">https://wandb.ai/turkenm/js_tabm</a><br/>Synced 6 W&B file(s), 0 media file(s), 0 artifact file(s) and 0 other file(s)"
      ],
      "text/plain": [
       "<IPython.core.display.HTML object>"
      ]
     },
     "metadata": {},
     "output_type": "display_data"
    },
    {
     "data": {
      "text/html": [
       "Find logs at: <code>./wandb/run-20250112_203423-zohr2dmj/logs</code>"
      ],
      "text/plain": [
       "<IPython.core.display.HTML object>"
      ]
     },
     "metadata": {},
     "output_type": "display_data"
    },
    {
     "name": "stderr",
     "output_type": "stream",
     "text": [
      "\u001b[34m\u001b[1mwandb\u001b[0m: Agent Starting Run: pg7v2ptk with config:\n",
      "\u001b[34m\u001b[1mwandb\u001b[0m: \td_block: 128\n",
      "\u001b[34m\u001b[1mwandb\u001b[0m: \tdrop_out: 0.1\n",
      "\u001b[34m\u001b[1mwandb\u001b[0m: \tlearning_rate: 0.00015\n",
      "\u001b[34m\u001b[1mwandb\u001b[0m: \tmodel_arch: tabm-mini\n",
      "\u001b[34m\u001b[1mwandb\u001b[0m: \tn_block: 3\n",
      "\u001b[34m\u001b[1mwandb\u001b[0m: \tn_k: 32\n",
      "\u001b[34m\u001b[1mwandb\u001b[0m: \tweight_decay: 0.0002\n",
      "Failed to detect the name of this notebook, you can set it manually with the WANDB_NOTEBOOK_NAME environment variable to enable code saving.\n",
      "/home/mt/miniconda3/envs/tabm/lib/python3.10/site-packages/wandb/sdk/wandb_setup.py:254: ResourceWarning: unclosed file <_io.TextIOWrapper name='/home/mt/Desktop/JaneStreet-Comp/wandb/sweep-mtpap5fv/config-pg7v2ptk.yaml' mode='r' encoding='UTF-8'>\n",
      "  self._sweep_config = config_util.dict_from_config_file(\n",
      "ResourceWarning: Enable tracemalloc to get the object allocation traceback\n"
     ]
    },
    {
     "data": {
      "text/html": [
       "wandb version 0.19.2 is available!  To upgrade, please run:\n",
       " $ pip install wandb --upgrade"
      ],
      "text/plain": [
       "<IPython.core.display.HTML object>"
      ]
     },
     "metadata": {},
     "output_type": "display_data"
    },
    {
     "data": {
      "text/html": [
       "Tracking run with wandb version 0.16.6"
      ],
      "text/plain": [
       "<IPython.core.display.HTML object>"
      ]
     },
     "metadata": {},
     "output_type": "display_data"
    },
    {
     "data": {
      "text/html": [
       "Run data is saved locally in <code>/home/mt/Desktop/JaneStreet-Comp/wandb/run-20250112_204814-pg7v2ptk</code>"
      ],
      "text/plain": [
       "<IPython.core.display.HTML object>"
      ]
     },
     "metadata": {},
     "output_type": "display_data"
    },
    {
     "data": {
      "text/html": [
       "Syncing run <strong><a href='https://wandb.ai/turkenm/js_tabm/runs/pg7v2ptk' target=\"_blank\">divine-sweep-28</a></strong> to <a href='https://wandb.ai/turkenm/js_tabm' target=\"_blank\">Weights & Biases</a> (<a href='https://wandb.me/run' target=\"_blank\">docs</a>)<br/>Sweep page: <a href='https://wandb.ai/turkenm/js_tabm/sweeps/mtpap5fv' target=\"_blank\">https://wandb.ai/turkenm/js_tabm/sweeps/mtpap5fv</a>"
      ],
      "text/plain": [
       "<IPython.core.display.HTML object>"
      ]
     },
     "metadata": {},
     "output_type": "display_data"
    },
    {
     "data": {
      "text/html": [
       " View project at <a href='https://wandb.ai/turkenm/js_tabm' target=\"_blank\">https://wandb.ai/turkenm/js_tabm</a>"
      ],
      "text/plain": [
       "<IPython.core.display.HTML object>"
      ]
     },
     "metadata": {},
     "output_type": "display_data"
    },
    {
     "data": {
      "text/html": [
       " View sweep at <a href='https://wandb.ai/turkenm/js_tabm/sweeps/mtpap5fv' target=\"_blank\">https://wandb.ai/turkenm/js_tabm/sweeps/mtpap5fv</a>"
      ],
      "text/plain": [
       "<IPython.core.display.HTML object>"
      ]
     },
     "metadata": {},
     "output_type": "display_data"
    },
    {
     "data": {
      "text/html": [
       " View run at <a href='https://wandb.ai/turkenm/js_tabm/runs/pg7v2ptk' target=\"_blank\">https://wandb.ai/turkenm/js_tabm/runs/pg7v2ptk</a>"
      ],
      "text/plain": [
       "<IPython.core.display.HTML object>"
      ]
     },
     "metadata": {},
     "output_type": "display_data"
    },
    {
     "name": "stdout",
     "output_type": "stream",
     "text": [
      "EXPERIMENT exp_tabm-mini_dblocks_128_nblocks_3_LR_1e-04_BS_1024_DR_0.1_k_32_id_4097\n",
      "\n",
      "\n",
      "Epoch 1:\n"
     ]
    },
    {
     "name": "stderr",
     "output_type": "stream",
     "text": [
      "Training: 100%|██████████| 18964/18964 [00:52<00:00, 359.86it/s, Loss=2.11, rmse=0.823, R²=0.0134]\n",
      "Testing: 100%|██████████| 676/676 [00:01<00:00, 411.17it/s, Loss=0.76, R²=0.00836] \n"
     ]
    },
    {
     "name": "stdout",
     "output_type": "stream",
     "text": [
      "Train rmse: 0.82402, Train R2: 0.01345, Train loss: 2.10808\n",
      "Test loss: 0.79874, Test R2: 0.00815\n",
      "Model Saved - Epoch 1 - Test R2: 0.00815\n",
      "\n",
      "\n",
      "Epoch 2:\n"
     ]
    },
    {
     "name": "stderr",
     "output_type": "stream",
     "text": [
      "Training: 100%|██████████| 18964/18964 [00:52<00:00, 360.55it/s, Loss=2.1, rmse=0.821, R²=0.019] \n",
      "Testing: 100%|██████████| 676/676 [00:01<00:00, 410.89it/s, Loss=0.76, R²=0.00825] \n"
     ]
    },
    {
     "name": "stdout",
     "output_type": "stream",
     "text": [
      "Train rmse: 0.82170, Train R2: 0.01900, Train loss: 2.09916\n",
      "Test loss: 0.79877, Test R2: 0.00808\n",
      "\n",
      "Epoch 3:\n"
     ]
    },
    {
     "name": "stderr",
     "output_type": "stream",
     "text": [
      "Training: 100%|██████████| 18964/18964 [00:52<00:00, 360.61it/s, Loss=2.1, rmse=0.82, R²=0.0209]  \n",
      "Testing: 100%|██████████| 676/676 [00:01<00:00, 410.50it/s, Loss=0.76, R²=0.00837] \n"
     ]
    },
    {
     "name": "stdout",
     "output_type": "stream",
     "text": [
      "Train rmse: 0.82090, Train R2: 0.02092, Train loss: 2.09628\n",
      "Test loss: 0.79872, Test R2: 0.00819\n",
      "Model Saved - Epoch 3 - Test R2: 0.00819\n",
      "\n",
      "\n",
      "Epoch 4:\n"
     ]
    },
    {
     "name": "stderr",
     "output_type": "stream",
     "text": [
      "Training:   3%|▎         | 646/18964 [00:01<00:48, 377.42it/s, Loss=2.1, rmse=0.822, R²=0.0201]/home/mt/miniconda3/envs/tabm/lib/python3.10/site-packages/torch/nn/functional.py:1425: ResourceWarning: unclosed <socket.socket fd=108, family=AddressFamily.AF_INET, type=SocketKind.SOCK_STREAM, proto=0, laddr=('127.0.0.1', 37622), raddr=('127.0.0.1', 39891)>\n",
      "  _VF.dropout_(input, p, training) if inplace else _VF.dropout(input, p, training)\n",
      "ResourceWarning: Enable tracemalloc to get the object allocation traceback\n",
      "Training: 100%|██████████| 18964/18964 [00:52<00:00, 359.93it/s, Loss=2.09, rmse=0.819, R²=0.0222]\n",
      "Testing: 100%|██████████| 676/676 [00:01<00:00, 410.80it/s, Loss=0.76, R²=0.00845] \n"
     ]
    },
    {
     "name": "stdout",
     "output_type": "stream",
     "text": [
      "Train rmse: 0.82037, Train R2: 0.02218, Train loss: 2.09437\n",
      "Test loss: 0.79868, Test R2: 0.00829\n",
      "Model Saved - Epoch 4 - Test R2: 0.00829\n",
      "\n",
      "\n",
      "Epoch 5:\n"
     ]
    },
    {
     "name": "stderr",
     "output_type": "stream",
     "text": [
      "Training: 100%|██████████| 18964/18964 [00:52<00:00, 359.47it/s, Loss=2.09, rmse=0.819, R²=0.0231]\n",
      "Testing: 100%|██████████| 676/676 [00:01<00:00, 409.73it/s, Loss=0.76, R²=0.00894] \n"
     ]
    },
    {
     "name": "stdout",
     "output_type": "stream",
     "text": [
      "Train rmse: 0.82000, Train R2: 0.02307, Train loss: 2.09307\n",
      "Test loss: 0.79850, Test R2: 0.00875\n",
      "Model Saved - Epoch 5 - Test R2: 0.00875\n",
      "\n",
      "\n",
      "Epoch 6:\n"
     ]
    },
    {
     "name": "stderr",
     "output_type": "stream",
     "text": [
      "Training: 100%|██████████| 18964/18964 [00:52<00:00, 359.76it/s, Loss=2.09, rmse=0.819, R²=0.0239]\n",
      "Testing: 100%|██████████| 676/676 [00:01<00:00, 410.70it/s, Loss=0.76, R²=0.00885] \n"
     ]
    },
    {
     "name": "stdout",
     "output_type": "stream",
     "text": [
      "Train rmse: 0.81967, Train R2: 0.02386, Train loss: 2.09201\n",
      "Test loss: 0.79854, Test R2: 0.00865\n",
      "\n",
      "Epoch 7:\n"
     ]
    },
    {
     "name": "stderr",
     "output_type": "stream",
     "text": [
      "Training: 100%|██████████| 18964/18964 [00:52<00:00, 360.74it/s, Loss=2.09, rmse=0.818, R²=0.0245]\n",
      "Testing: 100%|██████████| 676/676 [00:01<00:00, 411.26it/s, Loss=0.76, R²=0.00864] \n"
     ]
    },
    {
     "name": "stdout",
     "output_type": "stream",
     "text": [
      "Train rmse: 0.81940, Train R2: 0.02450, Train loss: 2.09105\n",
      "Test loss: 0.79863, Test R2: 0.00843\n",
      "\n",
      "Epoch 8:\n"
     ]
    },
    {
     "name": "stderr",
     "output_type": "stream",
     "text": [
      "Training: 100%|██████████| 18964/18964 [00:52<00:00, 360.73it/s, Loss=2.09, rmse=0.818, R²=0.0251]\n",
      "Testing: 100%|██████████| 676/676 [00:01<00:00, 410.05it/s, Loss=0.76, R²=0.00866] \n"
     ]
    },
    {
     "name": "stdout",
     "output_type": "stream",
     "text": [
      "Train rmse: 0.81915, Train R2: 0.02510, Train loss: 2.09020\n",
      "Test loss: 0.79861, Test R2: 0.00846\n",
      "\n",
      "Epoch 9:\n"
     ]
    },
    {
     "name": "stderr",
     "output_type": "stream",
     "text": [
      "Training: 100%|██████████| 18964/18964 [00:52<00:00, 359.78it/s, Loss=2.09, rmse=0.818, R²=0.0257]\n",
      "Testing: 100%|██████████| 676/676 [00:01<00:00, 409.87it/s, Loss=0.76, R²=0.00852] \n"
     ]
    },
    {
     "name": "stdout",
     "output_type": "stream",
     "text": [
      "Train rmse: 0.81892, Train R2: 0.02565, Train loss: 2.08945\n",
      "Test loss: 0.79866, Test R2: 0.00835\n",
      "\n",
      "Epoch 10:\n"
     ]
    },
    {
     "name": "stderr",
     "output_type": "stream",
     "text": [
      "Training: 100%|██████████| 18964/18964 [00:52<00:00, 359.81it/s, Loss=2.09, rmse=0.818, R²=0.0261]\n",
      "Testing: 100%|██████████| 676/676 [00:01<00:00, 410.13it/s, Loss=0.76, R²=0.00875] \n"
     ]
    },
    {
     "name": "stdout",
     "output_type": "stream",
     "text": [
      "Train rmse: 0.81872, Train R2: 0.02611, Train loss: 2.08876\n",
      "Test loss: 0.79859, Test R2: 0.00852\n",
      "\n",
      "Epoch 11:\n"
     ]
    },
    {
     "name": "stderr",
     "output_type": "stream",
     "text": [
      "Training: 100%|██████████| 18964/18964 [00:52<00:00, 358.65it/s, Loss=2.09, rmse=0.817, R²=0.0266]\n",
      "Testing: 100%|██████████| 676/676 [00:01<00:00, 411.13it/s, Loss=0.76, R²=0.00886] \n"
     ]
    },
    {
     "name": "stdout",
     "output_type": "stream",
     "text": [
      "Train rmse: 0.81850, Train R2: 0.02664, Train loss: 2.08798\n",
      "Test loss: 0.79854, Test R2: 0.00865\n",
      "\n",
      "Epoch 12:\n"
     ]
    },
    {
     "name": "stderr",
     "output_type": "stream",
     "text": [
      "Training: 100%|██████████| 18964/18964 [00:52<00:00, 360.05it/s, Loss=2.09, rmse=0.817, R²=0.0271]\n",
      "Testing: 100%|██████████| 676/676 [00:01<00:00, 411.08it/s, Loss=0.76, R²=0.00897] \n"
     ]
    },
    {
     "name": "stdout",
     "output_type": "stream",
     "text": [
      "Train rmse: 0.81830, Train R2: 0.02712, Train loss: 2.08735\n",
      "Test loss: 0.79850, Test R2: 0.00876\n",
      "Model Saved - Epoch 12 - Test R2: 0.00876\n",
      "\n",
      "\n",
      "Epoch 13:\n"
     ]
    },
    {
     "name": "stderr",
     "output_type": "stream",
     "text": [
      "Training: 100%|██████████| 18964/18964 [00:52<00:00, 360.55it/s, Loss=2.09, rmse=0.817, R²=0.0277]\n",
      "Testing: 100%|██████████| 676/676 [00:01<00:00, 411.19it/s, Loss=0.76, R²=0.00884] \n"
     ]
    },
    {
     "name": "stdout",
     "output_type": "stream",
     "text": [
      "Train rmse: 0.81806, Train R2: 0.02767, Train loss: 2.08643\n",
      "Test loss: 0.79853, Test R2: 0.00867\n",
      "\n",
      "Epoch 14:\n"
     ]
    },
    {
     "name": "stderr",
     "output_type": "stream",
     "text": [
      "Training: 100%|██████████| 18964/18964 [00:52<00:00, 361.05it/s, Loss=2.09, rmse=0.817, R²=0.0284]\n",
      "Testing: 100%|██████████| 676/676 [00:01<00:00, 411.18it/s, Loss=0.76, R²=0.00827]  \n"
     ]
    },
    {
     "name": "stdout",
     "output_type": "stream",
     "text": [
      "Train rmse: 0.81777, Train R2: 0.02837, Train loss: 2.08541\n",
      "Test loss: 0.79875, Test R2: 0.00813\n",
      "\n",
      "Epoch 15:\n"
     ]
    },
    {
     "name": "stderr",
     "output_type": "stream",
     "text": [
      "Training: 100%|██████████| 18964/18964 [00:52<00:00, 359.65it/s, Loss=2.08, rmse=0.816, R²=0.0291]\n",
      "Testing: 100%|██████████| 676/676 [00:01<00:00, 409.91it/s, Loss=0.76, R²=0.00909] \n"
     ]
    },
    {
     "name": "stdout",
     "output_type": "stream",
     "text": [
      "Train rmse: 0.81747, Train R2: 0.02910, Train loss: 2.08413\n",
      "Test loss: 0.79844, Test R2: 0.00888\n",
      "Model Saved - Epoch 15 - Test R2: 0.00888\n",
      "\n",
      "\n",
      "Best Epoch: 15, Best Test R2: 0.00888\n"
     ]
    },
    {
     "name": "stderr",
     "output_type": "stream",
     "text": [
      "/home/mt/miniconda3/envs/tabm/lib/python3.10/site-packages/wandb/sdk/lib/ipython.py:89: DeprecationWarning: Importing display from IPython.core.display is deprecated since IPython 7.14, please import from IPython display\n",
      "  from IPython.core.display import display\n"
     ]
    },
    {
     "data": {
      "application/vnd.jupyter.widget-view+json": {
       "model_id": "44c383b01ee841da9ef29b0dde9b778c",
       "version_major": 2,
       "version_minor": 0
      },
      "text/plain": [
       "VBox(children=(Label(value='0.004 MB of 0.004 MB uploaded\\r'), FloatProgress(value=1.0, max=1.0)))"
      ]
     },
     "metadata": {},
     "output_type": "display_data"
    },
    {
     "name": "stderr",
     "output_type": "stream",
     "text": [
      "/home/mt/miniconda3/envs/tabm/lib/python3.10/site-packages/wandb/sdk/lib/ipython.py:77: DeprecationWarning: Importing display from IPython.core.display is deprecated since IPython 7.14, please import from IPython display\n",
      "  from IPython.core.display import HTML, display  # type: ignore\n"
     ]
    },
    {
     "data": {
      "text/html": [
       "<style>\n",
       "    table.wandb td:nth-child(1) { padding: 0 10px; text-align: left ; width: auto;} td:nth-child(2) {text-align: left ; width: 100%}\n",
       "    .wandb-row { display: flex; flex-direction: row; flex-wrap: wrap; justify-content: flex-start; width: 100% }\n",
       "    .wandb-col { display: flex; flex-direction: column; flex-basis: 100%; flex: 1; padding: 10px; }\n",
       "    </style>\n",
       "<div class=\"wandb-row\"><div class=\"wandb-col\"><h3>Run history:</h3><br/><table class=\"wandb\"><tr><td>epoch</td><td>▁▁▂▃▃▃▄▅▅▅▆▇▇▇█</td></tr><tr><td>test_loss</td><td>▇█▇▆▂▃▅▅▆▄▃▂▃█▁</td></tr><tr><td>test_r2</td><td>▂▁▂▃▇▆▄▄▃▅▆▇▆▁█</td></tr><tr><td>train_loss</td><td>█▅▅▄▄▃▃▃▃▂▂▂▂▁▁</td></tr><tr><td>train_r2</td><td>▁▃▄▅▅▆▆▆▆▇▇▇▇██</td></tr><tr><td>train_rmse</td><td>█▆▅▄▄▃▃▃▃▂▂▂▂▁▁</td></tr></table><br/></div><div class=\"wandb-col\"><h3>Run summary:</h3><br/><table class=\"wandb\"><tr><td>best_test_r2</td><td>0.00888</td></tr><tr><td>best_train_r2</td><td>0.0291</td></tr><tr><td>epoch</td><td>15</td></tr><tr><td>test_loss</td><td>0.79844</td></tr><tr><td>test_r2</td><td>0.00888</td></tr><tr><td>train_loss</td><td>2.08413</td></tr><tr><td>train_r2</td><td>0.0291</td></tr><tr><td>train_rmse</td><td>0.81747</td></tr></table><br/></div></div>"
      ],
      "text/plain": [
       "<IPython.core.display.HTML object>"
      ]
     },
     "metadata": {},
     "output_type": "display_data"
    },
    {
     "data": {
      "text/html": [
       " View run <strong style=\"color:#cdcd00\">divine-sweep-28</strong> at: <a href='https://wandb.ai/turkenm/js_tabm/runs/pg7v2ptk' target=\"_blank\">https://wandb.ai/turkenm/js_tabm/runs/pg7v2ptk</a><br/> View project at: <a href='https://wandb.ai/turkenm/js_tabm' target=\"_blank\">https://wandb.ai/turkenm/js_tabm</a><br/>Synced 6 W&B file(s), 0 media file(s), 0 artifact file(s) and 0 other file(s)"
      ],
      "text/plain": [
       "<IPython.core.display.HTML object>"
      ]
     },
     "metadata": {},
     "output_type": "display_data"
    },
    {
     "data": {
      "text/html": [
       "Find logs at: <code>./wandb/run-20250112_204814-pg7v2ptk/logs</code>"
      ],
      "text/plain": [
       "<IPython.core.display.HTML object>"
      ]
     },
     "metadata": {},
     "output_type": "display_data"
    },
    {
     "name": "stderr",
     "output_type": "stream",
     "text": [
      "\u001b[34m\u001b[1mwandb\u001b[0m: Agent Starting Run: 8stryaky with config:\n",
      "\u001b[34m\u001b[1mwandb\u001b[0m: \td_block: 128\n",
      "\u001b[34m\u001b[1mwandb\u001b[0m: \tdrop_out: 0.1\n",
      "\u001b[34m\u001b[1mwandb\u001b[0m: \tlearning_rate: 0.0002\n",
      "\u001b[34m\u001b[1mwandb\u001b[0m: \tmodel_arch: tabm-mini\n",
      "\u001b[34m\u001b[1mwandb\u001b[0m: \tn_block: 3\n",
      "\u001b[34m\u001b[1mwandb\u001b[0m: \tn_k: 16\n",
      "\u001b[34m\u001b[1mwandb\u001b[0m: \tweight_decay: 0.0001\n",
      "Failed to detect the name of this notebook, you can set it manually with the WANDB_NOTEBOOK_NAME environment variable to enable code saving.\n",
      "/home/mt/miniconda3/envs/tabm/lib/python3.10/site-packages/wandb/sdk/wandb_setup.py:254: ResourceWarning: unclosed file <_io.TextIOWrapper name='/home/mt/Desktop/JaneStreet-Comp/wandb/sweep-mtpap5fv/config-8stryaky.yaml' mode='r' encoding='UTF-8'>\n",
      "  self._sweep_config = config_util.dict_from_config_file(\n",
      "ResourceWarning: Enable tracemalloc to get the object allocation traceback\n"
     ]
    },
    {
     "data": {
      "text/html": [
       "wandb version 0.19.2 is available!  To upgrade, please run:\n",
       " $ pip install wandb --upgrade"
      ],
      "text/plain": [
       "<IPython.core.display.HTML object>"
      ]
     },
     "metadata": {},
     "output_type": "display_data"
    },
    {
     "data": {
      "text/html": [
       "Tracking run with wandb version 0.16.6"
      ],
      "text/plain": [
       "<IPython.core.display.HTML object>"
      ]
     },
     "metadata": {},
     "output_type": "display_data"
    },
    {
     "data": {
      "text/html": [
       "Run data is saved locally in <code>/home/mt/Desktop/JaneStreet-Comp/wandb/run-20250112_210207-8stryaky</code>"
      ],
      "text/plain": [
       "<IPython.core.display.HTML object>"
      ]
     },
     "metadata": {},
     "output_type": "display_data"
    },
    {
     "data": {
      "text/html": [
       "Syncing run <strong><a href='https://wandb.ai/turkenm/js_tabm/runs/8stryaky' target=\"_blank\">solar-sweep-29</a></strong> to <a href='https://wandb.ai/turkenm/js_tabm' target=\"_blank\">Weights & Biases</a> (<a href='https://wandb.me/run' target=\"_blank\">docs</a>)<br/>Sweep page: <a href='https://wandb.ai/turkenm/js_tabm/sweeps/mtpap5fv' target=\"_blank\">https://wandb.ai/turkenm/js_tabm/sweeps/mtpap5fv</a>"
      ],
      "text/plain": [
       "<IPython.core.display.HTML object>"
      ]
     },
     "metadata": {},
     "output_type": "display_data"
    },
    {
     "data": {
      "text/html": [
       " View project at <a href='https://wandb.ai/turkenm/js_tabm' target=\"_blank\">https://wandb.ai/turkenm/js_tabm</a>"
      ],
      "text/plain": [
       "<IPython.core.display.HTML object>"
      ]
     },
     "metadata": {},
     "output_type": "display_data"
    },
    {
     "data": {
      "text/html": [
       " View sweep at <a href='https://wandb.ai/turkenm/js_tabm/sweeps/mtpap5fv' target=\"_blank\">https://wandb.ai/turkenm/js_tabm/sweeps/mtpap5fv</a>"
      ],
      "text/plain": [
       "<IPython.core.display.HTML object>"
      ]
     },
     "metadata": {},
     "output_type": "display_data"
    },
    {
     "data": {
      "text/html": [
       " View run at <a href='https://wandb.ai/turkenm/js_tabm/runs/8stryaky' target=\"_blank\">https://wandb.ai/turkenm/js_tabm/runs/8stryaky</a>"
      ],
      "text/plain": [
       "<IPython.core.display.HTML object>"
      ]
     },
     "metadata": {},
     "output_type": "display_data"
    },
    {
     "name": "stdout",
     "output_type": "stream",
     "text": [
      "EXPERIMENT exp_tabm-mini_dblocks_128_nblocks_3_LR_2e-04_BS_1024_DR_0.1_k_16_id_4930\n",
      "\n",
      "\n",
      "Epoch 1:\n"
     ]
    },
    {
     "name": "stderr",
     "output_type": "stream",
     "text": [
      "Training: 100%|██████████| 18964/18964 [00:34<00:00, 553.57it/s, Loss=2.1, rmse=0.822, R²=0.0163] \n",
      "Testing: 100%|██████████| 676/676 [00:00<00:00, 681.45it/s, Loss=0.76, R²=0.00862] \n"
     ]
    },
    {
     "name": "stdout",
     "output_type": "stream",
     "text": [
      "Train rmse: 0.82281, Train R2: 0.01636, Train loss: 2.10300\n",
      "Test loss: 0.79863, Test R2: 0.00842\n",
      "Model Saved - Epoch 1 - Test R2: 0.00842\n",
      "\n",
      "\n",
      "Epoch 2:\n"
     ]
    },
    {
     "name": "stderr",
     "output_type": "stream",
     "text": [
      "Training: 100%|██████████| 18964/18964 [00:34<00:00, 556.73it/s, Loss=2.09, rmse=0.819, R²=0.0227]\n",
      "Testing: 100%|██████████| 676/676 [00:00<00:00, 682.46it/s, Loss=0.759, R²=0.00926]\n"
     ]
    },
    {
     "name": "stdout",
     "output_type": "stream",
     "text": [
      "Train rmse: 0.82014, Train R2: 0.02272, Train loss: 2.09279\n",
      "Test loss: 0.79839, Test R2: 0.00901\n",
      "Model Saved - Epoch 2 - Test R2: 0.00901\n",
      "\n",
      "\n",
      "Epoch 3:\n"
     ]
    },
    {
     "name": "stderr",
     "output_type": "stream",
     "text": [
      "Training: 100%|██████████| 18964/18964 [00:34<00:00, 555.52it/s, Loss=2.09, rmse=0.818, R²=0.0251]\n",
      "Testing: 100%|██████████| 676/676 [00:00<00:00, 681.36it/s, Loss=0.759, R²=0.00938]\n"
     ]
    },
    {
     "name": "stdout",
     "output_type": "stream",
     "text": [
      "Train rmse: 0.81914, Train R2: 0.02511, Train loss: 2.08939\n",
      "Test loss: 0.79834, Test R2: 0.00914\n",
      "Model Saved - Epoch 3 - Test R2: 0.00914\n",
      "\n",
      "\n",
      "Epoch 4:\n"
     ]
    },
    {
     "name": "stderr",
     "output_type": "stream",
     "text": [
      "Training:   3%|▎         | 600/18964 [00:01<00:30, 594.36it/s, Loss=2.08, rmse=0.816, R²=0.0264]/home/mt/miniconda3/envs/tabm/lib/python3.10/site-packages/torch/nn/functional.py:1425: ResourceWarning: unclosed <socket.socket fd=110, family=AddressFamily.AF_INET, type=SocketKind.SOCK_STREAM, proto=0, laddr=('127.0.0.1', 52930), raddr=('127.0.0.1', 55367)>\n",
      "  _VF.dropout_(input, p, training) if inplace else _VF.dropout(input, p, training)\n",
      "ResourceWarning: Enable tracemalloc to get the object allocation traceback\n",
      "Training: 100%|██████████| 18964/18964 [00:34<00:00, 552.17it/s, Loss=2.09, rmse=0.817, R²=0.0267]\n",
      "Testing: 100%|██████████| 676/676 [00:00<00:00, 677.86it/s, Loss=0.759, R²=0.00946]\n"
     ]
    },
    {
     "name": "stdout",
     "output_type": "stream",
     "text": [
      "Train rmse: 0.81846, Train R2: 0.02673, Train loss: 2.08711\n",
      "Test loss: 0.79831, Test R2: 0.00920\n",
      "Model Saved - Epoch 4 - Test R2: 0.00920\n",
      "\n",
      "\n",
      "Epoch 5:\n"
     ]
    },
    {
     "name": "stderr",
     "output_type": "stream",
     "text": [
      "Training: 100%|██████████| 18964/18964 [00:34<00:00, 555.60it/s, Loss=2.09, rmse=0.817, R²=0.028] \n",
      "Testing: 100%|██████████| 676/676 [00:00<00:00, 682.52it/s, Loss=0.759, R²=0.00949]\n"
     ]
    },
    {
     "name": "stdout",
     "output_type": "stream",
     "text": [
      "Train rmse: 0.81792, Train R2: 0.02802, Train loss: 2.08532\n",
      "Test loss: 0.79829, Test R2: 0.00927\n",
      "Model Saved - Epoch 5 - Test R2: 0.00927\n",
      "\n",
      "\n",
      "Epoch 6:\n"
     ]
    },
    {
     "name": "stderr",
     "output_type": "stream",
     "text": [
      "Training: 100%|██████████| 18964/18964 [00:34<00:00, 556.99it/s, Loss=2.08, rmse=0.816, R²=0.0291]\n",
      "Testing: 100%|██████████| 676/676 [00:00<00:00, 678.83it/s, Loss=0.759, R²=0.0093] \n"
     ]
    },
    {
     "name": "stdout",
     "output_type": "stream",
     "text": [
      "Train rmse: 0.81745, Train R2: 0.02913, Train loss: 2.08375\n",
      "Test loss: 0.79837, Test R2: 0.00906\n",
      "\n",
      "Epoch 7:\n"
     ]
    },
    {
     "name": "stderr",
     "output_type": "stream",
     "text": [
      "Training: 100%|██████████| 18964/18964 [00:34<00:00, 553.78it/s, Loss=2.08, rmse=0.816, R²=0.0302]\n",
      "Testing: 100%|██████████| 676/676 [00:00<00:00, 682.84it/s, Loss=0.759, R²=0.00963]\n"
     ]
    },
    {
     "name": "stdout",
     "output_type": "stream",
     "text": [
      "Train rmse: 0.81700, Train R2: 0.03019, Train loss: 2.08222\n",
      "Test loss: 0.79824, Test R2: 0.00939\n",
      "Model Saved - Epoch 7 - Test R2: 0.00939\n",
      "\n",
      "\n",
      "Epoch 8:\n"
     ]
    },
    {
     "name": "stderr",
     "output_type": "stream",
     "text": [
      "Training: 100%|██████████| 18964/18964 [00:34<00:00, 556.77it/s, Loss=2.08, rmse=0.816, R²=0.0311]\n",
      "Testing: 100%|██████████| 676/676 [00:00<00:00, 681.58it/s, Loss=0.759, R²=0.00923]\n"
     ]
    },
    {
     "name": "stdout",
     "output_type": "stream",
     "text": [
      "Train rmse: 0.81662, Train R2: 0.03110, Train loss: 2.08087\n",
      "Test loss: 0.79839, Test R2: 0.00903\n",
      "\n",
      "Epoch 9:\n"
     ]
    },
    {
     "name": "stderr",
     "output_type": "stream",
     "text": [
      "Training: 100%|██████████| 18964/18964 [00:34<00:00, 555.70it/s, Loss=2.08, rmse=0.815, R²=0.032] \n",
      "Testing: 100%|██████████| 676/676 [00:00<00:00, 681.77it/s, Loss=0.759, R²=0.00985]\n"
     ]
    },
    {
     "name": "stdout",
     "output_type": "stream",
     "text": [
      "Train rmse: 0.81627, Train R2: 0.03194, Train loss: 2.07956\n",
      "Test loss: 0.79816, Test R2: 0.00960\n",
      "Model Saved - Epoch 9 - Test R2: 0.00960\n",
      "\n",
      "\n",
      "Epoch 10:\n"
     ]
    },
    {
     "name": "stderr",
     "output_type": "stream",
     "text": [
      "Training: 100%|██████████| 18964/18964 [00:34<00:00, 557.27it/s, Loss=2.08, rmse=0.815, R²=0.0326]\n",
      "Testing: 100%|██████████| 676/676 [00:00<00:00, 681.79it/s, Loss=0.759, R²=0.00999]\n"
     ]
    },
    {
     "name": "stdout",
     "output_type": "stream",
     "text": [
      "Train rmse: 0.81596, Train R2: 0.03266, Train loss: 2.07837\n",
      "Test loss: 0.79811, Test R2: 0.00972\n",
      "Model Saved - Epoch 10 - Test R2: 0.00972\n",
      "\n",
      "\n",
      "Epoch 11:\n"
     ]
    },
    {
     "name": "stderr",
     "output_type": "stream",
     "text": [
      "Training: 100%|██████████| 18964/18964 [00:34<00:00, 555.07it/s, Loss=2.08, rmse=0.815, R²=0.0334]\n",
      "Testing: 100%|██████████| 676/676 [00:00<00:00, 681.77it/s, Loss=0.759, R²=0.00974]\n"
     ]
    },
    {
     "name": "stdout",
     "output_type": "stream",
     "text": [
      "Train rmse: 0.81566, Train R2: 0.03339, Train loss: 2.07716\n",
      "Test loss: 0.79819, Test R2: 0.00950\n",
      "\n",
      "Epoch 12:\n"
     ]
    },
    {
     "name": "stderr",
     "output_type": "stream",
     "text": [
      "Training: 100%|██████████| 18964/18964 [00:34<00:00, 556.60it/s, Loss=2.08, rmse=0.814, R²=0.0341]\n",
      "Testing: 100%|██████████| 676/676 [00:00<00:00, 680.63it/s, Loss=0.759, R²=0.00984]\n"
     ]
    },
    {
     "name": "stdout",
     "output_type": "stream",
     "text": [
      "Train rmse: 0.81535, Train R2: 0.03412, Train loss: 2.07605\n",
      "Test loss: 0.79816, Test R2: 0.00960\n",
      "\n",
      "Epoch 13:\n"
     ]
    },
    {
     "name": "stderr",
     "output_type": "stream",
     "text": [
      "Training: 100%|██████████| 18964/18964 [00:34<00:00, 555.01it/s, Loss=2.08, rmse=0.814, R²=0.0349]\n",
      "Testing: 100%|██████████| 676/676 [00:00<00:00, 679.17it/s, Loss=0.759, R²=0.00953]\n"
     ]
    },
    {
     "name": "stdout",
     "output_type": "stream",
     "text": [
      "Train rmse: 0.81505, Train R2: 0.03483, Train loss: 2.07503\n",
      "Test loss: 0.79829, Test R2: 0.00927\n",
      "\n",
      "Epoch 14:\n"
     ]
    },
    {
     "name": "stderr",
     "output_type": "stream",
     "text": [
      "Training: 100%|██████████| 18964/18964 [00:34<00:00, 551.97it/s, Loss=2.07, rmse=0.814, R²=0.0356]\n",
      "Testing: 100%|██████████| 676/676 [00:00<00:00, 677.93it/s, Loss=0.759, R²=0.00969]\n"
     ]
    },
    {
     "name": "stdout",
     "output_type": "stream",
     "text": [
      "Train rmse: 0.81471, Train R2: 0.03563, Train loss: 2.07390\n",
      "Test loss: 0.79822, Test R2: 0.00943\n",
      "\n",
      "Epoch 15:\n"
     ]
    },
    {
     "name": "stderr",
     "output_type": "stream",
     "text": [
      "Training: 100%|██████████| 18964/18964 [00:34<00:00, 549.23it/s, Loss=2.07, rmse=0.813, R²=0.0366]\n",
      "Testing: 100%|██████████| 676/676 [00:00<00:00, 679.59it/s, Loss=0.759, R²=0.00934]\n"
     ]
    },
    {
     "name": "stdout",
     "output_type": "stream",
     "text": [
      "Train rmse: 0.81430, Train R2: 0.03660, Train loss: 2.07258\n",
      "Test loss: 0.79836, Test R2: 0.00909\n",
      "\n",
      "Best Epoch: 10, Best Test R2: 0.00972\n"
     ]
    },
    {
     "name": "stderr",
     "output_type": "stream",
     "text": [
      "/home/mt/miniconda3/envs/tabm/lib/python3.10/site-packages/wandb/sdk/lib/ipython.py:89: DeprecationWarning: Importing display from IPython.core.display is deprecated since IPython 7.14, please import from IPython display\n",
      "  from IPython.core.display import display\n"
     ]
    },
    {
     "data": {
      "application/vnd.jupyter.widget-view+json": {
       "model_id": "53bcfc7e5d22428996dd271a4a1ca065",
       "version_major": 2,
       "version_minor": 0
      },
      "text/plain": [
       "VBox(children=(Label(value='0.004 MB of 0.004 MB uploaded\\r'), FloatProgress(value=1.0, max=1.0)))"
      ]
     },
     "metadata": {},
     "output_type": "display_data"
    },
    {
     "name": "stderr",
     "output_type": "stream",
     "text": [
      "/home/mt/miniconda3/envs/tabm/lib/python3.10/site-packages/wandb/sdk/lib/ipython.py:77: DeprecationWarning: Importing display from IPython.core.display is deprecated since IPython 7.14, please import from IPython display\n",
      "  from IPython.core.display import HTML, display  # type: ignore\n"
     ]
    },
    {
     "data": {
      "text/html": [
       "<style>\n",
       "    table.wandb td:nth-child(1) { padding: 0 10px; text-align: left ; width: auto;} td:nth-child(2) {text-align: left ; width: 100%}\n",
       "    .wandb-row { display: flex; flex-direction: row; flex-wrap: wrap; justify-content: flex-start; width: 100% }\n",
       "    .wandb-col { display: flex; flex-direction: column; flex-basis: 100%; flex: 1; padding: 10px; }\n",
       "    </style>\n",
       "<div class=\"wandb-row\"><div class=\"wandb-col\"><h3>Run history:</h3><br/><table class=\"wandb\"><tr><td>epoch</td><td>▁▁▂▃▃▃▄▅▅▅▆▇▇▇█</td></tr><tr><td>test_loss</td><td>█▅▄▄▃▅▃▅▂▁▂▂▃▃▄</td></tr><tr><td>test_r2</td><td>▁▄▅▅▆▄▆▄▇█▇▇▆▆▅</td></tr><tr><td>train_loss</td><td>█▆▅▄▄▄▃▃▃▂▂▂▂▁▁</td></tr><tr><td>train_r2</td><td>▁▃▄▅▅▅▆▆▆▇▇▇▇██</td></tr><tr><td>train_rmse</td><td>█▆▅▄▄▄▃▃▃▂▂▂▂▁▁</td></tr></table><br/></div><div class=\"wandb-col\"><h3>Run summary:</h3><br/><table class=\"wandb\"><tr><td>best_test_r2</td><td>0.00972</td></tr><tr><td>best_train_r2</td><td>0.0366</td></tr><tr><td>epoch</td><td>15</td></tr><tr><td>test_loss</td><td>0.79836</td></tr><tr><td>test_r2</td><td>0.00909</td></tr><tr><td>train_loss</td><td>2.07258</td></tr><tr><td>train_r2</td><td>0.0366</td></tr><tr><td>train_rmse</td><td>0.8143</td></tr></table><br/></div></div>"
      ],
      "text/plain": [
       "<IPython.core.display.HTML object>"
      ]
     },
     "metadata": {},
     "output_type": "display_data"
    },
    {
     "data": {
      "text/html": [
       " View run <strong style=\"color:#cdcd00\">solar-sweep-29</strong> at: <a href='https://wandb.ai/turkenm/js_tabm/runs/8stryaky' target=\"_blank\">https://wandb.ai/turkenm/js_tabm/runs/8stryaky</a><br/> View project at: <a href='https://wandb.ai/turkenm/js_tabm' target=\"_blank\">https://wandb.ai/turkenm/js_tabm</a><br/>Synced 6 W&B file(s), 0 media file(s), 0 artifact file(s) and 0 other file(s)"
      ],
      "text/plain": [
       "<IPython.core.display.HTML object>"
      ]
     },
     "metadata": {},
     "output_type": "display_data"
    },
    {
     "data": {
      "text/html": [
       "Find logs at: <code>./wandb/run-20250112_210207-8stryaky/logs</code>"
      ],
      "text/plain": [
       "<IPython.core.display.HTML object>"
      ]
     },
     "metadata": {},
     "output_type": "display_data"
    },
    {
     "name": "stderr",
     "output_type": "stream",
     "text": [
      "\u001b[34m\u001b[1mwandb\u001b[0m: Agent Starting Run: 00d2t191 with config:\n",
      "\u001b[34m\u001b[1mwandb\u001b[0m: \td_block: 128\n",
      "\u001b[34m\u001b[1mwandb\u001b[0m: \tdrop_out: 0.1\n",
      "\u001b[34m\u001b[1mwandb\u001b[0m: \tlearning_rate: 0.0002\n",
      "\u001b[34m\u001b[1mwandb\u001b[0m: \tmodel_arch: tabm-mini\n",
      "\u001b[34m\u001b[1mwandb\u001b[0m: \tn_block: 3\n",
      "\u001b[34m\u001b[1mwandb\u001b[0m: \tn_k: 16\n",
      "\u001b[34m\u001b[1mwandb\u001b[0m: \tweight_decay: 0.0002\n",
      "Failed to detect the name of this notebook, you can set it manually with the WANDB_NOTEBOOK_NAME environment variable to enable code saving.\n",
      "/home/mt/miniconda3/envs/tabm/lib/python3.10/site-packages/wandb/sdk/wandb_setup.py:254: ResourceWarning: unclosed file <_io.TextIOWrapper name='/home/mt/Desktop/JaneStreet-Comp/wandb/sweep-mtpap5fv/config-00d2t191.yaml' mode='r' encoding='UTF-8'>\n",
      "  self._sweep_config = config_util.dict_from_config_file(\n",
      "ResourceWarning: Enable tracemalloc to get the object allocation traceback\n"
     ]
    },
    {
     "data": {
      "text/html": [
       "wandb version 0.19.2 is available!  To upgrade, please run:\n",
       " $ pip install wandb --upgrade"
      ],
      "text/plain": [
       "<IPython.core.display.HTML object>"
      ]
     },
     "metadata": {},
     "output_type": "display_data"
    },
    {
     "data": {
      "text/html": [
       "Tracking run with wandb version 0.16.6"
      ],
      "text/plain": [
       "<IPython.core.display.HTML object>"
      ]
     },
     "metadata": {},
     "output_type": "display_data"
    },
    {
     "data": {
      "text/html": [
       "Run data is saved locally in <code>/home/mt/Desktop/JaneStreet-Comp/wandb/run-20250112_211111-00d2t191</code>"
      ],
      "text/plain": [
       "<IPython.core.display.HTML object>"
      ]
     },
     "metadata": {},
     "output_type": "display_data"
    },
    {
     "data": {
      "text/html": [
       "Syncing run <strong><a href='https://wandb.ai/turkenm/js_tabm/runs/00d2t191' target=\"_blank\">charmed-sweep-30</a></strong> to <a href='https://wandb.ai/turkenm/js_tabm' target=\"_blank\">Weights & Biases</a> (<a href='https://wandb.me/run' target=\"_blank\">docs</a>)<br/>Sweep page: <a href='https://wandb.ai/turkenm/js_tabm/sweeps/mtpap5fv' target=\"_blank\">https://wandb.ai/turkenm/js_tabm/sweeps/mtpap5fv</a>"
      ],
      "text/plain": [
       "<IPython.core.display.HTML object>"
      ]
     },
     "metadata": {},
     "output_type": "display_data"
    },
    {
     "data": {
      "text/html": [
       " View project at <a href='https://wandb.ai/turkenm/js_tabm' target=\"_blank\">https://wandb.ai/turkenm/js_tabm</a>"
      ],
      "text/plain": [
       "<IPython.core.display.HTML object>"
      ]
     },
     "metadata": {},
     "output_type": "display_data"
    },
    {
     "data": {
      "text/html": [
       " View sweep at <a href='https://wandb.ai/turkenm/js_tabm/sweeps/mtpap5fv' target=\"_blank\">https://wandb.ai/turkenm/js_tabm/sweeps/mtpap5fv</a>"
      ],
      "text/plain": [
       "<IPython.core.display.HTML object>"
      ]
     },
     "metadata": {},
     "output_type": "display_data"
    },
    {
     "data": {
      "text/html": [
       " View run at <a href='https://wandb.ai/turkenm/js_tabm/runs/00d2t191' target=\"_blank\">https://wandb.ai/turkenm/js_tabm/runs/00d2t191</a>"
      ],
      "text/plain": [
       "<IPython.core.display.HTML object>"
      ]
     },
     "metadata": {},
     "output_type": "display_data"
    },
    {
     "name": "stdout",
     "output_type": "stream",
     "text": [
      "EXPERIMENT exp_tabm-mini_dblocks_128_nblocks_3_LR_2e-04_BS_1024_DR_0.1_k_16_id_5474\n",
      "\n",
      "\n",
      "Epoch 1:\n"
     ]
    },
    {
     "name": "stderr",
     "output_type": "stream",
     "text": [
      "Training: 100%|██████████| 18964/18964 [00:34<00:00, 550.98it/s, Loss=2.1, rmse=0.822, R²=0.0163] \n",
      "Testing: 100%|██████████| 676/676 [00:00<00:00, 681.68it/s, Loss=0.76, R²=0.00873] \n"
     ]
    },
    {
     "name": "stdout",
     "output_type": "stream",
     "text": [
      "Train rmse: 0.82282, Train R2: 0.01633, Train loss: 2.10308\n",
      "Test loss: 0.79859, Test R2: 0.00852\n",
      "Model Saved - Epoch 1 - Test R2: 0.00852\n",
      "\n",
      "\n",
      "Epoch 2:\n"
     ]
    },
    {
     "name": "stderr",
     "output_type": "stream",
     "text": [
      "Training: 100%|██████████| 18964/18964 [00:34<00:00, 556.13it/s, Loss=2.09, rmse=0.819, R²=0.0226]\n",
      "Testing: 100%|██████████| 676/676 [00:00<00:00, 681.27it/s, Loss=0.76, R²=0.0087]  \n"
     ]
    },
    {
     "name": "stdout",
     "output_type": "stream",
     "text": [
      "Train rmse: 0.82020, Train R2: 0.02258, Train loss: 2.09315\n",
      "Test loss: 0.79861, Test R2: 0.00848\n",
      "\n",
      "Epoch 3:\n"
     ]
    },
    {
     "name": "stderr",
     "output_type": "stream",
     "text": [
      "Training: 100%|██████████| 18964/18964 [00:34<00:00, 552.69it/s, Loss=2.09, rmse=0.818, R²=0.0248]\n",
      "Testing: 100%|██████████| 676/676 [00:00<00:00, 679.15it/s, Loss=0.76, R²=0.009]   \n"
     ]
    },
    {
     "name": "stdout",
     "output_type": "stream",
     "text": [
      "Train rmse: 0.81928, Train R2: 0.02478, Train loss: 2.08992\n",
      "Test loss: 0.79849, Test R2: 0.00878\n",
      "Model Saved - Epoch 3 - Test R2: 0.00878\n",
      "\n",
      "\n",
      "Epoch 4:\n"
     ]
    },
    {
     "name": "stderr",
     "output_type": "stream",
     "text": [
      "Training:   7%|▋         | 1253/18964 [00:02<00:30, 579.32it/s, Loss=2.08, rmse=0.817, R²=0.0245]/home/mt/miniconda3/envs/tabm/lib/python3.10/site-packages/torch/nn/functional.py:1425: ResourceWarning: unclosed <socket.socket fd=108, family=AddressFamily.AF_INET, type=SocketKind.SOCK_STREAM, proto=0, laddr=('127.0.0.1', 52150), raddr=('127.0.0.1', 34753)>\n",
      "  _VF.dropout_(input, p, training) if inplace else _VF.dropout(input, p, training)\n",
      "ResourceWarning: Enable tracemalloc to get the object allocation traceback\n",
      "Training: 100%|██████████| 18964/18964 [00:34<00:00, 549.90it/s, Loss=2.09, rmse=0.818, R²=0.0263]\n",
      "Testing: 100%|██████████| 676/676 [00:00<00:00, 681.88it/s, Loss=0.759, R²=0.00937]\n"
     ]
    },
    {
     "name": "stdout",
     "output_type": "stream",
     "text": [
      "Train rmse: 0.81866, Train R2: 0.02626, Train loss: 2.08788\n",
      "Test loss: 0.79834, Test R2: 0.00913\n",
      "Model Saved - Epoch 4 - Test R2: 0.00913\n",
      "\n",
      "\n",
      "Epoch 5:\n"
     ]
    },
    {
     "name": "stderr",
     "output_type": "stream",
     "text": [
      "Training: 100%|██████████| 18964/18964 [00:34<00:00, 550.55it/s, Loss=2.09, rmse=0.817, R²=0.0273]\n",
      "Testing: 100%|██████████| 676/676 [00:00<00:00, 679.33it/s, Loss=0.76, R²=0.00918] \n"
     ]
    },
    {
     "name": "stdout",
     "output_type": "stream",
     "text": [
      "Train rmse: 0.81820, Train R2: 0.02734, Train loss: 2.08644\n",
      "Test loss: 0.79843, Test R2: 0.00892\n",
      "\n",
      "Epoch 6:\n"
     ]
    },
    {
     "name": "stderr",
     "output_type": "stream",
     "text": [
      "Training: 100%|██████████| 18964/18964 [00:34<00:00, 552.80it/s, Loss=2.08, rmse=0.817, R²=0.0283]\n",
      "Testing: 100%|██████████| 676/676 [00:00<00:00, 678.52it/s, Loss=0.759, R²=0.00938]\n"
     ]
    },
    {
     "name": "stdout",
     "output_type": "stream",
     "text": [
      "Train rmse: 0.81780, Train R2: 0.02830, Train loss: 2.08510\n",
      "Test loss: 0.79834, Test R2: 0.00915\n",
      "Model Saved - Epoch 6 - Test R2: 0.00915\n",
      "\n",
      "\n",
      "Epoch 7:\n"
     ]
    },
    {
     "name": "stderr",
     "output_type": "stream",
     "text": [
      "Training: 100%|██████████| 18964/18964 [00:34<00:00, 551.05it/s, Loss=2.08, rmse=0.816, R²=0.0291]\n",
      "Testing: 100%|██████████| 676/676 [00:00<00:00, 680.37it/s, Loss=0.759, R²=0.00927]\n"
     ]
    },
    {
     "name": "stdout",
     "output_type": "stream",
     "text": [
      "Train rmse: 0.81744, Train R2: 0.02916, Train loss: 2.08391\n",
      "Test loss: 0.79838, Test R2: 0.00904\n",
      "\n",
      "Epoch 8:\n"
     ]
    },
    {
     "name": "stderr",
     "output_type": "stream",
     "text": [
      "Training: 100%|██████████| 18964/18964 [00:34<00:00, 554.67it/s, Loss=2.08, rmse=0.816, R²=0.0298]\n",
      "Testing: 100%|██████████| 676/676 [00:00<00:00, 681.09it/s, Loss=0.759, R²=0.00932]\n"
     ]
    },
    {
     "name": "stdout",
     "output_type": "stream",
     "text": [
      "Train rmse: 0.81715, Train R2: 0.02984, Train loss: 2.08300\n",
      "Test loss: 0.79836, Test R2: 0.00910\n",
      "\n",
      "Epoch 9:\n"
     ]
    },
    {
     "name": "stderr",
     "output_type": "stream",
     "text": [
      "Training: 100%|██████████| 18964/18964 [00:34<00:00, 555.47it/s, Loss=2.08, rmse=0.816, R²=0.0306]\n",
      "Testing: 100%|██████████| 676/676 [00:00<00:00, 677.89it/s, Loss=0.759, R²=0.00971]\n"
     ]
    },
    {
     "name": "stdout",
     "output_type": "stream",
     "text": [
      "Train rmse: 0.81685, Train R2: 0.03056, Train loss: 2.08204\n",
      "Test loss: 0.79820, Test R2: 0.00950\n",
      "Model Saved - Epoch 9 - Test R2: 0.00950\n",
      "\n",
      "\n",
      "Epoch 10:\n"
     ]
    },
    {
     "name": "stderr",
     "output_type": "stream",
     "text": [
      "Training: 100%|██████████| 18964/18964 [00:34<00:00, 551.83it/s, Loss=2.08, rmse=0.815, R²=0.0311]\n",
      "Testing: 100%|██████████| 676/676 [00:00<00:00, 678.50it/s, Loss=0.759, R²=0.00965]\n"
     ]
    },
    {
     "name": "stdout",
     "output_type": "stream",
     "text": [
      "Train rmse: 0.81662, Train R2: 0.03110, Train loss: 2.08126\n",
      "Test loss: 0.79822, Test R2: 0.00943\n",
      "\n",
      "Epoch 11:\n"
     ]
    },
    {
     "name": "stderr",
     "output_type": "stream",
     "text": [
      "Training: 100%|██████████| 18964/18964 [00:34<00:00, 550.77it/s, Loss=2.08, rmse=0.815, R²=0.0316]\n",
      "Testing: 100%|██████████| 676/676 [00:00<00:00, 682.26it/s, Loss=0.759, R²=0.00971]\n"
     ]
    },
    {
     "name": "stdout",
     "output_type": "stream",
     "text": [
      "Train rmse: 0.81640, Train R2: 0.03163, Train loss: 2.08051\n",
      "Test loss: 0.79821, Test R2: 0.00947\n",
      "\n",
      "Epoch 12:\n"
     ]
    },
    {
     "name": "stderr",
     "output_type": "stream",
     "text": [
      "Training: 100%|██████████| 18964/18964 [00:34<00:00, 552.11it/s, Loss=2.08, rmse=0.815, R²=0.032] \n",
      "Testing: 100%|██████████| 676/676 [00:00<00:00, 681.89it/s, Loss=0.759, R²=0.00981]\n"
     ]
    },
    {
     "name": "stdout",
     "output_type": "stream",
     "text": [
      "Train rmse: 0.81623, Train R2: 0.03203, Train loss: 2.07994\n",
      "Test loss: 0.79818, Test R2: 0.00954\n",
      "Model Saved - Epoch 12 - Test R2: 0.00954\n",
      "\n",
      "\n",
      "Epoch 13:\n"
     ]
    },
    {
     "name": "stderr",
     "output_type": "stream",
     "text": [
      "Training: 100%|██████████| 18964/18964 [00:34<00:00, 555.02it/s, Loss=2.08, rmse=0.815, R²=0.0325]\n",
      "Testing: 100%|██████████| 676/676 [00:00<00:00, 679.04it/s, Loss=0.759, R²=0.00949]\n"
     ]
    },
    {
     "name": "stdout",
     "output_type": "stream",
     "text": [
      "Train rmse: 0.81604, Train R2: 0.03248, Train loss: 2.07926\n",
      "Test loss: 0.79829, Test R2: 0.00926\n",
      "\n",
      "Epoch 14:\n"
     ]
    },
    {
     "name": "stderr",
     "output_type": "stream",
     "text": [
      "Training: 100%|██████████| 18964/18964 [00:34<00:00, 553.63it/s, Loss=2.08, rmse=0.815, R²=0.0328]\n",
      "Testing: 100%|██████████| 676/676 [00:00<00:00, 680.71it/s, Loss=0.759, R²=0.00965]\n"
     ]
    },
    {
     "name": "stdout",
     "output_type": "stream",
     "text": [
      "Train rmse: 0.81588, Train R2: 0.03285, Train loss: 2.07878\n",
      "Test loss: 0.79826, Test R2: 0.00935\n",
      "\n",
      "Epoch 15:\n"
     ]
    },
    {
     "name": "stderr",
     "output_type": "stream",
     "text": [
      "Training: 100%|██████████| 18964/18964 [00:34<00:00, 552.96it/s, Loss=2.08, rmse=0.815, R²=0.0332]\n",
      "Testing: 100%|██████████| 676/676 [00:00<00:00, 680.05it/s, Loss=0.759, R²=0.00976]\n"
     ]
    },
    {
     "name": "stdout",
     "output_type": "stream",
     "text": [
      "Train rmse: 0.81574, Train R2: 0.03320, Train loss: 2.07830\n",
      "Test loss: 0.79820, Test R2: 0.00949\n",
      "\n",
      "Best Epoch: 12, Best Test R2: 0.00954\n"
     ]
    },
    {
     "name": "stderr",
     "output_type": "stream",
     "text": [
      "/home/mt/miniconda3/envs/tabm/lib/python3.10/site-packages/wandb/sdk/lib/ipython.py:89: DeprecationWarning: Importing display from IPython.core.display is deprecated since IPython 7.14, please import from IPython display\n",
      "  from IPython.core.display import display\n"
     ]
    },
    {
     "data": {
      "application/vnd.jupyter.widget-view+json": {
       "model_id": "429b2ed5bc2546f9821b6f7ffd2b8e27",
       "version_major": 2,
       "version_minor": 0
      },
      "text/plain": [
       "VBox(children=(Label(value='0.004 MB of 0.004 MB uploaded\\r'), FloatProgress(value=1.0, max=1.0)))"
      ]
     },
     "metadata": {},
     "output_type": "display_data"
    },
    {
     "name": "stderr",
     "output_type": "stream",
     "text": [
      "/home/mt/miniconda3/envs/tabm/lib/python3.10/site-packages/wandb/sdk/lib/ipython.py:77: DeprecationWarning: Importing display from IPython.core.display is deprecated since IPython 7.14, please import from IPython display\n",
      "  from IPython.core.display import HTML, display  # type: ignore\n"
     ]
    },
    {
     "data": {
      "text/html": [
       "<style>\n",
       "    table.wandb td:nth-child(1) { padding: 0 10px; text-align: left ; width: auto;} td:nth-child(2) {text-align: left ; width: 100%}\n",
       "    .wandb-row { display: flex; flex-direction: row; flex-wrap: wrap; justify-content: flex-start; width: 100% }\n",
       "    .wandb-col { display: flex; flex-direction: column; flex-basis: 100%; flex: 1; padding: 10px; }\n",
       "    </style>\n",
       "<div class=\"wandb-row\"><div class=\"wandb-col\"><h3>Run history:</h3><br/><table class=\"wandb\"><tr><td>epoch</td><td>▁▁▂▃▃▃▄▅▅▅▆▇▇▇█</td></tr><tr><td>test_loss</td><td>██▆▄▅▄▄▄▁▂▁▁▃▂▁</td></tr><tr><td>test_r2</td><td>▁▁▃▅▄▅▅▅█▇██▆▇█</td></tr><tr><td>train_loss</td><td>█▅▄▄▃▃▃▂▂▂▂▁▁▁▁</td></tr><tr><td>train_r2</td><td>▁▄▅▅▆▆▆▇▇▇▇████</td></tr><tr><td>train_rmse</td><td>█▅▅▄▃▃▃▂▂▂▂▁▁▁▁</td></tr></table><br/></div><div class=\"wandb-col\"><h3>Run summary:</h3><br/><table class=\"wandb\"><tr><td>best_test_r2</td><td>0.00954</td></tr><tr><td>best_train_r2</td><td>0.0332</td></tr><tr><td>epoch</td><td>15</td></tr><tr><td>test_loss</td><td>0.7982</td></tr><tr><td>test_r2</td><td>0.00949</td></tr><tr><td>train_loss</td><td>2.0783</td></tr><tr><td>train_r2</td><td>0.0332</td></tr><tr><td>train_rmse</td><td>0.81574</td></tr></table><br/></div></div>"
      ],
      "text/plain": [
       "<IPython.core.display.HTML object>"
      ]
     },
     "metadata": {},
     "output_type": "display_data"
    },
    {
     "data": {
      "text/html": [
       " View run <strong style=\"color:#cdcd00\">charmed-sweep-30</strong> at: <a href='https://wandb.ai/turkenm/js_tabm/runs/00d2t191' target=\"_blank\">https://wandb.ai/turkenm/js_tabm/runs/00d2t191</a><br/> View project at: <a href='https://wandb.ai/turkenm/js_tabm' target=\"_blank\">https://wandb.ai/turkenm/js_tabm</a><br/>Synced 6 W&B file(s), 0 media file(s), 0 artifact file(s) and 0 other file(s)"
      ],
      "text/plain": [
       "<IPython.core.display.HTML object>"
      ]
     },
     "metadata": {},
     "output_type": "display_data"
    },
    {
     "data": {
      "text/html": [
       "Find logs at: <code>./wandb/run-20250112_211111-00d2t191/logs</code>"
      ],
      "text/plain": [
       "<IPython.core.display.HTML object>"
      ]
     },
     "metadata": {},
     "output_type": "display_data"
    },
    {
     "name": "stderr",
     "output_type": "stream",
     "text": [
      "\u001b[34m\u001b[1mwandb\u001b[0m: Agent Starting Run: dop0cscm with config:\n",
      "\u001b[34m\u001b[1mwandb\u001b[0m: \td_block: 128\n",
      "\u001b[34m\u001b[1mwandb\u001b[0m: \tdrop_out: 0.1\n",
      "\u001b[34m\u001b[1mwandb\u001b[0m: \tlearning_rate: 0.0002\n",
      "\u001b[34m\u001b[1mwandb\u001b[0m: \tmodel_arch: tabm-mini\n",
      "\u001b[34m\u001b[1mwandb\u001b[0m: \tn_block: 3\n",
      "\u001b[34m\u001b[1mwandb\u001b[0m: \tn_k: 32\n",
      "\u001b[34m\u001b[1mwandb\u001b[0m: \tweight_decay: 0.0001\n",
      "Failed to detect the name of this notebook, you can set it manually with the WANDB_NOTEBOOK_NAME environment variable to enable code saving.\n",
      "/home/mt/miniconda3/envs/tabm/lib/python3.10/site-packages/wandb/sdk/wandb_setup.py:254: ResourceWarning: unclosed file <_io.TextIOWrapper name='/home/mt/Desktop/JaneStreet-Comp/wandb/sweep-mtpap5fv/config-dop0cscm.yaml' mode='r' encoding='UTF-8'>\n",
      "  self._sweep_config = config_util.dict_from_config_file(\n",
      "ResourceWarning: Enable tracemalloc to get the object allocation traceback\n"
     ]
    },
    {
     "data": {
      "text/html": [
       "wandb version 0.19.2 is available!  To upgrade, please run:\n",
       " $ pip install wandb --upgrade"
      ],
      "text/plain": [
       "<IPython.core.display.HTML object>"
      ]
     },
     "metadata": {},
     "output_type": "display_data"
    },
    {
     "data": {
      "text/html": [
       "Tracking run with wandb version 0.16.6"
      ],
      "text/plain": [
       "<IPython.core.display.HTML object>"
      ]
     },
     "metadata": {},
     "output_type": "display_data"
    },
    {
     "data": {
      "text/html": [
       "Run data is saved locally in <code>/home/mt/Desktop/JaneStreet-Comp/wandb/run-20250112_212020-dop0cscm</code>"
      ],
      "text/plain": [
       "<IPython.core.display.HTML object>"
      ]
     },
     "metadata": {},
     "output_type": "display_data"
    },
    {
     "data": {
      "text/html": [
       "Syncing run <strong><a href='https://wandb.ai/turkenm/js_tabm/runs/dop0cscm' target=\"_blank\">deft-sweep-31</a></strong> to <a href='https://wandb.ai/turkenm/js_tabm' target=\"_blank\">Weights & Biases</a> (<a href='https://wandb.me/run' target=\"_blank\">docs</a>)<br/>Sweep page: <a href='https://wandb.ai/turkenm/js_tabm/sweeps/mtpap5fv' target=\"_blank\">https://wandb.ai/turkenm/js_tabm/sweeps/mtpap5fv</a>"
      ],
      "text/plain": [
       "<IPython.core.display.HTML object>"
      ]
     },
     "metadata": {},
     "output_type": "display_data"
    },
    {
     "data": {
      "text/html": [
       " View project at <a href='https://wandb.ai/turkenm/js_tabm' target=\"_blank\">https://wandb.ai/turkenm/js_tabm</a>"
      ],
      "text/plain": [
       "<IPython.core.display.HTML object>"
      ]
     },
     "metadata": {},
     "output_type": "display_data"
    },
    {
     "data": {
      "text/html": [
       " View sweep at <a href='https://wandb.ai/turkenm/js_tabm/sweeps/mtpap5fv' target=\"_blank\">https://wandb.ai/turkenm/js_tabm/sweeps/mtpap5fv</a>"
      ],
      "text/plain": [
       "<IPython.core.display.HTML object>"
      ]
     },
     "metadata": {},
     "output_type": "display_data"
    },
    {
     "data": {
      "text/html": [
       " View run at <a href='https://wandb.ai/turkenm/js_tabm/runs/dop0cscm' target=\"_blank\">https://wandb.ai/turkenm/js_tabm/runs/dop0cscm</a>"
      ],
      "text/plain": [
       "<IPython.core.display.HTML object>"
      ]
     },
     "metadata": {},
     "output_type": "display_data"
    },
    {
     "name": "stdout",
     "output_type": "stream",
     "text": [
      "EXPERIMENT exp_tabm-mini_dblocks_128_nblocks_3_LR_2e-04_BS_1024_DR_0.1_k_32_id_6023\n",
      "\n",
      "\n",
      "Epoch 1:\n"
     ]
    },
    {
     "name": "stderr",
     "output_type": "stream",
     "text": [
      "Training: 100%|██████████| 18964/18964 [00:52<00:00, 359.61it/s, Loss=2.11, rmse=0.822, R²=0.0146]\n",
      "Testing: 100%|██████████| 676/676 [00:01<00:00, 410.18it/s, Loss=0.76, R²=0.00823] \n"
     ]
    },
    {
     "name": "stdout",
     "output_type": "stream",
     "text": [
      "Train rmse: 0.82353, Train R2: 0.01465, Train loss: 2.10625\n",
      "Test loss: 0.79878, Test R2: 0.00805\n",
      "Model Saved - Epoch 1 - Test R2: 0.00805\n",
      "\n",
      "\n",
      "Epoch 2:\n"
     ]
    },
    {
     "name": "stderr",
     "output_type": "stream",
     "text": [
      "Training: 100%|██████████| 18964/18964 [00:52<00:00, 359.64it/s, Loss=2.1, rmse=0.82, R²=0.0202] \n",
      "Testing: 100%|██████████| 676/676 [00:01<00:00, 411.26it/s, Loss=0.76, R²=0.0082]  \n"
     ]
    },
    {
     "name": "stdout",
     "output_type": "stream",
     "text": [
      "Train rmse: 0.82119, Train R2: 0.02024, Train loss: 2.09725\n",
      "Test loss: 0.79878, Test R2: 0.00804\n",
      "\n",
      "Epoch 3:\n"
     ]
    },
    {
     "name": "stderr",
     "output_type": "stream",
     "text": [
      "Training: 100%|██████████| 18964/18964 [00:52<00:00, 360.37it/s, Loss=2.09, rmse=0.819, R²=0.0222]\n",
      "Testing: 100%|██████████| 676/676 [00:01<00:00, 411.13it/s, Loss=0.76, R²=0.00869] \n",
      "/home/mt/miniconda3/envs/tabm/lib/python3.10/site-packages/torch/_tensor.py:981: ResourceWarning: unclosed <socket.socket fd=111, family=AddressFamily.AF_INET, type=SocketKind.SOCK_STREAM, proto=0, laddr=('127.0.0.1', 49284), raddr=('127.0.0.1', 38351)>\n",
      "  return torch._VF.split(self, split_size, dim)  # type: ignore[attr-defined]\n",
      "ResourceWarning: Enable tracemalloc to get the object allocation traceback\n"
     ]
    },
    {
     "name": "stdout",
     "output_type": "stream",
     "text": [
      "Train rmse: 0.82036, Train R2: 0.02220, Train loss: 2.09417\n",
      "Test loss: 0.79860, Test R2: 0.00849\n",
      "Model Saved - Epoch 3 - Test R2: 0.00849\n",
      "\n",
      "\n",
      "Epoch 4:\n"
     ]
    },
    {
     "name": "stderr",
     "output_type": "stream",
     "text": [
      "Training: 100%|██████████| 18964/18964 [00:52<00:00, 359.45it/s, Loss=2.09, rmse=0.819, R²=0.0236]\n",
      "Testing: 100%|██████████| 676/676 [00:01<00:00, 409.84it/s, Loss=0.76, R²=0.0088]  \n"
     ]
    },
    {
     "name": "stdout",
     "output_type": "stream",
     "text": [
      "Train rmse: 0.81978, Train R2: 0.02360, Train loss: 2.09218\n",
      "Test loss: 0.79855, Test R2: 0.00861\n",
      "Model Saved - Epoch 4 - Test R2: 0.00861\n",
      "\n",
      "\n",
      "Epoch 5:\n"
     ]
    },
    {
     "name": "stderr",
     "output_type": "stream",
     "text": [
      "Training: 100%|██████████| 18964/18964 [00:52<00:00, 359.20it/s, Loss=2.09, rmse=0.818, R²=0.0247]\n",
      "Testing: 100%|██████████| 676/676 [00:01<00:00, 410.11it/s, Loss=0.759, R²=0.00919]\n"
     ]
    },
    {
     "name": "stdout",
     "output_type": "stream",
     "text": [
      "Train rmse: 0.81931, Train R2: 0.02472, Train loss: 2.09054\n",
      "Test loss: 0.79843, Test R2: 0.00893\n",
      "Model Saved - Epoch 5 - Test R2: 0.00893\n",
      "\n",
      "\n",
      "Epoch 6:\n"
     ]
    },
    {
     "name": "stderr",
     "output_type": "stream",
     "text": [
      "Training: 100%|██████████| 18964/18964 [00:52<00:00, 360.57it/s, Loss=2.09, rmse=0.818, R²=0.0258]\n",
      "Testing: 100%|██████████| 676/676 [00:01<00:00, 409.16it/s, Loss=0.759, R²=0.0093] \n"
     ]
    },
    {
     "name": "stdout",
     "output_type": "stream",
     "text": [
      "Train rmse: 0.81886, Train R2: 0.02578, Train loss: 2.08898\n",
      "Test loss: 0.79837, Test R2: 0.00906\n",
      "Model Saved - Epoch 6 - Test R2: 0.00906\n",
      "\n",
      "\n",
      "Epoch 7:\n"
     ]
    },
    {
     "name": "stderr",
     "output_type": "stream",
     "text": [
      "Training: 100%|██████████| 18964/18964 [00:52<00:00, 360.40it/s, Loss=2.09, rmse=0.817, R²=0.0268]\n",
      "Testing: 100%|██████████| 676/676 [00:01<00:00, 411.08it/s, Loss=0.759, R²=0.00908]\n"
     ]
    },
    {
     "name": "stdout",
     "output_type": "stream",
     "text": [
      "Train rmse: 0.81843, Train R2: 0.02681, Train loss: 2.08742\n",
      "Test loss: 0.79844, Test R2: 0.00889\n",
      "\n",
      "Epoch 8:\n"
     ]
    },
    {
     "name": "stderr",
     "output_type": "stream",
     "text": [
      "Training: 100%|██████████| 18964/18964 [00:52<00:00, 360.51it/s, Loss=2.09, rmse=0.817, R²=0.0279]\n",
      "Testing: 100%|██████████| 676/676 [00:01<00:00, 411.49it/s, Loss=0.759, R²=0.00976]\n"
     ]
    },
    {
     "name": "stdout",
     "output_type": "stream",
     "text": [
      "Train rmse: 0.81796, Train R2: 0.02791, Train loss: 2.08587\n",
      "Test loss: 0.79821, Test R2: 0.00948\n",
      "Model Saved - Epoch 8 - Test R2: 0.00948\n",
      "\n",
      "\n",
      "Epoch 9:\n"
     ]
    },
    {
     "name": "stderr",
     "output_type": "stream",
     "text": [
      "Training: 100%|██████████| 18964/18964 [00:52<00:00, 360.15it/s, Loss=2.08, rmse=0.816, R²=0.029] \n",
      "Testing: 100%|██████████| 676/676 [00:01<00:00, 410.68it/s, Loss=0.759, R²=0.00983]\n"
     ]
    },
    {
     "name": "stdout",
     "output_type": "stream",
     "text": [
      "Train rmse: 0.81753, Train R2: 0.02893, Train loss: 2.08425\n",
      "Test loss: 0.79817, Test R2: 0.00955\n",
      "Model Saved - Epoch 9 - Test R2: 0.00955\n",
      "\n",
      "\n",
      "Epoch 10:\n"
     ]
    },
    {
     "name": "stderr",
     "output_type": "stream",
     "text": [
      "Training: 100%|██████████| 18964/18964 [00:52<00:00, 359.82it/s, Loss=2.08, rmse=0.816, R²=0.0299]\n",
      "Testing: 100%|██████████| 676/676 [00:01<00:00, 411.01it/s, Loss=0.759, R²=0.00968]\n"
     ]
    },
    {
     "name": "stdout",
     "output_type": "stream",
     "text": [
      "Train rmse: 0.81711, Train R2: 0.02993, Train loss: 2.08272\n",
      "Test loss: 0.79822, Test R2: 0.00944\n",
      "\n",
      "Epoch 11:\n"
     ]
    },
    {
     "name": "stderr",
     "output_type": "stream",
     "text": [
      "Training: 100%|██████████| 18964/18964 [00:52<00:00, 360.03it/s, Loss=2.08, rmse=0.816, R²=0.0311]\n",
      "Testing: 100%|██████████| 676/676 [00:01<00:00, 411.73it/s, Loss=0.759, R²=0.0103] \n"
     ]
    },
    {
     "name": "stdout",
     "output_type": "stream",
     "text": [
      "Train rmse: 0.81662, Train R2: 0.03111, Train loss: 2.08071\n",
      "Test loss: 0.79799, Test R2: 0.01001\n",
      "Model Saved - Epoch 11 - Test R2: 0.01001\n",
      "\n",
      "\n",
      "Epoch 12:\n"
     ]
    },
    {
     "name": "stderr",
     "output_type": "stream",
     "text": [
      "Training: 100%|██████████| 18964/18964 [00:52<00:00, 360.74it/s, Loss=2.08, rmse=0.815, R²=0.0324]\n",
      "Testing: 100%|██████████| 676/676 [00:01<00:00, 411.64it/s, Loss=0.759, R²=0.0104] \n"
     ]
    },
    {
     "name": "stdout",
     "output_type": "stream",
     "text": [
      "Train rmse: 0.81605, Train R2: 0.03246, Train loss: 2.07844\n",
      "Test loss: 0.79797, Test R2: 0.01007\n",
      "Model Saved - Epoch 12 - Test R2: 0.01007\n",
      "\n",
      "\n",
      "Epoch 13:\n"
     ]
    },
    {
     "name": "stderr",
     "output_type": "stream",
     "text": [
      "Training: 100%|██████████| 18964/18964 [00:52<00:00, 359.59it/s, Loss=2.08, rmse=0.814, R²=0.0339]\n",
      "Testing: 100%|██████████| 676/676 [00:01<00:00, 410.73it/s, Loss=0.759, R²=0.0102] \n"
     ]
    },
    {
     "name": "stdout",
     "output_type": "stream",
     "text": [
      "Train rmse: 0.81545, Train R2: 0.03388, Train loss: 2.07622\n",
      "Test loss: 0.79804, Test R2: 0.00987\n",
      "\n",
      "Epoch 14:\n"
     ]
    },
    {
     "name": "stderr",
     "output_type": "stream",
     "text": [
      "Training: 100%|██████████| 18964/18964 [00:52<00:00, 359.29it/s, Loss=2.07, rmse=0.814, R²=0.0355]\n",
      "Testing: 100%|██████████| 676/676 [00:01<00:00, 409.59it/s, Loss=0.759, R²=0.01]   \n"
     ]
    },
    {
     "name": "stdout",
     "output_type": "stream",
     "text": [
      "Train rmse: 0.81477, Train R2: 0.03548, Train loss: 2.07386\n",
      "Test loss: 0.79811, Test R2: 0.00972\n",
      "\n",
      "Epoch 15:\n"
     ]
    },
    {
     "name": "stderr",
     "output_type": "stream",
     "text": [
      "Training: 100%|██████████| 18964/18964 [00:52<00:00, 358.30it/s, Loss=2.07, rmse=0.813, R²=0.0375]\n",
      "Testing: 100%|██████████| 676/676 [00:01<00:00, 409.97it/s, Loss=0.759, R²=0.0102] \n"
     ]
    },
    {
     "name": "stdout",
     "output_type": "stream",
     "text": [
      "Train rmse: 0.81390, Train R2: 0.03755, Train loss: 2.07113\n",
      "Test loss: 0.79806, Test R2: 0.00983\n",
      "\n",
      "Best Epoch: 12, Best Test R2: 0.01007\n"
     ]
    },
    {
     "name": "stderr",
     "output_type": "stream",
     "text": [
      "/home/mt/miniconda3/envs/tabm/lib/python3.10/site-packages/wandb/sdk/lib/ipython.py:89: DeprecationWarning: Importing display from IPython.core.display is deprecated since IPython 7.14, please import from IPython display\n",
      "  from IPython.core.display import display\n"
     ]
    },
    {
     "data": {
      "application/vnd.jupyter.widget-view+json": {
       "model_id": "54facade1bc54176942853d80f0fd056",
       "version_major": 2,
       "version_minor": 0
      },
      "text/plain": [
       "VBox(children=(Label(value='0.004 MB of 0.004 MB uploaded\\r'), FloatProgress(value=1.0, max=1.0)))"
      ]
     },
     "metadata": {},
     "output_type": "display_data"
    },
    {
     "name": "stderr",
     "output_type": "stream",
     "text": [
      "/home/mt/miniconda3/envs/tabm/lib/python3.10/site-packages/wandb/sdk/lib/ipython.py:77: DeprecationWarning: Importing display from IPython.core.display is deprecated since IPython 7.14, please import from IPython display\n",
      "  from IPython.core.display import HTML, display  # type: ignore\n"
     ]
    },
    {
     "data": {
      "text/html": [
       "<style>\n",
       "    table.wandb td:nth-child(1) { padding: 0 10px; text-align: left ; width: auto;} td:nth-child(2) {text-align: left ; width: 100%}\n",
       "    .wandb-row { display: flex; flex-direction: row; flex-wrap: wrap; justify-content: flex-start; width: 100% }\n",
       "    .wandb-col { display: flex; flex-direction: column; flex-basis: 100%; flex: 1; padding: 10px; }\n",
       "    </style>\n",
       "<div class=\"wandb-row\"><div class=\"wandb-col\"><h3>Run history:</h3><br/><table class=\"wandb\"><tr><td>epoch</td><td>▁▁▂▃▃▃▄▅▅▅▆▇▇▇█</td></tr><tr><td>test_loss</td><td>██▆▆▅▄▅▃▃▃▁▁▂▂▂</td></tr><tr><td>test_r2</td><td>▁▁▃▃▄▅▄▆▆▆██▇▇▇</td></tr><tr><td>train_loss</td><td>█▆▆▅▅▅▄▄▄▃▃▂▂▂▁</td></tr><tr><td>train_r2</td><td>▁▃▃▄▄▄▅▅▅▆▆▆▇▇█</td></tr><tr><td>train_rmse</td><td>█▆▆▅▅▅▄▄▄▃▃▃▂▂▁</td></tr></table><br/></div><div class=\"wandb-col\"><h3>Run summary:</h3><br/><table class=\"wandb\"><tr><td>best_test_r2</td><td>0.01007</td></tr><tr><td>best_train_r2</td><td>0.03755</td></tr><tr><td>epoch</td><td>15</td></tr><tr><td>test_loss</td><td>0.79806</td></tr><tr><td>test_r2</td><td>0.00983</td></tr><tr><td>train_loss</td><td>2.07113</td></tr><tr><td>train_r2</td><td>0.03755</td></tr><tr><td>train_rmse</td><td>0.8139</td></tr></table><br/></div></div>"
      ],
      "text/plain": [
       "<IPython.core.display.HTML object>"
      ]
     },
     "metadata": {},
     "output_type": "display_data"
    },
    {
     "data": {
      "text/html": [
       " View run <strong style=\"color:#cdcd00\">deft-sweep-31</strong> at: <a href='https://wandb.ai/turkenm/js_tabm/runs/dop0cscm' target=\"_blank\">https://wandb.ai/turkenm/js_tabm/runs/dop0cscm</a><br/> View project at: <a href='https://wandb.ai/turkenm/js_tabm' target=\"_blank\">https://wandb.ai/turkenm/js_tabm</a><br/>Synced 6 W&B file(s), 0 media file(s), 0 artifact file(s) and 0 other file(s)"
      ],
      "text/plain": [
       "<IPython.core.display.HTML object>"
      ]
     },
     "metadata": {},
     "output_type": "display_data"
    },
    {
     "data": {
      "text/html": [
       "Find logs at: <code>./wandb/run-20250112_212020-dop0cscm/logs</code>"
      ],
      "text/plain": [
       "<IPython.core.display.HTML object>"
      ]
     },
     "metadata": {},
     "output_type": "display_data"
    },
    {
     "name": "stderr",
     "output_type": "stream",
     "text": [
      "\u001b[34m\u001b[1mwandb\u001b[0m: Agent Starting Run: z8eknlf5 with config:\n",
      "\u001b[34m\u001b[1mwandb\u001b[0m: \td_block: 128\n",
      "\u001b[34m\u001b[1mwandb\u001b[0m: \tdrop_out: 0.1\n",
      "\u001b[34m\u001b[1mwandb\u001b[0m: \tlearning_rate: 0.0002\n",
      "\u001b[34m\u001b[1mwandb\u001b[0m: \tmodel_arch: tabm-mini\n",
      "\u001b[34m\u001b[1mwandb\u001b[0m: \tn_block: 3\n",
      "\u001b[34m\u001b[1mwandb\u001b[0m: \tn_k: 32\n",
      "\u001b[34m\u001b[1mwandb\u001b[0m: \tweight_decay: 0.0002\n",
      "Failed to detect the name of this notebook, you can set it manually with the WANDB_NOTEBOOK_NAME environment variable to enable code saving.\n",
      "/home/mt/miniconda3/envs/tabm/lib/python3.10/site-packages/wandb/sdk/wandb_setup.py:254: ResourceWarning: unclosed file <_io.TextIOWrapper name='/home/mt/Desktop/JaneStreet-Comp/wandb/sweep-mtpap5fv/config-z8eknlf5.yaml' mode='r' encoding='UTF-8'>\n",
      "  self._sweep_config = config_util.dict_from_config_file(\n",
      "ResourceWarning: Enable tracemalloc to get the object allocation traceback\n"
     ]
    },
    {
     "data": {
      "text/html": [
       "wandb version 0.19.2 is available!  To upgrade, please run:\n",
       " $ pip install wandb --upgrade"
      ],
      "text/plain": [
       "<IPython.core.display.HTML object>"
      ]
     },
     "metadata": {},
     "output_type": "display_data"
    },
    {
     "data": {
      "text/html": [
       "Tracking run with wandb version 0.16.6"
      ],
      "text/plain": [
       "<IPython.core.display.HTML object>"
      ]
     },
     "metadata": {},
     "output_type": "display_data"
    },
    {
     "data": {
      "text/html": [
       "Run data is saved locally in <code>/home/mt/Desktop/JaneStreet-Comp/wandb/run-20250112_213410-z8eknlf5</code>"
      ],
      "text/plain": [
       "<IPython.core.display.HTML object>"
      ]
     },
     "metadata": {},
     "output_type": "display_data"
    },
    {
     "data": {
      "text/html": [
       "Syncing run <strong><a href='https://wandb.ai/turkenm/js_tabm/runs/z8eknlf5' target=\"_blank\">clean-sweep-32</a></strong> to <a href='https://wandb.ai/turkenm/js_tabm' target=\"_blank\">Weights & Biases</a> (<a href='https://wandb.me/run' target=\"_blank\">docs</a>)<br/>Sweep page: <a href='https://wandb.ai/turkenm/js_tabm/sweeps/mtpap5fv' target=\"_blank\">https://wandb.ai/turkenm/js_tabm/sweeps/mtpap5fv</a>"
      ],
      "text/plain": [
       "<IPython.core.display.HTML object>"
      ]
     },
     "metadata": {},
     "output_type": "display_data"
    },
    {
     "data": {
      "text/html": [
       " View project at <a href='https://wandb.ai/turkenm/js_tabm' target=\"_blank\">https://wandb.ai/turkenm/js_tabm</a>"
      ],
      "text/plain": [
       "<IPython.core.display.HTML object>"
      ]
     },
     "metadata": {},
     "output_type": "display_data"
    },
    {
     "data": {
      "text/html": [
       " View sweep at <a href='https://wandb.ai/turkenm/js_tabm/sweeps/mtpap5fv' target=\"_blank\">https://wandb.ai/turkenm/js_tabm/sweeps/mtpap5fv</a>"
      ],
      "text/plain": [
       "<IPython.core.display.HTML object>"
      ]
     },
     "metadata": {},
     "output_type": "display_data"
    },
    {
     "data": {
      "text/html": [
       " View run at <a href='https://wandb.ai/turkenm/js_tabm/runs/z8eknlf5' target=\"_blank\">https://wandb.ai/turkenm/js_tabm/runs/z8eknlf5</a>"
      ],
      "text/plain": [
       "<IPython.core.display.HTML object>"
      ]
     },
     "metadata": {},
     "output_type": "display_data"
    },
    {
     "name": "stdout",
     "output_type": "stream",
     "text": [
      "EXPERIMENT exp_tabm-mini_dblocks_128_nblocks_3_LR_2e-04_BS_1024_DR_0.1_k_32_id_6853\n",
      "\n",
      "\n",
      "Epoch 1:\n"
     ]
    },
    {
     "name": "stderr",
     "output_type": "stream",
     "text": [
      "Training: 100%|██████████| 18964/18964 [00:52<00:00, 359.35it/s, Loss=2.11, rmse=0.823, R²=0.0145]\n",
      "Testing: 100%|██████████| 676/676 [00:01<00:00, 411.44it/s, Loss=0.76, R²=0.00841] \n"
     ]
    },
    {
     "name": "stdout",
     "output_type": "stream",
     "text": [
      "Train rmse: 0.82358, Train R2: 0.01451, Train loss: 2.10643\n",
      "Test loss: 0.79871, Test R2: 0.00822\n",
      "Model Saved - Epoch 1 - Test R2: 0.00822\n",
      "\n",
      "\n",
      "Epoch 2:\n"
     ]
    },
    {
     "name": "stderr",
     "output_type": "stream",
     "text": [
      "Training: 100%|██████████| 18964/18964 [00:52<00:00, 360.90it/s, Loss=2.1, rmse=0.82, R²=0.0201]\n",
      "Testing: 100%|██████████| 676/676 [00:01<00:00, 411.44it/s, Loss=0.76, R²=0.00873] \n"
     ]
    },
    {
     "name": "stdout",
     "output_type": "stream",
     "text": [
      "Train rmse: 0.82125, Train R2: 0.02008, Train loss: 2.09763\n",
      "Test loss: 0.79858, Test R2: 0.00855\n",
      "Model Saved - Epoch 2 - Test R2: 0.00855\n",
      "\n",
      "\n",
      "Epoch 3:\n"
     ]
    },
    {
     "name": "stderr",
     "output_type": "stream",
     "text": [
      "Training: 100%|██████████| 18964/18964 [00:52<00:00, 360.62it/s, Loss=2.09, rmse=0.819, R²=0.0219]\n",
      "Testing: 100%|██████████| 676/676 [00:01<00:00, 410.88it/s, Loss=0.76, R²=0.00872] \n",
      "/home/mt/miniconda3/envs/tabm/lib/python3.10/site-packages/torch/_tensor.py:981: ResourceWarning: unclosed <socket.socket fd=108, family=AddressFamily.AF_INET, type=SocketKind.SOCK_STREAM, proto=0, laddr=('127.0.0.1', 42254), raddr=('127.0.0.1', 57183)>\n",
      "  return torch._VF.split(self, split_size, dim)  # type: ignore[attr-defined]\n",
      "ResourceWarning: Enable tracemalloc to get the object allocation traceback\n"
     ]
    },
    {
     "name": "stdout",
     "output_type": "stream",
     "text": [
      "Train rmse: 0.82047, Train R2: 0.02194, Train loss: 2.09474\n",
      "Test loss: 0.79860, Test R2: 0.00849\n",
      "\n",
      "Epoch 4:\n"
     ]
    },
    {
     "name": "stderr",
     "output_type": "stream",
     "text": [
      "Training: 100%|██████████| 18964/18964 [00:52<00:00, 360.70it/s, Loss=2.09, rmse=0.819, R²=0.0232]\n",
      "Testing: 100%|██████████| 676/676 [00:01<00:00, 410.05it/s, Loss=0.76, R²=0.00896] \n"
     ]
    },
    {
     "name": "stdout",
     "output_type": "stream",
     "text": [
      "Train rmse: 0.81995, Train R2: 0.02319, Train loss: 2.09293\n",
      "Test loss: 0.79849, Test R2: 0.00877\n",
      "Model Saved - Epoch 4 - Test R2: 0.00877\n",
      "\n",
      "\n",
      "Epoch 5:\n"
     ]
    },
    {
     "name": "stderr",
     "output_type": "stream",
     "text": [
      "Training: 100%|██████████| 18964/18964 [00:52<00:00, 359.17it/s, Loss=2.09, rmse=0.818, R²=0.0242]\n",
      "Testing: 100%|██████████| 676/676 [00:01<00:00, 409.88it/s, Loss=0.76, R²=0.00913] \n"
     ]
    },
    {
     "name": "stdout",
     "output_type": "stream",
     "text": [
      "Train rmse: 0.81951, Train R2: 0.02423, Train loss: 2.09146\n",
      "Test loss: 0.79843, Test R2: 0.00893\n",
      "Model Saved - Epoch 5 - Test R2: 0.00893\n",
      "\n",
      "\n",
      "Epoch 6:\n"
     ]
    },
    {
     "name": "stderr",
     "output_type": "stream",
     "text": [
      "Training: 100%|██████████| 18964/18964 [00:52<00:00, 359.48it/s, Loss=2.09, rmse=0.818, R²=0.0251]\n",
      "Testing: 100%|██████████| 676/676 [00:01<00:00, 410.15it/s, Loss=0.759, R²=0.00913]\n"
     ]
    },
    {
     "name": "stdout",
     "output_type": "stream",
     "text": [
      "Train rmse: 0.81913, Train R2: 0.02514, Train loss: 2.09017\n",
      "Test loss: 0.79842, Test R2: 0.00894\n",
      "Model Saved - Epoch 6 - Test R2: 0.00894\n",
      "\n",
      "\n",
      "Epoch 7:\n"
     ]
    },
    {
     "name": "stderr",
     "output_type": "stream",
     "text": [
      "Training: 100%|██████████| 18964/18964 [00:52<00:00, 359.16it/s, Loss=2.09, rmse=0.818, R²=0.026] \n",
      "Testing: 100%|██████████| 676/676 [00:01<00:00, 410.06it/s, Loss=0.759, R²=0.00911]\n"
     ]
    },
    {
     "name": "stdout",
     "output_type": "stream",
     "text": [
      "Train rmse: 0.81878, Train R2: 0.02597, Train loss: 2.08896\n",
      "Test loss: 0.79842, Test R2: 0.00893\n",
      "\n",
      "Epoch 8:\n"
     ]
    },
    {
     "name": "stderr",
     "output_type": "stream",
     "text": [
      "Training: 100%|██████████| 18964/18964 [00:52<00:00, 359.52it/s, Loss=2.09, rmse=0.817, R²=0.0268]\n",
      "Testing: 100%|██████████| 676/676 [00:01<00:00, 410.89it/s, Loss=0.759, R²=0.00963]\n"
     ]
    },
    {
     "name": "stdout",
     "output_type": "stream",
     "text": [
      "Train rmse: 0.81844, Train R2: 0.02679, Train loss: 2.08777\n",
      "Test loss: 0.79824, Test R2: 0.00940\n",
      "Model Saved - Epoch 8 - Test R2: 0.00940\n",
      "\n",
      "\n",
      "Epoch 9:\n"
     ]
    },
    {
     "name": "stderr",
     "output_type": "stream",
     "text": [
      "Training: 100%|██████████| 18964/18964 [00:52<00:00, 359.51it/s, Loss=2.09, rmse=0.817, R²=0.0277]\n",
      "Testing: 100%|██████████| 676/676 [00:01<00:00, 410.42it/s, Loss=0.759, R²=0.00934]\n"
     ]
    },
    {
     "name": "stdout",
     "output_type": "stream",
     "text": [
      "Train rmse: 0.81806, Train R2: 0.02767, Train loss: 2.08645\n",
      "Test loss: 0.79835, Test R2: 0.00912\n",
      "\n",
      "Epoch 10:\n"
     ]
    },
    {
     "name": "stderr",
     "output_type": "stream",
     "text": [
      "Training: 100%|██████████| 18964/18964 [00:52<00:00, 359.41it/s, Loss=2.09, rmse=0.817, R²=0.0284]\n",
      "Testing: 100%|██████████| 676/676 [00:01<00:00, 409.23it/s, Loss=0.759, R²=0.00943]\n"
     ]
    },
    {
     "name": "stdout",
     "output_type": "stream",
     "text": [
      "Train rmse: 0.81773, Train R2: 0.02847, Train loss: 2.08518\n",
      "Test loss: 0.79831, Test R2: 0.00923\n",
      "\n",
      "Epoch 11:\n"
     ]
    },
    {
     "name": "stderr",
     "output_type": "stream",
     "text": [
      "Training: 100%|██████████| 18964/18964 [00:52<00:00, 359.26it/s, Loss=2.08, rmse=0.816, R²=0.0293]\n",
      "Testing: 100%|██████████| 676/676 [00:01<00:00, 411.57it/s, Loss=0.759, R²=0.00931]\n"
     ]
    },
    {
     "name": "stdout",
     "output_type": "stream",
     "text": [
      "Train rmse: 0.81739, Train R2: 0.02927, Train loss: 2.08389\n",
      "Test loss: 0.79835, Test R2: 0.00912\n",
      "\n",
      "Epoch 12:\n"
     ]
    },
    {
     "name": "stderr",
     "output_type": "stream",
     "text": [
      "Training: 100%|██████████| 18964/18964 [00:52<00:00, 360.86it/s, Loss=2.08, rmse=0.816, R²=0.0301]\n",
      "Testing: 100%|██████████| 676/676 [00:01<00:00, 411.34it/s, Loss=0.759, R²=0.00975]\n"
     ]
    },
    {
     "name": "stdout",
     "output_type": "stream",
     "text": [
      "Train rmse: 0.81705, Train R2: 0.03008, Train loss: 2.08258\n",
      "Test loss: 0.79818, Test R2: 0.00953\n",
      "Model Saved - Epoch 12 - Test R2: 0.00953\n",
      "\n",
      "\n",
      "Epoch 13:\n"
     ]
    },
    {
     "name": "stderr",
     "output_type": "stream",
     "text": [
      "Training: 100%|██████████| 18964/18964 [00:52<00:00, 359.97it/s, Loss=2.08, rmse=0.816, R²=0.0309]\n",
      "Testing: 100%|██████████| 676/676 [00:01<00:00, 410.21it/s, Loss=0.759, R²=0.0099] \n"
     ]
    },
    {
     "name": "stdout",
     "output_type": "stream",
     "text": [
      "Train rmse: 0.81669, Train R2: 0.03094, Train loss: 2.08114\n",
      "Test loss: 0.79812, Test R2: 0.00970\n",
      "Model Saved - Epoch 13 - Test R2: 0.00970\n",
      "\n",
      "\n",
      "Epoch 14:\n"
     ]
    },
    {
     "name": "stderr",
     "output_type": "stream",
     "text": [
      "Training: 100%|██████████| 18964/18964 [00:52<00:00, 359.51it/s, Loss=2.08, rmse=0.815, R²=0.0319]\n",
      "Testing: 100%|██████████| 676/676 [00:01<00:00, 409.32it/s, Loss=0.759, R²=0.00973]\n"
     ]
    },
    {
     "name": "stdout",
     "output_type": "stream",
     "text": [
      "Train rmse: 0.81630, Train R2: 0.03187, Train loss: 2.07962\n",
      "Test loss: 0.79818, Test R2: 0.00955\n",
      "\n",
      "Epoch 15:\n"
     ]
    },
    {
     "name": "stderr",
     "output_type": "stream",
     "text": [
      "Training: 100%|██████████| 18964/18964 [00:52<00:00, 358.37it/s, Loss=2.08, rmse=0.815, R²=0.0329]\n",
      "Testing: 100%|██████████| 676/676 [00:01<00:00, 410.13it/s, Loss=0.759, R²=0.00963]\n"
     ]
    },
    {
     "name": "stdout",
     "output_type": "stream",
     "text": [
      "Train rmse: 0.81585, Train R2: 0.03292, Train loss: 2.07812\n",
      "Test loss: 0.79822, Test R2: 0.00943\n",
      "\n",
      "Best Epoch: 13, Best Test R2: 0.00970\n"
     ]
    },
    {
     "name": "stderr",
     "output_type": "stream",
     "text": [
      "/home/mt/miniconda3/envs/tabm/lib/python3.10/site-packages/wandb/sdk/lib/ipython.py:89: DeprecationWarning: Importing display from IPython.core.display is deprecated since IPython 7.14, please import from IPython display\n",
      "  from IPython.core.display import display\n"
     ]
    },
    {
     "data": {
      "application/vnd.jupyter.widget-view+json": {
       "model_id": "2381dc1e318147ea9434f9b14529fa0d",
       "version_major": 2,
       "version_minor": 0
      },
      "text/plain": [
       "VBox(children=(Label(value='0.004 MB of 0.004 MB uploaded\\r'), FloatProgress(value=1.0, max=1.0)))"
      ]
     },
     "metadata": {},
     "output_type": "display_data"
    },
    {
     "name": "stderr",
     "output_type": "stream",
     "text": [
      "/home/mt/miniconda3/envs/tabm/lib/python3.10/site-packages/wandb/sdk/lib/ipython.py:77: DeprecationWarning: Importing display from IPython.core.display is deprecated since IPython 7.14, please import from IPython display\n",
      "  from IPython.core.display import HTML, display  # type: ignore\n"
     ]
    },
    {
     "data": {
      "text/html": [
       "<style>\n",
       "    table.wandb td:nth-child(1) { padding: 0 10px; text-align: left ; width: auto;} td:nth-child(2) {text-align: left ; width: 100%}\n",
       "    .wandb-row { display: flex; flex-direction: row; flex-wrap: wrap; justify-content: flex-start; width: 100% }\n",
       "    .wandb-col { display: flex; flex-direction: column; flex-basis: 100%; flex: 1; padding: 10px; }\n",
       "    </style>\n",
       "<div class=\"wandb-row\"><div class=\"wandb-col\"><h3>Run history:</h3><br/><table class=\"wandb\"><tr><td>epoch</td><td>▁▁▂▃▃▃▄▅▅▅▆▇▇▇█</td></tr><tr><td>test_loss</td><td>█▆▇▅▅▅▅▂▄▃▄▂▁▂▂</td></tr><tr><td>test_r2</td><td>▁▃▂▄▄▄▄▇▅▆▅▇█▇▇</td></tr><tr><td>train_loss</td><td>█▆▅▅▄▄▄▃▃▃▂▂▂▁▁</td></tr><tr><td>train_r2</td><td>▁▃▄▄▅▅▅▆▆▆▇▇▇██</td></tr><tr><td>train_rmse</td><td>█▆▅▅▄▄▄▃▃▃▂▂▂▁▁</td></tr></table><br/></div><div class=\"wandb-col\"><h3>Run summary:</h3><br/><table class=\"wandb\"><tr><td>best_test_r2</td><td>0.0097</td></tr><tr><td>best_train_r2</td><td>0.03292</td></tr><tr><td>epoch</td><td>15</td></tr><tr><td>test_loss</td><td>0.79822</td></tr><tr><td>test_r2</td><td>0.00943</td></tr><tr><td>train_loss</td><td>2.07812</td></tr><tr><td>train_r2</td><td>0.03292</td></tr><tr><td>train_rmse</td><td>0.81585</td></tr></table><br/></div></div>"
      ],
      "text/plain": [
       "<IPython.core.display.HTML object>"
      ]
     },
     "metadata": {},
     "output_type": "display_data"
    },
    {
     "data": {
      "text/html": [
       " View run <strong style=\"color:#cdcd00\">clean-sweep-32</strong> at: <a href='https://wandb.ai/turkenm/js_tabm/runs/z8eknlf5' target=\"_blank\">https://wandb.ai/turkenm/js_tabm/runs/z8eknlf5</a><br/> View project at: <a href='https://wandb.ai/turkenm/js_tabm' target=\"_blank\">https://wandb.ai/turkenm/js_tabm</a><br/>Synced 6 W&B file(s), 0 media file(s), 0 artifact file(s) and 0 other file(s)"
      ],
      "text/plain": [
       "<IPython.core.display.HTML object>"
      ]
     },
     "metadata": {},
     "output_type": "display_data"
    },
    {
     "data": {
      "text/html": [
       "Find logs at: <code>./wandb/run-20250112_213410-z8eknlf5/logs</code>"
      ],
      "text/plain": [
       "<IPython.core.display.HTML object>"
      ]
     },
     "metadata": {},
     "output_type": "display_data"
    },
    {
     "name": "stderr",
     "output_type": "stream",
     "text": [
      "\u001b[34m\u001b[1mwandb\u001b[0m: Agent Starting Run: 9f3elnpj with config:\n",
      "\u001b[34m\u001b[1mwandb\u001b[0m: \td_block: 128\n",
      "\u001b[34m\u001b[1mwandb\u001b[0m: \tdrop_out: 0.1\n",
      "\u001b[34m\u001b[1mwandb\u001b[0m: \tlearning_rate: 0.0001\n",
      "\u001b[34m\u001b[1mwandb\u001b[0m: \tmodel_arch: tabm-mini\n",
      "\u001b[34m\u001b[1mwandb\u001b[0m: \tn_block: 3\n",
      "\u001b[34m\u001b[1mwandb\u001b[0m: \tn_k: 16\n",
      "\u001b[34m\u001b[1mwandb\u001b[0m: \tweight_decay: 0.0001\n",
      "Failed to detect the name of this notebook, you can set it manually with the WANDB_NOTEBOOK_NAME environment variable to enable code saving.\n",
      "/home/mt/miniconda3/envs/tabm/lib/python3.10/site-packages/wandb/sdk/wandb_setup.py:254: ResourceWarning: unclosed file <_io.TextIOWrapper name='/home/mt/Desktop/JaneStreet-Comp/wandb/sweep-mtpap5fv/config-9f3elnpj.yaml' mode='r' encoding='UTF-8'>\n",
      "  self._sweep_config = config_util.dict_from_config_file(\n",
      "ResourceWarning: Enable tracemalloc to get the object allocation traceback\n"
     ]
    },
    {
     "data": {
      "text/html": [
       "wandb version 0.19.2 is available!  To upgrade, please run:\n",
       " $ pip install wandb --upgrade"
      ],
      "text/plain": [
       "<IPython.core.display.HTML object>"
      ]
     },
     "metadata": {},
     "output_type": "display_data"
    },
    {
     "data": {
      "text/html": [
       "Tracking run with wandb version 0.16.6"
      ],
      "text/plain": [
       "<IPython.core.display.HTML object>"
      ]
     },
     "metadata": {},
     "output_type": "display_data"
    },
    {
     "data": {
      "text/html": [
       "Run data is saved locally in <code>/home/mt/Desktop/JaneStreet-Comp/wandb/run-20250112_214802-9f3elnpj</code>"
      ],
      "text/plain": [
       "<IPython.core.display.HTML object>"
      ]
     },
     "metadata": {},
     "output_type": "display_data"
    },
    {
     "data": {
      "text/html": [
       "Syncing run <strong><a href='https://wandb.ai/turkenm/js_tabm/runs/9f3elnpj' target=\"_blank\">divine-sweep-33</a></strong> to <a href='https://wandb.ai/turkenm/js_tabm' target=\"_blank\">Weights & Biases</a> (<a href='https://wandb.me/run' target=\"_blank\">docs</a>)<br/>Sweep page: <a href='https://wandb.ai/turkenm/js_tabm/sweeps/mtpap5fv' target=\"_blank\">https://wandb.ai/turkenm/js_tabm/sweeps/mtpap5fv</a>"
      ],
      "text/plain": [
       "<IPython.core.display.HTML object>"
      ]
     },
     "metadata": {},
     "output_type": "display_data"
    },
    {
     "data": {
      "text/html": [
       " View project at <a href='https://wandb.ai/turkenm/js_tabm' target=\"_blank\">https://wandb.ai/turkenm/js_tabm</a>"
      ],
      "text/plain": [
       "<IPython.core.display.HTML object>"
      ]
     },
     "metadata": {},
     "output_type": "display_data"
    },
    {
     "data": {
      "text/html": [
       " View sweep at <a href='https://wandb.ai/turkenm/js_tabm/sweeps/mtpap5fv' target=\"_blank\">https://wandb.ai/turkenm/js_tabm/sweeps/mtpap5fv</a>"
      ],
      "text/plain": [
       "<IPython.core.display.HTML object>"
      ]
     },
     "metadata": {},
     "output_type": "display_data"
    },
    {
     "data": {
      "text/html": [
       " View run at <a href='https://wandb.ai/turkenm/js_tabm/runs/9f3elnpj' target=\"_blank\">https://wandb.ai/turkenm/js_tabm/runs/9f3elnpj</a>"
      ],
      "text/plain": [
       "<IPython.core.display.HTML object>"
      ]
     },
     "metadata": {},
     "output_type": "display_data"
    },
    {
     "name": "stdout",
     "output_type": "stream",
     "text": [
      "EXPERIMENT exp_tabm-mini_dblocks_128_nblocks_3_LR_1e-04_BS_1024_DR_0.1_k_16_id_7685\n",
      "\n",
      "\n",
      "Epoch 1:\n"
     ]
    },
    {
     "name": "stderr",
     "output_type": "stream",
     "text": [
      "Training: 100%|██████████| 18964/18964 [00:34<00:00, 556.69it/s, Loss=2.11, rmse=0.823, R²=0.0136]\n",
      "Testing: 100%|██████████| 676/676 [00:00<00:00, 680.83it/s, Loss=0.76, R²=0.0086]  \n"
     ]
    },
    {
     "name": "stdout",
     "output_type": "stream",
     "text": [
      "Train rmse: 0.82393, Train R2: 0.01367, Train loss: 2.10749\n",
      "Test loss: 0.79864, Test R2: 0.00840\n",
      "Model Saved - Epoch 1 - Test R2: 0.00840\n",
      "\n",
      "\n",
      "Epoch 2:\n"
     ]
    },
    {
     "name": "stderr",
     "output_type": "stream",
     "text": [
      "Training: 100%|██████████| 18964/18964 [00:34<00:00, 557.20it/s, Loss=2.1, rmse=0.82, R²=0.0201] \n",
      "Testing: 100%|██████████| 676/676 [00:00<00:00, 679.25it/s, Loss=0.759, R²=0.00921]\n"
     ]
    },
    {
     "name": "stdout",
     "output_type": "stream",
     "text": [
      "Train rmse: 0.82122, Train R2: 0.02017, Train loss: 2.09681\n",
      "Test loss: 0.79841, Test R2: 0.00898\n",
      "Model Saved - Epoch 2 - Test R2: 0.00898\n",
      "\n",
      "\n",
      "Epoch 3:\n"
     ]
    },
    {
     "name": "stderr",
     "output_type": "stream",
     "text": [
      "Training: 100%|██████████| 18964/18964 [00:34<00:00, 554.84it/s, Loss=2.09, rmse=0.819, R²=0.0227]\n",
      "Testing: 100%|██████████| 676/676 [00:00<00:00, 676.44it/s, Loss=0.76, R²=0.00894] \n"
     ]
    },
    {
     "name": "stdout",
     "output_type": "stream",
     "text": [
      "Train rmse: 0.82016, Train R2: 0.02267, Train loss: 2.09289\n",
      "Test loss: 0.79850, Test R2: 0.00875\n",
      "\n",
      "Epoch 4:\n"
     ]
    },
    {
     "name": "stderr",
     "output_type": "stream",
     "text": [
      "Training:   6%|▋         | 1195/18964 [00:02<00:30, 589.07it/s, Loss=2.09, rmse=0.818, R²=0.0231]/home/mt/miniconda3/envs/tabm/lib/python3.10/site-packages/torch/nn/functional.py:1425: ResourceWarning: unclosed <socket.socket fd=111, family=AddressFamily.AF_INET, type=SocketKind.SOCK_STREAM, proto=0, laddr=('127.0.0.1', 35562), raddr=('127.0.0.1', 43679)>\n",
      "  _VF.dropout_(input, p, training) if inplace else _VF.dropout(input, p, training)\n",
      "ResourceWarning: Enable tracemalloc to get the object allocation traceback\n",
      "Training: 100%|██████████| 18964/18964 [00:34<00:00, 550.89it/s, Loss=2.09, rmse=0.818, R²=0.0243]\n",
      "Testing: 100%|██████████| 676/676 [00:00<00:00, 679.25it/s, Loss=0.76, R²=0.00914] \n"
     ]
    },
    {
     "name": "stdout",
     "output_type": "stream",
     "text": [
      "Train rmse: 0.81948, Train R2: 0.02430, Train loss: 2.09047\n",
      "Test loss: 0.79844, Test R2: 0.00889\n",
      "\n",
      "Epoch 5:\n"
     ]
    },
    {
     "name": "stderr",
     "output_type": "stream",
     "text": [
      "Training: 100%|██████████| 18964/18964 [00:34<00:00, 552.82it/s, Loss=2.09, rmse=0.818, R²=0.0255]\n",
      "Testing: 100%|██████████| 676/676 [00:00<00:00, 676.56it/s, Loss=0.759, R²=0.0097]\n"
     ]
    },
    {
     "name": "stdout",
     "output_type": "stream",
     "text": [
      "Train rmse: 0.81900, Train R2: 0.02544, Train loss: 2.08882\n",
      "Test loss: 0.79823, Test R2: 0.00941\n",
      "Model Saved - Epoch 5 - Test R2: 0.00941\n",
      "\n",
      "\n",
      "Epoch 6:\n"
     ]
    },
    {
     "name": "stderr",
     "output_type": "stream",
     "text": [
      "Training: 100%|██████████| 18964/18964 [00:34<00:00, 554.99it/s, Loss=2.09, rmse=0.817, R²=0.0264]\n",
      "Testing: 100%|██████████| 676/676 [00:00<00:00, 682.03it/s, Loss=0.759, R²=0.00952]\n"
     ]
    },
    {
     "name": "stdout",
     "output_type": "stream",
     "text": [
      "Train rmse: 0.81859, Train R2: 0.02643, Train loss: 2.08747\n",
      "Test loss: 0.79829, Test R2: 0.00927\n",
      "\n",
      "Epoch 7:\n"
     ]
    },
    {
     "name": "stderr",
     "output_type": "stream",
     "text": [
      "Training: 100%|██████████| 18964/18964 [00:34<00:00, 550.81it/s, Loss=2.09, rmse=0.817, R²=0.0272]\n",
      "Testing: 100%|██████████| 676/676 [00:00<00:00, 677.57it/s, Loss=0.759, R²=0.00969]\n"
     ]
    },
    {
     "name": "stdout",
     "output_type": "stream",
     "text": [
      "Train rmse: 0.81826, Train R2: 0.02721, Train loss: 2.08643\n",
      "Test loss: 0.79823, Test R2: 0.00943\n",
      "Model Saved - Epoch 7 - Test R2: 0.00943\n",
      "\n",
      "\n",
      "Epoch 8:\n"
     ]
    },
    {
     "name": "stderr",
     "output_type": "stream",
     "text": [
      "Training: 100%|██████████| 18964/18964 [00:34<00:00, 553.98it/s, Loss=2.09, rmse=0.817, R²=0.0279]\n",
      "Testing: 100%|██████████| 676/676 [00:00<00:00, 678.84it/s, Loss=0.759, R²=0.00983]\n"
     ]
    },
    {
     "name": "stdout",
     "output_type": "stream",
     "text": [
      "Train rmse: 0.81797, Train R2: 0.02789, Train loss: 2.08559\n",
      "Test loss: 0.79817, Test R2: 0.00955\n",
      "Model Saved - Epoch 8 - Test R2: 0.00955\n",
      "\n",
      "\n",
      "Epoch 9:\n"
     ]
    },
    {
     "name": "stderr",
     "output_type": "stream",
     "text": [
      "Training: 100%|██████████| 18964/18964 [00:34<00:00, 554.04it/s, Loss=2.08, rmse=0.817, R²=0.0285]\n",
      "Testing: 100%|██████████| 676/676 [00:00<00:00, 679.80it/s, Loss=0.759, R²=0.00983]\n"
     ]
    },
    {
     "name": "stdout",
     "output_type": "stream",
     "text": [
      "Train rmse: 0.81773, Train R2: 0.02848, Train loss: 2.08473\n",
      "Test loss: 0.79817, Test R2: 0.00956\n",
      "Model Saved - Epoch 9 - Test R2: 0.00956\n",
      "\n",
      "\n",
      "Epoch 10:\n"
     ]
    },
    {
     "name": "stderr",
     "output_type": "stream",
     "text": [
      "Training: 100%|██████████| 18964/18964 [00:34<00:00, 556.04it/s, Loss=2.08, rmse=0.816, R²=0.029] \n",
      "Testing: 100%|██████████| 676/676 [00:00<00:00, 681.16it/s, Loss=0.759, R²=0.00974]\n"
     ]
    },
    {
     "name": "stdout",
     "output_type": "stream",
     "text": [
      "Train rmse: 0.81750, Train R2: 0.02901, Train loss: 2.08407\n",
      "Test loss: 0.79820, Test R2: 0.00949\n",
      "\n",
      "Epoch 11:\n"
     ]
    },
    {
     "name": "stderr",
     "output_type": "stream",
     "text": [
      "Training: 100%|██████████| 18964/18964 [00:34<00:00, 554.54it/s, Loss=2.08, rmse=0.816, R²=0.0296]\n",
      "Testing: 100%|██████████| 676/676 [00:00<00:00, 677.36it/s, Loss=0.759, R²=0.00945]\n"
     ]
    },
    {
     "name": "stdout",
     "output_type": "stream",
     "text": [
      "Train rmse: 0.81726, Train R2: 0.02958, Train loss: 2.08324\n",
      "Test loss: 0.79831, Test R2: 0.00923\n",
      "\n",
      "Epoch 12:\n"
     ]
    },
    {
     "name": "stderr",
     "output_type": "stream",
     "text": [
      "Training: 100%|██████████| 18964/18964 [00:34<00:00, 552.03it/s, Loss=2.08, rmse=0.816, R²=0.0301]\n",
      "Testing: 100%|██████████| 676/676 [00:00<00:00, 679.78it/s, Loss=0.759, R²=0.00994]\n"
     ]
    },
    {
     "name": "stdout",
     "output_type": "stream",
     "text": [
      "Train rmse: 0.81706, Train R2: 0.03007, Train loss: 2.08267\n",
      "Test loss: 0.79813, Test R2: 0.00967\n",
      "Model Saved - Epoch 12 - Test R2: 0.00967\n",
      "\n",
      "\n",
      "Epoch 13:\n"
     ]
    },
    {
     "name": "stderr",
     "output_type": "stream",
     "text": [
      "Training: 100%|██████████| 18964/18964 [00:34<00:00, 556.81it/s, Loss=2.08, rmse=0.816, R²=0.0305]\n",
      "Testing: 100%|██████████| 676/676 [00:00<00:00, 680.70it/s, Loss=0.759, R²=0.00952]\n"
     ]
    },
    {
     "name": "stdout",
     "output_type": "stream",
     "text": [
      "Train rmse: 0.81688, Train R2: 0.03049, Train loss: 2.08202\n",
      "Test loss: 0.79829, Test R2: 0.00926\n",
      "\n",
      "Epoch 14:\n"
     ]
    },
    {
     "name": "stderr",
     "output_type": "stream",
     "text": [
      "Training: 100%|██████████| 18964/18964 [00:33<00:00, 557.77it/s, Loss=2.08, rmse=0.816, R²=0.0309]\n",
      "Testing: 100%|██████████| 676/676 [00:00<00:00, 680.46it/s, Loss=0.759, R²=0.00971]\n"
     ]
    },
    {
     "name": "stdout",
     "output_type": "stream",
     "text": [
      "Train rmse: 0.81669, Train R2: 0.03093, Train loss: 2.08146\n",
      "Test loss: 0.79822, Test R2: 0.00945\n",
      "\n",
      "Epoch 15:\n"
     ]
    },
    {
     "name": "stderr",
     "output_type": "stream",
     "text": [
      "Training: 100%|██████████| 18964/18964 [00:34<00:00, 552.88it/s, Loss=2.08, rmse=0.815, R²=0.0313]\n",
      "Testing: 100%|██████████| 676/676 [00:01<00:00, 675.28it/s, Loss=0.759, R²=0.01]  \n"
     ]
    },
    {
     "name": "stdout",
     "output_type": "stream",
     "text": [
      "Train rmse: 0.81652, Train R2: 0.03133, Train loss: 2.08083\n",
      "Test loss: 0.79809, Test R2: 0.00976\n",
      "Model Saved - Epoch 15 - Test R2: 0.00976\n",
      "\n",
      "\n",
      "Best Epoch: 15, Best Test R2: 0.00976\n"
     ]
    },
    {
     "name": "stderr",
     "output_type": "stream",
     "text": [
      "/home/mt/miniconda3/envs/tabm/lib/python3.10/site-packages/wandb/sdk/lib/ipython.py:89: DeprecationWarning: Importing display from IPython.core.display is deprecated since IPython 7.14, please import from IPython display\n",
      "  from IPython.core.display import display\n"
     ]
    },
    {
     "data": {
      "application/vnd.jupyter.widget-view+json": {
       "model_id": "4b88a96a1981490a84d87f5819461102",
       "version_major": 2,
       "version_minor": 0
      },
      "text/plain": [
       "VBox(children=(Label(value='0.004 MB of 0.004 MB uploaded\\r'), FloatProgress(value=1.0, max=1.0)))"
      ]
     },
     "metadata": {},
     "output_type": "display_data"
    },
    {
     "name": "stderr",
     "output_type": "stream",
     "text": [
      "/home/mt/miniconda3/envs/tabm/lib/python3.10/site-packages/wandb/sdk/lib/ipython.py:77: DeprecationWarning: Importing display from IPython.core.display is deprecated since IPython 7.14, please import from IPython display\n",
      "  from IPython.core.display import HTML, display  # type: ignore\n"
     ]
    },
    {
     "data": {
      "text/html": [
       "<style>\n",
       "    table.wandb td:nth-child(1) { padding: 0 10px; text-align: left ; width: auto;} td:nth-child(2) {text-align: left ; width: 100%}\n",
       "    .wandb-row { display: flex; flex-direction: row; flex-wrap: wrap; justify-content: flex-start; width: 100% }\n",
       "    .wandb-col { display: flex; flex-direction: column; flex-basis: 100%; flex: 1; padding: 10px; }\n",
       "    </style>\n",
       "<div class=\"wandb-row\"><div class=\"wandb-col\"><h3>Run history:</h3><br/><table class=\"wandb\"><tr><td>epoch</td><td>▁▁▂▃▃▃▄▅▅▅▆▇▇▇█</td></tr><tr><td>test_loss</td><td>█▅▆▅▃▄▃▂▂▂▄▁▄▃▁</td></tr><tr><td>test_r2</td><td>▁▄▃▄▆▅▆▇▇▇▅█▅▆█</td></tr><tr><td>train_loss</td><td>█▅▄▄▃▃▂▂▂▂▂▁▁▁▁</td></tr><tr><td>train_r2</td><td>▁▄▅▅▆▆▆▇▇▇▇████</td></tr><tr><td>train_rmse</td><td>█▅▄▄▃▃▃▂▂▂▂▂▁▁▁</td></tr></table><br/></div><div class=\"wandb-col\"><h3>Run summary:</h3><br/><table class=\"wandb\"><tr><td>best_test_r2</td><td>0.00976</td></tr><tr><td>best_train_r2</td><td>0.03133</td></tr><tr><td>epoch</td><td>15</td></tr><tr><td>test_loss</td><td>0.79809</td></tr><tr><td>test_r2</td><td>0.00976</td></tr><tr><td>train_loss</td><td>2.08083</td></tr><tr><td>train_r2</td><td>0.03133</td></tr><tr><td>train_rmse</td><td>0.81652</td></tr></table><br/></div></div>"
      ],
      "text/plain": [
       "<IPython.core.display.HTML object>"
      ]
     },
     "metadata": {},
     "output_type": "display_data"
    },
    {
     "data": {
      "text/html": [
       " View run <strong style=\"color:#cdcd00\">divine-sweep-33</strong> at: <a href='https://wandb.ai/turkenm/js_tabm/runs/9f3elnpj' target=\"_blank\">https://wandb.ai/turkenm/js_tabm/runs/9f3elnpj</a><br/> View project at: <a href='https://wandb.ai/turkenm/js_tabm' target=\"_blank\">https://wandb.ai/turkenm/js_tabm</a><br/>Synced 6 W&B file(s), 0 media file(s), 0 artifact file(s) and 0 other file(s)"
      ],
      "text/plain": [
       "<IPython.core.display.HTML object>"
      ]
     },
     "metadata": {},
     "output_type": "display_data"
    },
    {
     "data": {
      "text/html": [
       "Find logs at: <code>./wandb/run-20250112_214802-9f3elnpj/logs</code>"
      ],
      "text/plain": [
       "<IPython.core.display.HTML object>"
      ]
     },
     "metadata": {},
     "output_type": "display_data"
    },
    {
     "name": "stderr",
     "output_type": "stream",
     "text": [
      "\u001b[34m\u001b[1mwandb\u001b[0m: Agent Starting Run: x7xw0bb9 with config:\n",
      "\u001b[34m\u001b[1mwandb\u001b[0m: \td_block: 128\n",
      "\u001b[34m\u001b[1mwandb\u001b[0m: \tdrop_out: 0.1\n",
      "\u001b[34m\u001b[1mwandb\u001b[0m: \tlearning_rate: 0.0001\n",
      "\u001b[34m\u001b[1mwandb\u001b[0m: \tmodel_arch: tabm-mini\n",
      "\u001b[34m\u001b[1mwandb\u001b[0m: \tn_block: 3\n",
      "\u001b[34m\u001b[1mwandb\u001b[0m: \tn_k: 16\n",
      "\u001b[34m\u001b[1mwandb\u001b[0m: \tweight_decay: 0.0002\n",
      "Failed to detect the name of this notebook, you can set it manually with the WANDB_NOTEBOOK_NAME environment variable to enable code saving.\n",
      "/home/mt/miniconda3/envs/tabm/lib/python3.10/site-packages/wandb/sdk/wandb_setup.py:254: ResourceWarning: unclosed file <_io.TextIOWrapper name='/home/mt/Desktop/JaneStreet-Comp/wandb/sweep-mtpap5fv/config-x7xw0bb9.yaml' mode='r' encoding='UTF-8'>\n",
      "  self._sweep_config = config_util.dict_from_config_file(\n",
      "ResourceWarning: Enable tracemalloc to get the object allocation traceback\n"
     ]
    },
    {
     "data": {
      "text/html": [
       "wandb version 0.19.2 is available!  To upgrade, please run:\n",
       " $ pip install wandb --upgrade"
      ],
      "text/plain": [
       "<IPython.core.display.HTML object>"
      ]
     },
     "metadata": {},
     "output_type": "display_data"
    },
    {
     "data": {
      "text/html": [
       "Tracking run with wandb version 0.16.6"
      ],
      "text/plain": [
       "<IPython.core.display.HTML object>"
      ]
     },
     "metadata": {},
     "output_type": "display_data"
    },
    {
     "data": {
      "text/html": [
       "Run data is saved locally in <code>/home/mt/Desktop/JaneStreet-Comp/wandb/run-20250112_215705-x7xw0bb9</code>"
      ],
      "text/plain": [
       "<IPython.core.display.HTML object>"
      ]
     },
     "metadata": {},
     "output_type": "display_data"
    },
    {
     "data": {
      "text/html": [
       "Syncing run <strong><a href='https://wandb.ai/turkenm/js_tabm/runs/x7xw0bb9' target=\"_blank\">polar-sweep-34</a></strong> to <a href='https://wandb.ai/turkenm/js_tabm' target=\"_blank\">Weights & Biases</a> (<a href='https://wandb.me/run' target=\"_blank\">docs</a>)<br/>Sweep page: <a href='https://wandb.ai/turkenm/js_tabm/sweeps/mtpap5fv' target=\"_blank\">https://wandb.ai/turkenm/js_tabm/sweeps/mtpap5fv</a>"
      ],
      "text/plain": [
       "<IPython.core.display.HTML object>"
      ]
     },
     "metadata": {},
     "output_type": "display_data"
    },
    {
     "data": {
      "text/html": [
       " View project at <a href='https://wandb.ai/turkenm/js_tabm' target=\"_blank\">https://wandb.ai/turkenm/js_tabm</a>"
      ],
      "text/plain": [
       "<IPython.core.display.HTML object>"
      ]
     },
     "metadata": {},
     "output_type": "display_data"
    },
    {
     "data": {
      "text/html": [
       " View sweep at <a href='https://wandb.ai/turkenm/js_tabm/sweeps/mtpap5fv' target=\"_blank\">https://wandb.ai/turkenm/js_tabm/sweeps/mtpap5fv</a>"
      ],
      "text/plain": [
       "<IPython.core.display.HTML object>"
      ]
     },
     "metadata": {},
     "output_type": "display_data"
    },
    {
     "data": {
      "text/html": [
       " View run at <a href='https://wandb.ai/turkenm/js_tabm/runs/x7xw0bb9' target=\"_blank\">https://wandb.ai/turkenm/js_tabm/runs/x7xw0bb9</a>"
      ],
      "text/plain": [
       "<IPython.core.display.HTML object>"
      ]
     },
     "metadata": {},
     "output_type": "display_data"
    },
    {
     "name": "stdout",
     "output_type": "stream",
     "text": [
      "EXPERIMENT exp_tabm-mini_dblocks_128_nblocks_3_LR_1e-04_BS_1024_DR_0.1_k_16_id_8228\n",
      "\n",
      "\n",
      "Epoch 1:\n"
     ]
    },
    {
     "name": "stderr",
     "output_type": "stream",
     "text": [
      "Training: 100%|██████████| 18964/18964 [00:34<00:00, 555.47it/s, Loss=2.11, rmse=0.823, R²=0.0135]\n",
      "Testing: 100%|██████████| 676/676 [00:00<00:00, 676.50it/s, Loss=0.76, R²=0.0087]  \n"
     ]
    },
    {
     "name": "stdout",
     "output_type": "stream",
     "text": [
      "Train rmse: 0.82398, Train R2: 0.01355, Train loss: 2.10760\n",
      "Test loss: 0.79861, Test R2: 0.00847\n",
      "Model Saved - Epoch 1 - Test R2: 0.00847\n",
      "\n",
      "\n",
      "Epoch 2:\n"
     ]
    },
    {
     "name": "stderr",
     "output_type": "stream",
     "text": [
      "Training: 100%|██████████| 18964/18964 [00:34<00:00, 551.11it/s, Loss=2.1, rmse=0.82, R²=0.02]  \n",
      "Testing: 100%|██████████| 676/676 [00:01<00:00, 675.55it/s, Loss=0.76, R²=0.00889] \n"
     ]
    },
    {
     "name": "stdout",
     "output_type": "stream",
     "text": [
      "Train rmse: 0.82127, Train R2: 0.02003, Train loss: 2.09699\n",
      "Test loss: 0.79852, Test R2: 0.00870\n",
      "Model Saved - Epoch 2 - Test R2: 0.00870\n",
      "\n",
      "\n",
      "Epoch 3:\n"
     ]
    },
    {
     "name": "stderr",
     "output_type": "stream",
     "text": [
      "Training: 100%|██████████| 18964/18964 [00:34<00:00, 553.30it/s, Loss=2.09, rmse=0.819, R²=0.0226]\n",
      "Testing: 100%|██████████| 676/676 [00:01<00:00, 673.02it/s, Loss=0.759, R²=0.00935]\n"
     ]
    },
    {
     "name": "stdout",
     "output_type": "stream",
     "text": [
      "Train rmse: 0.82020, Train R2: 0.02258, Train loss: 2.09304\n",
      "Test loss: 0.79837, Test R2: 0.00907\n",
      "Model Saved - Epoch 3 - Test R2: 0.00907\n",
      "\n",
      "\n",
      "Epoch 4:\n"
     ]
    },
    {
     "name": "stderr",
     "output_type": "stream",
     "text": [
      "Training:   3%|▎         | 596/18964 [00:01<00:31, 588.60it/s, Loss=2.11, rmse=0.821, R²=0.0261]/home/mt/miniconda3/envs/tabm/lib/python3.10/site-packages/torch/nn/functional.py:1425: ResourceWarning: unclosed <socket.socket fd=108, family=AddressFamily.AF_INET, type=SocketKind.SOCK_STREAM, proto=0, laddr=('127.0.0.1', 45942), raddr=('127.0.0.1', 43987)>\n",
      "  _VF.dropout_(input, p, training) if inplace else _VF.dropout(input, p, training)\n",
      "ResourceWarning: Enable tracemalloc to get the object allocation traceback\n",
      "Training: 100%|██████████| 18964/18964 [00:34<00:00, 550.56it/s, Loss=2.09, rmse=0.818, R²=0.0241]\n",
      "Testing: 100%|██████████| 676/676 [00:00<00:00, 677.81it/s, Loss=0.759, R²=0.00942]\n"
     ]
    },
    {
     "name": "stdout",
     "output_type": "stream",
     "text": [
      "Train rmse: 0.81954, Train R2: 0.02415, Train loss: 2.09066\n",
      "Test loss: 0.79833, Test R2: 0.00916\n",
      "Model Saved - Epoch 4 - Test R2: 0.00916\n",
      "\n",
      "\n",
      "Epoch 5:\n"
     ]
    },
    {
     "name": "stderr",
     "output_type": "stream",
     "text": [
      "Training: 100%|██████████| 18964/18964 [00:34<00:00, 555.42it/s, Loss=2.09, rmse=0.818, R²=0.0253]\n",
      "Testing: 100%|██████████| 676/676 [00:00<00:00, 676.95it/s, Loss=0.76, R²=0.00907] \n"
     ]
    },
    {
     "name": "stdout",
     "output_type": "stream",
     "text": [
      "Train rmse: 0.81904, Train R2: 0.02535, Train loss: 2.08893\n",
      "Test loss: 0.79845, Test R2: 0.00887\n",
      "\n",
      "Epoch 6:\n"
     ]
    },
    {
     "name": "stderr",
     "output_type": "stream",
     "text": [
      "Training: 100%|██████████| 18964/18964 [00:34<00:00, 555.06it/s, Loss=2.09, rmse=0.818, R²=0.0263]\n",
      "Testing: 100%|██████████| 676/676 [00:00<00:00, 678.01it/s, Loss=0.759, R²=0.00946]\n"
     ]
    },
    {
     "name": "stdout",
     "output_type": "stream",
     "text": [
      "Train rmse: 0.81865, Train R2: 0.02628, Train loss: 2.08773\n",
      "Test loss: 0.79831, Test R2: 0.00921\n",
      "Model Saved - Epoch 6 - Test R2: 0.00921\n",
      "\n",
      "\n",
      "Epoch 7:\n"
     ]
    },
    {
     "name": "stderr",
     "output_type": "stream",
     "text": [
      "Training: 100%|██████████| 18964/18964 [00:34<00:00, 554.49it/s, Loss=2.09, rmse=0.817, R²=0.0271]\n",
      "Testing: 100%|██████████| 676/676 [00:00<00:00, 676.02it/s, Loss=0.759, R²=0.00926]\n"
     ]
    },
    {
     "name": "stdout",
     "output_type": "stream",
     "text": [
      "Train rmse: 0.81830, Train R2: 0.02712, Train loss: 2.08657\n",
      "Test loss: 0.79838, Test R2: 0.00903\n",
      "\n",
      "Epoch 8:\n"
     ]
    },
    {
     "name": "stderr",
     "output_type": "stream",
     "text": [
      "Training: 100%|██████████| 18964/18964 [00:34<00:00, 554.15it/s, Loss=2.09, rmse=0.817, R²=0.0278]\n",
      "Testing: 100%|██████████| 676/676 [00:01<00:00, 674.73it/s, Loss=0.759, R²=0.00939]\n"
     ]
    },
    {
     "name": "stdout",
     "output_type": "stream",
     "text": [
      "Train rmse: 0.81800, Train R2: 0.02783, Train loss: 2.08554\n",
      "Test loss: 0.79834, Test R2: 0.00914\n",
      "\n",
      "Epoch 9:\n"
     ]
    },
    {
     "name": "stderr",
     "output_type": "stream",
     "text": [
      "Training: 100%|██████████| 18964/18964 [00:34<00:00, 553.73it/s, Loss=2.08, rmse=0.817, R²=0.0284]\n",
      "Testing: 100%|██████████| 676/676 [00:00<00:00, 677.77it/s, Loss=0.759, R²=0.00945]\n"
     ]
    },
    {
     "name": "stdout",
     "output_type": "stream",
     "text": [
      "Train rmse: 0.81775, Train R2: 0.02842, Train loss: 2.08477\n",
      "Test loss: 0.79831, Test R2: 0.00922\n",
      "Model Saved - Epoch 9 - Test R2: 0.00922\n",
      "\n",
      "\n",
      "Epoch 10:\n"
     ]
    },
    {
     "name": "stderr",
     "output_type": "stream",
     "text": [
      "Training: 100%|██████████| 18964/18964 [00:34<00:00, 551.83it/s, Loss=2.08, rmse=0.816, R²=0.029] \n",
      "Testing: 100%|██████████| 676/676 [00:01<00:00, 675.83it/s, Loss=0.759, R²=0.00931]\n"
     ]
    },
    {
     "name": "stdout",
     "output_type": "stream",
     "text": [
      "Train rmse: 0.81751, Train R2: 0.02900, Train loss: 2.08395\n",
      "Test loss: 0.79836, Test R2: 0.00909\n",
      "\n",
      "Epoch 11:\n"
     ]
    },
    {
     "name": "stderr",
     "output_type": "stream",
     "text": [
      "Training: 100%|██████████| 18964/18964 [00:34<00:00, 549.75it/s, Loss=2.08, rmse=0.816, R²=0.0296]\n",
      "Testing: 100%|██████████| 676/676 [00:00<00:00, 676.53it/s, Loss=0.759, R²=0.00952]\n"
     ]
    },
    {
     "name": "stdout",
     "output_type": "stream",
     "text": [
      "Train rmse: 0.81727, Train R2: 0.02956, Train loss: 2.08325\n",
      "Test loss: 0.79828, Test R2: 0.00928\n",
      "Model Saved - Epoch 11 - Test R2: 0.00928\n",
      "\n",
      "\n",
      "Epoch 12:\n"
     ]
    },
    {
     "name": "stderr",
     "output_type": "stream",
     "text": [
      "Training: 100%|██████████| 18964/18964 [00:34<00:00, 551.59it/s, Loss=2.08, rmse=0.816, R²=0.03]  \n",
      "Testing: 100%|██████████| 676/676 [00:01<00:00, 672.66it/s, Loss=0.759, R²=0.00961]\n"
     ]
    },
    {
     "name": "stdout",
     "output_type": "stream",
     "text": [
      "Train rmse: 0.81706, Train R2: 0.03005, Train loss: 2.08251\n",
      "Test loss: 0.79824, Test R2: 0.00939\n",
      "Model Saved - Epoch 12 - Test R2: 0.00939\n",
      "\n",
      "\n",
      "Epoch 13:\n"
     ]
    },
    {
     "name": "stderr",
     "output_type": "stream",
     "text": [
      "Training: 100%|██████████| 18964/18964 [00:34<00:00, 550.63it/s, Loss=2.08, rmse=0.816, R²=0.0305]\n",
      "Testing: 100%|██████████| 676/676 [00:01<00:00, 675.78it/s, Loss=0.759, R²=0.00968]\n"
     ]
    },
    {
     "name": "stdout",
     "output_type": "stream",
     "text": [
      "Train rmse: 0.81689, Train R2: 0.03047, Train loss: 2.08199\n",
      "Test loss: 0.79822, Test R2: 0.00944\n",
      "Model Saved - Epoch 13 - Test R2: 0.00944\n",
      "\n",
      "\n",
      "Epoch 14:\n"
     ]
    },
    {
     "name": "stderr",
     "output_type": "stream",
     "text": [
      "Training: 100%|██████████| 18964/18964 [00:34<00:00, 549.87it/s, Loss=2.08, rmse=0.816, R²=0.0309]\n",
      "Testing: 100%|██████████| 676/676 [00:01<00:00, 671.14it/s, Loss=0.759, R²=0.00964]\n"
     ]
    },
    {
     "name": "stdout",
     "output_type": "stream",
     "text": [
      "Train rmse: 0.81671, Train R2: 0.03090, Train loss: 2.08137\n",
      "Test loss: 0.79824, Test R2: 0.00940\n",
      "\n",
      "Epoch 15:\n"
     ]
    },
    {
     "name": "stderr",
     "output_type": "stream",
     "text": [
      "Training: 100%|██████████| 18964/18964 [00:34<00:00, 547.27it/s, Loss=2.08, rmse=0.815, R²=0.0313]\n",
      "Testing: 100%|██████████| 676/676 [00:01<00:00, 670.28it/s, Loss=0.759, R²=0.00984]\n"
     ]
    },
    {
     "name": "stdout",
     "output_type": "stream",
     "text": [
      "Train rmse: 0.81654, Train R2: 0.03129, Train loss: 2.08077\n",
      "Test loss: 0.79815, Test R2: 0.00961\n",
      "Model Saved - Epoch 15 - Test R2: 0.00961\n",
      "\n",
      "\n",
      "Best Epoch: 15, Best Test R2: 0.00961\n"
     ]
    },
    {
     "name": "stderr",
     "output_type": "stream",
     "text": [
      "/home/mt/miniconda3/envs/tabm/lib/python3.10/site-packages/wandb/sdk/lib/ipython.py:89: DeprecationWarning: Importing display from IPython.core.display is deprecated since IPython 7.14, please import from IPython display\n",
      "  from IPython.core.display import display\n"
     ]
    },
    {
     "data": {
      "application/vnd.jupyter.widget-view+json": {
       "model_id": "eb58b05f223f44e5a47624e9cb1725c4",
       "version_major": 2,
       "version_minor": 0
      },
      "text/plain": [
       "VBox(children=(Label(value='0.004 MB of 0.004 MB uploaded\\r'), FloatProgress(value=1.0, max=1.0)))"
      ]
     },
     "metadata": {},
     "output_type": "display_data"
    },
    {
     "name": "stderr",
     "output_type": "stream",
     "text": [
      "/home/mt/miniconda3/envs/tabm/lib/python3.10/site-packages/wandb/sdk/lib/ipython.py:77: DeprecationWarning: Importing display from IPython.core.display is deprecated since IPython 7.14, please import from IPython display\n",
      "  from IPython.core.display import HTML, display  # type: ignore\n"
     ]
    },
    {
     "data": {
      "text/html": [
       "<style>\n",
       "    table.wandb td:nth-child(1) { padding: 0 10px; text-align: left ; width: auto;} td:nth-child(2) {text-align: left ; width: 100%}\n",
       "    .wandb-row { display: flex; flex-direction: row; flex-wrap: wrap; justify-content: flex-start; width: 100% }\n",
       "    .wandb-col { display: flex; flex-direction: column; flex-basis: 100%; flex: 1; padding: 10px; }\n",
       "    </style>\n",
       "<div class=\"wandb-row\"><div class=\"wandb-col\"><h3>Run history:</h3><br/><table class=\"wandb\"><tr><td>epoch</td><td>▁▁▂▃▃▃▄▅▅▅▆▇▇▇█</td></tr><tr><td>test_loss</td><td>█▇▄▄▆▃▅▄▃▄▃▂▂▂▁</td></tr><tr><td>test_r2</td><td>▁▂▅▅▃▆▄▅▆▅▆▇▇▇█</td></tr><tr><td>train_loss</td><td>█▅▄▄▃▃▃▂▂▂▂▁▁▁▁</td></tr><tr><td>train_r2</td><td>▁▄▅▅▆▆▆▇▇▇▇████</td></tr><tr><td>train_rmse</td><td>█▅▄▄▃▃▃▂▂▂▂▁▁▁▁</td></tr></table><br/></div><div class=\"wandb-col\"><h3>Run summary:</h3><br/><table class=\"wandb\"><tr><td>best_test_r2</td><td>0.00961</td></tr><tr><td>best_train_r2</td><td>0.03129</td></tr><tr><td>epoch</td><td>15</td></tr><tr><td>test_loss</td><td>0.79815</td></tr><tr><td>test_r2</td><td>0.00961</td></tr><tr><td>train_loss</td><td>2.08077</td></tr><tr><td>train_r2</td><td>0.03129</td></tr><tr><td>train_rmse</td><td>0.81654</td></tr></table><br/></div></div>"
      ],
      "text/plain": [
       "<IPython.core.display.HTML object>"
      ]
     },
     "metadata": {},
     "output_type": "display_data"
    },
    {
     "data": {
      "text/html": [
       " View run <strong style=\"color:#cdcd00\">polar-sweep-34</strong> at: <a href='https://wandb.ai/turkenm/js_tabm/runs/x7xw0bb9' target=\"_blank\">https://wandb.ai/turkenm/js_tabm/runs/x7xw0bb9</a><br/> View project at: <a href='https://wandb.ai/turkenm/js_tabm' target=\"_blank\">https://wandb.ai/turkenm/js_tabm</a><br/>Synced 6 W&B file(s), 0 media file(s), 0 artifact file(s) and 0 other file(s)"
      ],
      "text/plain": [
       "<IPython.core.display.HTML object>"
      ]
     },
     "metadata": {},
     "output_type": "display_data"
    },
    {
     "data": {
      "text/html": [
       "Find logs at: <code>./wandb/run-20250112_215705-x7xw0bb9/logs</code>"
      ],
      "text/plain": [
       "<IPython.core.display.HTML object>"
      ]
     },
     "metadata": {},
     "output_type": "display_data"
    },
    {
     "name": "stderr",
     "output_type": "stream",
     "text": [
      "\u001b[34m\u001b[1mwandb\u001b[0m: Agent Starting Run: rcyliqbl with config:\n",
      "\u001b[34m\u001b[1mwandb\u001b[0m: \td_block: 128\n",
      "\u001b[34m\u001b[1mwandb\u001b[0m: \tdrop_out: 0.1\n",
      "\u001b[34m\u001b[1mwandb\u001b[0m: \tlearning_rate: 0.0001\n",
      "\u001b[34m\u001b[1mwandb\u001b[0m: \tmodel_arch: tabm-mini\n",
      "\u001b[34m\u001b[1mwandb\u001b[0m: \tn_block: 3\n",
      "\u001b[34m\u001b[1mwandb\u001b[0m: \tn_k: 32\n",
      "\u001b[34m\u001b[1mwandb\u001b[0m: \tweight_decay: 0.0001\n",
      "Failed to detect the name of this notebook, you can set it manually with the WANDB_NOTEBOOK_NAME environment variable to enable code saving.\n",
      "/home/mt/miniconda3/envs/tabm/lib/python3.10/site-packages/wandb/sdk/wandb_setup.py:254: ResourceWarning: unclosed file <_io.TextIOWrapper name='/home/mt/Desktop/JaneStreet-Comp/wandb/sweep-mtpap5fv/config-rcyliqbl.yaml' mode='r' encoding='UTF-8'>\n",
      "  self._sweep_config = config_util.dict_from_config_file(\n",
      "ResourceWarning: Enable tracemalloc to get the object allocation traceback\n"
     ]
    },
    {
     "data": {
      "text/html": [
       "wandb version 0.19.2 is available!  To upgrade, please run:\n",
       " $ pip install wandb --upgrade"
      ],
      "text/plain": [
       "<IPython.core.display.HTML object>"
      ]
     },
     "metadata": {},
     "output_type": "display_data"
    },
    {
     "data": {
      "text/html": [
       "Tracking run with wandb version 0.16.6"
      ],
      "text/plain": [
       "<IPython.core.display.HTML object>"
      ]
     },
     "metadata": {},
     "output_type": "display_data"
    },
    {
     "data": {
      "text/html": [
       "Run data is saved locally in <code>/home/mt/Desktop/JaneStreet-Comp/wandb/run-20250112_220610-rcyliqbl</code>"
      ],
      "text/plain": [
       "<IPython.core.display.HTML object>"
      ]
     },
     "metadata": {},
     "output_type": "display_data"
    },
    {
     "data": {
      "text/html": [
       "Syncing run <strong><a href='https://wandb.ai/turkenm/js_tabm/runs/rcyliqbl' target=\"_blank\">fine-sweep-35</a></strong> to <a href='https://wandb.ai/turkenm/js_tabm' target=\"_blank\">Weights & Biases</a> (<a href='https://wandb.me/run' target=\"_blank\">docs</a>)<br/>Sweep page: <a href='https://wandb.ai/turkenm/js_tabm/sweeps/mtpap5fv' target=\"_blank\">https://wandb.ai/turkenm/js_tabm/sweeps/mtpap5fv</a>"
      ],
      "text/plain": [
       "<IPython.core.display.HTML object>"
      ]
     },
     "metadata": {},
     "output_type": "display_data"
    },
    {
     "data": {
      "text/html": [
       " View project at <a href='https://wandb.ai/turkenm/js_tabm' target=\"_blank\">https://wandb.ai/turkenm/js_tabm</a>"
      ],
      "text/plain": [
       "<IPython.core.display.HTML object>"
      ]
     },
     "metadata": {},
     "output_type": "display_data"
    },
    {
     "data": {
      "text/html": [
       " View sweep at <a href='https://wandb.ai/turkenm/js_tabm/sweeps/mtpap5fv' target=\"_blank\">https://wandb.ai/turkenm/js_tabm/sweeps/mtpap5fv</a>"
      ],
      "text/plain": [
       "<IPython.core.display.HTML object>"
      ]
     },
     "metadata": {},
     "output_type": "display_data"
    },
    {
     "data": {
      "text/html": [
       " View run at <a href='https://wandb.ai/turkenm/js_tabm/runs/rcyliqbl' target=\"_blank\">https://wandb.ai/turkenm/js_tabm/runs/rcyliqbl</a>"
      ],
      "text/plain": [
       "<IPython.core.display.HTML object>"
      ]
     },
     "metadata": {},
     "output_type": "display_data"
    },
    {
     "name": "stdout",
     "output_type": "stream",
     "text": [
      "EXPERIMENT exp_tabm-mini_dblocks_128_nblocks_3_LR_1e-04_BS_1024_DR_0.1_k_32_id_8773\n",
      "\n",
      "\n",
      "Epoch 1:\n"
     ]
    },
    {
     "name": "stderr",
     "output_type": "stream",
     "text": [
      "Training: 100%|██████████| 18964/18964 [00:55<00:00, 344.19it/s, Loss=2.11, rmse=0.824, R²=0.0117] \n",
      "Testing: 100%|██████████| 676/676 [00:01<00:00, 407.93it/s, Loss=0.76, R²=0.00801] \n"
     ]
    },
    {
     "name": "stdout",
     "output_type": "stream",
     "text": [
      "Train rmse: 0.82472, Train R2: 0.01179, Train loss: 2.11078\n",
      "Test loss: 0.79888, Test R2: 0.00781\n",
      "Model Saved - Epoch 1 - Test R2: 0.00781\n",
      "\n",
      "\n",
      "Epoch 2:\n"
     ]
    },
    {
     "name": "stderr",
     "output_type": "stream",
     "text": [
      "Training: 100%|██████████| 18964/18964 [00:54<00:00, 346.23it/s, Loss=2.1, rmse=0.821, R²=0.0174]\n",
      "Testing: 100%|██████████| 676/676 [00:01<00:00, 406.04it/s, Loss=0.76, R²=0.00828] \n"
     ]
    },
    {
     "name": "stdout",
     "output_type": "stream",
     "text": [
      "Train rmse: 0.82238, Train R2: 0.01739, Train loss: 2.10172\n",
      "Test loss: 0.79875, Test R2: 0.00812\n",
      "Model Saved - Epoch 2 - Test R2: 0.00812\n",
      "\n",
      "\n",
      "Epoch 3:\n"
     ]
    },
    {
     "name": "stderr",
     "output_type": "stream",
     "text": [
      "Training: 100%|██████████| 18964/18964 [00:54<00:00, 346.31it/s, Loss=2.1, rmse=0.82, R²=0.0197] \n",
      "Testing: 100%|██████████| 676/676 [00:01<00:00, 401.20it/s, Loss=0.76, R²=0.0087]  \n",
      "/home/mt/miniconda3/envs/tabm/lib/python3.10/site-packages/torch/_tensor.py:981: ResourceWarning: unclosed <socket.socket fd=110, family=AddressFamily.AF_INET, type=SocketKind.SOCK_STREAM, proto=0, laddr=('127.0.0.1', 44410), raddr=('127.0.0.1', 57235)>\n",
      "  return torch._VF.split(self, split_size, dim)  # type: ignore[attr-defined]\n",
      "ResourceWarning: Enable tracemalloc to get the object allocation traceback\n"
     ]
    },
    {
     "name": "stdout",
     "output_type": "stream",
     "text": [
      "Train rmse: 0.82143, Train R2: 0.01967, Train loss: 2.09813\n",
      "Test loss: 0.79859, Test R2: 0.00851\n",
      "Model Saved - Epoch 3 - Test R2: 0.00851\n",
      "\n",
      "\n",
      "Epoch 4:\n"
     ]
    },
    {
     "name": "stderr",
     "output_type": "stream",
     "text": [
      "Training: 100%|██████████| 18964/18964 [00:55<00:00, 343.25it/s, Loss=2.1, rmse=0.82, R²=0.021]   \n",
      "Testing: 100%|██████████| 676/676 [00:01<00:00, 404.25it/s, Loss=0.76, R²=0.00849] \n"
     ]
    },
    {
     "name": "stdout",
     "output_type": "stream",
     "text": [
      "Train rmse: 0.82086, Train R2: 0.02102, Train loss: 2.09604\n",
      "Test loss: 0.79867, Test R2: 0.00833\n",
      "\n",
      "Epoch 5:\n"
     ]
    },
    {
     "name": "stderr",
     "output_type": "stream",
     "text": [
      "Training: 100%|██████████| 18964/18964 [00:55<00:00, 342.85it/s, Loss=2.09, rmse=0.819, R²=0.022] \n",
      "Testing: 100%|██████████| 676/676 [00:01<00:00, 403.16it/s, Loss=0.76, R²=0.00853] \n"
     ]
    },
    {
     "name": "stdout",
     "output_type": "stream",
     "text": [
      "Train rmse: 0.82046, Train R2: 0.02198, Train loss: 2.09451\n",
      "Test loss: 0.79866, Test R2: 0.00835\n",
      "\n",
      "Epoch 6:\n"
     ]
    },
    {
     "name": "stderr",
     "output_type": "stream",
     "text": [
      "Training: 100%|██████████| 18964/18964 [00:55<00:00, 341.88it/s, Loss=2.09, rmse=0.819, R²=0.0228]\n",
      "Testing: 100%|██████████| 676/676 [00:01<00:00, 405.13it/s, Loss=0.76, R²=0.00855] \n"
     ]
    },
    {
     "name": "stdout",
     "output_type": "stream",
     "text": [
      "Train rmse: 0.82012, Train R2: 0.02278, Train loss: 2.09333\n",
      "Test loss: 0.79864, Test R2: 0.00839\n",
      "\n",
      "Epoch 7:\n"
     ]
    },
    {
     "name": "stderr",
     "output_type": "stream",
     "text": [
      "Training: 100%|██████████| 18964/18964 [00:55<00:00, 340.67it/s, Loss=2.09, rmse=0.819, R²=0.0235]\n",
      "Testing: 100%|██████████| 676/676 [00:01<00:00, 404.56it/s, Loss=0.76, R²=0.0087]  \n"
     ]
    },
    {
     "name": "stdout",
     "output_type": "stream",
     "text": [
      "Train rmse: 0.81984, Train R2: 0.02346, Train loss: 2.09237\n",
      "Test loss: 0.79858, Test R2: 0.00854\n",
      "Model Saved - Epoch 7 - Test R2: 0.00854\n",
      "\n",
      "\n",
      "Epoch 8:\n"
     ]
    },
    {
     "name": "stderr",
     "output_type": "stream",
     "text": [
      "Training: 100%|██████████| 18964/18964 [00:55<00:00, 342.11it/s, Loss=2.09, rmse=0.818, R²=0.024] \n",
      "Testing: 100%|██████████| 676/676 [00:01<00:00, 406.27it/s, Loss=0.76, R²=0.00904] \n"
     ]
    },
    {
     "name": "stdout",
     "output_type": "stream",
     "text": [
      "Train rmse: 0.81959, Train R2: 0.02405, Train loss: 2.09147\n",
      "Test loss: 0.79846, Test R2: 0.00884\n",
      "Model Saved - Epoch 8 - Test R2: 0.00884\n",
      "\n",
      "\n",
      "Epoch 9:\n"
     ]
    },
    {
     "name": "stderr",
     "output_type": "stream",
     "text": [
      "Training: 100%|██████████| 18964/18964 [00:55<00:00, 344.64it/s, Loss=2.09, rmse=0.818, R²=0.0246]\n",
      "Testing: 100%|██████████| 676/676 [00:01<00:00, 407.51it/s, Loss=0.76, R²=0.00899] \n"
     ]
    },
    {
     "name": "stdout",
     "output_type": "stream",
     "text": [
      "Train rmse: 0.81936, Train R2: 0.02459, Train loss: 2.09072\n",
      "Test loss: 0.79848, Test R2: 0.00879\n",
      "\n",
      "Epoch 10:\n"
     ]
    },
    {
     "name": "stderr",
     "output_type": "stream",
     "text": [
      "Training: 100%|██████████| 18964/18964 [00:54<00:00, 346.73it/s, Loss=2.09, rmse=0.818, R²=0.0251]\n",
      "Testing: 100%|██████████| 676/676 [00:01<00:00, 403.93it/s, Loss=0.76, R²=0.0088]  \n"
     ]
    },
    {
     "name": "stdout",
     "output_type": "stream",
     "text": [
      "Train rmse: 0.81914, Train R2: 0.02511, Train loss: 2.08999\n",
      "Test loss: 0.79855, Test R2: 0.00861\n",
      "\n",
      "Epoch 11:\n"
     ]
    },
    {
     "name": "stderr",
     "output_type": "stream",
     "text": [
      "Training: 100%|██████████| 18964/18964 [00:54<00:00, 346.79it/s, Loss=2.09, rmse=0.818, R²=0.0256]\n",
      "Testing: 100%|██████████| 676/676 [00:01<00:00, 405.69it/s, Loss=0.76, R²=0.00906] \n"
     ]
    },
    {
     "name": "stdout",
     "output_type": "stream",
     "text": [
      "Train rmse: 0.81894, Train R2: 0.02560, Train loss: 2.08931\n",
      "Test loss: 0.79845, Test R2: 0.00886\n",
      "Model Saved - Epoch 11 - Test R2: 0.00886\n",
      "\n",
      "\n",
      "Epoch 12:\n"
     ]
    },
    {
     "name": "stderr",
     "output_type": "stream",
     "text": [
      "Training: 100%|██████████| 18964/18964 [00:54<00:00, 345.33it/s, Loss=2.09, rmse=0.818, R²=0.0261]\n",
      "Testing: 100%|██████████| 676/676 [00:01<00:00, 406.09it/s, Loss=0.76, R²=0.00906] \n"
     ]
    },
    {
     "name": "stdout",
     "output_type": "stream",
     "text": [
      "Train rmse: 0.81871, Train R2: 0.02612, Train loss: 2.08854\n",
      "Test loss: 0.79845, Test R2: 0.00886\n",
      "\n",
      "Epoch 13:\n"
     ]
    },
    {
     "name": "stderr",
     "output_type": "stream",
     "text": [
      "Training: 100%|██████████| 18964/18964 [00:55<00:00, 343.99it/s, Loss=2.09, rmse=0.817, R²=0.0266]\n",
      "Testing: 100%|██████████| 676/676 [00:01<00:00, 402.94it/s, Loss=0.76, R²=0.00904] \n"
     ]
    },
    {
     "name": "stdout",
     "output_type": "stream",
     "text": [
      "Train rmse: 0.81853, Train R2: 0.02657, Train loss: 2.08788\n",
      "Test loss: 0.79846, Test R2: 0.00885\n",
      "\n",
      "Epoch 14:\n"
     ]
    },
    {
     "name": "stderr",
     "output_type": "stream",
     "text": [
      "Training: 100%|██████████| 18964/18964 [00:55<00:00, 342.89it/s, Loss=2.09, rmse=0.817, R²=0.0271]\n",
      "Testing: 100%|██████████| 676/676 [00:01<00:00, 404.88it/s, Loss=0.759, R²=0.00969]\n"
     ]
    },
    {
     "name": "stdout",
     "output_type": "stream",
     "text": [
      "Train rmse: 0.81832, Train R2: 0.02706, Train loss: 2.08721\n",
      "Test loss: 0.79822, Test R2: 0.00943\n",
      "Model Saved - Epoch 14 - Test R2: 0.00943\n",
      "\n",
      "\n",
      "Epoch 15:\n"
     ]
    },
    {
     "name": "stderr",
     "output_type": "stream",
     "text": [
      "Training: 100%|██████████| 18964/18964 [00:55<00:00, 341.60it/s, Loss=2.09, rmse=0.817, R²=0.0275]\n",
      "Testing: 100%|██████████| 676/676 [00:01<00:00, 404.40it/s, Loss=0.759, R²=0.00948]\n"
     ]
    },
    {
     "name": "stdout",
     "output_type": "stream",
     "text": [
      "Train rmse: 0.81813, Train R2: 0.02751, Train loss: 2.08651\n",
      "Test loss: 0.79830, Test R2: 0.00925\n",
      "\n",
      "Best Epoch: 14, Best Test R2: 0.00943\n"
     ]
    },
    {
     "name": "stderr",
     "output_type": "stream",
     "text": [
      "/home/mt/miniconda3/envs/tabm/lib/python3.10/site-packages/wandb/sdk/lib/ipython.py:89: DeprecationWarning: Importing display from IPython.core.display is deprecated since IPython 7.14, please import from IPython display\n",
      "  from IPython.core.display import display\n"
     ]
    },
    {
     "data": {
      "application/vnd.jupyter.widget-view+json": {
       "model_id": "341cfee5bd92449abfc4da9c7935a1c2",
       "version_major": 2,
       "version_minor": 0
      },
      "text/plain": [
       "VBox(children=(Label(value='0.004 MB of 0.004 MB uploaded\\r'), FloatProgress(value=1.0, max=1.0)))"
      ]
     },
     "metadata": {},
     "output_type": "display_data"
    },
    {
     "name": "stderr",
     "output_type": "stream",
     "text": [
      "/home/mt/miniconda3/envs/tabm/lib/python3.10/site-packages/wandb/sdk/lib/ipython.py:77: DeprecationWarning: Importing display from IPython.core.display is deprecated since IPython 7.14, please import from IPython display\n",
      "  from IPython.core.display import HTML, display  # type: ignore\n"
     ]
    },
    {
     "data": {
      "text/html": [
       "<style>\n",
       "    table.wandb td:nth-child(1) { padding: 0 10px; text-align: left ; width: auto;} td:nth-child(2) {text-align: left ; width: 100%}\n",
       "    .wandb-row { display: flex; flex-direction: row; flex-wrap: wrap; justify-content: flex-start; width: 100% }\n",
       "    .wandb-col { display: flex; flex-direction: column; flex-basis: 100%; flex: 1; padding: 10px; }\n",
       "    </style>\n",
       "<div class=\"wandb-row\"><div class=\"wandb-col\"><h3>Run history:</h3><br/><table class=\"wandb\"><tr><td>epoch</td><td>▁▁▂▃▃▃▄▅▅▅▆▇▇▇█</td></tr><tr><td>test_loss</td><td>█▇▅▆▆▆▅▄▄▅▃▃▄▁▂</td></tr><tr><td>test_r2</td><td>▁▂▄▃▃▄▄▅▅▄▆▆▅█▇</td></tr><tr><td>train_loss</td><td>█▅▄▄▃▃▃▂▂▂▂▂▁▁▁</td></tr><tr><td>train_r2</td><td>▁▃▅▅▆▆▆▆▇▇▇▇███</td></tr><tr><td>train_rmse</td><td>█▆▄▄▃▃▃▃▂▂▂▂▁▁▁</td></tr></table><br/></div><div class=\"wandb-col\"><h3>Run summary:</h3><br/><table class=\"wandb\"><tr><td>best_test_r2</td><td>0.00943</td></tr><tr><td>best_train_r2</td><td>0.02751</td></tr><tr><td>epoch</td><td>15</td></tr><tr><td>test_loss</td><td>0.7983</td></tr><tr><td>test_r2</td><td>0.00925</td></tr><tr><td>train_loss</td><td>2.08651</td></tr><tr><td>train_r2</td><td>0.02751</td></tr><tr><td>train_rmse</td><td>0.81813</td></tr></table><br/></div></div>"
      ],
      "text/plain": [
       "<IPython.core.display.HTML object>"
      ]
     },
     "metadata": {},
     "output_type": "display_data"
    },
    {
     "data": {
      "text/html": [
       " View run <strong style=\"color:#cdcd00\">fine-sweep-35</strong> at: <a href='https://wandb.ai/turkenm/js_tabm/runs/rcyliqbl' target=\"_blank\">https://wandb.ai/turkenm/js_tabm/runs/rcyliqbl</a><br/> View project at: <a href='https://wandb.ai/turkenm/js_tabm' target=\"_blank\">https://wandb.ai/turkenm/js_tabm</a><br/>Synced 6 W&B file(s), 0 media file(s), 0 artifact file(s) and 0 other file(s)"
      ],
      "text/plain": [
       "<IPython.core.display.HTML object>"
      ]
     },
     "metadata": {},
     "output_type": "display_data"
    },
    {
     "data": {
      "text/html": [
       "Find logs at: <code>./wandb/run-20250112_220610-rcyliqbl/logs</code>"
      ],
      "text/plain": [
       "<IPython.core.display.HTML object>"
      ]
     },
     "metadata": {},
     "output_type": "display_data"
    },
    {
     "name": "stderr",
     "output_type": "stream",
     "text": [
      "\u001b[34m\u001b[1mwandb\u001b[0m: Agent Starting Run: 9swg3cv8 with config:\n",
      "\u001b[34m\u001b[1mwandb\u001b[0m: \td_block: 128\n",
      "\u001b[34m\u001b[1mwandb\u001b[0m: \tdrop_out: 0.1\n",
      "\u001b[34m\u001b[1mwandb\u001b[0m: \tlearning_rate: 0.0001\n",
      "\u001b[34m\u001b[1mwandb\u001b[0m: \tmodel_arch: tabm-mini\n",
      "\u001b[34m\u001b[1mwandb\u001b[0m: \tn_block: 3\n",
      "\u001b[34m\u001b[1mwandb\u001b[0m: \tn_k: 32\n",
      "\u001b[34m\u001b[1mwandb\u001b[0m: \tweight_decay: 0.0002\n",
      "Failed to detect the name of this notebook, you can set it manually with the WANDB_NOTEBOOK_NAME environment variable to enable code saving.\n",
      "/home/mt/miniconda3/envs/tabm/lib/python3.10/site-packages/wandb/sdk/wandb_setup.py:254: ResourceWarning: unclosed file <_io.TextIOWrapper name='/home/mt/Desktop/JaneStreet-Comp/wandb/sweep-mtpap5fv/config-9swg3cv8.yaml' mode='r' encoding='UTF-8'>\n",
      "  self._sweep_config = config_util.dict_from_config_file(\n",
      "ResourceWarning: Enable tracemalloc to get the object allocation traceback\n"
     ]
    },
    {
     "data": {
      "text/html": [
       "wandb version 0.19.2 is available!  To upgrade, please run:\n",
       " $ pip install wandb --upgrade"
      ],
      "text/plain": [
       "<IPython.core.display.HTML object>"
      ]
     },
     "metadata": {},
     "output_type": "display_data"
    },
    {
     "data": {
      "text/html": [
       "Tracking run with wandb version 0.16.6"
      ],
      "text/plain": [
       "<IPython.core.display.HTML object>"
      ]
     },
     "metadata": {},
     "output_type": "display_data"
    },
    {
     "data": {
      "text/html": [
       "Run data is saved locally in <code>/home/mt/Desktop/JaneStreet-Comp/wandb/run-20250112_222037-9swg3cv8</code>"
      ],
      "text/plain": [
       "<IPython.core.display.HTML object>"
      ]
     },
     "metadata": {},
     "output_type": "display_data"
    },
    {
     "data": {
      "text/html": [
       "Syncing run <strong><a href='https://wandb.ai/turkenm/js_tabm/runs/9swg3cv8' target=\"_blank\">confused-sweep-36</a></strong> to <a href='https://wandb.ai/turkenm/js_tabm' target=\"_blank\">Weights & Biases</a> (<a href='https://wandb.me/run' target=\"_blank\">docs</a>)<br/>Sweep page: <a href='https://wandb.ai/turkenm/js_tabm/sweeps/mtpap5fv' target=\"_blank\">https://wandb.ai/turkenm/js_tabm/sweeps/mtpap5fv</a>"
      ],
      "text/plain": [
       "<IPython.core.display.HTML object>"
      ]
     },
     "metadata": {},
     "output_type": "display_data"
    },
    {
     "data": {
      "text/html": [
       " View project at <a href='https://wandb.ai/turkenm/js_tabm' target=\"_blank\">https://wandb.ai/turkenm/js_tabm</a>"
      ],
      "text/plain": [
       "<IPython.core.display.HTML object>"
      ]
     },
     "metadata": {},
     "output_type": "display_data"
    },
    {
     "data": {
      "text/html": [
       " View sweep at <a href='https://wandb.ai/turkenm/js_tabm/sweeps/mtpap5fv' target=\"_blank\">https://wandb.ai/turkenm/js_tabm/sweeps/mtpap5fv</a>"
      ],
      "text/plain": [
       "<IPython.core.display.HTML object>"
      ]
     },
     "metadata": {},
     "output_type": "display_data"
    },
    {
     "data": {
      "text/html": [
       " View run at <a href='https://wandb.ai/turkenm/js_tabm/runs/9swg3cv8' target=\"_blank\">https://wandb.ai/turkenm/js_tabm/runs/9swg3cv8</a>"
      ],
      "text/plain": [
       "<IPython.core.display.HTML object>"
      ]
     },
     "metadata": {},
     "output_type": "display_data"
    },
    {
     "name": "stdout",
     "output_type": "stream",
     "text": [
      "EXPERIMENT exp_tabm-mini_dblocks_128_nblocks_3_LR_1e-04_BS_1024_DR_0.1_k_32_id_9640\n",
      "\n",
      "\n",
      "Epoch 1:\n"
     ]
    },
    {
     "name": "stderr",
     "output_type": "stream",
     "text": [
      "Training: 100%|██████████| 18964/18964 [00:56<00:00, 334.98it/s, Loss=2.11, rmse=0.824, R²=0.012]  \n",
      "Testing: 100%|██████████| 676/676 [00:01<00:00, 408.39it/s, Loss=0.76, R²=0.00777] \n"
     ]
    },
    {
     "name": "stdout",
     "output_type": "stream",
     "text": [
      "Train rmse: 0.82462, Train R2: 0.01202, Train loss: 2.11047\n",
      "Test loss: 0.79896, Test R2: 0.00760\n",
      "Model Saved - Epoch 1 - Test R2: 0.00760\n",
      "\n",
      "\n",
      "Epoch 2:\n"
     ]
    },
    {
     "name": "stderr",
     "output_type": "stream",
     "text": [
      "Training: 100%|██████████| 18964/18964 [00:55<00:00, 344.21it/s, Loss=2.1, rmse=0.821, R²=0.0175]\n",
      "Testing: 100%|██████████| 676/676 [00:01<00:00, 406.14it/s, Loss=0.759, R²=0.009]  \n"
     ]
    },
    {
     "name": "stdout",
     "output_type": "stream",
     "text": [
      "Train rmse: 0.82230, Train R2: 0.01757, Train loss: 2.10149\n",
      "Test loss: 0.79849, Test R2: 0.00878\n",
      "Model Saved - Epoch 2 - Test R2: 0.00878\n",
      "\n",
      "\n",
      "Epoch 3:\n"
     ]
    },
    {
     "name": "stderr",
     "output_type": "stream",
     "text": [
      "Training: 100%|██████████| 18964/18964 [00:55<00:00, 344.70it/s, Loss=2.1, rmse=0.82, R²=0.0198] \n",
      "Testing: 100%|██████████| 676/676 [00:01<00:00, 404.37it/s, Loss=0.76, R²=0.00884] \n"
     ]
    },
    {
     "name": "stdout",
     "output_type": "stream",
     "text": [
      "Train rmse: 0.82136, Train R2: 0.01982, Train loss: 2.09796\n",
      "Test loss: 0.79855, Test R2: 0.00862\n",
      "\n",
      "Epoch 4:\n"
     ]
    },
    {
     "name": "stderr",
     "output_type": "stream",
     "text": [
      "Training:   2%|▏         | 444/18964 [00:01<00:51, 359.56it/s, Loss=2.09, rmse=0.819, R²=0.0192]/home/mt/miniconda3/envs/tabm/lib/python3.10/site-packages/torch/nn/modules/linear.py:125: ResourceWarning: unclosed <socket.socket fd=109, family=AddressFamily.AF_INET, type=SocketKind.SOCK_STREAM, proto=0, laddr=('127.0.0.1', 35662), raddr=('127.0.0.1', 33875)>\n",
      "  return F.linear(input, self.weight, self.bias)\n",
      "ResourceWarning: Enable tracemalloc to get the object allocation traceback\n",
      "Training: 100%|██████████| 18964/18964 [00:55<00:00, 342.84it/s, Loss=2.1, rmse=0.82, R²=0.0212]  \n",
      "Testing: 100%|██████████| 676/676 [00:01<00:00, 405.00it/s, Loss=0.76, R²=0.00857] \n"
     ]
    },
    {
     "name": "stdout",
     "output_type": "stream",
     "text": [
      "Train rmse: 0.82078, Train R2: 0.02121, Train loss: 2.09581\n",
      "Test loss: 0.79865, Test R2: 0.00838\n",
      "\n",
      "Epoch 5:\n"
     ]
    },
    {
     "name": "stderr",
     "output_type": "stream",
     "text": [
      "Training: 100%|██████████| 18964/18964 [00:54<00:00, 347.98it/s, Loss=2.09, rmse=0.819, R²=0.0222]\n",
      "Testing: 100%|██████████| 676/676 [00:01<00:00, 407.95it/s, Loss=0.76, R²=0.00867] \n"
     ]
    },
    {
     "name": "stdout",
     "output_type": "stream",
     "text": [
      "Train rmse: 0.82038, Train R2: 0.02217, Train loss: 2.09432\n",
      "Test loss: 0.79861, Test R2: 0.00847\n",
      "\n",
      "Epoch 6:\n"
     ]
    },
    {
     "name": "stderr",
     "output_type": "stream",
     "text": [
      "Training: 100%|██████████| 18964/18964 [00:54<00:00, 350.63it/s, Loss=2.09, rmse=0.819, R²=0.023] \n",
      "Testing: 100%|██████████| 676/676 [00:01<00:00, 407.25it/s, Loss=0.76, R²=0.00868] \n"
     ]
    },
    {
     "name": "stdout",
     "output_type": "stream",
     "text": [
      "Train rmse: 0.82003, Train R2: 0.02300, Train loss: 2.09312\n",
      "Test loss: 0.79859, Test R2: 0.00851\n",
      "\n",
      "Epoch 7:\n"
     ]
    },
    {
     "name": "stderr",
     "output_type": "stream",
     "text": [
      "Training: 100%|██████████| 18964/18964 [00:54<00:00, 349.84it/s, Loss=2.09, rmse=0.819, R²=0.0237]\n",
      "Testing: 100%|██████████| 676/676 [00:01<00:00, 405.90it/s, Loss=0.76, R²=0.00867] \n"
     ]
    },
    {
     "name": "stdout",
     "output_type": "stream",
     "text": [
      "Train rmse: 0.81973, Train R2: 0.02370, Train loss: 2.09206\n",
      "Test loss: 0.79860, Test R2: 0.00851\n",
      "\n",
      "Epoch 8:\n"
     ]
    },
    {
     "name": "stderr",
     "output_type": "stream",
     "text": [
      "Training: 100%|██████████| 18964/18964 [00:55<00:00, 342.97it/s, Loss=2.09, rmse=0.818, R²=0.0243]\n",
      "Testing: 100%|██████████| 676/676 [00:01<00:00, 399.39it/s, Loss=0.76, R²=0.00878] \n"
     ]
    },
    {
     "name": "stdout",
     "output_type": "stream",
     "text": [
      "Train rmse: 0.81947, Train R2: 0.02433, Train loss: 2.09117\n",
      "Test loss: 0.79856, Test R2: 0.00860\n",
      "\n",
      "Epoch 9:\n"
     ]
    },
    {
     "name": "stderr",
     "output_type": "stream",
     "text": [
      "Training: 100%|██████████| 18964/18964 [00:54<00:00, 347.49it/s, Loss=2.09, rmse=0.818, R²=0.0249]\n",
      "Testing: 100%|██████████| 676/676 [00:01<00:00, 407.79it/s, Loss=0.76, R²=0.00872] \n"
     ]
    },
    {
     "name": "stdout",
     "output_type": "stream",
     "text": [
      "Train rmse: 0.81924, Train R2: 0.02488, Train loss: 2.09038\n",
      "Test loss: 0.79859, Test R2: 0.00853\n",
      "\n",
      "Epoch 10:\n"
     ]
    },
    {
     "name": "stderr",
     "output_type": "stream",
     "text": [
      "Training: 100%|██████████| 18964/18964 [00:56<00:00, 338.32it/s, Loss=2.09, rmse=0.818, R²=0.0255]\n",
      "Testing: 100%|██████████| 676/676 [00:01<00:00, 404.06it/s, Loss=0.76, R²=0.00869] \n"
     ]
    },
    {
     "name": "stdout",
     "output_type": "stream",
     "text": [
      "Train rmse: 0.81899, Train R2: 0.02547, Train loss: 2.08956\n",
      "Test loss: 0.79860, Test R2: 0.00851\n",
      "\n",
      "Epoch 11:\n"
     ]
    },
    {
     "name": "stderr",
     "output_type": "stream",
     "text": [
      "Training: 100%|██████████| 18964/18964 [00:55<00:00, 342.23it/s, Loss=2.09, rmse=0.818, R²=0.026] \n",
      "Testing: 100%|██████████| 676/676 [00:01<00:00, 401.59it/s, Loss=0.76, R²=0.00887] \n"
     ]
    },
    {
     "name": "stdout",
     "output_type": "stream",
     "text": [
      "Train rmse: 0.81876, Train R2: 0.02602, Train loss: 2.08876\n",
      "Test loss: 0.79852, Test R2: 0.00869\n",
      "\n",
      "Epoch 12:\n"
     ]
    },
    {
     "name": "stderr",
     "output_type": "stream",
     "text": [
      "Training: 100%|██████████| 18964/18964 [00:55<00:00, 342.77it/s, Loss=2.09, rmse=0.817, R²=0.0266]\n",
      "Testing: 100%|██████████| 676/676 [00:01<00:00, 401.56it/s, Loss=0.76, R²=0.00917] \n"
     ]
    },
    {
     "name": "stdout",
     "output_type": "stream",
     "text": [
      "Train rmse: 0.81851, Train R2: 0.02662, Train loss: 2.08797\n",
      "Test loss: 0.79841, Test R2: 0.00897\n",
      "Model Saved - Epoch 12 - Test R2: 0.00897\n",
      "\n",
      "\n",
      "Epoch 13:\n"
     ]
    },
    {
     "name": "stderr",
     "output_type": "stream",
     "text": [
      "Training: 100%|██████████| 18964/18964 [00:55<00:00, 343.98it/s, Loss=2.09, rmse=0.817, R²=0.0271]\n",
      "Testing: 100%|██████████| 676/676 [00:01<00:00, 404.65it/s, Loss=0.76, R²=0.00884] \n"
     ]
    },
    {
     "name": "stdout",
     "output_type": "stream",
     "text": [
      "Train rmse: 0.81828, Train R2: 0.02715, Train loss: 2.08713\n",
      "Test loss: 0.79855, Test R2: 0.00861\n",
      "\n",
      "Epoch 14:\n"
     ]
    },
    {
     "name": "stderr",
     "output_type": "stream",
     "text": [
      "Training: 100%|██████████| 18964/18964 [00:54<00:00, 345.04it/s, Loss=2.09, rmse=0.817, R²=0.0278]\n",
      "Testing: 100%|██████████| 676/676 [00:01<00:00, 404.91it/s, Loss=0.76, R²=0.00909] \n"
     ]
    },
    {
     "name": "stdout",
     "output_type": "stream",
     "text": [
      "Train rmse: 0.81803, Train R2: 0.02776, Train loss: 2.08623\n",
      "Test loss: 0.79844, Test R2: 0.00891\n",
      "\n",
      "Epoch 15:\n"
     ]
    },
    {
     "name": "stderr",
     "output_type": "stream",
     "text": [
      "Training: 100%|██████████| 18964/18964 [00:55<00:00, 342.46it/s, Loss=2.09, rmse=0.817, R²=0.0284]\n",
      "Testing: 100%|██████████| 676/676 [00:01<00:00, 406.72it/s, Loss=0.76, R²=0.00911] \n"
     ]
    },
    {
     "name": "stdout",
     "output_type": "stream",
     "text": [
      "Train rmse: 0.81775, Train R2: 0.02843, Train loss: 2.08530\n",
      "Test loss: 0.79843, Test R2: 0.00893\n",
      "\n",
      "Best Epoch: 12, Best Test R2: 0.00897\n"
     ]
    },
    {
     "name": "stderr",
     "output_type": "stream",
     "text": [
      "/home/mt/miniconda3/envs/tabm/lib/python3.10/site-packages/wandb/sdk/lib/ipython.py:89: DeprecationWarning: Importing display from IPython.core.display is deprecated since IPython 7.14, please import from IPython display\n",
      "  from IPython.core.display import display\n"
     ]
    },
    {
     "data": {
      "application/vnd.jupyter.widget-view+json": {
       "model_id": "2265dc5db6e249fa866eec3a59e5cdfc",
       "version_major": 2,
       "version_minor": 0
      },
      "text/plain": [
       "VBox(children=(Label(value='0.004 MB of 0.004 MB uploaded\\r'), FloatProgress(value=1.0, max=1.0)))"
      ]
     },
     "metadata": {},
     "output_type": "display_data"
    },
    {
     "name": "stderr",
     "output_type": "stream",
     "text": [
      "/home/mt/miniconda3/envs/tabm/lib/python3.10/site-packages/wandb/sdk/lib/ipython.py:77: DeprecationWarning: Importing display from IPython.core.display is deprecated since IPython 7.14, please import from IPython display\n",
      "  from IPython.core.display import HTML, display  # type: ignore\n"
     ]
    },
    {
     "data": {
      "text/html": [
       "<style>\n",
       "    table.wandb td:nth-child(1) { padding: 0 10px; text-align: left ; width: auto;} td:nth-child(2) {text-align: left ; width: 100%}\n",
       "    .wandb-row { display: flex; flex-direction: row; flex-wrap: wrap; justify-content: flex-start; width: 100% }\n",
       "    .wandb-col { display: flex; flex-direction: column; flex-basis: 100%; flex: 1; padding: 10px; }\n",
       "    </style>\n",
       "<div class=\"wandb-row\"><div class=\"wandb-col\"><h3>Run history:</h3><br/><table class=\"wandb\"><tr><td>epoch</td><td>▁▁▂▃▃▃▄▅▅▅▆▇▇▇█</td></tr><tr><td>test_loss</td><td>█▂▃▄▄▃▃▃▃▃▂▁▃▁▁</td></tr><tr><td>test_r2</td><td>▁▇▆▅▅▆▆▆▆▆▇█▆██</td></tr><tr><td>train_loss</td><td>█▆▅▄▄▃▃▃▂▂▂▂▂▁▁</td></tr><tr><td>train_r2</td><td>▁▃▄▅▅▆▆▆▆▇▇▇▇██</td></tr><tr><td>train_rmse</td><td>█▆▅▄▄▃▃▃▃▂▂▂▂▁▁</td></tr></table><br/></div><div class=\"wandb-col\"><h3>Run summary:</h3><br/><table class=\"wandb\"><tr><td>best_test_r2</td><td>0.00897</td></tr><tr><td>best_train_r2</td><td>0.02843</td></tr><tr><td>epoch</td><td>15</td></tr><tr><td>test_loss</td><td>0.79843</td></tr><tr><td>test_r2</td><td>0.00893</td></tr><tr><td>train_loss</td><td>2.0853</td></tr><tr><td>train_r2</td><td>0.02843</td></tr><tr><td>train_rmse</td><td>0.81775</td></tr></table><br/></div></div>"
      ],
      "text/plain": [
       "<IPython.core.display.HTML object>"
      ]
     },
     "metadata": {},
     "output_type": "display_data"
    },
    {
     "data": {
      "text/html": [
       " View run <strong style=\"color:#cdcd00\">confused-sweep-36</strong> at: <a href='https://wandb.ai/turkenm/js_tabm/runs/9swg3cv8' target=\"_blank\">https://wandb.ai/turkenm/js_tabm/runs/9swg3cv8</a><br/> View project at: <a href='https://wandb.ai/turkenm/js_tabm' target=\"_blank\">https://wandb.ai/turkenm/js_tabm</a><br/>Synced 6 W&B file(s), 0 media file(s), 0 artifact file(s) and 0 other file(s)"
      ],
      "text/plain": [
       "<IPython.core.display.HTML object>"
      ]
     },
     "metadata": {},
     "output_type": "display_data"
    },
    {
     "data": {
      "text/html": [
       "Find logs at: <code>./wandb/run-20250112_222037-9swg3cv8/logs</code>"
      ],
      "text/plain": [
       "<IPython.core.display.HTML object>"
      ]
     },
     "metadata": {},
     "output_type": "display_data"
    },
    {
     "name": "stderr",
     "output_type": "stream",
     "text": [
      "\u001b[34m\u001b[1mwandb\u001b[0m: Agent Starting Run: fw741tw5 with config:\n",
      "\u001b[34m\u001b[1mwandb\u001b[0m: \td_block: 128\n",
      "\u001b[34m\u001b[1mwandb\u001b[0m: \tdrop_out: 0.15\n",
      "\u001b[34m\u001b[1mwandb\u001b[0m: \tlearning_rate: 0.00015\n",
      "\u001b[34m\u001b[1mwandb\u001b[0m: \tmodel_arch: tabm-mini\n",
      "\u001b[34m\u001b[1mwandb\u001b[0m: \tn_block: 3\n",
      "\u001b[34m\u001b[1mwandb\u001b[0m: \tn_k: 16\n",
      "\u001b[34m\u001b[1mwandb\u001b[0m: \tweight_decay: 0.0001\n",
      "Failed to detect the name of this notebook, you can set it manually with the WANDB_NOTEBOOK_NAME environment variable to enable code saving.\n",
      "/home/mt/miniconda3/envs/tabm/lib/python3.10/site-packages/wandb/sdk/wandb_setup.py:254: ResourceWarning: unclosed file <_io.TextIOWrapper name='/home/mt/Desktop/JaneStreet-Comp/wandb/sweep-mtpap5fv/config-fw741tw5.yaml' mode='r' encoding='UTF-8'>\n",
      "  self._sweep_config = config_util.dict_from_config_file(\n",
      "ResourceWarning: Enable tracemalloc to get the object allocation traceback\n"
     ]
    },
    {
     "data": {
      "text/html": [
       "wandb version 0.19.2 is available!  To upgrade, please run:\n",
       " $ pip install wandb --upgrade"
      ],
      "text/plain": [
       "<IPython.core.display.HTML object>"
      ]
     },
     "metadata": {},
     "output_type": "display_data"
    },
    {
     "data": {
      "text/html": [
       "Tracking run with wandb version 0.16.6"
      ],
      "text/plain": [
       "<IPython.core.display.HTML object>"
      ]
     },
     "metadata": {},
     "output_type": "display_data"
    },
    {
     "data": {
      "text/html": [
       "Run data is saved locally in <code>/home/mt/Desktop/JaneStreet-Comp/wandb/run-20250112_223504-fw741tw5</code>"
      ],
      "text/plain": [
       "<IPython.core.display.HTML object>"
      ]
     },
     "metadata": {},
     "output_type": "display_data"
    },
    {
     "data": {
      "text/html": [
       "Syncing run <strong><a href='https://wandb.ai/turkenm/js_tabm/runs/fw741tw5' target=\"_blank\">sunny-sweep-37</a></strong> to <a href='https://wandb.ai/turkenm/js_tabm' target=\"_blank\">Weights & Biases</a> (<a href='https://wandb.me/run' target=\"_blank\">docs</a>)<br/>Sweep page: <a href='https://wandb.ai/turkenm/js_tabm/sweeps/mtpap5fv' target=\"_blank\">https://wandb.ai/turkenm/js_tabm/sweeps/mtpap5fv</a>"
      ],
      "text/plain": [
       "<IPython.core.display.HTML object>"
      ]
     },
     "metadata": {},
     "output_type": "display_data"
    },
    {
     "data": {
      "text/html": [
       " View project at <a href='https://wandb.ai/turkenm/js_tabm' target=\"_blank\">https://wandb.ai/turkenm/js_tabm</a>"
      ],
      "text/plain": [
       "<IPython.core.display.HTML object>"
      ]
     },
     "metadata": {},
     "output_type": "display_data"
    },
    {
     "data": {
      "text/html": [
       " View sweep at <a href='https://wandb.ai/turkenm/js_tabm/sweeps/mtpap5fv' target=\"_blank\">https://wandb.ai/turkenm/js_tabm/sweeps/mtpap5fv</a>"
      ],
      "text/plain": [
       "<IPython.core.display.HTML object>"
      ]
     },
     "metadata": {},
     "output_type": "display_data"
    },
    {
     "data": {
      "text/html": [
       " View run at <a href='https://wandb.ai/turkenm/js_tabm/runs/fw741tw5' target=\"_blank\">https://wandb.ai/turkenm/js_tabm/runs/fw741tw5</a>"
      ],
      "text/plain": [
       "<IPython.core.display.HTML object>"
      ]
     },
     "metadata": {},
     "output_type": "display_data"
    },
    {
     "name": "stdout",
     "output_type": "stream",
     "text": [
      "EXPERIMENT exp_tabm-mini_dblocks_128_nblocks_3_LR_1e-04_BS_1024_DR_0.15_k_16_id_10507\n",
      "\n",
      "\n",
      "Epoch 1:\n"
     ]
    },
    {
     "name": "stderr",
     "output_type": "stream",
     "text": [
      "Training: 100%|██████████| 18964/18964 [00:34<00:00, 552.94it/s, Loss=2.11, rmse=0.823, R²=0.014] \n",
      "Testing: 100%|██████████| 676/676 [00:01<00:00, 669.56it/s, Loss=0.76, R²=0.00844] \n"
     ]
    },
    {
     "name": "stdout",
     "output_type": "stream",
     "text": [
      "Train rmse: 0.82378, Train R2: 0.01403, Train loss: 2.10747\n",
      "Test loss: 0.79871, Test R2: 0.00822\n",
      "Model Saved - Epoch 1 - Test R2: 0.00822\n",
      "\n",
      "\n",
      "Epoch 2:\n"
     ]
    },
    {
     "name": "stderr",
     "output_type": "stream",
     "text": [
      "Training: 100%|██████████| 18964/18964 [00:34<00:00, 551.20it/s, Loss=2.1, rmse=0.82, R²=0.0201]\n",
      "Testing: 100%|██████████| 676/676 [00:01<00:00, 671.92it/s, Loss=0.76, R²=0.00849] \n"
     ]
    },
    {
     "name": "stdout",
     "output_type": "stream",
     "text": [
      "Train rmse: 0.82122, Train R2: 0.02015, Train loss: 2.09761\n",
      "Test loss: 0.79867, Test R2: 0.00831\n",
      "Model Saved - Epoch 2 - Test R2: 0.00831\n",
      "\n",
      "\n",
      "Epoch 3:\n"
     ]
    },
    {
     "name": "stderr",
     "output_type": "stream",
     "text": [
      "Training: 100%|██████████| 18964/18964 [00:34<00:00, 552.11it/s, Loss=2.09, rmse=0.819, R²=0.0223]\n",
      "Testing: 100%|██████████| 676/676 [00:01<00:00, 674.52it/s, Loss=0.76, R²=0.00896] \n"
     ]
    },
    {
     "name": "stdout",
     "output_type": "stream",
     "text": [
      "Train rmse: 0.82034, Train R2: 0.02226, Train loss: 2.09437\n",
      "Test loss: 0.79850, Test R2: 0.00874\n",
      "Model Saved - Epoch 3 - Test R2: 0.00874\n",
      "\n",
      "\n",
      "Epoch 4:\n"
     ]
    },
    {
     "name": "stderr",
     "output_type": "stream",
     "text": [
      "Training:   6%|▋         | 1200/18964 [00:02<00:30, 584.86it/s, Loss=2.1, rmse=0.819, R²=0.0227]/home/mt/miniconda3/envs/tabm/lib/python3.10/site-packages/torch/nn/functional.py:1425: ResourceWarning: unclosed <socket.socket fd=110, family=AddressFamily.AF_INET, type=SocketKind.SOCK_STREAM, proto=0, laddr=('127.0.0.1', 43568), raddr=('127.0.0.1', 59323)>\n",
      "  _VF.dropout_(input, p, training) if inplace else _VF.dropout(input, p, training)\n",
      "ResourceWarning: Enable tracemalloc to get the object allocation traceback\n",
      "Training: 100%|██████████| 18964/18964 [00:34<00:00, 552.60it/s, Loss=2.09, rmse=0.819, R²=0.0236]\n",
      "Testing: 100%|██████████| 676/676 [00:01<00:00, 669.71it/s, Loss=0.76, R²=0.0088]  \n"
     ]
    },
    {
     "name": "stdout",
     "output_type": "stream",
     "text": [
      "Train rmse: 0.81975, Train R2: 0.02365, Train loss: 2.09238\n",
      "Test loss: 0.79857, Test R2: 0.00857\n",
      "\n",
      "Epoch 5:\n"
     ]
    },
    {
     "name": "stderr",
     "output_type": "stream",
     "text": [
      "Training: 100%|██████████| 18964/18964 [00:34<00:00, 553.57it/s, Loss=2.09, rmse=0.818, R²=0.0246]\n",
      "Testing: 100%|██████████| 676/676 [00:01<00:00, 674.02it/s, Loss=0.759, R²=0.00909]\n"
     ]
    },
    {
     "name": "stdout",
     "output_type": "stream",
     "text": [
      "Train rmse: 0.81935, Train R2: 0.02462, Train loss: 2.09098\n",
      "Test loss: 0.79845, Test R2: 0.00888\n",
      "Model Saved - Epoch 5 - Test R2: 0.00888\n",
      "\n",
      "\n",
      "Epoch 6:\n"
     ]
    },
    {
     "name": "stderr",
     "output_type": "stream",
     "text": [
      "Training: 100%|██████████| 18964/18964 [00:34<00:00, 547.71it/s, Loss=2.09, rmse=0.818, R²=0.0254]\n",
      "Testing: 100%|██████████| 676/676 [00:01<00:00, 671.63it/s, Loss=0.759, R²=0.00917]\n"
     ]
    },
    {
     "name": "stdout",
     "output_type": "stream",
     "text": [
      "Train rmse: 0.81901, Train R2: 0.02543, Train loss: 2.08996\n",
      "Test loss: 0.79842, Test R2: 0.00894\n",
      "Model Saved - Epoch 6 - Test R2: 0.00894\n",
      "\n",
      "\n",
      "Epoch 7:\n"
     ]
    },
    {
     "name": "stderr",
     "output_type": "stream",
     "text": [
      "Training: 100%|██████████| 18964/18964 [00:34<00:00, 543.29it/s, Loss=2.09, rmse=0.818, R²=0.0261]\n",
      "Testing: 100%|██████████| 676/676 [00:01<00:00, 667.55it/s, Loss=0.759, R²=0.00936]\n"
     ]
    },
    {
     "name": "stdout",
     "output_type": "stream",
     "text": [
      "Train rmse: 0.81874, Train R2: 0.02606, Train loss: 2.08900\n",
      "Test loss: 0.79834, Test R2: 0.00913\n",
      "Model Saved - Epoch 7 - Test R2: 0.00913\n",
      "\n",
      "\n",
      "Epoch 8:\n"
     ]
    },
    {
     "name": "stderr",
     "output_type": "stream",
     "text": [
      "Training: 100%|██████████| 18964/18964 [00:34<00:00, 542.83it/s, Loss=2.09, rmse=0.817, R²=0.0267]\n",
      "Testing: 100%|██████████| 676/676 [00:01<00:00, 669.39it/s, Loss=0.759, R²=0.00931]\n"
     ]
    },
    {
     "name": "stdout",
     "output_type": "stream",
     "text": [
      "Train rmse: 0.81848, Train R2: 0.02670, Train loss: 2.08818\n",
      "Test loss: 0.79835, Test R2: 0.00911\n",
      "\n",
      "Epoch 9:\n"
     ]
    },
    {
     "name": "stderr",
     "output_type": "stream",
     "text": [
      "Training: 100%|██████████| 18964/18964 [00:34<00:00, 548.64it/s, Loss=2.09, rmse=0.817, R²=0.0272]\n",
      "Testing: 100%|██████████| 676/676 [00:01<00:00, 674.45it/s, Loss=0.759, R²=0.00938]\n"
     ]
    },
    {
     "name": "stdout",
     "output_type": "stream",
     "text": [
      "Train rmse: 0.81825, Train R2: 0.02724, Train loss: 2.08742\n",
      "Test loss: 0.79834, Test R2: 0.00913\n",
      "\n",
      "Epoch 10:\n"
     ]
    },
    {
     "name": "stderr",
     "output_type": "stream",
     "text": [
      "Training: 100%|██████████| 18964/18964 [00:34<00:00, 549.90it/s, Loss=2.09, rmse=0.817, R²=0.0278]\n",
      "Testing: 100%|██████████| 676/676 [00:01<00:00, 672.83it/s, Loss=0.759, R²=0.00962]\n"
     ]
    },
    {
     "name": "stdout",
     "output_type": "stream",
     "text": [
      "Train rmse: 0.81803, Train R2: 0.02776, Train loss: 2.08668\n",
      "Test loss: 0.79824, Test R2: 0.00939\n",
      "Model Saved - Epoch 10 - Test R2: 0.00939\n",
      "\n",
      "\n",
      "Epoch 11:\n"
     ]
    },
    {
     "name": "stderr",
     "output_type": "stream",
     "text": [
      "Training: 100%|██████████| 18964/18964 [00:34<00:00, 550.53it/s, Loss=2.09, rmse=0.817, R²=0.0283]\n",
      "Testing: 100%|██████████| 676/676 [00:01<00:00, 671.91it/s, Loss=0.759, R²=0.00958]\n"
     ]
    },
    {
     "name": "stdout",
     "output_type": "stream",
     "text": [
      "Train rmse: 0.81781, Train R2: 0.02827, Train loss: 2.08597\n",
      "Test loss: 0.79825, Test R2: 0.00936\n",
      "\n",
      "Epoch 12:\n"
     ]
    },
    {
     "name": "stderr",
     "output_type": "stream",
     "text": [
      "Training: 100%|██████████| 18964/18964 [00:34<00:00, 550.76it/s, Loss=2.09, rmse=0.817, R²=0.0288]\n",
      "Testing: 100%|██████████| 676/676 [00:01<00:00, 671.27it/s, Loss=0.759, R²=0.00975]\n"
     ]
    },
    {
     "name": "stdout",
     "output_type": "stream",
     "text": [
      "Train rmse: 0.81761, Train R2: 0.02876, Train loss: 2.08521\n",
      "Test loss: 0.79819, Test R2: 0.00950\n",
      "Model Saved - Epoch 12 - Test R2: 0.00950\n",
      "\n",
      "\n",
      "Epoch 13:\n"
     ]
    },
    {
     "name": "stderr",
     "output_type": "stream",
     "text": [
      "Training: 100%|██████████| 18964/18964 [00:34<00:00, 552.52it/s, Loss=2.08, rmse=0.816, R²=0.0292]\n",
      "Testing: 100%|██████████| 676/676 [00:01<00:00, 673.16it/s, Loss=0.759, R²=0.00992]\n"
     ]
    },
    {
     "name": "stdout",
     "output_type": "stream",
     "text": [
      "Train rmse: 0.81740, Train R2: 0.02924, Train loss: 2.08448\n",
      "Test loss: 0.79812, Test R2: 0.00970\n",
      "Model Saved - Epoch 13 - Test R2: 0.00970\n",
      "\n",
      "\n",
      "Epoch 14:\n"
     ]
    },
    {
     "name": "stderr",
     "output_type": "stream",
     "text": [
      "Training: 100%|██████████| 18964/18964 [00:34<00:00, 545.46it/s, Loss=2.08, rmse=0.816, R²=0.0296]\n",
      "Testing: 100%|██████████| 676/676 [00:01<00:00, 663.02it/s, Loss=0.759, R²=0.00999]\n"
     ]
    },
    {
     "name": "stdout",
     "output_type": "stream",
     "text": [
      "Train rmse: 0.81724, Train R2: 0.02964, Train loss: 2.08379\n",
      "Test loss: 0.79811, Test R2: 0.00972\n",
      "Model Saved - Epoch 14 - Test R2: 0.00972\n",
      "\n",
      "\n",
      "Epoch 15:\n"
     ]
    },
    {
     "name": "stderr",
     "output_type": "stream",
     "text": [
      "Training: 100%|██████████| 18964/18964 [00:34<00:00, 544.59it/s, Loss=2.08, rmse=0.816, R²=0.03]  \n",
      "Testing: 100%|██████████| 676/676 [00:01<00:00, 668.61it/s, Loss=0.759, R²=0.00996]\n"
     ]
    },
    {
     "name": "stdout",
     "output_type": "stream",
     "text": [
      "Train rmse: 0.81709, Train R2: 0.02999, Train loss: 2.08322\n",
      "Test loss: 0.79811, Test R2: 0.00973\n",
      "Model Saved - Epoch 15 - Test R2: 0.00973\n",
      "\n",
      "\n",
      "Best Epoch: 15, Best Test R2: 0.00973\n"
     ]
    },
    {
     "name": "stderr",
     "output_type": "stream",
     "text": [
      "/home/mt/miniconda3/envs/tabm/lib/python3.10/site-packages/wandb/sdk/lib/ipython.py:89: DeprecationWarning: Importing display from IPython.core.display is deprecated since IPython 7.14, please import from IPython display\n",
      "  from IPython.core.display import display\n"
     ]
    },
    {
     "data": {
      "application/vnd.jupyter.widget-view+json": {
       "model_id": "2272b46f302a4110b3c1ff007543a957",
       "version_major": 2,
       "version_minor": 0
      },
      "text/plain": [
       "VBox(children=(Label(value='0.004 MB of 0.004 MB uploaded\\r'), FloatProgress(value=1.0, max=1.0)))"
      ]
     },
     "metadata": {},
     "output_type": "display_data"
    },
    {
     "name": "stderr",
     "output_type": "stream",
     "text": [
      "/home/mt/miniconda3/envs/tabm/lib/python3.10/site-packages/wandb/sdk/lib/ipython.py:77: DeprecationWarning: Importing display from IPython.core.display is deprecated since IPython 7.14, please import from IPython display\n",
      "  from IPython.core.display import HTML, display  # type: ignore\n"
     ]
    },
    {
     "data": {
      "text/html": [
       "<style>\n",
       "    table.wandb td:nth-child(1) { padding: 0 10px; text-align: left ; width: auto;} td:nth-child(2) {text-align: left ; width: 100%}\n",
       "    .wandb-row { display: flex; flex-direction: row; flex-wrap: wrap; justify-content: flex-start; width: 100% }\n",
       "    .wandb-col { display: flex; flex-direction: column; flex-basis: 100%; flex: 1; padding: 10px; }\n",
       "    </style>\n",
       "<div class=\"wandb-row\"><div class=\"wandb-col\"><h3>Run history:</h3><br/><table class=\"wandb\"><tr><td>epoch</td><td>▁▁▂▃▃▃▄▅▅▅▆▇▇▇█</td></tr><tr><td>test_loss</td><td>██▆▆▅▅▄▄▄▃▃▂▁▁▁</td></tr><tr><td>test_r2</td><td>▁▁▃▃▄▄▅▅▅▆▆▇███</td></tr><tr><td>train_loss</td><td>█▅▄▄▃▃▃▂▂▂▂▂▁▁▁</td></tr><tr><td>train_r2</td><td>▁▄▅▅▆▆▆▇▇▇▇▇███</td></tr><tr><td>train_rmse</td><td>█▅▄▄▃▃▃▂▂▂▂▂▁▁▁</td></tr></table><br/></div><div class=\"wandb-col\"><h3>Run summary:</h3><br/><table class=\"wandb\"><tr><td>best_test_r2</td><td>0.00973</td></tr><tr><td>best_train_r2</td><td>0.02999</td></tr><tr><td>epoch</td><td>15</td></tr><tr><td>test_loss</td><td>0.79811</td></tr><tr><td>test_r2</td><td>0.00973</td></tr><tr><td>train_loss</td><td>2.08322</td></tr><tr><td>train_r2</td><td>0.02999</td></tr><tr><td>train_rmse</td><td>0.81709</td></tr></table><br/></div></div>"
      ],
      "text/plain": [
       "<IPython.core.display.HTML object>"
      ]
     },
     "metadata": {},
     "output_type": "display_data"
    },
    {
     "data": {
      "text/html": [
       " View run <strong style=\"color:#cdcd00\">sunny-sweep-37</strong> at: <a href='https://wandb.ai/turkenm/js_tabm/runs/fw741tw5' target=\"_blank\">https://wandb.ai/turkenm/js_tabm/runs/fw741tw5</a><br/> View project at: <a href='https://wandb.ai/turkenm/js_tabm' target=\"_blank\">https://wandb.ai/turkenm/js_tabm</a><br/>Synced 6 W&B file(s), 0 media file(s), 0 artifact file(s) and 0 other file(s)"
      ],
      "text/plain": [
       "<IPython.core.display.HTML object>"
      ]
     },
     "metadata": {},
     "output_type": "display_data"
    },
    {
     "data": {
      "text/html": [
       "Find logs at: <code>./wandb/run-20250112_223504-fw741tw5/logs</code>"
      ],
      "text/plain": [
       "<IPython.core.display.HTML object>"
      ]
     },
     "metadata": {},
     "output_type": "display_data"
    },
    {
     "name": "stderr",
     "output_type": "stream",
     "text": [
      "\u001b[34m\u001b[1mwandb\u001b[0m: Agent Starting Run: 8951hc4n with config:\n",
      "\u001b[34m\u001b[1mwandb\u001b[0m: \td_block: 128\n",
      "\u001b[34m\u001b[1mwandb\u001b[0m: \tdrop_out: 0.15\n",
      "\u001b[34m\u001b[1mwandb\u001b[0m: \tlearning_rate: 0.00015\n",
      "\u001b[34m\u001b[1mwandb\u001b[0m: \tmodel_arch: tabm-mini\n",
      "\u001b[34m\u001b[1mwandb\u001b[0m: \tn_block: 3\n",
      "\u001b[34m\u001b[1mwandb\u001b[0m: \tn_k: 16\n",
      "\u001b[34m\u001b[1mwandb\u001b[0m: \tweight_decay: 0.0002\n",
      "Failed to detect the name of this notebook, you can set it manually with the WANDB_NOTEBOOK_NAME environment variable to enable code saving.\n",
      "/home/mt/miniconda3/envs/tabm/lib/python3.10/site-packages/wandb/sdk/wandb_setup.py:254: ResourceWarning: unclosed file <_io.TextIOWrapper name='/home/mt/Desktop/JaneStreet-Comp/wandb/sweep-mtpap5fv/config-8951hc4n.yaml' mode='r' encoding='UTF-8'>\n",
      "  self._sweep_config = config_util.dict_from_config_file(\n",
      "ResourceWarning: Enable tracemalloc to get the object allocation traceback\n"
     ]
    },
    {
     "data": {
      "text/html": [
       "wandb version 0.19.2 is available!  To upgrade, please run:\n",
       " $ pip install wandb --upgrade"
      ],
      "text/plain": [
       "<IPython.core.display.HTML object>"
      ]
     },
     "metadata": {},
     "output_type": "display_data"
    },
    {
     "data": {
      "text/html": [
       "Tracking run with wandb version 0.16.6"
      ],
      "text/plain": [
       "<IPython.core.display.HTML object>"
      ]
     },
     "metadata": {},
     "output_type": "display_data"
    },
    {
     "data": {
      "text/html": [
       "Run data is saved locally in <code>/home/mt/Desktop/JaneStreet-Comp/wandb/run-20250112_224412-8951hc4n</code>"
      ],
      "text/plain": [
       "<IPython.core.display.HTML object>"
      ]
     },
     "metadata": {},
     "output_type": "display_data"
    },
    {
     "data": {
      "text/html": [
       "Syncing run <strong><a href='https://wandb.ai/turkenm/js_tabm/runs/8951hc4n' target=\"_blank\">devoted-sweep-38</a></strong> to <a href='https://wandb.ai/turkenm/js_tabm' target=\"_blank\">Weights & Biases</a> (<a href='https://wandb.me/run' target=\"_blank\">docs</a>)<br/>Sweep page: <a href='https://wandb.ai/turkenm/js_tabm/sweeps/mtpap5fv' target=\"_blank\">https://wandb.ai/turkenm/js_tabm/sweeps/mtpap5fv</a>"
      ],
      "text/plain": [
       "<IPython.core.display.HTML object>"
      ]
     },
     "metadata": {},
     "output_type": "display_data"
    },
    {
     "data": {
      "text/html": [
       " View project at <a href='https://wandb.ai/turkenm/js_tabm' target=\"_blank\">https://wandb.ai/turkenm/js_tabm</a>"
      ],
      "text/plain": [
       "<IPython.core.display.HTML object>"
      ]
     },
     "metadata": {},
     "output_type": "display_data"
    },
    {
     "data": {
      "text/html": [
       " View sweep at <a href='https://wandb.ai/turkenm/js_tabm/sweeps/mtpap5fv' target=\"_blank\">https://wandb.ai/turkenm/js_tabm/sweeps/mtpap5fv</a>"
      ],
      "text/plain": [
       "<IPython.core.display.HTML object>"
      ]
     },
     "metadata": {},
     "output_type": "display_data"
    },
    {
     "data": {
      "text/html": [
       " View run at <a href='https://wandb.ai/turkenm/js_tabm/runs/8951hc4n' target=\"_blank\">https://wandb.ai/turkenm/js_tabm/runs/8951hc4n</a>"
      ],
      "text/plain": [
       "<IPython.core.display.HTML object>"
      ]
     },
     "metadata": {},
     "output_type": "display_data"
    },
    {
     "name": "stdout",
     "output_type": "stream",
     "text": [
      "EXPERIMENT exp_tabm-mini_dblocks_128_nblocks_3_LR_1e-04_BS_1024_DR_0.15_k_16_id_11055\n",
      "\n",
      "\n",
      "Epoch 1:\n"
     ]
    },
    {
     "name": "stderr",
     "output_type": "stream",
     "text": [
      "Training: 100%|██████████| 18964/18964 [00:34<00:00, 546.81it/s, Loss=2.11, rmse=0.823, R²=0.0139]\n",
      "Testing: 100%|██████████| 676/676 [00:01<00:00, 668.04it/s, Loss=0.76, R²=0.00828] \n"
     ]
    },
    {
     "name": "stdout",
     "output_type": "stream",
     "text": [
      "Train rmse: 0.82383, Train R2: 0.01392, Train loss: 2.10769\n",
      "Test loss: 0.79876, Test R2: 0.00809\n",
      "Model Saved - Epoch 1 - Test R2: 0.00809\n",
      "\n",
      "\n",
      "Epoch 2:\n"
     ]
    },
    {
     "name": "stderr",
     "output_type": "stream",
     "text": [
      "Training: 100%|██████████| 18964/18964 [00:34<00:00, 546.55it/s, Loss=2.1, rmse=0.82, R²=0.0198] \n",
      "Testing: 100%|██████████| 676/676 [00:01<00:00, 669.82it/s, Loss=0.76, R²=0.00863] \n"
     ]
    },
    {
     "name": "stdout",
     "output_type": "stream",
     "text": [
      "Train rmse: 0.82135, Train R2: 0.01984, Train loss: 2.09805\n",
      "Test loss: 0.79863, Test R2: 0.00843\n",
      "Model Saved - Epoch 2 - Test R2: 0.00843\n",
      "\n",
      "\n",
      "Epoch 3:\n"
     ]
    },
    {
     "name": "stderr",
     "output_type": "stream",
     "text": [
      "Training: 100%|██████████| 18964/18964 [00:34<00:00, 546.46it/s, Loss=2.09, rmse=0.819, R²=0.022] \n",
      "Testing: 100%|██████████| 676/676 [00:01<00:00, 671.05it/s, Loss=0.76, R²=0.00855] \n"
     ]
    },
    {
     "name": "stdout",
     "output_type": "stream",
     "text": [
      "Train rmse: 0.82042, Train R2: 0.02207, Train loss: 2.09466\n",
      "Test loss: 0.79866, Test R2: 0.00834\n",
      "\n",
      "Epoch 4:\n"
     ]
    },
    {
     "name": "stderr",
     "output_type": "stream",
     "text": [
      "Training:  10%|█         | 1901/18964 [00:03<00:29, 587.79it/s, Loss=2.1, rmse=0.82, R²=0.0234] /home/mt/miniconda3/envs/tabm/lib/python3.10/site-packages/torch/nn/functional.py:1425: ResourceWarning: unclosed <socket.socket fd=108, family=AddressFamily.AF_INET, type=SocketKind.SOCK_STREAM, proto=0, laddr=('127.0.0.1', 47852), raddr=('127.0.0.1', 40029)>\n",
      "  _VF.dropout_(input, p, training) if inplace else _VF.dropout(input, p, training)\n",
      "ResourceWarning: Enable tracemalloc to get the object allocation traceback\n",
      "Training: 100%|██████████| 18964/18964 [00:34<00:00, 545.45it/s, Loss=2.09, rmse=0.819, R²=0.0234]\n",
      "Testing: 100%|██████████| 676/676 [00:01<00:00, 669.04it/s, Loss=0.76, R²=0.00904] \n"
     ]
    },
    {
     "name": "stdout",
     "output_type": "stream",
     "text": [
      "Train rmse: 0.81985, Train R2: 0.02343, Train loss: 2.09272\n",
      "Test loss: 0.79849, Test R2: 0.00878\n",
      "Model Saved - Epoch 4 - Test R2: 0.00878\n",
      "\n",
      "\n",
      "Epoch 5:\n"
     ]
    },
    {
     "name": "stderr",
     "output_type": "stream",
     "text": [
      "Training: 100%|██████████| 18964/18964 [00:34<00:00, 544.36it/s, Loss=2.09, rmse=0.818, R²=0.0244]\n",
      "Testing: 100%|██████████| 676/676 [00:01<00:00, 667.35it/s, Loss=0.759, R²=0.00915]\n"
     ]
    },
    {
     "name": "stdout",
     "output_type": "stream",
     "text": [
      "Train rmse: 0.81944, Train R2: 0.02440, Train loss: 2.09137\n",
      "Test loss: 0.79843, Test R2: 0.00891\n",
      "Model Saved - Epoch 5 - Test R2: 0.00891\n",
      "\n",
      "\n",
      "Epoch 6:\n"
     ]
    },
    {
     "name": "stderr",
     "output_type": "stream",
     "text": [
      "Training: 100%|██████████| 18964/18964 [00:34<00:00, 546.19it/s, Loss=2.09, rmse=0.818, R²=0.0252]\n",
      "Testing: 100%|██████████| 676/676 [00:01<00:00, 667.96it/s, Loss=0.759, R²=0.0093] \n"
     ]
    },
    {
     "name": "stdout",
     "output_type": "stream",
     "text": [
      "Train rmse: 0.81912, Train R2: 0.02517, Train loss: 2.09031\n",
      "Test loss: 0.79838, Test R2: 0.00904\n",
      "Model Saved - Epoch 6 - Test R2: 0.00904\n",
      "\n",
      "\n",
      "Epoch 7:\n"
     ]
    },
    {
     "name": "stderr",
     "output_type": "stream",
     "text": [
      "Training: 100%|██████████| 18964/18964 [00:34<00:00, 543.40it/s, Loss=2.09, rmse=0.818, R²=0.0259]\n",
      "Testing: 100%|██████████| 676/676 [00:01<00:00, 661.11it/s, Loss=0.76, R²=0.00913] \n"
     ]
    },
    {
     "name": "stdout",
     "output_type": "stream",
     "text": [
      "Train rmse: 0.81883, Train R2: 0.02584, Train loss: 2.08943\n",
      "Test loss: 0.79843, Test R2: 0.00891\n",
      "\n",
      "Epoch 8:\n"
     ]
    },
    {
     "name": "stderr",
     "output_type": "stream",
     "text": [
      "Training: 100%|██████████| 18964/18964 [00:34<00:00, 545.95it/s, Loss=2.09, rmse=0.818, R²=0.0265]\n",
      "Testing: 100%|██████████| 676/676 [00:01<00:00, 670.66it/s, Loss=0.759, R²=0.00921]\n"
     ]
    },
    {
     "name": "stdout",
     "output_type": "stream",
     "text": [
      "Train rmse: 0.81858, Train R2: 0.02646, Train loss: 2.08866\n",
      "Test loss: 0.79842, Test R2: 0.00895\n",
      "\n",
      "Epoch 9:\n"
     ]
    },
    {
     "name": "stderr",
     "output_type": "stream",
     "text": [
      "Training: 100%|██████████| 18964/18964 [00:34<00:00, 545.08it/s, Loss=2.09, rmse=0.817, R²=0.027] \n",
      "Testing: 100%|██████████| 676/676 [00:01<00:00, 668.88it/s, Loss=0.759, R²=0.00931]\n"
     ]
    },
    {
     "name": "stdout",
     "output_type": "stream",
     "text": [
      "Train rmse: 0.81837, Train R2: 0.02695, Train loss: 2.08792\n",
      "Test loss: 0.79837, Test R2: 0.00906\n",
      "Model Saved - Epoch 9 - Test R2: 0.00906\n",
      "\n",
      "\n",
      "Epoch 10:\n"
     ]
    },
    {
     "name": "stderr",
     "output_type": "stream",
     "text": [
      "Training: 100%|██████████| 18964/18964 [00:34<00:00, 549.19it/s, Loss=2.09, rmse=0.817, R²=0.0274]\n",
      "Testing: 100%|██████████| 676/676 [00:01<00:00, 672.76it/s, Loss=0.759, R²=0.00932]\n"
     ]
    },
    {
     "name": "stdout",
     "output_type": "stream",
     "text": [
      "Train rmse: 0.81817, Train R2: 0.02742, Train loss: 2.08742\n",
      "Test loss: 0.79836, Test R2: 0.00909\n",
      "Model Saved - Epoch 10 - Test R2: 0.00909\n",
      "\n",
      "\n",
      "Epoch 11:\n"
     ]
    },
    {
     "name": "stderr",
     "output_type": "stream",
     "text": [
      "Training: 100%|██████████| 18964/18964 [00:34<00:00, 546.84it/s, Loss=2.09, rmse=0.817, R²=0.0278]\n",
      "Testing: 100%|██████████| 676/676 [00:01<00:00, 666.78it/s, Loss=0.759, R²=0.00936]\n"
     ]
    },
    {
     "name": "stdout",
     "output_type": "stream",
     "text": [
      "Train rmse: 0.81801, Train R2: 0.02781, Train loss: 2.08679\n",
      "Test loss: 0.79835, Test R2: 0.00910\n",
      "Model Saved - Epoch 11 - Test R2: 0.00910\n",
      "\n",
      "\n",
      "Epoch 12:\n"
     ]
    },
    {
     "name": "stderr",
     "output_type": "stream",
     "text": [
      "Training: 100%|██████████| 18964/18964 [00:34<00:00, 545.47it/s, Loss=2.09, rmse=0.817, R²=0.0283]\n",
      "Testing: 100%|██████████| 676/676 [00:01<00:00, 670.68it/s, Loss=0.76, R²=0.00917] \n"
     ]
    },
    {
     "name": "stdout",
     "output_type": "stream",
     "text": [
      "Train rmse: 0.81781, Train R2: 0.02827, Train loss: 2.08617\n",
      "Test loss: 0.79842, Test R2: 0.00895\n",
      "\n",
      "Epoch 13:\n"
     ]
    },
    {
     "name": "stderr",
     "output_type": "stream",
     "text": [
      "Training: 100%|██████████| 18964/18964 [00:34<00:00, 549.71it/s, Loss=2.09, rmse=0.817, R²=0.0287]\n",
      "Testing: 100%|██████████| 676/676 [00:01<00:00, 668.57it/s, Loss=0.759, R²=0.00922]\n"
     ]
    },
    {
     "name": "stdout",
     "output_type": "stream",
     "text": [
      "Train rmse: 0.81765, Train R2: 0.02865, Train loss: 2.08562\n",
      "Test loss: 0.79840, Test R2: 0.00900\n",
      "\n",
      "Epoch 14:\n"
     ]
    },
    {
     "name": "stderr",
     "output_type": "stream",
     "text": [
      "Training: 100%|██████████| 18964/18964 [00:34<00:00, 549.99it/s, Loss=2.08, rmse=0.816, R²=0.029] \n",
      "Testing: 100%|██████████| 676/676 [00:01<00:00, 670.78it/s, Loss=0.76, R²=0.00908] \n"
     ]
    },
    {
     "name": "stdout",
     "output_type": "stream",
     "text": [
      "Train rmse: 0.81752, Train R2: 0.02897, Train loss: 2.08508\n",
      "Test loss: 0.79845, Test R2: 0.00886\n",
      "\n",
      "Epoch 15:\n"
     ]
    },
    {
     "name": "stderr",
     "output_type": "stream",
     "text": [
      "Training: 100%|██████████| 18964/18964 [00:34<00:00, 549.64it/s, Loss=2.08, rmse=0.816, R²=0.0293]\n",
      "Testing: 100%|██████████| 676/676 [00:01<00:00, 668.71it/s, Loss=0.759, R²=0.00915]\n"
     ]
    },
    {
     "name": "stdout",
     "output_type": "stream",
     "text": [
      "Train rmse: 0.81735, Train R2: 0.02936, Train loss: 2.08454\n",
      "Test loss: 0.79843, Test R2: 0.00893\n",
      "\n",
      "Best Epoch: 11, Best Test R2: 0.00910\n"
     ]
    },
    {
     "name": "stderr",
     "output_type": "stream",
     "text": [
      "/home/mt/miniconda3/envs/tabm/lib/python3.10/site-packages/wandb/sdk/lib/ipython.py:89: DeprecationWarning: Importing display from IPython.core.display is deprecated since IPython 7.14, please import from IPython display\n",
      "  from IPython.core.display import display\n"
     ]
    },
    {
     "data": {
      "application/vnd.jupyter.widget-view+json": {
       "model_id": "7f3e73f950094931a908590249065fbf",
       "version_major": 2,
       "version_minor": 0
      },
      "text/plain": [
       "VBox(children=(Label(value='0.004 MB of 0.029 MB uploaded\\r'), FloatProgress(value=0.14115618595269852, max=1.…"
      ]
     },
     "metadata": {},
     "output_type": "display_data"
    },
    {
     "name": "stderr",
     "output_type": "stream",
     "text": [
      "/home/mt/miniconda3/envs/tabm/lib/python3.10/site-packages/wandb/sdk/lib/ipython.py:77: DeprecationWarning: Importing display from IPython.core.display is deprecated since IPython 7.14, please import from IPython display\n",
      "  from IPython.core.display import HTML, display  # type: ignore\n"
     ]
    },
    {
     "data": {
      "text/html": [
       "<style>\n",
       "    table.wandb td:nth-child(1) { padding: 0 10px; text-align: left ; width: auto;} td:nth-child(2) {text-align: left ; width: 100%}\n",
       "    .wandb-row { display: flex; flex-direction: row; flex-wrap: wrap; justify-content: flex-start; width: 100% }\n",
       "    .wandb-col { display: flex; flex-direction: column; flex-basis: 100%; flex: 1; padding: 10px; }\n",
       "    </style>\n",
       "<div class=\"wandb-row\"><div class=\"wandb-col\"><h3>Run history:</h3><br/><table class=\"wandb\"><tr><td>epoch</td><td>▁▁▂▃▃▃▄▅▅▅▆▇▇▇█</td></tr><tr><td>test_loss</td><td>█▆▆▃▂▁▂▂▁▁▁▂▂▃▂</td></tr><tr><td>test_r2</td><td>▁▃▃▆▇█▇▇███▇▇▆▇</td></tr><tr><td>train_loss</td><td>█▅▄▃▃▃▂▂▂▂▂▁▁▁▁</td></tr><tr><td>train_r2</td><td>▁▄▅▅▆▆▆▇▇▇▇████</td></tr><tr><td>train_rmse</td><td>█▅▄▄▃▃▃▂▂▂▂▁▁▁▁</td></tr></table><br/></div><div class=\"wandb-col\"><h3>Run summary:</h3><br/><table class=\"wandb\"><tr><td>best_test_r2</td><td>0.0091</td></tr><tr><td>best_train_r2</td><td>0.02936</td></tr><tr><td>epoch</td><td>15</td></tr><tr><td>test_loss</td><td>0.79843</td></tr><tr><td>test_r2</td><td>0.00893</td></tr><tr><td>train_loss</td><td>2.08454</td></tr><tr><td>train_r2</td><td>0.02936</td></tr><tr><td>train_rmse</td><td>0.81735</td></tr></table><br/></div></div>"
      ],
      "text/plain": [
       "<IPython.core.display.HTML object>"
      ]
     },
     "metadata": {},
     "output_type": "display_data"
    },
    {
     "data": {
      "text/html": [
       " View run <strong style=\"color:#cdcd00\">devoted-sweep-38</strong> at: <a href='https://wandb.ai/turkenm/js_tabm/runs/8951hc4n' target=\"_blank\">https://wandb.ai/turkenm/js_tabm/runs/8951hc4n</a><br/> View project at: <a href='https://wandb.ai/turkenm/js_tabm' target=\"_blank\">https://wandb.ai/turkenm/js_tabm</a><br/>Synced 6 W&B file(s), 0 media file(s), 0 artifact file(s) and 0 other file(s)"
      ],
      "text/plain": [
       "<IPython.core.display.HTML object>"
      ]
     },
     "metadata": {},
     "output_type": "display_data"
    },
    {
     "data": {
      "text/html": [
       "Find logs at: <code>./wandb/run-20250112_224412-8951hc4n/logs</code>"
      ],
      "text/plain": [
       "<IPython.core.display.HTML object>"
      ]
     },
     "metadata": {},
     "output_type": "display_data"
    },
    {
     "name": "stderr",
     "output_type": "stream",
     "text": [
      "\u001b[34m\u001b[1mwandb\u001b[0m: Agent Starting Run: vnbp5q14 with config:\n",
      "\u001b[34m\u001b[1mwandb\u001b[0m: \td_block: 128\n",
      "\u001b[34m\u001b[1mwandb\u001b[0m: \tdrop_out: 0.15\n",
      "\u001b[34m\u001b[1mwandb\u001b[0m: \tlearning_rate: 0.00015\n",
      "\u001b[34m\u001b[1mwandb\u001b[0m: \tmodel_arch: tabm-mini\n",
      "\u001b[34m\u001b[1mwandb\u001b[0m: \tn_block: 3\n",
      "\u001b[34m\u001b[1mwandb\u001b[0m: \tn_k: 32\n",
      "\u001b[34m\u001b[1mwandb\u001b[0m: \tweight_decay: 0.0001\n",
      "Failed to detect the name of this notebook, you can set it manually with the WANDB_NOTEBOOK_NAME environment variable to enable code saving.\n",
      "/home/mt/miniconda3/envs/tabm/lib/python3.10/site-packages/wandb/sdk/wandb_setup.py:254: ResourceWarning: unclosed file <_io.TextIOWrapper name='/home/mt/Desktop/JaneStreet-Comp/wandb/sweep-mtpap5fv/config-vnbp5q14.yaml' mode='r' encoding='UTF-8'>\n",
      "  self._sweep_config = config_util.dict_from_config_file(\n",
      "ResourceWarning: Enable tracemalloc to get the object allocation traceback\n"
     ]
    },
    {
     "data": {
      "text/html": [
       "wandb version 0.19.2 is available!  To upgrade, please run:\n",
       " $ pip install wandb --upgrade"
      ],
      "text/plain": [
       "<IPython.core.display.HTML object>"
      ]
     },
     "metadata": {},
     "output_type": "display_data"
    },
    {
     "data": {
      "text/html": [
       "Tracking run with wandb version 0.16.6"
      ],
      "text/plain": [
       "<IPython.core.display.HTML object>"
      ]
     },
     "metadata": {},
     "output_type": "display_data"
    },
    {
     "data": {
      "text/html": [
       "Run data is saved locally in <code>/home/mt/Desktop/JaneStreet-Comp/wandb/run-20250112_225322-vnbp5q14</code>"
      ],
      "text/plain": [
       "<IPython.core.display.HTML object>"
      ]
     },
     "metadata": {},
     "output_type": "display_data"
    },
    {
     "data": {
      "text/html": [
       "Syncing run <strong><a href='https://wandb.ai/turkenm/js_tabm/runs/vnbp5q14' target=\"_blank\">pleasant-sweep-39</a></strong> to <a href='https://wandb.ai/turkenm/js_tabm' target=\"_blank\">Weights & Biases</a> (<a href='https://wandb.me/run' target=\"_blank\">docs</a>)<br/>Sweep page: <a href='https://wandb.ai/turkenm/js_tabm/sweeps/mtpap5fv' target=\"_blank\">https://wandb.ai/turkenm/js_tabm/sweeps/mtpap5fv</a>"
      ],
      "text/plain": [
       "<IPython.core.display.HTML object>"
      ]
     },
     "metadata": {},
     "output_type": "display_data"
    },
    {
     "data": {
      "text/html": [
       " View project at <a href='https://wandb.ai/turkenm/js_tabm' target=\"_blank\">https://wandb.ai/turkenm/js_tabm</a>"
      ],
      "text/plain": [
       "<IPython.core.display.HTML object>"
      ]
     },
     "metadata": {},
     "output_type": "display_data"
    },
    {
     "data": {
      "text/html": [
       " View sweep at <a href='https://wandb.ai/turkenm/js_tabm/sweeps/mtpap5fv' target=\"_blank\">https://wandb.ai/turkenm/js_tabm/sweeps/mtpap5fv</a>"
      ],
      "text/plain": [
       "<IPython.core.display.HTML object>"
      ]
     },
     "metadata": {},
     "output_type": "display_data"
    },
    {
     "data": {
      "text/html": [
       " View run at <a href='https://wandb.ai/turkenm/js_tabm/runs/vnbp5q14' target=\"_blank\">https://wandb.ai/turkenm/js_tabm/runs/vnbp5q14</a>"
      ],
      "text/plain": [
       "<IPython.core.display.HTML object>"
      ]
     },
     "metadata": {},
     "output_type": "display_data"
    },
    {
     "name": "stdout",
     "output_type": "stream",
     "text": [
      "EXPERIMENT exp_tabm-mini_dblocks_128_nblocks_3_LR_1e-04_BS_1024_DR_0.15_k_32_id_11604\n",
      "\n",
      "\n",
      "Epoch 1:\n"
     ]
    },
    {
     "name": "stderr",
     "output_type": "stream",
     "text": [
      "Training: 100%|██████████| 18964/18964 [00:55<00:00, 344.27it/s, Loss=2.11, rmse=0.823, R²=0.0123] \n",
      "Testing: 100%|██████████| 676/676 [00:01<00:00, 405.36it/s, Loss=0.76, R²=0.00795] \n"
     ]
    },
    {
     "name": "stdout",
     "output_type": "stream",
     "text": [
      "Train rmse: 0.82449, Train R2: 0.01234, Train loss: 2.11025\n",
      "Test loss: 0.79890, Test R2: 0.00776\n",
      "Model Saved - Epoch 1 - Test R2: 0.00776\n",
      "\n",
      "\n",
      "Epoch 2:\n"
     ]
    },
    {
     "name": "stderr",
     "output_type": "stream",
     "text": [
      "Training: 100%|██████████| 18964/18964 [00:55<00:00, 343.21it/s, Loss=2.1, rmse=0.821, R²=0.0177]\n",
      "Testing: 100%|██████████| 676/676 [00:01<00:00, 406.91it/s, Loss=0.76, R²=0.00835] \n"
     ]
    },
    {
     "name": "stdout",
     "output_type": "stream",
     "text": [
      "Train rmse: 0.82225, Train R2: 0.01770, Train loss: 2.10180\n",
      "Test loss: 0.79874, Test R2: 0.00815\n",
      "Model Saved - Epoch 2 - Test R2: 0.00815\n",
      "\n",
      "\n",
      "Epoch 3:\n"
     ]
    },
    {
     "name": "stderr",
     "output_type": "stream",
     "text": [
      "Training: 100%|██████████| 18964/18964 [00:54<00:00, 345.14it/s, Loss=2.1, rmse=0.82, R²=0.0197] \n",
      "Testing: 100%|██████████| 676/676 [00:01<00:00, 405.35it/s, Loss=0.76, R²=0.00827] \n"
     ]
    },
    {
     "name": "stdout",
     "output_type": "stream",
     "text": [
      "Train rmse: 0.82140, Train R2: 0.01972, Train loss: 2.09858\n",
      "Test loss: 0.79877, Test R2: 0.00808\n",
      "\n",
      "Epoch 4:\n"
     ]
    },
    {
     "name": "stderr",
     "output_type": "stream",
     "text": [
      "Training:  41%|████      | 7707/18964 [00:21<00:33, 339.88it/s, Loss=2.1, rmse=0.821, R²=0.0208]/home/mt/miniconda3/envs/tabm/lib/python3.10/site-packages/torch/nn/functional.py:1425: ResourceWarning: unclosed <socket.socket fd=111, family=AddressFamily.AF_INET, type=SocketKind.SOCK_STREAM, proto=0, laddr=('127.0.0.1', 40334), raddr=('127.0.0.1', 33141)>\n",
      "  _VF.dropout_(input, p, training) if inplace else _VF.dropout(input, p, training)\n",
      "ResourceWarning: Enable tracemalloc to get the object allocation traceback\n",
      "Training: 100%|██████████| 18964/18964 [00:55<00:00, 344.25it/s, Loss=2.1, rmse=0.82, R²=0.021] \n",
      "Testing: 100%|██████████| 676/676 [00:01<00:00, 403.46it/s, Loss=0.76, R²=0.0087]  \n"
     ]
    },
    {
     "name": "stdout",
     "output_type": "stream",
     "text": [
      "Train rmse: 0.82088, Train R2: 0.02098, Train loss: 2.09668\n",
      "Test loss: 0.79859, Test R2: 0.00851\n",
      "Model Saved - Epoch 4 - Test R2: 0.00851\n",
      "\n",
      "\n",
      "Epoch 5:\n"
     ]
    },
    {
     "name": "stderr",
     "output_type": "stream",
     "text": [
      "Training: 100%|██████████| 18964/18964 [00:55<00:00, 341.44it/s, Loss=2.1, rmse=0.819, R²=0.0219] \n",
      "Testing: 100%|██████████| 676/676 [00:01<00:00, 403.67it/s, Loss=0.76, R²=0.009]   \n"
     ]
    },
    {
     "name": "stdout",
     "output_type": "stream",
     "text": [
      "Train rmse: 0.82046, Train R2: 0.02197, Train loss: 2.09521\n",
      "Test loss: 0.79847, Test R2: 0.00881\n",
      "Model Saved - Epoch 5 - Test R2: 0.00881\n",
      "\n",
      "\n",
      "Epoch 6:\n"
     ]
    },
    {
     "name": "stderr",
     "output_type": "stream",
     "text": [
      "Training: 100%|██████████| 18964/18964 [00:55<00:00, 340.25it/s, Loss=2.09, rmse=0.819, R²=0.0228]\n",
      "Testing: 100%|██████████| 676/676 [00:01<00:00, 404.70it/s, Loss=0.759, R²=0.00909]\n"
     ]
    },
    {
     "name": "stdout",
     "output_type": "stream",
     "text": [
      "Train rmse: 0.82012, Train R2: 0.02278, Train loss: 2.09404\n",
      "Test loss: 0.79844, Test R2: 0.00890\n",
      "Model Saved - Epoch 6 - Test R2: 0.00890\n",
      "\n",
      "\n",
      "Epoch 7:\n"
     ]
    },
    {
     "name": "stderr",
     "output_type": "stream",
     "text": [
      "Training: 100%|██████████| 18964/18964 [00:55<00:00, 343.08it/s, Loss=2.09, rmse=0.819, R²=0.0235]\n",
      "Testing: 100%|██████████| 676/676 [00:01<00:00, 405.05it/s, Loss=0.759, R²=0.00913]\n"
     ]
    },
    {
     "name": "stdout",
     "output_type": "stream",
     "text": [
      "Train rmse: 0.81979, Train R2: 0.02356, Train loss: 2.09292\n",
      "Test loss: 0.79843, Test R2: 0.00891\n",
      "Model Saved - Epoch 7 - Test R2: 0.00891\n",
      "\n",
      "\n",
      "Epoch 8:\n"
     ]
    },
    {
     "name": "stderr",
     "output_type": "stream",
     "text": [
      "Training: 100%|██████████| 18964/18964 [00:55<00:00, 342.23it/s, Loss=2.09, rmse=0.818, R²=0.0243]\n",
      "Testing: 100%|██████████| 676/676 [00:01<00:00, 405.33it/s, Loss=0.759, R²=0.00933]\n"
     ]
    },
    {
     "name": "stdout",
     "output_type": "stream",
     "text": [
      "Train rmse: 0.81949, Train R2: 0.02429, Train loss: 2.09182\n",
      "Test loss: 0.79835, Test R2: 0.00911\n",
      "Model Saved - Epoch 8 - Test R2: 0.00911\n",
      "\n",
      "\n",
      "Epoch 9:\n"
     ]
    },
    {
     "name": "stderr",
     "output_type": "stream",
     "text": [
      "Training: 100%|██████████| 18964/18964 [00:55<00:00, 342.72it/s, Loss=2.09, rmse=0.818, R²=0.0251]\n",
      "Testing: 100%|██████████| 676/676 [00:01<00:00, 405.61it/s, Loss=0.759, R²=0.00935]\n"
     ]
    },
    {
     "name": "stdout",
     "output_type": "stream",
     "text": [
      "Train rmse: 0.81912, Train R2: 0.02516, Train loss: 2.09049\n",
      "Test loss: 0.79834, Test R2: 0.00914\n",
      "Model Saved - Epoch 9 - Test R2: 0.00914\n",
      "\n",
      "\n",
      "Epoch 10:\n"
     ]
    },
    {
     "name": "stderr",
     "output_type": "stream",
     "text": [
      "Training: 100%|██████████| 18964/18964 [00:55<00:00, 343.41it/s, Loss=2.09, rmse=0.818, R²=0.0261]\n",
      "Testing: 100%|██████████| 676/676 [00:01<00:00, 405.81it/s, Loss=0.759, R²=0.00935]\n"
     ]
    },
    {
     "name": "stdout",
     "output_type": "stream",
     "text": [
      "Train rmse: 0.81873, Train R2: 0.02609, Train loss: 2.08908\n",
      "Test loss: 0.79835, Test R2: 0.00912\n",
      "\n",
      "Epoch 11:\n"
     ]
    },
    {
     "name": "stderr",
     "output_type": "stream",
     "text": [
      "Training: 100%|██████████| 18964/18964 [00:55<00:00, 340.47it/s, Loss=2.09, rmse=0.817, R²=0.0269]\n",
      "Testing: 100%|██████████| 676/676 [00:01<00:00, 405.95it/s, Loss=0.759, R²=0.00964]\n"
     ]
    },
    {
     "name": "stdout",
     "output_type": "stream",
     "text": [
      "Train rmse: 0.81837, Train R2: 0.02694, Train loss: 2.08780\n",
      "Test loss: 0.79825, Test R2: 0.00937\n",
      "Model Saved - Epoch 11 - Test R2: 0.00937\n",
      "\n",
      "\n",
      "Epoch 12:\n"
     ]
    },
    {
     "name": "stderr",
     "output_type": "stream",
     "text": [
      "Training: 100%|██████████| 18964/18964 [00:55<00:00, 340.29it/s, Loss=2.09, rmse=0.817, R²=0.0277]\n",
      "Testing: 100%|██████████| 676/676 [00:01<00:00, 404.49it/s, Loss=0.759, R²=0.00983]\n"
     ]
    },
    {
     "name": "stdout",
     "output_type": "stream",
     "text": [
      "Train rmse: 0.81805, Train R2: 0.02771, Train loss: 2.08666\n",
      "Test loss: 0.79817, Test R2: 0.00956\n",
      "Model Saved - Epoch 12 - Test R2: 0.00956\n",
      "\n",
      "\n",
      "Epoch 13:\n"
     ]
    },
    {
     "name": "stderr",
     "output_type": "stream",
     "text": [
      "Training: 100%|██████████| 18964/18964 [00:55<00:00, 341.69it/s, Loss=2.09, rmse=0.817, R²=0.0284]\n",
      "Testing: 100%|██████████| 676/676 [00:01<00:00, 405.73it/s, Loss=0.759, R²=0.00972]\n"
     ]
    },
    {
     "name": "stdout",
     "output_type": "stream",
     "text": [
      "Train rmse: 0.81776, Train R2: 0.02841, Train loss: 2.08562\n",
      "Test loss: 0.79821, Test R2: 0.00945\n",
      "\n",
      "Epoch 14:\n"
     ]
    },
    {
     "name": "stderr",
     "output_type": "stream",
     "text": [
      "Training: 100%|██████████| 18964/18964 [00:55<00:00, 342.59it/s, Loss=2.08, rmse=0.816, R²=0.0291]\n",
      "Testing: 100%|██████████| 676/676 [00:01<00:00, 405.63it/s, Loss=0.759, R²=0.00997]\n"
     ]
    },
    {
     "name": "stdout",
     "output_type": "stream",
     "text": [
      "Train rmse: 0.81746, Train R2: 0.02911, Train loss: 2.08453\n",
      "Test loss: 0.79811, Test R2: 0.00972\n",
      "Model Saved - Epoch 14 - Test R2: 0.00972\n",
      "\n",
      "\n",
      "Epoch 15:\n"
     ]
    },
    {
     "name": "stderr",
     "output_type": "stream",
     "text": [
      "Training: 100%|██████████| 18964/18964 [00:55<00:00, 343.67it/s, Loss=2.08, rmse=0.816, R²=0.0299]\n",
      "Testing: 100%|██████████| 676/676 [00:01<00:00, 401.10it/s, Loss=0.759, R²=0.0103] \n"
     ]
    },
    {
     "name": "stdout",
     "output_type": "stream",
     "text": [
      "Train rmse: 0.81713, Train R2: 0.02989, Train loss: 2.08344\n",
      "Test loss: 0.79799, Test R2: 0.01001\n",
      "Model Saved - Epoch 15 - Test R2: 0.01001\n",
      "\n",
      "\n",
      "Best Epoch: 15, Best Test R2: 0.01001\n"
     ]
    },
    {
     "name": "stderr",
     "output_type": "stream",
     "text": [
      "/home/mt/miniconda3/envs/tabm/lib/python3.10/site-packages/wandb/sdk/lib/ipython.py:89: DeprecationWarning: Importing display from IPython.core.display is deprecated since IPython 7.14, please import from IPython display\n",
      "  from IPython.core.display import display\n"
     ]
    },
    {
     "data": {
      "application/vnd.jupyter.widget-view+json": {
       "model_id": "e80aacce9194494099295a037d9e1e58",
       "version_major": 2,
       "version_minor": 0
      },
      "text/plain": [
       "VBox(children=(Label(value='0.004 MB of 0.004 MB uploaded\\r'), FloatProgress(value=1.0, max=1.0)))"
      ]
     },
     "metadata": {},
     "output_type": "display_data"
    },
    {
     "name": "stderr",
     "output_type": "stream",
     "text": [
      "/home/mt/miniconda3/envs/tabm/lib/python3.10/site-packages/wandb/sdk/lib/ipython.py:77: DeprecationWarning: Importing display from IPython.core.display is deprecated since IPython 7.14, please import from IPython display\n",
      "  from IPython.core.display import HTML, display  # type: ignore\n"
     ]
    },
    {
     "data": {
      "text/html": [
       "<style>\n",
       "    table.wandb td:nth-child(1) { padding: 0 10px; text-align: left ; width: auto;} td:nth-child(2) {text-align: left ; width: 100%}\n",
       "    .wandb-row { display: flex; flex-direction: row; flex-wrap: wrap; justify-content: flex-start; width: 100% }\n",
       "    .wandb-col { display: flex; flex-direction: column; flex-basis: 100%; flex: 1; padding: 10px; }\n",
       "    </style>\n",
       "<div class=\"wandb-row\"><div class=\"wandb-col\"><h3>Run history:</h3><br/><table class=\"wandb\"><tr><td>epoch</td><td>▁▁▂▃▃▃▄▅▅▅▆▇▇▇█</td></tr><tr><td>test_loss</td><td>█▇▇▆▅▄▄▄▄▄▃▂▃▂▁</td></tr><tr><td>test_r2</td><td>▁▂▂▃▄▅▅▅▅▅▆▇▆▇█</td></tr><tr><td>train_loss</td><td>█▆▅▄▄▄▃▃▃▂▂▂▂▁▁</td></tr><tr><td>train_r2</td><td>▁▃▄▄▅▅▅▆▆▆▇▇▇██</td></tr><tr><td>train_rmse</td><td>█▆▅▅▄▄▄▃▃▃▂▂▂▁▁</td></tr></table><br/></div><div class=\"wandb-col\"><h3>Run summary:</h3><br/><table class=\"wandb\"><tr><td>best_test_r2</td><td>0.01001</td></tr><tr><td>best_train_r2</td><td>0.02989</td></tr><tr><td>epoch</td><td>15</td></tr><tr><td>test_loss</td><td>0.79799</td></tr><tr><td>test_r2</td><td>0.01001</td></tr><tr><td>train_loss</td><td>2.08344</td></tr><tr><td>train_r2</td><td>0.02989</td></tr><tr><td>train_rmse</td><td>0.81713</td></tr></table><br/></div></div>"
      ],
      "text/plain": [
       "<IPython.core.display.HTML object>"
      ]
     },
     "metadata": {},
     "output_type": "display_data"
    },
    {
     "data": {
      "text/html": [
       " View run <strong style=\"color:#cdcd00\">pleasant-sweep-39</strong> at: <a href='https://wandb.ai/turkenm/js_tabm/runs/vnbp5q14' target=\"_blank\">https://wandb.ai/turkenm/js_tabm/runs/vnbp5q14</a><br/> View project at: <a href='https://wandb.ai/turkenm/js_tabm' target=\"_blank\">https://wandb.ai/turkenm/js_tabm</a><br/>Synced 6 W&B file(s), 0 media file(s), 0 artifact file(s) and 0 other file(s)"
      ],
      "text/plain": [
       "<IPython.core.display.HTML object>"
      ]
     },
     "metadata": {},
     "output_type": "display_data"
    },
    {
     "data": {
      "text/html": [
       "Find logs at: <code>./wandb/run-20250112_225322-vnbp5q14/logs</code>"
      ],
      "text/plain": [
       "<IPython.core.display.HTML object>"
      ]
     },
     "metadata": {},
     "output_type": "display_data"
    },
    {
     "name": "stderr",
     "output_type": "stream",
     "text": [
      "\u001b[34m\u001b[1mwandb\u001b[0m: Agent Starting Run: uvfl69pg with config:\n",
      "\u001b[34m\u001b[1mwandb\u001b[0m: \td_block: 128\n",
      "\u001b[34m\u001b[1mwandb\u001b[0m: \tdrop_out: 0.15\n",
      "\u001b[34m\u001b[1mwandb\u001b[0m: \tlearning_rate: 0.00015\n",
      "\u001b[34m\u001b[1mwandb\u001b[0m: \tmodel_arch: tabm-mini\n",
      "\u001b[34m\u001b[1mwandb\u001b[0m: \tn_block: 3\n",
      "\u001b[34m\u001b[1mwandb\u001b[0m: \tn_k: 32\n",
      "\u001b[34m\u001b[1mwandb\u001b[0m: \tweight_decay: 0.0002\n",
      "Failed to detect the name of this notebook, you can set it manually with the WANDB_NOTEBOOK_NAME environment variable to enable code saving.\n",
      "/home/mt/miniconda3/envs/tabm/lib/python3.10/site-packages/wandb/sdk/wandb_setup.py:254: ResourceWarning: unclosed file <_io.TextIOWrapper name='/home/mt/Desktop/JaneStreet-Comp/wandb/sweep-mtpap5fv/config-uvfl69pg.yaml' mode='r' encoding='UTF-8'>\n",
      "  self._sweep_config = config_util.dict_from_config_file(\n",
      "ResourceWarning: Enable tracemalloc to get the object allocation traceback\n"
     ]
    },
    {
     "data": {
      "text/html": [
       "wandb version 0.19.2 is available!  To upgrade, please run:\n",
       " $ pip install wandb --upgrade"
      ],
      "text/plain": [
       "<IPython.core.display.HTML object>"
      ]
     },
     "metadata": {},
     "output_type": "display_data"
    },
    {
     "data": {
      "text/html": [
       "Tracking run with wandb version 0.16.6"
      ],
      "text/plain": [
       "<IPython.core.display.HTML object>"
      ]
     },
     "metadata": {},
     "output_type": "display_data"
    },
    {
     "data": {
      "text/html": [
       "Run data is saved locally in <code>/home/mt/Desktop/JaneStreet-Comp/wandb/run-20250112_230751-uvfl69pg</code>"
      ],
      "text/plain": [
       "<IPython.core.display.HTML object>"
      ]
     },
     "metadata": {},
     "output_type": "display_data"
    },
    {
     "data": {
      "text/html": [
       "Syncing run <strong><a href='https://wandb.ai/turkenm/js_tabm/runs/uvfl69pg' target=\"_blank\">proud-sweep-40</a></strong> to <a href='https://wandb.ai/turkenm/js_tabm' target=\"_blank\">Weights & Biases</a> (<a href='https://wandb.me/run' target=\"_blank\">docs</a>)<br/>Sweep page: <a href='https://wandb.ai/turkenm/js_tabm/sweeps/mtpap5fv' target=\"_blank\">https://wandb.ai/turkenm/js_tabm/sweeps/mtpap5fv</a>"
      ],
      "text/plain": [
       "<IPython.core.display.HTML object>"
      ]
     },
     "metadata": {},
     "output_type": "display_data"
    },
    {
     "data": {
      "text/html": [
       " View project at <a href='https://wandb.ai/turkenm/js_tabm' target=\"_blank\">https://wandb.ai/turkenm/js_tabm</a>"
      ],
      "text/plain": [
       "<IPython.core.display.HTML object>"
      ]
     },
     "metadata": {},
     "output_type": "display_data"
    },
    {
     "data": {
      "text/html": [
       " View sweep at <a href='https://wandb.ai/turkenm/js_tabm/sweeps/mtpap5fv' target=\"_blank\">https://wandb.ai/turkenm/js_tabm/sweeps/mtpap5fv</a>"
      ],
      "text/plain": [
       "<IPython.core.display.HTML object>"
      ]
     },
     "metadata": {},
     "output_type": "display_data"
    },
    {
     "data": {
      "text/html": [
       " View run at <a href='https://wandb.ai/turkenm/js_tabm/runs/uvfl69pg' target=\"_blank\">https://wandb.ai/turkenm/js_tabm/runs/uvfl69pg</a>"
      ],
      "text/plain": [
       "<IPython.core.display.HTML object>"
      ]
     },
     "metadata": {},
     "output_type": "display_data"
    },
    {
     "name": "stdout",
     "output_type": "stream",
     "text": [
      "EXPERIMENT exp_tabm-mini_dblocks_128_nblocks_3_LR_1e-04_BS_1024_DR_0.15_k_32_id_12473\n",
      "\n",
      "\n",
      "Epoch 1:\n"
     ]
    },
    {
     "name": "stderr",
     "output_type": "stream",
     "text": [
      "Training: 100%|██████████| 18964/18964 [00:54<00:00, 345.16it/s, Loss=2.11, rmse=0.823, R²=0.0126]\n",
      "Testing: 100%|██████████| 676/676 [00:01<00:00, 406.02it/s, Loss=0.76, R²=0.00806] \n"
     ]
    },
    {
     "name": "stdout",
     "output_type": "stream",
     "text": [
      "Train rmse: 0.82437, Train R2: 0.01263, Train loss: 2.10983\n",
      "Test loss: 0.79885, Test R2: 0.00788\n",
      "Model Saved - Epoch 1 - Test R2: 0.00788\n",
      "\n",
      "\n",
      "Epoch 2:\n"
     ]
    },
    {
     "name": "stderr",
     "output_type": "stream",
     "text": [
      "Training: 100%|██████████| 18964/18964 [00:54<00:00, 346.11it/s, Loss=2.1, rmse=0.821, R²=0.0181]\n",
      "Testing: 100%|██████████| 676/676 [00:01<00:00, 404.86it/s, Loss=0.76, R²=0.00823] \n"
     ]
    },
    {
     "name": "stdout",
     "output_type": "stream",
     "text": [
      "Train rmse: 0.82210, Train R2: 0.01807, Train loss: 2.10118\n",
      "Test loss: 0.79878, Test R2: 0.00805\n",
      "Model Saved - Epoch 2 - Test R2: 0.00805\n",
      "\n",
      "\n",
      "Epoch 3:\n"
     ]
    },
    {
     "name": "stderr",
     "output_type": "stream",
     "text": [
      "Training: 100%|██████████| 18964/18964 [00:54<00:00, 345.12it/s, Loss=2.1, rmse=0.82, R²=0.02]   \n",
      "Testing: 100%|██████████| 676/676 [00:01<00:00, 405.57it/s, Loss=0.76, R²=0.00869] \n",
      "/home/mt/miniconda3/envs/tabm/lib/python3.10/site-packages/torch/_tensor.py:981: ResourceWarning: unclosed <socket.socket fd=108, family=AddressFamily.AF_INET, type=SocketKind.SOCK_STREAM, proto=0, laddr=('127.0.0.1', 59602), raddr=('127.0.0.1', 46835)>\n",
      "  return torch._VF.split(self, split_size, dim)  # type: ignore[attr-defined]\n",
      "ResourceWarning: Enable tracemalloc to get the object allocation traceback\n"
     ]
    },
    {
     "name": "stdout",
     "output_type": "stream",
     "text": [
      "Train rmse: 0.82127, Train R2: 0.02005, Train loss: 2.09798\n",
      "Test loss: 0.79861, Test R2: 0.00847\n",
      "Model Saved - Epoch 3 - Test R2: 0.00847\n",
      "\n",
      "\n",
      "Epoch 4:\n"
     ]
    },
    {
     "name": "stderr",
     "output_type": "stream",
     "text": [
      "Training: 100%|██████████| 18964/18964 [00:55<00:00, 344.33it/s, Loss=2.1, rmse=0.82, R²=0.0213]  \n",
      "Testing: 100%|██████████| 676/676 [00:01<00:00, 406.29it/s, Loss=0.76, R²=0.00858] \n"
     ]
    },
    {
     "name": "stdout",
     "output_type": "stream",
     "text": [
      "Train rmse: 0.82074, Train R2: 0.02131, Train loss: 2.09606\n",
      "Test loss: 0.79864, Test R2: 0.00840\n",
      "\n",
      "Epoch 5:\n"
     ]
    },
    {
     "name": "stderr",
     "output_type": "stream",
     "text": [
      "Training: 100%|██████████| 18964/18964 [00:55<00:00, 343.41it/s, Loss=2.09, rmse=0.819, R²=0.0224]\n",
      "Testing: 100%|██████████| 676/676 [00:01<00:00, 406.66it/s, Loss=0.76, R²=0.009]   \n"
     ]
    },
    {
     "name": "stdout",
     "output_type": "stream",
     "text": [
      "Train rmse: 0.82027, Train R2: 0.02243, Train loss: 2.09446\n",
      "Test loss: 0.79849, Test R2: 0.00877\n",
      "Model Saved - Epoch 5 - Test R2: 0.00877\n",
      "\n",
      "\n",
      "Epoch 6:\n"
     ]
    },
    {
     "name": "stderr",
     "output_type": "stream",
     "text": [
      "Training: 100%|██████████| 18964/18964 [00:55<00:00, 343.11it/s, Loss=2.09, rmse=0.819, R²=0.0234]\n",
      "Testing: 100%|██████████| 676/676 [00:01<00:00, 405.08it/s, Loss=0.759, R²=0.00914]\n"
     ]
    },
    {
     "name": "stdout",
     "output_type": "stream",
     "text": [
      "Train rmse: 0.81985, Train R2: 0.02341, Train loss: 2.09300\n",
      "Test loss: 0.79843, Test R2: 0.00891\n",
      "Model Saved - Epoch 6 - Test R2: 0.00891\n",
      "\n",
      "\n",
      "Epoch 7:\n"
     ]
    },
    {
     "name": "stderr",
     "output_type": "stream",
     "text": [
      "Training: 100%|██████████| 18964/18964 [00:55<00:00, 343.21it/s, Loss=2.09, rmse=0.818, R²=0.0244]\n",
      "Testing: 100%|██████████| 676/676 [00:01<00:00, 406.73it/s, Loss=0.759, R²=0.00922]\n"
     ]
    },
    {
     "name": "stdout",
     "output_type": "stream",
     "text": [
      "Train rmse: 0.81946, Train R2: 0.02435, Train loss: 2.09155\n",
      "Test loss: 0.79841, Test R2: 0.00897\n",
      "Model Saved - Epoch 7 - Test R2: 0.00897\n",
      "\n",
      "\n",
      "Epoch 8:\n"
     ]
    },
    {
     "name": "stderr",
     "output_type": "stream",
     "text": [
      "Training: 100%|██████████| 18964/18964 [00:55<00:00, 343.15it/s, Loss=2.09, rmse=0.818, R²=0.0253]\n",
      "Testing: 100%|██████████| 676/676 [00:01<00:00, 406.72it/s, Loss=0.759, R²=0.00951]\n"
     ]
    },
    {
     "name": "stdout",
     "output_type": "stream",
     "text": [
      "Train rmse: 0.81904, Train R2: 0.02535, Train loss: 2.09017\n",
      "Test loss: 0.79829, Test R2: 0.00927\n",
      "Model Saved - Epoch 8 - Test R2: 0.00927\n",
      "\n",
      "\n",
      "Epoch 9:\n"
     ]
    },
    {
     "name": "stderr",
     "output_type": "stream",
     "text": [
      "Training: 100%|██████████| 18964/18964 [00:55<00:00, 343.74it/s, Loss=2.09, rmse=0.817, R²=0.0265]\n",
      "Testing: 100%|██████████| 676/676 [00:01<00:00, 407.24it/s, Loss=0.759, R²=0.00958]\n"
     ]
    },
    {
     "name": "stdout",
     "output_type": "stream",
     "text": [
      "Train rmse: 0.81857, Train R2: 0.02647, Train loss: 2.08848\n",
      "Test loss: 0.79826, Test R2: 0.00934\n",
      "Model Saved - Epoch 9 - Test R2: 0.00934\n",
      "\n",
      "\n",
      "Epoch 10:\n"
     ]
    },
    {
     "name": "stderr",
     "output_type": "stream",
     "text": [
      "Training: 100%|██████████| 18964/18964 [00:55<00:00, 344.05it/s, Loss=2.09, rmse=0.817, R²=0.0277]\n",
      "Testing: 100%|██████████| 676/676 [00:01<00:00, 406.33it/s, Loss=0.759, R²=0.00933]\n"
     ]
    },
    {
     "name": "stdout",
     "output_type": "stream",
     "text": [
      "Train rmse: 0.81803, Train R2: 0.02777, Train loss: 2.08647\n",
      "Test loss: 0.79834, Test R2: 0.00914\n",
      "\n",
      "Epoch 11:\n"
     ]
    },
    {
     "name": "stderr",
     "output_type": "stream",
     "text": [
      "Training: 100%|██████████| 18964/18964 [00:54<00:00, 346.43it/s, Loss=2.08, rmse=0.816, R²=0.0294]\n",
      "Testing: 100%|██████████| 676/676 [00:01<00:00, 413.65it/s, Loss=0.759, R²=0.00996]\n"
     ]
    },
    {
     "name": "stdout",
     "output_type": "stream",
     "text": [
      "Train rmse: 0.81734, Train R2: 0.02939, Train loss: 2.08404\n",
      "Test loss: 0.79810, Test R2: 0.00973\n",
      "Model Saved - Epoch 11 - Test R2: 0.00973\n",
      "\n",
      "\n",
      "Epoch 12:\n"
     ]
    },
    {
     "name": "stderr",
     "output_type": "stream",
     "text": [
      "Training: 100%|██████████| 18964/18964 [00:52<00:00, 363.26it/s, Loss=2.08, rmse=0.815, R²=0.0314]\n",
      "Testing: 100%|██████████| 676/676 [00:01<00:00, 407.31it/s, Loss=0.759, R²=0.00966]\n"
     ]
    },
    {
     "name": "stdout",
     "output_type": "stream",
     "text": [
      "Train rmse: 0.81650, Train R2: 0.03138, Train loss: 2.08095\n",
      "Test loss: 0.79823, Test R2: 0.00942\n",
      "\n",
      "Epoch 13:\n"
     ]
    },
    {
     "name": "stderr",
     "output_type": "stream",
     "text": [
      "Training: 100%|██████████| 18964/18964 [00:55<00:00, 341.37it/s, Loss=2.08, rmse=0.814, R²=0.0342]\n",
      "Testing: 100%|██████████| 676/676 [00:01<00:00, 398.69it/s, Loss=0.759, R²=0.00987]\n"
     ]
    },
    {
     "name": "stdout",
     "output_type": "stream",
     "text": [
      "Train rmse: 0.81533, Train R2: 0.03416, Train loss: 2.07705\n",
      "Test loss: 0.79816, Test R2: 0.00959\n",
      "\n",
      "Epoch 14:\n"
     ]
    },
    {
     "name": "stderr",
     "output_type": "stream",
     "text": [
      "Training: 100%|██████████| 18964/18964 [00:56<00:00, 337.44it/s, Loss=2.07, rmse=0.812, R²=0.0384]\n",
      "Testing: 100%|██████████| 676/676 [00:01<00:00, 406.38it/s, Loss=0.759, R²=0.00911]\n"
     ]
    },
    {
     "name": "stdout",
     "output_type": "stream",
     "text": [
      "Train rmse: 0.81353, Train R2: 0.03841, Train loss: 2.07100\n",
      "Test loss: 0.79846, Test R2: 0.00884\n",
      "\n",
      "Epoch 15:\n"
     ]
    },
    {
     "name": "stderr",
     "output_type": "stream",
     "text": [
      "Training: 100%|██████████| 18964/18964 [00:56<00:00, 336.77it/s, Loss=2.06, rmse=0.81, R²=0.0438] \n",
      "Testing: 100%|██████████| 676/676 [00:01<00:00, 401.99it/s, Loss=0.76, R²=0.00826] \n"
     ]
    },
    {
     "name": "stdout",
     "output_type": "stream",
     "text": [
      "Train rmse: 0.81126, Train R2: 0.04379, Train loss: 2.06330\n",
      "Test loss: 0.79879, Test R2: 0.00803\n",
      "\n",
      "Best Epoch: 11, Best Test R2: 0.00973\n"
     ]
    },
    {
     "name": "stderr",
     "output_type": "stream",
     "text": [
      "/home/mt/miniconda3/envs/tabm/lib/python3.10/site-packages/wandb/sdk/lib/ipython.py:89: DeprecationWarning: Importing display from IPython.core.display is deprecated since IPython 7.14, please import from IPython display\n",
      "  from IPython.core.display import display\n"
     ]
    },
    {
     "data": {
      "application/vnd.jupyter.widget-view+json": {
       "model_id": "16b9717158514458b6e04afeb9cbbb04",
       "version_major": 2,
       "version_minor": 0
      },
      "text/plain": [
       "VBox(children=(Label(value='0.004 MB of 0.004 MB uploaded\\r'), FloatProgress(value=1.0, max=1.0)))"
      ]
     },
     "metadata": {},
     "output_type": "display_data"
    },
    {
     "name": "stderr",
     "output_type": "stream",
     "text": [
      "/home/mt/miniconda3/envs/tabm/lib/python3.10/site-packages/wandb/sdk/lib/ipython.py:77: DeprecationWarning: Importing display from IPython.core.display is deprecated since IPython 7.14, please import from IPython display\n",
      "  from IPython.core.display import HTML, display  # type: ignore\n"
     ]
    },
    {
     "data": {
      "text/html": [
       "<style>\n",
       "    table.wandb td:nth-child(1) { padding: 0 10px; text-align: left ; width: auto;} td:nth-child(2) {text-align: left ; width: 100%}\n",
       "    .wandb-row { display: flex; flex-direction: row; flex-wrap: wrap; justify-content: flex-start; width: 100% }\n",
       "    .wandb-col { display: flex; flex-direction: column; flex-basis: 100%; flex: 1; padding: 10px; }\n",
       "    </style>\n",
       "<div class=\"wandb-row\"><div class=\"wandb-col\"><h3>Run history:</h3><br/><table class=\"wandb\"><tr><td>epoch</td><td>▁▁▂▃▃▃▄▅▅▅▆▇▇▇█</td></tr><tr><td>test_loss</td><td>█▇▆▆▅▄▄▃▂▃▁▂▂▄▇</td></tr><tr><td>test_r2</td><td>▁▂▃▃▄▅▅▆▇▆█▇▇▅▂</td></tr><tr><td>train_loss</td><td>█▇▆▆▆▅▅▅▅▄▄▄▃▂▁</td></tr><tr><td>train_r2</td><td>▁▂▃▃▃▃▄▄▄▄▅▅▆▇█</td></tr><tr><td>train_rmse</td><td>█▇▆▆▆▆▅▅▅▅▄▄▃▂▁</td></tr></table><br/></div><div class=\"wandb-col\"><h3>Run summary:</h3><br/><table class=\"wandb\"><tr><td>best_test_r2</td><td>0.00973</td></tr><tr><td>best_train_r2</td><td>0.04379</td></tr><tr><td>epoch</td><td>15</td></tr><tr><td>test_loss</td><td>0.79879</td></tr><tr><td>test_r2</td><td>0.00803</td></tr><tr><td>train_loss</td><td>2.0633</td></tr><tr><td>train_r2</td><td>0.04379</td></tr><tr><td>train_rmse</td><td>0.81126</td></tr></table><br/></div></div>"
      ],
      "text/plain": [
       "<IPython.core.display.HTML object>"
      ]
     },
     "metadata": {},
     "output_type": "display_data"
    },
    {
     "data": {
      "text/html": [
       " View run <strong style=\"color:#cdcd00\">proud-sweep-40</strong> at: <a href='https://wandb.ai/turkenm/js_tabm/runs/uvfl69pg' target=\"_blank\">https://wandb.ai/turkenm/js_tabm/runs/uvfl69pg</a><br/> View project at: <a href='https://wandb.ai/turkenm/js_tabm' target=\"_blank\">https://wandb.ai/turkenm/js_tabm</a><br/>Synced 6 W&B file(s), 0 media file(s), 0 artifact file(s) and 0 other file(s)"
      ],
      "text/plain": [
       "<IPython.core.display.HTML object>"
      ]
     },
     "metadata": {},
     "output_type": "display_data"
    },
    {
     "data": {
      "text/html": [
       "Find logs at: <code>./wandb/run-20250112_230751-uvfl69pg/logs</code>"
      ],
      "text/plain": [
       "<IPython.core.display.HTML object>"
      ]
     },
     "metadata": {},
     "output_type": "display_data"
    },
    {
     "name": "stderr",
     "output_type": "stream",
     "text": [
      "\u001b[34m\u001b[1mwandb\u001b[0m: Agent Starting Run: jde7pmpz with config:\n",
      "\u001b[34m\u001b[1mwandb\u001b[0m: \td_block: 128\n",
      "\u001b[34m\u001b[1mwandb\u001b[0m: \tdrop_out: 0.15\n",
      "\u001b[34m\u001b[1mwandb\u001b[0m: \tlearning_rate: 0.0002\n",
      "\u001b[34m\u001b[1mwandb\u001b[0m: \tmodel_arch: tabm-mini\n",
      "\u001b[34m\u001b[1mwandb\u001b[0m: \tn_block: 3\n",
      "\u001b[34m\u001b[1mwandb\u001b[0m: \tn_k: 16\n",
      "\u001b[34m\u001b[1mwandb\u001b[0m: \tweight_decay: 0.0001\n",
      "Failed to detect the name of this notebook, you can set it manually with the WANDB_NOTEBOOK_NAME environment variable to enable code saving.\n",
      "/home/mt/miniconda3/envs/tabm/lib/python3.10/site-packages/wandb/sdk/wandb_setup.py:254: ResourceWarning: unclosed file <_io.TextIOWrapper name='/home/mt/Desktop/JaneStreet-Comp/wandb/sweep-mtpap5fv/config-jde7pmpz.yaml' mode='r' encoding='UTF-8'>\n",
      "  self._sweep_config = config_util.dict_from_config_file(\n",
      "ResourceWarning: Enable tracemalloc to get the object allocation traceback\n"
     ]
    },
    {
     "data": {
      "text/html": [
       "wandb version 0.19.2 is available!  To upgrade, please run:\n",
       " $ pip install wandb --upgrade"
      ],
      "text/plain": [
       "<IPython.core.display.HTML object>"
      ]
     },
     "metadata": {},
     "output_type": "display_data"
    },
    {
     "data": {
      "text/html": [
       "Tracking run with wandb version 0.16.6"
      ],
      "text/plain": [
       "<IPython.core.display.HTML object>"
      ]
     },
     "metadata": {},
     "output_type": "display_data"
    },
    {
     "data": {
      "text/html": [
       "Run data is saved locally in <code>/home/mt/Desktop/JaneStreet-Comp/wandb/run-20250112_232218-jde7pmpz</code>"
      ],
      "text/plain": [
       "<IPython.core.display.HTML object>"
      ]
     },
     "metadata": {},
     "output_type": "display_data"
    },
    {
     "data": {
      "text/html": [
       "Syncing run <strong><a href='https://wandb.ai/turkenm/js_tabm/runs/jde7pmpz' target=\"_blank\">chocolate-sweep-41</a></strong> to <a href='https://wandb.ai/turkenm/js_tabm' target=\"_blank\">Weights & Biases</a> (<a href='https://wandb.me/run' target=\"_blank\">docs</a>)<br/>Sweep page: <a href='https://wandb.ai/turkenm/js_tabm/sweeps/mtpap5fv' target=\"_blank\">https://wandb.ai/turkenm/js_tabm/sweeps/mtpap5fv</a>"
      ],
      "text/plain": [
       "<IPython.core.display.HTML object>"
      ]
     },
     "metadata": {},
     "output_type": "display_data"
    },
    {
     "data": {
      "text/html": [
       " View project at <a href='https://wandb.ai/turkenm/js_tabm' target=\"_blank\">https://wandb.ai/turkenm/js_tabm</a>"
      ],
      "text/plain": [
       "<IPython.core.display.HTML object>"
      ]
     },
     "metadata": {},
     "output_type": "display_data"
    },
    {
     "data": {
      "text/html": [
       " View sweep at <a href='https://wandb.ai/turkenm/js_tabm/sweeps/mtpap5fv' target=\"_blank\">https://wandb.ai/turkenm/js_tabm/sweeps/mtpap5fv</a>"
      ],
      "text/plain": [
       "<IPython.core.display.HTML object>"
      ]
     },
     "metadata": {},
     "output_type": "display_data"
    },
    {
     "data": {
      "text/html": [
       " View run at <a href='https://wandb.ai/turkenm/js_tabm/runs/jde7pmpz' target=\"_blank\">https://wandb.ai/turkenm/js_tabm/runs/jde7pmpz</a>"
      ],
      "text/plain": [
       "<IPython.core.display.HTML object>"
      ]
     },
     "metadata": {},
     "output_type": "display_data"
    },
    {
     "name": "stdout",
     "output_type": "stream",
     "text": [
      "EXPERIMENT exp_tabm-mini_dblocks_128_nblocks_3_LR_2e-04_BS_1024_DR_0.15_k_16_id_13340\n",
      "\n",
      "\n",
      "Epoch 1:\n"
     ]
    },
    {
     "name": "stderr",
     "output_type": "stream",
     "text": [
      "Training: 100%|██████████| 18964/18964 [00:34<00:00, 549.25it/s, Loss=2.11, rmse=0.822, R²=0.0153]\n",
      "Testing: 100%|██████████| 676/676 [00:01<00:00, 673.24it/s, Loss=0.76, R²=0.00828] \n"
     ]
    },
    {
     "name": "stdout",
     "output_type": "stream",
     "text": [
      "Train rmse: 0.82322, Train R2: 0.01538, Train loss: 2.10522\n",
      "Test loss: 0.79876, Test R2: 0.00810\n",
      "Model Saved - Epoch 1 - Test R2: 0.00810\n",
      "\n",
      "\n",
      "Epoch 2:\n"
     ]
    },
    {
     "name": "stderr",
     "output_type": "stream",
     "text": [
      "Training: 100%|██████████| 18964/18964 [00:34<00:00, 544.12it/s, Loss=2.1, rmse=0.82, R²=0.0212] \n",
      "Testing: 100%|██████████| 676/676 [00:01<00:00, 664.60it/s, Loss=0.76, R²=0.00891] \n"
     ]
    },
    {
     "name": "stdout",
     "output_type": "stream",
     "text": [
      "Train rmse: 0.82076, Train R2: 0.02125, Train loss: 2.09574\n",
      "Test loss: 0.79852, Test R2: 0.00868\n",
      "Model Saved - Epoch 2 - Test R2: 0.00868\n",
      "\n",
      "\n",
      "Epoch 3:\n"
     ]
    },
    {
     "name": "stderr",
     "output_type": "stream",
     "text": [
      "Training: 100%|██████████| 18964/18964 [00:34<00:00, 543.17it/s, Loss=2.09, rmse=0.819, R²=0.0234]\n",
      "Testing: 100%|██████████| 676/676 [00:01<00:00, 672.12it/s, Loss=0.759, R²=0.00902]\n"
     ]
    },
    {
     "name": "stdout",
     "output_type": "stream",
     "text": [
      "Train rmse: 0.81987, Train R2: 0.02338, Train loss: 2.09263\n",
      "Test loss: 0.79847, Test R2: 0.00882\n",
      "Model Saved - Epoch 3 - Test R2: 0.00882\n",
      "\n",
      "\n",
      "Epoch 4:\n"
     ]
    },
    {
     "name": "stderr",
     "output_type": "stream",
     "text": [
      "Training:   7%|▋         | 1253/18964 [00:02<00:30, 583.67it/s, Loss=2.09, rmse=0.818, R²=0.0252]/home/mt/miniconda3/envs/tabm/lib/python3.10/site-packages/torch/nn/functional.py:1425: ResourceWarning: unclosed <socket.socket fd=111, family=AddressFamily.AF_INET, type=SocketKind.SOCK_STREAM, proto=0, laddr=('127.0.0.1', 53810), raddr=('127.0.0.1', 34547)>\n",
      "  _VF.dropout_(input, p, training) if inplace else _VF.dropout(input, p, training)\n",
      "ResourceWarning: Enable tracemalloc to get the object allocation traceback\n",
      "Training: 100%|██████████| 18964/18964 [00:34<00:00, 547.00it/s, Loss=2.09, rmse=0.818, R²=0.0248]\n",
      "Testing: 100%|██████████| 676/676 [00:01<00:00, 666.47it/s, Loss=0.76, R²=0.00896] \n"
     ]
    },
    {
     "name": "stdout",
     "output_type": "stream",
     "text": [
      "Train rmse: 0.81926, Train R2: 0.02482, Train loss: 2.09069\n",
      "Test loss: 0.79849, Test R2: 0.00877\n",
      "\n",
      "Epoch 5:\n"
     ]
    },
    {
     "name": "stderr",
     "output_type": "stream",
     "text": [
      "Training: 100%|██████████| 18964/18964 [00:34<00:00, 542.01it/s, Loss=2.09, rmse=0.818, R²=0.026] \n",
      "Testing: 100%|██████████| 676/676 [00:01<00:00, 657.43it/s, Loss=0.76, R²=0.00895] \n"
     ]
    },
    {
     "name": "stdout",
     "output_type": "stream",
     "text": [
      "Train rmse: 0.81877, Train R2: 0.02600, Train loss: 2.08900\n",
      "Test loss: 0.79849, Test R2: 0.00878\n",
      "\n",
      "Epoch 6:\n"
     ]
    },
    {
     "name": "stderr",
     "output_type": "stream",
     "text": [
      "Training: 100%|██████████| 18964/18964 [00:34<00:00, 542.17it/s, Loss=2.09, rmse=0.817, R²=0.0269]\n",
      "Testing: 100%|██████████| 676/676 [00:01<00:00, 672.73it/s, Loss=0.759, R²=0.00944]\n"
     ]
    },
    {
     "name": "stdout",
     "output_type": "stream",
     "text": [
      "Train rmse: 0.81838, Train R2: 0.02692, Train loss: 2.08769\n",
      "Test loss: 0.79831, Test R2: 0.00921\n",
      "Model Saved - Epoch 6 - Test R2: 0.00921\n",
      "\n",
      "\n",
      "Epoch 7:\n"
     ]
    },
    {
     "name": "stderr",
     "output_type": "stream",
     "text": [
      "Training: 100%|██████████| 18964/18964 [00:34<00:00, 547.29it/s, Loss=2.09, rmse=0.817, R²=0.0279]\n",
      "Testing: 100%|██████████| 676/676 [00:01<00:00, 667.66it/s, Loss=0.759, R²=0.00946]\n"
     ]
    },
    {
     "name": "stdout",
     "output_type": "stream",
     "text": [
      "Train rmse: 0.81799, Train R2: 0.02785, Train loss: 2.08634\n",
      "Test loss: 0.79831, Test R2: 0.00921\n",
      "Model Saved - Epoch 7 - Test R2: 0.00921\n",
      "\n",
      "\n",
      "Epoch 8:\n"
     ]
    },
    {
     "name": "stderr",
     "output_type": "stream",
     "text": [
      "Training: 100%|██████████| 18964/18964 [00:34<00:00, 545.28it/s, Loss=2.08, rmse=0.817, R²=0.0287]\n",
      "Testing: 100%|██████████| 676/676 [00:01<00:00, 661.06it/s, Loss=0.759, R²=0.00925]\n"
     ]
    },
    {
     "name": "stdout",
     "output_type": "stream",
     "text": [
      "Train rmse: 0.81764, Train R2: 0.02868, Train loss: 2.08507\n",
      "Test loss: 0.79838, Test R2: 0.00903\n",
      "\n",
      "Epoch 9:\n"
     ]
    },
    {
     "name": "stderr",
     "output_type": "stream",
     "text": [
      "Training: 100%|██████████| 18964/18964 [00:34<00:00, 544.62it/s, Loss=2.08, rmse=0.816, R²=0.0294]\n",
      "Testing: 100%|██████████| 676/676 [00:01<00:00, 668.18it/s, Loss=0.759, R²=0.0101] \n"
     ]
    },
    {
     "name": "stdout",
     "output_type": "stream",
     "text": [
      "Train rmse: 0.81733, Train R2: 0.02942, Train loss: 2.08384\n",
      "Test loss: 0.79809, Test R2: 0.00975\n",
      "Model Saved - Epoch 9 - Test R2: 0.00975\n",
      "\n",
      "\n",
      "Epoch 10:\n"
     ]
    },
    {
     "name": "stderr",
     "output_type": "stream",
     "text": [
      "Training: 100%|██████████| 18964/18964 [00:34<00:00, 550.86it/s, Loss=2.08, rmse=0.816, R²=0.0301]\n",
      "Testing: 100%|██████████| 676/676 [00:01<00:00, 668.51it/s, Loss=0.759, R²=0.00993]\n"
     ]
    },
    {
     "name": "stdout",
     "output_type": "stream",
     "text": [
      "Train rmse: 0.81704, Train R2: 0.03011, Train loss: 2.08268\n",
      "Test loss: 0.79812, Test R2: 0.00968\n",
      "\n",
      "Epoch 11:\n"
     ]
    },
    {
     "name": "stderr",
     "output_type": "stream",
     "text": [
      "Training: 100%|██████████| 18964/18964 [00:34<00:00, 547.04it/s, Loss=2.08, rmse=0.816, R²=0.0307]\n",
      "Testing: 100%|██████████| 676/676 [00:01<00:00, 663.22it/s, Loss=0.759, R²=0.00965]\n"
     ]
    },
    {
     "name": "stdout",
     "output_type": "stream",
     "text": [
      "Train rmse: 0.81678, Train R2: 0.03073, Train loss: 2.08179\n",
      "Test loss: 0.79823, Test R2: 0.00941\n",
      "\n",
      "Epoch 12:\n"
     ]
    },
    {
     "name": "stderr",
     "output_type": "stream",
     "text": [
      "Training: 100%|██████████| 18964/18964 [00:34<00:00, 550.00it/s, Loss=2.08, rmse=0.815, R²=0.0314]\n",
      "Testing: 100%|██████████| 676/676 [00:01<00:00, 667.78it/s, Loss=0.759, R²=0.0101] \n"
     ]
    },
    {
     "name": "stdout",
     "output_type": "stream",
     "text": [
      "Train rmse: 0.81650, Train R2: 0.03139, Train loss: 2.08080\n",
      "Test loss: 0.79807, Test R2: 0.00982\n",
      "Model Saved - Epoch 12 - Test R2: 0.00982\n",
      "\n",
      "\n",
      "Epoch 13:\n"
     ]
    },
    {
     "name": "stderr",
     "output_type": "stream",
     "text": [
      "Training: 100%|██████████| 18964/18964 [00:34<00:00, 550.72it/s, Loss=2.08, rmse=0.815, R²=0.0323]\n",
      "Testing: 100%|██████████| 676/676 [00:01<00:00, 671.68it/s, Loss=0.759, R²=0.00981]\n"
     ]
    },
    {
     "name": "stdout",
     "output_type": "stream",
     "text": [
      "Train rmse: 0.81611, Train R2: 0.03230, Train loss: 2.07952\n",
      "Test loss: 0.79816, Test R2: 0.00958\n",
      "\n",
      "Epoch 14:\n"
     ]
    },
    {
     "name": "stderr",
     "output_type": "stream",
     "text": [
      "Training: 100%|██████████| 18964/18964 [00:34<00:00, 546.17it/s, Loss=2.08, rmse=0.815, R²=0.0333]\n",
      "Testing: 100%|██████████| 676/676 [00:01<00:00, 659.63it/s, Loss=0.759, R²=0.00948]\n"
     ]
    },
    {
     "name": "stdout",
     "output_type": "stream",
     "text": [
      "Train rmse: 0.81569, Train R2: 0.03330, Train loss: 2.07837\n",
      "Test loss: 0.79832, Test R2: 0.00920\n",
      "\n",
      "Epoch 15:\n"
     ]
    },
    {
     "name": "stderr",
     "output_type": "stream",
     "text": [
      "Training: 100%|██████████| 18964/18964 [00:34<00:00, 546.97it/s, Loss=2.08, rmse=0.814, R²=0.0342]\n",
      "Testing: 100%|██████████| 676/676 [00:01<00:00, 669.19it/s, Loss=0.759, R²=0.00949]\n"
     ]
    },
    {
     "name": "stdout",
     "output_type": "stream",
     "text": [
      "Train rmse: 0.81529, Train R2: 0.03424, Train loss: 2.07705\n",
      "Test loss: 0.79828, Test R2: 0.00929\n",
      "\n",
      "Best Epoch: 12, Best Test R2: 0.00982\n"
     ]
    },
    {
     "name": "stderr",
     "output_type": "stream",
     "text": [
      "/home/mt/miniconda3/envs/tabm/lib/python3.10/site-packages/wandb/sdk/lib/ipython.py:89: DeprecationWarning: Importing display from IPython.core.display is deprecated since IPython 7.14, please import from IPython display\n",
      "  from IPython.core.display import display\n"
     ]
    },
    {
     "data": {
      "application/vnd.jupyter.widget-view+json": {
       "model_id": "2fc84737b8ad41eba7a6d1ff9c559265",
       "version_major": 2,
       "version_minor": 0
      },
      "text/plain": [
       "VBox(children=(Label(value='0.004 MB of 0.004 MB uploaded\\r'), FloatProgress(value=1.0, max=1.0)))"
      ]
     },
     "metadata": {},
     "output_type": "display_data"
    },
    {
     "name": "stderr",
     "output_type": "stream",
     "text": [
      "/home/mt/miniconda3/envs/tabm/lib/python3.10/site-packages/wandb/sdk/lib/ipython.py:77: DeprecationWarning: Importing display from IPython.core.display is deprecated since IPython 7.14, please import from IPython display\n",
      "  from IPython.core.display import HTML, display  # type: ignore\n"
     ]
    },
    {
     "data": {
      "text/html": [
       "<style>\n",
       "    table.wandb td:nth-child(1) { padding: 0 10px; text-align: left ; width: auto;} td:nth-child(2) {text-align: left ; width: 100%}\n",
       "    .wandb-row { display: flex; flex-direction: row; flex-wrap: wrap; justify-content: flex-start; width: 100% }\n",
       "    .wandb-col { display: flex; flex-direction: column; flex-basis: 100%; flex: 1; padding: 10px; }\n",
       "    </style>\n",
       "<div class=\"wandb-row\"><div class=\"wandb-col\"><h3>Run history:</h3><br/><table class=\"wandb\"><tr><td>epoch</td><td>▁▁▂▃▃▃▄▅▅▅▆▇▇▇█</td></tr><tr><td>test_loss</td><td>█▆▅▅▅▃▃▄▁▂▃▁▂▄▃</td></tr><tr><td>test_r2</td><td>▁▃▄▄▄▆▆▅█▇▆█▇▅▆</td></tr><tr><td>train_loss</td><td>█▆▅▄▄▄▃▃▃▂▂▂▂▁▁</td></tr><tr><td>train_r2</td><td>▁▃▄▅▅▅▆▆▆▆▇▇▇██</td></tr><tr><td>train_rmse</td><td>█▆▅▅▄▄▃▃▃▃▂▂▂▁▁</td></tr></table><br/></div><div class=\"wandb-col\"><h3>Run summary:</h3><br/><table class=\"wandb\"><tr><td>best_test_r2</td><td>0.00982</td></tr><tr><td>best_train_r2</td><td>0.03424</td></tr><tr><td>epoch</td><td>15</td></tr><tr><td>test_loss</td><td>0.79828</td></tr><tr><td>test_r2</td><td>0.00929</td></tr><tr><td>train_loss</td><td>2.07705</td></tr><tr><td>train_r2</td><td>0.03424</td></tr><tr><td>train_rmse</td><td>0.81529</td></tr></table><br/></div></div>"
      ],
      "text/plain": [
       "<IPython.core.display.HTML object>"
      ]
     },
     "metadata": {},
     "output_type": "display_data"
    },
    {
     "data": {
      "text/html": [
       " View run <strong style=\"color:#cdcd00\">chocolate-sweep-41</strong> at: <a href='https://wandb.ai/turkenm/js_tabm/runs/jde7pmpz' target=\"_blank\">https://wandb.ai/turkenm/js_tabm/runs/jde7pmpz</a><br/> View project at: <a href='https://wandb.ai/turkenm/js_tabm' target=\"_blank\">https://wandb.ai/turkenm/js_tabm</a><br/>Synced 6 W&B file(s), 0 media file(s), 0 artifact file(s) and 0 other file(s)"
      ],
      "text/plain": [
       "<IPython.core.display.HTML object>"
      ]
     },
     "metadata": {},
     "output_type": "display_data"
    },
    {
     "data": {
      "text/html": [
       "Find logs at: <code>./wandb/run-20250112_232218-jde7pmpz/logs</code>"
      ],
      "text/plain": [
       "<IPython.core.display.HTML object>"
      ]
     },
     "metadata": {},
     "output_type": "display_data"
    },
    {
     "name": "stderr",
     "output_type": "stream",
     "text": [
      "\u001b[34m\u001b[1mwandb\u001b[0m: Sweep Agent: Waiting for job.\n",
      "\u001b[34m\u001b[1mwandb\u001b[0m: Job received.\n",
      "\u001b[34m\u001b[1mwandb\u001b[0m: Agent Starting Run: c36h90pa with config:\n",
      "\u001b[34m\u001b[1mwandb\u001b[0m: \td_block: 128\n",
      "\u001b[34m\u001b[1mwandb\u001b[0m: \tdrop_out: 0.15\n",
      "\u001b[34m\u001b[1mwandb\u001b[0m: \tlearning_rate: 0.0002\n",
      "\u001b[34m\u001b[1mwandb\u001b[0m: \tmodel_arch: tabm-mini\n",
      "\u001b[34m\u001b[1mwandb\u001b[0m: \tn_block: 3\n",
      "\u001b[34m\u001b[1mwandb\u001b[0m: \tn_k: 16\n",
      "\u001b[34m\u001b[1mwandb\u001b[0m: \tweight_decay: 0.0002\n",
      "Failed to detect the name of this notebook, you can set it manually with the WANDB_NOTEBOOK_NAME environment variable to enable code saving.\n",
      "/home/mt/miniconda3/envs/tabm/lib/python3.10/site-packages/wandb/sdk/wandb_setup.py:254: ResourceWarning: unclosed file <_io.TextIOWrapper name='/home/mt/Desktop/JaneStreet-Comp/wandb/sweep-mtpap5fv/config-c36h90pa.yaml' mode='r' encoding='UTF-8'>\n",
      "  self._sweep_config = config_util.dict_from_config_file(\n",
      "ResourceWarning: Enable tracemalloc to get the object allocation traceback\n"
     ]
    },
    {
     "data": {
      "text/html": [
       "wandb version 0.19.2 is available!  To upgrade, please run:\n",
       " $ pip install wandb --upgrade"
      ],
      "text/plain": [
       "<IPython.core.display.HTML object>"
      ]
     },
     "metadata": {},
     "output_type": "display_data"
    },
    {
     "data": {
      "text/html": [
       "Tracking run with wandb version 0.16.6"
      ],
      "text/plain": [
       "<IPython.core.display.HTML object>"
      ]
     },
     "metadata": {},
     "output_type": "display_data"
    },
    {
     "data": {
      "text/html": [
       "Run data is saved locally in <code>/home/mt/Desktop/JaneStreet-Comp/wandb/run-20250112_233137-c36h90pa</code>"
      ],
      "text/plain": [
       "<IPython.core.display.HTML object>"
      ]
     },
     "metadata": {},
     "output_type": "display_data"
    },
    {
     "data": {
      "text/html": [
       "Syncing run <strong><a href='https://wandb.ai/turkenm/js_tabm/runs/c36h90pa' target=\"_blank\">stellar-sweep-42</a></strong> to <a href='https://wandb.ai/turkenm/js_tabm' target=\"_blank\">Weights & Biases</a> (<a href='https://wandb.me/run' target=\"_blank\">docs</a>)<br/>Sweep page: <a href='https://wandb.ai/turkenm/js_tabm/sweeps/mtpap5fv' target=\"_blank\">https://wandb.ai/turkenm/js_tabm/sweeps/mtpap5fv</a>"
      ],
      "text/plain": [
       "<IPython.core.display.HTML object>"
      ]
     },
     "metadata": {},
     "output_type": "display_data"
    },
    {
     "data": {
      "text/html": [
       " View project at <a href='https://wandb.ai/turkenm/js_tabm' target=\"_blank\">https://wandb.ai/turkenm/js_tabm</a>"
      ],
      "text/plain": [
       "<IPython.core.display.HTML object>"
      ]
     },
     "metadata": {},
     "output_type": "display_data"
    },
    {
     "data": {
      "text/html": [
       " View sweep at <a href='https://wandb.ai/turkenm/js_tabm/sweeps/mtpap5fv' target=\"_blank\">https://wandb.ai/turkenm/js_tabm/sweeps/mtpap5fv</a>"
      ],
      "text/plain": [
       "<IPython.core.display.HTML object>"
      ]
     },
     "metadata": {},
     "output_type": "display_data"
    },
    {
     "data": {
      "text/html": [
       " View run at <a href='https://wandb.ai/turkenm/js_tabm/runs/c36h90pa' target=\"_blank\">https://wandb.ai/turkenm/js_tabm/runs/c36h90pa</a>"
      ],
      "text/plain": [
       "<IPython.core.display.HTML object>"
      ]
     },
     "metadata": {},
     "output_type": "display_data"
    },
    {
     "name": "stdout",
     "output_type": "stream",
     "text": [
      "EXPERIMENT exp_tabm-mini_dblocks_128_nblocks_3_LR_2e-04_BS_1024_DR_0.15_k_16_id_13900\n",
      "\n",
      "\n",
      "Epoch 1:\n"
     ]
    },
    {
     "name": "stderr",
     "output_type": "stream",
     "text": [
      "Training: 100%|██████████| 18964/18964 [00:34<00:00, 550.79it/s, Loss=2.11, rmse=0.822, R²=0.0152]\n",
      "Testing: 100%|██████████| 676/676 [00:01<00:00, 673.57it/s, Loss=0.76, R²=0.00868] \n"
     ]
    },
    {
     "name": "stdout",
     "output_type": "stream",
     "text": [
      "Train rmse: 0.82329, Train R2: 0.01521, Train loss: 2.10553\n",
      "Test loss: 0.79862, Test R2: 0.00845\n",
      "Model Saved - Epoch 1 - Test R2: 0.00845\n",
      "\n",
      "\n",
      "Epoch 2:\n"
     ]
    },
    {
     "name": "stderr",
     "output_type": "stream",
     "text": [
      "Training: 100%|██████████| 18964/18964 [00:34<00:00, 550.54it/s, Loss=2.1, rmse=0.82, R²=0.0212] \n",
      "Testing: 100%|██████████| 676/676 [00:01<00:00, 673.58it/s, Loss=0.76, R²=0.00875] \n"
     ]
    },
    {
     "name": "stdout",
     "output_type": "stream",
     "text": [
      "Train rmse: 0.82077, Train R2: 0.02124, Train loss: 2.09584\n",
      "Test loss: 0.79858, Test R2: 0.00854\n",
      "Model Saved - Epoch 2 - Test R2: 0.00854\n",
      "\n",
      "\n",
      "Epoch 3:\n"
     ]
    },
    {
     "name": "stderr",
     "output_type": "stream",
     "text": [
      "Training: 100%|██████████| 18964/18964 [00:34<00:00, 548.59it/s, Loss=2.09, rmse=0.819, R²=0.0234]\n",
      "Testing: 100%|██████████| 676/676 [00:01<00:00, 667.96it/s, Loss=0.76, R²=0.00884] \n"
     ]
    },
    {
     "name": "stdout",
     "output_type": "stream",
     "text": [
      "Train rmse: 0.81986, Train R2: 0.02340, Train loss: 2.09269\n",
      "Test loss: 0.79852, Test R2: 0.00869\n",
      "Model Saved - Epoch 3 - Test R2: 0.00869\n",
      "\n",
      "\n",
      "Epoch 4:\n"
     ]
    },
    {
     "name": "stderr",
     "output_type": "stream",
     "text": [
      "Training:   3%|▎         | 594/18964 [00:01<00:31, 589.60it/s, Loss=2.08, rmse=0.817, R²=0.0248]/home/mt/miniconda3/envs/tabm/lib/python3.10/site-packages/torch/nn/functional.py:1425: ResourceWarning: unclosed <socket.socket fd=108, family=AddressFamily.AF_INET, type=SocketKind.SOCK_STREAM, proto=0, laddr=('127.0.0.1', 60944), raddr=('127.0.0.1', 58351)>\n",
      "  _VF.dropout_(input, p, training) if inplace else _VF.dropout(input, p, training)\n",
      "ResourceWarning: Enable tracemalloc to get the object allocation traceback\n",
      "Training: 100%|██████████| 18964/18964 [00:34<00:00, 547.12it/s, Loss=2.09, rmse=0.818, R²=0.0248]\n",
      "Testing: 100%|██████████| 676/676 [00:01<00:00, 667.75it/s, Loss=0.76, R²=0.00906] \n"
     ]
    },
    {
     "name": "stdout",
     "output_type": "stream",
     "text": [
      "Train rmse: 0.81928, Train R2: 0.02479, Train loss: 2.09072\n",
      "Test loss: 0.79845, Test R2: 0.00887\n",
      "Model Saved - Epoch 4 - Test R2: 0.00887\n",
      "\n",
      "\n",
      "Epoch 5:\n"
     ]
    },
    {
     "name": "stderr",
     "output_type": "stream",
     "text": [
      "Training: 100%|██████████| 18964/18964 [00:34<00:00, 548.53it/s, Loss=2.09, rmse=0.818, R²=0.0258]\n",
      "Testing: 100%|██████████| 676/676 [00:01<00:00, 672.14it/s, Loss=0.76, R²=0.00925] \n"
     ]
    },
    {
     "name": "stdout",
     "output_type": "stream",
     "text": [
      "Train rmse: 0.81885, Train R2: 0.02581, Train loss: 2.08933\n",
      "Test loss: 0.79839, Test R2: 0.00903\n",
      "Model Saved - Epoch 5 - Test R2: 0.00903\n",
      "\n",
      "\n",
      "Epoch 6:\n"
     ]
    },
    {
     "name": "stderr",
     "output_type": "stream",
     "text": [
      "Training: 100%|██████████| 18964/18964 [00:34<00:00, 550.87it/s, Loss=2.09, rmse=0.817, R²=0.0266]\n",
      "Testing: 100%|██████████| 676/676 [00:01<00:00, 672.53it/s, Loss=0.759, R²=0.00926]\n"
     ]
    },
    {
     "name": "stdout",
     "output_type": "stream",
     "text": [
      "Train rmse: 0.81850, Train R2: 0.02663, Train loss: 2.08819\n",
      "Test loss: 0.79839, Test R2: 0.00901\n",
      "\n",
      "Epoch 7:\n"
     ]
    },
    {
     "name": "stderr",
     "output_type": "stream",
     "text": [
      "Training: 100%|██████████| 18964/18964 [00:34<00:00, 548.70it/s, Loss=2.09, rmse=0.817, R²=0.0274]\n",
      "Testing: 100%|██████████| 676/676 [00:01<00:00, 670.90it/s, Loss=0.759, R²=0.00928]\n"
     ]
    },
    {
     "name": "stdout",
     "output_type": "stream",
     "text": [
      "Train rmse: 0.81819, Train R2: 0.02738, Train loss: 2.08711\n",
      "Test loss: 0.79838, Test R2: 0.00904\n",
      "Model Saved - Epoch 7 - Test R2: 0.00904\n",
      "\n",
      "\n",
      "Epoch 8:\n"
     ]
    },
    {
     "name": "stderr",
     "output_type": "stream",
     "text": [
      "Training: 100%|██████████| 18964/18964 [00:34<00:00, 549.94it/s, Loss=2.09, rmse=0.817, R²=0.028] \n",
      "Testing: 100%|██████████| 676/676 [00:01<00:00, 670.30it/s, Loss=0.759, R²=0.0098] \n"
     ]
    },
    {
     "name": "stdout",
     "output_type": "stream",
     "text": [
      "Train rmse: 0.81791, Train R2: 0.02804, Train loss: 2.08613\n",
      "Test loss: 0.79819, Test R2: 0.00953\n",
      "Model Saved - Epoch 8 - Test R2: 0.00953\n",
      "\n",
      "\n",
      "Epoch 9:\n"
     ]
    },
    {
     "name": "stderr",
     "output_type": "stream",
     "text": [
      "Training: 100%|██████████| 18964/18964 [00:34<00:00, 549.96it/s, Loss=2.08, rmse=0.816, R²=0.0288]\n",
      "Testing: 100%|██████████| 676/676 [00:01<00:00, 671.31it/s, Loss=0.759, R²=0.0097] \n"
     ]
    },
    {
     "name": "stdout",
     "output_type": "stream",
     "text": [
      "Train rmse: 0.81759, Train R2: 0.02881, Train loss: 2.08514\n",
      "Test loss: 0.79822, Test R2: 0.00944\n",
      "\n",
      "Epoch 10:\n"
     ]
    },
    {
     "name": "stderr",
     "output_type": "stream",
     "text": [
      "Training: 100%|██████████| 18964/18964 [00:34<00:00, 551.20it/s, Loss=2.08, rmse=0.816, R²=0.0295]\n",
      "Testing: 100%|██████████| 676/676 [00:01<00:00, 674.01it/s, Loss=0.759, R²=0.00992]\n"
     ]
    },
    {
     "name": "stdout",
     "output_type": "stream",
     "text": [
      "Train rmse: 0.81731, Train R2: 0.02948, Train loss: 2.08419\n",
      "Test loss: 0.79814, Test R2: 0.00964\n",
      "Model Saved - Epoch 10 - Test R2: 0.00964\n",
      "\n",
      "\n",
      "Epoch 11:\n"
     ]
    },
    {
     "name": "stderr",
     "output_type": "stream",
     "text": [
      "Training: 100%|██████████| 18964/18964 [00:34<00:00, 549.16it/s, Loss=2.08, rmse=0.816, R²=0.0301]\n",
      "Testing: 100%|██████████| 676/676 [00:01<00:00, 670.39it/s, Loss=0.759, R²=0.00967]\n"
     ]
    },
    {
     "name": "stdout",
     "output_type": "stream",
     "text": [
      "Train rmse: 0.81704, Train R2: 0.03010, Train loss: 2.08328\n",
      "Test loss: 0.79822, Test R2: 0.00944\n",
      "\n",
      "Epoch 12:\n"
     ]
    },
    {
     "name": "stderr",
     "output_type": "stream",
     "text": [
      "Training: 100%|██████████| 18964/18964 [00:34<00:00, 549.16it/s, Loss=2.08, rmse=0.816, R²=0.0308]\n",
      "Testing: 100%|██████████| 676/676 [00:01<00:00, 671.86it/s, Loss=0.759, R²=0.00994]\n"
     ]
    },
    {
     "name": "stdout",
     "output_type": "stream",
     "text": [
      "Train rmse: 0.81675, Train R2: 0.03079, Train loss: 2.08234\n",
      "Test loss: 0.79814, Test R2: 0.00963\n",
      "\n",
      "Epoch 13:\n"
     ]
    },
    {
     "name": "stderr",
     "output_type": "stream",
     "text": [
      "Training: 100%|██████████| 18964/18964 [00:34<00:00, 549.68it/s, Loss=2.08, rmse=0.815, R²=0.0314]\n",
      "Testing: 100%|██████████| 676/676 [00:01<00:00, 670.69it/s, Loss=0.759, R²=0.00975]\n"
     ]
    },
    {
     "name": "stdout",
     "output_type": "stream",
     "text": [
      "Train rmse: 0.81650, Train R2: 0.03138, Train loss: 2.08144\n",
      "Test loss: 0.79820, Test R2: 0.00949\n",
      "\n",
      "Epoch 14:\n"
     ]
    },
    {
     "name": "stderr",
     "output_type": "stream",
     "text": [
      "Training: 100%|██████████| 18964/18964 [00:34<00:00, 547.36it/s, Loss=2.08, rmse=0.815, R²=0.032] \n",
      "Testing: 100%|██████████| 676/676 [00:01<00:00, 668.27it/s, Loss=0.759, R²=0.00991]\n"
     ]
    },
    {
     "name": "stdout",
     "output_type": "stream",
     "text": [
      "Train rmse: 0.81623, Train R2: 0.03202, Train loss: 2.08043\n",
      "Test loss: 0.79815, Test R2: 0.00960\n",
      "\n",
      "Epoch 15:\n"
     ]
    },
    {
     "name": "stderr",
     "output_type": "stream",
     "text": [
      "Training: 100%|██████████| 18964/18964 [00:34<00:00, 549.95it/s, Loss=2.08, rmse=0.815, R²=0.0328]\n",
      "Testing: 100%|██████████| 676/676 [00:01<00:00, 668.75it/s, Loss=0.759, R²=0.0097] \n"
     ]
    },
    {
     "name": "stdout",
     "output_type": "stream",
     "text": [
      "Train rmse: 0.81591, Train R2: 0.03278, Train loss: 2.07930\n",
      "Test loss: 0.79821, Test R2: 0.00946\n",
      "\n",
      "Best Epoch: 10, Best Test R2: 0.00964\n"
     ]
    },
    {
     "name": "stderr",
     "output_type": "stream",
     "text": [
      "/home/mt/miniconda3/envs/tabm/lib/python3.10/site-packages/wandb/sdk/lib/ipython.py:89: DeprecationWarning: Importing display from IPython.core.display is deprecated since IPython 7.14, please import from IPython display\n",
      "  from IPython.core.display import display\n"
     ]
    },
    {
     "data": {
      "application/vnd.jupyter.widget-view+json": {
       "model_id": "29a97bf81f984c81a121dac13cdac07f",
       "version_major": 2,
       "version_minor": 0
      },
      "text/plain": [
       "VBox(children=(Label(value='0.004 MB of 0.004 MB uploaded\\r'), FloatProgress(value=1.0, max=1.0)))"
      ]
     },
     "metadata": {},
     "output_type": "display_data"
    },
    {
     "name": "stderr",
     "output_type": "stream",
     "text": [
      "/home/mt/miniconda3/envs/tabm/lib/python3.10/site-packages/wandb/sdk/lib/ipython.py:77: DeprecationWarning: Importing display from IPython.core.display is deprecated since IPython 7.14, please import from IPython display\n",
      "  from IPython.core.display import HTML, display  # type: ignore\n"
     ]
    },
    {
     "data": {
      "text/html": [
       "<style>\n",
       "    table.wandb td:nth-child(1) { padding: 0 10px; text-align: left ; width: auto;} td:nth-child(2) {text-align: left ; width: 100%}\n",
       "    .wandb-row { display: flex; flex-direction: row; flex-wrap: wrap; justify-content: flex-start; width: 100% }\n",
       "    .wandb-col { display: flex; flex-direction: column; flex-basis: 100%; flex: 1; padding: 10px; }\n",
       "    </style>\n",
       "<div class=\"wandb-row\"><div class=\"wandb-col\"><h3>Run history:</h3><br/><table class=\"wandb\"><tr><td>epoch</td><td>▁▁▂▃▃▃▄▅▅▅▆▇▇▇█</td></tr><tr><td>test_loss</td><td>██▇▆▅▅▅▂▂▁▂▁▂▁▂</td></tr><tr><td>test_r2</td><td>▁▁▂▃▄▄▄▇▇█▇█▇█▇</td></tr><tr><td>train_loss</td><td>█▅▅▄▄▃▃▃▃▂▂▂▂▁▁</td></tr><tr><td>train_r2</td><td>▁▃▄▅▅▆▆▆▆▇▇▇▇██</td></tr><tr><td>train_rmse</td><td>█▆▅▄▄▃▃▃▃▂▂▂▂▁▁</td></tr></table><br/></div><div class=\"wandb-col\"><h3>Run summary:</h3><br/><table class=\"wandb\"><tr><td>best_test_r2</td><td>0.00964</td></tr><tr><td>best_train_r2</td><td>0.03278</td></tr><tr><td>epoch</td><td>15</td></tr><tr><td>test_loss</td><td>0.79821</td></tr><tr><td>test_r2</td><td>0.00946</td></tr><tr><td>train_loss</td><td>2.0793</td></tr><tr><td>train_r2</td><td>0.03278</td></tr><tr><td>train_rmse</td><td>0.81591</td></tr></table><br/></div></div>"
      ],
      "text/plain": [
       "<IPython.core.display.HTML object>"
      ]
     },
     "metadata": {},
     "output_type": "display_data"
    },
    {
     "data": {
      "text/html": [
       " View run <strong style=\"color:#cdcd00\">stellar-sweep-42</strong> at: <a href='https://wandb.ai/turkenm/js_tabm/runs/c36h90pa' target=\"_blank\">https://wandb.ai/turkenm/js_tabm/runs/c36h90pa</a><br/> View project at: <a href='https://wandb.ai/turkenm/js_tabm' target=\"_blank\">https://wandb.ai/turkenm/js_tabm</a><br/>Synced 6 W&B file(s), 0 media file(s), 0 artifact file(s) and 0 other file(s)"
      ],
      "text/plain": [
       "<IPython.core.display.HTML object>"
      ]
     },
     "metadata": {},
     "output_type": "display_data"
    },
    {
     "data": {
      "text/html": [
       "Find logs at: <code>./wandb/run-20250112_233137-c36h90pa/logs</code>"
      ],
      "text/plain": [
       "<IPython.core.display.HTML object>"
      ]
     },
     "metadata": {},
     "output_type": "display_data"
    },
    {
     "name": "stderr",
     "output_type": "stream",
     "text": [
      "\u001b[34m\u001b[1mwandb\u001b[0m: Agent Starting Run: asgwbndx with config:\n",
      "\u001b[34m\u001b[1mwandb\u001b[0m: \td_block: 128\n",
      "\u001b[34m\u001b[1mwandb\u001b[0m: \tdrop_out: 0.15\n",
      "\u001b[34m\u001b[1mwandb\u001b[0m: \tlearning_rate: 0.0002\n",
      "\u001b[34m\u001b[1mwandb\u001b[0m: \tmodel_arch: tabm-mini\n",
      "\u001b[34m\u001b[1mwandb\u001b[0m: \tn_block: 3\n",
      "\u001b[34m\u001b[1mwandb\u001b[0m: \tn_k: 32\n",
      "\u001b[34m\u001b[1mwandb\u001b[0m: \tweight_decay: 0.0001\n",
      "Failed to detect the name of this notebook, you can set it manually with the WANDB_NOTEBOOK_NAME environment variable to enable code saving.\n",
      "/home/mt/miniconda3/envs/tabm/lib/python3.10/site-packages/wandb/sdk/wandb_setup.py:254: ResourceWarning: unclosed file <_io.TextIOWrapper name='/home/mt/Desktop/JaneStreet-Comp/wandb/sweep-mtpap5fv/config-asgwbndx.yaml' mode='r' encoding='UTF-8'>\n",
      "  self._sweep_config = config_util.dict_from_config_file(\n",
      "ResourceWarning: Enable tracemalloc to get the object allocation traceback\n"
     ]
    },
    {
     "data": {
      "text/html": [
       "wandb version 0.19.2 is available!  To upgrade, please run:\n",
       " $ pip install wandb --upgrade"
      ],
      "text/plain": [
       "<IPython.core.display.HTML object>"
      ]
     },
     "metadata": {},
     "output_type": "display_data"
    },
    {
     "data": {
      "text/html": [
       "Tracking run with wandb version 0.16.6"
      ],
      "text/plain": [
       "<IPython.core.display.HTML object>"
      ]
     },
     "metadata": {},
     "output_type": "display_data"
    },
    {
     "data": {
      "text/html": [
       "Run data is saved locally in <code>/home/mt/Desktop/JaneStreet-Comp/wandb/run-20250112_234044-asgwbndx</code>"
      ],
      "text/plain": [
       "<IPython.core.display.HTML object>"
      ]
     },
     "metadata": {},
     "output_type": "display_data"
    },
    {
     "data": {
      "text/html": [
       "Syncing run <strong><a href='https://wandb.ai/turkenm/js_tabm/runs/asgwbndx' target=\"_blank\">eternal-sweep-43</a></strong> to <a href='https://wandb.ai/turkenm/js_tabm' target=\"_blank\">Weights & Biases</a> (<a href='https://wandb.me/run' target=\"_blank\">docs</a>)<br/>Sweep page: <a href='https://wandb.ai/turkenm/js_tabm/sweeps/mtpap5fv' target=\"_blank\">https://wandb.ai/turkenm/js_tabm/sweeps/mtpap5fv</a>"
      ],
      "text/plain": [
       "<IPython.core.display.HTML object>"
      ]
     },
     "metadata": {},
     "output_type": "display_data"
    },
    {
     "data": {
      "text/html": [
       " View project at <a href='https://wandb.ai/turkenm/js_tabm' target=\"_blank\">https://wandb.ai/turkenm/js_tabm</a>"
      ],
      "text/plain": [
       "<IPython.core.display.HTML object>"
      ]
     },
     "metadata": {},
     "output_type": "display_data"
    },
    {
     "data": {
      "text/html": [
       " View sweep at <a href='https://wandb.ai/turkenm/js_tabm/sweeps/mtpap5fv' target=\"_blank\">https://wandb.ai/turkenm/js_tabm/sweeps/mtpap5fv</a>"
      ],
      "text/plain": [
       "<IPython.core.display.HTML object>"
      ]
     },
     "metadata": {},
     "output_type": "display_data"
    },
    {
     "data": {
      "text/html": [
       " View run at <a href='https://wandb.ai/turkenm/js_tabm/runs/asgwbndx' target=\"_blank\">https://wandb.ai/turkenm/js_tabm/runs/asgwbndx</a>"
      ],
      "text/plain": [
       "<IPython.core.display.HTML object>"
      ]
     },
     "metadata": {},
     "output_type": "display_data"
    },
    {
     "name": "stdout",
     "output_type": "stream",
     "text": [
      "EXPERIMENT exp_tabm-mini_dblocks_128_nblocks_3_LR_2e-04_BS_1024_DR_0.15_k_32_id_14447\n",
      "\n",
      "\n",
      "Epoch 1:\n"
     ]
    },
    {
     "name": "stderr",
     "output_type": "stream",
     "text": [
      "Training: 100%|██████████| 18964/18964 [00:53<00:00, 355.92it/s, Loss=2.11, rmse=0.823, R²=0.0135]\n",
      "Testing: 100%|██████████| 676/676 [00:01<00:00, 411.95it/s, Loss=0.76, R²=0.00805] \n"
     ]
    },
    {
     "name": "stdout",
     "output_type": "stream",
     "text": [
      "Train rmse: 0.82399, Train R2: 0.01352, Train loss: 2.10848\n",
      "Test loss: 0.79886, Test R2: 0.00785\n",
      "Model Saved - Epoch 1 - Test R2: 0.00785\n",
      "\n",
      "\n",
      "Epoch 2:\n"
     ]
    },
    {
     "name": "stderr",
     "output_type": "stream",
     "text": [
      "Training: 100%|██████████| 18964/18964 [00:52<00:00, 360.61it/s, Loss=2.1, rmse=0.821, R²=0.0188]\n",
      "Testing: 100%|██████████| 676/676 [00:01<00:00, 410.91it/s, Loss=0.76, R²=0.00882] \n"
     ]
    },
    {
     "name": "stdout",
     "output_type": "stream",
     "text": [
      "Train rmse: 0.82178, Train R2: 0.01881, Train loss: 2.10017\n",
      "Test loss: 0.79856, Test R2: 0.00858\n",
      "Model Saved - Epoch 2 - Test R2: 0.00858\n",
      "\n",
      "\n",
      "Epoch 3:\n"
     ]
    },
    {
     "name": "stderr",
     "output_type": "stream",
     "text": [
      "Training: 100%|██████████| 18964/18964 [00:52<00:00, 359.85it/s, Loss=2.1, rmse=0.82, R²=0.0207] \n",
      "Testing: 100%|██████████| 676/676 [00:01<00:00, 411.25it/s, Loss=0.76, R²=0.00905] \n",
      "/home/mt/miniconda3/envs/tabm/lib/python3.10/site-packages/torch/_tensor.py:981: ResourceWarning: unclosed <socket.socket fd=110, family=AddressFamily.AF_INET, type=SocketKind.SOCK_STREAM, proto=0, laddr=('127.0.0.1', 57490), raddr=('127.0.0.1', 48331)>\n",
      "  return torch._VF.split(self, split_size, dim)  # type: ignore[attr-defined]\n",
      "ResourceWarning: Enable tracemalloc to get the object allocation traceback\n"
     ]
    },
    {
     "name": "stdout",
     "output_type": "stream",
     "text": [
      "Train rmse: 0.82098, Train R2: 0.02073, Train loss: 2.09700\n",
      "Test loss: 0.79847, Test R2: 0.00882\n",
      "Model Saved - Epoch 3 - Test R2: 0.00882\n",
      "\n",
      "\n",
      "Epoch 4:\n"
     ]
    },
    {
     "name": "stderr",
     "output_type": "stream",
     "text": [
      "Training: 100%|██████████| 18964/18964 [00:52<00:00, 360.03it/s, Loss=2.1, rmse=0.819, R²=0.0221]\n",
      "Testing: 100%|██████████| 676/676 [00:01<00:00, 411.19it/s, Loss=0.76, R²=0.00869] \n"
     ]
    },
    {
     "name": "stdout",
     "output_type": "stream",
     "text": [
      "Train rmse: 0.82040, Train R2: 0.02212, Train loss: 2.09500\n",
      "Test loss: 0.79859, Test R2: 0.00851\n",
      "\n",
      "Epoch 5:\n"
     ]
    },
    {
     "name": "stderr",
     "output_type": "stream",
     "text": [
      "Training: 100%|██████████| 18964/18964 [00:52<00:00, 359.88it/s, Loss=2.09, rmse=0.819, R²=0.0232]\n",
      "Testing: 100%|██████████| 676/676 [00:01<00:00, 410.73it/s, Loss=0.76, R²=0.00897] \n"
     ]
    },
    {
     "name": "stdout",
     "output_type": "stream",
     "text": [
      "Train rmse: 0.81994, Train R2: 0.02321, Train loss: 2.09332\n",
      "Test loss: 0.79849, Test R2: 0.00877\n",
      "\n",
      "Epoch 6:\n"
     ]
    },
    {
     "name": "stderr",
     "output_type": "stream",
     "text": [
      "Training: 100%|██████████| 18964/18964 [00:52<00:00, 359.70it/s, Loss=2.09, rmse=0.818, R²=0.0243]\n",
      "Testing: 100%|██████████| 676/676 [00:01<00:00, 410.46it/s, Loss=0.759, R²=0.0099] \n"
     ]
    },
    {
     "name": "stdout",
     "output_type": "stream",
     "text": [
      "Train rmse: 0.81949, Train R2: 0.02427, Train loss: 2.09174\n",
      "Test loss: 0.79813, Test R2: 0.00965\n",
      "Model Saved - Epoch 6 - Test R2: 0.00965\n",
      "\n",
      "\n",
      "Epoch 7:\n"
     ]
    },
    {
     "name": "stderr",
     "output_type": "stream",
     "text": [
      "Training: 100%|██████████| 18964/18964 [00:52<00:00, 360.43it/s, Loss=2.09, rmse=0.818, R²=0.0254]\n",
      "Testing: 100%|██████████| 676/676 [00:01<00:00, 411.53it/s, Loss=0.759, R²=0.0101]\n"
     ]
    },
    {
     "name": "stdout",
     "output_type": "stream",
     "text": [
      "Train rmse: 0.81904, Train R2: 0.02536, Train loss: 2.09015\n",
      "Test loss: 0.79804, Test R2: 0.00988\n",
      "Model Saved - Epoch 7 - Test R2: 0.00988\n",
      "\n",
      "\n",
      "Epoch 8:\n"
     ]
    },
    {
     "name": "stderr",
     "output_type": "stream",
     "text": [
      "Training: 100%|██████████| 18964/18964 [00:52<00:00, 360.27it/s, Loss=2.09, rmse=0.818, R²=0.0264]\n",
      "Testing: 100%|██████████| 676/676 [00:01<00:00, 410.31it/s, Loss=0.759, R²=0.0099] \n"
     ]
    },
    {
     "name": "stdout",
     "output_type": "stream",
     "text": [
      "Train rmse: 0.81860, Train R2: 0.02639, Train loss: 2.08850\n",
      "Test loss: 0.79813, Test R2: 0.00966\n",
      "\n",
      "Epoch 9:\n"
     ]
    },
    {
     "name": "stderr",
     "output_type": "stream",
     "text": [
      "Training: 100%|██████████| 18964/18964 [00:52<00:00, 359.38it/s, Loss=2.09, rmse=0.817, R²=0.0276]\n",
      "Testing: 100%|██████████| 676/676 [00:01<00:00, 409.81it/s, Loss=0.759, R²=0.0101] \n"
     ]
    },
    {
     "name": "stdout",
     "output_type": "stream",
     "text": [
      "Train rmse: 0.81812, Train R2: 0.02753, Train loss: 2.08676\n",
      "Test loss: 0.79806, Test R2: 0.00983\n",
      "\n",
      "Epoch 10:\n"
     ]
    },
    {
     "name": "stderr",
     "output_type": "stream",
     "text": [
      "Training: 100%|██████████| 18964/18964 [00:52<00:00, 359.39it/s, Loss=2.08, rmse=0.816, R²=0.0288]\n",
      "Testing: 100%|██████████| 676/676 [00:01<00:00, 410.22it/s, Loss=0.759, R²=0.01]   \n"
     ]
    },
    {
     "name": "stdout",
     "output_type": "stream",
     "text": [
      "Train rmse: 0.81758, Train R2: 0.02882, Train loss: 2.08474\n",
      "Test loss: 0.79808, Test R2: 0.00979\n",
      "\n",
      "Epoch 11:\n"
     ]
    },
    {
     "name": "stderr",
     "output_type": "stream",
     "text": [
      "Training: 100%|██████████| 18964/18964 [00:52<00:00, 358.79it/s, Loss=2.08, rmse=0.816, R²=0.0304]\n",
      "Testing: 100%|██████████| 676/676 [00:01<00:00, 410.87it/s, Loss=0.759, R²=0.0104] \n"
     ]
    },
    {
     "name": "stdout",
     "output_type": "stream",
     "text": [
      "Train rmse: 0.81689, Train R2: 0.03046, Train loss: 2.08206\n",
      "Test loss: 0.79793, Test R2: 0.01015\n",
      "Model Saved - Epoch 11 - Test R2: 0.01015\n",
      "\n",
      "\n",
      "Epoch 12:\n"
     ]
    },
    {
     "name": "stderr",
     "output_type": "stream",
     "text": [
      "Training: 100%|██████████| 18964/18964 [00:52<00:00, 360.21it/s, Loss=2.08, rmse=0.815, R²=0.0323]\n",
      "Testing: 100%|██████████| 676/676 [00:01<00:00, 409.69it/s, Loss=0.759, R²=0.0103] \n"
     ]
    },
    {
     "name": "stdout",
     "output_type": "stream",
     "text": [
      "Train rmse: 0.81611, Train R2: 0.03231, Train loss: 2.07909\n",
      "Test loss: 0.79799, Test R2: 0.01001\n",
      "\n",
      "Epoch 13:\n"
     ]
    },
    {
     "name": "stderr",
     "output_type": "stream",
     "text": [
      "Training: 100%|██████████| 18964/18964 [00:52<00:00, 359.37it/s, Loss=2.08, rmse=0.814, R²=0.0344]\n",
      "Testing: 100%|██████████| 676/676 [00:01<00:00, 410.28it/s, Loss=0.759, R²=0.0102] \n"
     ]
    },
    {
     "name": "stdout",
     "output_type": "stream",
     "text": [
      "Train rmse: 0.81520, Train R2: 0.03446, Train loss: 2.07583\n",
      "Test loss: 0.79800, Test R2: 0.00999\n",
      "\n",
      "Epoch 14:\n"
     ]
    },
    {
     "name": "stderr",
     "output_type": "stream",
     "text": [
      "Training: 100%|██████████| 18964/18964 [00:52<00:00, 359.23it/s, Loss=2.07, rmse=0.813, R²=0.0379]\n",
      "Testing: 100%|██████████| 676/676 [00:01<00:00, 410.20it/s, Loss=0.759, R²=0.00988]\n"
     ]
    },
    {
     "name": "stdout",
     "output_type": "stream",
     "text": [
      "Train rmse: 0.81375, Train R2: 0.03789, Train loss: 2.07142\n",
      "Test loss: 0.79817, Test R2: 0.00956\n",
      "\n",
      "Epoch 15:\n"
     ]
    },
    {
     "name": "stderr",
     "output_type": "stream",
     "text": [
      "Training: 100%|██████████| 18964/18964 [00:52<00:00, 358.35it/s, Loss=2.07, rmse=0.811, R²=0.0422]\n",
      "Testing: 100%|██████████| 676/676 [00:01<00:00, 409.52it/s, Loss=0.759, R²=0.00966]\n"
     ]
    },
    {
     "name": "stdout",
     "output_type": "stream",
     "text": [
      "Train rmse: 0.81193, Train R2: 0.04220, Train loss: 2.06562\n",
      "Test loss: 0.79823, Test R2: 0.00943\n",
      "\n",
      "Best Epoch: 11, Best Test R2: 0.01015\n"
     ]
    },
    {
     "name": "stderr",
     "output_type": "stream",
     "text": [
      "/home/mt/miniconda3/envs/tabm/lib/python3.10/site-packages/wandb/sdk/lib/ipython.py:89: DeprecationWarning: Importing display from IPython.core.display is deprecated since IPython 7.14, please import from IPython display\n",
      "  from IPython.core.display import display\n"
     ]
    },
    {
     "data": {
      "application/vnd.jupyter.widget-view+json": {
       "model_id": "7043d051305c4de9916a6b9df86b1750",
       "version_major": 2,
       "version_minor": 0
      },
      "text/plain": [
       "VBox(children=(Label(value='0.004 MB of 0.004 MB uploaded\\r'), FloatProgress(value=1.0, max=1.0)))"
      ]
     },
     "metadata": {},
     "output_type": "display_data"
    },
    {
     "name": "stderr",
     "output_type": "stream",
     "text": [
      "/home/mt/miniconda3/envs/tabm/lib/python3.10/site-packages/wandb/sdk/lib/ipython.py:77: DeprecationWarning: Importing display from IPython.core.display is deprecated since IPython 7.14, please import from IPython display\n",
      "  from IPython.core.display import HTML, display  # type: ignore\n"
     ]
    },
    {
     "data": {
      "text/html": [
       "<style>\n",
       "    table.wandb td:nth-child(1) { padding: 0 10px; text-align: left ; width: auto;} td:nth-child(2) {text-align: left ; width: 100%}\n",
       "    .wandb-row { display: flex; flex-direction: row; flex-wrap: wrap; justify-content: flex-start; width: 100% }\n",
       "    .wandb-col { display: flex; flex-direction: column; flex-basis: 100%; flex: 1; padding: 10px; }\n",
       "    </style>\n",
       "<div class=\"wandb-row\"><div class=\"wandb-col\"><h3>Run history:</h3><br/><table class=\"wandb\"><tr><td>epoch</td><td>▁▁▂▃▃▃▄▅▅▅▆▇▇▇█</td></tr><tr><td>test_loss</td><td>█▆▅▆▅▃▂▂▂▂▁▁▁▃▃</td></tr><tr><td>test_r2</td><td>▁▃▄▃▄▆▇▇▇▇███▆▆</td></tr><tr><td>train_loss</td><td>█▇▆▆▆▅▅▅▄▄▄▃▃▂▁</td></tr><tr><td>train_r2</td><td>▁▂▃▃▃▄▄▄▄▅▅▆▆▇█</td></tr><tr><td>train_rmse</td><td>█▇▆▆▆▅▅▅▅▄▄▃▃▂▁</td></tr></table><br/></div><div class=\"wandb-col\"><h3>Run summary:</h3><br/><table class=\"wandb\"><tr><td>best_test_r2</td><td>0.01015</td></tr><tr><td>best_train_r2</td><td>0.0422</td></tr><tr><td>epoch</td><td>15</td></tr><tr><td>test_loss</td><td>0.79823</td></tr><tr><td>test_r2</td><td>0.00943</td></tr><tr><td>train_loss</td><td>2.06562</td></tr><tr><td>train_r2</td><td>0.0422</td></tr><tr><td>train_rmse</td><td>0.81193</td></tr></table><br/></div></div>"
      ],
      "text/plain": [
       "<IPython.core.display.HTML object>"
      ]
     },
     "metadata": {},
     "output_type": "display_data"
    },
    {
     "data": {
      "text/html": [
       " View run <strong style=\"color:#cdcd00\">eternal-sweep-43</strong> at: <a href='https://wandb.ai/turkenm/js_tabm/runs/asgwbndx' target=\"_blank\">https://wandb.ai/turkenm/js_tabm/runs/asgwbndx</a><br/> View project at: <a href='https://wandb.ai/turkenm/js_tabm' target=\"_blank\">https://wandb.ai/turkenm/js_tabm</a><br/>Synced 6 W&B file(s), 0 media file(s), 0 artifact file(s) and 0 other file(s)"
      ],
      "text/plain": [
       "<IPython.core.display.HTML object>"
      ]
     },
     "metadata": {},
     "output_type": "display_data"
    },
    {
     "data": {
      "text/html": [
       "Find logs at: <code>./wandb/run-20250112_234044-asgwbndx/logs</code>"
      ],
      "text/plain": [
       "<IPython.core.display.HTML object>"
      ]
     },
     "metadata": {},
     "output_type": "display_data"
    },
    {
     "name": "stderr",
     "output_type": "stream",
     "text": [
      "\u001b[34m\u001b[1mwandb\u001b[0m: Agent Starting Run: gsso8o82 with config:\n",
      "\u001b[34m\u001b[1mwandb\u001b[0m: \td_block: 128\n",
      "\u001b[34m\u001b[1mwandb\u001b[0m: \tdrop_out: 0.15\n",
      "\u001b[34m\u001b[1mwandb\u001b[0m: \tlearning_rate: 0.0002\n",
      "\u001b[34m\u001b[1mwandb\u001b[0m: \tmodel_arch: tabm-mini\n",
      "\u001b[34m\u001b[1mwandb\u001b[0m: \tn_block: 3\n",
      "\u001b[34m\u001b[1mwandb\u001b[0m: \tn_k: 32\n",
      "\u001b[34m\u001b[1mwandb\u001b[0m: \tweight_decay: 0.0002\n",
      "Failed to detect the name of this notebook, you can set it manually with the WANDB_NOTEBOOK_NAME environment variable to enable code saving.\n",
      "/home/mt/miniconda3/envs/tabm/lib/python3.10/site-packages/wandb/sdk/wandb_setup.py:254: ResourceWarning: unclosed file <_io.TextIOWrapper name='/home/mt/Desktop/JaneStreet-Comp/wandb/sweep-mtpap5fv/config-gsso8o82.yaml' mode='r' encoding='UTF-8'>\n",
      "  self._sweep_config = config_util.dict_from_config_file(\n",
      "ResourceWarning: Enable tracemalloc to get the object allocation traceback\n"
     ]
    },
    {
     "data": {
      "text/html": [
       "wandb version 0.19.2 is available!  To upgrade, please run:\n",
       " $ pip install wandb --upgrade"
      ],
      "text/plain": [
       "<IPython.core.display.HTML object>"
      ]
     },
     "metadata": {},
     "output_type": "display_data"
    },
    {
     "data": {
      "text/html": [
       "Tracking run with wandb version 0.16.6"
      ],
      "text/plain": [
       "<IPython.core.display.HTML object>"
      ]
     },
     "metadata": {},
     "output_type": "display_data"
    },
    {
     "data": {
      "text/html": [
       "Run data is saved locally in <code>/home/mt/Desktop/JaneStreet-Comp/wandb/run-20250112_235436-gsso8o82</code>"
      ],
      "text/plain": [
       "<IPython.core.display.HTML object>"
      ]
     },
     "metadata": {},
     "output_type": "display_data"
    },
    {
     "data": {
      "text/html": [
       "Syncing run <strong><a href='https://wandb.ai/turkenm/js_tabm/runs/gsso8o82' target=\"_blank\">sparkling-sweep-44</a></strong> to <a href='https://wandb.ai/turkenm/js_tabm' target=\"_blank\">Weights & Biases</a> (<a href='https://wandb.me/run' target=\"_blank\">docs</a>)<br/>Sweep page: <a href='https://wandb.ai/turkenm/js_tabm/sweeps/mtpap5fv' target=\"_blank\">https://wandb.ai/turkenm/js_tabm/sweeps/mtpap5fv</a>"
      ],
      "text/plain": [
       "<IPython.core.display.HTML object>"
      ]
     },
     "metadata": {},
     "output_type": "display_data"
    },
    {
     "data": {
      "text/html": [
       " View project at <a href='https://wandb.ai/turkenm/js_tabm' target=\"_blank\">https://wandb.ai/turkenm/js_tabm</a>"
      ],
      "text/plain": [
       "<IPython.core.display.HTML object>"
      ]
     },
     "metadata": {},
     "output_type": "display_data"
    },
    {
     "data": {
      "text/html": [
       " View sweep at <a href='https://wandb.ai/turkenm/js_tabm/sweeps/mtpap5fv' target=\"_blank\">https://wandb.ai/turkenm/js_tabm/sweeps/mtpap5fv</a>"
      ],
      "text/plain": [
       "<IPython.core.display.HTML object>"
      ]
     },
     "metadata": {},
     "output_type": "display_data"
    },
    {
     "data": {
      "text/html": [
       " View run at <a href='https://wandb.ai/turkenm/js_tabm/runs/gsso8o82' target=\"_blank\">https://wandb.ai/turkenm/js_tabm/runs/gsso8o82</a>"
      ],
      "text/plain": [
       "<IPython.core.display.HTML object>"
      ]
     },
     "metadata": {},
     "output_type": "display_data"
    },
    {
     "name": "stdout",
     "output_type": "stream",
     "text": [
      "EXPERIMENT exp_tabm-mini_dblocks_128_nblocks_3_LR_2e-04_BS_1024_DR_0.15_k_32_id_15279\n",
      "\n",
      "\n",
      "Epoch 1:\n"
     ]
    },
    {
     "name": "stderr",
     "output_type": "stream",
     "text": [
      "Training: 100%|██████████| 18964/18964 [00:52<00:00, 359.75it/s, Loss=2.11, rmse=0.823, R²=0.0135]\n",
      "Testing: 100%|██████████| 676/676 [00:01<00:00, 410.82it/s, Loss=0.76, R²=0.00822] \n"
     ]
    },
    {
     "name": "stdout",
     "output_type": "stream",
     "text": [
      "Train rmse: 0.82400, Train R2: 0.01352, Train loss: 2.10847\n",
      "Test loss: 0.79881, Test R2: 0.00798\n",
      "Model Saved - Epoch 1 - Test R2: 0.00798\n",
      "\n",
      "\n",
      "Epoch 2:\n"
     ]
    },
    {
     "name": "stderr",
     "output_type": "stream",
     "text": [
      "Training: 100%|██████████| 18964/18964 [00:52<00:00, 360.23it/s, Loss=2.1, rmse=0.821, R²=0.0189]\n",
      "Testing: 100%|██████████| 676/676 [00:01<00:00, 411.56it/s, Loss=0.76, R²=0.00864] \n"
     ]
    },
    {
     "name": "stdout",
     "output_type": "stream",
     "text": [
      "Train rmse: 0.82173, Train R2: 0.01895, Train loss: 2.09980\n",
      "Test loss: 0.79863, Test R2: 0.00842\n",
      "Model Saved - Epoch 2 - Test R2: 0.00842\n",
      "\n",
      "\n",
      "Epoch 3:\n"
     ]
    },
    {
     "name": "stderr",
     "output_type": "stream",
     "text": [
      "Training: 100%|██████████| 18964/18964 [00:52<00:00, 360.85it/s, Loss=2.1, rmse=0.82, R²=0.0209]\n",
      "Testing: 100%|██████████| 676/676 [00:01<00:00, 411.93it/s, Loss=0.76, R²=0.00838] \n",
      "/home/mt/miniconda3/envs/tabm/lib/python3.10/site-packages/torch/_tensor.py:981: ResourceWarning: unclosed <socket.socket fd=106, family=AddressFamily.AF_INET, type=SocketKind.SOCK_STREAM, proto=0, laddr=('127.0.0.1', 37830), raddr=('127.0.0.1', 33873)>\n",
      "  return torch._VF.split(self, split_size, dim)  # type: ignore[attr-defined]\n",
      "ResourceWarning: Enable tracemalloc to get the object allocation traceback\n"
     ]
    },
    {
     "name": "stdout",
     "output_type": "stream",
     "text": [
      "Train rmse: 0.82091, Train R2: 0.02090, Train loss: 2.09665\n",
      "Test loss: 0.79871, Test R2: 0.00821\n",
      "\n",
      "Epoch 4:\n"
     ]
    },
    {
     "name": "stderr",
     "output_type": "stream",
     "text": [
      "Training: 100%|██████████| 18964/18964 [00:52<00:00, 361.06it/s, Loss=2.09, rmse=0.819, R²=0.0224]\n",
      "Testing: 100%|██████████| 676/676 [00:01<00:00, 410.06it/s, Loss=0.76, R²=0.00866] \n"
     ]
    },
    {
     "name": "stdout",
     "output_type": "stream",
     "text": [
      "Train rmse: 0.82029, Train R2: 0.02237, Train loss: 2.09446\n",
      "Test loss: 0.79861, Test R2: 0.00846\n",
      "Model Saved - Epoch 4 - Test R2: 0.00846\n",
      "\n",
      "\n",
      "Epoch 5:\n"
     ]
    },
    {
     "name": "stderr",
     "output_type": "stream",
     "text": [
      "Training: 100%|██████████| 18964/18964 [00:52<00:00, 360.40it/s, Loss=2.09, rmse=0.819, R²=0.0237]\n",
      "Testing: 100%|██████████| 676/676 [00:01<00:00, 411.15it/s, Loss=0.76, R²=0.00853] \n"
     ]
    },
    {
     "name": "stdout",
     "output_type": "stream",
     "text": [
      "Train rmse: 0.81975, Train R2: 0.02366, Train loss: 2.09244\n",
      "Test loss: 0.79865, Test R2: 0.00837\n",
      "\n",
      "Epoch 6:\n"
     ]
    },
    {
     "name": "stderr",
     "output_type": "stream",
     "text": [
      "Training: 100%|██████████| 18964/18964 [00:52<00:00, 359.29it/s, Loss=2.09, rmse=0.818, R²=0.0251]\n",
      "Testing: 100%|██████████| 676/676 [00:01<00:00, 410.78it/s, Loss=0.76, R²=0.00851] \n"
     ]
    },
    {
     "name": "stdout",
     "output_type": "stream",
     "text": [
      "Train rmse: 0.81916, Train R2: 0.02507, Train loss: 2.09036\n",
      "Test loss: 0.79866, Test R2: 0.00834\n",
      "\n",
      "Epoch 7:\n"
     ]
    },
    {
     "name": "stderr",
     "output_type": "stream",
     "text": [
      "Training: 100%|██████████| 18964/18964 [00:52<00:00, 360.01it/s, Loss=2.09, rmse=0.817, R²=0.0268]\n",
      "Testing: 100%|██████████| 676/676 [00:01<00:00, 409.98it/s, Loss=0.76, R²=0.00868] \n"
     ]
    },
    {
     "name": "stdout",
     "output_type": "stream",
     "text": [
      "Train rmse: 0.81845, Train R2: 0.02675, Train loss: 2.08779\n",
      "Test loss: 0.79859, Test R2: 0.00852\n",
      "Model Saved - Epoch 7 - Test R2: 0.00852\n",
      "\n",
      "\n",
      "Epoch 8:\n"
     ]
    },
    {
     "name": "stderr",
     "output_type": "stream",
     "text": [
      "Training: 100%|██████████| 18964/18964 [00:52<00:00, 360.65it/s, Loss=2.08, rmse=0.817, R²=0.0288]\n",
      "Testing: 100%|██████████| 676/676 [00:01<00:00, 410.49it/s, Loss=0.759, R²=0.00933]\n"
     ]
    },
    {
     "name": "stdout",
     "output_type": "stream",
     "text": [
      "Train rmse: 0.81758, Train R2: 0.02882, Train loss: 2.08437\n",
      "Test loss: 0.79835, Test R2: 0.00911\n",
      "Model Saved - Epoch 8 - Test R2: 0.00911\n",
      "\n",
      "\n",
      "Epoch 9:\n"
     ]
    },
    {
     "name": "stderr",
     "output_type": "stream",
     "text": [
      "Training: 100%|██████████| 18964/18964 [00:52<00:00, 359.58it/s, Loss=2.08, rmse=0.815, R²=0.0311]\n",
      "Testing: 100%|██████████| 676/676 [00:01<00:00, 410.43it/s, Loss=0.76, R²=0.00884] \n"
     ]
    },
    {
     "name": "stdout",
     "output_type": "stream",
     "text": [
      "Train rmse: 0.81660, Train R2: 0.03114, Train loss: 2.08066\n",
      "Test loss: 0.79854, Test R2: 0.00864\n",
      "\n",
      "Epoch 10:\n"
     ]
    },
    {
     "name": "stderr",
     "output_type": "stream",
     "text": [
      "Training: 100%|██████████| 18964/18964 [00:52<00:00, 359.47it/s, Loss=2.08, rmse=0.814, R²=0.0345]\n",
      "Testing: 100%|██████████| 676/676 [00:01<00:00, 410.84it/s, Loss=0.76, R²=0.00838] \n"
     ]
    },
    {
     "name": "stdout",
     "output_type": "stream",
     "text": [
      "Train rmse: 0.81516, Train R2: 0.03457, Train loss: 2.07557\n",
      "Test loss: 0.79873, Test R2: 0.00819\n",
      "\n",
      "Epoch 11:\n"
     ]
    },
    {
     "name": "stderr",
     "output_type": "stream",
     "text": [
      "Training: 100%|██████████| 18964/18964 [00:52<00:00, 358.57it/s, Loss=2.07, rmse=0.812, R²=0.0401]\n",
      "Testing: 100%|██████████| 676/676 [00:01<00:00, 410.28it/s, Loss=0.76, R²=0.00729] \n"
     ]
    },
    {
     "name": "stdout",
     "output_type": "stream",
     "text": [
      "Train rmse: 0.81280, Train R2: 0.04016, Train loss: 2.06792\n",
      "Test loss: 0.79917, Test R2: 0.00708\n",
      "\n",
      "Epoch 12:\n"
     ]
    },
    {
     "name": "stderr",
     "output_type": "stream",
     "text": [
      "Training: 100%|██████████| 18964/18964 [00:52<00:00, 360.88it/s, Loss=2.06, rmse=0.809, R²=0.0466]\n",
      "Testing: 100%|██████████| 676/676 [00:01<00:00, 411.50it/s, Loss=0.761, R²=0.0058] \n"
     ]
    },
    {
     "name": "stdout",
     "output_type": "stream",
     "text": [
      "Train rmse: 0.81005, Train R2: 0.04663, Train loss: 2.05819\n",
      "Test loss: 0.79972, Test R2: 0.00572\n",
      "\n",
      "Epoch 13:\n"
     ]
    },
    {
     "name": "stderr",
     "output_type": "stream",
     "text": [
      "Training: 100%|██████████| 18964/18964 [00:54<00:00, 348.09it/s, Loss=2.05, rmse=0.806, R²=0.054] \n",
      "Testing: 100%|██████████| 676/676 [00:01<00:00, 404.27it/s, Loss=0.761, R²=0.00354]\n"
     ]
    },
    {
     "name": "stdout",
     "output_type": "stream",
     "text": [
      "Train rmse: 0.80692, Train R2: 0.05399, Train loss: 2.04624\n",
      "Test loss: 0.80067, Test R2: 0.00336\n",
      "\n",
      "Epoch 14:\n"
     ]
    },
    {
     "name": "stderr",
     "output_type": "stream",
     "text": [
      "Training: 100%|██████████| 18964/18964 [00:55<00:00, 340.83it/s, Loss=2.03, rmse=0.803, R²=0.0617]\n",
      "Testing: 100%|██████████| 676/676 [00:01<00:00, 399.99it/s, Loss=0.761, R²=0.00373]\n"
     ]
    },
    {
     "name": "stdout",
     "output_type": "stream",
     "text": [
      "Train rmse: 0.80362, Train R2: 0.06170, Train loss: 2.03323\n",
      "Test loss: 0.80056, Test R2: 0.00362\n",
      "\n",
      "Epoch 15:\n"
     ]
    },
    {
     "name": "stderr",
     "output_type": "stream",
     "text": [
      "Training: 100%|██████████| 18964/18964 [00:56<00:00, 334.70it/s, Loss=2.02, rmse=0.8, R²=0.0679]  \n",
      "Testing: 100%|██████████| 676/676 [00:01<00:00, 403.17it/s, Loss=0.762, R²=0.00127]\n"
     ]
    },
    {
     "name": "stdout",
     "output_type": "stream",
     "text": [
      "Train rmse: 0.80096, Train R2: 0.06792, Train loss: 2.02205\n",
      "Test loss: 0.80153, Test R2: 0.00121\n",
      "\n",
      "Best Epoch: 8, Best Test R2: 0.00911\n"
     ]
    },
    {
     "name": "stderr",
     "output_type": "stream",
     "text": [
      "/home/mt/miniconda3/envs/tabm/lib/python3.10/site-packages/wandb/sdk/lib/ipython.py:89: DeprecationWarning: Importing display from IPython.core.display is deprecated since IPython 7.14, please import from IPython display\n",
      "  from IPython.core.display import display\n"
     ]
    },
    {
     "data": {
      "application/vnd.jupyter.widget-view+json": {
       "model_id": "a9700565f54a4b8192d6be02ac288784",
       "version_major": 2,
       "version_minor": 0
      },
      "text/plain": [
       "VBox(children=(Label(value='0.004 MB of 0.029 MB uploaded\\r'), FloatProgress(value=0.1435085748273469, max=1.0…"
      ]
     },
     "metadata": {},
     "output_type": "display_data"
    },
    {
     "name": "stderr",
     "output_type": "stream",
     "text": [
      "/home/mt/miniconda3/envs/tabm/lib/python3.10/site-packages/wandb/sdk/lib/ipython.py:77: DeprecationWarning: Importing display from IPython.core.display is deprecated since IPython 7.14, please import from IPython display\n",
      "  from IPython.core.display import HTML, display  # type: ignore\n"
     ]
    },
    {
     "data": {
      "text/html": [
       "<style>\n",
       "    table.wandb td:nth-child(1) { padding: 0 10px; text-align: left ; width: auto;} td:nth-child(2) {text-align: left ; width: 100%}\n",
       "    .wandb-row { display: flex; flex-direction: row; flex-wrap: wrap; justify-content: flex-start; width: 100% }\n",
       "    .wandb-col { display: flex; flex-direction: column; flex-basis: 100%; flex: 1; padding: 10px; }\n",
       "    </style>\n",
       "<div class=\"wandb-row\"><div class=\"wandb-col\"><h3>Run history:</h3><br/><table class=\"wandb\"><tr><td>epoch</td><td>▁▁▂▃▃▃▄▅▅▅▆▇▇▇█</td></tr><tr><td>test_loss</td><td>▂▂▂▂▂▂▂▁▁▂▃▄▆▆█</td></tr><tr><td>test_r2</td><td>▇▇▇▇▇▇▇██▇▆▅▃▃▁</td></tr><tr><td>train_loss</td><td>█▇▇▇▇▇▆▆▆▅▅▄▃▂▁</td></tr><tr><td>train_r2</td><td>▁▂▂▂▂▂▃▃▃▄▄▅▆▇█</td></tr><tr><td>train_rmse</td><td>█▇▇▇▇▇▆▆▆▅▅▄▃▂▁</td></tr></table><br/></div><div class=\"wandb-col\"><h3>Run summary:</h3><br/><table class=\"wandb\"><tr><td>best_test_r2</td><td>0.00911</td></tr><tr><td>best_train_r2</td><td>0.06792</td></tr><tr><td>epoch</td><td>15</td></tr><tr><td>test_loss</td><td>0.80153</td></tr><tr><td>test_r2</td><td>0.00121</td></tr><tr><td>train_loss</td><td>2.02205</td></tr><tr><td>train_r2</td><td>0.06792</td></tr><tr><td>train_rmse</td><td>0.80096</td></tr></table><br/></div></div>"
      ],
      "text/plain": [
       "<IPython.core.display.HTML object>"
      ]
     },
     "metadata": {},
     "output_type": "display_data"
    },
    {
     "data": {
      "text/html": [
       " View run <strong style=\"color:#cdcd00\">sparkling-sweep-44</strong> at: <a href='https://wandb.ai/turkenm/js_tabm/runs/gsso8o82' target=\"_blank\">https://wandb.ai/turkenm/js_tabm/runs/gsso8o82</a><br/> View project at: <a href='https://wandb.ai/turkenm/js_tabm' target=\"_blank\">https://wandb.ai/turkenm/js_tabm</a><br/>Synced 6 W&B file(s), 0 media file(s), 0 artifact file(s) and 0 other file(s)"
      ],
      "text/plain": [
       "<IPython.core.display.HTML object>"
      ]
     },
     "metadata": {},
     "output_type": "display_data"
    },
    {
     "data": {
      "text/html": [
       "Find logs at: <code>./wandb/run-20250112_235436-gsso8o82/logs</code>"
      ],
      "text/plain": [
       "<IPython.core.display.HTML object>"
      ]
     },
     "metadata": {},
     "output_type": "display_data"
    },
    {
     "name": "stderr",
     "output_type": "stream",
     "text": [
      "\u001b[34m\u001b[1mwandb\u001b[0m: Agent Starting Run: 0nlthbof with config:\n",
      "\u001b[34m\u001b[1mwandb\u001b[0m: \td_block: 128\n",
      "\u001b[34m\u001b[1mwandb\u001b[0m: \tdrop_out: 0.15\n",
      "\u001b[34m\u001b[1mwandb\u001b[0m: \tlearning_rate: 0.0001\n",
      "\u001b[34m\u001b[1mwandb\u001b[0m: \tmodel_arch: tabm-mini\n",
      "\u001b[34m\u001b[1mwandb\u001b[0m: \tn_block: 3\n",
      "\u001b[34m\u001b[1mwandb\u001b[0m: \tn_k: 16\n",
      "\u001b[34m\u001b[1mwandb\u001b[0m: \tweight_decay: 0.0001\n",
      "Failed to detect the name of this notebook, you can set it manually with the WANDB_NOTEBOOK_NAME environment variable to enable code saving.\n",
      "/home/mt/miniconda3/envs/tabm/lib/python3.10/site-packages/wandb/sdk/wandb_setup.py:254: ResourceWarning: unclosed file <_io.TextIOWrapper name='/home/mt/Desktop/JaneStreet-Comp/wandb/sweep-mtpap5fv/config-0nlthbof.yaml' mode='r' encoding='UTF-8'>\n",
      "  self._sweep_config = config_util.dict_from_config_file(\n",
      "ResourceWarning: Enable tracemalloc to get the object allocation traceback\n"
     ]
    },
    {
     "data": {
      "text/html": [
       "wandb version 0.19.2 is available!  To upgrade, please run:\n",
       " $ pip install wandb --upgrade"
      ],
      "text/plain": [
       "<IPython.core.display.HTML object>"
      ]
     },
     "metadata": {},
     "output_type": "display_data"
    },
    {
     "data": {
      "text/html": [
       "Tracking run with wandb version 0.16.6"
      ],
      "text/plain": [
       "<IPython.core.display.HTML object>"
      ]
     },
     "metadata": {},
     "output_type": "display_data"
    },
    {
     "data": {
      "text/html": [
       "Run data is saved locally in <code>/home/mt/Desktop/JaneStreet-Comp/wandb/run-20250113_000833-0nlthbof</code>"
      ],
      "text/plain": [
       "<IPython.core.display.HTML object>"
      ]
     },
     "metadata": {},
     "output_type": "display_data"
    },
    {
     "data": {
      "text/html": [
       "Syncing run <strong><a href='https://wandb.ai/turkenm/js_tabm/runs/0nlthbof' target=\"_blank\">eager-sweep-45</a></strong> to <a href='https://wandb.ai/turkenm/js_tabm' target=\"_blank\">Weights & Biases</a> (<a href='https://wandb.me/run' target=\"_blank\">docs</a>)<br/>Sweep page: <a href='https://wandb.ai/turkenm/js_tabm/sweeps/mtpap5fv' target=\"_blank\">https://wandb.ai/turkenm/js_tabm/sweeps/mtpap5fv</a>"
      ],
      "text/plain": [
       "<IPython.core.display.HTML object>"
      ]
     },
     "metadata": {},
     "output_type": "display_data"
    },
    {
     "data": {
      "text/html": [
       " View project at <a href='https://wandb.ai/turkenm/js_tabm' target=\"_blank\">https://wandb.ai/turkenm/js_tabm</a>"
      ],
      "text/plain": [
       "<IPython.core.display.HTML object>"
      ]
     },
     "metadata": {},
     "output_type": "display_data"
    },
    {
     "data": {
      "text/html": [
       " View sweep at <a href='https://wandb.ai/turkenm/js_tabm/sweeps/mtpap5fv' target=\"_blank\">https://wandb.ai/turkenm/js_tabm/sweeps/mtpap5fv</a>"
      ],
      "text/plain": [
       "<IPython.core.display.HTML object>"
      ]
     },
     "metadata": {},
     "output_type": "display_data"
    },
    {
     "data": {
      "text/html": [
       " View run at <a href='https://wandb.ai/turkenm/js_tabm/runs/0nlthbof' target=\"_blank\">https://wandb.ai/turkenm/js_tabm/runs/0nlthbof</a>"
      ],
      "text/plain": [
       "<IPython.core.display.HTML object>"
      ]
     },
     "metadata": {},
     "output_type": "display_data"
    },
    {
     "name": "stdout",
     "output_type": "stream",
     "text": [
      "EXPERIMENT exp_tabm-mini_dblocks_128_nblocks_3_LR_1e-04_BS_1024_DR_0.15_k_16_id_16116\n",
      "\n",
      "\n",
      "Epoch 1:\n"
     ]
    },
    {
     "name": "stderr",
     "output_type": "stream",
     "text": [
      "Training: 100%|██████████| 18964/18964 [00:35<00:00, 540.63it/s, Loss=2.11, rmse=0.823, R²=0.0124] \n",
      "Testing: 100%|██████████| 676/676 [00:01<00:00, 660.19it/s, Loss=0.76, R²=0.00844] \n"
     ]
    },
    {
     "name": "stdout",
     "output_type": "stream",
     "text": [
      "Train rmse: 0.82444, Train R2: 0.01246, Train loss: 2.10989\n",
      "Test loss: 0.79871, Test R2: 0.00821\n",
      "Model Saved - Epoch 1 - Test R2: 0.00821\n",
      "\n",
      "\n",
      "Epoch 2:\n"
     ]
    },
    {
     "name": "stderr",
     "output_type": "stream",
     "text": [
      "Training: 100%|██████████| 18964/18964 [00:35<00:00, 539.71it/s, Loss=2.1, rmse=0.821, R²=0.0186]\n",
      "Testing: 100%|██████████| 676/676 [00:01<00:00, 657.73it/s, Loss=0.76, R²=0.00865] \n"
     ]
    },
    {
     "name": "stdout",
     "output_type": "stream",
     "text": [
      "Train rmse: 0.82187, Train R2: 0.01860, Train loss: 2.09991\n",
      "Test loss: 0.79863, Test R2: 0.00842\n",
      "Model Saved - Epoch 2 - Test R2: 0.00842\n",
      "\n",
      "\n",
      "Epoch 3:\n"
     ]
    },
    {
     "name": "stderr",
     "output_type": "stream",
     "text": [
      "Training: 100%|██████████| 18964/18964 [00:35<00:00, 538.93it/s, Loss=2.1, rmse=0.82, R²=0.0208] \n",
      "Testing: 100%|██████████| 676/676 [00:01<00:00, 660.76it/s, Loss=0.76, R²=0.0087]  \n"
     ]
    },
    {
     "name": "stdout",
     "output_type": "stream",
     "text": [
      "Train rmse: 0.82093, Train R2: 0.02085, Train loss: 2.09636\n",
      "Test loss: 0.79861, Test R2: 0.00848\n",
      "Model Saved - Epoch 3 - Test R2: 0.00848\n",
      "\n",
      "\n",
      "Epoch 4:\n"
     ]
    },
    {
     "name": "stderr",
     "output_type": "stream",
     "text": [
      "Training:   3%|▎         | 590/18964 [00:01<00:31, 583.06it/s, Loss=2.1, rmse=0.819, R²=0.0207]/home/mt/miniconda3/envs/tabm/lib/python3.10/site-packages/torch/nn/functional.py:1425: ResourceWarning: unclosed <socket.socket fd=110, family=AddressFamily.AF_INET, type=SocketKind.SOCK_STREAM, proto=0, laddr=('127.0.0.1', 33848), raddr=('127.0.0.1', 43133)>\n",
      "  _VF.dropout_(input, p, training) if inplace else _VF.dropout(input, p, training)\n",
      "ResourceWarning: Enable tracemalloc to get the object allocation traceback\n",
      "Training: 100%|██████████| 18964/18964 [00:35<00:00, 537.57it/s, Loss=2.09, rmse=0.819, R²=0.0222]\n",
      "Testing: 100%|██████████| 676/676 [00:01<00:00, 657.44it/s, Loss=0.76, R²=0.0089]  \n"
     ]
    },
    {
     "name": "stdout",
     "output_type": "stream",
     "text": [
      "Train rmse: 0.82036, Train R2: 0.02220, Train loss: 2.09423\n",
      "Test loss: 0.79852, Test R2: 0.00870\n",
      "Model Saved - Epoch 4 - Test R2: 0.00870\n",
      "\n",
      "\n",
      "Epoch 5:\n"
     ]
    },
    {
     "name": "stderr",
     "output_type": "stream",
     "text": [
      "Training: 100%|██████████| 18964/18964 [00:35<00:00, 540.30it/s, Loss=2.09, rmse=0.819, R²=0.0232]\n",
      "Testing: 100%|██████████| 676/676 [00:01<00:00, 661.12it/s, Loss=0.76, R²=0.00884] \n"
     ]
    },
    {
     "name": "stdout",
     "output_type": "stream",
     "text": [
      "Train rmse: 0.81994, Train R2: 0.02322, Train loss: 2.09276\n",
      "Test loss: 0.79855, Test R2: 0.00861\n",
      "\n",
      "Epoch 6:\n"
     ]
    },
    {
     "name": "stderr",
     "output_type": "stream",
     "text": [
      "Training: 100%|██████████| 18964/18964 [00:35<00:00, 541.16it/s, Loss=2.09, rmse=0.818, R²=0.0239]\n",
      "Testing: 100%|██████████| 676/676 [00:01<00:00, 660.64it/s, Loss=0.76, R²=0.00873] \n"
     ]
    },
    {
     "name": "stdout",
     "output_type": "stream",
     "text": [
      "Train rmse: 0.81963, Train R2: 0.02395, Train loss: 2.09174\n",
      "Test loss: 0.79858, Test R2: 0.00855\n",
      "\n",
      "Epoch 7:\n"
     ]
    },
    {
     "name": "stderr",
     "output_type": "stream",
     "text": [
      "Training: 100%|██████████| 18964/18964 [00:35<00:00, 539.97it/s, Loss=2.09, rmse=0.818, R²=0.0247]\n",
      "Testing: 100%|██████████| 676/676 [00:01<00:00, 665.04it/s, Loss=0.759, R²=0.00911]\n"
     ]
    },
    {
     "name": "stdout",
     "output_type": "stream",
     "text": [
      "Train rmse: 0.81933, Train R2: 0.02465, Train loss: 2.09076\n",
      "Test loss: 0.79845, Test R2: 0.00888\n",
      "Model Saved - Epoch 7 - Test R2: 0.00888\n",
      "\n",
      "\n",
      "Epoch 8:\n"
     ]
    },
    {
     "name": "stderr",
     "output_type": "stream",
     "text": [
      "Training: 100%|██████████| 18964/18964 [00:35<00:00, 541.19it/s, Loss=2.09, rmse=0.818, R²=0.0252]\n",
      "Testing: 100%|██████████| 676/676 [00:01<00:00, 664.25it/s, Loss=0.76, R²=0.00865] \n"
     ]
    },
    {
     "name": "stdout",
     "output_type": "stream",
     "text": [
      "Train rmse: 0.81910, Train R2: 0.02521, Train loss: 2.09002\n",
      "Test loss: 0.79861, Test R2: 0.00848\n",
      "\n",
      "Epoch 9:\n"
     ]
    },
    {
     "name": "stderr",
     "output_type": "stream",
     "text": [
      "Training: 100%|██████████| 18964/18964 [00:35<00:00, 541.12it/s, Loss=2.09, rmse=0.818, R²=0.0257]\n",
      "Testing: 100%|██████████| 676/676 [00:01<00:00, 658.51it/s, Loss=0.76, R²=0.00899] \n"
     ]
    },
    {
     "name": "stdout",
     "output_type": "stream",
     "text": [
      "Train rmse: 0.81887, Train R2: 0.02575, Train loss: 2.08934\n",
      "Test loss: 0.79849, Test R2: 0.00878\n",
      "\n",
      "Epoch 10:\n"
     ]
    },
    {
     "name": "stderr",
     "output_type": "stream",
     "text": [
      "Training: 100%|██████████| 18964/18964 [00:34<00:00, 541.97it/s, Loss=2.09, rmse=0.818, R²=0.0262]\n",
      "Testing: 100%|██████████| 676/676 [00:01<00:00, 664.92it/s, Loss=0.76, R²=0.00891] \n"
     ]
    },
    {
     "name": "stdout",
     "output_type": "stream",
     "text": [
      "Train rmse: 0.81867, Train R2: 0.02623, Train loss: 2.08867\n",
      "Test loss: 0.79852, Test R2: 0.00871\n",
      "\n",
      "Epoch 11:\n"
     ]
    },
    {
     "name": "stderr",
     "output_type": "stream",
     "text": [
      "Training: 100%|██████████| 18964/18964 [00:35<00:00, 538.94it/s, Loss=2.09, rmse=0.817, R²=0.0266]\n",
      "Testing: 100%|██████████| 676/676 [00:01<00:00, 661.54it/s, Loss=0.76, R²=0.00911] \n"
     ]
    },
    {
     "name": "stdout",
     "output_type": "stream",
     "text": [
      "Train rmse: 0.81851, Train R2: 0.02662, Train loss: 2.08817\n",
      "Test loss: 0.79843, Test R2: 0.00891\n",
      "Model Saved - Epoch 11 - Test R2: 0.00891\n",
      "\n",
      "\n",
      "Epoch 12:\n"
     ]
    },
    {
     "name": "stderr",
     "output_type": "stream",
     "text": [
      "Training: 100%|██████████| 18964/18964 [00:35<00:00, 541.43it/s, Loss=2.09, rmse=0.817, R²=0.027] \n",
      "Testing: 100%|██████████| 676/676 [00:01<00:00, 657.86it/s, Loss=0.76, R²=0.00899] \n"
     ]
    },
    {
     "name": "stdout",
     "output_type": "stream",
     "text": [
      "Train rmse: 0.81834, Train R2: 0.02703, Train loss: 2.08768\n",
      "Test loss: 0.79849, Test R2: 0.00878\n",
      "\n",
      "Epoch 13:\n"
     ]
    },
    {
     "name": "stderr",
     "output_type": "stream",
     "text": [
      "Training: 100%|██████████| 18964/18964 [00:35<00:00, 541.81it/s, Loss=2.09, rmse=0.817, R²=0.0274]\n",
      "Testing: 100%|██████████| 676/676 [00:01<00:00, 662.73it/s, Loss=0.76, R²=0.00891] \n"
     ]
    },
    {
     "name": "stdout",
     "output_type": "stream",
     "text": [
      "Train rmse: 0.81817, Train R2: 0.02742, Train loss: 2.08711\n",
      "Test loss: 0.79851, Test R2: 0.00872\n",
      "\n",
      "Epoch 14:\n"
     ]
    },
    {
     "name": "stderr",
     "output_type": "stream",
     "text": [
      "Training: 100%|██████████| 18964/18964 [00:34<00:00, 542.52it/s, Loss=2.09, rmse=0.817, R²=0.0278]\n",
      "Testing: 100%|██████████| 676/676 [00:01<00:00, 661.03it/s, Loss=0.76, R²=0.009]   \n"
     ]
    },
    {
     "name": "stdout",
     "output_type": "stream",
     "text": [
      "Train rmse: 0.81802, Train R2: 0.02779, Train loss: 2.08663\n",
      "Test loss: 0.79850, Test R2: 0.00875\n",
      "\n",
      "Epoch 15:\n"
     ]
    },
    {
     "name": "stderr",
     "output_type": "stream",
     "text": [
      "Training: 100%|██████████| 18964/18964 [00:35<00:00, 539.71it/s, Loss=2.09, rmse=0.817, R²=0.0281]\n",
      "Testing: 100%|██████████| 676/676 [00:01<00:00, 663.43it/s, Loss=0.76, R²=0.00897] \n"
     ]
    },
    {
     "name": "stdout",
     "output_type": "stream",
     "text": [
      "Train rmse: 0.81786, Train R2: 0.02815, Train loss: 2.08608\n",
      "Test loss: 0.79849, Test R2: 0.00878\n",
      "\n",
      "Best Epoch: 11, Best Test R2: 0.00891\n"
     ]
    },
    {
     "name": "stderr",
     "output_type": "stream",
     "text": [
      "/home/mt/miniconda3/envs/tabm/lib/python3.10/site-packages/wandb/sdk/lib/ipython.py:89: DeprecationWarning: Importing display from IPython.core.display is deprecated since IPython 7.14, please import from IPython display\n",
      "  from IPython.core.display import display\n"
     ]
    },
    {
     "data": {
      "application/vnd.jupyter.widget-view+json": {
       "model_id": "0a4f3a9bf2844b63b87c5c664862708d",
       "version_major": 2,
       "version_minor": 0
      },
      "text/plain": [
       "VBox(children=(Label(value='0.004 MB of 0.004 MB uploaded\\r'), FloatProgress(value=1.0, max=1.0)))"
      ]
     },
     "metadata": {},
     "output_type": "display_data"
    },
    {
     "name": "stderr",
     "output_type": "stream",
     "text": [
      "/home/mt/miniconda3/envs/tabm/lib/python3.10/site-packages/wandb/sdk/lib/ipython.py:77: DeprecationWarning: Importing display from IPython.core.display is deprecated since IPython 7.14, please import from IPython display\n",
      "  from IPython.core.display import HTML, display  # type: ignore\n"
     ]
    },
    {
     "data": {
      "text/html": [
       "<style>\n",
       "    table.wandb td:nth-child(1) { padding: 0 10px; text-align: left ; width: auto;} td:nth-child(2) {text-align: left ; width: 100%}\n",
       "    .wandb-row { display: flex; flex-direction: row; flex-wrap: wrap; justify-content: flex-start; width: 100% }\n",
       "    .wandb-col { display: flex; flex-direction: column; flex-basis: 100%; flex: 1; padding: 10px; }\n",
       "    </style>\n",
       "<div class=\"wandb-row\"><div class=\"wandb-col\"><h3>Run history:</h3><br/><table class=\"wandb\"><tr><td>epoch</td><td>▁▁▂▃▃▃▄▅▅▅▆▇▇▇█</td></tr><tr><td>test_loss</td><td>█▆▅▃▄▅▁▅▂▃▁▂▃▃▂</td></tr><tr><td>test_r2</td><td>▁▃▄▆▅▄█▄▇▆█▇▆▆▇</td></tr><tr><td>train_loss</td><td>█▅▄▃▃▃▂▂▂▂▂▁▁▁▁</td></tr><tr><td>train_r2</td><td>▁▄▅▅▆▆▆▇▇▇▇▇███</td></tr><tr><td>train_rmse</td><td>█▅▄▄▃▃▃▂▂▂▂▂▁▁▁</td></tr></table><br/></div><div class=\"wandb-col\"><h3>Run summary:</h3><br/><table class=\"wandb\"><tr><td>best_test_r2</td><td>0.00891</td></tr><tr><td>best_train_r2</td><td>0.02815</td></tr><tr><td>epoch</td><td>15</td></tr><tr><td>test_loss</td><td>0.79849</td></tr><tr><td>test_r2</td><td>0.00878</td></tr><tr><td>train_loss</td><td>2.08608</td></tr><tr><td>train_r2</td><td>0.02815</td></tr><tr><td>train_rmse</td><td>0.81786</td></tr></table><br/></div></div>"
      ],
      "text/plain": [
       "<IPython.core.display.HTML object>"
      ]
     },
     "metadata": {},
     "output_type": "display_data"
    },
    {
     "data": {
      "text/html": [
       " View run <strong style=\"color:#cdcd00\">eager-sweep-45</strong> at: <a href='https://wandb.ai/turkenm/js_tabm/runs/0nlthbof' target=\"_blank\">https://wandb.ai/turkenm/js_tabm/runs/0nlthbof</a><br/> View project at: <a href='https://wandb.ai/turkenm/js_tabm' target=\"_blank\">https://wandb.ai/turkenm/js_tabm</a><br/>Synced 6 W&B file(s), 0 media file(s), 0 artifact file(s) and 0 other file(s)"
      ],
      "text/plain": [
       "<IPython.core.display.HTML object>"
      ]
     },
     "metadata": {},
     "output_type": "display_data"
    },
    {
     "data": {
      "text/html": [
       "Find logs at: <code>./wandb/run-20250113_000833-0nlthbof/logs</code>"
      ],
      "text/plain": [
       "<IPython.core.display.HTML object>"
      ]
     },
     "metadata": {},
     "output_type": "display_data"
    },
    {
     "name": "stderr",
     "output_type": "stream",
     "text": [
      "\u001b[34m\u001b[1mwandb\u001b[0m: Agent Starting Run: 6bt968qf with config:\n",
      "\u001b[34m\u001b[1mwandb\u001b[0m: \td_block: 128\n",
      "\u001b[34m\u001b[1mwandb\u001b[0m: \tdrop_out: 0.15\n",
      "\u001b[34m\u001b[1mwandb\u001b[0m: \tlearning_rate: 0.0001\n",
      "\u001b[34m\u001b[1mwandb\u001b[0m: \tmodel_arch: tabm-mini\n",
      "\u001b[34m\u001b[1mwandb\u001b[0m: \tn_block: 3\n",
      "\u001b[34m\u001b[1mwandb\u001b[0m: \tn_k: 16\n",
      "\u001b[34m\u001b[1mwandb\u001b[0m: \tweight_decay: 0.0002\n",
      "Failed to detect the name of this notebook, you can set it manually with the WANDB_NOTEBOOK_NAME environment variable to enable code saving.\n",
      "/home/mt/miniconda3/envs/tabm/lib/python3.10/site-packages/wandb/sdk/wandb_setup.py:254: ResourceWarning: unclosed file <_io.TextIOWrapper name='/home/mt/Desktop/JaneStreet-Comp/wandb/sweep-mtpap5fv/config-6bt968qf.yaml' mode='r' encoding='UTF-8'>\n",
      "  self._sweep_config = config_util.dict_from_config_file(\n",
      "ResourceWarning: Enable tracemalloc to get the object allocation traceback\n"
     ]
    },
    {
     "data": {
      "text/html": [
       "wandb version 0.19.2 is available!  To upgrade, please run:\n",
       " $ pip install wandb --upgrade"
      ],
      "text/plain": [
       "<IPython.core.display.HTML object>"
      ]
     },
     "metadata": {},
     "output_type": "display_data"
    },
    {
     "data": {
      "text/html": [
       "Tracking run with wandb version 0.16.6"
      ],
      "text/plain": [
       "<IPython.core.display.HTML object>"
      ]
     },
     "metadata": {},
     "output_type": "display_data"
    },
    {
     "data": {
      "text/html": [
       "Run data is saved locally in <code>/home/mt/Desktop/JaneStreet-Comp/wandb/run-20250113_001753-6bt968qf</code>"
      ],
      "text/plain": [
       "<IPython.core.display.HTML object>"
      ]
     },
     "metadata": {},
     "output_type": "display_data"
    },
    {
     "data": {
      "text/html": [
       "Syncing run <strong><a href='https://wandb.ai/turkenm/js_tabm/runs/6bt968qf' target=\"_blank\">olive-sweep-46</a></strong> to <a href='https://wandb.ai/turkenm/js_tabm' target=\"_blank\">Weights & Biases</a> (<a href='https://wandb.me/run' target=\"_blank\">docs</a>)<br/>Sweep page: <a href='https://wandb.ai/turkenm/js_tabm/sweeps/mtpap5fv' target=\"_blank\">https://wandb.ai/turkenm/js_tabm/sweeps/mtpap5fv</a>"
      ],
      "text/plain": [
       "<IPython.core.display.HTML object>"
      ]
     },
     "metadata": {},
     "output_type": "display_data"
    },
    {
     "data": {
      "text/html": [
       " View project at <a href='https://wandb.ai/turkenm/js_tabm' target=\"_blank\">https://wandb.ai/turkenm/js_tabm</a>"
      ],
      "text/plain": [
       "<IPython.core.display.HTML object>"
      ]
     },
     "metadata": {},
     "output_type": "display_data"
    },
    {
     "data": {
      "text/html": [
       " View sweep at <a href='https://wandb.ai/turkenm/js_tabm/sweeps/mtpap5fv' target=\"_blank\">https://wandb.ai/turkenm/js_tabm/sweeps/mtpap5fv</a>"
      ],
      "text/plain": [
       "<IPython.core.display.HTML object>"
      ]
     },
     "metadata": {},
     "output_type": "display_data"
    },
    {
     "data": {
      "text/html": [
       " View run at <a href='https://wandb.ai/turkenm/js_tabm/runs/6bt968qf' target=\"_blank\">https://wandb.ai/turkenm/js_tabm/runs/6bt968qf</a>"
      ],
      "text/plain": [
       "<IPython.core.display.HTML object>"
      ]
     },
     "metadata": {},
     "output_type": "display_data"
    },
    {
     "name": "stdout",
     "output_type": "stream",
     "text": [
      "EXPERIMENT exp_tabm-mini_dblocks_128_nblocks_3_LR_1e-04_BS_1024_DR_0.15_k_16_id_16675\n",
      "\n",
      "\n",
      "Epoch 1:\n"
     ]
    },
    {
     "name": "stderr",
     "output_type": "stream",
     "text": [
      "Training: 100%|██████████| 18964/18964 [00:34<00:00, 551.74it/s, Loss=2.11, rmse=0.823, R²=0.0125] \n",
      "Testing: 100%|██████████| 676/676 [00:01<00:00, 655.02it/s, Loss=0.76, R²=0.00827] \n"
     ]
    },
    {
     "name": "stdout",
     "output_type": "stream",
     "text": [
      "Train rmse: 0.82440, Train R2: 0.01255, Train loss: 2.10969\n",
      "Test loss: 0.79877, Test R2: 0.00808\n",
      "Model Saved - Epoch 1 - Test R2: 0.00808\n",
      "\n",
      "\n",
      "Epoch 2:\n"
     ]
    },
    {
     "name": "stderr",
     "output_type": "stream",
     "text": [
      "Training: 100%|██████████| 18964/18964 [00:34<00:00, 545.50it/s, Loss=2.1, rmse=0.821, R²=0.0184]\n",
      "Testing: 100%|██████████| 676/676 [00:01<00:00, 673.13it/s, Loss=0.76, R²=0.0088]  \n"
     ]
    },
    {
     "name": "stdout",
     "output_type": "stream",
     "text": [
      "Train rmse: 0.82194, Train R2: 0.01844, Train loss: 2.10013\n",
      "Test loss: 0.79856, Test R2: 0.00860\n",
      "Model Saved - Epoch 2 - Test R2: 0.00860\n",
      "\n",
      "\n",
      "Epoch 3:\n"
     ]
    },
    {
     "name": "stderr",
     "output_type": "stream",
     "text": [
      "Training: 100%|██████████| 18964/18964 [00:34<00:00, 550.28it/s, Loss=2.1, rmse=0.82, R²=0.0208] \n",
      "Testing: 100%|██████████| 676/676 [00:01<00:00, 668.88it/s, Loss=0.76, R²=0.00867] \n"
     ]
    },
    {
     "name": "stdout",
     "output_type": "stream",
     "text": [
      "Train rmse: 0.82094, Train R2: 0.02083, Train loss: 2.09648\n",
      "Test loss: 0.79861, Test R2: 0.00848\n",
      "\n",
      "Epoch 4:\n"
     ]
    },
    {
     "name": "stderr",
     "output_type": "stream",
     "text": [
      "Training:   7%|▋         | 1239/18964 [00:02<00:30, 575.47it/s, Loss=2.08, rmse=0.817, R²=0.022]/home/mt/miniconda3/envs/tabm/lib/python3.10/site-packages/torch/nn/functional.py:1425: ResourceWarning: unclosed <socket.socket fd=109, family=AddressFamily.AF_INET, type=SocketKind.SOCK_STREAM, proto=0, laddr=('127.0.0.1', 47492), raddr=('127.0.0.1', 49603)>\n",
      "  _VF.dropout_(input, p, training) if inplace else _VF.dropout(input, p, training)\n",
      "ResourceWarning: Enable tracemalloc to get the object allocation traceback\n",
      "Training: 100%|██████████| 18964/18964 [00:34<00:00, 542.00it/s, Loss=2.09, rmse=0.819, R²=0.0223]\n",
      "Testing: 100%|██████████| 676/676 [00:01<00:00, 669.57it/s, Loss=0.76, R²=0.0089]  \n"
     ]
    },
    {
     "name": "stdout",
     "output_type": "stream",
     "text": [
      "Train rmse: 0.82033, Train R2: 0.02227, Train loss: 2.09428\n",
      "Test loss: 0.79851, Test R2: 0.00871\n",
      "Model Saved - Epoch 4 - Test R2: 0.00871\n",
      "\n",
      "\n",
      "Epoch 5:\n"
     ]
    },
    {
     "name": "stderr",
     "output_type": "stream",
     "text": [
      "Training: 100%|██████████| 18964/18964 [00:34<00:00, 542.74it/s, Loss=2.09, rmse=0.819, R²=0.0233]\n",
      "Testing: 100%|██████████| 676/676 [00:01<00:00, 664.09it/s, Loss=0.759, R²=0.00914]\n"
     ]
    },
    {
     "name": "stdout",
     "output_type": "stream",
     "text": [
      "Train rmse: 0.81990, Train R2: 0.02330, Train loss: 2.09280\n",
      "Test loss: 0.79843, Test R2: 0.00891\n",
      "Model Saved - Epoch 5 - Test R2: 0.00891\n",
      "\n",
      "\n",
      "Epoch 6:\n"
     ]
    },
    {
     "name": "stderr",
     "output_type": "stream",
     "text": [
      "Training: 100%|██████████| 18964/18964 [00:34<00:00, 547.20it/s, Loss=2.09, rmse=0.818, R²=0.0242]\n",
      "Testing: 100%|██████████| 676/676 [00:01<00:00, 670.74it/s, Loss=0.759, R²=0.00932]\n"
     ]
    },
    {
     "name": "stdout",
     "output_type": "stream",
     "text": [
      "Train rmse: 0.81954, Train R2: 0.02417, Train loss: 2.09158\n",
      "Test loss: 0.79837, Test R2: 0.00907\n",
      "Model Saved - Epoch 6 - Test R2: 0.00907\n",
      "\n",
      "\n",
      "Epoch 7:\n"
     ]
    },
    {
     "name": "stderr",
     "output_type": "stream",
     "text": [
      "Training: 100%|██████████| 18964/18964 [00:34<00:00, 544.60it/s, Loss=2.09, rmse=0.818, R²=0.0249]\n",
      "Testing: 100%|██████████| 676/676 [00:01<00:00, 665.12it/s, Loss=0.76, R²=0.009]   \n"
     ]
    },
    {
     "name": "stdout",
     "output_type": "stream",
     "text": [
      "Train rmse: 0.81925, Train R2: 0.02485, Train loss: 2.09056\n",
      "Test loss: 0.79848, Test R2: 0.00879\n",
      "\n",
      "Epoch 8:\n"
     ]
    },
    {
     "name": "stderr",
     "output_type": "stream",
     "text": [
      "Training: 100%|██████████| 18964/18964 [00:34<00:00, 545.73it/s, Loss=2.09, rmse=0.818, R²=0.0255]\n",
      "Testing: 100%|██████████| 676/676 [00:01<00:00, 674.27it/s, Loss=0.759, R²=0.00935]\n"
     ]
    },
    {
     "name": "stdout",
     "output_type": "stream",
     "text": [
      "Train rmse: 0.81898, Train R2: 0.02550, Train loss: 2.08976\n",
      "Test loss: 0.79836, Test R2: 0.00910\n",
      "Model Saved - Epoch 8 - Test R2: 0.00910\n",
      "\n",
      "\n",
      "Epoch 9:\n"
     ]
    },
    {
     "name": "stderr",
     "output_type": "stream",
     "text": [
      "Training: 100%|██████████| 18964/18964 [00:34<00:00, 549.05it/s, Loss=2.09, rmse=0.818, R²=0.026] \n",
      "Testing: 100%|██████████| 676/676 [00:01<00:00, 673.71it/s, Loss=0.759, R²=0.00937]\n"
     ]
    },
    {
     "name": "stdout",
     "output_type": "stream",
     "text": [
      "Train rmse: 0.81877, Train R2: 0.02598, Train loss: 2.08907\n",
      "Test loss: 0.79834, Test R2: 0.00913\n",
      "Model Saved - Epoch 9 - Test R2: 0.00913\n",
      "\n",
      "\n",
      "Epoch 10:\n"
     ]
    },
    {
     "name": "stderr",
     "output_type": "stream",
     "text": [
      "Training: 100%|██████████| 18964/18964 [00:34<00:00, 547.60it/s, Loss=2.09, rmse=0.817, R²=0.0265]\n",
      "Testing: 100%|██████████| 676/676 [00:01<00:00, 673.13it/s, Loss=0.759, R²=0.00937]\n"
     ]
    },
    {
     "name": "stdout",
     "output_type": "stream",
     "text": [
      "Train rmse: 0.81857, Train R2: 0.02647, Train loss: 2.08838\n",
      "Test loss: 0.79834, Test R2: 0.00915\n",
      "Model Saved - Epoch 10 - Test R2: 0.00915\n",
      "\n",
      "\n",
      "Epoch 11:\n"
     ]
    },
    {
     "name": "stderr",
     "output_type": "stream",
     "text": [
      "Training: 100%|██████████| 18964/18964 [00:34<00:00, 546.44it/s, Loss=2.09, rmse=0.817, R²=0.0269]\n",
      "Testing: 100%|██████████| 676/676 [00:01<00:00, 670.35it/s, Loss=0.759, R²=0.00938]\n"
     ]
    },
    {
     "name": "stdout",
     "output_type": "stream",
     "text": [
      "Train rmse: 0.81838, Train R2: 0.02693, Train loss: 2.08776\n",
      "Test loss: 0.79834, Test R2: 0.00914\n",
      "\n",
      "Epoch 12:\n"
     ]
    },
    {
     "name": "stderr",
     "output_type": "stream",
     "text": [
      "Training: 100%|██████████| 18964/18964 [00:34<00:00, 546.14it/s, Loss=2.09, rmse=0.817, R²=0.0273]\n",
      "Testing: 100%|██████████| 676/676 [00:01<00:00, 671.42it/s, Loss=0.759, R²=0.00933]\n"
     ]
    },
    {
     "name": "stdout",
     "output_type": "stream",
     "text": [
      "Train rmse: 0.81823, Train R2: 0.02728, Train loss: 2.08731\n",
      "Test loss: 0.79835, Test R2: 0.00911\n",
      "\n",
      "Epoch 13:\n"
     ]
    },
    {
     "name": "stderr",
     "output_type": "stream",
     "text": [
      "Training: 100%|██████████| 18964/18964 [00:34<00:00, 544.41it/s, Loss=2.09, rmse=0.817, R²=0.0277]\n",
      "Testing: 100%|██████████| 676/676 [00:01<00:00, 672.45it/s, Loss=0.759, R²=0.00945]\n"
     ]
    },
    {
     "name": "stdout",
     "output_type": "stream",
     "text": [
      "Train rmse: 0.81804, Train R2: 0.02772, Train loss: 2.08671\n",
      "Test loss: 0.79831, Test R2: 0.00921\n",
      "Model Saved - Epoch 13 - Test R2: 0.00921\n",
      "\n",
      "\n",
      "Epoch 14:\n"
     ]
    },
    {
     "name": "stderr",
     "output_type": "stream",
     "text": [
      "Training: 100%|██████████| 18964/18964 [00:34<00:00, 549.54it/s, Loss=2.09, rmse=0.817, R²=0.0281]\n",
      "Testing: 100%|██████████| 676/676 [00:01<00:00, 670.63it/s, Loss=0.759, R²=0.00947]\n"
     ]
    },
    {
     "name": "stdout",
     "output_type": "stream",
     "text": [
      "Train rmse: 0.81788, Train R2: 0.02811, Train loss: 2.08618\n",
      "Test loss: 0.79831, Test R2: 0.00922\n",
      "Model Saved - Epoch 14 - Test R2: 0.00922\n",
      "\n",
      "\n",
      "Epoch 15:\n"
     ]
    },
    {
     "name": "stderr",
     "output_type": "stream",
     "text": [
      "Training: 100%|██████████| 18964/18964 [00:34<00:00, 547.86it/s, Loss=2.09, rmse=0.817, R²=0.0285]\n",
      "Testing: 100%|██████████| 676/676 [00:01<00:00, 669.41it/s, Loss=0.759, R²=0.00942]\n"
     ]
    },
    {
     "name": "stdout",
     "output_type": "stream",
     "text": [
      "Train rmse: 0.81774, Train R2: 0.02845, Train loss: 2.08574\n",
      "Test loss: 0.79833, Test R2: 0.00916\n",
      "\n",
      "Best Epoch: 14, Best Test R2: 0.00922\n"
     ]
    },
    {
     "name": "stderr",
     "output_type": "stream",
     "text": [
      "/home/mt/miniconda3/envs/tabm/lib/python3.10/site-packages/wandb/sdk/lib/ipython.py:89: DeprecationWarning: Importing display from IPython.core.display is deprecated since IPython 7.14, please import from IPython display\n",
      "  from IPython.core.display import display\n"
     ]
    },
    {
     "data": {
      "application/vnd.jupyter.widget-view+json": {
       "model_id": "bd8ec0cc2a344fb2a19b23ba196b67bd",
       "version_major": 2,
       "version_minor": 0
      },
      "text/plain": [
       "VBox(children=(Label(value='0.004 MB of 0.004 MB uploaded\\r'), FloatProgress(value=1.0, max=1.0)))"
      ]
     },
     "metadata": {},
     "output_type": "display_data"
    },
    {
     "name": "stderr",
     "output_type": "stream",
     "text": [
      "/home/mt/miniconda3/envs/tabm/lib/python3.10/site-packages/wandb/sdk/lib/ipython.py:77: DeprecationWarning: Importing display from IPython.core.display is deprecated since IPython 7.14, please import from IPython display\n",
      "  from IPython.core.display import HTML, display  # type: ignore\n"
     ]
    },
    {
     "data": {
      "text/html": [
       "<style>\n",
       "    table.wandb td:nth-child(1) { padding: 0 10px; text-align: left ; width: auto;} td:nth-child(2) {text-align: left ; width: 100%}\n",
       "    .wandb-row { display: flex; flex-direction: row; flex-wrap: wrap; justify-content: flex-start; width: 100% }\n",
       "    .wandb-col { display: flex; flex-direction: column; flex-basis: 100%; flex: 1; padding: 10px; }\n",
       "    </style>\n",
       "<div class=\"wandb-row\"><div class=\"wandb-col\"><h3>Run history:</h3><br/><table class=\"wandb\"><tr><td>epoch</td><td>▁▁▂▃▃▃▄▅▅▅▆▇▇▇█</td></tr><tr><td>test_loss</td><td>█▅▆▄▃▂▄▂▂▁▂▂▁▁▁</td></tr><tr><td>test_r2</td><td>▁▄▃▅▆▇▅▇▇█▇▇███</td></tr><tr><td>train_loss</td><td>█▅▄▃▃▃▂▂▂▂▂▁▁▁▁</td></tr><tr><td>train_r2</td><td>▁▄▅▅▆▆▆▇▇▇▇▇███</td></tr><tr><td>train_rmse</td><td>█▅▄▄▃▃▃▂▂▂▂▂▁▁▁</td></tr></table><br/></div><div class=\"wandb-col\"><h3>Run summary:</h3><br/><table class=\"wandb\"><tr><td>best_test_r2</td><td>0.00922</td></tr><tr><td>best_train_r2</td><td>0.02845</td></tr><tr><td>epoch</td><td>15</td></tr><tr><td>test_loss</td><td>0.79833</td></tr><tr><td>test_r2</td><td>0.00916</td></tr><tr><td>train_loss</td><td>2.08574</td></tr><tr><td>train_r2</td><td>0.02845</td></tr><tr><td>train_rmse</td><td>0.81774</td></tr></table><br/></div></div>"
      ],
      "text/plain": [
       "<IPython.core.display.HTML object>"
      ]
     },
     "metadata": {},
     "output_type": "display_data"
    },
    {
     "data": {
      "text/html": [
       " View run <strong style=\"color:#cdcd00\">olive-sweep-46</strong> at: <a href='https://wandb.ai/turkenm/js_tabm/runs/6bt968qf' target=\"_blank\">https://wandb.ai/turkenm/js_tabm/runs/6bt968qf</a><br/> View project at: <a href='https://wandb.ai/turkenm/js_tabm' target=\"_blank\">https://wandb.ai/turkenm/js_tabm</a><br/>Synced 6 W&B file(s), 0 media file(s), 0 artifact file(s) and 0 other file(s)"
      ],
      "text/plain": [
       "<IPython.core.display.HTML object>"
      ]
     },
     "metadata": {},
     "output_type": "display_data"
    },
    {
     "data": {
      "text/html": [
       "Find logs at: <code>./wandb/run-20250113_001753-6bt968qf/logs</code>"
      ],
      "text/plain": [
       "<IPython.core.display.HTML object>"
      ]
     },
     "metadata": {},
     "output_type": "display_data"
    },
    {
     "name": "stderr",
     "output_type": "stream",
     "text": [
      "\u001b[34m\u001b[1mwandb\u001b[0m: Sweep Agent: Waiting for job.\n",
      "\u001b[34m\u001b[1mwandb\u001b[0m: Sweep Agent: Exiting.\n"
     ]
    }
   ],
   "source": [
    "wandb.agent(sweep_id, function=train)"
   ]
  },
  {
   "cell_type": "markdown",
   "metadata": {},
   "source": [
    "# Inference Model Training with All Data"
   ]
  },
  {
   "cell_type": "code",
   "execution_count": 31,
   "metadata": {},
   "outputs": [],
   "source": [
    "del data_numpy, data, regression_label_stats, Y_train, scaler\n",
    "gc.collect()\n",
    "torch.cuda.empty_cache()"
   ]
  },
  {
   "cell_type": "code",
   "execution_count": 32,
   "metadata": {},
   "outputs": [
    {
     "name": "stdout",
     "output_type": "stream",
     "text": [
      "Device:        CUDA\n",
      "AMP:           True (dtype: torch.bfloat16)\n",
      "torch.compile: False\n",
      "CPU times: user 22.1 s, sys: 1min 5s, total: 1min 27s\n",
      "Wall time: 20.1 s\n"
     ]
    },
    {
     "data": {
      "text/plain": [
       "118"
      ]
     },
     "execution_count": 32,
     "metadata": {},
     "output_type": "execute_result"
    }
   ],
   "source": [
    "%%time\n",
    "data_numpy, cat_cardinalities, scaler = prepare_data_for_inference(train_df, feature_cols, cat_cols)\n",
    "\n",
    "task_type = 'regression'\n",
    "n_classes = None\n",
    "class RegressionLabelStats(NamedTuple):\n",
    "    mean: float\n",
    "    std: float\n",
    "\n",
    "\n",
    "Y_train = data_numpy['train']['y'].copy()\n",
    "if task_type == 'regression':\n",
    "    regression_label_stats = RegressionLabelStats(\n",
    "        Y_train.mean().item(), Y_train.std().item()\n",
    "    )\n",
    "    Y_train = (Y_train - regression_label_stats.mean) / regression_label_stats.std\n",
    "else:\n",
    "    regression_label_stats = None\n",
    "\n",
    "regression_label_stats\n",
    "\n",
    "device = torch.device('cuda:0' if torch.cuda.is_available() else 'cpu')\n",
    "\n",
    "data = {\n",
    "    part: {k: torch.as_tensor(v, device=device) for k, v in data_numpy[part].items()}\n",
    "    for part in data_numpy\n",
    "}\n",
    "Y_train = torch.as_tensor(Y_train, device=device)\n",
    "if task_type == 'regression':\n",
    "    for part in data:\n",
    "        data[part]['y'] = data[part]['y'].float()\n",
    "    Y_train = Y_train.float()\n",
    "\n",
    "\n",
    "amp_dtype = (\n",
    "    torch.bfloat16\n",
    "    if torch.cuda.is_available() and torch.cuda.is_bf16_supported()\n",
    "    else torch.float16\n",
    "    if torch.cuda.is_available()\n",
    "    else None\n",
    ")\n",
    "amp_enabled = True and amp_dtype is not None\n",
    "grad_scaler = torch.cuda.amp.GradScaler() if amp_dtype is torch.float16 else None  # type: ignore\n",
    "\n",
    "compile_model = False\n",
    "\n",
    "print(\n",
    "    f'Device:        {device.type.upper()}'\n",
    "    f'\\nAMP:           {amp_enabled} (dtype: {amp_dtype})'\n",
    "    f'\\ntorch.compile: {compile_model}'\n",
    ")\n",
    "\n",
    "n_cont_features = data_numpy['train']['x_cont'].shape[1]\n",
    "n_cont_features"
   ]
  },
  {
   "cell_type": "code",
   "execution_count": 33,
   "metadata": {},
   "outputs": [
    {
     "name": "stderr",
     "output_type": "stream",
     "text": [
      "Failed to detect the name of this notebook, you can set it manually with the WANDB_NOTEBOOK_NAME environment variable to enable code saving.\n",
      "\u001b[34m\u001b[1mwandb\u001b[0m: Currently logged in as: \u001b[33mturkenm\u001b[0m. Use \u001b[1m`wandb login --relogin`\u001b[0m to force relogin\n",
      "/home/mt/miniconda3/envs/tabm/lib/python3.10/site-packages/wandb/sdk/lib/ipython.py:77: DeprecationWarning: Importing display from IPython.core.display is deprecated since IPython 7.14, please import from IPython display\n",
      "  from IPython.core.display import HTML, display  # type: ignore\n"
     ]
    },
    {
     "data": {
      "text/html": [
       "wandb version 0.19.2 is available!  To upgrade, please run:\n",
       " $ pip install wandb --upgrade"
      ],
      "text/plain": [
       "<IPython.core.display.HTML object>"
      ]
     },
     "metadata": {},
     "output_type": "display_data"
    },
    {
     "data": {
      "text/html": [
       "Tracking run with wandb version 0.16.6"
      ],
      "text/plain": [
       "<IPython.core.display.HTML object>"
      ]
     },
     "metadata": {},
     "output_type": "display_data"
    },
    {
     "data": {
      "text/html": [
       "Run data is saved locally in <code>/home/mt/Desktop/JaneStreet-Comp/wandb/run-20250113_004514-mga9sg38</code>"
      ],
      "text/plain": [
       "<IPython.core.display.HTML object>"
      ]
     },
     "metadata": {},
     "output_type": "display_data"
    },
    {
     "data": {
      "text/html": [
       "Syncing run <strong><a href='https://wandb.ai/turkenm/js_tabm/runs/mga9sg38' target=\"_blank\">inference_tabm-mini_dblocks_128_nblocks_3_LR_1e-04_BS_1024_DR_0.15_nk_32_id_18313</a></strong> to <a href='https://wandb.ai/turkenm/js_tabm' target=\"_blank\">Weights & Biases</a> (<a href='https://wandb.me/run' target=\"_blank\">docs</a>)<br/>"
      ],
      "text/plain": [
       "<IPython.core.display.HTML object>"
      ]
     },
     "metadata": {},
     "output_type": "display_data"
    },
    {
     "data": {
      "text/html": [
       " View project at <a href='https://wandb.ai/turkenm/js_tabm' target=\"_blank\">https://wandb.ai/turkenm/js_tabm</a>"
      ],
      "text/plain": [
       "<IPython.core.display.HTML object>"
      ]
     },
     "metadata": {},
     "output_type": "display_data"
    },
    {
     "data": {
      "text/html": [
       " View run at <a href='https://wandb.ai/turkenm/js_tabm/runs/mga9sg38' target=\"_blank\">https://wandb.ai/turkenm/js_tabm/runs/mga9sg38</a>"
      ],
      "text/plain": [
       "<IPython.core.display.HTML object>"
      ]
     },
     "metadata": {},
     "output_type": "display_data"
    },
    {
     "name": "stdout",
     "output_type": "stream",
     "text": [
      "EXPERIMENT inference_tabm-mini_dblocks_128_nblocks_3_LR_1e-04_BS_1024_DR_0.15_nk_32_id_18313\n",
      "\n",
      "\n",
      "Epoch 1:\n"
     ]
    },
    {
     "name": "stderr",
     "output_type": "stream",
     "text": [
      "Training: 100%|██████████| 24370/24370 [01:12<00:00, 335.29it/s, Loss=2.17, rmse=0.817, R²=0.0117] \n"
     ]
    },
    {
     "name": "stdout",
     "output_type": "stream",
     "text": [
      "Train loss: 2.17037, Train R2: 0.01179\n",
      "Model Saved - Epoch 1 - Test R2: 0.01179\n",
      "\n",
      "Epoch 2:\n"
     ]
    },
    {
     "name": "stderr",
     "output_type": "stream",
     "text": [
      "Training: 100%|██████████| 24370/24370 [01:12<00:00, 338.08it/s, Loss=2.16, rmse=0.815, R²=0.0163]\n"
     ]
    },
    {
     "name": "stdout",
     "output_type": "stream",
     "text": [
      "Train loss: 2.16282, Train R2: 0.01630\n",
      "Model Saved - Epoch 2 - Test R2: 0.01630\n",
      "\n",
      "Epoch 3:\n"
     ]
    },
    {
     "name": "stderr",
     "output_type": "stream",
     "text": [
      "Training: 100%|██████████| 24370/24370 [01:11<00:00, 338.97it/s, Loss=2.16, rmse=0.814, R²=0.0179]\n"
     ]
    },
    {
     "name": "stdout",
     "output_type": "stream",
     "text": [
      "Train loss: 2.16014, Train R2: 0.01791\n",
      "Model Saved - Epoch 3 - Test R2: 0.01791\n",
      "\n",
      "Epoch 4:\n"
     ]
    },
    {
     "name": "stderr",
     "output_type": "stream",
     "text": [
      "Training: 100%|██████████| 24370/24370 [01:12<00:00, 337.84it/s, Loss=2.16, rmse=0.814, R²=0.0195]\n"
     ]
    },
    {
     "name": "stdout",
     "output_type": "stream",
     "text": [
      "Train loss: 2.15780, Train R2: 0.01948\n",
      "Model Saved - Epoch 4 - Test R2: 0.01948\n",
      "\n",
      "Epoch 5:\n"
     ]
    },
    {
     "name": "stderr",
     "output_type": "stream",
     "text": [
      "Training: 100%|██████████| 24370/24370 [01:11<00:00, 342.09it/s, Loss=2.15, rmse=0.813, R²=0.0221]\n"
     ]
    },
    {
     "name": "stdout",
     "output_type": "stream",
     "text": [
      "Train loss: 2.15421, Train R2: 0.02216\n",
      "Model Saved - Epoch 5 - Test R2: 0.02216\n",
      "\n",
      "Epoch 6:\n"
     ]
    },
    {
     "name": "stderr",
     "output_type": "stream",
     "text": [
      "Training: 100%|██████████| 24370/24370 [01:11<00:00, 342.58it/s, Loss=2.15, rmse=0.812, R²=0.0251]\n"
     ]
    },
    {
     "name": "stdout",
     "output_type": "stream",
     "text": [
      "Train loss: 2.14951, Train R2: 0.02512\n",
      "Model Saved - Epoch 6 - Test R2: 0.02512\n",
      "\n",
      "Epoch 7:\n"
     ]
    },
    {
     "name": "stderr",
     "output_type": "stream",
     "text": [
      "Training: 100%|██████████| 24370/24370 [01:10<00:00, 344.64it/s, Loss=2.14, rmse=0.81, R²=0.0281] \n"
     ]
    },
    {
     "name": "stdout",
     "output_type": "stream",
     "text": [
      "Train loss: 2.14384, Train R2: 0.02816\n",
      "Model Saved - Epoch 7 - Test R2: 0.02816\n",
      "\n",
      "Epoch 8:\n"
     ]
    },
    {
     "name": "stderr",
     "output_type": "stream",
     "text": [
      "Training: 100%|██████████| 24370/24370 [01:10<00:00, 344.36it/s, Loss=2.14, rmse=0.809, R²=0.0313]\n"
     ]
    },
    {
     "name": "stdout",
     "output_type": "stream",
     "text": [
      "Train loss: 2.13805, Train R2: 0.03129\n",
      "Model Saved - Epoch 8 - Test R2: 0.03129\n",
      "\n",
      "Epoch 9:\n"
     ]
    },
    {
     "name": "stderr",
     "output_type": "stream",
     "text": [
      "Training: 100%|██████████| 24370/24370 [01:10<00:00, 346.03it/s, Loss=2.13, rmse=0.808, R²=0.0336]\n"
     ]
    },
    {
     "name": "stdout",
     "output_type": "stream",
     "text": [
      "Train loss: 2.13339, Train R2: 0.03360\n",
      "Model Saved - Epoch 9 - Test R2: 0.03360\n",
      "\n",
      "Epoch 10:\n"
     ]
    },
    {
     "name": "stderr",
     "output_type": "stream",
     "text": [
      "Training: 100%|██████████| 24370/24370 [01:09<00:00, 349.15it/s, Loss=2.13, rmse=0.807, R²=0.0362]\n"
     ]
    },
    {
     "name": "stdout",
     "output_type": "stream",
     "text": [
      "Train loss: 2.12910, Train R2: 0.03621\n",
      "Model Saved - Epoch 10 - Test R2: 0.03621\n",
      "\n",
      "Epoch 11:\n"
     ]
    },
    {
     "name": "stderr",
     "output_type": "stream",
     "text": [
      "Training: 100%|██████████| 24370/24370 [01:10<00:00, 347.24it/s, Loss=2.12, rmse=0.805, R²=0.0396]\n"
     ]
    },
    {
     "name": "stdout",
     "output_type": "stream",
     "text": [
      "Train loss: 2.12426, Train R2: 0.03966\n",
      "Model Saved - Epoch 11 - Test R2: 0.03966\n",
      "\n",
      "Epoch 12:\n"
     ]
    },
    {
     "name": "stderr",
     "output_type": "stream",
     "text": [
      "Training: 100%|██████████| 24370/24370 [01:10<00:00, 346.59it/s, Loss=2.12, rmse=0.805, R²=0.0419]\n"
     ]
    },
    {
     "name": "stdout",
     "output_type": "stream",
     "text": [
      "Train loss: 2.12039, Train R2: 0.04196\n",
      "Model Saved - Epoch 12 - Test R2: 0.04196\n",
      "\n",
      "Epoch 13:\n"
     ]
    },
    {
     "name": "stderr",
     "output_type": "stream",
     "text": [
      "Training: 100%|██████████| 24370/24370 [01:10<00:00, 345.48it/s, Loss=2.12, rmse=0.803, R²=0.0445]\n"
     ]
    },
    {
     "name": "stdout",
     "output_type": "stream",
     "text": [
      "Train loss: 2.11624, Train R2: 0.04458\n",
      "Model Saved - Epoch 13 - Test R2: 0.04458\n",
      "\n",
      "Epoch 14:\n"
     ]
    },
    {
     "name": "stderr",
     "output_type": "stream",
     "text": [
      "Training: 100%|██████████| 24370/24370 [01:10<00:00, 345.62it/s, Loss=2.11, rmse=0.802, R²=0.0471]\n"
     ]
    },
    {
     "name": "stdout",
     "output_type": "stream",
     "text": [
      "Train loss: 2.11220, Train R2: 0.04711\n",
      "Model Saved - Epoch 14 - Test R2: 0.04711\n",
      "\n",
      "Epoch 15:\n"
     ]
    },
    {
     "name": "stderr",
     "output_type": "stream",
     "text": [
      "Training: 100%|██████████| 24370/24370 [01:09<00:00, 351.39it/s, Loss=2.11, rmse=0.801, R²=0.0497]\n"
     ]
    },
    {
     "name": "stdout",
     "output_type": "stream",
     "text": [
      "Train loss: 2.10778, Train R2: 0.04975\n",
      "Model Saved - Epoch 15 - Test R2: 0.04975\n"
     ]
    },
    {
     "name": "stderr",
     "output_type": "stream",
     "text": [
      "/home/mt/miniconda3/envs/tabm/lib/python3.10/site-packages/wandb/sdk/lib/ipython.py:89: DeprecationWarning: Importing display from IPython.core.display is deprecated since IPython 7.14, please import from IPython display\n",
      "  from IPython.core.display import display\n"
     ]
    },
    {
     "data": {
      "application/vnd.jupyter.widget-view+json": {
       "model_id": "8b8b03f4682b4f1491006a1605b41e05",
       "version_major": 2,
       "version_minor": 0
      },
      "text/plain": [
       "VBox(children=(Label(value='0.004 MB of 0.004 MB uploaded\\r'), FloatProgress(value=1.0, max=1.0)))"
      ]
     },
     "metadata": {},
     "output_type": "display_data"
    },
    {
     "name": "stderr",
     "output_type": "stream",
     "text": [
      "/home/mt/miniconda3/envs/tabm/lib/python3.10/site-packages/wandb/sdk/lib/ipython.py:77: DeprecationWarning: Importing display from IPython.core.display is deprecated since IPython 7.14, please import from IPython display\n",
      "  from IPython.core.display import HTML, display  # type: ignore\n"
     ]
    },
    {
     "data": {
      "text/html": [
       "<style>\n",
       "    table.wandb td:nth-child(1) { padding: 0 10px; text-align: left ; width: auto;} td:nth-child(2) {text-align: left ; width: 100%}\n",
       "    .wandb-row { display: flex; flex-direction: row; flex-wrap: wrap; justify-content: flex-start; width: 100% }\n",
       "    .wandb-col { display: flex; flex-direction: column; flex-basis: 100%; flex: 1; padding: 10px; }\n",
       "    </style>\n",
       "<div class=\"wandb-row\"><div class=\"wandb-col\"><h3>Run history:</h3><br/><table class=\"wandb\"><tr><td>epoch</td><td>▁▁▂▃▃▃▄▅▅▅▆▇▇▇█</td></tr><tr><td>train_loss</td><td>█▇▇▇▆▆▅▄▄▃▃▂▂▁▁</td></tr><tr><td>train_r2</td><td>▁▂▂▂▃▃▄▅▅▆▆▇▇██</td></tr><tr><td>train_rmse</td><td>█▇▇▇▆▆▅▄▄▄▃▂▂▁▁</td></tr></table><br/></div><div class=\"wandb-col\"><h3>Run summary:</h3><br/><table class=\"wandb\"><tr><td>best_train_r2</td><td>0.04975</td></tr><tr><td>epoch</td><td>15</td></tr><tr><td>train_loss</td><td>2.10778</td></tr><tr><td>train_r2</td><td>0.04975</td></tr><tr><td>train_rmse</td><td>0.80226</td></tr></table><br/></div></div>"
      ],
      "text/plain": [
       "<IPython.core.display.HTML object>"
      ]
     },
     "metadata": {},
     "output_type": "display_data"
    },
    {
     "data": {
      "text/html": [
       " View run <strong style=\"color:#cdcd00\">inference_tabm-mini_dblocks_128_nblocks_3_LR_1e-04_BS_1024_DR_0.15_nk_32_id_18313</strong> at: <a href='https://wandb.ai/turkenm/js_tabm/runs/mga9sg38' target=\"_blank\">https://wandb.ai/turkenm/js_tabm/runs/mga9sg38</a><br/> View project at: <a href='https://wandb.ai/turkenm/js_tabm' target=\"_blank\">https://wandb.ai/turkenm/js_tabm</a><br/>Synced 6 W&B file(s), 0 media file(s), 0 artifact file(s) and 0 other file(s)"
      ],
      "text/plain": [
       "<IPython.core.display.HTML object>"
      ]
     },
     "metadata": {},
     "output_type": "display_data"
    },
    {
     "data": {
      "text/html": [
       "Find logs at: <code>./wandb/run-20250113_004514-mga9sg38/logs</code>"
      ],
      "text/plain": [
       "<IPython.core.display.HTML object>"
      ]
     },
     "metadata": {},
     "output_type": "display_data"
    },
    {
     "name": "stdout",
     "output_type": "stream",
     "text": [
      "CPU times: user 17min 33s, sys: 19.8 s, total: 17min 53s\n",
      "Wall time: 17min 58s\n"
     ]
    },
    {
     "data": {
      "text/plain": [
       "['tabm_experiment_logs/inference_tabm-mini_dblocks_128_nblocks_3_LR_1e-04_BS_1024_DR_0.15_nk_32_id_18313_log_dict.pkl']"
      ]
     },
     "execution_count": 33,
     "metadata": {},
     "output_type": "execute_result"
    }
   ],
   "source": [
    "%%time\n",
    "####### Inference Inputs ########\n",
    "# BATCH_SIZE = result_dict[\"batch_size\"]\n",
    "# drop_rate = result_dict[\"drop_out\"]\n",
    "# model_arch = result_dict[\"model_arch\"]\n",
    "# LR = result_dict[\"learning_rate\"]\n",
    "# w_decay = result_dict[\"weight_decay\"]\n",
    "# d_block = result_dict[\"d_block\"]\n",
    "# n_block = result_dict[\"n_block\"]\n",
    "# n_k = result_dict[\"model_k\"]\n",
    "\n",
    "BATCH_SIZE = 1024\n",
    "drop_rate = 0.15\n",
    "model_arch = \"tabm-mini\"\n",
    "LR = 1.5e-4\n",
    "w_decay = 1e-4\n",
    "d_block = 128\n",
    "n_block = 3\n",
    "n_k = 32\n",
    "\n",
    "short_id = int(time.time()) % 100000\n",
    "exp_name = f\"inference_{model_arch}_dblocks_{d_block}_nblocks_{n_block}_LR_{format(LR, '.0e')}_BS_{BATCH_SIZE}_DR_{drop_rate}_nk_{n_k}_id_{short_id}\"\n",
    "details = exp_name\n",
    "\n",
    "#################################################################\n",
    "inference_dict = { \"details\": str,\n",
    "    'epoch': [],\n",
    "    'train_loss': [],\n",
    "    'train_r2': [],\n",
    "    \"train_rmse\" : [],\n",
    "    'learning_rate': [],\n",
    "    'batch_size' : int,\n",
    "    'drop_out' : float,\n",
    "    'model_arch' : str,\n",
    "    'd_block' : int,\n",
    "    'n_block' : int,\n",
    "    'model_k' : int,\n",
    "    'weight_decay' : float,\n",
    "}\n",
    "\n",
    "\n",
    "inference_dict[\"batch_size\"] = BATCH_SIZE\n",
    "inference_dict[\"learning_rate\"] = LR\n",
    "inference_dict[\"drop_out\"] = drop_rate\n",
    "inference_dict[\"model_arch\"] = model_arch\n",
    "inference_dict[\"details\"] = details\n",
    "inference_dict[\"d_block\"] = d_block\n",
    "inference_dict[\"n_block\"] = n_block\n",
    "inference_dict[\"model_k\"] = n_k\n",
    "inference_dict[\"weight_decay\"] = w_decay\n",
    "\n",
    "wandb.init(\n",
    "    project=\"js_tabm\", \n",
    "    name=exp_name,\n",
    "    tags = [\"inference\", \"tabm_v16\"],\n",
    "    config={ \n",
    "        \"batch_size\": BATCH_SIZE,\n",
    "        \"learning_rate\": LR,\n",
    "        \"drop_out\": drop_rate,\n",
    "        \"model_arch\": model_arch,\n",
    "        \"n_block\": n_block,\n",
    "        \"d_block\": d_block,\n",
    "        \"feature_cols\": feature_cols,\n",
    "        \"model_k\": n_k,\n",
    "        \"weight_decay\": w_decay,\n",
    "    },\n",
    ")\n",
    "\n",
    "best = {\n",
    "    'epoch': -1,\n",
    "    'train_r2': -math.inf,\n",
    "    'model_state_dict': None,\n",
    "}\n",
    "print(f\"EXPERIMENT {exp_name}\\n\")\n",
    "\n",
    "arch_type = model_arch\n",
    "bins = None\n",
    "\n",
    "# TabM-mini with the piecewise-linear embeddings.\n",
    "# arch_type = 'tabm-mini'\n",
    "# bins = rtdl_num_embeddings.compute_bins(data['train']['x_cont'])\n",
    "\n",
    "model = Model(\n",
    "    n_num_features=n_cont_features,\n",
    "    cat_cardinalities=cat_cardinalities,\n",
    "    n_classes=n_classes,\n",
    "    backbone={\n",
    "        'type': 'MLP',\n",
    "        'n_blocks': n_block,\n",
    "        'd_block': d_block,\n",
    "        'dropout': drop_rate,\n",
    "    },\n",
    "    bins=bins,\n",
    "    num_embeddings=(\n",
    "        None\n",
    "        if bins is None\n",
    "        else {\n",
    "            'type': 'PiecewiseLinearEmbeddings',\n",
    "            'd_embedding': 16,\n",
    "            'activation': False,\n",
    "            'version': 'B',\n",
    "        }\n",
    "    ),\n",
    "    arch_type=arch_type,\n",
    "    k=n_k,\n",
    ").to(device)\n",
    "\n",
    "optimizer = torch.optim.AdamW(make_parameter_groups(model), lr=LR, weight_decay = w_decay)\n",
    "\n",
    "for epoch in range(15):\n",
    "    print(f\"\\nEpoch {epoch + 1}:\")\n",
    "    train_loss, train_r2, train_rmse = train_step(model = model, optimizer = optimizer, loss_fn = loss_fn2, batch_size = BATCH_SIZE, device = device)\n",
    "    print(f\"Train loss: {train_loss:.5f}, Train R2: {train_r2:.5f}\")\n",
    "\n",
    "    inference_dict[\"epoch\"].append(epoch + 1)\n",
    "    inference_dict[\"train_loss\"].append(train_loss)\n",
    "    inference_dict[\"train_r2\"].append(train_r2)\n",
    "    inference_dict[\"train_rmse\"].append(train_rmse)\n",
    "\n",
    "    wandb.log({\n",
    "        \"epoch\": epoch + 1,\n",
    "        \"train_loss\": train_loss,\n",
    "        \"train_r2\": train_r2,\n",
    "        \"train_rmse\": train_rmse\n",
    "    })\n",
    "\n",
    "    if train_r2 > best[\"train_r2\"]:\n",
    "        print(f\"Model Saved - Epoch {epoch+1} - Test R2: {train_r2:.5f}\")\n",
    "        best['epoch'] = epoch\n",
    "        best[\"train_r2\"] = train_r2\n",
    "        best[\"model_state_dict\"] = model.state_dict()\n",
    "\n",
    "    torch.save(model.state_dict(), f\"tabm_model_folder/tabm_v16_model_results/tabm_v16_{epoch+1}_{train_r2:.5f}_full_data.pt\")\n",
    "\n",
    "wandb.run.summary[\"best_train_r2\"] = best[\"train_r2\"]\n",
    "wandb.finish()\n",
    "\n",
    "joblib.dump(inference_dict, f\"tabm_experiment_logs/{exp_name}_log_dict.pkl\")"
   ]
  },
  {
   "cell_type": "code",
   "execution_count": 34,
   "metadata": {},
   "outputs": [
    {
     "data": {
      "text/plain": [
       "['tabm_model_folder/tabm_v16_model_results/tabm_v16_model_config.pkl']"
      ]
     },
     "execution_count": 34,
     "metadata": {},
     "output_type": "execute_result"
    }
   ],
   "source": [
    "tabm_version = \"v16\"\n",
    "model_config = {'model_arch': model_arch,\n",
    "                'd_block': d_block,\n",
    "                'drop_rate': drop_rate,\n",
    "                'LR': LR,\n",
    "                'BATCH_SIZE': BATCH_SIZE,\n",
    "                'n_cont_features': n_cont_features,\n",
    "                'cat_cardinalities': cat_cardinalities,\n",
    "                'weight_decay' : w_decay,\n",
    "                'd_block' : d_block,\n",
    "                'n_block' : n_block,\n",
    "                'model_k' : n_k,\n",
    "                'scaler': scaler,\n",
    "                'reg_stats_mean': regression_label_stats.mean,\n",
    "                'reg_stats_std': regression_label_stats.std,\n",
    "                'feature_cols' : feature_cols,\n",
    "                'cat_features' : cat_cols,\n",
    "                }\n",
    "\n",
    "joblib.dump(model_config, f\"tabm_model_folder/tabm_{tabm_version}_model_results/tabm_{tabm_version}_model_config.pkl\")\n"
   ]
  },
  {
   "cell_type": "code",
   "execution_count": 61,
   "metadata": {},
   "outputs": [],
   "source": [
    "del model, optimizer, data_numpy, data\n",
    "gc.collect()\n",
    "torch.cuda.empty_cache()"
   ]
  },
  {
   "cell_type": "code",
   "execution_count": 37,
   "metadata": {},
   "outputs": [
    {
     "data": {
      "image/png": "[encoded data removed]",
      "text/plain": [
       "<Figure size 1200x700 with 1 Axes>"
      ]
     },
     "metadata": {},
     "output_type": "display_data"
    }
   ],
   "source": [
    "plt.figure(figsize=(12, 7))\n",
    "\n",
    "plt.plot(result_dict2['train_r2'], label='Train R2', marker='s')\n",
    "for i, val in enumerate(result_dict2['train_r2']):\n",
    "    plt.annotate(f'{val:.4f}', (i, val), xytext=(5, 5), textcoords='offset points')\n",
    "\n",
    "plt.plot(result_dict2['test_r2'], label='Test R2', marker='^')\n",
    "for i, val in enumerate(result_dict2['test_r2']):\n",
    "    plt.annotate(f'{val:.4f}', (i, val), xytext=(5, 5), textcoords='offset points')\n",
    "\n",
    "plt.title('Model Metrics Comparison with Values')\n",
    "plt.xlabel('Iteration/Epoch')\n",
    "plt.ylabel('Metric Value')\n",
    "plt.legend()\n",
    "plt.grid(True)\n",
    "plt.tight_layout()\n",
    "plt.show()"
   ]
  }
 ],
 "metadata": {
  "kernelspec": {
   "display_name": "tabm",
   "language": "python",
   "name": "python3"
  },
  "language_info": {
   "codemirror_mode": {
    "name": "ipython",
    "version": 3
   },
   "file_extension": ".py",
   "mimetype": "text/x-python",
   "name": "python",
   "nbconvert_exporter": "python",
   "pygments_lexer": "ipython3",
   "version": "3.10.12"
  }
 },
 "nbformat": 4,
 "nbformat_minor": 2
}

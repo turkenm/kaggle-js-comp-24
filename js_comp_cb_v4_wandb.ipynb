{
 "cells": [
  {
   "cell_type": "code",
   "execution_count": 1,
   "metadata": {},
   "outputs": [],
   "source": [
    "import pandas as pd \n",
    "import numpy as np\n",
    "import matplotlib.pyplot as plt\n",
    "import seaborn as sns\n",
    "import polars as pl\n",
    "import gc\n",
    "from sklearn.metrics import r2_score\n",
    "from catboost import CatBoostRegressor, Pool\n",
    "import seaborn as sns\n",
    "import joblib\n",
    "import lightgbm as lgb\n",
    "from sklearn.inspection import permutation_importance\n",
    "import os\n",
    "import wandb\n",
    "import time"
   ]
  },
  {
   "cell_type": "code",
   "execution_count": 2,
   "metadata": {},
   "outputs": [],
   "source": [
    "def weighted_r2_metric(y_true, y_pred, weights=None):\n",
    "    if weights is None:\n",
    "        weights = np.ones_like(y_true)\n",
    "\n",
    "    numerator = np.sum(weights * (y_true - y_pred)**2)\n",
    "\n",
    "    y_weighted_mean = np.sum(weights * y_true) / np.sum(weights)\n",
    "    denominator = np.sum(weights * (y_true - y_weighted_mean)**2)\n",
    "\n",
    "    score = 1 - (numerator / denominator)\n",
    "    return 'weighted_r2', score, True\n",
    "\n",
    "responder_cols = [f\"responder_{col}\" for col in range(9)]"
   ]
  },
  {
   "cell_type": "code",
   "execution_count": 3,
   "metadata": {},
   "outputs": [],
   "source": [
    "df_list = []\n",
    "for part_in in [\"6\",\"7\",\"8\",\"9\"]:\n",
    "    part_id = part_in\n",
    "    data_dir = f\"train.parquet/partition_id={part_id}/part-0.parquet\"\n",
    "    df_list.append(pl.read_parquet(data_dir))\n",
    "    gc.collect()"
   ]
  },
  {
   "cell_type": "code",
   "execution_count": 4,
   "metadata": {},
   "outputs": [
    {
     "data": {
      "text/plain": [
       "0"
      ]
     },
     "execution_count": 4,
     "metadata": {},
     "output_type": "execute_result"
    }
   ],
   "source": [
    "train_df = pl.concat(df_list)\n",
    "del df_list\n",
    "gc.collect()"
   ]
  },
  {
   "cell_type": "code",
   "execution_count": 6,
   "metadata": {},
   "outputs": [],
   "source": [
    "def create_daily_stats(train_df, target_col):\n",
    "    daily_avg = (\n",
    "        train_df\n",
    "        .group_by([\"symbol_id\", \"date_id\"], maintain_order=True)\n",
    "        .agg([pl.col(target_col).mean().alias(\"daily_avg\"), \n",
    "            pl.col(target_col).std().alias(\"daily_std\"),\n",
    "            pl.col(target_col).min().alias(\"daily_min\"),\n",
    "            pl.col(target_col).max().alias(\"daily_max\"),\n",
    "            pl.col(target_col).median().alias(\"daily_median\"),\n",
    "            pl.col(target_col).skew().alias(\"daily_skew\"),\n",
    "            pl.col(target_col).kurtosis().alias(\"daily_kurtosis\"),\n",
    "            pl.col(target_col).last().alias(\"last_value\"),\n",
    "            pl.col(target_col).first().alias(\"first_value\"),\n",
    "            (pl.col(target_col).max() - pl.col(target_col).min()).alias(\"daily_range\"),\n",
    "            pl.col(target_col).sum().alias(\"target_sum\"),\n",
    "            pl.col(target_col).count().alias(\"daily_count\")\n",
    "            ]\n",
    "            )\n",
    "    )\n",
    "    daily_avg = daily_avg.sort([\"symbol_id\", \"date_id\"])\n",
    "\n",
    "    columns_to_shift = [\"daily_avg\", \"daily_std\", \"daily_min\", \"daily_max\", \"daily_median\", \"daily_skew\", \"daily_kurtosis\", \"last_value\", \"first_value\",\n",
    "    \"daily_range\", \"target_sum\", \"date_id\", \"daily_count\"]\n",
    "\n",
    "    daily_avg = daily_avg.with_columns([\n",
    "        pl.col(col_name)\n",
    "        .shift(1)\n",
    "        .over(\"symbol_id\")\n",
    "        .alias(f\"lag_1_{col_name}_{target_col}\")\n",
    "        for col_name in columns_to_shift\n",
    "        ])\n",
    "\n",
    "    s1 = [f\"lag_1_{col_name}_{target_col}\" for col_name in columns_to_shift if col_name != \"date_id\"]\n",
    "\n",
    "    selected_cols = [\"symbol_id\",\"date_id\"] + s1\n",
    "    daily_avg = daily_avg.select(selected_cols)\n",
    "\n",
    "    train_df = train_df.join(daily_avg,\n",
    "              on=[\"symbol_id\", \"date_id\"],\n",
    "              how=\"left\")\n",
    "\n",
    "    return train_df\n",
    "\n",
    "def create_daily_stats2(train_df, target_col):\n",
    "    daily_avg = (\n",
    "        train_df\n",
    "        .group_by([\"symbol_id\", \"date_id\"], maintain_order = True)\n",
    "        .agg([pl.col(target_col).mean().alias(\"daily_avg\"), \n",
    "            pl.col(target_col).std().alias(\"daily_std\"),\n",
    "            pl.col(target_col).min().alias(\"daily_min\"),\n",
    "            pl.col(target_col).max().alias(\"daily_max\"),\n",
    "            pl.col(target_col).median().alias(\"daily_median\"),\n",
    "            pl.col(target_col).last().alias(\"last_value\"),\n",
    "            (pl.col(target_col).max() - pl.col(target_col).min()).alias(\"daily_range\"),\n",
    "            pl.col(target_col).sum().alias(\"target_sum\"),\n",
    "            ]\n",
    "            )\n",
    "    )\n",
    "    daily_avg = daily_avg.sort([\"symbol_id\", \"date_id\"])\n",
    "\n",
    "    columns_to_shift = [\"daily_avg\", \"daily_std\", \"daily_min\", \"daily_max\", \"daily_median\", \"last_value\",\"daily_range\", \"target_sum\"]\n",
    "\n",
    "    daily_avg = daily_avg.with_columns([\n",
    "        pl.col(col_name)\n",
    "        .shift(1)\n",
    "        .over(\"symbol_id\")\n",
    "        .alias(f\"lag_1_{col_name}_{target_col}\")\n",
    "        for col_name in columns_to_shift\n",
    "    ])\n",
    "\n",
    "\n",
    "    s1 = [f\"lag_1_{col_name}_{target_col}\" for col_name in columns_to_shift if col_name != \"date_id\"]\n",
    "\n",
    "    selected_cols = [\"symbol_id\",\"date_id\"] + s1\n",
    "    daily_avg = daily_avg.select(selected_cols)\n",
    "\n",
    "    train_df = train_df.join(daily_avg,\n",
    "              on=[\"symbol_id\", \"date_id\"],\n",
    "              how=\"left\")\n",
    "\n",
    "    train_df = train_df.sort([\"date_id\", \"time_id\", \"symbol_id\"])\n",
    "    gc.collect()\n",
    "    return train_df\n"
   ]
  },
  {
   "cell_type": "code",
   "execution_count": 7,
   "metadata": {},
   "outputs": [
    {
     "name": "stdout",
     "output_type": "stream",
     "text": [
      "CPU times: user 7.1 s, sys: 2.25 s, total: 9.35 s\n",
      "Wall time: 605 ms\n"
     ]
    },
    {
     "data": {
      "text/plain": [
       "0"
      ]
     },
     "execution_count": 7,
     "metadata": {},
     "output_type": "execute_result"
    }
   ],
   "source": [
    "%%time\n",
    "for col_name in [\"responder_6\"]:\n",
    "    train_df = create_daily_stats(train_df, col_name)\n",
    "gc.collect()"
   ]
  },
  {
   "cell_type": "code",
   "execution_count": 8,
   "metadata": {},
   "outputs": [
    {
     "name": "stdout",
     "output_type": "stream",
     "text": [
      "CPU times: user 2min 17s, sys: 1min 57s, total: 4min 15s\n",
      "Wall time: 16.7 s\n"
     ]
    },
    {
     "data": {
      "text/plain": [
       "0"
      ]
     },
     "execution_count": 8,
     "metadata": {},
     "output_type": "execute_result"
    }
   ],
   "source": [
    "%%time\n",
    "for col_name in [\"responder_0\",\"responder_1\",\"responder_2\",\"responder_3\",\"responder_4\",\"responder_5\",\"responder_7\",\"responder_8\"]:\n",
    "    train_df = create_daily_stats2(train_df, col_name)\n",
    "gc.collect()"
   ]
  },
  {
   "cell_type": "code",
   "execution_count": 9,
   "metadata": {},
   "outputs": [
    {
     "data": {
      "text/plain": [
       "0"
      ]
     },
     "execution_count": 9,
     "metadata": {},
     "output_type": "execute_result"
    }
   ],
   "source": [
    "train_df = train_df.with_columns([\n",
    "    (2 * np.pi * pl.col(\"time_id\") / 967).sin().alias(\"sin_time_id\").cast(pl.Float32),\n",
    "    (2 * np.pi * pl.col(\"time_id\") / 967).cos().alias(\"cos_time_id\").cast(pl.Float32),\n",
    "])\n",
    "gc.collect()"
   ]
  },
  {
   "cell_type": "code",
   "execution_count": 10,
   "metadata": {},
   "outputs": [
    {
     "name": "stdout",
     "output_type": "stream",
     "text": [
      "CPU times: user 1.99 s, sys: 4.37 s, total: 6.36 s\n",
      "Wall time: 525 ms\n"
     ]
    },
    {
     "data": {
      "text/plain": [
       "0"
      ]
     },
     "execution_count": 10,
     "metadata": {},
     "output_type": "execute_result"
    }
   ],
   "source": [
    "%%time\n",
    "default_features = [f\"feature_{idx:02d}\" for idx in range(79)]\n",
    "train_df = train_df.with_columns(null_count = pl.sum_horizontal([pl.col(col).is_null() for col in default_features]))\n",
    "gc.collect()"
   ]
  },
  {
   "cell_type": "code",
   "execution_count": 11,
   "metadata": {},
   "outputs": [
    {
     "data": {
      "text/plain": [
       "0"
      ]
     },
     "execution_count": 11,
     "metadata": {},
     "output_type": "execute_result"
    }
   ],
   "source": [
    "polars_train_df = train_df\n",
    "train_df = polars_train_df.to_pandas()\n",
    "del polars_train_df\n",
    "gc.collect()"
   ]
  },
  {
   "cell_type": "code",
   "execution_count": 12,
   "metadata": {},
   "outputs": [
    {
     "data": {
      "text/plain": [
       "0"
      ]
     },
     "execution_count": 12,
     "metadata": {},
     "output_type": "execute_result"
    }
   ],
   "source": [
    "train_df[\"symbol_id\"] = train_df[\"symbol_id\"].astype(\"category\")\n",
    "train_df[\"feature_10\"] = train_df[\"feature_10\"].astype(\"category\")\n",
    "train_df[\"feature_11\"] = train_df[\"feature_11\"].astype(\"category\")\n",
    "train_df[\"feature_09\"] = train_df[\"feature_09\"].astype(\"category\")\n",
    "gc.collect()"
   ]
  },
  {
   "cell_type": "code",
   "execution_count": 13,
   "metadata": {},
   "outputs": [
    {
     "data": {
      "text/plain": [
       "0"
      ]
     },
     "execution_count": 13,
     "metadata": {},
     "output_type": "execute_result"
    }
   ],
   "source": [
    "X_train = train_df[train_df[\"date_id\"] < 1550].copy()\n",
    "X_test = train_df[train_df[\"date_id\"] >= 1550].copy()\n",
    "del train_df\n",
    "gc.collect()"
   ]
  },
  {
   "cell_type": "code",
   "execution_count": 14,
   "metadata": {},
   "outputs": [
    {
     "data": {
      "text/plain": [
       "0"
      ]
     },
     "execution_count": 14,
     "metadata": {},
     "output_type": "execute_result"
    }
   ],
   "source": [
    "y_train = X_train[\"responder_6\"].copy()\n",
    "y_test = X_test[\"responder_6\"].copy()\n",
    "test_weights = X_test[\"weight\"].values.copy()\n",
    "train_weights = X_train[\"weight\"].values.copy()\n",
    "X_train.drop(columns = responder_cols, axis=1, inplace = True, errors = \"ignore\")\n",
    "X_test.drop(columns = responder_cols, axis=1, inplace = True, errors = \"ignore\")\n",
    "X_train.drop(columns = [\"weight\"], axis = 1, inplace = True)\n",
    "X_test.drop(columns = [\"weight\"], axis = 1, inplace = True)\n",
    "gc.collect()"
   ]
  },
  {
   "cell_type": "code",
   "execution_count": 19,
   "metadata": {},
   "outputs": [
    {
     "data": {
      "text/plain": [
       "174"
      ]
     },
     "execution_count": 19,
     "metadata": {},
     "output_type": "execute_result"
    }
   ],
   "source": [
    "feature_cols = [col for col in X_train.columns if col not in [\"date_id\", \"weight\"]]\n",
    "len(feature_cols)"
   ]
  },
  {
   "cell_type": "code",
   "execution_count": 20,
   "metadata": {},
   "outputs": [
    {
     "data": {
      "text/plain": [
       "174"
      ]
     },
     "execution_count": 20,
     "metadata": {},
     "output_type": "execute_result"
    }
   ],
   "source": [
    "feature_cols = [col for col in feature_cols if col not in responder_cols]\n",
    "len(feature_cols)"
   ]
  },
  {
   "cell_type": "code",
   "execution_count": 16,
   "metadata": {},
   "outputs": [
    {
     "data": {
      "text/plain": [
       "0"
      ]
     },
     "execution_count": 16,
     "metadata": {},
     "output_type": "execute_result"
    }
   ],
   "source": [
    "X_train.drop(columns=[col for col in X_train.columns if col not in feature_cols], inplace=True)\n",
    "X_test.drop(columns=[col for col in X_test.columns if col not in feature_cols], inplace=True)\n",
    "gc.collect()"
   ]
  },
  {
   "cell_type": "code",
   "execution_count": 17,
   "metadata": {},
   "outputs": [
    {
     "name": "stderr",
     "output_type": "stream",
     "text": [
      "Failed to detect the name of this notebook, you can set it manually with the WANDB_NOTEBOOK_NAME environment variable to enable code saving.\n",
      "\u001b[34m\u001b[1mwandb\u001b[0m: Currently logged in as: \u001b[33mturkenm\u001b[0m. Use \u001b[1m`wandb login --relogin`\u001b[0m to force relogin\n"
     ]
    },
    {
     "data": {
      "text/html": [
       "wandb version 0.19.2 is available!  To upgrade, please run:\n",
       " $ pip install wandb --upgrade"
      ],
      "text/plain": [
       "<IPython.core.display.HTML object>"
      ]
     },
     "metadata": {},
     "output_type": "display_data"
    },
    {
     "data": {
      "text/html": [
       "Tracking run with wandb version 0.16.6"
      ],
      "text/plain": [
       "<IPython.core.display.HTML object>"
      ]
     },
     "metadata": {},
     "output_type": "display_data"
    },
    {
     "data": {
      "text/html": [
       "Run data is saved locally in <code>/home/mt/Desktop/JaneStreet-Comp/wandb/run-20250113_164938-58ul2v0t</code>"
      ],
      "text/plain": [
       "<IPython.core.display.HTML object>"
      ]
     },
     "metadata": {},
     "output_type": "display_data"
    },
    {
     "data": {
      "text/html": [
       "Syncing run <strong><a href='https://wandb.ai/turkenm/js_catboost/runs/58ul2v0t' target=\"_blank\">cb_run_76173</a></strong> to <a href='https://wandb.ai/turkenm/js_catboost' target=\"_blank\">Weights & Biases</a> (<a href='https://wandb.me/run' target=\"_blank\">docs</a>)<br/>"
      ],
      "text/plain": [
       "<IPython.core.display.HTML object>"
      ]
     },
     "metadata": {},
     "output_type": "display_data"
    },
    {
     "data": {
      "text/html": [
       " View project at <a href='https://wandb.ai/turkenm/js_catboost' target=\"_blank\">https://wandb.ai/turkenm/js_catboost</a>"
      ],
      "text/plain": [
       "<IPython.core.display.HTML object>"
      ]
     },
     "metadata": {},
     "output_type": "display_data"
    },
    {
     "data": {
      "text/html": [
       " View run at <a href='https://wandb.ai/turkenm/js_catboost/runs/58ul2v0t' target=\"_blank\">https://wandb.ai/turkenm/js_catboost/runs/58ul2v0t</a>"
      ],
      "text/plain": [
       "<IPython.core.display.HTML object>"
      ]
     },
     "metadata": {},
     "output_type": "display_data"
    },
    {
     "name": "stderr",
     "output_type": "stream",
     "text": [
      "Default metric period is 5 because R2 is/are not implemented for GPU\n",
      "Metric R2 is not implemented on GPU. Will use CPU for metric computation, this could significantly affect learning time\n"
     ]
    },
    {
     "name": "stdout",
     "output_type": "stream",
     "text": [
      "0:\tlearn: 0.0001346\ttest: 0.0000680\tbest: 0.0000680 (0)\ttotal: 299ms\tremaining: 7m 28s\n",
      "100:\tlearn: 0.0069737\ttest: 0.0036626\tbest: 0.0036626 (100)\ttotal: 13.3s\tremaining: 3m 4s\n",
      "200:\tlearn: 0.0099538\ttest: 0.0049433\tbest: 0.0049433 (200)\ttotal: 27s\tremaining: 2m 54s\n",
      "300:\tlearn: 0.0121170\ttest: 0.0057043\tbest: 0.0057043 (300)\ttotal: 41s\tremaining: 2m 43s\n",
      "400:\tlearn: 0.0137773\ttest: 0.0063140\tbest: 0.0063140 (400)\ttotal: 55.3s\tremaining: 2m 31s\n",
      "500:\tlearn: 0.0152272\ttest: 0.0067473\tbest: 0.0067473 (500)\ttotal: 1m 9s\tremaining: 2m 19s\n",
      "600:\tlearn: 0.0164650\ttest: 0.0071258\tbest: 0.0071258 (600)\ttotal: 1m 24s\tremaining: 2m 6s\n",
      "700:\tlearn: 0.0177102\ttest: 0.0074460\tbest: 0.0074460 (700)\ttotal: 1m 39s\tremaining: 1m 53s\n",
      "800:\tlearn: 0.0191937\ttest: 0.0076965\tbest: 0.0076965 (800)\ttotal: 1m 54s\tremaining: 1m 39s\n",
      "900:\tlearn: 0.0204937\ttest: 0.0079158\tbest: 0.0079158 (900)\ttotal: 2m 9s\tremaining: 1m 25s\n",
      "1000:\tlearn: 0.0217412\ttest: 0.0080999\tbest: 0.0080999 (1000)\ttotal: 2m 24s\tremaining: 1m 11s\n",
      "1100:\tlearn: 0.0229606\ttest: 0.0082267\tbest: 0.0082275 (1095)\ttotal: 2m 38s\tremaining: 57.5s\n",
      "1200:\tlearn: 0.0242057\ttest: 0.0083438\tbest: 0.0083438 (1200)\ttotal: 2m 53s\tremaining: 43.2s\n",
      "1300:\tlearn: 0.0253001\ttest: 0.0084492\tbest: 0.0084501 (1295)\ttotal: 3m 8s\tremaining: 28.8s\n",
      "1400:\tlearn: 0.0262672\ttest: 0.0085590\tbest: 0.0085590 (1400)\ttotal: 3m 23s\tremaining: 14.4s\n",
      "1499:\tlearn: 0.0272697\ttest: 0.0086211\tbest: 0.0086211 (1499)\ttotal: 3m 38s\tremaining: 0us\n",
      "bestTest = 0.008621051444\n",
      "bestIteration = 1499\n"
     ]
    },
    {
     "data": {
      "application/vnd.jupyter.widget-view+json": {
       "model_id": "2331970f80d94d61ad27af4ff54b07ae",
       "version_major": 2,
       "version_minor": 0
      },
      "text/plain": [
       "VBox(children=(Label(value='0.004 MB of 0.004 MB uploaded\\r'), FloatProgress(value=1.0, max=1.0)))"
      ]
     },
     "metadata": {},
     "output_type": "display_data"
    },
    {
     "data": {
      "text/html": [
       "<style>\n",
       "    table.wandb td:nth-child(1) { padding: 0 10px; text-align: left ; width: auto;} td:nth-child(2) {text-align: left ; width: 100%}\n",
       "    .wandb-row { display: flex; flex-direction: row; flex-wrap: wrap; justify-content: flex-start; width: 100% }\n",
       "    .wandb-col { display: flex; flex-direction: column; flex-basis: 100%; flex: 1; padding: 10px; }\n",
       "    </style>\n",
       "<div class=\"wandb-row\"><div class=\"wandb-col\"><h3>Run history:</h3><br/><table class=\"wandb\"><tr><td>iteration</td><td>▁▁▂▂▃▃▄▄▅▅▆▆▇▇██</td></tr><tr><td>test_r2</td><td>▁▄▅▆▆▆▇▇▇▇██████</td></tr><tr><td>test_rmse</td><td>█▅▄▃▃▃▂▂▂▂▁▁▁▁▁▁</td></tr><tr><td>train_r2</td><td>▁▃▄▄▅▅▅▆▆▆▇▇▇▇██</td></tr><tr><td>train_rmse</td><td>█▆▅▅▄▄▄▃▃▃▂▂▂▂▁▁</td></tr></table><br/></div><div class=\"wandb-col\"><h3>Run summary:</h3><br/><table class=\"wandb\"><tr><td>iteration</td><td>1500</td></tr><tr><td>test_r2</td><td>0.00862</td></tr><tr><td>test_rmse</td><td>0.79855</td></tr><tr><td>train_r2</td><td>0.02727</td></tr><tr><td>train_rmse</td><td>0.81823</td></tr><tr><td>w_test_r2</td><td>0.00862</td></tr><tr><td>w_train_r2</td><td>0.02727</td></tr></table><br/></div></div>"
      ],
      "text/plain": [
       "<IPython.core.display.HTML object>"
      ]
     },
     "metadata": {},
     "output_type": "display_data"
    },
    {
     "data": {
      "text/html": [
       " View run <strong style=\"color:#cdcd00\">cb_run_76173</strong> at: <a href='https://wandb.ai/turkenm/js_catboost/runs/58ul2v0t' target=\"_blank\">https://wandb.ai/turkenm/js_catboost/runs/58ul2v0t</a><br/> View project at: <a href='https://wandb.ai/turkenm/js_catboost' target=\"_blank\">https://wandb.ai/turkenm/js_catboost</a><br/>Synced 6 W&B file(s), 0 media file(s), 0 artifact file(s) and 1 other file(s)"
      ],
      "text/plain": [
       "<IPython.core.display.HTML object>"
      ]
     },
     "metadata": {},
     "output_type": "display_data"
    },
    {
     "data": {
      "text/html": [
       "Find logs at: <code>./wandb/run-20250113_164938-58ul2v0t/logs</code>"
      ],
      "text/plain": [
       "<IPython.core.display.HTML object>"
      ]
     },
     "metadata": {},
     "output_type": "display_data"
    },
    {
     "name": "stdout",
     "output_type": "stream",
     "text": [
      "CPU times: user 10min 43s, sys: 41.6 s, total: 11min 25s\n",
      "Wall time: 4min 27s\n"
     ]
    }
   ],
   "source": [
    "%%time\n",
    "short_id = int(time.time()) % 100_000\n",
    "cb_params = {\"random_seed\" : 16,\n",
    "            \"iterations\" : 1_500,\n",
    "            \"task_type\" : \"GPU\",\n",
    "            \"objective\" : \"RMSE\",\n",
    "            \"eval_metric\" : \"R2\", \n",
    "            \"cat_features\" : [\"symbol_id\", \"feature_09\",\"feature_10\",\"feature_11\"],\n",
    "            \"use_best_model\" : False,\n",
    "            \"learning_rate\" : 0.01,\n",
    "            \"gpu_ram_part\" : 0.9,\n",
    "            \"one_hot_max_size\" : 64,\n",
    "            \"border_count\" : 128,\n",
    "            \"max_depth\" : 6}\n",
    "\n",
    "exp_name = f\"cb_run_{short_id}\"\n",
    "\n",
    "train_data = Pool(X_train, y_train, weight = train_weights, cat_features = [\"symbol_id\", \"feature_09\",\"feature_10\",\"feature_11\"])\n",
    "test_data = Pool(X_test, y_test, weight = test_weights, cat_features = [\"symbol_id\", \"feature_09\",\"feature_10\",\"feature_11\"])\n",
    "cb_model = CatBoostRegressor(**cb_params)\n",
    "\n",
    "wandb.init(\n",
    "    project=\"js_catboost\", \n",
    "    name=exp_name,  \n",
    "    tags = [\"exp\", \"cb_v21\"],\n",
    "    config={\n",
    "        \"max_depth\" : cb_params[\"max_depth\"],\n",
    "        \"random_seed\": cb_params[\"random_seed\"],\n",
    "        \"iterations\": cb_params[\"iterations\"],\n",
    "        \"objective\": cb_params[\"objective\"],\n",
    "        \"one_hot_max_size\" : cb_params[\"one_hot_max_size\"],\n",
    "        \"learning_rate\" : cb_params[\"learning_rate\"],\n",
    "        \"border_count\" : cb_params[\"border_count\"],\n",
    "        \"cat_features\" : cb_params[\"cat_features\"],\n",
    "        \"feature_cols\" : train_data.get_feature_names(),\n",
    "    },\n",
    ")\n",
    "wandb.run.notes = \"Yeni Featurelar ile deneme, border_count 255 deneme\"\n",
    "\n",
    "cb_model.fit(train_data, eval_set = test_data, verbose = 100)\n",
    "\n",
    "y_pred_cb = np.clip(cb_model.predict(test_data), -5, 5)\n",
    "y_pred_train_cb = np.clip(cb_model.predict(train_data), -5, 5)\n",
    "\n",
    "r_score_test = r2_score(test_data.get_label(), y_pred_cb, sample_weight = test_data.get_weight())\n",
    "r_score_train = r2_score(train_data.get_label(), y_pred_train_cb, sample_weight = train_data.get_weight())\n",
    "wandb.run.summary[\"w_test_r2\"] = r_score_test\n",
    "wandb.run.summary[\"w_train_r2\"] = r_score_train\n",
    "eval_metrics_train = cb_model.eval_metrics(train_data, metrics = [\"R2\", \"RMSE\"], eval_period = 100, thread_count = 16)\n",
    "eval_metrics_test = cb_model.eval_metrics(test_data, metrics = [\"R2\", \"RMSE\"], eval_period = 100, thread_count = 16)\n",
    "\n",
    "\n",
    "for iteration in range(len(eval_metrics_train['R2'])):\n",
    "    metrics_to_log = {\n",
    "        \"iteration\": (iteration) * 100, \n",
    "        \"train_r2\": eval_metrics_train['R2'][iteration],\n",
    "        \"train_rmse\": eval_metrics_train['RMSE'][iteration],\n",
    "        \"test_r2\": eval_metrics_test['R2'][iteration],\n",
    "        \"test_rmse\": eval_metrics_test['RMSE'][iteration],\n",
    "    }\n",
    "    \n",
    "    wandb.log(metrics_to_log)\n",
    "\n",
    "cb_model.save_model(os.path.join(wandb.run.dir, f\"cb_{short_id}.cbm\"))\n",
    "\n",
    "wandb.finish()"
   ]
  },
  {
   "cell_type": "markdown",
   "metadata": {},
   "source": [
    "## Catboost Wandb Sweeps"
   ]
  },
  {
   "cell_type": "code",
   "execution_count": 23,
   "metadata": {},
   "outputs": [],
   "source": [
    "sweep_config = {\n",
    "    \"method\": \"grid\", \n",
    "    \"metric\": {\n",
    "        \"name\": \"w_test_r2\", \n",
    "        \"goal\": \"maximize\", \n",
    "    },\n",
    "    \"parameters\": {\n",
    "        \"learning_rate\": {\n",
    "            \"values\": [0.01, 0.025],\n",
    "        },\n",
    "        \"max_depth\": {\n",
    "            \"values\": [5, 6, 7], \n",
    "        },\n",
    "        \"border_count\": {\n",
    "            \"values\": [128, 255], \n",
    "        },\n",
    "        \"iterations\": {\n",
    "            \"values\": [1500],\n",
    "        },\n",
    "    },\n",
    "}"
   ]
  },
  {
   "cell_type": "code",
   "execution_count": 24,
   "metadata": {},
   "outputs": [],
   "source": [
    "def train():\n",
    "    wandb.init()\n",
    "\n",
    "    config = wandb.config\n",
    "\n",
    "    cb_params = {\n",
    "        \"random_seed\": 16,\n",
    "        \"iterations\": config.iterations,\n",
    "        \"task_type\": \"GPU\",\n",
    "        \"objective\": \"RMSE\",\n",
    "        \"eval_metric\": \"R2\",\n",
    "        \"cat_features\": [\"symbol_id\", \"feature_10\"],\n",
    "        \"use_best_model\": False,\n",
    "        \"learning_rate\": config.learning_rate,\n",
    "        \"gpu_ram_part\": 0.9,\n",
    "        \"one_hot_max_size\": 64,\n",
    "        \"border_count\": config.border_count,\n",
    "        \"max_depth\": config.max_depth,\n",
    "    }\n",
    "\n",
    "    train_data = Pool(X_train, y_train, weight=train_weights, cat_features=[\"symbol_id\", \"feature_10\"])\n",
    "    test_data = Pool(X_test, y_test, weight=test_weights, cat_features=[\"symbol_id\", \"feature_10\"])\n",
    "\n",
    "    log_config_update={\n",
    "        \"random_seed\": cb_params[\"random_seed\"],\n",
    "        \"objective\": cb_params[\"objective\"],\n",
    "        \"one_hot_max_size\" : cb_params[\"one_hot_max_size\"],\n",
    "        \"cat_features\" : cb_params[\"cat_features\"],\n",
    "        \"feature_cols\" : train_data.get_feature_names(),\n",
    "    }\n",
    "    wandb.config.update(log_config_update, allow_val_change=True)\n",
    "    wandb.run.notes = \"Data partition 5 eklendi\"\n",
    "\n",
    "    cb_model = CatBoostRegressor(**cb_params)\n",
    "    cb_model.fit(train_data, eval_set=test_data, verbose=100)\n",
    "\n",
    "    y_pred_cb = np.clip(cb_model.predict(test_data), -5, 5)\n",
    "    y_pred_train_cb = np.clip(cb_model.predict(train_data), -5, 5)\n",
    "\n",
    "    r_score_test = r2_score(test_data.get_label(), y_pred_cb, sample_weight=test_data.get_weight())\n",
    "    r_score_train = r2_score(train_data.get_label(), y_pred_train_cb, sample_weight=train_data.get_weight())\n",
    "\n",
    "    wandb.run.summary[\"w_test_r2\"] = r_score_test\n",
    "    wandb.run.summary[\"w_train_r2\"] = r_score_train\n",
    "\n",
    "    eval_metrics_train = cb_model.eval_metrics(train_data, metrics=[\"R2\", \"RMSE\"], eval_period=100, thread_count=16)\n",
    "    eval_metrics_test = cb_model.eval_metrics(test_data, metrics=[\"R2\", \"RMSE\"], eval_period=100, thread_count=16)\n",
    "\n",
    "    for iteration in range(len(eval_metrics_train['R2'])):\n",
    "        metrics_to_log = {\n",
    "            \"iteration\": (iteration) * 100,\n",
    "            \"train_r2\": eval_metrics_train['R2'][iteration],\n",
    "            \"train_rmse\": eval_metrics_train['RMSE'][iteration],\n",
    "            \"test_r2\": eval_metrics_test['R2'][iteration],\n",
    "            \"test_rmse\": eval_metrics_test['RMSE'][iteration],\n",
    "        }\n",
    "        wandb.log(metrics_to_log)\n",
    "\n",
    "    cb_model.save_model(os.path.join(wandb.run.dir, f\"cb_{wandb.run.name}.cbm\"))\n",
    "    wandb.finish()"
   ]
  },
  {
   "cell_type": "code",
   "execution_count": 25,
   "metadata": {},
   "outputs": [
    {
     "name": "stdout",
     "output_type": "stream",
     "text": [
      "Create sweep with ID: zevgd9kj\n",
      "Sweep URL: https://wandb.ai/turkenm/js_catboost/sweeps/zevgd9kj\n"
     ]
    }
   ],
   "source": [
    "sweep_id = wandb.sweep(sweep_config, project=\"js_catboost\")"
   ]
  },
  {
   "cell_type": "code",
   "execution_count": 26,
   "metadata": {},
   "outputs": [
    {
     "name": "stderr",
     "output_type": "stream",
     "text": [
      "\u001b[34m\u001b[1mwandb\u001b[0m: Agent Starting Run: b2v9mvbh with config:\n",
      "\u001b[34m\u001b[1mwandb\u001b[0m: \tborder_count: 128\n",
      "\u001b[34m\u001b[1mwandb\u001b[0m: \titerations: 1500\n",
      "\u001b[34m\u001b[1mwandb\u001b[0m: \tlearning_rate: 0.01\n",
      "\u001b[34m\u001b[1mwandb\u001b[0m: \tmax_depth: 5\n",
      "Failed to detect the name of this notebook, you can set it manually with the WANDB_NOTEBOOK_NAME environment variable to enable code saving.\n"
     ]
    },
    {
     "data": {
      "text/html": [
       "wandb version 0.19.1 is available!  To upgrade, please run:\n",
       " $ pip install wandb --upgrade"
      ],
      "text/plain": [
       "<IPython.core.display.HTML object>"
      ]
     },
     "metadata": {},
     "output_type": "display_data"
    },
    {
     "data": {
      "text/html": [
       "Tracking run with wandb version 0.16.6"
      ],
      "text/plain": [
       "<IPython.core.display.HTML object>"
      ]
     },
     "metadata": {},
     "output_type": "display_data"
    },
    {
     "data": {
      "text/html": [
       "Run data is saved locally in <code>/home/mt/Desktop/JaneStreet-Comp/wandb/run-20250104_204925-b2v9mvbh</code>"
      ],
      "text/plain": [
       "<IPython.core.display.HTML object>"
      ]
     },
     "metadata": {},
     "output_type": "display_data"
    },
    {
     "data": {
      "text/html": [
       "Syncing run <strong><a href='https://wandb.ai/turkenm/js_catboost/runs/b2v9mvbh' target=\"_blank\">sunny-sweep-1</a></strong> to <a href='https://wandb.ai/turkenm/js_catboost' target=\"_blank\">Weights & Biases</a> (<a href='https://wandb.me/run' target=\"_blank\">docs</a>)<br/>Sweep page: <a href='https://wandb.ai/turkenm/js_catboost/sweeps/zevgd9kj' target=\"_blank\">https://wandb.ai/turkenm/js_catboost/sweeps/zevgd9kj</a>"
      ],
      "text/plain": [
       "<IPython.core.display.HTML object>"
      ]
     },
     "metadata": {},
     "output_type": "display_data"
    },
    {
     "data": {
      "text/html": [
       " View project at <a href='https://wandb.ai/turkenm/js_catboost' target=\"_blank\">https://wandb.ai/turkenm/js_catboost</a>"
      ],
      "text/plain": [
       "<IPython.core.display.HTML object>"
      ]
     },
     "metadata": {},
     "output_type": "display_data"
    },
    {
     "data": {
      "text/html": [
       " View sweep at <a href='https://wandb.ai/turkenm/js_catboost/sweeps/zevgd9kj' target=\"_blank\">https://wandb.ai/turkenm/js_catboost/sweeps/zevgd9kj</a>"
      ],
      "text/plain": [
       "<IPython.core.display.HTML object>"
      ]
     },
     "metadata": {},
     "output_type": "display_data"
    },
    {
     "data": {
      "text/html": [
       " View run at <a href='https://wandb.ai/turkenm/js_catboost/runs/b2v9mvbh' target=\"_blank\">https://wandb.ai/turkenm/js_catboost/runs/b2v9mvbh</a>"
      ],
      "text/plain": [
       "<IPython.core.display.HTML object>"
      ]
     },
     "metadata": {},
     "output_type": "display_data"
    },
    {
     "name": "stderr",
     "output_type": "stream",
     "text": [
      "Default metric period is 5 because R2 is/are not implemented for GPU\n",
      "Metric R2 is not implemented on GPU. Will use CPU for metric computation, this could significantly affect learning time\n"
     ]
    },
    {
     "name": "stdout",
     "output_type": "stream",
     "text": [
      "0:\tlearn: 0.0001178\ttest: 0.0000480\tbest: 0.0000480 (0)\ttotal: 128ms\tremaining: 3m 11s\n",
      "100:\tlearn: 0.0067014\ttest: 0.0031745\tbest: 0.0031745 (100)\ttotal: 7.64s\tremaining: 1m 45s\n",
      "200:\tlearn: 0.0097163\ttest: 0.0044999\tbest: 0.0044999 (200)\ttotal: 15.4s\tremaining: 1m 39s\n",
      "300:\tlearn: 0.0117706\ttest: 0.0052891\tbest: 0.0052891 (300)\ttotal: 23.4s\tremaining: 1m 33s\n",
      "400:\tlearn: 0.0136304\ttest: 0.0057686\tbest: 0.0057686 (400)\ttotal: 31.5s\tremaining: 1m 26s\n",
      "500:\tlearn: 0.0153819\ttest: 0.0061535\tbest: 0.0061535 (500)\ttotal: 39.9s\tremaining: 1m 19s\n",
      "600:\tlearn: 0.0170729\ttest: 0.0064783\tbest: 0.0064783 (600)\ttotal: 48.1s\tremaining: 1m 11s\n",
      "700:\tlearn: 0.0185407\ttest: 0.0068074\tbest: 0.0068074 (700)\ttotal: 56.5s\tremaining: 1m 4s\n",
      "800:\tlearn: 0.0198325\ttest: 0.0070815\tbest: 0.0070815 (800)\ttotal: 1m 4s\tremaining: 56.4s\n",
      "900:\tlearn: 0.0211296\ttest: 0.0072712\tbest: 0.0072712 (900)\ttotal: 1m 12s\tremaining: 48.5s\n",
      "1000:\tlearn: 0.0224077\ttest: 0.0074414\tbest: 0.0074414 (1000)\ttotal: 1m 21s\tremaining: 40.4s\n",
      "1100:\tlearn: 0.0239358\ttest: 0.0075687\tbest: 0.0075687 (1100)\ttotal: 1m 29s\tremaining: 32.4s\n",
      "1200:\tlearn: 0.0251995\ttest: 0.0077078\tbest: 0.0077078 (1200)\ttotal: 1m 37s\tremaining: 24.3s\n",
      "1300:\tlearn: 0.0263991\ttest: 0.0078236\tbest: 0.0078236 (1300)\ttotal: 1m 46s\tremaining: 16.2s\n",
      "1400:\tlearn: 0.0274448\ttest: 0.0079330\tbest: 0.0079330 (1400)\ttotal: 1m 54s\tremaining: 8.09s\n",
      "1499:\tlearn: 0.0284450\ttest: 0.0080213\tbest: 0.0080213 (1499)\ttotal: 2m 2s\tremaining: 0us\n",
      "bestTest = 0.00802133059\n",
      "bestIteration = 1499\n"
     ]
    },
    {
     "data": {
      "application/vnd.jupyter.widget-view+json": {
       "model_id": "24fe19fc437444e8abaed983db22519b",
       "version_major": 2,
       "version_minor": 0
      },
      "text/plain": [
       "VBox(children=(Label(value='0.004 MB of 0.004 MB uploaded\\r'), FloatProgress(value=1.0, max=1.0)))"
      ]
     },
     "metadata": {},
     "output_type": "display_data"
    },
    {
     "data": {
      "text/html": [
       "<style>\n",
       "    table.wandb td:nth-child(1) { padding: 0 10px; text-align: left ; width: auto;} td:nth-child(2) {text-align: left ; width: 100%}\n",
       "    .wandb-row { display: flex; flex-direction: row; flex-wrap: wrap; justify-content: flex-start; width: 100% }\n",
       "    .wandb-col { display: flex; flex-direction: column; flex-basis: 100%; flex: 1; padding: 10px; }\n",
       "    </style>\n",
       "<div class=\"wandb-row\"><div class=\"wandb-col\"><h3>Run history:</h3><br/><table class=\"wandb\"><tr><td>iteration</td><td>▁▁▂▂▃▃▄▄▅▅▆▆▇▇██</td></tr><tr><td>test_r2</td><td>▁▄▅▆▆▆▇▇▇▇▇█████</td></tr><tr><td>test_rmse</td><td>█▅▄▃▃▃▂▂▂▂▂▁▁▁▁▁</td></tr><tr><td>train_r2</td><td>▁▃▃▄▄▅▅▆▆▆▇▇▇▇██</td></tr><tr><td>train_rmse</td><td>█▆▆▅▅▄▄▃▃▃▃▂▂▂▁▁</td></tr></table><br/></div><div class=\"wandb-col\"><h3>Run summary:</h3><br/><table class=\"wandb\"><tr><td>iteration</td><td>1500</td></tr><tr><td>test_r2</td><td>0.00802</td></tr><tr><td>test_rmse</td><td>0.79879</td></tr><tr><td>train_r2</td><td>0.02844</td></tr><tr><td>train_rmse</td><td>0.8067</td></tr><tr><td>w_test_r2</td><td>0.00802</td></tr><tr><td>w_train_r2</td><td>0.02845</td></tr></table><br/></div></div>"
      ],
      "text/plain": [
       "<IPython.core.display.HTML object>"
      ]
     },
     "metadata": {},
     "output_type": "display_data"
    },
    {
     "data": {
      "text/html": [
       " View run <strong style=\"color:#cdcd00\">sunny-sweep-1</strong> at: <a href='https://wandb.ai/turkenm/js_catboost/runs/b2v9mvbh' target=\"_blank\">https://wandb.ai/turkenm/js_catboost/runs/b2v9mvbh</a><br/> View project at: <a href='https://wandb.ai/turkenm/js_catboost' target=\"_blank\">https://wandb.ai/turkenm/js_catboost</a><br/>Synced 6 W&B file(s), 0 media file(s), 0 artifact file(s) and 1 other file(s)"
      ],
      "text/plain": [
       "<IPython.core.display.HTML object>"
      ]
     },
     "metadata": {},
     "output_type": "display_data"
    },
    {
     "data": {
      "text/html": [
       "Find logs at: <code>./wandb/run-20250104_204925-b2v9mvbh/logs</code>"
      ],
      "text/plain": [
       "<IPython.core.display.HTML object>"
      ]
     },
     "metadata": {},
     "output_type": "display_data"
    },
    {
     "name": "stderr",
     "output_type": "stream",
     "text": [
      "\u001b[34m\u001b[1mwandb\u001b[0m: Agent Starting Run: cqddgdh8 with config:\n",
      "\u001b[34m\u001b[1mwandb\u001b[0m: \tborder_count: 128\n",
      "\u001b[34m\u001b[1mwandb\u001b[0m: \titerations: 1500\n",
      "\u001b[34m\u001b[1mwandb\u001b[0m: \tlearning_rate: 0.01\n",
      "\u001b[34m\u001b[1mwandb\u001b[0m: \tmax_depth: 6\n",
      "Failed to detect the name of this notebook, you can set it manually with the WANDB_NOTEBOOK_NAME environment variable to enable code saving.\n"
     ]
    },
    {
     "data": {
      "text/html": [
       "wandb version 0.19.1 is available!  To upgrade, please run:\n",
       " $ pip install wandb --upgrade"
      ],
      "text/plain": [
       "<IPython.core.display.HTML object>"
      ]
     },
     "metadata": {},
     "output_type": "display_data"
    },
    {
     "data": {
      "text/html": [
       "Tracking run with wandb version 0.16.6"
      ],
      "text/plain": [
       "<IPython.core.display.HTML object>"
      ]
     },
     "metadata": {},
     "output_type": "display_data"
    },
    {
     "data": {
      "text/html": [
       "Run data is saved locally in <code>/home/mt/Desktop/JaneStreet-Comp/wandb/run-20250104_205210-cqddgdh8</code>"
      ],
      "text/plain": [
       "<IPython.core.display.HTML object>"
      ]
     },
     "metadata": {},
     "output_type": "display_data"
    },
    {
     "data": {
      "text/html": [
       "Syncing run <strong><a href='https://wandb.ai/turkenm/js_catboost/runs/cqddgdh8' target=\"_blank\">fine-sweep-2</a></strong> to <a href='https://wandb.ai/turkenm/js_catboost' target=\"_blank\">Weights & Biases</a> (<a href='https://wandb.me/run' target=\"_blank\">docs</a>)<br/>Sweep page: <a href='https://wandb.ai/turkenm/js_catboost/sweeps/zevgd9kj' target=\"_blank\">https://wandb.ai/turkenm/js_catboost/sweeps/zevgd9kj</a>"
      ],
      "text/plain": [
       "<IPython.core.display.HTML object>"
      ]
     },
     "metadata": {},
     "output_type": "display_data"
    },
    {
     "data": {
      "text/html": [
       " View project at <a href='https://wandb.ai/turkenm/js_catboost' target=\"_blank\">https://wandb.ai/turkenm/js_catboost</a>"
      ],
      "text/plain": [
       "<IPython.core.display.HTML object>"
      ]
     },
     "metadata": {},
     "output_type": "display_data"
    },
    {
     "data": {
      "text/html": [
       " View sweep at <a href='https://wandb.ai/turkenm/js_catboost/sweeps/zevgd9kj' target=\"_blank\">https://wandb.ai/turkenm/js_catboost/sweeps/zevgd9kj</a>"
      ],
      "text/plain": [
       "<IPython.core.display.HTML object>"
      ]
     },
     "metadata": {},
     "output_type": "display_data"
    },
    {
     "data": {
      "text/html": [
       " View run at <a href='https://wandb.ai/turkenm/js_catboost/runs/cqddgdh8' target=\"_blank\">https://wandb.ai/turkenm/js_catboost/runs/cqddgdh8</a>"
      ],
      "text/plain": [
       "<IPython.core.display.HTML object>"
      ]
     },
     "metadata": {},
     "output_type": "display_data"
    },
    {
     "name": "stderr",
     "output_type": "stream",
     "text": [
      "Default metric period is 5 because R2 is/are not implemented for GPU\n",
      "Metric R2 is not implemented on GPU. Will use CPU for metric computation, this could significantly affect learning time\n"
     ]
    },
    {
     "name": "stdout",
     "output_type": "stream",
     "text": [
      "0:\tlearn: 0.0001342\ttest: 0.0000553\tbest: 0.0000553 (0)\ttotal: 138ms\tremaining: 3m 26s\n",
      "100:\tlearn: 0.0077813\ttest: 0.0035332\tbest: 0.0035332 (100)\ttotal: 9.02s\tremaining: 2m 4s\n",
      "200:\tlearn: 0.0112530\ttest: 0.0049044\tbest: 0.0049044 (200)\ttotal: 17.9s\tremaining: 1m 55s\n",
      "300:\tlearn: 0.0136534\ttest: 0.0057004\tbest: 0.0057004 (300)\ttotal: 27.2s\tremaining: 1m 48s\n",
      "400:\tlearn: 0.0158238\ttest: 0.0062296\tbest: 0.0062296 (400)\ttotal: 36.8s\tremaining: 1m 40s\n",
      "500:\tlearn: 0.0178607\ttest: 0.0066880\tbest: 0.0066880 (500)\ttotal: 46.5s\tremaining: 1m 32s\n",
      "600:\tlearn: 0.0199499\ttest: 0.0070248\tbest: 0.0070248 (600)\ttotal: 56.2s\tremaining: 1m 24s\n",
      "700:\tlearn: 0.0218726\ttest: 0.0073259\tbest: 0.0073259 (700)\ttotal: 1m 6s\tremaining: 1m 15s\n",
      "800:\tlearn: 0.0236550\ttest: 0.0075958\tbest: 0.0075958 (800)\ttotal: 1m 15s\tremaining: 1m 6s\n",
      "900:\tlearn: 0.0254052\ttest: 0.0077668\tbest: 0.0077668 (900)\ttotal: 1m 25s\tremaining: 56.9s\n",
      "1000:\tlearn: 0.0271439\ttest: 0.0079469\tbest: 0.0079469 (1000)\ttotal: 1m 35s\tremaining: 47.5s\n",
      "1100:\tlearn: 0.0290406\ttest: 0.0080396\tbest: 0.0080396 (1100)\ttotal: 1m 44s\tremaining: 38s\n",
      "1200:\tlearn: 0.0304086\ttest: 0.0081632\tbest: 0.0081632 (1200)\ttotal: 1m 54s\tremaining: 28.6s\n",
      "1300:\tlearn: 0.0316189\ttest: 0.0082596\tbest: 0.0082634 (1280)\ttotal: 2m 4s\tremaining: 19.1s\n",
      "1400:\tlearn: 0.0329064\ttest: 0.0083324\tbest: 0.0083324 (1400)\ttotal: 2m 14s\tremaining: 9.49s\n",
      "1499:\tlearn: 0.0341099\ttest: 0.0084226\tbest: 0.0084226 (1499)\ttotal: 2m 23s\tremaining: 0us\n",
      "bestTest = 0.008422583576\n",
      "bestIteration = 1499\n"
     ]
    },
    {
     "data": {
      "application/vnd.jupyter.widget-view+json": {
       "model_id": "181d937a056e4400bc215f922726e20a",
       "version_major": 2,
       "version_minor": 0
      },
      "text/plain": [
       "VBox(children=(Label(value='0.004 MB of 0.004 MB uploaded\\r'), FloatProgress(value=1.0, max=1.0)))"
      ]
     },
     "metadata": {},
     "output_type": "display_data"
    },
    {
     "data": {
      "text/html": [
       "<style>\n",
       "    table.wandb td:nth-child(1) { padding: 0 10px; text-align: left ; width: auto;} td:nth-child(2) {text-align: left ; width: 100%}\n",
       "    .wandb-row { display: flex; flex-direction: row; flex-wrap: wrap; justify-content: flex-start; width: 100% }\n",
       "    .wandb-col { display: flex; flex-direction: column; flex-basis: 100%; flex: 1; padding: 10px; }\n",
       "    </style>\n",
       "<div class=\"wandb-row\"><div class=\"wandb-col\"><h3>Run history:</h3><br/><table class=\"wandb\"><tr><td>iteration</td><td>▁▁▂▂▃▃▄▄▅▅▆▆▇▇██</td></tr><tr><td>test_r2</td><td>▁▄▅▆▆▇▇▇▇▇██████</td></tr><tr><td>test_rmse</td><td>█▅▄▃▃▂▂▂▂▂▁▁▁▁▁▁</td></tr><tr><td>train_r2</td><td>▁▃▃▄▄▅▅▅▆▆▇▇▇▇██</td></tr><tr><td>train_rmse</td><td>█▆▆▅▅▄▄▄▃▃▂▂▂▂▁▁</td></tr></table><br/></div><div class=\"wandb-col\"><h3>Run summary:</h3><br/><table class=\"wandb\"><tr><td>iteration</td><td>1500</td></tr><tr><td>test_r2</td><td>0.00842</td></tr><tr><td>test_rmse</td><td>0.79863</td></tr><tr><td>train_r2</td><td>0.03411</td></tr><tr><td>train_rmse</td><td>0.80435</td></tr><tr><td>w_test_r2</td><td>0.00842</td></tr><tr><td>w_train_r2</td><td>0.03411</td></tr></table><br/></div></div>"
      ],
      "text/plain": [
       "<IPython.core.display.HTML object>"
      ]
     },
     "metadata": {},
     "output_type": "display_data"
    },
    {
     "data": {
      "text/html": [
       " View run <strong style=\"color:#cdcd00\">fine-sweep-2</strong> at: <a href='https://wandb.ai/turkenm/js_catboost/runs/cqddgdh8' target=\"_blank\">https://wandb.ai/turkenm/js_catboost/runs/cqddgdh8</a><br/> View project at: <a href='https://wandb.ai/turkenm/js_catboost' target=\"_blank\">https://wandb.ai/turkenm/js_catboost</a><br/>Synced 6 W&B file(s), 0 media file(s), 0 artifact file(s) and 1 other file(s)"
      ],
      "text/plain": [
       "<IPython.core.display.HTML object>"
      ]
     },
     "metadata": {},
     "output_type": "display_data"
    },
    {
     "data": {
      "text/html": [
       "Find logs at: <code>./wandb/run-20250104_205210-cqddgdh8/logs</code>"
      ],
      "text/plain": [
       "<IPython.core.display.HTML object>"
      ]
     },
     "metadata": {},
     "output_type": "display_data"
    },
    {
     "name": "stderr",
     "output_type": "stream",
     "text": [
      "\u001b[34m\u001b[1mwandb\u001b[0m: Agent Starting Run: fapj24st with config:\n",
      "\u001b[34m\u001b[1mwandb\u001b[0m: \tborder_count: 128\n",
      "\u001b[34m\u001b[1mwandb\u001b[0m: \titerations: 1500\n",
      "\u001b[34m\u001b[1mwandb\u001b[0m: \tlearning_rate: 0.01\n",
      "\u001b[34m\u001b[1mwandb\u001b[0m: \tmax_depth: 7\n",
      "Failed to detect the name of this notebook, you can set it manually with the WANDB_NOTEBOOK_NAME environment variable to enable code saving.\n"
     ]
    },
    {
     "data": {
      "text/html": [
       "wandb version 0.19.1 is available!  To upgrade, please run:\n",
       " $ pip install wandb --upgrade"
      ],
      "text/plain": [
       "<IPython.core.display.HTML object>"
      ]
     },
     "metadata": {},
     "output_type": "display_data"
    },
    {
     "data": {
      "text/html": [
       "Tracking run with wandb version 0.16.6"
      ],
      "text/plain": [
       "<IPython.core.display.HTML object>"
      ]
     },
     "metadata": {},
     "output_type": "display_data"
    },
    {
     "data": {
      "text/html": [
       "Run data is saved locally in <code>/home/mt/Desktop/JaneStreet-Comp/wandb/run-20250104_205516-fapj24st</code>"
      ],
      "text/plain": [
       "<IPython.core.display.HTML object>"
      ]
     },
     "metadata": {},
     "output_type": "display_data"
    },
    {
     "data": {
      "text/html": [
       "Syncing run <strong><a href='https://wandb.ai/turkenm/js_catboost/runs/fapj24st' target=\"_blank\">comic-sweep-3</a></strong> to <a href='https://wandb.ai/turkenm/js_catboost' target=\"_blank\">Weights & Biases</a> (<a href='https://wandb.me/run' target=\"_blank\">docs</a>)<br/>Sweep page: <a href='https://wandb.ai/turkenm/js_catboost/sweeps/zevgd9kj' target=\"_blank\">https://wandb.ai/turkenm/js_catboost/sweeps/zevgd9kj</a>"
      ],
      "text/plain": [
       "<IPython.core.display.HTML object>"
      ]
     },
     "metadata": {},
     "output_type": "display_data"
    },
    {
     "data": {
      "text/html": [
       " View project at <a href='https://wandb.ai/turkenm/js_catboost' target=\"_blank\">https://wandb.ai/turkenm/js_catboost</a>"
      ],
      "text/plain": [
       "<IPython.core.display.HTML object>"
      ]
     },
     "metadata": {},
     "output_type": "display_data"
    },
    {
     "data": {
      "text/html": [
       " View sweep at <a href='https://wandb.ai/turkenm/js_catboost/sweeps/zevgd9kj' target=\"_blank\">https://wandb.ai/turkenm/js_catboost/sweeps/zevgd9kj</a>"
      ],
      "text/plain": [
       "<IPython.core.display.HTML object>"
      ]
     },
     "metadata": {},
     "output_type": "display_data"
    },
    {
     "data": {
      "text/html": [
       " View run at <a href='https://wandb.ai/turkenm/js_catboost/runs/fapj24st' target=\"_blank\">https://wandb.ai/turkenm/js_catboost/runs/fapj24st</a>"
      ],
      "text/plain": [
       "<IPython.core.display.HTML object>"
      ]
     },
     "metadata": {},
     "output_type": "display_data"
    },
    {
     "name": "stderr",
     "output_type": "stream",
     "text": [
      "Default metric period is 5 because R2 is/are not implemented for GPU\n",
      "Metric R2 is not implemented on GPU. Will use CPU for metric computation, this could significantly affect learning time\n"
     ]
    },
    {
     "name": "stdout",
     "output_type": "stream",
     "text": [
      "0:\tlearn: 0.0001517\ttest: 0.0000637\tbest: 0.0000637 (0)\ttotal: 148ms\tremaining: 3m 41s\n",
      "100:\tlearn: 0.0088429\ttest: 0.0038124\tbest: 0.0038124 (100)\ttotal: 10s\tremaining: 2m 18s\n",
      "200:\tlearn: 0.0127244\ttest: 0.0052915\tbest: 0.0052915 (200)\ttotal: 20.1s\tremaining: 2m 9s\n",
      "300:\tlearn: 0.0156356\ttest: 0.0061182\tbest: 0.0061182 (300)\ttotal: 30.7s\tremaining: 2m 2s\n",
      "400:\tlearn: 0.0182021\ttest: 0.0066678\tbest: 0.0066678 (400)\ttotal: 41.7s\tremaining: 1m 54s\n",
      "500:\tlearn: 0.0208021\ttest: 0.0071077\tbest: 0.0071077 (500)\ttotal: 52.6s\tremaining: 1m 44s\n",
      "600:\tlearn: 0.0231200\ttest: 0.0074667\tbest: 0.0074667 (600)\ttotal: 1m 3s\tremaining: 1m 34s\n",
      "700:\tlearn: 0.0255233\ttest: 0.0077463\tbest: 0.0077463 (700)\ttotal: 1m 14s\tremaining: 1m 24s\n",
      "800:\tlearn: 0.0279871\ttest: 0.0079641\tbest: 0.0079641 (800)\ttotal: 1m 25s\tremaining: 1m 14s\n",
      "900:\tlearn: 0.0300211\ttest: 0.0081700\tbest: 0.0081700 (900)\ttotal: 1m 36s\tremaining: 1m 4s\n",
      "1000:\tlearn: 0.0320230\ttest: 0.0083364\tbest: 0.0083364 (1000)\ttotal: 1m 47s\tremaining: 53.8s\n",
      "1100:\tlearn: 0.0341014\ttest: 0.0084538\tbest: 0.0084538 (1100)\ttotal: 1m 59s\tremaining: 43.2s\n",
      "1200:\tlearn: 0.0358589\ttest: 0.0085648\tbest: 0.0085648 (1200)\ttotal: 2m 10s\tremaining: 32.4s\n",
      "1300:\tlearn: 0.0375184\ttest: 0.0086643\tbest: 0.0086643 (1300)\ttotal: 2m 21s\tremaining: 21.6s\n",
      "1400:\tlearn: 0.0391683\ttest: 0.0087330\tbest: 0.0087387 (1380)\ttotal: 2m 32s\tremaining: 10.8s\n",
      "1499:\tlearn: 0.0407138\ttest: 0.0087859\tbest: 0.0087949 (1465)\ttotal: 2m 43s\tremaining: 0us\n",
      "bestTest = 0.008794924491\n",
      "bestIteration = 1465\n"
     ]
    },
    {
     "data": {
      "application/vnd.jupyter.widget-view+json": {
       "model_id": "c076dc6092d343de89acf5cc9aba11c1",
       "version_major": 2,
       "version_minor": 0
      },
      "text/plain": [
       "VBox(children=(Label(value='0.004 MB of 0.004 MB uploaded\\r'), FloatProgress(value=1.0, max=1.0)))"
      ]
     },
     "metadata": {},
     "output_type": "display_data"
    },
    {
     "data": {
      "text/html": [
       "<style>\n",
       "    table.wandb td:nth-child(1) { padding: 0 10px; text-align: left ; width: auto;} td:nth-child(2) {text-align: left ; width: 100%}\n",
       "    .wandb-row { display: flex; flex-direction: row; flex-wrap: wrap; justify-content: flex-start; width: 100% }\n",
       "    .wandb-col { display: flex; flex-direction: column; flex-basis: 100%; flex: 1; padding: 10px; }\n",
       "    </style>\n",
       "<div class=\"wandb-row\"><div class=\"wandb-col\"><h3>Run history:</h3><br/><table class=\"wandb\"><tr><td>iteration</td><td>▁▁▂▂▃▃▄▄▅▅▆▆▇▇██</td></tr><tr><td>test_r2</td><td>▁▄▅▆▆▇▇▇▇███████</td></tr><tr><td>test_rmse</td><td>█▅▄▃▃▂▂▂▂▁▁▁▁▁▁▁</td></tr><tr><td>train_r2</td><td>▁▂▃▄▄▅▅▅▆▆▇▇▇▇██</td></tr><tr><td>train_rmse</td><td>█▇▆▅▅▄▄▄▃▃▃▂▂▂▁▁</td></tr></table><br/></div><div class=\"wandb-col\"><h3>Run summary:</h3><br/><table class=\"wandb\"><tr><td>iteration</td><td>1500</td></tr><tr><td>test_r2</td><td>0.00879</td></tr><tr><td>test_rmse</td><td>0.79848</td></tr><tr><td>train_r2</td><td>0.04071</td></tr><tr><td>train_rmse</td><td>0.80159</td></tr><tr><td>w_test_r2</td><td>0.00879</td></tr><tr><td>w_train_r2</td><td>0.04071</td></tr></table><br/></div></div>"
      ],
      "text/plain": [
       "<IPython.core.display.HTML object>"
      ]
     },
     "metadata": {},
     "output_type": "display_data"
    },
    {
     "data": {
      "text/html": [
       " View run <strong style=\"color:#cdcd00\">comic-sweep-3</strong> at: <a href='https://wandb.ai/turkenm/js_catboost/runs/fapj24st' target=\"_blank\">https://wandb.ai/turkenm/js_catboost/runs/fapj24st</a><br/> View project at: <a href='https://wandb.ai/turkenm/js_catboost' target=\"_blank\">https://wandb.ai/turkenm/js_catboost</a><br/>Synced 6 W&B file(s), 0 media file(s), 0 artifact file(s) and 1 other file(s)"
      ],
      "text/plain": [
       "<IPython.core.display.HTML object>"
      ]
     },
     "metadata": {},
     "output_type": "display_data"
    },
    {
     "data": {
      "text/html": [
       "Find logs at: <code>./wandb/run-20250104_205516-fapj24st/logs</code>"
      ],
      "text/plain": [
       "<IPython.core.display.HTML object>"
      ]
     },
     "metadata": {},
     "output_type": "display_data"
    },
    {
     "name": "stderr",
     "output_type": "stream",
     "text": [
      "\u001b[34m\u001b[1mwandb\u001b[0m: Agent Starting Run: c5uuok0w with config:\n",
      "\u001b[34m\u001b[1mwandb\u001b[0m: \tborder_count: 128\n",
      "\u001b[34m\u001b[1mwandb\u001b[0m: \titerations: 1500\n",
      "\u001b[34m\u001b[1mwandb\u001b[0m: \tlearning_rate: 0.025\n",
      "\u001b[34m\u001b[1mwandb\u001b[0m: \tmax_depth: 5\n",
      "Failed to detect the name of this notebook, you can set it manually with the WANDB_NOTEBOOK_NAME environment variable to enable code saving.\n"
     ]
    },
    {
     "data": {
      "text/html": [
       "wandb version 0.19.1 is available!  To upgrade, please run:\n",
       " $ pip install wandb --upgrade"
      ],
      "text/plain": [
       "<IPython.core.display.HTML object>"
      ]
     },
     "metadata": {},
     "output_type": "display_data"
    },
    {
     "data": {
      "text/html": [
       "Tracking run with wandb version 0.16.6"
      ],
      "text/plain": [
       "<IPython.core.display.HTML object>"
      ]
     },
     "metadata": {},
     "output_type": "display_data"
    },
    {
     "data": {
      "text/html": [
       "Run data is saved locally in <code>/home/mt/Desktop/JaneStreet-Comp/wandb/run-20250104_205847-c5uuok0w</code>"
      ],
      "text/plain": [
       "<IPython.core.display.HTML object>"
      ]
     },
     "metadata": {},
     "output_type": "display_data"
    },
    {
     "data": {
      "text/html": [
       "Syncing run <strong><a href='https://wandb.ai/turkenm/js_catboost/runs/c5uuok0w' target=\"_blank\">elated-sweep-4</a></strong> to <a href='https://wandb.ai/turkenm/js_catboost' target=\"_blank\">Weights & Biases</a> (<a href='https://wandb.me/run' target=\"_blank\">docs</a>)<br/>Sweep page: <a href='https://wandb.ai/turkenm/js_catboost/sweeps/zevgd9kj' target=\"_blank\">https://wandb.ai/turkenm/js_catboost/sweeps/zevgd9kj</a>"
      ],
      "text/plain": [
       "<IPython.core.display.HTML object>"
      ]
     },
     "metadata": {},
     "output_type": "display_data"
    },
    {
     "data": {
      "text/html": [
       " View project at <a href='https://wandb.ai/turkenm/js_catboost' target=\"_blank\">https://wandb.ai/turkenm/js_catboost</a>"
      ],
      "text/plain": [
       "<IPython.core.display.HTML object>"
      ]
     },
     "metadata": {},
     "output_type": "display_data"
    },
    {
     "data": {
      "text/html": [
       " View sweep at <a href='https://wandb.ai/turkenm/js_catboost/sweeps/zevgd9kj' target=\"_blank\">https://wandb.ai/turkenm/js_catboost/sweeps/zevgd9kj</a>"
      ],
      "text/plain": [
       "<IPython.core.display.HTML object>"
      ]
     },
     "metadata": {},
     "output_type": "display_data"
    },
    {
     "data": {
      "text/html": [
       " View run at <a href='https://wandb.ai/turkenm/js_catboost/runs/c5uuok0w' target=\"_blank\">https://wandb.ai/turkenm/js_catboost/runs/c5uuok0w</a>"
      ],
      "text/plain": [
       "<IPython.core.display.HTML object>"
      ]
     },
     "metadata": {},
     "output_type": "display_data"
    },
    {
     "name": "stderr",
     "output_type": "stream",
     "text": [
      "Default metric period is 5 because R2 is/are not implemented for GPU\n",
      "Metric R2 is not implemented on GPU. Will use CPU for metric computation, this could significantly affect learning time\n"
     ]
    },
    {
     "name": "stdout",
     "output_type": "stream",
     "text": [
      "0:\tlearn: 0.0002923\ttest: 0.0001316\tbest: 0.0001316 (0)\ttotal: 125ms\tremaining: 3m 7s\n",
      "100:\tlearn: 0.0108895\ttest: 0.0049593\tbest: 0.0049593 (100)\ttotal: 8.03s\tremaining: 1m 51s\n",
      "200:\tlearn: 0.0154629\ttest: 0.0061537\tbest: 0.0061537 (200)\ttotal: 16.3s\tremaining: 1m 45s\n",
      "300:\tlearn: 0.0191656\ttest: 0.0069058\tbest: 0.0069058 (300)\ttotal: 24.6s\tremaining: 1m 37s\n",
      "400:\tlearn: 0.0221563\ttest: 0.0074343\tbest: 0.0074343 (400)\ttotal: 32.9s\tremaining: 1m 30s\n",
      "500:\tlearn: 0.0257482\ttest: 0.0077195\tbest: 0.0077195 (500)\ttotal: 41.2s\tremaining: 1m 22s\n",
      "600:\tlearn: 0.0285264\ttest: 0.0078805\tbest: 0.0078805 (600)\ttotal: 49.7s\tremaining: 1m 14s\n",
      "700:\tlearn: 0.0310439\ttest: 0.0079919\tbest: 0.0080092 (685)\ttotal: 58.1s\tremaining: 1m 6s\n",
      "800:\tlearn: 0.0330165\ttest: 0.0080999\tbest: 0.0081393 (785)\ttotal: 1m 6s\tremaining: 58s\n",
      "900:\tlearn: 0.0349194\ttest: 0.0082257\tbest: 0.0082257 (900)\ttotal: 1m 14s\tremaining: 49.5s\n",
      "1000:\tlearn: 0.0365044\ttest: 0.0083012\tbest: 0.0083012 (1000)\ttotal: 1m 22s\tremaining: 40.9s\n",
      "1100:\tlearn: 0.0381401\ttest: 0.0083184\tbest: 0.0083342 (1050)\ttotal: 1m 29s\tremaining: 32.5s\n",
      "1200:\tlearn: 0.0397556\ttest: 0.0083398\tbest: 0.0083625 (1175)\ttotal: 1m 37s\tremaining: 24.2s\n",
      "1300:\tlearn: 0.0412231\ttest: 0.0083910\tbest: 0.0084005 (1295)\ttotal: 1m 44s\tremaining: 16s\n",
      "1400:\tlearn: 0.0426506\ttest: 0.0084098\tbest: 0.0084256 (1380)\ttotal: 1m 52s\tremaining: 7.94s\n",
      "1499:\tlearn: 0.0440399\ttest: 0.0084384\tbest: 0.0084384 (1499)\ttotal: 2m\tremaining: 0us\n",
      "bestTest = 0.008438415201\n",
      "bestIteration = 1499\n"
     ]
    },
    {
     "data": {
      "application/vnd.jupyter.widget-view+json": {
       "model_id": "adb33b38b8384ff99fceaf092f4bf5a5",
       "version_major": 2,
       "version_minor": 0
      },
      "text/plain": [
       "VBox(children=(Label(value='0.004 MB of 0.004 MB uploaded\\r'), FloatProgress(value=1.0, max=1.0)))"
      ]
     },
     "metadata": {},
     "output_type": "display_data"
    },
    {
     "data": {
      "text/html": [
       "<style>\n",
       "    table.wandb td:nth-child(1) { padding: 0 10px; text-align: left ; width: auto;} td:nth-child(2) {text-align: left ; width: 100%}\n",
       "    .wandb-row { display: flex; flex-direction: row; flex-wrap: wrap; justify-content: flex-start; width: 100% }\n",
       "    .wandb-col { display: flex; flex-direction: column; flex-basis: 100%; flex: 1; padding: 10px; }\n",
       "    </style>\n",
       "<div class=\"wandb-row\"><div class=\"wandb-col\"><h3>Run history:</h3><br/><table class=\"wandb\"><tr><td>iteration</td><td>▁▁▂▂▃▃▄▄▅▅▆▆▇▇██</td></tr><tr><td>test_r2</td><td>▁▅▆▇▇▇██████████</td></tr><tr><td>test_rmse</td><td>█▄▃▂▂▂▁▁▁▁▁▁▁▁▁▁</td></tr><tr><td>train_r2</td><td>▁▃▃▄▄▅▆▆▆▇▇▇▇███</td></tr><tr><td>train_rmse</td><td>█▆▆▅▅▄▄▃▃▂▂▂▂▁▁▁</td></tr></table><br/></div><div class=\"wandb-col\"><h3>Run summary:</h3><br/><table class=\"wandb\"><tr><td>iteration</td><td>1500</td></tr><tr><td>test_r2</td><td>0.00844</td></tr><tr><td>test_rmse</td><td>0.79862</td></tr><tr><td>train_r2</td><td>0.04404</td></tr><tr><td>train_rmse</td><td>0.8002</td></tr><tr><td>w_test_r2</td><td>0.00844</td></tr><tr><td>w_train_r2</td><td>0.04404</td></tr></table><br/></div></div>"
      ],
      "text/plain": [
       "<IPython.core.display.HTML object>"
      ]
     },
     "metadata": {},
     "output_type": "display_data"
    },
    {
     "data": {
      "text/html": [
       " View run <strong style=\"color:#cdcd00\">elated-sweep-4</strong> at: <a href='https://wandb.ai/turkenm/js_catboost/runs/c5uuok0w' target=\"_blank\">https://wandb.ai/turkenm/js_catboost/runs/c5uuok0w</a><br/> View project at: <a href='https://wandb.ai/turkenm/js_catboost' target=\"_blank\">https://wandb.ai/turkenm/js_catboost</a><br/>Synced 6 W&B file(s), 0 media file(s), 0 artifact file(s) and 1 other file(s)"
      ],
      "text/plain": [
       "<IPython.core.display.HTML object>"
      ]
     },
     "metadata": {},
     "output_type": "display_data"
    },
    {
     "data": {
      "text/html": [
       "Find logs at: <code>./wandb/run-20250104_205847-c5uuok0w/logs</code>"
      ],
      "text/plain": [
       "<IPython.core.display.HTML object>"
      ]
     },
     "metadata": {},
     "output_type": "display_data"
    },
    {
     "name": "stderr",
     "output_type": "stream",
     "text": [
      "\u001b[34m\u001b[1mwandb\u001b[0m: Agent Starting Run: wa5e6ctu with config:\n",
      "\u001b[34m\u001b[1mwandb\u001b[0m: \tborder_count: 128\n",
      "\u001b[34m\u001b[1mwandb\u001b[0m: \titerations: 1500\n",
      "\u001b[34m\u001b[1mwandb\u001b[0m: \tlearning_rate: 0.025\n",
      "\u001b[34m\u001b[1mwandb\u001b[0m: \tmax_depth: 6\n",
      "Failed to detect the name of this notebook, you can set it manually with the WANDB_NOTEBOOK_NAME environment variable to enable code saving.\n"
     ]
    },
    {
     "data": {
      "text/html": [
       "wandb version 0.19.1 is available!  To upgrade, please run:\n",
       " $ pip install wandb --upgrade"
      ],
      "text/plain": [
       "<IPython.core.display.HTML object>"
      ]
     },
     "metadata": {},
     "output_type": "display_data"
    },
    {
     "data": {
      "text/html": [
       "Tracking run with wandb version 0.16.6"
      ],
      "text/plain": [
       "<IPython.core.display.HTML object>"
      ]
     },
     "metadata": {},
     "output_type": "display_data"
    },
    {
     "data": {
      "text/html": [
       "Run data is saved locally in <code>/home/mt/Desktop/JaneStreet-Comp/wandb/run-20250104_210128-wa5e6ctu</code>"
      ],
      "text/plain": [
       "<IPython.core.display.HTML object>"
      ]
     },
     "metadata": {},
     "output_type": "display_data"
    },
    {
     "data": {
      "text/html": [
       "Syncing run <strong><a href='https://wandb.ai/turkenm/js_catboost/runs/wa5e6ctu' target=\"_blank\">driven-sweep-5</a></strong> to <a href='https://wandb.ai/turkenm/js_catboost' target=\"_blank\">Weights & Biases</a> (<a href='https://wandb.me/run' target=\"_blank\">docs</a>)<br/>Sweep page: <a href='https://wandb.ai/turkenm/js_catboost/sweeps/zevgd9kj' target=\"_blank\">https://wandb.ai/turkenm/js_catboost/sweeps/zevgd9kj</a>"
      ],
      "text/plain": [
       "<IPython.core.display.HTML object>"
      ]
     },
     "metadata": {},
     "output_type": "display_data"
    },
    {
     "data": {
      "text/html": [
       " View project at <a href='https://wandb.ai/turkenm/js_catboost' target=\"_blank\">https://wandb.ai/turkenm/js_catboost</a>"
      ],
      "text/plain": [
       "<IPython.core.display.HTML object>"
      ]
     },
     "metadata": {},
     "output_type": "display_data"
    },
    {
     "data": {
      "text/html": [
       " View sweep at <a href='https://wandb.ai/turkenm/js_catboost/sweeps/zevgd9kj' target=\"_blank\">https://wandb.ai/turkenm/js_catboost/sweeps/zevgd9kj</a>"
      ],
      "text/plain": [
       "<IPython.core.display.HTML object>"
      ]
     },
     "metadata": {},
     "output_type": "display_data"
    },
    {
     "data": {
      "text/html": [
       " View run at <a href='https://wandb.ai/turkenm/js_catboost/runs/wa5e6ctu' target=\"_blank\">https://wandb.ai/turkenm/js_catboost/runs/wa5e6ctu</a>"
      ],
      "text/plain": [
       "<IPython.core.display.HTML object>"
      ]
     },
     "metadata": {},
     "output_type": "display_data"
    },
    {
     "name": "stderr",
     "output_type": "stream",
     "text": [
      "Default metric period is 5 because R2 is/are not implemented for GPU\n",
      "Metric R2 is not implemented on GPU. Will use CPU for metric computation, this could significantly affect learning time\n"
     ]
    },
    {
     "name": "stdout",
     "output_type": "stream",
     "text": [
      "0:\tlearn: 0.0003330\ttest: 0.0001498\tbest: 0.0001498 (0)\ttotal: 132ms\tremaining: 3m 18s\n",
      "100:\tlearn: 0.0124718\ttest: 0.0053670\tbest: 0.0053670 (100)\ttotal: 8.44s\tremaining: 1m 56s\n",
      "200:\tlearn: 0.0179815\ttest: 0.0066972\tbest: 0.0066972 (200)\ttotal: 17.4s\tremaining: 1m 52s\n",
      "300:\tlearn: 0.0224718\ttest: 0.0074323\tbest: 0.0074323 (300)\ttotal: 26.3s\tremaining: 1m 44s\n",
      "400:\tlearn: 0.0269605\ttest: 0.0077617\tbest: 0.0077617 (400)\ttotal: 35.3s\tremaining: 1m 36s\n",
      "500:\tlearn: 0.0312521\ttest: 0.0078665\tbest: 0.0078665 (500)\ttotal: 44.3s\tremaining: 1m 28s\n",
      "600:\tlearn: 0.0342356\ttest: 0.0079798\tbest: 0.0080257 (555)\ttotal: 53.3s\tremaining: 1m 19s\n",
      "700:\tlearn: 0.0370237\ttest: 0.0081239\tbest: 0.0081239 (700)\ttotal: 1m 2s\tremaining: 1m 11s\n",
      "800:\tlearn: 0.0395930\ttest: 0.0081970\tbest: 0.0081970 (800)\ttotal: 1m 11s\tremaining: 1m 2s\n",
      "900:\tlearn: 0.0420524\ttest: 0.0082781\tbest: 0.0082781 (900)\ttotal: 1m 20s\tremaining: 53.3s\n",
      "1000:\tlearn: 0.0440333\ttest: 0.0083542\tbest: 0.0083655 (985)\ttotal: 1m 29s\tremaining: 44.5s\n",
      "1100:\tlearn: 0.0461090\ttest: 0.0083561\tbest: 0.0083954 (1075)\ttotal: 1m 38s\tremaining: 35.6s\n",
      "1200:\tlearn: 0.0480252\ttest: 0.0083598\tbest: 0.0083954 (1075)\ttotal: 1m 47s\tremaining: 26.6s\n",
      "1300:\tlearn: 0.0498685\ttest: 0.0083797\tbest: 0.0084088 (1265)\ttotal: 1m 55s\tremaining: 17.7s\n",
      "1400:\tlearn: 0.0516662\ttest: 0.0083737\tbest: 0.0084088 (1265)\ttotal: 2m 4s\tremaining: 8.83s\n",
      "1499:\tlearn: 0.0533242\ttest: 0.0084388\tbest: 0.0084388 (1499)\ttotal: 2m 13s\tremaining: 0us\n",
      "bestTest = 0.008438770819\n",
      "bestIteration = 1499\n"
     ]
    },
    {
     "data": {
      "application/vnd.jupyter.widget-view+json": {
       "model_id": "d3300881d3c34e4ea238cd0e8a1e312c",
       "version_major": 2,
       "version_minor": 0
      },
      "text/plain": [
       "VBox(children=(Label(value='0.004 MB of 0.004 MB uploaded\\r'), FloatProgress(value=1.0, max=1.0)))"
      ]
     },
     "metadata": {},
     "output_type": "display_data"
    },
    {
     "data": {
      "text/html": [
       "<style>\n",
       "    table.wandb td:nth-child(1) { padding: 0 10px; text-align: left ; width: auto;} td:nth-child(2) {text-align: left ; width: 100%}\n",
       "    .wandb-row { display: flex; flex-direction: row; flex-wrap: wrap; justify-content: flex-start; width: 100% }\n",
       "    .wandb-col { display: flex; flex-direction: column; flex-basis: 100%; flex: 1; padding: 10px; }\n",
       "    </style>\n",
       "<div class=\"wandb-row\"><div class=\"wandb-col\"><h3>Run history:</h3><br/><table class=\"wandb\"><tr><td>iteration</td><td>▁▁▂▂▃▃▄▄▅▅▆▆▇▇██</td></tr><tr><td>test_r2</td><td>▁▅▇▇▇███████████</td></tr><tr><td>test_rmse</td><td>█▄▂▂▂▁▁▁▁▁▁▁▁▁▁▁</td></tr><tr><td>train_r2</td><td>▁▃▃▄▅▅▅▆▆▇▇▇▇███</td></tr><tr><td>train_rmse</td><td>█▆▆▅▅▄▄▃▃▃▂▂▂▁▁▁</td></tr></table><br/></div><div class=\"wandb-col\"><h3>Run summary:</h3><br/><table class=\"wandb\"><tr><td>iteration</td><td>1500</td></tr><tr><td>test_r2</td><td>0.00844</td></tr><tr><td>test_rmse</td><td>0.79862</td></tr><tr><td>train_r2</td><td>0.05332</td></tr><tr><td>train_rmse</td><td>0.79631</td></tr><tr><td>w_test_r2</td><td>0.00844</td></tr><tr><td>w_train_r2</td><td>0.05333</td></tr></table><br/></div></div>"
      ],
      "text/plain": [
       "<IPython.core.display.HTML object>"
      ]
     },
     "metadata": {},
     "output_type": "display_data"
    },
    {
     "data": {
      "text/html": [
       " View run <strong style=\"color:#cdcd00\">driven-sweep-5</strong> at: <a href='https://wandb.ai/turkenm/js_catboost/runs/wa5e6ctu' target=\"_blank\">https://wandb.ai/turkenm/js_catboost/runs/wa5e6ctu</a><br/> View project at: <a href='https://wandb.ai/turkenm/js_catboost' target=\"_blank\">https://wandb.ai/turkenm/js_catboost</a><br/>Synced 6 W&B file(s), 0 media file(s), 0 artifact file(s) and 1 other file(s)"
      ],
      "text/plain": [
       "<IPython.core.display.HTML object>"
      ]
     },
     "metadata": {},
     "output_type": "display_data"
    },
    {
     "data": {
      "text/html": [
       "Find logs at: <code>./wandb/run-20250104_210128-wa5e6ctu/logs</code>"
      ],
      "text/plain": [
       "<IPython.core.display.HTML object>"
      ]
     },
     "metadata": {},
     "output_type": "display_data"
    },
    {
     "name": "stderr",
     "output_type": "stream",
     "text": [
      "\u001b[34m\u001b[1mwandb\u001b[0m: Sweep Agent: Waiting for job.\n",
      "\u001b[34m\u001b[1mwandb\u001b[0m: Job received.\n",
      "\u001b[34m\u001b[1mwandb\u001b[0m: Agent Starting Run: 84lhn7ha with config:\n",
      "\u001b[34m\u001b[1mwandb\u001b[0m: \tborder_count: 128\n",
      "\u001b[34m\u001b[1mwandb\u001b[0m: \titerations: 1500\n",
      "\u001b[34m\u001b[1mwandb\u001b[0m: \tlearning_rate: 0.025\n",
      "\u001b[34m\u001b[1mwandb\u001b[0m: \tmax_depth: 7\n",
      "Failed to detect the name of this notebook, you can set it manually with the WANDB_NOTEBOOK_NAME environment variable to enable code saving.\n"
     ]
    },
    {
     "data": {
      "text/html": [
       "wandb version 0.19.1 is available!  To upgrade, please run:\n",
       " $ pip install wandb --upgrade"
      ],
      "text/plain": [
       "<IPython.core.display.HTML object>"
      ]
     },
     "metadata": {},
     "output_type": "display_data"
    },
    {
     "data": {
      "text/html": [
       "Tracking run with wandb version 0.16.6"
      ],
      "text/plain": [
       "<IPython.core.display.HTML object>"
      ]
     },
     "metadata": {},
     "output_type": "display_data"
    },
    {
     "data": {
      "text/html": [
       "Run data is saved locally in <code>/home/mt/Desktop/JaneStreet-Comp/wandb/run-20250104_210434-84lhn7ha</code>"
      ],
      "text/plain": [
       "<IPython.core.display.HTML object>"
      ]
     },
     "metadata": {},
     "output_type": "display_data"
    },
    {
     "data": {
      "text/html": [
       "Syncing run <strong><a href='https://wandb.ai/turkenm/js_catboost/runs/84lhn7ha' target=\"_blank\">generous-sweep-6</a></strong> to <a href='https://wandb.ai/turkenm/js_catboost' target=\"_blank\">Weights & Biases</a> (<a href='https://wandb.me/run' target=\"_blank\">docs</a>)<br/>Sweep page: <a href='https://wandb.ai/turkenm/js_catboost/sweeps/zevgd9kj' target=\"_blank\">https://wandb.ai/turkenm/js_catboost/sweeps/zevgd9kj</a>"
      ],
      "text/plain": [
       "<IPython.core.display.HTML object>"
      ]
     },
     "metadata": {},
     "output_type": "display_data"
    },
    {
     "data": {
      "text/html": [
       " View project at <a href='https://wandb.ai/turkenm/js_catboost' target=\"_blank\">https://wandb.ai/turkenm/js_catboost</a>"
      ],
      "text/plain": [
       "<IPython.core.display.HTML object>"
      ]
     },
     "metadata": {},
     "output_type": "display_data"
    },
    {
     "data": {
      "text/html": [
       " View sweep at <a href='https://wandb.ai/turkenm/js_catboost/sweeps/zevgd9kj' target=\"_blank\">https://wandb.ai/turkenm/js_catboost/sweeps/zevgd9kj</a>"
      ],
      "text/plain": [
       "<IPython.core.display.HTML object>"
      ]
     },
     "metadata": {},
     "output_type": "display_data"
    },
    {
     "data": {
      "text/html": [
       " View run at <a href='https://wandb.ai/turkenm/js_catboost/runs/84lhn7ha' target=\"_blank\">https://wandb.ai/turkenm/js_catboost/runs/84lhn7ha</a>"
      ],
      "text/plain": [
       "<IPython.core.display.HTML object>"
      ]
     },
     "metadata": {},
     "output_type": "display_data"
    },
    {
     "name": "stderr",
     "output_type": "stream",
     "text": [
      "Default metric period is 5 because R2 is/are not implemented for GPU\n",
      "Metric R2 is not implemented on GPU. Will use CPU for metric computation, this could significantly affect learning time\n"
     ]
    },
    {
     "name": "stdout",
     "output_type": "stream",
     "text": [
      "0:\tlearn: 0.0003764\ttest: 0.0001705\tbest: 0.0001705 (0)\ttotal: 142ms\tremaining: 3m 32s\n",
      "100:\tlearn: 0.0142977\ttest: 0.0057742\tbest: 0.0057742 (100)\ttotal: 9.46s\tremaining: 2m 11s\n",
      "200:\tlearn: 0.0209725\ttest: 0.0071294\tbest: 0.0071294 (200)\ttotal: 19.6s\tremaining: 2m 6s\n",
      "300:\tlearn: 0.0268937\ttest: 0.0077453\tbest: 0.0077453 (300)\ttotal: 29.7s\tremaining: 1m 58s\n",
      "400:\tlearn: 0.0324081\ttest: 0.0081770\tbest: 0.0081949 (395)\ttotal: 39.8s\tremaining: 1m 48s\n",
      "500:\tlearn: 0.0371198\ttest: 0.0083626\tbest: 0.0083626 (500)\ttotal: 49.8s\tremaining: 1m 39s\n",
      "600:\tlearn: 0.0408955\ttest: 0.0085271\tbest: 0.0085271 (600)\ttotal: 1m\tremaining: 1m 29s\n",
      "700:\tlearn: 0.0442066\ttest: 0.0086399\tbest: 0.0086399 (700)\ttotal: 1m 10s\tremaining: 1m 20s\n",
      "800:\tlearn: 0.0472689\ttest: 0.0087243\tbest: 0.0087344 (755)\ttotal: 1m 20s\tremaining: 1m 10s\n",
      "900:\tlearn: 0.0501914\ttest: 0.0087948\tbest: 0.0088147 (890)\ttotal: 1m 30s\tremaining: 1m\n",
      "1000:\tlearn: 0.0528851\ttest: 0.0088584\tbest: 0.0088622 (995)\ttotal: 1m 40s\tremaining: 50.2s\n",
      "1100:\tlearn: 0.0554806\ttest: 0.0089048\tbest: 0.0089157 (1040)\ttotal: 1m 50s\tremaining: 40.2s\n",
      "1200:\tlearn: 0.0578077\ttest: 0.0089029\tbest: 0.0089157 (1040)\ttotal: 2m 1s\tremaining: 30.2s\n",
      "1300:\tlearn: 0.0601701\ttest: 0.0088665\tbest: 0.0089254 (1215)\ttotal: 2m 11s\tremaining: 20.1s\n",
      "1400:\tlearn: 0.0625369\ttest: 0.0088482\tbest: 0.0089254 (1215)\ttotal: 2m 21s\tremaining: 10s\n",
      "1499:\tlearn: 0.0647193\ttest: 0.0089214\tbest: 0.0089254 (1215)\ttotal: 2m 31s\tremaining: 0us\n",
      "bestTest = 0.008925408795\n",
      "bestIteration = 1215\n"
     ]
    },
    {
     "data": {
      "application/vnd.jupyter.widget-view+json": {
       "model_id": "a7e3828bd0fc4731bcab317832a3306d",
       "version_major": 2,
       "version_minor": 0
      },
      "text/plain": [
       "VBox(children=(Label(value='0.004 MB of 0.004 MB uploaded\\r'), FloatProgress(value=1.0, max=1.0)))"
      ]
     },
     "metadata": {},
     "output_type": "display_data"
    },
    {
     "data": {
      "text/html": [
       "<style>\n",
       "    table.wandb td:nth-child(1) { padding: 0 10px; text-align: left ; width: auto;} td:nth-child(2) {text-align: left ; width: 100%}\n",
       "    .wandb-row { display: flex; flex-direction: row; flex-wrap: wrap; justify-content: flex-start; width: 100% }\n",
       "    .wandb-col { display: flex; flex-direction: column; flex-basis: 100%; flex: 1; padding: 10px; }\n",
       "    </style>\n",
       "<div class=\"wandb-row\"><div class=\"wandb-col\"><h3>Run history:</h3><br/><table class=\"wandb\"><tr><td>iteration</td><td>▁▁▂▂▃▃▄▄▅▅▆▆▇▇██</td></tr><tr><td>test_r2</td><td>▁▅▇▇▇███████████</td></tr><tr><td>test_rmse</td><td>█▄▂▂▂▁▁▁▁▁▁▁▁▁▁▁</td></tr><tr><td>train_r2</td><td>▁▃▃▄▄▅▅▆▆▆▇▇▇███</td></tr><tr><td>train_rmse</td><td>█▇▆▅▅▄▄▃▃▃▂▂▂▂▁▁</td></tr></table><br/></div><div class=\"wandb-col\"><h3>Run summary:</h3><br/><table class=\"wandb\"><tr><td>iteration</td><td>1500</td></tr><tr><td>test_r2</td><td>0.00892</td></tr><tr><td>test_rmse</td><td>0.79843</td></tr><tr><td>train_r2</td><td>0.06472</td></tr><tr><td>train_rmse</td><td>0.7915</td></tr><tr><td>w_test_r2</td><td>0.00892</td></tr><tr><td>w_train_r2</td><td>0.06472</td></tr></table><br/></div></div>"
      ],
      "text/plain": [
       "<IPython.core.display.HTML object>"
      ]
     },
     "metadata": {},
     "output_type": "display_data"
    },
    {
     "data": {
      "text/html": [
       " View run <strong style=\"color:#cdcd00\">generous-sweep-6</strong> at: <a href='https://wandb.ai/turkenm/js_catboost/runs/84lhn7ha' target=\"_blank\">https://wandb.ai/turkenm/js_catboost/runs/84lhn7ha</a><br/> View project at: <a href='https://wandb.ai/turkenm/js_catboost' target=\"_blank\">https://wandb.ai/turkenm/js_catboost</a><br/>Synced 6 W&B file(s), 0 media file(s), 0 artifact file(s) and 1 other file(s)"
      ],
      "text/plain": [
       "<IPython.core.display.HTML object>"
      ]
     },
     "metadata": {},
     "output_type": "display_data"
    },
    {
     "data": {
      "text/html": [
       "Find logs at: <code>./wandb/run-20250104_210434-84lhn7ha/logs</code>"
      ],
      "text/plain": [
       "<IPython.core.display.HTML object>"
      ]
     },
     "metadata": {},
     "output_type": "display_data"
    },
    {
     "name": "stderr",
     "output_type": "stream",
     "text": [
      "\u001b[34m\u001b[1mwandb\u001b[0m: Agent Starting Run: ta3klyk5 with config:\n",
      "\u001b[34m\u001b[1mwandb\u001b[0m: \tborder_count: 255\n",
      "\u001b[34m\u001b[1mwandb\u001b[0m: \titerations: 1500\n",
      "\u001b[34m\u001b[1mwandb\u001b[0m: \tlearning_rate: 0.01\n",
      "\u001b[34m\u001b[1mwandb\u001b[0m: \tmax_depth: 5\n",
      "Failed to detect the name of this notebook, you can set it manually with the WANDB_NOTEBOOK_NAME environment variable to enable code saving.\n"
     ]
    },
    {
     "data": {
      "text/html": [
       "wandb version 0.19.1 is available!  To upgrade, please run:\n",
       " $ pip install wandb --upgrade"
      ],
      "text/plain": [
       "<IPython.core.display.HTML object>"
      ]
     },
     "metadata": {},
     "output_type": "display_data"
    },
    {
     "data": {
      "text/html": [
       "Tracking run with wandb version 0.16.6"
      ],
      "text/plain": [
       "<IPython.core.display.HTML object>"
      ]
     },
     "metadata": {},
     "output_type": "display_data"
    },
    {
     "data": {
      "text/html": [
       "Run data is saved locally in <code>/home/mt/Desktop/JaneStreet-Comp/wandb/run-20250104_210753-ta3klyk5</code>"
      ],
      "text/plain": [
       "<IPython.core.display.HTML object>"
      ]
     },
     "metadata": {},
     "output_type": "display_data"
    },
    {
     "data": {
      "text/html": [
       "Syncing run <strong><a href='https://wandb.ai/turkenm/js_catboost/runs/ta3klyk5' target=\"_blank\">distinctive-sweep-7</a></strong> to <a href='https://wandb.ai/turkenm/js_catboost' target=\"_blank\">Weights & Biases</a> (<a href='https://wandb.me/run' target=\"_blank\">docs</a>)<br/>Sweep page: <a href='https://wandb.ai/turkenm/js_catboost/sweeps/zevgd9kj' target=\"_blank\">https://wandb.ai/turkenm/js_catboost/sweeps/zevgd9kj</a>"
      ],
      "text/plain": [
       "<IPython.core.display.HTML object>"
      ]
     },
     "metadata": {},
     "output_type": "display_data"
    },
    {
     "data": {
      "text/html": [
       " View project at <a href='https://wandb.ai/turkenm/js_catboost' target=\"_blank\">https://wandb.ai/turkenm/js_catboost</a>"
      ],
      "text/plain": [
       "<IPython.core.display.HTML object>"
      ]
     },
     "metadata": {},
     "output_type": "display_data"
    },
    {
     "data": {
      "text/html": [
       " View sweep at <a href='https://wandb.ai/turkenm/js_catboost/sweeps/zevgd9kj' target=\"_blank\">https://wandb.ai/turkenm/js_catboost/sweeps/zevgd9kj</a>"
      ],
      "text/plain": [
       "<IPython.core.display.HTML object>"
      ]
     },
     "metadata": {},
     "output_type": "display_data"
    },
    {
     "data": {
      "text/html": [
       " View run at <a href='https://wandb.ai/turkenm/js_catboost/runs/ta3klyk5' target=\"_blank\">https://wandb.ai/turkenm/js_catboost/runs/ta3klyk5</a>"
      ],
      "text/plain": [
       "<IPython.core.display.HTML object>"
      ]
     },
     "metadata": {},
     "output_type": "display_data"
    },
    {
     "name": "stderr",
     "output_type": "stream",
     "text": [
      "Default metric period is 5 because R2 is/are not implemented for GPU\n",
      "Metric R2 is not implemented on GPU. Will use CPU for metric computation, this could significantly affect learning time\n"
     ]
    },
    {
     "name": "stdout",
     "output_type": "stream",
     "text": [
      "0:\tlearn: 0.0001187\ttest: 0.0000517\tbest: 0.0000517 (0)\ttotal: 140ms\tremaining: 3m 30s\n",
      "100:\tlearn: 0.0067009\ttest: 0.0031974\tbest: 0.0031974 (100)\ttotal: 7.64s\tremaining: 1m 45s\n",
      "200:\tlearn: 0.0097643\ttest: 0.0045255\tbest: 0.0045255 (200)\ttotal: 15.4s\tremaining: 1m 39s\n",
      "300:\tlearn: 0.0117866\ttest: 0.0052526\tbest: 0.0052526 (300)\ttotal: 23.4s\tremaining: 1m 33s\n",
      "400:\tlearn: 0.0135970\ttest: 0.0057215\tbest: 0.0057215 (400)\ttotal: 31.5s\tremaining: 1m 26s\n",
      "500:\tlearn: 0.0153564\ttest: 0.0061586\tbest: 0.0061586 (500)\ttotal: 39.6s\tremaining: 1m 19s\n",
      "600:\tlearn: 0.0169960\ttest: 0.0064685\tbest: 0.0064685 (600)\ttotal: 47.7s\tremaining: 1m 11s\n",
      "700:\tlearn: 0.0183781\ttest: 0.0067580\tbest: 0.0067580 (700)\ttotal: 55.8s\tremaining: 1m 3s\n",
      "800:\tlearn: 0.0196832\ttest: 0.0070340\tbest: 0.0070340 (800)\ttotal: 1m 3s\tremaining: 55.8s\n",
      "900:\tlearn: 0.0209493\ttest: 0.0072718\tbest: 0.0072718 (900)\ttotal: 1m 12s\tremaining: 47.9s\n",
      "1000:\tlearn: 0.0223797\ttest: 0.0074285\tbest: 0.0074285 (1000)\ttotal: 1m 20s\tremaining: 39.9s\n",
      "1100:\tlearn: 0.0239319\ttest: 0.0075390\tbest: 0.0075390 (1100)\ttotal: 1m 28s\tremaining: 31.9s\n",
      "1200:\tlearn: 0.0251382\ttest: 0.0076834\tbest: 0.0076834 (1200)\ttotal: 1m 36s\tremaining: 24s\n",
      "1300:\tlearn: 0.0263803\ttest: 0.0077702\tbest: 0.0077702 (1300)\ttotal: 1m 44s\tremaining: 15.9s\n",
      "1400:\tlearn: 0.0274261\ttest: 0.0078817\tbest: 0.0078817 (1400)\ttotal: 1m 52s\tremaining: 7.93s\n",
      "1499:\tlearn: 0.0286081\ttest: 0.0079519\tbest: 0.0079519 (1499)\ttotal: 2m\tremaining: 0us\n",
      "bestTest = 0.007951932686\n",
      "bestIteration = 1499\n"
     ]
    },
    {
     "data": {
      "application/vnd.jupyter.widget-view+json": {
       "model_id": "e26fbb60e87349b586a74c59e867a08d",
       "version_major": 2,
       "version_minor": 0
      },
      "text/plain": [
       "VBox(children=(Label(value='0.004 MB of 0.004 MB uploaded\\r'), FloatProgress(value=1.0, max=1.0)))"
      ]
     },
     "metadata": {},
     "output_type": "display_data"
    },
    {
     "data": {
      "text/html": [
       "<style>\n",
       "    table.wandb td:nth-child(1) { padding: 0 10px; text-align: left ; width: auto;} td:nth-child(2) {text-align: left ; width: 100%}\n",
       "    .wandb-row { display: flex; flex-direction: row; flex-wrap: wrap; justify-content: flex-start; width: 100% }\n",
       "    .wandb-col { display: flex; flex-direction: column; flex-basis: 100%; flex: 1; padding: 10px; }\n",
       "    </style>\n",
       "<div class=\"wandb-row\"><div class=\"wandb-col\"><h3>Run history:</h3><br/><table class=\"wandb\"><tr><td>iteration</td><td>▁▁▂▂▃▃▄▄▅▅▆▆▇▇██</td></tr><tr><td>test_r2</td><td>▁▄▅▆▆▆▇▇▇▇██████</td></tr><tr><td>test_rmse</td><td>█▅▄▃▃▃▂▂▂▂▁▁▁▁▁▁</td></tr><tr><td>train_r2</td><td>▁▃▃▄▄▅▅▅▆▆▆▇▇▇██</td></tr><tr><td>train_rmse</td><td>█▆▆▅▅▄▄▄▃▃▃▂▂▂▁▁</td></tr></table><br/></div><div class=\"wandb-col\"><h3>Run summary:</h3><br/><table class=\"wandb\"><tr><td>iteration</td><td>1500</td></tr><tr><td>test_r2</td><td>0.00795</td></tr><tr><td>test_rmse</td><td>0.79882</td></tr><tr><td>train_r2</td><td>0.02861</td></tr><tr><td>train_rmse</td><td>0.80664</td></tr><tr><td>w_test_r2</td><td>0.00795</td></tr><tr><td>w_train_r2</td><td>0.02861</td></tr></table><br/></div></div>"
      ],
      "text/plain": [
       "<IPython.core.display.HTML object>"
      ]
     },
     "metadata": {},
     "output_type": "display_data"
    },
    {
     "data": {
      "text/html": [
       " View run <strong style=\"color:#cdcd00\">distinctive-sweep-7</strong> at: <a href='https://wandb.ai/turkenm/js_catboost/runs/ta3klyk5' target=\"_blank\">https://wandb.ai/turkenm/js_catboost/runs/ta3klyk5</a><br/> View project at: <a href='https://wandb.ai/turkenm/js_catboost' target=\"_blank\">https://wandb.ai/turkenm/js_catboost</a><br/>Synced 6 W&B file(s), 0 media file(s), 0 artifact file(s) and 1 other file(s)"
      ],
      "text/plain": [
       "<IPython.core.display.HTML object>"
      ]
     },
     "metadata": {},
     "output_type": "display_data"
    },
    {
     "data": {
      "text/html": [
       "Find logs at: <code>./wandb/run-20250104_210753-ta3klyk5/logs</code>"
      ],
      "text/plain": [
       "<IPython.core.display.HTML object>"
      ]
     },
     "metadata": {},
     "output_type": "display_data"
    },
    {
     "name": "stderr",
     "output_type": "stream",
     "text": [
      "\u001b[34m\u001b[1mwandb\u001b[0m: Agent Starting Run: ranqcyzh with config:\n",
      "\u001b[34m\u001b[1mwandb\u001b[0m: \tborder_count: 255\n",
      "\u001b[34m\u001b[1mwandb\u001b[0m: \titerations: 1500\n",
      "\u001b[34m\u001b[1mwandb\u001b[0m: \tlearning_rate: 0.01\n",
      "\u001b[34m\u001b[1mwandb\u001b[0m: \tmax_depth: 6\n",
      "Failed to detect the name of this notebook, you can set it manually with the WANDB_NOTEBOOK_NAME environment variable to enable code saving.\n"
     ]
    },
    {
     "data": {
      "text/html": [
       "wandb version 0.19.1 is available!  To upgrade, please run:\n",
       " $ pip install wandb --upgrade"
      ],
      "text/plain": [
       "<IPython.core.display.HTML object>"
      ]
     },
     "metadata": {},
     "output_type": "display_data"
    },
    {
     "data": {
      "text/html": [
       "Tracking run with wandb version 0.16.6"
      ],
      "text/plain": [
       "<IPython.core.display.HTML object>"
      ]
     },
     "metadata": {},
     "output_type": "display_data"
    },
    {
     "data": {
      "text/html": [
       "Run data is saved locally in <code>/home/mt/Desktop/JaneStreet-Comp/wandb/run-20250104_211034-ranqcyzh</code>"
      ],
      "text/plain": [
       "<IPython.core.display.HTML object>"
      ]
     },
     "metadata": {},
     "output_type": "display_data"
    },
    {
     "data": {
      "text/html": [
       "Syncing run <strong><a href='https://wandb.ai/turkenm/js_catboost/runs/ranqcyzh' target=\"_blank\">warm-sweep-8</a></strong> to <a href='https://wandb.ai/turkenm/js_catboost' target=\"_blank\">Weights & Biases</a> (<a href='https://wandb.me/run' target=\"_blank\">docs</a>)<br/>Sweep page: <a href='https://wandb.ai/turkenm/js_catboost/sweeps/zevgd9kj' target=\"_blank\">https://wandb.ai/turkenm/js_catboost/sweeps/zevgd9kj</a>"
      ],
      "text/plain": [
       "<IPython.core.display.HTML object>"
      ]
     },
     "metadata": {},
     "output_type": "display_data"
    },
    {
     "data": {
      "text/html": [
       " View project at <a href='https://wandb.ai/turkenm/js_catboost' target=\"_blank\">https://wandb.ai/turkenm/js_catboost</a>"
      ],
      "text/plain": [
       "<IPython.core.display.HTML object>"
      ]
     },
     "metadata": {},
     "output_type": "display_data"
    },
    {
     "data": {
      "text/html": [
       " View sweep at <a href='https://wandb.ai/turkenm/js_catboost/sweeps/zevgd9kj' target=\"_blank\">https://wandb.ai/turkenm/js_catboost/sweeps/zevgd9kj</a>"
      ],
      "text/plain": [
       "<IPython.core.display.HTML object>"
      ]
     },
     "metadata": {},
     "output_type": "display_data"
    },
    {
     "data": {
      "text/html": [
       " View run at <a href='https://wandb.ai/turkenm/js_catboost/runs/ranqcyzh' target=\"_blank\">https://wandb.ai/turkenm/js_catboost/runs/ranqcyzh</a>"
      ],
      "text/plain": [
       "<IPython.core.display.HTML object>"
      ]
     },
     "metadata": {},
     "output_type": "display_data"
    },
    {
     "name": "stderr",
     "output_type": "stream",
     "text": [
      "Default metric period is 5 because R2 is/are not implemented for GPU\n",
      "Metric R2 is not implemented on GPU. Will use CPU for metric computation, this could significantly affect learning time\n"
     ]
    },
    {
     "name": "stdout",
     "output_type": "stream",
     "text": [
      "0:\tlearn: 0.0001339\ttest: 0.0000509\tbest: 0.0000509 (0)\ttotal: 143ms\tremaining: 3m 34s\n",
      "100:\tlearn: 0.0077483\ttest: 0.0035245\tbest: 0.0035245 (100)\ttotal: 8.63s\tremaining: 1m 59s\n",
      "200:\tlearn: 0.0112610\ttest: 0.0049044\tbest: 0.0049044 (200)\ttotal: 17.3s\tremaining: 1m 51s\n",
      "300:\tlearn: 0.0136835\ttest: 0.0056876\tbest: 0.0056876 (300)\ttotal: 26.4s\tremaining: 1m 45s\n",
      "400:\tlearn: 0.0158416\ttest: 0.0061654\tbest: 0.0061654 (400)\ttotal: 35.7s\tremaining: 1m 37s\n",
      "500:\tlearn: 0.0179437\ttest: 0.0066106\tbest: 0.0066106 (500)\ttotal: 45.2s\tremaining: 1m 30s\n",
      "600:\tlearn: 0.0199559\ttest: 0.0069530\tbest: 0.0069530 (600)\ttotal: 54.6s\tremaining: 1m 21s\n",
      "700:\tlearn: 0.0218699\ttest: 0.0072819\tbest: 0.0072819 (700)\ttotal: 1m 3s\tremaining: 1m 12s\n",
      "800:\tlearn: 0.0237028\ttest: 0.0075350\tbest: 0.0075350 (800)\ttotal: 1m 13s\tremaining: 1m 3s\n",
      "900:\tlearn: 0.0255295\ttest: 0.0077427\tbest: 0.0077427 (900)\ttotal: 1m 22s\tremaining: 54.9s\n",
      "1000:\tlearn: 0.0271343\ttest: 0.0079335\tbest: 0.0079335 (1000)\ttotal: 1m 32s\tremaining: 45.9s\n",
      "1100:\tlearn: 0.0289460\ttest: 0.0080424\tbest: 0.0080424 (1100)\ttotal: 1m 41s\tremaining: 36.7s\n",
      "1200:\tlearn: 0.0304541\ttest: 0.0081192\tbest: 0.0081192 (1200)\ttotal: 1m 50s\tremaining: 27.5s\n",
      "1300:\tlearn: 0.0318322\ttest: 0.0082397\tbest: 0.0082397 (1300)\ttotal: 1m 59s\tremaining: 18.3s\n",
      "1400:\tlearn: 0.0331138\ttest: 0.0082887\tbest: 0.0082961 (1390)\ttotal: 2m 9s\tremaining: 9.13s\n",
      "1499:\tlearn: 0.0344188\ttest: 0.0083316\tbest: 0.0083316 (1499)\ttotal: 2m 18s\tremaining: 0us\n",
      "bestTest = 0.008331643357\n",
      "bestIteration = 1499\n"
     ]
    },
    {
     "data": {
      "application/vnd.jupyter.widget-view+json": {
       "model_id": "cacdc54990784f2fbe1773e243b241e3",
       "version_major": 2,
       "version_minor": 0
      },
      "text/plain": [
       "VBox(children=(Label(value='0.004 MB of 0.004 MB uploaded\\r'), FloatProgress(value=1.0, max=1.0)))"
      ]
     },
     "metadata": {},
     "output_type": "display_data"
    },
    {
     "data": {
      "text/html": [
       "<style>\n",
       "    table.wandb td:nth-child(1) { padding: 0 10px; text-align: left ; width: auto;} td:nth-child(2) {text-align: left ; width: 100%}\n",
       "    .wandb-row { display: flex; flex-direction: row; flex-wrap: wrap; justify-content: flex-start; width: 100% }\n",
       "    .wandb-col { display: flex; flex-direction: column; flex-basis: 100%; flex: 1; padding: 10px; }\n",
       "    </style>\n",
       "<div class=\"wandb-row\"><div class=\"wandb-col\"><h3>Run history:</h3><br/><table class=\"wandb\"><tr><td>iteration</td><td>▁▁▂▂▃▃▄▄▅▅▆▆▇▇██</td></tr><tr><td>test_r2</td><td>▁▄▅▆▆▇▇▇▇███████</td></tr><tr><td>test_rmse</td><td>█▅▄▃▃▂▂▂▂▁▁▁▁▁▁▁</td></tr><tr><td>train_r2</td><td>▁▃▃▄▄▅▅▅▆▆▇▇▇▇██</td></tr><tr><td>train_rmse</td><td>█▆▆▅▅▄▄▄▃▃▂▂▂▂▁▁</td></tr></table><br/></div><div class=\"wandb-col\"><h3>Run summary:</h3><br/><table class=\"wandb\"><tr><td>iteration</td><td>1500</td></tr><tr><td>test_r2</td><td>0.00833</td></tr><tr><td>test_rmse</td><td>0.79867</td></tr><tr><td>train_r2</td><td>0.03442</td></tr><tr><td>train_rmse</td><td>0.80422</td></tr><tr><td>w_test_r2</td><td>0.00833</td></tr><tr><td>w_train_r2</td><td>0.03442</td></tr></table><br/></div></div>"
      ],
      "text/plain": [
       "<IPython.core.display.HTML object>"
      ]
     },
     "metadata": {},
     "output_type": "display_data"
    },
    {
     "data": {
      "text/html": [
       " View run <strong style=\"color:#cdcd00\">warm-sweep-8</strong> at: <a href='https://wandb.ai/turkenm/js_catboost/runs/ranqcyzh' target=\"_blank\">https://wandb.ai/turkenm/js_catboost/runs/ranqcyzh</a><br/> View project at: <a href='https://wandb.ai/turkenm/js_catboost' target=\"_blank\">https://wandb.ai/turkenm/js_catboost</a><br/>Synced 6 W&B file(s), 0 media file(s), 0 artifact file(s) and 1 other file(s)"
      ],
      "text/plain": [
       "<IPython.core.display.HTML object>"
      ]
     },
     "metadata": {},
     "output_type": "display_data"
    },
    {
     "data": {
      "text/html": [
       "Find logs at: <code>./wandb/run-20250104_211034-ranqcyzh/logs</code>"
      ],
      "text/plain": [
       "<IPython.core.display.HTML object>"
      ]
     },
     "metadata": {},
     "output_type": "display_data"
    },
    {
     "name": "stderr",
     "output_type": "stream",
     "text": [
      "\u001b[34m\u001b[1mwandb\u001b[0m: Agent Starting Run: vl4drb27 with config:\n",
      "\u001b[34m\u001b[1mwandb\u001b[0m: \tborder_count: 255\n",
      "\u001b[34m\u001b[1mwandb\u001b[0m: \titerations: 1500\n",
      "\u001b[34m\u001b[1mwandb\u001b[0m: \tlearning_rate: 0.01\n",
      "\u001b[34m\u001b[1mwandb\u001b[0m: \tmax_depth: 7\n",
      "Failed to detect the name of this notebook, you can set it manually with the WANDB_NOTEBOOK_NAME environment variable to enable code saving.\n"
     ]
    },
    {
     "data": {
      "text/html": [
       "wandb version 0.19.1 is available!  To upgrade, please run:\n",
       " $ pip install wandb --upgrade"
      ],
      "text/plain": [
       "<IPython.core.display.HTML object>"
      ]
     },
     "metadata": {},
     "output_type": "display_data"
    },
    {
     "data": {
      "text/html": [
       "Tracking run with wandb version 0.16.6"
      ],
      "text/plain": [
       "<IPython.core.display.HTML object>"
      ]
     },
     "metadata": {},
     "output_type": "display_data"
    },
    {
     "data": {
      "text/html": [
       "Run data is saved locally in <code>/home/mt/Desktop/JaneStreet-Comp/wandb/run-20250104_211335-vl4drb27</code>"
      ],
      "text/plain": [
       "<IPython.core.display.HTML object>"
      ]
     },
     "metadata": {},
     "output_type": "display_data"
    },
    {
     "data": {
      "text/html": [
       "Syncing run <strong><a href='https://wandb.ai/turkenm/js_catboost/runs/vl4drb27' target=\"_blank\">blooming-sweep-9</a></strong> to <a href='https://wandb.ai/turkenm/js_catboost' target=\"_blank\">Weights & Biases</a> (<a href='https://wandb.me/run' target=\"_blank\">docs</a>)<br/>Sweep page: <a href='https://wandb.ai/turkenm/js_catboost/sweeps/zevgd9kj' target=\"_blank\">https://wandb.ai/turkenm/js_catboost/sweeps/zevgd9kj</a>"
      ],
      "text/plain": [
       "<IPython.core.display.HTML object>"
      ]
     },
     "metadata": {},
     "output_type": "display_data"
    },
    {
     "data": {
      "text/html": [
       " View project at <a href='https://wandb.ai/turkenm/js_catboost' target=\"_blank\">https://wandb.ai/turkenm/js_catboost</a>"
      ],
      "text/plain": [
       "<IPython.core.display.HTML object>"
      ]
     },
     "metadata": {},
     "output_type": "display_data"
    },
    {
     "data": {
      "text/html": [
       " View sweep at <a href='https://wandb.ai/turkenm/js_catboost/sweeps/zevgd9kj' target=\"_blank\">https://wandb.ai/turkenm/js_catboost/sweeps/zevgd9kj</a>"
      ],
      "text/plain": [
       "<IPython.core.display.HTML object>"
      ]
     },
     "metadata": {},
     "output_type": "display_data"
    },
    {
     "data": {
      "text/html": [
       " View run at <a href='https://wandb.ai/turkenm/js_catboost/runs/vl4drb27' target=\"_blank\">https://wandb.ai/turkenm/js_catboost/runs/vl4drb27</a>"
      ],
      "text/plain": [
       "<IPython.core.display.HTML object>"
      ]
     },
     "metadata": {},
     "output_type": "display_data"
    },
    {
     "name": "stderr",
     "output_type": "stream",
     "text": [
      "Default metric period is 5 because R2 is/are not implemented for GPU\n",
      "Metric R2 is not implemented on GPU. Will use CPU for metric computation, this could significantly affect learning time\n"
     ]
    },
    {
     "name": "stdout",
     "output_type": "stream",
     "text": [
      "0:\tlearn: 0.0001534\ttest: 0.0000598\tbest: 0.0000598 (0)\ttotal: 155ms\tremaining: 3m 52s\n",
      "100:\tlearn: 0.0088105\ttest: 0.0038505\tbest: 0.0038505 (100)\ttotal: 9.76s\tremaining: 2m 15s\n",
      "200:\tlearn: 0.0127524\ttest: 0.0052818\tbest: 0.0052818 (200)\ttotal: 19.6s\tremaining: 2m 6s\n",
      "300:\tlearn: 0.0157741\ttest: 0.0060925\tbest: 0.0060925 (300)\ttotal: 30s\tremaining: 1m 59s\n",
      "400:\tlearn: 0.0185576\ttest: 0.0066236\tbest: 0.0066236 (400)\ttotal: 40.7s\tremaining: 1m 51s\n",
      "500:\tlearn: 0.0209205\ttest: 0.0070619\tbest: 0.0070619 (500)\ttotal: 51.3s\tremaining: 1m 42s\n",
      "600:\tlearn: 0.0233916\ttest: 0.0074301\tbest: 0.0074301 (600)\ttotal: 1m 1s\tremaining: 1m 32s\n",
      "700:\tlearn: 0.0258333\ttest: 0.0076981\tbest: 0.0076981 (700)\ttotal: 1m 12s\tremaining: 1m 22s\n",
      "800:\tlearn: 0.0283626\ttest: 0.0079295\tbest: 0.0079295 (800)\ttotal: 1m 23s\tremaining: 1m 12s\n",
      "900:\tlearn: 0.0303614\ttest: 0.0081067\tbest: 0.0081067 (900)\ttotal: 1m 33s\tremaining: 1m 2s\n",
      "1000:\tlearn: 0.0322599\ttest: 0.0082539\tbest: 0.0082539 (1000)\ttotal: 1m 44s\tremaining: 52.1s\n",
      "1100:\tlearn: 0.0343603\ttest: 0.0083493\tbest: 0.0083498 (1095)\ttotal: 1m 55s\tremaining: 41.7s\n",
      "1200:\tlearn: 0.0360202\ttest: 0.0084592\tbest: 0.0084592 (1200)\ttotal: 2m 5s\tremaining: 31.3s\n",
      "1300:\tlearn: 0.0375743\ttest: 0.0085294\tbest: 0.0085294 (1300)\ttotal: 2m 16s\tremaining: 20.9s\n",
      "1400:\tlearn: 0.0390917\ttest: 0.0085911\tbest: 0.0085911 (1400)\ttotal: 2m 26s\tremaining: 10.4s\n",
      "1499:\tlearn: 0.0407139\ttest: 0.0086850\tbest: 0.0086854 (1495)\ttotal: 2m 37s\tremaining: 0us\n",
      "bestTest = 0.008685416362\n",
      "bestIteration = 1495\n"
     ]
    },
    {
     "data": {
      "application/vnd.jupyter.widget-view+json": {
       "model_id": "d7c42dc37e1a44f887a8b3eaca5c89d1",
       "version_major": 2,
       "version_minor": 0
      },
      "text/plain": [
       "VBox(children=(Label(value='0.004 MB of 0.004 MB uploaded\\r'), FloatProgress(value=1.0, max=1.0)))"
      ]
     },
     "metadata": {},
     "output_type": "display_data"
    },
    {
     "data": {
      "text/html": [
       "<style>\n",
       "    table.wandb td:nth-child(1) { padding: 0 10px; text-align: left ; width: auto;} td:nth-child(2) {text-align: left ; width: 100%}\n",
       "    .wandb-row { display: flex; flex-direction: row; flex-wrap: wrap; justify-content: flex-start; width: 100% }\n",
       "    .wandb-col { display: flex; flex-direction: column; flex-basis: 100%; flex: 1; padding: 10px; }\n",
       "    </style>\n",
       "<div class=\"wandb-row\"><div class=\"wandb-col\"><h3>Run history:</h3><br/><table class=\"wandb\"><tr><td>iteration</td><td>▁▁▂▂▃▃▄▄▅▅▆▆▇▇██</td></tr><tr><td>test_r2</td><td>▁▄▅▆▆▇▇▇▇███████</td></tr><tr><td>test_rmse</td><td>█▅▄▃▃▂▂▂▂▁▁▁▁▁▁▁</td></tr><tr><td>train_r2</td><td>▁▂▃▄▄▅▅▅▆▆▇▇▇▇██</td></tr><tr><td>train_rmse</td><td>█▇▆▅▅▄▄▄▃▃▂▂▂▂▁▁</td></tr></table><br/></div><div class=\"wandb-col\"><h3>Run summary:</h3><br/><table class=\"wandb\"><tr><td>iteration</td><td>1500</td></tr><tr><td>test_r2</td><td>0.00868</td></tr><tr><td>test_rmse</td><td>0.79852</td></tr><tr><td>train_r2</td><td>0.04071</td></tr><tr><td>train_rmse</td><td>0.80159</td></tr><tr><td>w_test_r2</td><td>0.00868</td></tr><tr><td>w_train_r2</td><td>0.04071</td></tr></table><br/></div></div>"
      ],
      "text/plain": [
       "<IPython.core.display.HTML object>"
      ]
     },
     "metadata": {},
     "output_type": "display_data"
    },
    {
     "data": {
      "text/html": [
       " View run <strong style=\"color:#cdcd00\">blooming-sweep-9</strong> at: <a href='https://wandb.ai/turkenm/js_catboost/runs/vl4drb27' target=\"_blank\">https://wandb.ai/turkenm/js_catboost/runs/vl4drb27</a><br/> View project at: <a href='https://wandb.ai/turkenm/js_catboost' target=\"_blank\">https://wandb.ai/turkenm/js_catboost</a><br/>Synced 6 W&B file(s), 0 media file(s), 0 artifact file(s) and 1 other file(s)"
      ],
      "text/plain": [
       "<IPython.core.display.HTML object>"
      ]
     },
     "metadata": {},
     "output_type": "display_data"
    },
    {
     "data": {
      "text/html": [
       "Find logs at: <code>./wandb/run-20250104_211335-vl4drb27/logs</code>"
      ],
      "text/plain": [
       "<IPython.core.display.HTML object>"
      ]
     },
     "metadata": {},
     "output_type": "display_data"
    },
    {
     "name": "stderr",
     "output_type": "stream",
     "text": [
      "\u001b[34m\u001b[1mwandb\u001b[0m: Agent Starting Run: 2bce568r with config:\n",
      "\u001b[34m\u001b[1mwandb\u001b[0m: \tborder_count: 255\n",
      "\u001b[34m\u001b[1mwandb\u001b[0m: \titerations: 1500\n",
      "\u001b[34m\u001b[1mwandb\u001b[0m: \tlearning_rate: 0.025\n",
      "\u001b[34m\u001b[1mwandb\u001b[0m: \tmax_depth: 5\n",
      "Failed to detect the name of this notebook, you can set it manually with the WANDB_NOTEBOOK_NAME environment variable to enable code saving.\n"
     ]
    },
    {
     "data": {
      "text/html": [
       "wandb version 0.19.1 is available!  To upgrade, please run:\n",
       " $ pip install wandb --upgrade"
      ],
      "text/plain": [
       "<IPython.core.display.HTML object>"
      ]
     },
     "metadata": {},
     "output_type": "display_data"
    },
    {
     "data": {
      "text/html": [
       "Tracking run with wandb version 0.16.6"
      ],
      "text/plain": [
       "<IPython.core.display.HTML object>"
      ]
     },
     "metadata": {},
     "output_type": "display_data"
    },
    {
     "data": {
      "text/html": [
       "Run data is saved locally in <code>/home/mt/Desktop/JaneStreet-Comp/wandb/run-20250104_211654-2bce568r</code>"
      ],
      "text/plain": [
       "<IPython.core.display.HTML object>"
      ]
     },
     "metadata": {},
     "output_type": "display_data"
    },
    {
     "data": {
      "text/html": [
       "Syncing run <strong><a href='https://wandb.ai/turkenm/js_catboost/runs/2bce568r' target=\"_blank\">magic-sweep-10</a></strong> to <a href='https://wandb.ai/turkenm/js_catboost' target=\"_blank\">Weights & Biases</a> (<a href='https://wandb.me/run' target=\"_blank\">docs</a>)<br/>Sweep page: <a href='https://wandb.ai/turkenm/js_catboost/sweeps/zevgd9kj' target=\"_blank\">https://wandb.ai/turkenm/js_catboost/sweeps/zevgd9kj</a>"
      ],
      "text/plain": [
       "<IPython.core.display.HTML object>"
      ]
     },
     "metadata": {},
     "output_type": "display_data"
    },
    {
     "data": {
      "text/html": [
       " View project at <a href='https://wandb.ai/turkenm/js_catboost' target=\"_blank\">https://wandb.ai/turkenm/js_catboost</a>"
      ],
      "text/plain": [
       "<IPython.core.display.HTML object>"
      ]
     },
     "metadata": {},
     "output_type": "display_data"
    },
    {
     "data": {
      "text/html": [
       " View sweep at <a href='https://wandb.ai/turkenm/js_catboost/sweeps/zevgd9kj' target=\"_blank\">https://wandb.ai/turkenm/js_catboost/sweeps/zevgd9kj</a>"
      ],
      "text/plain": [
       "<IPython.core.display.HTML object>"
      ]
     },
     "metadata": {},
     "output_type": "display_data"
    },
    {
     "data": {
      "text/html": [
       " View run at <a href='https://wandb.ai/turkenm/js_catboost/runs/2bce568r' target=\"_blank\">https://wandb.ai/turkenm/js_catboost/runs/2bce568r</a>"
      ],
      "text/plain": [
       "<IPython.core.display.HTML object>"
      ]
     },
     "metadata": {},
     "output_type": "display_data"
    },
    {
     "name": "stderr",
     "output_type": "stream",
     "text": [
      "Default metric period is 5 because R2 is/are not implemented for GPU\n",
      "Metric R2 is not implemented on GPU. Will use CPU for metric computation, this could significantly affect learning time\n"
     ]
    },
    {
     "name": "stdout",
     "output_type": "stream",
     "text": [
      "0:\tlearn: 0.0002945\ttest: 0.0001410\tbest: 0.0001410 (0)\ttotal: 139ms\tremaining: 3m 27s\n",
      "100:\tlearn: 0.0108862\ttest: 0.0049367\tbest: 0.0049367 (100)\ttotal: 7.79s\tremaining: 1m 47s\n",
      "200:\tlearn: 0.0153875\ttest: 0.0060757\tbest: 0.0060757 (200)\ttotal: 15.8s\tremaining: 1m 42s\n",
      "300:\tlearn: 0.0190579\ttest: 0.0068897\tbest: 0.0068897 (300)\ttotal: 23.7s\tremaining: 1m 34s\n",
      "400:\tlearn: 0.0222853\ttest: 0.0074394\tbest: 0.0074394 (400)\ttotal: 31.8s\tremaining: 1m 27s\n",
      "500:\tlearn: 0.0256481\ttest: 0.0077413\tbest: 0.0077413 (500)\ttotal: 39.8s\tremaining: 1m 19s\n",
      "600:\tlearn: 0.0282675\ttest: 0.0080579\tbest: 0.0080579 (600)\ttotal: 47.9s\tremaining: 1m 11s\n",
      "700:\tlearn: 0.0309902\ttest: 0.0082626\tbest: 0.0082626 (700)\ttotal: 56.2s\tremaining: 1m 4s\n",
      "800:\tlearn: 0.0330739\ttest: 0.0083563\tbest: 0.0083563 (800)\ttotal: 1m 4s\tremaining: 56.1s\n",
      "900:\tlearn: 0.0351299\ttest: 0.0084133\tbest: 0.0084198 (885)\ttotal: 1m 12s\tremaining: 48.1s\n",
      "1000:\tlearn: 0.0368797\ttest: 0.0084893\tbest: 0.0084893 (1000)\ttotal: 1m 20s\tremaining: 40.1s\n",
      "1100:\tlearn: 0.0386280\ttest: 0.0085434\tbest: 0.0085530 (1080)\ttotal: 1m 28s\tremaining: 32.1s\n",
      "1200:\tlearn: 0.0400914\ttest: 0.0085232\tbest: 0.0085530 (1080)\ttotal: 1m 36s\tremaining: 24.1s\n",
      "1300:\tlearn: 0.0414723\ttest: 0.0085719\tbest: 0.0085719 (1300)\ttotal: 1m 44s\tremaining: 16s\n",
      "1400:\tlearn: 0.0429055\ttest: 0.0086383\tbest: 0.0086383 (1400)\ttotal: 1m 52s\tremaining: 7.97s\n",
      "1499:\tlearn: 0.0442521\ttest: 0.0086654\tbest: 0.0086875 (1475)\ttotal: 2m\tremaining: 0us\n",
      "bestTest = 0.008687483958\n",
      "bestIteration = 1475\n"
     ]
    },
    {
     "data": {
      "application/vnd.jupyter.widget-view+json": {
       "model_id": "807c710b7ad44b2597165e59770d77dd",
       "version_major": 2,
       "version_minor": 0
      },
      "text/plain": [
       "VBox(children=(Label(value='0.004 MB of 0.004 MB uploaded\\r'), FloatProgress(value=1.0, max=1.0)))"
      ]
     },
     "metadata": {},
     "output_type": "display_data"
    },
    {
     "data": {
      "text/html": [
       "<style>\n",
       "    table.wandb td:nth-child(1) { padding: 0 10px; text-align: left ; width: auto;} td:nth-child(2) {text-align: left ; width: 100%}\n",
       "    .wandb-row { display: flex; flex-direction: row; flex-wrap: wrap; justify-content: flex-start; width: 100% }\n",
       "    .wandb-col { display: flex; flex-direction: column; flex-basis: 100%; flex: 1; padding: 10px; }\n",
       "    </style>\n",
       "<div class=\"wandb-row\"><div class=\"wandb-col\"><h3>Run history:</h3><br/><table class=\"wandb\"><tr><td>iteration</td><td>▁▁▂▂▃▃▄▄▅▅▆▆▇▇██</td></tr><tr><td>test_r2</td><td>▁▅▆▇▇▇██████████</td></tr><tr><td>test_rmse</td><td>█▄▃▂▂▂▁▁▁▁▁▁▁▁▁▁</td></tr><tr><td>train_r2</td><td>▁▃▃▄▅▅▅▆▆▇▇▇▇███</td></tr><tr><td>train_rmse</td><td>█▆▆▅▅▄▄▃▃▂▂▂▂▁▁▁</td></tr></table><br/></div><div class=\"wandb-col\"><h3>Run summary:</h3><br/><table class=\"wandb\"><tr><td>iteration</td><td>1500</td></tr><tr><td>test_r2</td><td>0.00867</td></tr><tr><td>test_rmse</td><td>0.79853</td></tr><tr><td>train_r2</td><td>0.04425</td></tr><tr><td>train_rmse</td><td>0.80011</td></tr><tr><td>w_test_r2</td><td>0.00867</td></tr><tr><td>w_train_r2</td><td>0.04426</td></tr></table><br/></div></div>"
      ],
      "text/plain": [
       "<IPython.core.display.HTML object>"
      ]
     },
     "metadata": {},
     "output_type": "display_data"
    },
    {
     "data": {
      "text/html": [
       " View run <strong style=\"color:#cdcd00\">magic-sweep-10</strong> at: <a href='https://wandb.ai/turkenm/js_catboost/runs/2bce568r' target=\"_blank\">https://wandb.ai/turkenm/js_catboost/runs/2bce568r</a><br/> View project at: <a href='https://wandb.ai/turkenm/js_catboost' target=\"_blank\">https://wandb.ai/turkenm/js_catboost</a><br/>Synced 6 W&B file(s), 0 media file(s), 0 artifact file(s) and 1 other file(s)"
      ],
      "text/plain": [
       "<IPython.core.display.HTML object>"
      ]
     },
     "metadata": {},
     "output_type": "display_data"
    },
    {
     "data": {
      "text/html": [
       "Find logs at: <code>./wandb/run-20250104_211654-2bce568r/logs</code>"
      ],
      "text/plain": [
       "<IPython.core.display.HTML object>"
      ]
     },
     "metadata": {},
     "output_type": "display_data"
    },
    {
     "name": "stderr",
     "output_type": "stream",
     "text": [
      "\u001b[34m\u001b[1mwandb\u001b[0m: Agent Starting Run: g9ln3x8l with config:\n",
      "\u001b[34m\u001b[1mwandb\u001b[0m: \tborder_count: 255\n",
      "\u001b[34m\u001b[1mwandb\u001b[0m: \titerations: 1500\n",
      "\u001b[34m\u001b[1mwandb\u001b[0m: \tlearning_rate: 0.025\n",
      "\u001b[34m\u001b[1mwandb\u001b[0m: \tmax_depth: 6\n",
      "Failed to detect the name of this notebook, you can set it manually with the WANDB_NOTEBOOK_NAME environment variable to enable code saving.\n"
     ]
    },
    {
     "data": {
      "text/html": [
       "wandb version 0.19.1 is available!  To upgrade, please run:\n",
       " $ pip install wandb --upgrade"
      ],
      "text/plain": [
       "<IPython.core.display.HTML object>"
      ]
     },
     "metadata": {},
     "output_type": "display_data"
    },
    {
     "data": {
      "text/html": [
       "Tracking run with wandb version 0.16.6"
      ],
      "text/plain": [
       "<IPython.core.display.HTML object>"
      ]
     },
     "metadata": {},
     "output_type": "display_data"
    },
    {
     "data": {
      "text/html": [
       "Run data is saved locally in <code>/home/mt/Desktop/JaneStreet-Comp/wandb/run-20250104_211937-g9ln3x8l</code>"
      ],
      "text/plain": [
       "<IPython.core.display.HTML object>"
      ]
     },
     "metadata": {},
     "output_type": "display_data"
    },
    {
     "data": {
      "text/html": [
       "Syncing run <strong><a href='https://wandb.ai/turkenm/js_catboost/runs/g9ln3x8l' target=\"_blank\">smart-sweep-11</a></strong> to <a href='https://wandb.ai/turkenm/js_catboost' target=\"_blank\">Weights & Biases</a> (<a href='https://wandb.me/run' target=\"_blank\">docs</a>)<br/>Sweep page: <a href='https://wandb.ai/turkenm/js_catboost/sweeps/zevgd9kj' target=\"_blank\">https://wandb.ai/turkenm/js_catboost/sweeps/zevgd9kj</a>"
      ],
      "text/plain": [
       "<IPython.core.display.HTML object>"
      ]
     },
     "metadata": {},
     "output_type": "display_data"
    },
    {
     "data": {
      "text/html": [
       " View project at <a href='https://wandb.ai/turkenm/js_catboost' target=\"_blank\">https://wandb.ai/turkenm/js_catboost</a>"
      ],
      "text/plain": [
       "<IPython.core.display.HTML object>"
      ]
     },
     "metadata": {},
     "output_type": "display_data"
    },
    {
     "data": {
      "text/html": [
       " View sweep at <a href='https://wandb.ai/turkenm/js_catboost/sweeps/zevgd9kj' target=\"_blank\">https://wandb.ai/turkenm/js_catboost/sweeps/zevgd9kj</a>"
      ],
      "text/plain": [
       "<IPython.core.display.HTML object>"
      ]
     },
     "metadata": {},
     "output_type": "display_data"
    },
    {
     "data": {
      "text/html": [
       " View run at <a href='https://wandb.ai/turkenm/js_catboost/runs/g9ln3x8l' target=\"_blank\">https://wandb.ai/turkenm/js_catboost/runs/g9ln3x8l</a>"
      ],
      "text/plain": [
       "<IPython.core.display.HTML object>"
      ]
     },
     "metadata": {},
     "output_type": "display_data"
    },
    {
     "name": "stderr",
     "output_type": "stream",
     "text": [
      "Default metric period is 5 because R2 is/are not implemented for GPU\n",
      "Metric R2 is not implemented on GPU. Will use CPU for metric computation, this could significantly affect learning time\n"
     ]
    },
    {
     "name": "stdout",
     "output_type": "stream",
     "text": [
      "0:\tlearn: 0.0003322\ttest: 0.0001387\tbest: 0.0001387 (0)\ttotal: 144ms\tremaining: 3m 36s\n",
      "100:\tlearn: 0.0124832\ttest: 0.0053941\tbest: 0.0053941 (100)\ttotal: 8.85s\tremaining: 2m 2s\n",
      "200:\tlearn: 0.0179682\ttest: 0.0066084\tbest: 0.0066084 (200)\ttotal: 18.2s\tremaining: 1m 57s\n",
      "300:\tlearn: 0.0228428\ttest: 0.0073966\tbest: 0.0073966 (300)\ttotal: 27.6s\tremaining: 1m 49s\n",
      "400:\tlearn: 0.0274386\ttest: 0.0077850\tbest: 0.0077850 (400)\ttotal: 36.9s\tremaining: 1m 41s\n",
      "500:\tlearn: 0.0311070\ttest: 0.0079329\tbest: 0.0079329 (500)\ttotal: 46.3s\tremaining: 1m 32s\n",
      "600:\tlearn: 0.0344258\ttest: 0.0081543\tbest: 0.0081808 (585)\ttotal: 55.6s\tremaining: 1m 23s\n",
      "700:\tlearn: 0.0372595\ttest: 0.0082524\tbest: 0.0082532 (695)\ttotal: 1m 4s\tremaining: 1m 14s\n",
      "800:\tlearn: 0.0397836\ttest: 0.0082515\tbest: 0.0082649 (705)\ttotal: 1m 14s\tremaining: 1m 4s\n",
      "900:\tlearn: 0.0421575\ttest: 0.0083955\tbest: 0.0083955 (900)\ttotal: 1m 23s\tremaining: 55.6s\n",
      "1000:\tlearn: 0.0441338\ttest: 0.0084752\tbest: 0.0084925 (995)\ttotal: 1m 33s\tremaining: 46.4s\n",
      "1100:\tlearn: 0.0462561\ttest: 0.0084692\tbest: 0.0084925 (995)\ttotal: 1m 42s\tremaining: 37.1s\n",
      "1200:\tlearn: 0.0481419\ttest: 0.0083810\tbest: 0.0084925 (995)\ttotal: 1m 51s\tremaining: 27.8s\n",
      "1300:\tlearn: 0.0500364\ttest: 0.0084345\tbest: 0.0084925 (995)\ttotal: 2m 1s\tremaining: 18.5s\n",
      "1400:\tlearn: 0.0517724\ttest: 0.0084824\tbest: 0.0084925 (995)\ttotal: 2m 10s\tremaining: 9.21s\n",
      "1499:\tlearn: 0.0534039\ttest: 0.0085147\tbest: 0.0085307 (1475)\ttotal: 2m 19s\tremaining: 0us\n",
      "bestTest = 0.008530743867\n",
      "bestIteration = 1475\n"
     ]
    },
    {
     "data": {
      "application/vnd.jupyter.widget-view+json": {
       "model_id": "20f5e3431e1147fb9e03a5a806e2cc04",
       "version_major": 2,
       "version_minor": 0
      },
      "text/plain": [
       "VBox(children=(Label(value='0.004 MB of 0.004 MB uploaded\\r'), FloatProgress(value=1.0, max=1.0)))"
      ]
     },
     "metadata": {},
     "output_type": "display_data"
    },
    {
     "data": {
      "text/html": [
       "<style>\n",
       "    table.wandb td:nth-child(1) { padding: 0 10px; text-align: left ; width: auto;} td:nth-child(2) {text-align: left ; width: 100%}\n",
       "    .wandb-row { display: flex; flex-direction: row; flex-wrap: wrap; justify-content: flex-start; width: 100% }\n",
       "    .wandb-col { display: flex; flex-direction: column; flex-basis: 100%; flex: 1; padding: 10px; }\n",
       "    </style>\n",
       "<div class=\"wandb-row\"><div class=\"wandb-col\"><h3>Run history:</h3><br/><table class=\"wandb\"><tr><td>iteration</td><td>▁▁▂▂▃▃▄▄▅▅▆▆▇▇██</td></tr><tr><td>test_r2</td><td>▁▅▆▇▇███████████</td></tr><tr><td>test_rmse</td><td>█▄▃▂▂▁▁▁▁▁▁▁▁▁▁▁</td></tr><tr><td>train_r2</td><td>▁▃▃▄▅▅▅▆▆▇▇▇▇███</td></tr><tr><td>train_rmse</td><td>█▆▆▅▄▄▄▃▃▂▂▂▂▁▁▁</td></tr></table><br/></div><div class=\"wandb-col\"><h3>Run summary:</h3><br/><table class=\"wandb\"><tr><td>iteration</td><td>1500</td></tr><tr><td>test_r2</td><td>0.00851</td></tr><tr><td>test_rmse</td><td>0.79859</td></tr><tr><td>train_r2</td><td>0.0534</td></tr><tr><td>train_rmse</td><td>0.79627</td></tr><tr><td>w_test_r2</td><td>0.00851</td></tr><tr><td>w_train_r2</td><td>0.05341</td></tr></table><br/></div></div>"
      ],
      "text/plain": [
       "<IPython.core.display.HTML object>"
      ]
     },
     "metadata": {},
     "output_type": "display_data"
    },
    {
     "data": {
      "text/html": [
       " View run <strong style=\"color:#cdcd00\">smart-sweep-11</strong> at: <a href='https://wandb.ai/turkenm/js_catboost/runs/g9ln3x8l' target=\"_blank\">https://wandb.ai/turkenm/js_catboost/runs/g9ln3x8l</a><br/> View project at: <a href='https://wandb.ai/turkenm/js_catboost' target=\"_blank\">https://wandb.ai/turkenm/js_catboost</a><br/>Synced 6 W&B file(s), 0 media file(s), 0 artifact file(s) and 1 other file(s)"
      ],
      "text/plain": [
       "<IPython.core.display.HTML object>"
      ]
     },
     "metadata": {},
     "output_type": "display_data"
    },
    {
     "data": {
      "text/html": [
       "Find logs at: <code>./wandb/run-20250104_211937-g9ln3x8l/logs</code>"
      ],
      "text/plain": [
       "<IPython.core.display.HTML object>"
      ]
     },
     "metadata": {},
     "output_type": "display_data"
    },
    {
     "name": "stderr",
     "output_type": "stream",
     "text": [
      "\u001b[34m\u001b[1mwandb\u001b[0m: Agent Starting Run: s0twatx6 with config:\n",
      "\u001b[34m\u001b[1mwandb\u001b[0m: \tborder_count: 255\n",
      "\u001b[34m\u001b[1mwandb\u001b[0m: \titerations: 1500\n",
      "\u001b[34m\u001b[1mwandb\u001b[0m: \tlearning_rate: 0.025\n",
      "\u001b[34m\u001b[1mwandb\u001b[0m: \tmax_depth: 7\n",
      "Failed to detect the name of this notebook, you can set it manually with the WANDB_NOTEBOOK_NAME environment variable to enable code saving.\n"
     ]
    },
    {
     "data": {
      "text/html": [
       "wandb version 0.19.1 is available!  To upgrade, please run:\n",
       " $ pip install wandb --upgrade"
      ],
      "text/plain": [
       "<IPython.core.display.HTML object>"
      ]
     },
     "metadata": {},
     "output_type": "display_data"
    },
    {
     "data": {
      "text/html": [
       "Tracking run with wandb version 0.16.6"
      ],
      "text/plain": [
       "<IPython.core.display.HTML object>"
      ]
     },
     "metadata": {},
     "output_type": "display_data"
    },
    {
     "data": {
      "text/html": [
       "Run data is saved locally in <code>/home/mt/Desktop/JaneStreet-Comp/wandb/run-20250104_212237-s0twatx6</code>"
      ],
      "text/plain": [
       "<IPython.core.display.HTML object>"
      ]
     },
     "metadata": {},
     "output_type": "display_data"
    },
    {
     "data": {
      "text/html": [
       "Syncing run <strong><a href='https://wandb.ai/turkenm/js_catboost/runs/s0twatx6' target=\"_blank\">toasty-sweep-12</a></strong> to <a href='https://wandb.ai/turkenm/js_catboost' target=\"_blank\">Weights & Biases</a> (<a href='https://wandb.me/run' target=\"_blank\">docs</a>)<br/>Sweep page: <a href='https://wandb.ai/turkenm/js_catboost/sweeps/zevgd9kj' target=\"_blank\">https://wandb.ai/turkenm/js_catboost/sweeps/zevgd9kj</a>"
      ],
      "text/plain": [
       "<IPython.core.display.HTML object>"
      ]
     },
     "metadata": {},
     "output_type": "display_data"
    },
    {
     "data": {
      "text/html": [
       " View project at <a href='https://wandb.ai/turkenm/js_catboost' target=\"_blank\">https://wandb.ai/turkenm/js_catboost</a>"
      ],
      "text/plain": [
       "<IPython.core.display.HTML object>"
      ]
     },
     "metadata": {},
     "output_type": "display_data"
    },
    {
     "data": {
      "text/html": [
       " View sweep at <a href='https://wandb.ai/turkenm/js_catboost/sweeps/zevgd9kj' target=\"_blank\">https://wandb.ai/turkenm/js_catboost/sweeps/zevgd9kj</a>"
      ],
      "text/plain": [
       "<IPython.core.display.HTML object>"
      ]
     },
     "metadata": {},
     "output_type": "display_data"
    },
    {
     "data": {
      "text/html": [
       " View run at <a href='https://wandb.ai/turkenm/js_catboost/runs/s0twatx6' target=\"_blank\">https://wandb.ai/turkenm/js_catboost/runs/s0twatx6</a>"
      ],
      "text/plain": [
       "<IPython.core.display.HTML object>"
      ]
     },
     "metadata": {},
     "output_type": "display_data"
    },
    {
     "name": "stderr",
     "output_type": "stream",
     "text": [
      "Default metric period is 5 because R2 is/are not implemented for GPU\n",
      "Metric R2 is not implemented on GPU. Will use CPU for metric computation, this could significantly affect learning time\n"
     ]
    },
    {
     "name": "stdout",
     "output_type": "stream",
     "text": [
      "0:\tlearn: 0.0003805\ttest: 0.0001609\tbest: 0.0001609 (0)\ttotal: 157ms\tremaining: 3m 55s\n",
      "100:\tlearn: 0.0144187\ttest: 0.0057204\tbest: 0.0057204 (100)\ttotal: 9.99s\tremaining: 2m 18s\n",
      "200:\tlearn: 0.0212640\ttest: 0.0070248\tbest: 0.0070248 (200)\ttotal: 20.7s\tremaining: 2m 13s\n",
      "300:\tlearn: 0.0272199\ttest: 0.0076743\tbest: 0.0076743 (300)\ttotal: 31.3s\tremaining: 2m 4s\n",
      "400:\tlearn: 0.0323261\ttest: 0.0080597\tbest: 0.0080597 (400)\ttotal: 41.8s\tremaining: 1m 54s\n",
      "500:\tlearn: 0.0367515\ttest: 0.0082351\tbest: 0.0082351 (500)\ttotal: 52.4s\tremaining: 1m 44s\n",
      "600:\tlearn: 0.0406881\ttest: 0.0084805\tbest: 0.0084805 (600)\ttotal: 1m 3s\tremaining: 1m 34s\n",
      "700:\tlearn: 0.0441504\ttest: 0.0085459\tbest: 0.0085459 (700)\ttotal: 1m 13s\tremaining: 1m 24s\n",
      "800:\tlearn: 0.0471817\ttest: 0.0085452\tbest: 0.0085592 (705)\ttotal: 1m 24s\tremaining: 1m 13s\n",
      "900:\tlearn: 0.0502010\ttest: 0.0086532\tbest: 0.0086532 (900)\ttotal: 1m 34s\tremaining: 1m 3s\n",
      "1000:\tlearn: 0.0528521\ttest: 0.0087085\tbest: 0.0087085 (1000)\ttotal: 1m 45s\tremaining: 52.6s\n",
      "1100:\tlearn: 0.0553774\ttest: 0.0087517\tbest: 0.0087520 (1080)\ttotal: 1m 56s\tremaining: 42.1s\n",
      "1200:\tlearn: 0.0578478\ttest: 0.0087902\tbest: 0.0087902 (1200)\ttotal: 2m 6s\tremaining: 31.5s\n",
      "1300:\tlearn: 0.0602236\ttest: 0.0088961\tbest: 0.0088961 (1300)\ttotal: 2m 17s\tremaining: 21s\n",
      "1400:\tlearn: 0.0626007\ttest: 0.0089614\tbest: 0.0089614 (1400)\ttotal: 2m 28s\tremaining: 10.5s\n",
      "1499:\tlearn: 0.0647952\ttest: 0.0090029\tbest: 0.0090029 (1499)\ttotal: 2m 38s\tremaining: 0us\n",
      "bestTest = 0.00900285688\n",
      "bestIteration = 1499\n"
     ]
    },
    {
     "data": {
      "application/vnd.jupyter.widget-view+json": {
       "model_id": "68cf8723f00d43d79af94db3d1040dcf",
       "version_major": 2,
       "version_minor": 0
      },
      "text/plain": [
       "VBox(children=(Label(value='0.004 MB of 0.004 MB uploaded\\r'), FloatProgress(value=1.0, max=1.0)))"
      ]
     },
     "metadata": {},
     "output_type": "display_data"
    },
    {
     "data": {
      "text/html": [
       "<style>\n",
       "    table.wandb td:nth-child(1) { padding: 0 10px; text-align: left ; width: auto;} td:nth-child(2) {text-align: left ; width: 100%}\n",
       "    .wandb-row { display: flex; flex-direction: row; flex-wrap: wrap; justify-content: flex-start; width: 100% }\n",
       "    .wandb-col { display: flex; flex-direction: column; flex-basis: 100%; flex: 1; padding: 10px; }\n",
       "    </style>\n",
       "<div class=\"wandb-row\"><div class=\"wandb-col\"><h3>Run history:</h3><br/><table class=\"wandb\"><tr><td>iteration</td><td>▁▁▂▂▃▃▄▄▅▅▆▆▇▇██</td></tr><tr><td>test_r2</td><td>▁▅▆▇▇▇██████████</td></tr><tr><td>test_rmse</td><td>█▄▃▂▂▂▁▁▁▁▁▁▁▁▁▁</td></tr><tr><td>train_r2</td><td>▁▃▃▄▄▅▅▆▆▆▇▇▇███</td></tr><tr><td>train_rmse</td><td>█▆▆▅▅▄▄▃▃▃▂▂▂▂▁▁</td></tr></table><br/></div><div class=\"wandb-col\"><h3>Run summary:</h3><br/><table class=\"wandb\"><tr><td>iteration</td><td>1500</td></tr><tr><td>test_r2</td><td>0.009</td></tr><tr><td>test_rmse</td><td>0.7984</td></tr><tr><td>train_r2</td><td>0.0648</td></tr><tr><td>train_rmse</td><td>0.79147</td></tr><tr><td>w_test_r2</td><td>0.009</td></tr><tr><td>w_train_r2</td><td>0.0648</td></tr></table><br/></div></div>"
      ],
      "text/plain": [
       "<IPython.core.display.HTML object>"
      ]
     },
     "metadata": {},
     "output_type": "display_data"
    },
    {
     "data": {
      "text/html": [
       " View run <strong style=\"color:#cdcd00\">toasty-sweep-12</strong> at: <a href='https://wandb.ai/turkenm/js_catboost/runs/s0twatx6' target=\"_blank\">https://wandb.ai/turkenm/js_catboost/runs/s0twatx6</a><br/> View project at: <a href='https://wandb.ai/turkenm/js_catboost' target=\"_blank\">https://wandb.ai/turkenm/js_catboost</a><br/>Synced 6 W&B file(s), 0 media file(s), 0 artifact file(s) and 1 other file(s)"
      ],
      "text/plain": [
       "<IPython.core.display.HTML object>"
      ]
     },
     "metadata": {},
     "output_type": "display_data"
    },
    {
     "data": {
      "text/html": [
       "Find logs at: <code>./wandb/run-20250104_212237-s0twatx6/logs</code>"
      ],
      "text/plain": [
       "<IPython.core.display.HTML object>"
      ]
     },
     "metadata": {},
     "output_type": "display_data"
    },
    {
     "name": "stderr",
     "output_type": "stream",
     "text": [
      "\u001b[34m\u001b[1mwandb\u001b[0m: Sweep Agent: Waiting for job.\n",
      "\u001b[34m\u001b[1mwandb\u001b[0m: Sweep Agent: Exiting.\n"
     ]
    }
   ],
   "source": [
    "wandb.agent(sweep_id, function=train)"
   ]
  },
  {
   "cell_type": "markdown",
   "metadata": {},
   "source": [
    "# CB Inference Training"
   ]
  },
  {
   "cell_type": "code",
   "execution_count": 18,
   "metadata": {},
   "outputs": [],
   "source": [
    "api = wandb.Api()\n",
    "\n",
    "run = api.run(\"turkenm/js_catboost/6evp7lfh\")\n",
    "\n",
    "config = run.config\n",
    "cb_feature_cols = config[\"feature_cols\"]"
   ]
  },
  {
   "cell_type": "code",
   "execution_count": 26,
   "metadata": {},
   "outputs": [
    {
     "data": {
      "text/plain": [
       "122"
      ]
     },
     "execution_count": 26,
     "metadata": {},
     "output_type": "execute_result"
    }
   ],
   "source": [
    "cb_version = \"v18\"\n",
    "joblib.dump(feature_cols, f\"model_cols/cb_{cb_version}_model_cols.pkl\")\n",
    "len(feature_cols)"
   ]
  },
  {
   "cell_type": "code",
   "execution_count": 19,
   "metadata": {},
   "outputs": [
    {
     "data": {
      "text/plain": [
       "122"
      ]
     },
     "execution_count": 19,
     "metadata": {},
     "output_type": "execute_result"
    }
   ],
   "source": [
    "len(cb_feature_cols)"
   ]
  },
  {
   "cell_type": "code",
   "execution_count": 20,
   "metadata": {},
   "outputs": [
    {
     "name": "stderr",
     "output_type": "stream",
     "text": [
      "Failed to detect the name of this notebook, you can set it manually with the WANDB_NOTEBOOK_NAME environment variable to enable code saving.\n",
      "\u001b[34m\u001b[1mwandb\u001b[0m: Currently logged in as: \u001b[33mturkenm\u001b[0m. Use \u001b[1m`wandb login --relogin`\u001b[0m to force relogin\n"
     ]
    },
    {
     "data": {
      "text/html": [
       "wandb version 0.19.1 is available!  To upgrade, please run:\n",
       " $ pip install wandb --upgrade"
      ],
      "text/plain": [
       "<IPython.core.display.HTML object>"
      ]
     },
     "metadata": {},
     "output_type": "display_data"
    },
    {
     "data": {
      "text/html": [
       "Tracking run with wandb version 0.16.6"
      ],
      "text/plain": [
       "<IPython.core.display.HTML object>"
      ]
     },
     "metadata": {},
     "output_type": "display_data"
    },
    {
     "data": {
      "text/html": [
       "Run data is saved locally in <code>/home/mt/Desktop/JaneStreet-Comp/wandb/run-20250107_030914-2ss1fdwm</code>"
      ],
      "text/plain": [
       "<IPython.core.display.HTML object>"
      ]
     },
     "metadata": {},
     "output_type": "display_data"
    },
    {
     "data": {
      "text/html": [
       "Syncing run <strong><a href='https://wandb.ai/turkenm/js_catboost/runs/2ss1fdwm' target=\"_blank\">cb_run_8549</a></strong> to <a href='https://wandb.ai/turkenm/js_catboost' target=\"_blank\">Weights & Biases</a> (<a href='https://wandb.me/run' target=\"_blank\">docs</a>)<br/>"
      ],
      "text/plain": [
       "<IPython.core.display.HTML object>"
      ]
     },
     "metadata": {},
     "output_type": "display_data"
    },
    {
     "data": {
      "text/html": [
       " View project at <a href='https://wandb.ai/turkenm/js_catboost' target=\"_blank\">https://wandb.ai/turkenm/js_catboost</a>"
      ],
      "text/plain": [
       "<IPython.core.display.HTML object>"
      ]
     },
     "metadata": {},
     "output_type": "display_data"
    },
    {
     "data": {
      "text/html": [
       " View run at <a href='https://wandb.ai/turkenm/js_catboost/runs/2ss1fdwm' target=\"_blank\">https://wandb.ai/turkenm/js_catboost/runs/2ss1fdwm</a>"
      ],
      "text/plain": [
       "<IPython.core.display.HTML object>"
      ]
     },
     "metadata": {},
     "output_type": "display_data"
    },
    {
     "name": "stderr",
     "output_type": "stream",
     "text": [
      "Default metric period is 5 because R2 is/are not implemented for GPU\n",
      "Metric R2 is not implemented on GPU. Will use CPU for metric computation, this could significantly affect learning time\n"
     ]
    },
    {
     "name": "stdout",
     "output_type": "stream",
     "text": [
      "0:\tlearn: 0.0001184\ttotal: 346ms\tremaining: 20m 10s\n",
      "100:\tlearn: 0.0061118\ttotal: 16.6s\tremaining: 9m 19s\n",
      "200:\tlearn: 0.0085705\ttotal: 33.8s\tremaining: 9m 15s\n",
      "300:\tlearn: 0.0104072\ttotal: 51.9s\tremaining: 9m 11s\n",
      "400:\tlearn: 0.0118879\ttotal: 1m 9s\tremaining: 8m 57s\n",
      "500:\tlearn: 0.0131861\ttotal: 1m 28s\tremaining: 8m 47s\n",
      "600:\tlearn: 0.0144383\ttotal: 1m 46s\tremaining: 8m 34s\n",
      "700:\tlearn: 0.0156167\ttotal: 2m 5s\tremaining: 8m 20s\n",
      "800:\tlearn: 0.0166911\ttotal: 2m 23s\tremaining: 8m 4s\n",
      "900:\tlearn: 0.0178537\ttotal: 2m 41s\tremaining: 7m 46s\n",
      "1000:\tlearn: 0.0189673\ttotal: 3m\tremaining: 7m 30s\n",
      "1100:\tlearn: 0.0200166\ttotal: 3m 18s\tremaining: 7m 12s\n",
      "1200:\tlearn: 0.0210992\ttotal: 3m 36s\tremaining: 6m 55s\n",
      "1300:\tlearn: 0.0220069\ttotal: 3m 55s\tremaining: 6m 37s\n",
      "1400:\tlearn: 0.0229765\ttotal: 4m 13s\tremaining: 6m 19s\n",
      "1500:\tlearn: 0.0239747\ttotal: 4m 31s\tremaining: 6m 2s\n",
      "1600:\tlearn: 0.0249125\ttotal: 4m 50s\tremaining: 5m 44s\n",
      "1700:\tlearn: 0.0257455\ttotal: 5m 8s\tremaining: 5m 26s\n",
      "1800:\tlearn: 0.0266035\ttotal: 5m 27s\tremaining: 5m 8s\n",
      "1900:\tlearn: 0.0274838\ttotal: 5m 45s\tremaining: 4m 50s\n",
      "2000:\tlearn: 0.0283043\ttotal: 6m 3s\tremaining: 4m 32s\n",
      "2100:\tlearn: 0.0290771\ttotal: 6m 21s\tremaining: 4m 13s\n",
      "2200:\tlearn: 0.0297772\ttotal: 6m 39s\tremaining: 3m 55s\n",
      "2300:\tlearn: 0.0304600\ttotal: 6m 58s\tremaining: 3m 38s\n",
      "2400:\tlearn: 0.0311424\ttotal: 7m 16s\tremaining: 3m 19s\n",
      "2500:\tlearn: 0.0318039\ttotal: 7m 34s\tremaining: 3m 1s\n",
      "2600:\tlearn: 0.0324763\ttotal: 7m 53s\tremaining: 2m 43s\n",
      "2700:\tlearn: 0.0331651\ttotal: 8m 11s\tremaining: 2m 25s\n",
      "2800:\tlearn: 0.0337878\ttotal: 8m 29s\tremaining: 2m 7s\n",
      "2900:\tlearn: 0.0343264\ttotal: 8m 48s\tremaining: 1m 49s\n",
      "3000:\tlearn: 0.0348953\ttotal: 9m 6s\tremaining: 1m 30s\n",
      "3100:\tlearn: 0.0354081\ttotal: 9m 24s\tremaining: 1m 12s\n",
      "3200:\tlearn: 0.0359576\ttotal: 9m 42s\tremaining: 54.4s\n",
      "3300:\tlearn: 0.0364749\ttotal: 10m\tremaining: 36.2s\n",
      "3400:\tlearn: 0.0369915\ttotal: 10m 19s\tremaining: 18s\n",
      "3499:\tlearn: 0.0374772\ttotal: 10m 37s\tremaining: 0us\n"
     ]
    },
    {
     "data": {
      "application/vnd.jupyter.widget-view+json": {
       "model_id": "6643199f1ab44dc98ecb99fb31b01309",
       "version_major": 2,
       "version_minor": 0
      },
      "text/plain": [
       "VBox(children=(Label(value='0.004 MB of 0.004 MB uploaded\\r'), FloatProgress(value=1.0, max=1.0)))"
      ]
     },
     "metadata": {},
     "output_type": "display_data"
    },
    {
     "data": {
      "text/html": [
       "<style>\n",
       "    table.wandb td:nth-child(1) { padding: 0 10px; text-align: left ; width: auto;} td:nth-child(2) {text-align: left ; width: 100%}\n",
       "    .wandb-row { display: flex; flex-direction: row; flex-wrap: wrap; justify-content: flex-start; width: 100% }\n",
       "    .wandb-col { display: flex; flex-direction: column; flex-basis: 100%; flex: 1; padding: 10px; }\n",
       "    </style>\n",
       "<div class=\"wandb-row\"><div class=\"wandb-col\"><h3>Run history:</h3><br/><table class=\"wandb\"><tr><td>iteration</td><td>▁▁▁▂▂▂▂▂▃▃▃▃▃▄▄▄▄▄▅▅▅▅▅▆▆▆▆▆▇▇▇▇▇███</td></tr><tr><td>train_r2</td><td>▁▂▃▃▃▃▄▄▄▄▅▅▅▅▅▅▆▆▆▆▆▆▇▇▇▇▇▇▇▇██████</td></tr><tr><td>train_rmse</td><td>█▇▆▆▆▆▅▅▅▅▄▄▄▄▄▄▃▃▃▃▃▃▂▂▂▂▂▂▂▂▁▁▁▁▁▁</td></tr></table><br/></div><div class=\"wandb-col\"><h3>Run summary:</h3><br/><table class=\"wandb\"><tr><td>iteration</td><td>3500</td></tr><tr><td>train_r2</td><td>0.03748</td></tr><tr><td>train_rmse</td><td>0.80743</td></tr><tr><td>w_train_r2</td><td>0.03748</td></tr></table><br/></div></div>"
      ],
      "text/plain": [
       "<IPython.core.display.HTML object>"
      ]
     },
     "metadata": {},
     "output_type": "display_data"
    },
    {
     "data": {
      "text/html": [
       " View run <strong style=\"color:#cdcd00\">cb_run_8549</strong> at: <a href='https://wandb.ai/turkenm/js_catboost/runs/2ss1fdwm' target=\"_blank\">https://wandb.ai/turkenm/js_catboost/runs/2ss1fdwm</a><br/> View project at: <a href='https://wandb.ai/turkenm/js_catboost' target=\"_blank\">https://wandb.ai/turkenm/js_catboost</a><br/>Synced 6 W&B file(s), 0 media file(s), 0 artifact file(s) and 1 other file(s)"
      ],
      "text/plain": [
       "<IPython.core.display.HTML object>"
      ]
     },
     "metadata": {},
     "output_type": "display_data"
    },
    {
     "data": {
      "text/html": [
       "Find logs at: <code>./wandb/run-20250107_030914-2ss1fdwm/logs</code>"
      ],
      "text/plain": [
       "<IPython.core.display.HTML object>"
      ]
     },
     "metadata": {},
     "output_type": "display_data"
    },
    {
     "name": "stdout",
     "output_type": "stream",
     "text": [
      "CPU times: user 22min 36s, sys: 1min 29s, total: 24min 6s\n",
      "Wall time: 11min 57s\n"
     ]
    }
   ],
   "source": [
    "%%time\n",
    "cb_version = \"v20\"\n",
    "short_id = int(time.time()) % 100_000\n",
    "cb_params = {\"random_seed\" : 16,\n",
    "            \"iterations\" : 1_500,\n",
    "            \"task_type\" : \"GPU\",\n",
    "            \"objective\" : \"RMSE\",\n",
    "            \"eval_metric\" : \"R2\", \n",
    "            \"cat_features\" : [\"symbol_id\", \"feature_09\",\"feature_10\",\"feature_11\"],\n",
    "            \"use_best_model\" : False,\n",
    "            \"learning_rate\" : 0.01,\n",
    "            \"gpu_ram_part\" : 0.9,\n",
    "            \"one_hot_max_size\" : 64,\n",
    "            \"border_count\" : 128,\n",
    "            \"max_depth\" : 6}\n",
    "\n",
    "exp_name = f\"cb_run_{short_id}\"\n",
    "\n",
    "inference_data = Pool(train_df[cb_feature_cols], train_df[\"responder_6\"], weight = train_df[\"weight\"], cat_features = [\"symbol_id\", \"feature_09\",\"feature_10\",\"feature_11\"])\n",
    "cb_model_inference = CatBoostRegressor(**cb_params)\n",
    "\n",
    "wandb.init(\n",
    "    project=\"js_catboost\",\n",
    "    name=exp_name,\n",
    "    tags = [\"inference\", f\"cb_{cb_version}\"],\n",
    "    config={\n",
    "        \"max_depth\" : cb_params[\"max_depth\"],\n",
    "        \"random_seed\": cb_params[\"random_seed\"],\n",
    "        \"iterations\": cb_params[\"iterations\"],\n",
    "        \"objective\": cb_params[\"objective\"],\n",
    "        \"one_hot_max_size\" : cb_params[\"one_hot_max_size\"],\n",
    "        \"learning_rate\" : cb_params[\"learning_rate\"],\n",
    "        \"border_count\" : cb_params[\"border_count\"],\n",
    "        \"cat_features\" : cb_params[\"cat_features\"],\n",
    "        \"feature_cols\" : inference_data.get_feature_names(),\n",
    "    },\n",
    ")\n",
    "wandb.run.notes = \"new features, inference\"\n",
    "\n",
    "cb_model_inference.fit(inference_data, verbose = 100)\n",
    "\n",
    "y_pred_cb = np.clip(cb_model_inference.predict(inference_data), -5, 5)\n",
    "\n",
    "r_score_train = r2_score(inference_data.get_label(), y_pred_cb, sample_weight = inference_data.get_weight())\n",
    "\n",
    "wandb.run.summary[\"w_train_r2\"] = r_score_train\n",
    "\n",
    "eval_metrics_train = cb_model_inference.eval_metrics(inference_data, metrics = [\"R2\", \"RMSE\"], eval_period = 100, thread_count = 16)\n",
    "\n",
    "\n",
    "for iteration in range(len(eval_metrics_train['R2'])): \n",
    "    metrics_to_log = {\n",
    "        \"iteration\": (iteration) * 100,\n",
    "        \"train_r2\": eval_metrics_train['R2'][iteration],\n",
    "        \"train_rmse\": eval_metrics_train['RMSE'][iteration],\n",
    "    }\n",
    "    \n",
    "    wandb.log(metrics_to_log)\n",
    "\n",
    "cb_model_inference.save_model(os.path.join(wandb.run.dir, f\"cb_{short_id}.cbm\"))\n",
    "cb_model_inference.save_model(f\"cb_model_results/cb_{cb_version}.cbm\")\n",
    "joblib.dump(cb_feature_cols, f\"model_cols/cb_{cb_version}_model_cols.pkl\")\n",
    "wandb.finish()"
   ]
  }
 ],
 "metadata": {
  "kernelspec": {
   "display_name": "tabm",
   "language": "python",
   "name": "python3"
  },
  "language_info": {
   "codemirror_mode": {
    "name": "ipython",
    "version": 3
   },
   "file_extension": ".py",
   "mimetype": "text/x-python",
   "name": "python",
   "nbconvert_exporter": "python",
   "pygments_lexer": "ipython3",
   "version": "3.10.12"
  }
 },
 "nbformat": 4,
 "nbformat_minor": 2
}
